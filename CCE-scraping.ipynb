{
 "cells": [
  {
   "cell_type": "code",
   "execution_count": null,
   "id": "80cdf878",
   "metadata": {},
   "outputs": [],
   "source": [
    "!pip install selenium\n",
    "!pip install webdriver_manager"
   ]
  },
  {
   "cell_type": "markdown",
   "id": "b7726f61",
   "metadata": {},
   "source": [
    "# Webscraping for apartment addresses \n",
    "In this file we used build in function Selenium in python to inspect and collect contact infomation (including phone number, email addresses, apartment names) based on a list of physical addresses.\n",
    "\n",
    "Selenium is an open-source web-based automation tool. The Python APIs empower us to connect with the browser through Selenium.\n",
    "\n",
    "The main purpose is by collecting contact infomation, we will be able to connect with people who run the apartments and thus share with them our County heat pump project.\n",
    "\n",
    "#### We tried to scraped info from different websites. Two main websites here is Apartments.com and Google.com.\n",
    "\n"
   ]
  },
  {
   "cell_type": "code",
   "execution_count": 2,
   "id": "93a109fa",
   "metadata": {},
   "outputs": [],
   "source": [
    "from selenium import webdriver\n",
    "from selenium.webdriver.common.action_chains import ActionChains\n",
    "from bs4 import BeautifulSoup\n",
    "import requests\n",
    "from selenium.webdriver.common.by import By\n",
    "from selenium.webdriver.support.ui import WebDriverWait\n",
    "from selenium.webdriver.support import expected_conditions as EC\n",
    "from webdriver_manager.chrome import ChromeDriverManager\n",
    "from selenium.webdriver.common.keys import Keys\n",
    "import time\n",
    "from tqdm import tqdm\n",
    "import pandas as pd\n",
    "from selenium.common.exceptions import NoSuchElementException\n",
    "from selenium.common.exceptions import StaleElementReferenceException\n",
    "from pathlib import Path"
   ]
  },
  {
   "cell_type": "markdown",
   "id": "8a3bc615",
   "metadata": {},
   "source": [
    " ## Scraping Apartments.com test codes\n",
    " Below are test examples to scrape from apartments.com"
   ]
  },
  {
   "cell_type": "code",
   "execution_count": 11,
   "id": "708794dc",
   "metadata": {},
   "outputs": [
    {
     "name": "stderr",
     "output_type": "stream",
     "text": [
      "\n",
      "\n",
      "====== WebDriver manager ======\n",
      "Current google-chrome version is 98.0.4758\n",
      "Get LATEST chromedriver version for 98.0.4758 google-chrome\n",
      "Driver [/Users/anqibu/.wdm/drivers/chromedriver/mac64/98.0.4758.102/chromedriver] found in cache\n"
     ]
    },
    {
     "name": "stdout",
     "output_type": "stream",
     "text": [
      "(844) 263-6429\n",
      "https://www.alpinewoodsapts.com/\n"
     ]
    }
   ],
   "source": [
    "link = 'https://www.apartments.com/san-diego-county-ca/?bb=497_3ulzmNpo5z80md'\n",
    "#connect chrome driver\n",
    "driver = webdriver.Chrome(ChromeDriverManager().install())\n",
    "driver.implicitly_wait(.5)#wait 0.5 seconds for the driver to load\n",
    "driver.get(link)\n",
    "time.sleep(.5)#wait 0.5 seconds\n",
    "\n",
    "#inspect the web elements and find search bar location;\n",
    "i = driver.find_element_by_xpath('//*[@id=\"searchBarLookup\"]')\n",
    "i.send_keys('91901')\n",
    "i.send_keys(Keys.RETURN)\n",
    "#find the list of apartments in the web element\n",
    "#aprts = driver.find_elements_by_xpath('//*[@id=\"placardContainer\"]/ul/li')\n",
    "\n",
    "\n",
    "#for aprt in aprts:\n",
    "    #print(aprt)\n",
    "    \n",
    "#try to print out the first element of apartments in the list    \n",
    "try:\n",
    "    phone = driver.find_element_by_xpath('//*[@id=\"officeHoursSection\"]/div/div/div[1]/div[1]/a/span').text\n",
    "    web = driver.find_element_by_xpath('//*[@id=\"officeHoursSection\"]/div/div/div[1]/div[2]/a').get_attribute('href')\n",
    "except:\n",
    "    time.sleep(1)\n",
    "    phone = driver.find_element_by_xpath('//*[@id=\"officeHoursSection\"]/div/div/div[1]/div[1]/a/span').text\n",
    "    web = driver.find_element_by_xpath('//*[@id=\"officeHoursSection\"]/div/div/div[1]/div[2]/a').get_attribute('href')\n",
    "print(phone)\n",
    "print(web)\n",
    "driver.close()"
   ]
  },
  {
   "cell_type": "code",
   "execution_count": 120,
   "id": "9a435693",
   "metadata": {},
   "outputs": [
    {
     "name": "stderr",
     "output_type": "stream",
     "text": [
      "\n",
      "\n",
      "====== WebDriver manager ======\n",
      "Current google-chrome version is 99.0.4844\n",
      "Get LATEST chromedriver version for 99.0.4844 google-chrome\n",
      "Driver [/Users/anqibu/.wdm/drivers/chromedriver/mac64/99.0.4844.51/chromedriver] found in cache\n"
     ]
    },
    {
     "ename": "StaleElementReferenceException",
     "evalue": "Message: stale element reference: element is not attached to the page document\n  (Session info: chrome=99.0.4844.74)\n",
     "output_type": "error",
     "traceback": [
      "\u001b[0;31m---------------------------------------------------------------------------\u001b[0m",
      "\u001b[0;31mStaleElementReferenceException\u001b[0m            Traceback (most recent call last)",
      "\u001b[0;32m/var/folders/96/pgql1xtn6zb7ym6v30njhs9m0000gn/T/ipykernel_19973/1776078694.py\u001b[0m in \u001b[0;36m<module>\u001b[0;34m\u001b[0m\n\u001b[1;32m     20\u001b[0m \u001b[0;32mfor\u001b[0m \u001b[0maprt\u001b[0m \u001b[0;32min\u001b[0m \u001b[0maprts\u001b[0m\u001b[0;34m:\u001b[0m\u001b[0;34m\u001b[0m\u001b[0;34m\u001b[0m\u001b[0m\n\u001b[1;32m     21\u001b[0m     \u001b[0mtime\u001b[0m\u001b[0;34m.\u001b[0m\u001b[0msleep\u001b[0m\u001b[0;34m(\u001b[0m\u001b[0;36m3\u001b[0m\u001b[0;34m)\u001b[0m\u001b[0;34m\u001b[0m\u001b[0;34m\u001b[0m\u001b[0m\n\u001b[0;32m---> 22\u001b[0;31m     \u001b[0mprint\u001b[0m\u001b[0;34m(\u001b[0m\u001b[0maprt\u001b[0m\u001b[0;34m.\u001b[0m\u001b[0mfind_element_by_class_name\u001b[0m\u001b[0;34m(\u001b[0m\u001b[0;34m'property-link'\u001b[0m\u001b[0;34m)\u001b[0m\u001b[0;34m.\u001b[0m\u001b[0mget_attribute\u001b[0m\u001b[0;34m(\u001b[0m\u001b[0;34m'href'\u001b[0m\u001b[0;34m)\u001b[0m\u001b[0;34m)\u001b[0m\u001b[0;34m\u001b[0m\u001b[0;34m\u001b[0m\u001b[0m\n\u001b[0m\u001b[1;32m     23\u001b[0m     \u001b[0;32mtry\u001b[0m\u001b[0;34m:\u001b[0m\u001b[0;34m\u001b[0m\u001b[0;34m\u001b[0m\u001b[0m\n\u001b[1;32m     24\u001b[0m         \u001b[0mlink2\u001b[0m \u001b[0;34m=\u001b[0m \u001b[0maprt\u001b[0m\u001b[0;34m.\u001b[0m\u001b[0mfind_element_by_class_name\u001b[0m\u001b[0;34m(\u001b[0m\u001b[0;34m'property-link'\u001b[0m\u001b[0;34m)\u001b[0m\u001b[0;34m\u001b[0m\u001b[0;34m\u001b[0m\u001b[0m\n",
      "\u001b[0;32m/opt/anaconda3/lib/python3.8/site-packages/selenium/webdriver/remote/webelement.py\u001b[0m in \u001b[0;36mfind_element_by_class_name\u001b[0;34m(self, name)\u001b[0m\n\u001b[1;32m    396\u001b[0m             \u001b[0melement\u001b[0m \u001b[0;34m=\u001b[0m \u001b[0melement\u001b[0m\u001b[0;34m.\u001b[0m\u001b[0mfind_element_by_class_name\u001b[0m\u001b[0;34m(\u001b[0m\u001b[0;34m'foo'\u001b[0m\u001b[0;34m)\u001b[0m\u001b[0;34m\u001b[0m\u001b[0;34m\u001b[0m\u001b[0m\n\u001b[1;32m    397\u001b[0m         \"\"\"\n\u001b[0;32m--> 398\u001b[0;31m         \u001b[0;32mreturn\u001b[0m \u001b[0mself\u001b[0m\u001b[0;34m.\u001b[0m\u001b[0mfind_element\u001b[0m\u001b[0;34m(\u001b[0m\u001b[0mby\u001b[0m\u001b[0;34m=\u001b[0m\u001b[0mBy\u001b[0m\u001b[0;34m.\u001b[0m\u001b[0mCLASS_NAME\u001b[0m\u001b[0;34m,\u001b[0m \u001b[0mvalue\u001b[0m\u001b[0;34m=\u001b[0m\u001b[0mname\u001b[0m\u001b[0;34m)\u001b[0m\u001b[0;34m\u001b[0m\u001b[0;34m\u001b[0m\u001b[0m\n\u001b[0m\u001b[1;32m    399\u001b[0m \u001b[0;34m\u001b[0m\u001b[0m\n\u001b[1;32m    400\u001b[0m     \u001b[0;32mdef\u001b[0m \u001b[0mfind_elements_by_class_name\u001b[0m\u001b[0;34m(\u001b[0m\u001b[0mself\u001b[0m\u001b[0;34m,\u001b[0m \u001b[0mname\u001b[0m\u001b[0;34m)\u001b[0m\u001b[0;34m:\u001b[0m\u001b[0;34m\u001b[0m\u001b[0;34m\u001b[0m\u001b[0m\n",
      "\u001b[0;32m/opt/anaconda3/lib/python3.8/site-packages/selenium/webdriver/remote/webelement.py\u001b[0m in \u001b[0;36mfind_element\u001b[0;34m(self, by, value)\u001b[0m\n\u001b[1;32m    656\u001b[0m                 \u001b[0mvalue\u001b[0m \u001b[0;34m=\u001b[0m \u001b[0;34m'[name=\"%s\"]'\u001b[0m \u001b[0;34m%\u001b[0m \u001b[0mvalue\u001b[0m\u001b[0;34m\u001b[0m\u001b[0;34m\u001b[0m\u001b[0m\n\u001b[1;32m    657\u001b[0m \u001b[0;34m\u001b[0m\u001b[0m\n\u001b[0;32m--> 658\u001b[0;31m         return self._execute(Command.FIND_CHILD_ELEMENT,\n\u001b[0m\u001b[1;32m    659\u001b[0m                              {\"using\": by, \"value\": value})['value']\n\u001b[1;32m    660\u001b[0m \u001b[0;34m\u001b[0m\u001b[0m\n",
      "\u001b[0;32m/opt/anaconda3/lib/python3.8/site-packages/selenium/webdriver/remote/webelement.py\u001b[0m in \u001b[0;36m_execute\u001b[0;34m(self, command, params)\u001b[0m\n\u001b[1;32m    631\u001b[0m             \u001b[0mparams\u001b[0m \u001b[0;34m=\u001b[0m \u001b[0;34m{\u001b[0m\u001b[0;34m}\u001b[0m\u001b[0;34m\u001b[0m\u001b[0;34m\u001b[0m\u001b[0m\n\u001b[1;32m    632\u001b[0m         \u001b[0mparams\u001b[0m\u001b[0;34m[\u001b[0m\u001b[0;34m'id'\u001b[0m\u001b[0;34m]\u001b[0m \u001b[0;34m=\u001b[0m \u001b[0mself\u001b[0m\u001b[0;34m.\u001b[0m\u001b[0m_id\u001b[0m\u001b[0;34m\u001b[0m\u001b[0;34m\u001b[0m\u001b[0m\n\u001b[0;32m--> 633\u001b[0;31m         \u001b[0;32mreturn\u001b[0m \u001b[0mself\u001b[0m\u001b[0;34m.\u001b[0m\u001b[0m_parent\u001b[0m\u001b[0;34m.\u001b[0m\u001b[0mexecute\u001b[0m\u001b[0;34m(\u001b[0m\u001b[0mcommand\u001b[0m\u001b[0;34m,\u001b[0m \u001b[0mparams\u001b[0m\u001b[0;34m)\u001b[0m\u001b[0;34m\u001b[0m\u001b[0;34m\u001b[0m\u001b[0m\n\u001b[0m\u001b[1;32m    634\u001b[0m \u001b[0;34m\u001b[0m\u001b[0m\n\u001b[1;32m    635\u001b[0m     \u001b[0;32mdef\u001b[0m \u001b[0mfind_element\u001b[0m\u001b[0;34m(\u001b[0m\u001b[0mself\u001b[0m\u001b[0;34m,\u001b[0m \u001b[0mby\u001b[0m\u001b[0;34m=\u001b[0m\u001b[0mBy\u001b[0m\u001b[0;34m.\u001b[0m\u001b[0mID\u001b[0m\u001b[0;34m,\u001b[0m \u001b[0mvalue\u001b[0m\u001b[0;34m=\u001b[0m\u001b[0;32mNone\u001b[0m\u001b[0;34m)\u001b[0m\u001b[0;34m:\u001b[0m\u001b[0;34m\u001b[0m\u001b[0;34m\u001b[0m\u001b[0m\n",
      "\u001b[0;32m/opt/anaconda3/lib/python3.8/site-packages/selenium/webdriver/remote/webdriver.py\u001b[0m in \u001b[0;36mexecute\u001b[0;34m(self, driver_command, params)\u001b[0m\n\u001b[1;32m    319\u001b[0m         \u001b[0mresponse\u001b[0m \u001b[0;34m=\u001b[0m \u001b[0mself\u001b[0m\u001b[0;34m.\u001b[0m\u001b[0mcommand_executor\u001b[0m\u001b[0;34m.\u001b[0m\u001b[0mexecute\u001b[0m\u001b[0;34m(\u001b[0m\u001b[0mdriver_command\u001b[0m\u001b[0;34m,\u001b[0m \u001b[0mparams\u001b[0m\u001b[0;34m)\u001b[0m\u001b[0;34m\u001b[0m\u001b[0;34m\u001b[0m\u001b[0m\n\u001b[1;32m    320\u001b[0m         \u001b[0;32mif\u001b[0m \u001b[0mresponse\u001b[0m\u001b[0;34m:\u001b[0m\u001b[0;34m\u001b[0m\u001b[0;34m\u001b[0m\u001b[0m\n\u001b[0;32m--> 321\u001b[0;31m             \u001b[0mself\u001b[0m\u001b[0;34m.\u001b[0m\u001b[0merror_handler\u001b[0m\u001b[0;34m.\u001b[0m\u001b[0mcheck_response\u001b[0m\u001b[0;34m(\u001b[0m\u001b[0mresponse\u001b[0m\u001b[0;34m)\u001b[0m\u001b[0;34m\u001b[0m\u001b[0;34m\u001b[0m\u001b[0m\n\u001b[0m\u001b[1;32m    322\u001b[0m             response['value'] = self._unwrap_value(\n\u001b[1;32m    323\u001b[0m                 response.get('value', None))\n",
      "\u001b[0;32m/opt/anaconda3/lib/python3.8/site-packages/selenium/webdriver/remote/errorhandler.py\u001b[0m in \u001b[0;36mcheck_response\u001b[0;34m(self, response)\u001b[0m\n\u001b[1;32m    240\u001b[0m                 \u001b[0malert_text\u001b[0m \u001b[0;34m=\u001b[0m \u001b[0mvalue\u001b[0m\u001b[0;34m[\u001b[0m\u001b[0;34m'alert'\u001b[0m\u001b[0;34m]\u001b[0m\u001b[0;34m.\u001b[0m\u001b[0mget\u001b[0m\u001b[0;34m(\u001b[0m\u001b[0;34m'text'\u001b[0m\u001b[0;34m)\u001b[0m\u001b[0;34m\u001b[0m\u001b[0;34m\u001b[0m\u001b[0m\n\u001b[1;32m    241\u001b[0m             \u001b[0;32mraise\u001b[0m \u001b[0mexception_class\u001b[0m\u001b[0;34m(\u001b[0m\u001b[0mmessage\u001b[0m\u001b[0;34m,\u001b[0m \u001b[0mscreen\u001b[0m\u001b[0;34m,\u001b[0m \u001b[0mstacktrace\u001b[0m\u001b[0;34m,\u001b[0m \u001b[0malert_text\u001b[0m\u001b[0;34m)\u001b[0m\u001b[0;34m\u001b[0m\u001b[0;34m\u001b[0m\u001b[0m\n\u001b[0;32m--> 242\u001b[0;31m         \u001b[0;32mraise\u001b[0m \u001b[0mexception_class\u001b[0m\u001b[0;34m(\u001b[0m\u001b[0mmessage\u001b[0m\u001b[0;34m,\u001b[0m \u001b[0mscreen\u001b[0m\u001b[0;34m,\u001b[0m \u001b[0mstacktrace\u001b[0m\u001b[0;34m)\u001b[0m\u001b[0;34m\u001b[0m\u001b[0;34m\u001b[0m\u001b[0m\n\u001b[0m\u001b[1;32m    243\u001b[0m \u001b[0;34m\u001b[0m\u001b[0m\n\u001b[1;32m    244\u001b[0m     \u001b[0;32mdef\u001b[0m \u001b[0m_value_or_default\u001b[0m\u001b[0;34m(\u001b[0m\u001b[0mself\u001b[0m\u001b[0;34m,\u001b[0m \u001b[0mobj\u001b[0m\u001b[0;34m,\u001b[0m \u001b[0mkey\u001b[0m\u001b[0;34m,\u001b[0m \u001b[0mdefault\u001b[0m\u001b[0;34m)\u001b[0m\u001b[0;34m:\u001b[0m\u001b[0;34m\u001b[0m\u001b[0;34m\u001b[0m\u001b[0m\n",
      "\u001b[0;31mStaleElementReferenceException\u001b[0m: Message: stale element reference: element is not attached to the page document\n  (Session info: chrome=99.0.4844.74)\n"
     ]
    }
   ],
   "source": [
    "link = 'https://www.apartments.com/san-diego-county-ca/?bb=497_3ulzmNpo5z80md'\n",
    "driver = webdriver.Chrome(ChromeDriverManager().install())\n",
    "driver.implicitly_wait(.5)\n",
    "driver.get(link)\n",
    "#html = driver.page_source\n",
    "\n",
    "#soup = BeautifulSoup(html)\n",
    "#time.sleep(.5)\n",
    "i = driver.find_element_by_xpath('//*[@id=\"searchBarLookup\"]')\n",
    "i.send_keys('91901')\n",
    "i.send_keys(Keys.RETURN)\n",
    "try:\n",
    "    lst = driver.find_element_by_xpath('//*[@id=\"placardContainer\"]')\n",
    "    aprts = lst.find_elements_by_tag_name('li')\n",
    "except:\n",
    "    time.sleep(3)\n",
    "    lst = driver.find_element_by_xpath('//*[@id=\"placardContainer\"]')\n",
    "    aprts = lst.find_elements_by_tag_name('li')\n",
    "    \n",
    "for aprt in aprts:\n",
    "    try:\n",
    "        link2 = aprt.find_element_by_class_name('property-link')\n",
    "        print(link2.get_attribute('href'))\n",
    "        if link2.get_attribute('href')[-1] == 's':\n",
    "            #print(link)\n",
    "            continue\n",
    "        try: \n",
    "            link2.click()\n",
    "            try:\n",
    "                phone = driver.find_element_by_xpath('//*[@id=\"officeHoursSection\"]/div/div/div[1]/div[1]/a').get_attribute('href')[4:]\n",
    "                web = driver.find_element_by_xpath('//*[@id=\"officeHoursSection\"]/div/div/div[1]/div[2]/a').get_attribute('href')\n",
    "                print(phone)\n",
    "                print(web)\n",
    "            except:\n",
    "                time.sleep(3)\n",
    "                phone = driver.find_element_by_xpath('//*[@id=\"officeHoursSection\"]/div/div/div[1]/div[1]/a').get_attribute('href')[4:]\n",
    "                web = driver.find_element_by_xpath('//*[@id=\"officeHoursSection\"]/div/div/div[1]/div[2]/a').get_attribute('href')\n",
    "                print(phone)\n",
    "                print(web)\n",
    "        except:\n",
    "            continue\n",
    "        #if link == None:\n",
    "            #break\n",
    "        #print(link)\n",
    "    except:\n",
    "        continue\n",
    "    \n",
    "    #link = aprt.get_attribute('href')\n",
    "    #print(link)\n",
    "    #page = requests.get(link)\n",
    "    #soup_sub = BeautifulSoup(page.content, 'html5lib')\n",
    "    #contact = soup_sub.find('div',class_ = 'contactInfo clearfix threeColumns').div.div\n",
    "    #phone = contact.find('div',class_ = 'phoneNumber').a['href'][4:]#remove'tel:'\n",
    "    #web = contact.find('div',class_ = 'mortar-wrapper').a['href']\n",
    "    #print(phone)\n",
    "   # print(web)\n",
    "    #break\n",
    "\n",
    "driver.close()"
   ]
  },
  {
   "cell_type": "code",
   "execution_count": 127,
   "id": "d52b6327",
   "metadata": {},
   "outputs": [
    {
     "name": "stderr",
     "output_type": "stream",
     "text": [
      "\n",
      "\n",
      "====== WebDriver manager ======\n",
      "Current google-chrome version is 99.0.4844\n",
      "Get LATEST chromedriver version for 99.0.4844 google-chrome\n",
      "Driver [/Users/anqibu/.wdm/drivers/chromedriver/mac64/99.0.4844.51/chromedriver] found in cache\n"
     ]
    },
    {
     "name": "stdout",
     "output_type": "stream",
     "text": [
      "744 W Fallbrook St, Fallbrook, CA 92028\n",
      "[<selenium.webdriver.remote.webelement.WebElement (session=\"57e722ce7d4355b610e6a202fddd7396\", element=\"4630deeb-479d-434c-af5b-76847a199dfa\")>, <selenium.webdriver.remote.webelement.WebElement (session=\"57e722ce7d4355b610e6a202fddd7396\", element=\"ae8f38ef-3ed5-4c43-a0fd-bdb0fa191f0a\")>]\n",
      "Fallbrook Hills Apartments, Fallbrook, CA\n",
      "8556295728\n",
      "923 Alturas Rd, Fallbrook, CA 92028\n",
      "[<selenium.webdriver.remote.webelement.WebElement (session=\"57e722ce7d4355b610e6a202fddd7396\", element=\"4630deeb-479d-434c-af5b-76847a199dfa\")>, <selenium.webdriver.remote.webelement.WebElement (session=\"57e722ce7d4355b610e6a202fddd7396\", element=\"ae8f38ef-3ed5-4c43-a0fd-bdb0fa191f0a\")>]\n",
      "Amberwood Apartments, Fallbrook, CA\n",
      "8446442128\n",
      "338 Ammunition Rd, Fallbrook, CA 92028\n",
      "[<selenium.webdriver.remote.webelement.WebElement (session=\"57e722ce7d4355b610e6a202fddd7396\", element=\"4630deeb-479d-434c-af5b-76847a199dfa\")>, <selenium.webdriver.remote.webelement.WebElement (session=\"57e722ce7d4355b610e6a202fddd7396\", element=\"ae8f38ef-3ed5-4c43-a0fd-bdb0fa191f0a\")>]\n",
      "Rosewood Apartments, Fallbrook, CA\n",
      "8442540086\n"
     ]
    }
   ],
   "source": [
    "link = 'https://www.apartments.com/san-diego-county-ca/?bb=497_3ulzmNpo5z80md'\n",
    "driver = webdriver.Chrome(ChromeDriverManager().install())\n",
    "driver.implicitly_wait(.5)\n",
    "driver.get(link)\n",
    "#html = driver.page_source\n",
    "driver.implicitly_wait(1)\n",
    "#soup = BeautifulSoup(html)\n",
    "#time.sleep(.5)\n",
    "i = driver.find_element_by_xpath('//*[@id=\"searchBarLookup\"]')\n",
    "i.send_keys('92028')\n",
    "i.send_keys(Keys.RETURN)\n",
    "time.sleep(3)\n",
    "\n",
    "lst = driver.find_element_by_xpath('//*[@id=\"placardContainer\"]')\n",
    "aprts = lst.find_elements_by_tag_name('li')\n",
    "\n",
    "for aprt in aprts:   \n",
    "    try:\n",
    "        st = aprt.find_element_by_class_name('property-information')\n",
    "        strt = st.find_elements_by_tag_name('div')\n",
    "        for j,s in enumerate(strt):\n",
    "            if j == 1 :\n",
    "                print(s.get_attribute('title'))\n",
    "        info = aprt.find_element_by_class_name('property-info')\n",
    "        \n",
    "        infos = info.find_elements_by_tag_name('a')\n",
    "        add = infos[0]\n",
    "        number = infos[1]\n",
    "    except StaleElementReferenceException:\n",
    "        break\n",
    "    except NoSuchElementException:\n",
    "        continue\n",
    "    except:\n",
    "        time.sleep(3)\n",
    "        st = aprt.find_element_by_class_name('property-information')\n",
    "        strt = st.find_elements_by_tag_name('div')\n",
    "        for j,s in enumerate(strt):\n",
    "            if j == 1 :\n",
    "                print(s.get_attribute('title'))\n",
    "        info = aprt.find_element_by_class_name('property-info')\n",
    "        add = info.find_element_by_class_name('property-link')\n",
    "        phone = info.find_element_by_class_name('property-actions')\n",
    "        number = phone.find_element_by_tag_name('a')\n",
    "    try:\n",
    "        print(street)\n",
    "        print(add.get_attribute('aria-label'))\n",
    "        print(number.get_attribute('href')[4:])\n",
    "    except:\n",
    "        print('exception yes')\n",
    "        break\n",
    "\n",
    "    \n",
    "    \n",
    "    #link = aprt.get_attribute('href')\n",
    "    #print(link)\n",
    "    #page = requests.get(link)\n",
    "    #soup_sub = BeautifulSoup(page.content, 'html5lib')\n",
    "    #contact = soup_sub.find('div',class_ = 'contactInfo clearfix threeColumns').div.div\n",
    "    #phone = contact.find('div',class_ = 'phoneNumber').a['href'][4:]#remove'tel:'\n",
    "    #web = contact.find('div',class_ = 'mortar-wrapper').a['href']\n",
    "    #print(phone)\n",
    "   # print(web)\n",
    "    #break\n",
    "\n",
    "driver.close()\n",
    "        \n"
   ]
  },
  {
   "cell_type": "markdown",
   "id": "c5475faf",
   "metadata": {},
   "source": [
    "## Actual function for scraping apartments.com\n",
    "After successfully run one example, I then create a function based on previous code.\n",
    "\n",
    "In the scrape() function, I used zipcodes as our search info and the apartments.com returns a list of relative apartments. Then I collect all the apartments shown up in the search."
   ]
  },
  {
   "cell_type": "code",
   "execution_count": 110,
   "id": "09932abe",
   "metadata": {},
   "outputs": [],
   "source": [
    "#This function scrapes one address/zipcode\n",
    "def scrape(k):\n",
    "    address = []\n",
    "    call = []\n",
    "    street = []\n",
    "    city = []\n",
    "    state = []\n",
    "    i = driver.find_element_by_xpath('//*[@id=\"searchBarLookup\"]')\n",
    "    i.send_keys(k)\n",
    "    i.send_keys(Keys.RETURN)\n",
    "    time.sleep(3)#wait 3 seconds for the webpage to refresh and load\n",
    "    try:\n",
    "        lst = driver.find_element_by_xpath('//*[@id=\"placardContainer\"]')\n",
    "        aprts = lst.find_elements_by_tag_name('li')\n",
    "    except StaleElementReferenceException:#sometimes the webpage is not fully loaded and needed some more time\n",
    "        time.sleep(5)\n",
    "        lst = driver.find_element_by_xpath('//*[@id=\"placardContainer\"]')\n",
    "        aprts = lst.find_elements_by_tag_name('li')\n",
    "    #after loading, we will loop through list of apartments' info and extract info from there.\n",
    "    for aprt in aprts:\n",
    "        try:\n",
    "            st = aprt.find_element_by_class_name('property-information')\n",
    "            strt = st.find_elements_by_tag_name('div')\n",
    "            info = aprt.find_element_by_class_name('property-info')\n",
    "            add = info.find_element_by_class_name('property-link')\n",
    "            phone = info.find_element_by_class_name('property-actions')\n",
    "            number = phone.find_element_by_tag_name('a')\n",
    "        except StaleElementReferenceException:\n",
    "            break\n",
    "        except NoSuchElementException:\n",
    "            continue\n",
    "        except:\n",
    "            time.sleep(3)\n",
    "            st = aprt.find_element_by_class_name('property-information')\n",
    "            strt = st.find_elements_by_tag_name('div')\n",
    "            info = aprt.find_element_by_class_name('property-info')\n",
    "            add = info.find_element_by_class_name('property-link')\n",
    "            phone = info.find_element_by_class_name('property-actions')\n",
    "            number = phone.find_element_by_tag_name('a')\n",
    "        try:\n",
    "            #split elements of addresses into street, city, and state\n",
    "            for j,s in enumerate(strt):\n",
    "                if j == 1 :\n",
    "                    value = s.text.split(',')\n",
    "                    if len(value) == 2:\n",
    "                        value.append(value[1])\n",
    "                        value[1] = ''\n",
    "                    street.append(value[0])\n",
    "                    city.append(value[1])\n",
    "                    state.append(value[2])\n",
    "            address.append(add.get_attribute('aria-label'))\n",
    "            call.append(number.get_attribute('href')[4:])\n",
    "        except:\n",
    "            break\n",
    "    \n",
    "    return call, address, street, city, state \n"
   ]
  },
  {
   "cell_type": "markdown",
   "id": "e65b0752",
   "metadata": {},
   "source": [
    "#### Zipcodes will be used in searching the addresses in apartments.com\n",
    "Then I used the function to get all addresses' contact info in apartments.com\n",
    "\n",
    "\"Scraped Address\" is the apartment names returned after search.\n"
   ]
  },
  {
   "cell_type": "code",
   "execution_count": 121,
   "id": "44c3665a",
   "metadata": {},
   "outputs": [
    {
     "name": "stderr",
     "output_type": "stream",
     "text": [
      "\n",
      "\n",
      "====== WebDriver manager ======\n",
      "Current google-chrome version is 99.0.4844\n",
      "Get LATEST chromedriver version for 99.0.4844 google-chrome\n",
      "Driver [/Users/anqibu/.wdm/drivers/chromedriver/mac64/99.0.4844.51/chromedriver] found in cache\n"
     ]
    },
    {
     "name": "stdout",
     "output_type": "stream",
     "text": [
      "================== https://www.apartments.com/ start to scrape: \n"
     ]
    },
    {
     "name": "stderr",
     "output_type": "stream",
     "text": [
      "0it [00:00, ?it/s]"
     ]
    },
    {
     "name": "stdout",
     "output_type": "stream",
     "text": [
      "91942\n"
     ]
    },
    {
     "name": "stderr",
     "output_type": "stream",
     "text": [
      "1it [00:39, 39.86s/it]"
     ]
    },
    {
     "name": "stdout",
     "output_type": "stream",
     "text": [
      "(['8883531471', '8442378115', '8587269141', '8442926856', '6194304537', '8442582361'], ['The District Apartments, La Mesa, CA', 'Grossmont Bluffs, La Mesa, CA', 'Jefferson La Mesa, La Mesa, CA', 'The Cove La Mesa, La Mesa, CA', 'UNIVERSE AT SERENA VISTA DE LLC, La Mesa, CA', 'Patrician Apartments, La Mesa, CA'], ['8727 Fletcher Pky', '5711 Water St', '4949 Baltimore Dr', '7400 Parkway Dr', '5810 Amaya Dr', '5360 Marengo Ave'], [' La Mesa', ' La Mesa', ' La Mesa', ' La Mesa', ' La Mesa', ' La Mesa'], [' CA 91942', ' CA 91942', ' CA 91942', ' CA 91942', ' CA 91942', ' CA 91942'])\n",
      "92110\n"
     ]
    },
    {
     "name": "stderr",
     "output_type": "stream",
     "text": [
      "2it [01:18, 38.85s/it]"
     ]
    },
    {
     "name": "stdout",
     "output_type": "stream",
     "text": [
      "(['8442118469', '8443893637', '6195927660', '6198670760', '8446531206', '8582982219', '8448757942', '8332287145', '8443059766', '8443750086', '7472631616'], ['Loft2015, San Diego, CA', 'Loma Palisades, San Diego, CA', 'Pacific Ridge, San Diego, CA', 'Arrive Mission Valley, San Diego, CA', 'Loma Portal Apartments, San Diego, CA', 'Villa Pacific Apartments, San Diego, CA', 'Dylan Point Loma, San Diego, CA', 'The Seaton Apartments, San Diego, CA', 'Loma Village, San Diego, CA', 'Pointe Luxe Apartment Homes, San Diego, CA', 'The Orchard Active Senior Living 55+, San Diego, CA'], ['2015 Hancock St', '2799 Adrian St', '5945 Linda Vista Rd', '5395 Napa St', '3131 Cauby St', '2905 Clairemont Dr', '2930 Barnard St', '1302 Frankfort St', '3175 Cauby St', '3889 Midway Dr', '4040-4080 Hancock St'], [' San Diego', ' San Diego', ' San Diego', ' San Diego', ' San Diego', ' San Diego', ' San Diego', ' San Diego', ' San Diego', ' San Diego', ' San Diego'], [' CA 92110', ' CA 92110', ' CA 92110', ' CA 92110', ' CA 92110', ' CA 92117', ' CA 92110', ' CA 92110', ' CA 92110', ' CA 92110', ' CA 92110'])\n",
      "92105\n"
     ]
    },
    {
     "name": "stderr",
     "output_type": "stream",
     "text": [
      "3it [01:46, 34.06s/it]"
     ]
    },
    {
     "name": "stdout",
     "output_type": "stream",
     "text": [
      "(['8448227355', '8442889218'], ['Parkview Terrace, San Diego, CA', 'Lantana Hills - Affordable Luxury Apartments, San Diego, CA'], ['4103-4125 54th Pl', '5802 University Ave'], [' San Diego', ' San Diego'], [' CA 92105', ' CA 92115'])\n",
      "92104\n"
     ]
    },
    {
     "name": "stderr",
     "output_type": "stream",
     "text": [
      "4it [02:21, 34.44s/it]"
     ]
    },
    {
     "name": "stdout",
     "output_type": "stream",
     "text": [
      "(['8445972446', '8332185779', '8442086442'], ['BLVD North Park Apartments, San Diego, CA', 'AZUL North Park, San Diego, CA', 'Vida North Park, San Diego, CA'], ['2020 El Cajon Blvd', '4499 Ohio St', '4223 Texas St'], [' San Diego', ' San Diego', ' San Diego'], [' CA 92104', ' CA 92116', ' CA 92104'])\n",
      "92020\n"
     ]
    },
    {
     "name": "stderr",
     "output_type": "stream",
     "text": [
      "5it [03:01, 36.45s/it]"
     ]
    },
    {
     "name": "stdout",
     "output_type": "stream",
     "text": [
      "(['8888170724', '8442270915', '8444403532', '8882627048', '8448635442', '8447948303', '8442284112', '8443919008'], ['The Timbers Apartments, El Cajon, CA', 'Lexington Park, El Cajon, CA', 'REDWOOD GARDENS APARTMENTS, El Cajon, CA', 'Navajo Bluffs, San Diego, CA', \"Hunter's Run Apartments, El Cajon, CA\", 'Majestic Apartments, El Cajon, CA', 'Oak Valley, El Cajon, CA', 'Garden Park, El Cajon, CA'], ['1110 Petree St', '800 E Lexington Ave', '328 S 1st St', '6575 Jaffe Ct', '532 Broadway', '505 W Madison Ave', '1037 E Lexington Ave', '360 N 1st St'], [' El Cajon', ' El Cajon', ' El Cajon', ' San Diego', ' El Cajon', ' El Cajon', ' El Cajon', ' El Cajon'], [' CA 92020', ' CA 92020', ' CA 92019', ' CA 92119', ' CA 92021', ' CA 92020', ' CA 92020', ' CA 92021'])\n",
      "92069\n"
     ]
    },
    {
     "name": "stderr",
     "output_type": "stream",
     "text": [
      "6it [03:31, 34.28s/it]"
     ]
    },
    {
     "name": "stdout",
     "output_type": "stream",
     "text": [
      "(['8442200425', '8337598788', '8888206381', '8447678729', '8336829753', '7604886539', '4422818396'], ['Tuscany Hills, San Marcos, CA', 'WINDSOR MANOR I, San Marcos, CA', 'Mariposa Apartment Homes, Vista, CA', 'Overture San Marcos 55+ Active Adult Apart..., San Marcos, CA', 'Barham Villas Apartment Homes, San Marcos, CA', 'Block C Apartments, San Marcos, CA', 'Avenue at San Marcos, San Marcos, CA'], ['715 Ash Ln', '250 Knoll Rd', '221 Smilax Rd', '852 Avenida Ricardo', '570 E Barham Dr', '250 North City Dr', '506 E Barham Dr'], [' San Marcos', ' San Marcos', ' Vista', ' San Marcos', ' San Marcos', ' San Marcos', ' San Marcos'], [' CA 92069', ' CA 92069', ' CA 92083', ' CA 92069', ' CA 92078', ' CA 92078', ' CA 92078'])\n",
      "92116\n"
     ]
    },
    {
     "name": "stderr",
     "output_type": "stream",
     "text": [
      "7it [04:06, 34.41s/it]"
     ]
    },
    {
     "name": "stdout",
     "output_type": "stream",
     "text": [
      "(['8332185779', '8445972446'], ['AZUL North Park, San Diego, CA', 'BLVD North Park Apartments, San Diego, CA'], ['4499 Ohio St', '2020 El Cajon Blvd'], [' San Diego', ' San Diego'], [' CA 92116', ' CA 92104'])\n",
      "92107\n"
     ]
    },
    {
     "name": "stderr",
     "output_type": "stream",
     "text": [
      "8it [04:31, 31.55s/it]"
     ]
    },
    {
     "name": "stdout",
     "output_type": "stream",
     "text": [
      "(['8443893637', '8448506072'], ['Loma Palisades, San Diego, CA', 'Citra Apartments, San Diego, CA'], ['2799 Adrian St', '4464 Castelar St'], [' San Diego', ' San Diego'], [' CA 92110', ' CA 92107'])\n",
      "91941\n"
     ]
    },
    {
     "name": "stderr",
     "output_type": "stream",
     "text": [
      "9it [05:08, 33.25s/it]"
     ]
    },
    {
     "name": "stdout",
     "output_type": "stream",
     "text": [
      "(['8445595635', '8442378115', '8442694227', '6194850038', '8448088090'], ['Chateau Spring Hill Apartments, La Mesa, CA', 'Grossmont Bluffs, La Mesa, CA', 'Trolley Palm, La Mesa, CA', 'Woodbridge Apartments, La Mesa, CA', 'CELSIUS, Lemon Grove, CA'], ['4341 Spring St', '5711 Water St', '4302 Palm Ave', '10874-10910 Calle Verde', '100 Citronica Ln'], [' La Mesa', ' La Mesa', ' La Mesa', ' La Mesa', ' Lemon Grove'], [' CA 91941', ' CA 91942', ' CA 91941', ' CA 91941', ' CA 91945'])\n",
      "91910\n"
     ]
    },
    {
     "name": "stderr",
     "output_type": "stream",
     "text": [
      "10it [05:43, 33.86s/it]"
     ]
    },
    {
     "name": "stdout",
     "output_type": "stream",
     "text": [
      "(['4422623115', '8446462329', '6195736981', '8447112035', '6192748017', '6197803574', '8442329699', '8442377930', '8442610587', '8446774587'], ['Urbana Chula Vista Luxury Apartments, Chula Vista, CA', 'Windsong Apartments, Chula Vista, CA', 'Point Bonita, Chula Vista, CA', 'Beacon Cove, Chula Vista, CA', 'Terra Nova, Chula Vista, CA', 'Toscana at Rancho Del Rey, Chula Vista, CA', 'Bonita Hills Apartments, Chula Vista, CA', 'Woodlawn West Apartments, Chula Vista, CA', 'The Atherton, Chula Vista, CA', 'Palm Shadows Apartments, Chula Vista, CA'], ['393 H St', '601-645 Sea Vale St', '250 Bonita Glen Dr', '536 E H St', '440 E H St', '841-855 Regulo Pl', '1416 Ridgeback Rd', '285-293 Woodlawn Ave', '245-255 Woodlawn Ave', '50 Monte Vista Ave'], [' Chula Vista', ' Chula Vista', ' Chula Vista', ' Chula Vista', ' Chula Vista', ' Chula Vista', ' Chula Vista', ' Chula Vista', ' Chula Vista', ' Chula Vista'], [' CA 91910', ' CA 91910', ' CA 91910', ' CA 91910', ' CA 91910', ' CA 91910', ' CA 91910', ' CA 91910', ' CA 91910', ' CA 91910'])\n",
      "91950\n"
     ]
    },
    {
     "name": "stderr",
     "output_type": "stream",
     "text": [
      "11it [06:09, 31.51s/it]"
     ]
    },
    {
     "name": "stdout",
     "output_type": "stream",
     "text": [
      "(['8446462329', '6318651854', '3412008285', '8446774587'], ['Windsong Apartments, Chula Vista, CA', 'Common at Parco, National City, CA', 'Laurel Lane Apartments, National City, CA', 'Palm Shadows Apartments, Chula Vista, CA'], ['601-645 Sea Vale St', '800 B Ave', '203 Laurel Ave', '50 Monte Vista Ave'], [' Chula Vista', ' National City', ' National City', ' Chula Vista'], [' CA 91910', ' CA 91950', ' CA 91950', ' CA 91910'])\n",
      "91945\n"
     ]
    },
    {
     "name": "stderr",
     "output_type": "stream",
     "text": [
      "12it [06:22, 25.74s/it]"
     ]
    },
    {
     "name": "stdout",
     "output_type": "stream",
     "text": [
      "(['8448088090'], ['CELSIUS, Lemon Grove, CA'], ['100 Citronica Ln'], [' Lemon Grove'], [' CA 91945'])\n",
      "92064\n"
     ]
    },
    {
     "name": "stderr",
     "output_type": "stream",
     "text": [
      "14it [06:46, 19.31s/it]"
     ]
    },
    {
     "name": "stdout",
     "output_type": "stream",
     "text": [
      "(['8447941593', '6198280208'], ['Willow Creek, Poway, CA', 'Parkview Village Apartments, Poway, CA'], ['13546 Hilleary Pl', '13608 Pomerado Rd'], [' Poway', ' Poway'], [' CA 92064', ' CA 92064'])\n",
      "92115\n"
     ]
    },
    {
     "name": "stderr",
     "output_type": "stream",
     "text": [
      "15it [07:23, 23.75s/it]"
     ]
    },
    {
     "name": "stdout",
     "output_type": "stream",
     "text": [
      "(['6192724866', '8442889218', '8448425362', '8448227355'], ['The Suites on Paseo (Off Campus Housing), San Diego, CA', 'Lantana Hills - Affordable Luxury Apartments, San Diego, CA', 'Villa Del Sol, San Diego, CA', 'Parkview Terrace, San Diego, CA'], ['5595 Lindo Paseo', '5802 University Ave', '5474 Reservoir Dr', '4103-4125 54th Pl'], [' San Diego', ' San Diego', ' San Diego', ' San Diego'], [' CA 92115', ' CA 92115', ' CA 92120', ' CA 92105'])\n",
      "92102\n"
     ]
    },
    {
     "name": "stderr",
     "output_type": "stream",
     "text": [
      "18it [08:00, 17.93s/it]"
     ]
    },
    {
     "name": "stdout",
     "output_type": "stream",
     "text": [
      "(['8332671036', '8446286535', '8442986324', '8442368401', '8442151824', '8442581278'], ['Broadstone Makers Quarter, San Diego, CA', 'Shift, San Diego, CA', 'Spire San Diego, San Diego, CA', 'Pinnacle on The Park, San Diego, CA', 'City View, San Diego, CA', 'Bridgeview Apartments, San Diego, CA'], ['1601 Broadway', '1501 Island Ave', '1443 Island Ave', '424 15th St', '840 17th St', '2925-2945 Broadway'], [' San Diego', ' San Diego', ' San Diego', ' San Diego', ' San Diego', ' San Diego'], [' CA 92101', ' CA 92101', ' CA 92101', ' CA 92101', ' CA 92101', ' CA 92102'])\n",
      "92113\n"
     ]
    },
    {
     "name": "stderr",
     "output_type": "stream",
     "text": [
      "19it [08:16, 17.46s/it]"
     ]
    },
    {
     "name": "stdout",
     "output_type": "stream",
     "text": [
      "(['6193719138'], ['Park 12, San Diego, CA'], ['100 Park Plz'], [' San Diego'], [' CA 92101'])\n",
      "92103\n"
     ]
    },
    {
     "name": "stderr",
     "output_type": "stream",
     "text": [
      "20it [08:51, 21.30s/it]"
     ]
    },
    {
     "name": "stdout",
     "output_type": "stream",
     "text": [
      "(['6197455154', '4422528109', '8448213191', '8445972446', '6193877840', '8445200607', '6193332836'], ['MoDE, San Diego, CA', '525 Olive, San Diego, CA', 'Montecito Point, San Diego, CA', 'BLVD North Park Apartments, San Diego, CA', 'Broadstone Balboa Park, San Diego, CA', 'Mission Hills Commons, San Diego, CA', 'Vantaggio Suites Hillcrest, San Diego, CA'], ['635 Robinson Ave', '525 Olive St', '4179 3rd Ave', '2020 El Cajon Blvd', '3288 5th Ave', '4021 Falcon St', '819 University Ave'], [' San Diego', ' San Diego', ' San Diego', ' San Diego', ' San Diego', ' San Diego', ' San Diego'], [' CA 92103', ' CA 92103', ' CA 92103', ' CA 92104', ' CA 92103', ' CA 92103', ' CA 92103'])\n",
      "92081\n"
     ]
    },
    {
     "name": "stderr",
     "output_type": "stream",
     "text": [
      "31it [09:30,  7.54s/it]"
     ]
    },
    {
     "name": "stdout",
     "output_type": "stream",
     "text": [
      "(['8442938956', '8669309377', '8336831486', '8443492964', '8447713106', '8448185905', '8888206381', '8444544065', '8445151277', '4422245743', '8444491576'], ['Shadowridge Park Apartment Homes, Vista, CA', 'Bella Terra, Vista, CA', 'Shadowridge Summerwind, Vista, CA', 'Breeze Hill, Vista, CA', 'Sycamore Ridge Apartments, Vista, CA', 'Sunset Springs Apartments, Vista, CA', 'Mariposa Apartment Homes, Vista, CA', 'ShadowRidge Country Club Villas, Vista, CA', 'Emerald Vista Apartments, Vista, CA', 'Sofi Ocean Hills, Oceanside, CA', 'Pepperwood Apartments, Vista, CA'], ['2000 S Melrose Dr', '365 Pomelo Dr', '1580 Shadowridge Dr', '710 Breeze Hill Rd', '820 Sycamore Ave', '320 Pomelo Dr', '221 Smilax Rd', '1617 Live Oak Rd', '240-246 N Emerald Dr', '3500 Windrift Way', '2144 University Dr'], [' Vista', ' Vista', ' Vista', ' Vista', ' Vista', ' Vista', ' Vista', ' Vista', ' Vista', ' Oceanside', ' Vista'], [' CA 92081', ' CA 92081', ' CA 92081', ' CA 92081', ' CA 92081', ' CA 92081', ' CA 92083', ' CA 92081', ' CA 92083', ' CA 92056', ' CA 92083'])\n",
      "91932\n"
     ]
    },
    {
     "name": "stderr",
     "output_type": "stream",
     "text": [
      "32it [10:03,  9.84s/it]"
     ]
    },
    {
     "name": "stdout",
     "output_type": "stream",
     "text": [
      "(['8444253175'], ['Imperial Beach Gardens, Imperial Beach, CA'], ['319 IMPERIAL BEACH Blvd'], [' Imperial Beach'], [' CA 91932'])\n",
      "92109\n"
     ]
    },
    {
     "name": "stderr",
     "output_type": "stream",
     "text": [
      "33it [10:39, 12.86s/it]"
     ]
    },
    {
     "name": "stdout",
     "output_type": "stream",
     "text": [
      "(['8443015243', '8669865971', '8447334014', '8332287145'], ['Mara Pacific Beach, San Diego, CA', 'Bay Pointe Apartments, San Diego, CA', 'Casas By The Sea, San Diego, CA', 'The Seaton Apartments, San Diego, CA'], ['4275 Mission Bay Dr', '3866 Ingraham St', '5060 La Jolla Blvd', '1302 Frankfort St'], [' San Diego', ' San Diego', ' San Diego', ' San Diego'], [' CA 92109', ' CA 92109', ' CA 92109', ' CA 92110'])\n",
      "92008\n"
     ]
    },
    {
     "name": "stderr",
     "output_type": "stream",
     "text": [
      "44it [11:16,  6.75s/it]"
     ]
    },
    {
     "name": "stdout",
     "output_type": "stream",
     "text": [
      "(['8443353240', '8444449330', '6198802358', '8552339203', '8445073408', '8774187295'], ['The Lofts at Carlsbad Village, Carlsbad, CA', 'Montecito Apartments at Carlsbad, Carlsbad, CA', 'Casa Aldea at Carlsbad, Carlsbad, CA', 'San Katrina, Carlsbad, CA', 'VILLAS AT CARLSBAD, Carlsbad, CA', 'The Bluffs at Carlsbad, Carlsbad, CA'], ['1044 Carlsbad Village Dr', '2510 W Ranch St', '2615 Cannon Rd', '336 Pine Ave', '2600-2695 Kremeyer Cir', '2701-2707 Avenida de Anita'], [' Carlsbad', ' Carlsbad', ' Carlsbad', ' Carlsbad', ' Carlsbad', ' Carlsbad'], [' CA 92008', ' CA 92010', ' CA 92010', ' CA 92008', ' CA 92008', ' CA 92010'])\n",
      "92117\n"
     ]
    },
    {
     "name": "stderr",
     "output_type": "stream",
     "text": [
      "46it [11:47,  7.99s/it]"
     ]
    },
    {
     "name": "stdout",
     "output_type": "stream",
     "text": [
      "(['8582982219', '8442207316', '8443015243', '8773086019'], ['Villa Pacific Apartments, San Diego, CA', 'Barclay Square, San Diego, CA', 'Mara Pacific Beach, San Diego, CA', 'Coral Bay, San Diego, CA'], ['2905 Clairemont Dr', '6363 Beadnell Way', '4275 Mission Bay Dr', '3309 Cowley Way'], [' San Diego', ' San Diego', ' San Diego', ' San Diego'], [' CA 92117', ' CA 92117', ' CA 92109', ' CA 92117'])\n",
      "92037\n"
     ]
    },
    {
     "name": "stderr",
     "output_type": "stream",
     "text": [
      "67it [12:28,  3.88s/it]"
     ]
    },
    {
     "name": "stdout",
     "output_type": "stream",
     "text": [
      "(['8885587934', '6193778756', '8442088967', '8554060163', '8442505707', '8448730394', '8773368851', '8447334014'], ['La Scala Apartments, San Diego, CA', 'La Jolla Blue Apartments, San Diego, CA', 'Costa Verde Village, San Diego, CA', 'Regents La Jolla, La Jolla, CA', 'Axiom La Jolla, San Diego, CA', 'LUX UTC, San Diego, CA', 'Towers at Costa Verde, San Diego, CA', 'Casas By The Sea, San Diego, CA'], ['3845 Nobel Dr', '7039 Charmant Dr', '8720 Costa Verde Blvd', '9253 Regents Rd', '3950 Mahaila Ave', '4200 Brooke Ct', '8775 Costa Verde Blvd', '5060 La Jolla Blvd'], [' San Diego', ' San Diego', ' San Diego', ' La Jolla', ' San Diego', ' San Diego', ' San Diego', ' San Diego'], [' CA 92122', ' CA 92122', ' CA 92122', ' CA 92037', ' CA 92122', ' CA 92122', ' CA 92122', ' CA 92109'])\n",
      "92025\n"
     ]
    },
    {
     "name": "stderr",
     "output_type": "stream",
     "text": [
      "69it [13:06,  5.16s/it]"
     ]
    },
    {
     "name": "stdout",
     "output_type": "stream",
     "text": [
      "(['8442239910', '7602994063', '7603130014', '4427770099', '4422243031', '8448606960', '8444597444', '8444770741'], ['55 + Casa Escondida, Escondido, CA', 'Alcove, Escondido, CA', 'Rowan, Escondido, CA', 'PALMILLA APARTMENTS, Escondido, CA', 'Haven76, Escondido, CA', 'Latitude33, Escondido, CA', 'Summit Apartments, Escondido, CA', 'Ventana, San Diego, CA'], ['715 N Broadway', '650 N Centre City Pky', '700 W Grand Ave', '776 E Mission Ave', '2412-2424 S Escondido Blvd', '515 Meander Glen', '444 E 4th Ave', '18795 Caminito Cantilena'], [' Escondido', ' Escondido', ' Escondido', ' Escondido', ' Escondido', ' Escondido', ' Escondido', ' San Diego'], [' CA 92025', ' CA 92025', ' CA 92025', ' CA 92025', ' CA 92025', ' CA 92025', ' CA 92025', ' CA 92128'])\n",
      "92083\n"
     ]
    },
    {
     "name": "stderr",
     "output_type": "stream",
     "text": [
      "71it [13:46,  6.77s/it]"
     ]
    },
    {
     "name": "stdout",
     "output_type": "stream",
     "text": [
      "(['8583805423', '8888206381', '8448399191', '8669309377', '8447713106', '8445388539', '8448185905', '7609193379', '8445151277', '8444491576'], ['Skye Apartments, Vista, CA', 'Mariposa Apartment Homes, Vista, CA', 'Persea, Vista, CA', 'Bella Terra, Vista, CA', 'Sycamore Ridge Apartments, Vista, CA', 'Millcreek Apartments, Vista, CA', 'Sunset Springs Apartments, Vista, CA', 'Found Lofts, Vista, CA', 'Emerald Vista Apartments, Vista, CA', 'Pepperwood Apartments, Vista, CA'], ['501 W Bobier Dr', '221 Smilax Rd', '1333 N Santa Fe Ave', '365 Pomelo Dr', '820 Sycamore Ave', '2130 S Santa Fe Ave', '320 Pomelo Dr', '516 S Santa Fe Ave', '240-246 N Emerald Dr', '2144 University Dr'], [' Vista', ' Vista', ' Vista', ' Vista', ' Vista', ' Vista', ' Vista', ' Vista', ' Vista', ' Vista'], [' CA 92083', ' CA 92083', ' CA 92084', ' CA 92081', ' CA 92081', ' CA 92084', ' CA 92081', ' CA 92084', ' CA 92083', ' CA 92083'])\n",
      "92026\n"
     ]
    },
    {
     "name": "stderr",
     "output_type": "stream",
     "text": [
      "72it [14:23,  8.93s/it]"
     ]
    },
    {
     "name": "stdout",
     "output_type": "stream",
     "text": [
      "(['8442632566', '8442239910', '7606666155', '8445181509', '8665341175', '4427770099'], ['El Norte Villas, Escondido, CA', '55 + Casa Escondida, Escondido, CA', 'Alta Vista, Escondido, CA', 'Forest Glen, Escondido, CA', 'Reidy Creek, Escondido, CA', 'PALMILLA APARTMENTS, Escondido, CA'], ['1051 W El Norte Pky', '715 N Broadway', '1245 Morning View Dr', '493 Beaumont Glen', '1350 Morning View Dr', '776 E Mission Ave'], [' Escondido', ' Escondido', ' Escondido', ' Escondido', ' Escondido', ' Escondido'], [' CA 92026', ' CA 92025', ' CA 92026', ' CA 92026', ' CA 92026', ' CA 92025'])\n",
      "92154\n"
     ]
    },
    {
     "name": "stderr",
     "output_type": "stream",
     "text": [
      "73it [14:48, 10.39s/it]"
     ]
    },
    {
     "name": "stdout",
     "output_type": "stream",
     "text": [
      "(['8662397071', '8442225009', '6198948573', '8887815165'], ['Casoleil, San Diego, CA', 'Foxwood Furnished Apartments, San Diego, CA', 'Pacific Point, San Diego, CA', 'Oro Vista Villas, San Diego, CA'], ['1100 Dennery Rd', '4260 Palm Ave', '768 Hollister St', '1767 Oro Vista Rd'], [' San Diego', ' San Diego', ' San Diego', ' San Diego'], [' CA 92154', ' CA 92154', ' CA 92154', ' CA 92154'])\n",
      "92118\n"
     ]
    },
    {
     "name": "stderr",
     "output_type": "stream",
     "text": [
      "74it [15:23, 13.32s/it]"
     ]
    },
    {
     "name": "stdout",
     "output_type": "stream",
     "text": [
      "(['8448029303'], ['BAYSIDE AT CORONADO, Coronado, CA'], ['1515 2nd St'], [' Coronado'], [' CA 92118'])\n",
      "92173\n"
     ]
    },
    {
     "name": "stderr",
     "output_type": "stream",
     "text": [
      "75it [15:33, 12.79s/it]"
     ]
    },
    {
     "name": "stdout",
     "output_type": "stream",
     "text": [
      "92024\n"
     ]
    },
    {
     "name": "stderr",
     "output_type": "stream",
     "text": [
      "78it [16:04, 11.94s/it]"
     ]
    },
    {
     "name": "stdout",
     "output_type": "stream",
     "text": [
      "(['8669597237', '8886727230', '8448955668'], ['The Resort at Encinitas Luxury Apartments, Encinitas, CA', 'Elan Pacifico Encinitas, Encinitas, CA', 'Essex Heights, Encinitas, CA'], ['1320 Via Terrassa', '1100 Garden View Rd', '404 Encinitas Blvd'], [' Encinitas', ' Encinitas', ' Encinitas'], [' CA 92024', ' CA 92024', ' CA 92024'])\n",
      "92021\n"
     ]
    },
    {
     "name": "stderr",
     "output_type": "stream",
     "text": [
      "80it [16:40, 13.49s/it]"
     ]
    },
    {
     "name": "stdout",
     "output_type": "stream",
     "text": [
      "(['8448635442', '8444403532', '8442270915', '8448546493', '8443919008', '8442284112'], [\"Hunter's Run Apartments, El Cajon, CA\", 'REDWOOD GARDENS APARTMENTS, El Cajon, CA', 'Lexington Park, El Cajon, CA', 'Tierra Del Sol Apartments, El Cajon, CA', 'Garden Park, El Cajon, CA', 'Oak Valley, El Cajon, CA'], ['532 Broadway', '328 S 1st St', '800 E Lexington Ave', '989 Peach Ave', '360 N 1st St', '1037 E Lexington Ave'], [' El Cajon', ' El Cajon', ' El Cajon', ' El Cajon', ' El Cajon', ' El Cajon'], [' CA 92021', ' CA 92019', ' CA 92020', ' CA 92021', ' CA 92021', ' CA 92020'])\n",
      "92054\n"
     ]
    },
    {
     "name": "stderr",
     "output_type": "stream",
     "text": [
      "87it [17:12,  8.44s/it]"
     ]
    },
    {
     "name": "stdout",
     "output_type": "stream",
     "text": [
      "(['8448539657', '8442064335', '8447469645'], ['Pierside North, Oceanside, CA', 'Pierside South, Oceanside, CA', 'Villa Camino, Oceanside, CA'], ['250 Mission Ave', '115 N Cleveland St', '2051 Geneva St'], [' Oceanside', ' Oceanside', ' Oceanside'], [' CA 92054', ' CA 92054', ' CA 92054'])\n",
      "92111\n"
     ]
    },
    {
     "name": "stderr",
     "output_type": "stream",
     "text": [
      "88it [17:56, 12.10s/it]"
     ]
    },
    {
     "name": "stdout",
     "output_type": "stream",
     "text": [
      "(['8448900735', '8448494236', '8448712586', '8446980185', '6195927660', '8442207316', '8444233775', '8583095485', '8442144780', '6194897051', '8443105065', '8448571678', '6197523576'], ['Vive Luxe, San Diego, CA', 'Genesee Park, San Diego, CA', 'Vive on the Park, San Diego, CA', 'Mira Bella Apartments, San Diego, CA', 'Pacific Ridge, San Diego, CA', 'Barclay Square, San Diego, CA', 'Modernaire Apartments, San Diego, CA', 'Park Genesee, San Diego, CA', 'RIVIERA DE VILLE APARTMENTS, San Diego, CA', 'Fashion Hills Terrace Apartments, San Diego, CA', 'Ariva Apartments, San Diego, CA', 'Apex Mission Valley, San Diego, CA', 'The Modern Apartments, San Diego, CA'], ['4890 Sunroad Centrum Ln', '3625 Earnscliff Pl', '8725 Ariva Ct', '3455 Kearny Villa Rd', '5945 Linda Vista Rd', '6363 Beadnell Way', '2420 Cardinal Dr', '5550 Genesee Ct', '3235-3265 Armstrong St', '2125 Westinghouse St', '4855 Ariva Way', '7084-7148 Friars Rd', '7901-7921 Harmarsh St'], [' San Diego', ' San Diego', ' San Diego', ' San Diego', ' San Diego', ' San Diego', ' San Diego', ' San Diego', ' San Diego', ' San Diego', ' San Diego', ' San Diego', ' San Diego'], [' CA 92123', ' CA 92111', ' CA 92123', ' CA 92123', ' CA 92110', ' CA 92117', ' CA 92123', ' CA 92111', ' CA 92111', ' CA 92111', ' CA 92123', ' CA 92108', ' CA 92123'])\n",
      "91911\n"
     ]
    },
    {
     "name": "stderr",
     "output_type": "stream",
     "text": [
      "92it [18:32, 10.98s/it]"
     ]
    },
    {
     "name": "stdout",
     "output_type": "stream",
     "text": [
      "(['6196105901', '8589391895', '8448457509', '8447352315', '6196505463', '6196771346', '8445820022', '8442145600', '8444231798', '8887809938', '8442102387'], ['Del Oro on Broadway, Chula Vista, CA', 'Sereno Apartment Homes, Chula Vista, CA', 'East Orange Village Apartments, Chula Vista, CA', 'Stone Creek, Chula Vista, CA', 'Villa Napoli Apartments, Chula Vista, CA', 'Seawind Apartments, Chula Vista, CA', 'VISTA LANE APARTMENTS, Chula Vista, CA', 'Country Apartments, Chula Vista, CA', 'Casa Madrid Apartments, Chula Vista, CA', 'Villa Marina, Chula Vista, CA', 'Sunset Villa Apartments, Chula Vista, CA'], ['986 Broadway', '930 Third Ave', '225-245 E Orange Ave', '3865 Main St', '566 Naples St', '1067 Fourth Ave', '1440-1450 2nd Ave', '1486 Broadway', '240 Quintard St', '652 Moss St', '1225 Broadway'], [' Chula Vista', ' Chula Vista', ' Chula Vista', ' Chula Vista', ' Chula Vista', ' Chula Vista', ' Chula Vista', ' Chula Vista', ' Chula Vista', ' Chula Vista', ' Chula Vista'], [' CA 91911', ' CA 91911', ' CA 91911', ' CA 91911', ' CA 91911', ' CA 91911', ' CA 91911', ' CA 91911', ' CA 91911', ' CA 91911', ' CA 91911'])\n",
      "91902\n"
     ]
    },
    {
     "name": "stderr",
     "output_type": "stream",
     "text": [
      "95it [18:47,  9.27s/it]"
     ]
    },
    {
     "name": "stdout",
     "output_type": "stream",
     "text": [
      "(['8442222879', '6195736981'], ['Park Bonita, Bonita, CA', 'Point Bonita, Chula Vista, CA'], ['3511-3549 Valley Rd', '250 Bonita Glen Dr'], [' Bonita', ' Chula Vista'], [' CA 91902', ' CA 91910'])\n",
      "92029\n"
     ]
    },
    {
     "name": "stderr",
     "output_type": "stream",
     "text": [
      "103it [19:00,  5.26s/it]"
     ]
    },
    {
     "name": "stdout",
     "output_type": "stream",
     "text": [
      "92084\n"
     ]
    },
    {
     "name": "stderr",
     "output_type": "stream",
     "text": [
      "111it [19:34,  4.84s/it]"
     ]
    },
    {
     "name": "stdout",
     "output_type": "stream",
     "text": [
      "(['8448399191', '8445388539', '8888206381', '7609193379'], ['Persea, Vista, CA', 'Millcreek Apartments, Vista, CA', 'Mariposa Apartment Homes, Vista, CA', 'Found Lofts, Vista, CA'], ['1333 N Santa Fe Ave', '2130 S Santa Fe Ave', '221 Smilax Rd', '516 S Santa Fe Ave'], [' Vista', ' Vista', ' Vista', ' Vista'], [' CA 92084', ' CA 92084', ' CA 92083', ' CA 92084'])\n",
      "92040\n"
     ]
    },
    {
     "name": "stderr",
     "output_type": "stream",
     "text": [
      "116it [19:54,  4.59s/it]"
     ]
    },
    {
     "name": "stdout",
     "output_type": "stream",
     "text": [
      "(['8443031794'], ['WOODGLEN APARTMENTS, Lakeside, CA'], ['12905 Mapleview St'], [' Lakeside'], [' CA 92040'])\n",
      "92139\n"
     ]
    },
    {
     "name": "stderr",
     "output_type": "stream",
     "text": [
      "119it [20:10,  4.75s/it]"
     ]
    },
    {
     "name": "stdout",
     "output_type": "stream",
     "text": [
      "(['8442370199', '8442222879', '8448792369', '6195376966'], ['Doriana Apartments, San Diego, CA', 'Park Bonita, Bonita, CA', 'Bonita Woods, San Diego, CA', 'Rancho Bonita Apartments, San Diego, CA'], ['6670 Doriana St', '3511-3549 Valley Rd', '6850-6890 Doriana St', '6909-6957 Alcona St'], [' San Diego', ' Bonita', ' San Diego', ' San Diego'], [' CA 92139', ' CA 91902', ' CA 92139', ' CA 92139'])\n",
      "92058\n"
     ]
    },
    {
     "name": "stderr",
     "output_type": "stream",
     "text": [
      "128it [20:34,  3.81s/it]"
     ]
    },
    {
     "name": "stdout",
     "output_type": "stream",
     "text": [
      "(['8442949156', '8442996284', '8442967452', '8442946792', '7609867343', '7602303553', '8586098787'], ['Wire Mountain II - Military Housing, Oceanside, CA', 'Pacific View - Military Housing, Oceanside, CA', 'Stuart Mesa - Military Housing, Oceanside, CA', 'Edson - Military Housing, Oceanside, CA', 'The Dylan, Oceanside, CA', 'Camp Pendleton (MCB) - Military Housing, Oceanside, CA', 'Serra Mesa - Military Housing, Oceanside, CA'], ['1201 Begonia St', '139 Santa Rosa Dr', '3105 Mitchell Blvd', '310 Ellis Blvd', '550 Los Arbolitos Blvd', '98 San Jacinto Rd', '1538 Chrisman Cir'], [' Oceanside', ' Oceanside', ' Oceanside', ' Oceanside', ' Oceanside', ' Oceanside', ' Oceanside'], [' CA 92058', ' CA 92058', ' CA 92058', ' CA 92058', ' CA 92058', ' CA 92058', ' CA 92058'])\n",
      "92114\n"
     ]
    },
    {
     "name": "stderr",
     "output_type": "stream",
     "text": [
      "147it [20:51,  2.13s/it]"
     ]
    },
    {
     "name": "stdout",
     "output_type": "stream",
     "text": [
      "(['8442370199', '8448792369', '6195376966'], ['Doriana Apartments, San Diego, CA', 'Bonita Woods, San Diego, CA', 'Rancho Bonita Apartments, San Diego, CA'], ['6670 Doriana St', '6850-6890 Doriana St', '6909-6957 Alcona St'], [' San Diego', ' San Diego', ' San Diego'], [' CA 92139', ' CA 92139', ' CA 92139'])\n",
      "92007\n"
     ]
    },
    {
     "name": "stderr",
     "output_type": "stream",
     "text": [
      "152it [21:04,  2.23s/it]"
     ]
    },
    {
     "name": "stdout",
     "output_type": "stream",
     "text": [
      "(['8443235680'], ['Elan Cardiff By The Sea, Cardiff By The Sea, CA'], ['2170 Carol View Dr'], [' Cardiff By The Sea'], [' CA 92007'])\n",
      "92075\n"
     ]
    },
    {
     "name": "stderr",
     "output_type": "stream",
     "text": [
      "172it [21:37,  1.92s/it]"
     ]
    },
    {
     "name": "stdout",
     "output_type": "stream",
     "text": [
      "(['8888543007', '8888240415'], ['Solana Mar Apartments, Solana Beach, CA', 'Solana Highlands, Solana Beach, CA'], ['309 N Solana Hills Dr', '701 S Nardo Ave'], [' Solana Beach', ' Solana Beach'], [' CA 92075', ' CA 92075'])\n",
      "91977\n"
     ]
    },
    {
     "name": "stderr",
     "output_type": "stream",
     "text": [
      "173it [22:02,  2.74s/it]"
     ]
    },
    {
     "name": "stdout",
     "output_type": "stream",
     "text": [
      "(['6194850038'], ['Woodbridge Apartments, La Mesa, CA'], ['10874-10910 Calle Verde'], [' La Mesa'], [' CA 91941'])\n",
      "92057\n"
     ]
    },
    {
     "name": "stderr",
     "output_type": "stream",
     "text": [
      "179it [22:36,  3.41s/it]"
     ]
    },
    {
     "name": "stdout",
     "output_type": "stream",
     "text": [
      "(['8888957304', '8444407574'], ['River Oaks, Oceanside, CA', 'Elan Oceano at Rancho Del Oro, Oceanside, CA'], ['3880 San Ramon Dr', '4795 Frazee Rd'], [' Oceanside', ' Oceanside'], [' CA 92057', ' CA 92057'])\n",
      "92071\n"
     ]
    },
    {
     "name": "stderr",
     "output_type": "stream",
     "text": [
      "207it [23:14,  2.16s/it]"
     ]
    },
    {
     "name": "stdout",
     "output_type": "stream",
     "text": [
      "(['6194934601', '8588790361', '8448577885', '8445091768'], ['The Arbors Apartments, Santee, CA', 'Vela Apartments, Santee, CA', 'Terra at Mission Trails, San Diego, CA', 'Carlton Ridge Apartments, Santee, CA'], ['9700 Magnolia Park Dr', '7847 Mission Gorge Rd', '7707 Mission Gorge Rd', '9637 Carlton Hills Blvd'], [' Santee', ' Santee', ' San Diego', ' Santee'], [' CA 92071', ' CA 92071', ' CA 92120', ' CA 92071'])\n",
      "92027\n"
     ]
    },
    {
     "name": "stderr",
     "output_type": "stream",
     "text": [
      "213it [23:37,  2.42s/it]"
     ]
    },
    {
     "name": "stdout",
     "output_type": "stream",
     "text": [
      "(['8442647834', '8666055030', '8883359772'], ['Solana at Grand, Escondido, CA', 'Alta Cima Apartment Homes, Escondido, CA', 'The Willows, Escondido, CA'], ['1501 E Grand Ave', '1333 E Grand Ave', '2460 Bear Valley Pky'], [' Escondido', ' Escondido', ' Escondido'], [' CA 92027', ' CA 92027', ' CA 92027'])\n",
      "92028\n"
     ]
    },
    {
     "name": "stderr",
     "output_type": "stream",
     "text": [
      "249it [24:05,  1.49s/it]"
     ]
    },
    {
     "name": "stdout",
     "output_type": "stream",
     "text": [
      "91916\n"
     ]
    },
    {
     "name": "stderr",
     "output_type": "stream",
     "text": [
      "253it [24:11,  1.47s/it]"
     ]
    },
    {
     "name": "stdout",
     "output_type": "stream",
     "text": [
      "92101\n"
     ]
    },
    {
     "name": "stderr",
     "output_type": "stream",
     "text": [
      "258it [25:09,  2.79s/it]"
     ]
    },
    {
     "name": "stdout",
     "output_type": "stream",
     "text": [
      "(['6198802493', '8446192895', '8442754413', '4422040617', '8555206014', '8443204759', '8775517560', '9494317644', '2818003282', '8447716087', '8443106597', '8445978381', '8444595009', '8443232461', '8446153303', '8442167244', '8448816255', '8332671036', '8446286535', '8662046507', '8444176418', '8443727660', '8442986324', '8442368401', '4422528132'], ['K1, San Diego, CA', '625 Broadway, San Diego, CA', 'Diega, San Diego, CA', 'Pinnacle Broadway, San Diego, CA', 'Vici, San Diego, CA', 'Valentina by Alta, San Diego, CA', 'Broadstone Little Italy, San Diego, CA', '4th and J, San Diego, CA', 'Hanover Little Italy, San Diego, CA', 'Griffis East Village, San Diego, CA', 'Current, San Diego, CA', 'Strata, San Diego, CA', 'Il Palazzo, San Diego, CA', 'Modera San Diego, San Diego, CA', 'F11, San Diego, CA', '13th & Market, San Diego, CA', 'Urbana East Village Rental Flats, San Diego, CA', 'Broadstone Makers Quarter, San Diego, CA', 'Shift, San Diego, CA', '600 Front Street Apartments, San Diego, CA', 'ALX, San Diego, CA', 'IDEA1, San Diego, CA', 'Spire San Diego, San Diego, CA', 'Pinnacle on The Park, San Diego, CA', 'Vantaggio Suites at San Diego, San Diego, CA'], ['330 13th St', '625 Broadway', '702 Broadway', '1150 E St', '550 W Date St', '1919 Pacific Hwy', '1980 Kettner Blvd', '372 4th Ave', '310 A St', '688 13th St', '1551 Union St', '969-969 Market St', '2040 Columbia St', '1445 K St', '1110 F St', '1330-1350 Market St', '450 10th Ave', '1601 Broadway', '1501 Island Ave', '600 Front St', '300 14th St', '895 Park Blvd', '1443 Island Ave', '424 15th St', '1736 State St'], [' San Diego', ' San Diego', ' San Diego', ' San Diego', ' San Diego', ' San Diego', ' San Diego', ' San Diego', ' San Diego', ' San Diego', ' San Diego', ' San Diego', ' San Diego', ' San Diego', ' San Diego', ' San Diego', ' San Diego', ' San Diego', ' San Diego', ' San Diego', ' San Diego', ' San Diego', ' San Diego', ' San Diego', ' San Diego'], [' CA 92101', ' CA 92101', ' CA 92101', ' CA 92101', ' CA 92101', ' CA 92101', ' CA 92101', ' CA 92101', ' CA 92101', ' CA 92101', ' CA 92101', ' CA 92101', ' CA 92101', ' CA 92101', ' CA 92101', ' CA 92101', ' CA 92101', ' CA 92101', ' CA 92101', ' CA 92101', ' CA 92101', ' CA 92101', ' CA 92101', ' CA 92101', ' CA 92101'])\n",
      "92009\n"
     ]
    },
    {
     "name": "stderr",
     "output_type": "stream",
     "text": [
      "274it [25:41,  2.51s/it]"
     ]
    },
    {
     "name": "stdout",
     "output_type": "stream",
     "text": [
      "(['8444161226', '7602904748'], ['Santa Fe Ranch, Carlsbad, CA', 'Tradition, Carlsbad, CA'], ['3402 Calle Odessa', '1901 Cassia Rd'], [' Carlsbad', ' Carlsbad'], [' CA 92009', ' CA 92011'])\n",
      "92028\n"
     ]
    },
    {
     "name": "stderr",
     "output_type": "stream",
     "text": [
      "279it [26:09,  2.95s/it]"
     ]
    },
    {
     "name": "stdout",
     "output_type": "stream",
     "text": [
      "92019\n"
     ]
    },
    {
     "name": "stderr",
     "output_type": "stream",
     "text": [
      "285it [26:44,  3.49s/it]"
     ]
    },
    {
     "name": "stdout",
     "output_type": "stream",
     "text": [
      "(['8442296372', '8446154361', '8444403532', '8448327373', '8442284112'], ['Rancho Hillside, El Cajon, CA', 'Villa Toscana, El Cajon, CA', 'REDWOOD GARDENS APARTMENTS, El Cajon, CA', 'THE GROVE APARTMENTS, El Cajon, CA', 'Oak Valley, El Cajon, CA'], ['12367 Calle Albara', '1451 Brabham St', '328 S 1st St', '346 Jamacha Rd', '1037 E Lexington Ave'], [' El Cajon', ' El Cajon', ' El Cajon', ' El Cajon', ' El Cajon'], [' CA 92019', ' CA 92019', ' CA 92019', ' CA 92019', ' CA 92020'])\n",
      "92124\n"
     ]
    },
    {
     "name": "stderr",
     "output_type": "stream",
     "text": [
      "317it [27:09,  1.88s/it]"
     ]
    },
    {
     "name": "stdout",
     "output_type": "stream",
     "text": [
      "(['8442549507', '6196597086', '8442151380', '6197987758', '8448736008', '4422504301'], ['El Dorado Hills, San Diego, CA', 'The Village Mission Valley, San Diego, CA', 'Tierrasanta Ridge, San Diego, CA', 'IMT Mission Valley, San Diego, CA', 'Prado, San Diego, CA', 'Latitude Apartments at Mission Valley, San Diego, CA'], ['3820-3860 Pendiente Ct', '6555 Ambrosia Dr', '5410 Repecho Dr', '10343 San Diego Mission Rd', '6304 Rancho Mission Rd', '4580 Zion Ave'], [' San Diego', ' San Diego', ' San Diego', ' San Diego', ' San Diego', ' San Diego'], [' CA 92124', ' CA 92124', ' CA 92124', ' CA 92108', ' CA 92108', ' CA 92120'])\n",
      "92122\n"
     ]
    },
    {
     "name": "stderr",
     "output_type": "stream",
     "text": [
      "323it [27:49,  2.54s/it]"
     ]
    },
    {
     "name": "stdout",
     "output_type": "stream",
     "text": [
      "(['8557276482', '8445420812', '8884702889', '8885587934', '8442825449', '8444098413', '8582470688', '6193778756', '8442088967', '8778723896', '8446646353', '8447360541', '8443606531', '7606210448', '8442505707', '8448730394', '8773368851', '8669864768', '6194832173', '8664595156'], ['Avia La Jolla II Senior 55+ Community, San Diego, CA', 'Town Park Villas Senior Apartments 55+, San Diego, CA', 'La Jolla International Gardens, San Diego, CA', 'La Scala Apartments, San Diego, CA', 'La Jolla Del Rey Senior Community 55+, San Diego, CA', 'La Jolla Nobel, San Diego, CA', 'Casa Aldea Senior Living, San Diego, CA', 'La Jolla Blue Apartments, San Diego, CA', 'Costa Verde Village, San Diego, CA', 'La Jolla Crossroads, San Diego, CA', 'Village View, San Diego, CA', 'Torrey Pines Village, San Diego, CA', 'Valentia, San Diego, CA', 'Regents Court, San Diego, CA', 'Axiom La Jolla, San Diego, CA', 'LUX UTC, San Diego, CA', 'Towers at Costa Verde, San Diego, CA', 'The Villas of Renaissance, San Diego, CA', 'Elan Terraza La Jolla, San Diego, CA', 'La Regencia, San Diego, CA'], ['6345 Gullstrand St', '4611-4649 Governor Dr', '3417 Lebon Dr', '3845 Nobel Dr', '4655 Governor Dr', '4247 Nobel Dr', '6132 Gullstrand St', '7039 Charmant Dr', '8720 Costa Verde Blvd', '9085 Judicial Dr', '8155 Cargill Ave', '8939 Lombard Pl', '5305 Toscana Way', '8465 Regents Rd', '3950 Mahaila Ave', '4200 Brooke Ct', '8775 Costa Verde Blvd', '5280 Fiore Ter', '5155-5158 Luigi Ter', '7655-7689 Palmilla Dr'], [' San Diego', ' San Diego', ' San Diego', ' San Diego', ' San Diego', ' San Diego', ' San Diego', ' San Diego', ' San Diego', ' San Diego', ' San Diego', ' San Diego', ' San Diego', ' San Diego', ' San Diego', ' San Diego', ' San Diego', ' San Diego', ' San Diego', ' San Diego'], [' CA 92122', ' CA 92122', ' CA 92122', ' CA 92122', ' CA 92122', ' CA 92122', ' CA 92122', ' CA 92122', ' CA 92122', ' CA 92122', ' CA 92122', ' CA 92122', ' CA 92122', ' CA 92122', ' CA 92122', ' CA 92122', ' CA 92122', ' CA 92122', ' CA 92122', ' CA 92122'])\n",
      "92065\n"
     ]
    },
    {
     "name": "stderr",
     "output_type": "stream",
     "text": [
      "324it [28:09,  3.09s/it]"
     ]
    },
    {
     "name": "stdout",
     "output_type": "stream",
     "text": [
      "(['7608704012'], ['Canyon Crest Apartments, Ramona, CA'], ['1707 La Brea St'], [' Ramona'], [' CA 92065'])\n",
      "92121\n"
     ]
    },
    {
     "name": "stderr",
     "output_type": "stream",
     "text": [
      "360it [28:34,  1.60s/it]"
     ]
    },
    {
     "name": "stdout",
     "output_type": "stream",
     "text": [
      "(['8444140026', '8883393820', '8778723896', '8554060163', '8448730394', '8773368851'], ['Torrey Villas Apartment Homes, San Diego, CA', 'IMT Sorrento Valley, San Diego, CA', 'La Jolla Crossroads, San Diego, CA', 'Regents La Jolla, La Jolla, CA', 'LUX UTC, San Diego, CA', 'Towers at Costa Verde, San Diego, CA'], ['11100 Vista Sorrento Pkwy', '11102 Caminito Alvarez', '9085 Judicial Dr', '9253 Regents Rd', '4200 Brooke Ct', '8775 Costa Verde Blvd'], [' San Diego', ' San Diego', ' San Diego', ' La Jolla', ' San Diego', ' San Diego'], [' CA 92130', ' CA 92126', ' CA 92122', ' CA 92037', ' CA 92122', ' CA 92122'])\n",
      "92126\n"
     ]
    },
    {
     "name": "stderr",
     "output_type": "stream",
     "text": [
      "367it [29:10,  2.12s/it]"
     ]
    },
    {
     "name": "stdout",
     "output_type": "stream",
     "text": [
      "(['8585859806', '8883393820', '8774387119', '8442144687', '8669549912', '6193450388', '8443234167'], ['The Hub, San Diego, CA', 'IMT Sorrento Valley, San Diego, CA', 'Casa Mira View, San Diego, CA', 'Carroll Apartments, San Diego, CA', 'Solterra EcoLuxury Apartments, San Diego, CA', 'Gold Coast Apartments, San Diego, CA', 'Esplanade, San Diego, CA'], ['9840 Carroll Canyon Rd', '11102 Caminito Alvarez', '9800 Mira Lee Way', '9494 Carroll Canyon Rd', '9865-9895 Erma Rd', '9585 Gold Coast Dr', '10201 Camino Ruiz'], [' San Diego', ' San Diego', ' San Diego', ' San Diego', ' San Diego', ' San Diego', ' San Diego'], [' CA 92131', ' CA 92126', ' CA 92126', ' CA 92126', ' CA 92131', ' CA 92126', ' CA 92126'])\n",
      "92067\n"
     ]
    },
    {
     "name": "stderr",
     "output_type": "stream",
     "text": [
      "385it [29:15,  1.48s/it]"
     ]
    },
    {
     "name": "stdout",
     "output_type": "stream",
     "text": [
      "(['8585859806', '8883393820'], ['The Hub, San Diego, CA', 'IMT Sorrento Valley, San Diego, CA'], ['9840 Carroll Canyon Rd', '11102 Caminito Alvarez'], [' San Diego', ' San Diego'], [' CA 92131', ' CA 92126'])\n",
      "92119\n"
     ]
    },
    {
     "name": "stderr",
     "output_type": "stream",
     "text": [
      "415it [29:37,  1.13s/it]"
     ]
    },
    {
     "name": "stdout",
     "output_type": "stream",
     "text": [
      "(['8882627048', '8448908795', '6195977153'], ['Navajo Bluffs, San Diego, CA', 'Canyon View Apartments, San Diego, CA', 'Mission Trails Apartments San Diego, San Diego, CA'], ['6575 Jaffe Ct', '7149 Navajo Rd', '6975 Golfcrest Dr'], [' San Diego', ' San Diego', ' San Diego'], [' CA 92119', ' CA 92119', ' CA 92119'])\n",
      "91962\n"
     ]
    },
    {
     "name": "stderr",
     "output_type": "stream",
     "text": [
      "455it [29:41,  1.53it/s]"
     ]
    },
    {
     "name": "stdout",
     "output_type": "stream",
     "text": [
      "92028\n"
     ]
    },
    {
     "name": "stderr",
     "output_type": "stream",
     "text": [
      "464it [30:09,  1.02it/s]"
     ]
    },
    {
     "name": "stdout",
     "output_type": "stream",
     "text": [
      "92014\n"
     ]
    },
    {
     "name": "stderr",
     "output_type": "stream",
     "text": [
      "465it [30:43,  1.64s/it]"
     ]
    },
    {
     "name": "stdout",
     "output_type": "stream",
     "text": [
      "(['8446115108'], ['Bella Del Mar, Del Mar, CA'], ['14031 Mango Dr'], [' Del Mar'], [' CA 92014'])\n",
      "92173\n"
     ]
    },
    {
     "name": "stderr",
     "output_type": "stream",
     "text": [
      "470it [30:53,  1.68s/it]"
     ]
    },
    {
     "name": "stdout",
     "output_type": "stream",
     "text": [
      "92028\n"
     ]
    },
    {
     "name": "stderr",
     "output_type": "stream",
     "text": [
      "496it [31:21,  1.40s/it]"
     ]
    },
    {
     "name": "stdout",
     "output_type": "stream",
     "text": [
      "92106\n"
     ]
    },
    {
     "name": "stderr",
     "output_type": "stream",
     "text": [
      "580it [31:48,  1.54it/s]"
     ]
    },
    {
     "name": "stdout",
     "output_type": "stream",
     "text": [
      "(['8443893637', '8448757942'], ['Loma Palisades, San Diego, CA', 'Dylan Point Loma, San Diego, CA'], ['2799 Adrian St', '2930 Barnard St'], [' San Diego', ' San Diego'], [' CA 92110', ' CA 92110'])\n",
      "92028\n"
     ]
    },
    {
     "name": "stderr",
     "output_type": "stream",
     "text": [
      "639it [32:16,  1.71it/s]"
     ]
    },
    {
     "name": "stdout",
     "output_type": "stream",
     "text": [
      "92173\n"
     ]
    },
    {
     "name": "stderr",
     "output_type": "stream",
     "text": [
      "673it [32:26,  1.97it/s]"
     ]
    },
    {
     "name": "stdout",
     "output_type": "stream",
     "text": [
      "92173\n"
     ]
    },
    {
     "name": "stderr",
     "output_type": "stream",
     "text": [
      "691it [32:36,  1.95it/s]"
     ]
    },
    {
     "name": "stdout",
     "output_type": "stream",
     "text": [
      "92130\n"
     ]
    },
    {
     "name": "stderr",
     "output_type": "stream",
     "text": [
      "759it [33:09,  1.98it/s]"
     ]
    },
    {
     "name": "stdout",
     "output_type": "stream",
     "text": [
      "(['8442537272', '8445835041', '8444140026', '8583454310', '8582405651', '8775928707', '8446115108'], ['One Paseo Living, San Diego, CA', 'Sola, San Diego, CA', 'Torrey Villas Apartment Homes, San Diego, CA', 'Club Torrey Pines, San Diego, CA', 'Signature Point, San Diego, CA', 'Del Mar Ridge, San Diego, CA', 'Bella Del Mar, Del Mar, CA'], ['3200 Paseo Village Way', '13385 Highlands Pl', '11100 Vista Sorrento Pkwy', '12646 Torrey Bluff Dr', '13006 Signature Point Pt', '12629 El Camino Real', '14031 Mango Dr'], [' San Diego', ' San Diego', ' San Diego', ' San Diego', ' San Diego', ' San Diego', ' Del Mar'], [' CA 92130', ' CA 92130', ' CA 92130', ' CA 92130', ' CA 92130', ' CA 92130', ' CA 92014'])\n",
      "92173\n"
     ]
    },
    {
     "name": "stderr",
     "output_type": "stream",
     "text": [
      "791it [33:19,  2.19it/s]"
     ]
    },
    {
     "name": "stdout",
     "output_type": "stream",
     "text": [
      "92123\n"
     ]
    },
    {
     "name": "stderr",
     "output_type": "stream",
     "text": [
      "800it [34:02,  1.20it/s]"
     ]
    },
    {
     "name": "stdout",
     "output_type": "stream",
     "text": [
      "(['8448900735', '8443450179', '8448712586', '8446980185', '8444600665', '8444233775', '8444199467', '8667923478', '6196597086', '8442171183', '6197987758', '8448736008', '8443105065', '8586338832', '8586330438', '6197523576', '8664777135'], ['Vive Luxe, San Diego, CA', 'Domain Apartments, San Diego, CA', 'Vive on the Park, San Diego, CA', 'Mira Bella Apartments, San Diego, CA', 'Village Glen, San Diego, CA', 'Modernaire Apartments, San Diego, CA', 'Purl Apartments, San Diego, CA', 'Circa 37, San Diego, CA', 'The Village Mission Valley, San Diego, CA', 'Aquatera, San Diego, CA', 'IMT Mission Valley, San Diego, CA', 'Prado, San Diego, CA', 'Ariva Apartments, San Diego, CA', 'Avion At Spectrum, San Diego, CA', 'Arcadia at StoneCrest Village, San Diego, CA', 'The Modern Apartments, San Diego, CA', 'Monte Vista Apartment Homes, San Diego, CA'], ['4890 Sunroad Centrum Ln', '8798 Spectrum Center Blvd', '8725 Ariva Ct', '3455 Kearny Villa Rd', '3454 Ruffin Rd', '2420 Cardinal Dr', '7901 Civita Blvd', '7800 Westside Dr', '6555 Ambrosia Dr', '5777 Mission Center Rd', '10343 San Diego Mission Rd', '6304 Rancho Mission Rd', '4855 Ariva Way', '8811 Spectrum Center Blvd', '2643 W Canyon Ave', '7901-7921 Harmarsh St', '2507 Northside Dr'], [' San Diego', ' San Diego', ' San Diego', ' San Diego', ' San Diego', ' San Diego', ' San Diego', ' San Diego', ' San Diego', ' San Diego', ' San Diego', ' San Diego', ' San Diego', ' San Diego', ' San Diego', ' San Diego', ' San Diego'], [' CA 92123', ' CA 92123', ' CA 92123', ' CA 92123', ' CA 92123', ' CA 92123', ' CA 92108', ' CA 92108', ' CA 92124', ' CA 92108', ' CA 92108', ' CA 92108', ' CA 92123', ' CA 92123', ' CA 92123', ' CA 92123', ' CA 92108'])\n",
      "92028\n"
     ]
    },
    {
     "name": "stderr",
     "output_type": "stream",
     "text": [
      "817it [34:31,  1.01it/s]"
     ]
    },
    {
     "name": "stdout",
     "output_type": "stream",
     "text": [
      "92108\n"
     ]
    },
    {
     "name": "stderr",
     "output_type": "stream",
     "text": [
      "938it [35:17,  1.69it/s]"
     ]
    },
    {
     "name": "stdout",
     "output_type": "stream",
     "text": [
      "(['8589568410', '8444199467', '6195059796', '8445007713', '8442565067', '8667923478', '8445068314', '8442877194', '8665672337', '8442171183', '6197987758', '8448736008', '8776538560', '6198670760', '8448571678', '8558066722', '8664777135', '6197803560'], ['The Society, San Diego, CA', 'Purl Apartments, San Diego, CA', 'Griffis Mission Valley, San Diego, CA', 'Metro Mission Valley, San Diego, CA', 'Portofino Apartments, San Diego, CA', 'Circa 37, San Diego, CA', 'Alexan Gallerie, San Diego, CA', 'West Park, San Diego, CA', 'River Run Village, San Diego, CA', 'Aquatera, San Diego, CA', 'IMT Mission Valley, San Diego, CA', 'Prado, San Diego, CA', 'Club River Run, San Diego, CA', 'Arrive Mission Valley, San Diego, CA', 'Apex Mission Valley, San Diego, CA', 'Del Rio Apartment Homes, San Diego, CA', 'Monte Vista Apartment Homes, San Diego, CA', 'River Front Mission Valley, San Diego, CA'], ['610 Del Sol Dr N', '7901 Civita Blvd', '1440 Hotel Cir N', '5080 Camino Del Arroyo', '2500 Northside Dr', '7800 Westside Dr', '375 Camino De La Reina', '7777 Westside Dr', '2225-2295 River Run Dr', '5777 Mission Center Rd', '10343 San Diego Mission Rd', '6304 Rancho Mission Rd', '10041 Rio San Diego Dr', '5395 Napa St', '7084-7148 Friars Rd', '2288 Fenton Pkwy', '2507 Northside Dr', '710-790 Camino De La Reina'], [' San Diego', ' San Diego', ' San Diego', ' San Diego', ' San Diego', ' San Diego', ' San Diego', ' San Diego', ' San Diego', ' San Diego', ' San Diego', ' San Diego', ' San Diego', ' San Diego', ' San Diego', ' San Diego', ' San Diego', ' San Diego'], [' CA 92108', ' CA 92108', ' CA 92108', ' CA 92108', ' CA 92108', ' CA 92108', ' CA 92108', ' CA 92108', ' CA 92108', ' CA 92108', ' CA 92108', ' CA 92108', ' CA 92108', ' CA 92110', ' CA 92108', ' CA 92108', ' CA 92108', ' CA 92108'])\n",
      "91906\n"
     ]
    },
    {
     "name": "stderr",
     "output_type": "stream",
     "text": [
      "956it [35:21,  1.83it/s]"
     ]
    },
    {
     "name": "stdout",
     "output_type": "stream",
     "text": [
      "92173\n"
     ]
    },
    {
     "name": "stderr",
     "output_type": "stream",
     "text": [
      "992it [35:31,  2.11it/s]"
     ]
    },
    {
     "name": "stdout",
     "output_type": "stream",
     "text": [
      "92036\n"
     ]
    },
    {
     "name": "stderr",
     "output_type": "stream",
     "text": [
      "1003it [35:35,  2.16it/s]"
     ]
    },
    {
     "name": "stdout",
     "output_type": "stream",
     "text": [
      "92129\n"
     ]
    },
    {
     "name": "stderr",
     "output_type": "stream",
     "text": [
      "1043it [36:10,  1.65it/s]"
     ]
    },
    {
     "name": "stdout",
     "output_type": "stream",
     "text": [
      "(['7603003255', '8884139645', '8442153677', '8882994136'], ['The Hills, San Diego, CA', 'Cresta Bella, San Diego, CA', 'The Courtyards Pacific Village, San Diego, CA', 'The Villas at Camino Bernardo, San Diego, CA'], ['15095 Via Hondonada', '11035 Via Livorno', '10977 Pacific Point Pl', '11203 Paseo Montanoso'], [' San Diego', ' San Diego', ' San Diego', ' San Diego'], [' CA 92129', ' CA 92129', ' CA 92129', ' CA 92127'])\n",
      "92078\n"
     ]
    },
    {
     "name": "stderr",
     "output_type": "stream",
     "text": [
      "1058it [36:50,  1.08it/s]"
     ]
    },
    {
     "name": "stdout",
     "output_type": "stream",
     "text": [
      "(['8442073575', '8888206381', '8337598788', '8336829753', '7604886539', '4422818396'], ['Prominence Luxury Apartments I, San Marcos, CA', 'Mariposa Apartment Homes, Vista, CA', 'WINDSOR MANOR I, San Marcos, CA', 'Barham Villas Apartment Homes, San Marcos, CA', 'Block C Apartments, San Marcos, CA', 'Avenue at San Marcos, San Marcos, CA'], ['601 S Twin Oaks Valley Rd', '221 Smilax Rd', '250 Knoll Rd', '570 E Barham Dr', '250 North City Dr', '506 E Barham Dr'], [' San Marcos', ' Vista', ' San Marcos', ' San Marcos', ' San Marcos', ' San Marcos'], [' CA 92078', ' CA 92083', ' CA 92069', ' CA 92078', ' CA 92078', ' CA 92078'])\n",
      "91934\n"
     ]
    },
    {
     "name": "stderr",
     "output_type": "stream",
     "text": [
      "1064it [36:54,  1.10it/s]"
     ]
    },
    {
     "name": "stdout",
     "output_type": "stream",
     "text": [
      "92028\n"
     ]
    },
    {
     "name": "stderr",
     "output_type": "stream",
     "text": [
      "1079it [37:22,  1.13s/it]"
     ]
    },
    {
     "name": "stdout",
     "output_type": "stream",
     "text": [
      "92004\n"
     ]
    },
    {
     "name": "stderr",
     "output_type": "stream",
     "text": [
      "1096it [37:27,  1.10it/s]"
     ]
    },
    {
     "name": "stdout",
     "output_type": "stream",
     "text": [
      "92173\n"
     ]
    },
    {
     "name": "stderr",
     "output_type": "stream",
     "text": [
      "1134it [37:37,  1.65it/s]"
     ]
    },
    {
     "name": "stdout",
     "output_type": "stream",
     "text": [
      "92028\n"
     ]
    },
    {
     "name": "stderr",
     "output_type": "stream",
     "text": [
      "1183it [38:06,  1.67it/s]"
     ]
    },
    {
     "name": "stdout",
     "output_type": "stream",
     "text": [
      "92029\n"
     ]
    },
    {
     "name": "stderr",
     "output_type": "stream",
     "text": [
      "1205it [38:18,  1.69it/s]"
     ]
    },
    {
     "name": "stdout",
     "output_type": "stream",
     "text": [
      "92173\n"
     ]
    },
    {
     "name": "stderr",
     "output_type": "stream",
     "text": [
      "1210it [38:28,  1.47it/s]"
     ]
    },
    {
     "name": "stdout",
     "output_type": "stream",
     "text": [
      "92028\n"
     ]
    },
    {
     "name": "stderr",
     "output_type": "stream",
     "text": [
      "1213it [38:55,  1.16s/it]"
     ]
    },
    {
     "name": "stdout",
     "output_type": "stream",
     "text": [
      "92056\n"
     ]
    },
    {
     "name": "stderr",
     "output_type": "stream",
     "text": [
      "1303it [39:29,  1.66it/s]"
     ]
    },
    {
     "name": "stdout",
     "output_type": "stream",
     "text": [
      "(['8583805423', '7609867308', '4422245743', '8442923712', '8442967998', '8442243928', '8448530576', '8445151277', '8447469645'], ['Skye Apartments, Vista, CA', 'Sunset View, Oceanside, CA', 'Sofi Ocean Hills, Oceanside, CA', 'Carlsbad View Apartments, Oceanside, CA', 'Elan Milano, Oceanside, CA', 'SunTerra, Oceanside, CA', 'Marisol Carlsbad, Carlsbad, CA', 'Emerald Vista Apartments, Vista, CA', 'Villa Camino, Oceanside, CA'], ['501 W Bobier Dr', '2500 Sea Cliff Way', '3500 Windrift Way', '3675 Barnard Dr', '3634 College Blvd', '3851 Sherbourne Dr', '3251 Marisol Pl', '240-246 N Emerald Dr', '2051 Geneva St'], [' Vista', ' Oceanside', ' Oceanside', ' Oceanside', ' Oceanside', ' Oceanside', ' Carlsbad', ' Vista', ' Oceanside'], [' CA 92083', ' CA 92056', ' CA 92056', ' CA 92056', ' CA 92056', ' CA 92056', ' CA 92010', ' CA 92083', ' CA 92054'])\n",
      "92127\n"
     ]
    },
    {
     "name": "stderr",
     "output_type": "stream",
     "text": [
      "1344it [39:58,  1.57it/s]"
     ]
    },
    {
     "name": "stdout",
     "output_type": "stream",
     "text": [
      "(['8882994136', '8669295572', '8442144707', '8444770741'], ['The Villas at Camino Bernardo, San Diego, CA', 'La Terraza Apartments, San Diego, CA', 'Deerwood, San Diego, CA', 'Ventana, San Diego, CA'], ['11203 Paseo Montanoso', '10878 Poblado Rd', '15640 Bernardo Center Dr', '18795 Caminito Cantilena'], [' San Diego', ' San Diego', ' San Diego', ' San Diego'], [' CA 92127', ' CA 92127', ' CA 92127', ' CA 92128'])\n",
      "92173\n"
     ]
    },
    {
     "name": "stderr",
     "output_type": "stream",
     "text": [
      "1368it [40:08,  1.70it/s]"
     ]
    },
    {
     "name": "stdout",
     "output_type": "stream",
     "text": [
      "91906\n"
     ]
    },
    {
     "name": "stderr",
     "output_type": "stream",
     "text": [
      "1407it [40:12,  2.31it/s]"
     ]
    },
    {
     "name": "stdout",
     "output_type": "stream",
     "text": [
      "92173\n"
     ]
    },
    {
     "name": "stderr",
     "output_type": "stream",
     "text": [
      "1408it [40:22,  1.86it/s]"
     ]
    },
    {
     "name": "stdout",
     "output_type": "stream",
     "text": [
      "92028\n"
     ]
    },
    {
     "name": "stderr",
     "output_type": "stream",
     "text": [
      "1448it [40:49,  1.66it/s]"
     ]
    },
    {
     "name": "stdout",
     "output_type": "stream",
     "text": [
      "92028\n"
     ]
    },
    {
     "name": "stderr",
     "output_type": "stream",
     "text": [
      "1471it [41:17,  1.33it/s]"
     ]
    },
    {
     "name": "stdout",
     "output_type": "stream",
     "text": [
      "92028\n"
     ]
    },
    {
     "name": "stderr",
     "output_type": "stream",
     "text": [
      "1535it [41:45,  1.68it/s]"
     ]
    },
    {
     "name": "stdout",
     "output_type": "stream",
     "text": [
      "91901\n"
     ]
    },
    {
     "name": "stderr",
     "output_type": "stream",
     "text": [
      "1550it [41:54,  1.69it/s]"
     ]
    },
    {
     "name": "stdout",
     "output_type": "stream",
     "text": [
      "(['8442636429', '8442744986'], ['Alpine Woods, Alpine, CA', 'Creekside Meadows Apartments, Alpine, CA'], ['1829 Arnold Way', '1750 Arnold Way'], [' Alpine', ' Alpine'], [' CA 91901', ' CA 91901'])\n",
      "92028\n"
     ]
    },
    {
     "name": "stderr",
     "output_type": "stream",
     "text": [
      "1582it [42:22,  1.48it/s]"
     ]
    },
    {
     "name": "stdout",
     "output_type": "stream",
     "text": [
      "92028\n"
     ]
    },
    {
     "name": "stderr",
     "output_type": "stream",
     "text": [
      "1623it [42:49,  1.48it/s]"
     ]
    },
    {
     "name": "stdout",
     "output_type": "stream",
     "text": [
      "92173\n"
     ]
    },
    {
     "name": "stderr",
     "output_type": "stream",
     "text": [
      "1672it [42:59,  2.02it/s]"
     ]
    },
    {
     "name": "stdout",
     "output_type": "stream",
     "text": [
      "92028\n"
     ]
    },
    {
     "name": "stderr",
     "output_type": "stream",
     "text": [
      "1702it [43:27,  1.66it/s]"
     ]
    },
    {
     "name": "stdout",
     "output_type": "stream",
     "text": [
      "92029\n"
     ]
    },
    {
     "name": "stderr",
     "output_type": "stream",
     "text": [
      "1738it [43:39,  1.90it/s]"
     ]
    },
    {
     "name": "stdout",
     "output_type": "stream",
     "text": [
      "92120\n"
     ]
    },
    {
     "name": "stderr",
     "output_type": "stream",
     "text": [
      "1822it [44:09,  2.28it/s]"
     ]
    },
    {
     "name": "stdout",
     "output_type": "stream",
     "text": [
      "(['8447671788', '8448577885', '6196597086', '4422504301', '8448425362'], ['Gravity, San Diego, CA', 'Terra at Mission Trails, San Diego, CA', 'The Village Mission Valley, San Diego, CA', 'Latitude Apartments at Mission Valley, San Diego, CA', 'Villa Del Sol, San Diego, CA'], ['4560 Mission Gorge Pl', '7707 Mission Gorge Rd', '6555 Ambrosia Dr', '4580 Zion Ave', '5474 Reservoir Dr'], [' San Diego', ' San Diego', ' San Diego', ' San Diego', ' San Diego'], [' CA 92120', ' CA 92120', ' CA 92124', ' CA 92120', ' CA 92120'])\n",
      "92029\n"
     ]
    },
    {
     "name": "stderr",
     "output_type": "stream",
     "text": [
      "1880it [44:21,  2.74it/s]"
     ]
    },
    {
     "name": "stdout",
     "output_type": "stream",
     "text": [
      "91962\n"
     ]
    },
    {
     "name": "stderr",
     "output_type": "stream",
     "text": [
      "1946it [44:25,  3.85it/s]"
     ]
    },
    {
     "name": "stdout",
     "output_type": "stream",
     "text": [
      "91978\n"
     ]
    },
    {
     "name": "stderr",
     "output_type": "stream",
     "text": [
      "1965it [44:35,  3.44it/s]"
     ]
    },
    {
     "name": "stdout",
     "output_type": "stream",
     "text": [
      "(['6194850038'], ['Woodbridge Apartments, La Mesa, CA'], ['10874-10910 Calle Verde'], [' La Mesa'], [' CA 91941'])\n",
      "92173\n"
     ]
    },
    {
     "name": "stderr",
     "output_type": "stream",
     "text": [
      "1973it [44:45,  2.82it/s]"
     ]
    },
    {
     "name": "stdout",
     "output_type": "stream",
     "text": [
      "92028\n"
     ]
    },
    {
     "name": "stderr",
     "output_type": "stream",
     "text": [
      "2059it [45:13,  2.95it/s]"
     ]
    },
    {
     "name": "stdout",
     "output_type": "stream",
     "text": [
      "92028\n"
     ]
    },
    {
     "name": "stderr",
     "output_type": "stream",
     "text": [
      "2071it [45:40,  1.91it/s]"
     ]
    },
    {
     "name": "stdout",
     "output_type": "stream",
     "text": [
      "92028\n"
     ]
    },
    {
     "name": "stderr",
     "output_type": "stream",
     "text": [
      "2079it [46:08,  1.31it/s]"
     ]
    },
    {
     "name": "stdout",
     "output_type": "stream",
     "text": [
      "92173\n"
     ]
    },
    {
     "name": "stderr",
     "output_type": "stream",
     "text": [
      "2217it [46:18,  3.33it/s]"
     ]
    },
    {
     "name": "stdout",
     "output_type": "stream",
     "text": [
      "91906\n"
     ]
    },
    {
     "name": "stderr",
     "output_type": "stream",
     "text": [
      "2342it [46:22,  5.67it/s]"
     ]
    },
    {
     "name": "stdout",
     "output_type": "stream",
     "text": [
      "92029\n"
     ]
    },
    {
     "name": "stderr",
     "output_type": "stream",
     "text": [
      "2406it [46:34,  5.51it/s]"
     ]
    },
    {
     "name": "stdout",
     "output_type": "stream",
     "text": [
      "92173\n"
     ]
    },
    {
     "name": "stderr",
     "output_type": "stream",
     "text": [
      "2409it [46:44,  4.33it/s]"
     ]
    },
    {
     "name": "stdout",
     "output_type": "stream",
     "text": [
      "92029\n"
     ]
    },
    {
     "name": "stderr",
     "output_type": "stream",
     "text": [
      "2437it [46:56,  3.70it/s]"
     ]
    },
    {
     "name": "stdout",
     "output_type": "stream",
     "text": [
      "92028\n"
     ]
    },
    {
     "name": "stderr",
     "output_type": "stream",
     "text": [
      "2463it [47:25,  2.33it/s]"
     ]
    },
    {
     "name": "stdout",
     "output_type": "stream",
     "text": [
      "92028\n"
     ]
    },
    {
     "name": "stderr",
     "output_type": "stream",
     "text": [
      "2520it [47:52,  2.22it/s]"
     ]
    },
    {
     "name": "stdout",
     "output_type": "stream",
     "text": [
      "92028\n"
     ]
    },
    {
     "name": "stderr",
     "output_type": "stream",
     "text": [
      "2567it [48:20,  2.02it/s]"
     ]
    },
    {
     "name": "stdout",
     "output_type": "stream",
     "text": [
      "92173\n"
     ]
    },
    {
     "name": "stderr",
     "output_type": "stream",
     "text": [
      "2574it [48:30,  1.82it/s]"
     ]
    },
    {
     "name": "stdout",
     "output_type": "stream",
     "text": [
      "92173\n"
     ]
    },
    {
     "name": "stderr",
     "output_type": "stream",
     "text": [
      "2580it [48:39,  1.61it/s]"
     ]
    },
    {
     "name": "stdout",
     "output_type": "stream",
     "text": [
      "92029\n"
     ]
    },
    {
     "name": "stderr",
     "output_type": "stream",
     "text": [
      "2639it [48:52,  2.40it/s]"
     ]
    },
    {
     "name": "stdout",
     "output_type": "stream",
     "text": [
      "92131\n"
     ]
    },
    {
     "name": "stderr",
     "output_type": "stream",
     "text": [
      "2670it [49:25,  1.69it/s]"
     ]
    },
    {
     "name": "stdout",
     "output_type": "stream",
     "text": [
      "(['8585859806', '8669549912', '8442236468', '8774387119', '8669070200'], ['The Hub, San Diego, CA', 'Solterra EcoLuxury Apartments, San Diego, CA', 'Creek View Condominium Rentals, San Diego, CA', 'Casa Mira View, San Diego, CA', 'Ridgewood Village, San Diego, CA'], ['9840 Carroll Canyon Rd', '9865-9895 Erma Rd', '12389 Creekview Dr', '9800 Mira Lee Way', '12435 Heatherton Ct'], [' San Diego', ' San Diego', ' San Diego', ' San Diego', ' San Diego'], [' CA 92131', ' CA 92131', ' CA 92128', ' CA 92126', ' CA 92128'])\n",
      "92173\n"
     ]
    },
    {
     "name": "stderr",
     "output_type": "stream",
     "text": [
      "2675it [49:34,  1.49it/s]"
     ]
    },
    {
     "name": "stdout",
     "output_type": "stream",
     "text": [
      "92028\n"
     ]
    },
    {
     "name": "stderr",
     "output_type": "stream",
     "text": [
      "2707it [50:02,  1.35it/s]"
     ]
    },
    {
     "name": "stdout",
     "output_type": "stream",
     "text": [
      "92028\n"
     ]
    },
    {
     "name": "stderr",
     "output_type": "stream",
     "text": [
      "2756it [50:30,  1.50it/s]"
     ]
    },
    {
     "name": "stdout",
     "output_type": "stream",
     "text": [
      "92028\n"
     ]
    },
    {
     "name": "stderr",
     "output_type": "stream",
     "text": [
      "2758it [50:58,  1.01it/s]"
     ]
    },
    {
     "name": "stdout",
     "output_type": "stream",
     "text": [
      "92173\n"
     ]
    },
    {
     "name": "stderr",
     "output_type": "stream",
     "text": [
      "2763it [51:07,  1.06s/it]"
     ]
    },
    {
     "name": "stdout",
     "output_type": "stream",
     "text": [
      "92028\n"
     ]
    },
    {
     "name": "stderr",
     "output_type": "stream",
     "text": [
      "2817it [51:35,  1.32it/s]"
     ]
    },
    {
     "name": "stdout",
     "output_type": "stream",
     "text": [
      "92029\n"
     ]
    },
    {
     "name": "stderr",
     "output_type": "stream",
     "text": [
      "2846it [51:47,  1.51it/s]"
     ]
    },
    {
     "name": "stdout",
     "output_type": "stream",
     "text": [
      "92173\n"
     ]
    },
    {
     "name": "stderr",
     "output_type": "stream",
     "text": [
      "2853it [51:57,  1.38it/s]"
     ]
    },
    {
     "name": "stdout",
     "output_type": "stream",
     "text": [
      "92173\n"
     ]
    },
    {
     "name": "stderr",
     "output_type": "stream",
     "text": [
      "2909it [52:06,  2.28it/s]"
     ]
    },
    {
     "name": "stdout",
     "output_type": "stream",
     "text": [
      "92173\n"
     ]
    },
    {
     "name": "stderr",
     "output_type": "stream",
     "text": [
      "2925it [52:16,  2.15it/s]"
     ]
    },
    {
     "name": "stdout",
     "output_type": "stream",
     "text": [
      "92128\n"
     ]
    },
    {
     "name": "stderr",
     "output_type": "stream",
     "text": [
      "2931it [52:53,  1.05it/s]"
     ]
    },
    {
     "name": "stdout",
     "output_type": "stream",
     "text": [
      "(['8442236468', '8884139645', '8882994136', '8442153677', '8442393130', '4422818394', '8669070200', '7606704998', '8444770741'], ['Creek View Condominium Rentals, San Diego, CA', 'Cresta Bella, San Diego, CA', 'The Villas at Camino Bernardo, San Diego, CA', 'The Courtyards Pacific Village, San Diego, CA', 'Evening Creek, San Diego, CA', 'La Serena, San Diego, CA', 'Ridgewood Village, San Diego, CA', 'Carmel Terrace, San Diego, CA', 'Ventana, San Diego, CA'], ['12389 Creekview Dr', '11035 Via Livorno', '11203 Paseo Montanoso', '10977 Pacific Point Pl', '10918 Evening Creek Dr E', '15605-15677 Avenida Alcachofa', '12435 Heatherton Ct', '11540 Windcrest Ln', '18795 Caminito Cantilena'], [' San Diego', ' San Diego', ' San Diego', ' San Diego', ' San Diego', ' San Diego', ' San Diego', ' San Diego', ' San Diego'], [' CA 92128', ' CA 92129', ' CA 92127', ' CA 92129', ' CA 92128', ' CA 92128', ' CA 92128', ' CA 92128', ' CA 92128'])\n",
      "92173\n"
     ]
    },
    {
     "name": "stderr",
     "output_type": "stream",
     "text": [
      "3010it [53:03,  2.27it/s]"
     ]
    },
    {
     "name": "stdout",
     "output_type": "stream",
     "text": [
      "92173\n"
     ]
    },
    {
     "name": "stderr",
     "output_type": "stream",
     "text": [
      "3092it [53:12,  3.50it/s]"
     ]
    },
    {
     "name": "stdout",
     "output_type": "stream",
     "text": [
      "92173\n"
     ]
    },
    {
     "name": "stderr",
     "output_type": "stream",
     "text": [
      "3101it [53:22,  2.95it/s]"
     ]
    },
    {
     "name": "stdout",
     "output_type": "stream",
     "text": [
      "92173\n"
     ]
    },
    {
     "name": "stderr",
     "output_type": "stream",
     "text": [
      "3154it [53:31,  3.57it/s]"
     ]
    },
    {
     "name": "stdout",
     "output_type": "stream",
     "text": [
      "92173\n"
     ]
    },
    {
     "name": "stderr",
     "output_type": "stream",
     "text": [
      "3167it [53:40,  3.02it/s]"
     ]
    },
    {
     "name": "stdout",
     "output_type": "stream",
     "text": [
      "92028\n"
     ]
    },
    {
     "name": "stderr",
     "output_type": "stream",
     "text": [
      "3173it [54:09,  1.57it/s]"
     ]
    },
    {
     "name": "stdout",
     "output_type": "stream",
     "text": [
      "92173\n"
     ]
    },
    {
     "name": "stderr",
     "output_type": "stream",
     "text": [
      "3209it [54:18,  2.01it/s]"
     ]
    },
    {
     "name": "stdout",
     "output_type": "stream",
     "text": [
      "92010\n"
     ]
    },
    {
     "name": "stderr",
     "output_type": "stream",
     "text": [
      "3213it [54:49,  1.11it/s]"
     ]
    },
    {
     "name": "stdout",
     "output_type": "stream",
     "text": [
      "(['8444449330', '6198802358', '8448530576', '8774187295', '8442967998'], ['Montecito Apartments at Carlsbad, Carlsbad, CA', 'Casa Aldea at Carlsbad, Carlsbad, CA', 'Marisol Carlsbad, Carlsbad, CA', 'The Bluffs at Carlsbad, Carlsbad, CA', 'Elan Milano, Oceanside, CA'], ['2510 W Ranch St', '2615 Cannon Rd', '3251 Marisol Pl', '2701-2707 Avenida de Anita', '3634 College Blvd'], [' Carlsbad', ' Carlsbad', ' Carlsbad', ' Carlsbad', ' Oceanside'], [' CA 92010', ' CA 92010', ' CA 92010', ' CA 92010', ' CA 92056'])\n",
      "92028\n"
     ]
    },
    {
     "name": "stderr",
     "output_type": "stream",
     "text": [
      "3259it [55:17,  1.32it/s]"
     ]
    },
    {
     "name": "stdout",
     "output_type": "stream",
     "text": [
      "92028\n"
     ]
    },
    {
     "name": "stderr",
     "output_type": "stream",
     "text": [
      "3279it [55:45,  1.10it/s]"
     ]
    },
    {
     "name": "stdout",
     "output_type": "stream",
     "text": [
      "92173\n"
     ]
    },
    {
     "name": "stderr",
     "output_type": "stream",
     "text": [
      "3291it [55:54,  1.13it/s]"
     ]
    },
    {
     "name": "stdout",
     "output_type": "stream",
     "text": [
      "91915\n"
     ]
    },
    {
     "name": "stderr",
     "output_type": "stream",
     "text": [
      "3367it [56:32,  1.52it/s]"
     ]
    },
    {
     "name": "stdout",
     "output_type": "stream",
     "text": [
      "(['8444075255', '4803006349', '8552077983', '8582164436', '8443294367', '8447901890', '8776511479'], ['Boardwalk at Millenia, Chula Vista, CA', 'The Avalyn, Chula Vista, CA', 'CasaLago Eastlake, Chula Vista, CA', 'The Residences at Cota Vera, Chula Vista, CA', 'The Residences at Escaya, Chula Vista, CA', 'Pulse Millenia Apartments, Chula Vista, CA', 'Rivue, Chula Vista, CA'], ['1660 Metro Ave', '1774 Metro Ave', '2816 Cielo Circulo', '1575 Camino Altezza', '1925 Avenida Escaya', '2043 Artisan Way', '1902 Millenia Ave'], [' Chula Vista', ' Chula Vista', ' Chula Vista', ' Chula Vista', ' Chula Vista', ' Chula Vista', ' Chula Vista'], [' CA 91915', ' CA 91915', ' CA 91915', ' CA 91915', ' CA 91913', ' CA 91915', ' CA 91915'])\n",
      "92029\n"
     ]
    },
    {
     "name": "stderr",
     "output_type": "stream",
     "text": [
      "3429it [56:45,  2.13it/s]"
     ]
    },
    {
     "name": "stdout",
     "output_type": "stream",
     "text": [
      "92082\n"
     ]
    },
    {
     "name": "stderr",
     "output_type": "stream",
     "text": [
      "3498it [56:53,  3.00it/s]"
     ]
    },
    {
     "name": "stdout",
     "output_type": "stream",
     "text": [
      "92173\n"
     ]
    },
    {
     "name": "stderr",
     "output_type": "stream",
     "text": [
      "3535it [57:03,  3.16it/s]"
     ]
    },
    {
     "name": "stdout",
     "output_type": "stream",
     "text": [
      "92173\n"
     ]
    },
    {
     "name": "stderr",
     "output_type": "stream",
     "text": [
      "3538it [57:13,  2.55it/s]"
     ]
    },
    {
     "name": "stdout",
     "output_type": "stream",
     "text": [
      "92173\n"
     ]
    },
    {
     "name": "stderr",
     "output_type": "stream",
     "text": [
      "3609it [57:22,  3.67it/s]"
     ]
    },
    {
     "name": "stdout",
     "output_type": "stream",
     "text": [
      "92036\n"
     ]
    },
    {
     "name": "stderr",
     "output_type": "stream",
     "text": [
      "3740it [57:27,  7.18it/s]"
     ]
    },
    {
     "name": "stdout",
     "output_type": "stream",
     "text": [
      "92173\n"
     ]
    },
    {
     "name": "stderr",
     "output_type": "stream",
     "text": [
      "3798it [57:36,  6.83it/s]"
     ]
    },
    {
     "name": "stdout",
     "output_type": "stream",
     "text": [
      "92173\n"
     ]
    },
    {
     "name": "stderr",
     "output_type": "stream",
     "text": [
      "3874it [57:46,  7.16it/s]"
     ]
    },
    {
     "name": "stdout",
     "output_type": "stream",
     "text": [
      "92028\n"
     ]
    },
    {
     "name": "stderr",
     "output_type": "stream",
     "text": [
      "3881it [58:14,  3.31it/s]"
     ]
    },
    {
     "name": "stdout",
     "output_type": "stream",
     "text": [
      "92028\n"
     ]
    },
    {
     "name": "stderr",
     "output_type": "stream",
     "text": [
      "3992it [58:43,  3.59it/s]"
     ]
    },
    {
     "name": "stdout",
     "output_type": "stream",
     "text": [
      "92173\n"
     ]
    },
    {
     "name": "stderr",
     "output_type": "stream",
     "text": [
      "4022it [58:52,  3.51it/s]"
     ]
    },
    {
     "name": "stdout",
     "output_type": "stream",
     "text": [
      "92036\n"
     ]
    },
    {
     "name": "stderr",
     "output_type": "stream",
     "text": [
      "4023it [58:56,  3.18it/s]"
     ]
    },
    {
     "name": "stdout",
     "output_type": "stream",
     "text": [
      "92173\n"
     ]
    },
    {
     "name": "stderr",
     "output_type": "stream",
     "text": [
      "4029it [59:06,  2.55it/s]"
     ]
    },
    {
     "name": "stdout",
     "output_type": "stream",
     "text": [
      "92004\n"
     ]
    },
    {
     "name": "stderr",
     "output_type": "stream",
     "text": [
      "4049it [59:11,  2.76it/s]"
     ]
    },
    {
     "name": "stdout",
     "output_type": "stream",
     "text": [
      "92029\n"
     ]
    },
    {
     "name": "stderr",
     "output_type": "stream",
     "text": [
      "4051it [59:24,  1.82it/s]"
     ]
    },
    {
     "name": "stdout",
     "output_type": "stream",
     "text": [
      "92004\n"
     ]
    },
    {
     "name": "stderr",
     "output_type": "stream",
     "text": [
      "4055it [59:29,  1.64it/s]"
     ]
    },
    {
     "name": "stdout",
     "output_type": "stream",
     "text": [
      "92004\n"
     ]
    },
    {
     "name": "stderr",
     "output_type": "stream",
     "text": [
      "4066it [59:35,  1.72it/s]"
     ]
    },
    {
     "name": "stdout",
     "output_type": "stream",
     "text": [
      "92028\n"
     ]
    },
    {
     "name": "stderr",
     "output_type": "stream",
     "text": [
      "4074it [1:00:03,  1.17s/it]"
     ]
    },
    {
     "name": "stdout",
     "output_type": "stream",
     "text": [
      "92028\n"
     ]
    },
    {
     "name": "stderr",
     "output_type": "stream",
     "text": [
      "4075it [1:00:31,  2.11s/it]"
     ]
    },
    {
     "name": "stdout",
     "output_type": "stream",
     "text": [
      "92173\n"
     ]
    },
    {
     "name": "stderr",
     "output_type": "stream",
     "text": [
      "4090it [1:00:41,  1.49s/it]"
     ]
    },
    {
     "name": "stdout",
     "output_type": "stream",
     "text": [
      "92173\n"
     ]
    },
    {
     "name": "stderr",
     "output_type": "stream",
     "text": [
      "4104it [1:00:51,  1.20s/it]"
     ]
    },
    {
     "name": "stdout",
     "output_type": "stream",
     "text": [
      "92173\n"
     ]
    },
    {
     "name": "stderr",
     "output_type": "stream",
     "text": [
      "4134it [1:01:00,  1.36it/s]"
     ]
    },
    {
     "name": "stdout",
     "output_type": "stream",
     "text": [
      "92173\n"
     ]
    },
    {
     "name": "stderr",
     "output_type": "stream",
     "text": [
      "4164it [1:01:10,  1.79it/s]"
     ]
    },
    {
     "name": "stdout",
     "output_type": "stream",
     "text": [
      "92173\n"
     ]
    },
    {
     "name": "stderr",
     "output_type": "stream",
     "text": [
      "4210it [1:01:20,  2.56it/s]"
     ]
    },
    {
     "name": "stdout",
     "output_type": "stream",
     "text": [
      "92173\n"
     ]
    },
    {
     "name": "stderr",
     "output_type": "stream",
     "text": [
      "4257it [1:01:29,  3.19it/s]"
     ]
    },
    {
     "name": "stdout",
     "output_type": "stream",
     "text": [
      "92173\n"
     ]
    },
    {
     "name": "stderr",
     "output_type": "stream",
     "text": [
      "4317it [1:01:39,  4.05it/s]"
     ]
    },
    {
     "name": "stdout",
     "output_type": "stream",
     "text": [
      "92173\n"
     ]
    },
    {
     "name": "stderr",
     "output_type": "stream",
     "text": [
      "4352it [1:01:48,  3.93it/s]"
     ]
    },
    {
     "name": "stdout",
     "output_type": "stream",
     "text": [
      "92173\n"
     ]
    },
    {
     "name": "stderr",
     "output_type": "stream",
     "text": [
      "4360it [1:01:58,  3.03it/s]"
     ]
    },
    {
     "name": "stdout",
     "output_type": "stream",
     "text": [
      "92028\n"
     ]
    },
    {
     "name": "stderr",
     "output_type": "stream",
     "text": [
      "4388it [1:02:26,  1.92it/s]"
     ]
    },
    {
     "name": "stdout",
     "output_type": "stream",
     "text": [
      "92029\n"
     ]
    },
    {
     "name": "stderr",
     "output_type": "stream",
     "text": [
      "4418it [1:02:39,  2.02it/s]"
     ]
    },
    {
     "name": "stdout",
     "output_type": "stream",
     "text": [
      "92028\n"
     ]
    },
    {
     "name": "stderr",
     "output_type": "stream",
     "text": [
      "4445it [1:03:08,  1.53it/s]"
     ]
    },
    {
     "name": "stdout",
     "output_type": "stream",
     "text": [
      "92028\n"
     ]
    },
    {
     "name": "stderr",
     "output_type": "stream",
     "text": [
      "4510it [1:03:36,  1.84it/s]"
     ]
    },
    {
     "name": "stdout",
     "output_type": "stream",
     "text": [
      "92028\n"
     ]
    },
    {
     "name": "stderr",
     "output_type": "stream",
     "text": [
      "4636it [1:04:04,  2.77it/s]"
     ]
    },
    {
     "name": "stdout",
     "output_type": "stream",
     "text": [
      "92173\n"
     ]
    },
    {
     "name": "stderr",
     "output_type": "stream",
     "text": [
      "4640it [1:04:14,  2.42it/s]"
     ]
    },
    {
     "name": "stdout",
     "output_type": "stream",
     "text": [
      "92173\n"
     ]
    },
    {
     "name": "stderr",
     "output_type": "stream",
     "text": [
      "4854it [1:04:23,  5.89it/s]"
     ]
    },
    {
     "name": "stdout",
     "output_type": "stream",
     "text": [
      "92173\n"
     ]
    },
    {
     "name": "stderr",
     "output_type": "stream",
     "text": [
      "4859it [1:04:33,  4.82it/s]"
     ]
    },
    {
     "name": "stdout",
     "output_type": "stream",
     "text": [
      "92173\n"
     ]
    },
    {
     "name": "stderr",
     "output_type": "stream",
     "text": [
      "4867it [1:04:43,  3.91it/s]"
     ]
    },
    {
     "name": "stdout",
     "output_type": "stream",
     "text": [
      "92028\n"
     ]
    },
    {
     "name": "stderr",
     "output_type": "stream",
     "text": [
      "4869it [1:05:11,  2.07it/s]"
     ]
    },
    {
     "name": "stdout",
     "output_type": "stream",
     "text": [
      "92173\n"
     ]
    },
    {
     "name": "stderr",
     "output_type": "stream",
     "text": [
      "4875it [1:05:21,  1.79it/s]"
     ]
    },
    {
     "name": "stdout",
     "output_type": "stream",
     "text": [
      "91913\n"
     ]
    },
    {
     "name": "stderr",
     "output_type": "stream",
     "text": [
      "4933it [1:05:55,  1.74it/s]"
     ]
    },
    {
     "name": "stdout",
     "output_type": "stream",
     "text": [
      "(['6196531433', '8442535326', '8443294367', '6572232537', '4803006349', '8776511479', '8442235947', '8442329699'], ['Contessa and Marquis at Otay Ranch, Chula Vista, CA', 'The Club at Enclave, Chula Vista, CA', 'The Residences at Escaya, Chula Vista, CA', 'Enclave Otay Ranch, Chula Vista, CA', 'The Avalyn, Chula Vista, CA', 'Rivue, Chula Vista, CA', 'Teresina, Chula Vista, CA', 'Bonita Hills Apartments, Chula Vista, CA'], ['1924 E Palomar St', '1629 Santa Venetia St', '1925 Avenida Escaya', '1625 Santa Venetia St', '1774 Metro Ave', '1902 Millenia Ave', '1250-1251 Santa Cora Ave', '1416 Ridgeback Rd'], [' Chula Vista', ' Chula Vista', ' Chula Vista', ' Chula Vista', ' Chula Vista', ' Chula Vista', ' Chula Vista', ' Chula Vista'], [' CA 91913', ' CA 91913', ' CA 91913', ' CA 91913', ' CA 91915', ' CA 91915', ' CA 91913', ' CA 91910'])\n",
      "92173\n"
     ]
    },
    {
     "name": "stderr",
     "output_type": "stream",
     "text": [
      "4935it [1:06:05,  1.49it/s]"
     ]
    },
    {
     "name": "stdout",
     "output_type": "stream",
     "text": [
      "92028\n"
     ]
    },
    {
     "name": "stderr",
     "output_type": "stream",
     "text": [
      "5113it [1:06:33,  3.45it/s]"
     ]
    },
    {
     "name": "stdout",
     "output_type": "stream",
     "text": [
      "92173\n"
     ]
    },
    {
     "name": "stderr",
     "output_type": "stream",
     "text": [
      "5144it [1:06:43,  3.41it/s]"
     ]
    },
    {
     "name": "stdout",
     "output_type": "stream",
     "text": [
      "92028\n"
     ]
    },
    {
     "name": "stderr",
     "output_type": "stream",
     "text": [
      "5173it [1:07:11,  2.42it/s]"
     ]
    },
    {
     "name": "stdout",
     "output_type": "stream",
     "text": [
      "92029\n"
     ]
    },
    {
     "name": "stderr",
     "output_type": "stream",
     "text": [
      "5215it [1:07:24,  2.60it/s]"
     ]
    },
    {
     "name": "stdout",
     "output_type": "stream",
     "text": [
      "92028\n"
     ]
    },
    {
     "name": "stderr",
     "output_type": "stream",
     "text": [
      "5267it [1:07:52,  2.29it/s]"
     ]
    },
    {
     "name": "stdout",
     "output_type": "stream",
     "text": [
      "92028\n"
     ]
    },
    {
     "name": "stderr",
     "output_type": "stream",
     "text": [
      "5468it [1:08:20,  4.05it/s]"
     ]
    },
    {
     "name": "stdout",
     "output_type": "stream",
     "text": [
      "92036\n"
     ]
    },
    {
     "name": "stderr",
     "output_type": "stream",
     "text": [
      "5480it [1:08:25,  3.97it/s]"
     ]
    },
    {
     "name": "stdout",
     "output_type": "stream",
     "text": [
      "92028\n"
     ]
    },
    {
     "name": "stderr",
     "output_type": "stream",
     "text": [
      "5493it [1:08:52,  2.55it/s]"
     ]
    },
    {
     "name": "stdout",
     "output_type": "stream",
     "text": [
      "92173\n"
     ]
    },
    {
     "name": "stderr",
     "output_type": "stream",
     "text": [
      "5632it [1:09:02,  4.53it/s]"
     ]
    },
    {
     "name": "stdout",
     "output_type": "stream",
     "text": [
      "92028\n"
     ]
    },
    {
     "name": "stderr",
     "output_type": "stream",
     "text": [
      "5689it [1:09:30,  3.52it/s]"
     ]
    },
    {
     "name": "stdout",
     "output_type": "stream",
     "text": [
      "92028\n"
     ]
    },
    {
     "name": "stderr",
     "output_type": "stream",
     "text": [
      "5704it [1:09:58,  2.42it/s]"
     ]
    },
    {
     "name": "stdout",
     "output_type": "stream",
     "text": [
      "92173\n"
     ]
    },
    {
     "name": "stderr",
     "output_type": "stream",
     "text": [
      "5751it [1:10:07,  2.81it/s]"
     ]
    },
    {
     "name": "stdout",
     "output_type": "stream",
     "text": [
      "92004\n"
     ]
    },
    {
     "name": "stderr",
     "output_type": "stream",
     "text": [
      "5766it [1:10:12,  2.82it/s]"
     ]
    },
    {
     "name": "stdout",
     "output_type": "stream",
     "text": [
      "92011\n"
     ]
    },
    {
     "name": "stderr",
     "output_type": "stream",
     "text": [
      "5783it [1:10:40,  1.82it/s]"
     ]
    },
    {
     "name": "stdout",
     "output_type": "stream",
     "text": [
      "(['8446176386', '7602904748'], ['Seagate Condominium Rentals, Carlsbad, CA', 'Tradition, Carlsbad, CA'], ['6555 Sea Gate Rd', '1901 Cassia Rd'], [' Carlsbad', ' Carlsbad'], [' CA 92011', ' CA 92011'])\n",
      "92036\n"
     ]
    },
    {
     "name": "stderr",
     "output_type": "stream",
     "text": [
      "5863it [1:10:45,  3.33it/s]"
     ]
    },
    {
     "name": "stdout",
     "output_type": "stream",
     "text": [
      "92028\n"
     ]
    },
    {
     "name": "stderr",
     "output_type": "stream",
     "text": [
      "5982it [1:11:13,  3.76it/s]"
     ]
    },
    {
     "name": "stdout",
     "output_type": "stream",
     "text": [
      "92173\n"
     ]
    },
    {
     "name": "stderr",
     "output_type": "stream",
     "text": [
      "6018it [1:11:22,  3.76it/s]"
     ]
    },
    {
     "name": "stdout",
     "output_type": "stream",
     "text": [
      "92028\n"
     ]
    },
    {
     "name": "stderr",
     "output_type": "stream",
     "text": [
      "6059it [1:11:50,  2.77it/s]"
     ]
    },
    {
     "name": "stdout",
     "output_type": "stream",
     "text": [
      "92173\n"
     ]
    },
    {
     "name": "stderr",
     "output_type": "stream",
     "text": [
      "6076it [1:12:00,  2.60it/s]"
     ]
    },
    {
     "name": "stdout",
     "output_type": "stream",
     "text": [
      "92028\n"
     ]
    },
    {
     "name": "stderr",
     "output_type": "stream",
     "text": [
      "6130it [1:12:27,  2.32it/s]"
     ]
    },
    {
     "name": "stdout",
     "output_type": "stream",
     "text": [
      "92173\n"
     ]
    },
    {
     "name": "stderr",
     "output_type": "stream",
     "text": [
      "6141it [1:12:37,  2.12it/s]"
     ]
    },
    {
     "name": "stdout",
     "output_type": "stream",
     "text": [
      "91962\n"
     ]
    },
    {
     "name": "stderr",
     "output_type": "stream",
     "text": [
      "6142it [1:12:41,  1.94it/s]"
     ]
    },
    {
     "name": "stdout",
     "output_type": "stream",
     "text": [
      "92173\n"
     ]
    },
    {
     "name": "stderr",
     "output_type": "stream",
     "text": [
      "6153it [1:12:51,  1.76it/s]"
     ]
    },
    {
     "name": "stdout",
     "output_type": "stream",
     "text": [
      "92028\n"
     ]
    },
    {
     "name": "stderr",
     "output_type": "stream",
     "text": [
      "6286it [1:13:18,  3.26it/s]"
     ]
    },
    {
     "name": "stdout",
     "output_type": "stream",
     "text": [
      "92173\n"
     ]
    },
    {
     "name": "stderr",
     "output_type": "stream",
     "text": [
      "6316it [1:13:28,  3.24it/s]"
     ]
    },
    {
     "name": "stdout",
     "output_type": "stream",
     "text": [
      "92028\n"
     ]
    },
    {
     "name": "stderr",
     "output_type": "stream",
     "text": [
      "6386it [1:13:56,  2.92it/s]"
     ]
    },
    {
     "name": "stdout",
     "output_type": "stream",
     "text": [
      "92028\n"
     ]
    },
    {
     "name": "stderr",
     "output_type": "stream",
     "text": [
      "6395it [1:14:24,  1.90it/s]"
     ]
    },
    {
     "name": "stdout",
     "output_type": "stream",
     "text": [
      "92028\n"
     ]
    },
    {
     "name": "stderr",
     "output_type": "stream",
     "text": [
      "6528it [1:14:52,  2.92it/s]"
     ]
    },
    {
     "name": "stdout",
     "output_type": "stream",
     "text": [
      "92173\n"
     ]
    },
    {
     "name": "stderr",
     "output_type": "stream",
     "text": [
      "6574it [1:15:02,  3.19it/s]"
     ]
    },
    {
     "name": "stdout",
     "output_type": "stream",
     "text": [
      "92028\n"
     ]
    },
    {
     "name": "stderr",
     "output_type": "stream",
     "text": [
      "6583it [1:15:30,  2.08it/s]"
     ]
    },
    {
     "name": "stdout",
     "output_type": "stream",
     "text": [
      "92173\n"
     ]
    },
    {
     "name": "stderr",
     "output_type": "stream",
     "text": [
      "6599it [1:15:39,  2.02it/s]"
     ]
    },
    {
     "name": "stdout",
     "output_type": "stream",
     "text": [
      "92173\n"
     ]
    },
    {
     "name": "stderr",
     "output_type": "stream",
     "text": [
      "6637it [1:15:49,  2.37it/s]"
     ]
    },
    {
     "name": "stdout",
     "output_type": "stream",
     "text": [
      "92173\n"
     ]
    },
    {
     "name": "stderr",
     "output_type": "stream",
     "text": [
      "6677it [1:15:59,  2.74it/s]"
     ]
    },
    {
     "name": "stdout",
     "output_type": "stream",
     "text": [
      "92028\n"
     ]
    },
    {
     "name": "stderr",
     "output_type": "stream",
     "text": [
      "6695it [1:16:27,  1.76it/s]"
     ]
    },
    {
     "name": "stdout",
     "output_type": "stream",
     "text": [
      "92173\n"
     ]
    },
    {
     "name": "stderr",
     "output_type": "stream",
     "text": [
      "6866it [1:16:37,  4.71it/s]"
     ]
    },
    {
     "name": "stdout",
     "output_type": "stream",
     "text": [
      "91931\n"
     ]
    },
    {
     "name": "stderr",
     "output_type": "stream",
     "text": [
      "6977it [1:16:41,  6.95it/s]"
     ]
    },
    {
     "name": "stdout",
     "output_type": "stream",
     "text": [
      "92029\n"
     ]
    },
    {
     "name": "stderr",
     "output_type": "stream",
     "text": [
      "7166it [1:16:54,  9.41it/s]"
     ]
    },
    {
     "name": "stdout",
     "output_type": "stream",
     "text": [
      "92028\n"
     ]
    },
    {
     "name": "stderr",
     "output_type": "stream",
     "text": [
      "7186it [1:17:22,  5.10it/s]"
     ]
    },
    {
     "name": "stdout",
     "output_type": "stream",
     "text": [
      "92028\n"
     ]
    },
    {
     "name": "stderr",
     "output_type": "stream",
     "text": [
      "7222it [1:17:50,  3.51it/s]"
     ]
    },
    {
     "name": "stdout",
     "output_type": "stream",
     "text": [
      "92173\n"
     ]
    },
    {
     "name": "stderr",
     "output_type": "stream",
     "text": [
      "7237it [1:18:00,  3.18it/s]"
     ]
    },
    {
     "name": "stdout",
     "output_type": "stream",
     "text": [
      "91948\n"
     ]
    },
    {
     "name": "stderr",
     "output_type": "stream",
     "text": [
      "7262it [1:18:04,  3.44it/s]"
     ]
    },
    {
     "name": "stdout",
     "output_type": "stream",
     "text": [
      "92173\n"
     ]
    },
    {
     "name": "stderr",
     "output_type": "stream",
     "text": [
      "7280it [1:18:14,  3.08it/s]"
     ]
    },
    {
     "name": "stdout",
     "output_type": "stream",
     "text": [
      "92173\n"
     ]
    },
    {
     "name": "stderr",
     "output_type": "stream",
     "text": [
      "7342it [1:18:23,  3.93it/s]"
     ]
    },
    {
     "name": "stdout",
     "output_type": "stream",
     "text": [
      "92173\n"
     ]
    },
    {
     "name": "stderr",
     "output_type": "stream",
     "text": [
      "7464it [1:18:33,  6.23it/s]"
     ]
    },
    {
     "name": "stdout",
     "output_type": "stream",
     "text": [
      "92028\n"
     ]
    },
    {
     "name": "stderr",
     "output_type": "stream",
     "text": [
      "7481it [1:19:01,  3.28it/s]"
     ]
    },
    {
     "name": "stdout",
     "output_type": "stream",
     "text": [
      "92173\n"
     ]
    },
    {
     "name": "stderr",
     "output_type": "stream",
     "text": [
      "7561it [1:19:11,  4.31it/s]"
     ]
    },
    {
     "name": "stdout",
     "output_type": "stream",
     "text": [
      "92028\n"
     ]
    },
    {
     "name": "stderr",
     "output_type": "stream",
     "text": [
      "7574it [1:19:39,  2.53it/s]"
     ]
    },
    {
     "name": "stdout",
     "output_type": "stream",
     "text": [
      "92028\n"
     ]
    },
    {
     "name": "stderr",
     "output_type": "stream",
     "text": [
      "7664it [1:20:07,  2.80it/s]"
     ]
    },
    {
     "name": "stdout",
     "output_type": "stream",
     "text": [
      "92173\n"
     ]
    },
    {
     "name": "stderr",
     "output_type": "stream",
     "text": [
      "7699it [1:20:17,  2.94it/s]"
     ]
    },
    {
     "name": "stdout",
     "output_type": "stream",
     "text": [
      "92028\n"
     ]
    },
    {
     "name": "stderr",
     "output_type": "stream",
     "text": [
      "7956it [1:20:45,  5.44it/s]"
     ]
    },
    {
     "name": "stdout",
     "output_type": "stream",
     "text": [
      "92028\n"
     ]
    },
    {
     "name": "stderr",
     "output_type": "stream",
     "text": [
      "8050it [1:21:13,  4.69it/s]"
     ]
    },
    {
     "name": "stdout",
     "output_type": "stream",
     "text": [
      "92028\n"
     ]
    },
    {
     "name": "stderr",
     "output_type": "stream",
     "text": [
      "8086it [1:21:41,  3.51it/s]"
     ]
    },
    {
     "name": "stdout",
     "output_type": "stream",
     "text": [
      "92028\n"
     ]
    },
    {
     "name": "stderr",
     "output_type": "stream",
     "text": [
      "8101it [1:22:09,  2.53it/s]"
     ]
    },
    {
     "name": "stdout",
     "output_type": "stream",
     "text": [
      "92028\n"
     ]
    },
    {
     "name": "stderr",
     "output_type": "stream",
     "text": [
      "8115it [1:22:37,  1.89it/s]"
     ]
    },
    {
     "name": "stdout",
     "output_type": "stream",
     "text": [
      "92028\n"
     ]
    },
    {
     "name": "stderr",
     "output_type": "stream",
     "text": [
      "8148it [1:23:05,  1.66it/s]"
     ]
    },
    {
     "name": "stdout",
     "output_type": "stream",
     "text": [
      "92173\n"
     ]
    },
    {
     "name": "stderr",
     "output_type": "stream",
     "text": [
      "8188it [1:23:14,  2.00it/s]"
     ]
    },
    {
     "name": "stdout",
     "output_type": "stream",
     "text": [
      "92173\n"
     ]
    },
    {
     "name": "stderr",
     "output_type": "stream",
     "text": [
      "8236it [1:23:24,  2.48it/s]"
     ]
    },
    {
     "name": "stdout",
     "output_type": "stream",
     "text": [
      "92029\n"
     ]
    },
    {
     "name": "stderr",
     "output_type": "stream",
     "text": [
      "8404it [1:23:36,  5.00it/s]"
     ]
    },
    {
     "name": "stdout",
     "output_type": "stream",
     "text": [
      "92028\n"
     ]
    },
    {
     "name": "stderr",
     "output_type": "stream",
     "text": [
      "8452it [1:24:04,  3.61it/s]"
     ]
    },
    {
     "name": "stdout",
     "output_type": "stream",
     "text": [
      "92173\n"
     ]
    },
    {
     "name": "stderr",
     "output_type": "stream",
     "text": [
      "8753it [1:24:14,  8.36it/s]"
     ]
    },
    {
     "name": "stdout",
     "output_type": "stream",
     "text": [
      "92028\n"
     ]
    },
    {
     "name": "stderr",
     "output_type": "stream",
     "text": [
      "8776it [1:24:42,  5.23it/s]"
     ]
    },
    {
     "name": "stdout",
     "output_type": "stream",
     "text": [
      "92173\n"
     ]
    },
    {
     "name": "stderr",
     "output_type": "stream",
     "text": [
      "8807it [1:24:52,  4.90it/s]"
     ]
    },
    {
     "name": "stdout",
     "output_type": "stream",
     "text": [
      "92028\n"
     ]
    },
    {
     "name": "stderr",
     "output_type": "stream",
     "text": [
      "8808it [1:25:20,  2.88it/s]"
     ]
    },
    {
     "name": "stdout",
     "output_type": "stream",
     "text": [
      "92036\n"
     ]
    },
    {
     "name": "stderr",
     "output_type": "stream",
     "text": [
      "8813it [1:25:24,  2.74it/s]"
     ]
    },
    {
     "name": "stdout",
     "output_type": "stream",
     "text": [
      "91916\n"
     ]
    },
    {
     "name": "stderr",
     "output_type": "stream",
     "text": [
      "8901it [1:25:29,  4.53it/s]"
     ]
    },
    {
     "name": "stdout",
     "output_type": "stream",
     "text": [
      "92028\n"
     ]
    },
    {
     "name": "stderr",
     "output_type": "stream",
     "text": [
      "8918it [1:25:57,  2.59it/s]"
     ]
    },
    {
     "name": "stdout",
     "output_type": "stream",
     "text": [
      "92173\n"
     ]
    },
    {
     "name": "stderr",
     "output_type": "stream",
     "text": [
      "9095it [1:26:07,  5.67it/s]"
     ]
    },
    {
     "name": "stdout",
     "output_type": "stream",
     "text": [
      "92028\n"
     ]
    },
    {
     "name": "stderr",
     "output_type": "stream",
     "text": [
      "9138it [1:26:35,  3.82it/s]"
     ]
    },
    {
     "name": "stdout",
     "output_type": "stream",
     "text": [
      "92173\n"
     ]
    },
    {
     "name": "stderr",
     "output_type": "stream",
     "text": [
      "9217it [1:26:44,  4.62it/s]"
     ]
    },
    {
     "name": "stdout",
     "output_type": "stream",
     "text": [
      "92173\n"
     ]
    },
    {
     "name": "stderr",
     "output_type": "stream",
     "text": [
      "9385it [1:26:54,  7.26it/s]"
     ]
    },
    {
     "name": "stdout",
     "output_type": "stream",
     "text": [
      "92173\n"
     ]
    },
    {
     "name": "stderr",
     "output_type": "stream",
     "text": [
      "9487it [1:27:03,  8.04it/s]"
     ]
    },
    {
     "name": "stdout",
     "output_type": "stream",
     "text": [
      "92028\n"
     ]
    },
    {
     "name": "stderr",
     "output_type": "stream",
     "text": [
      "9549it [1:27:31,  5.20it/s]"
     ]
    },
    {
     "name": "stdout",
     "output_type": "stream",
     "text": [
      "92173\n"
     ]
    },
    {
     "name": "stderr",
     "output_type": "stream",
     "text": [
      "9569it [1:27:41,  4.61it/s]"
     ]
    },
    {
     "name": "stdout",
     "output_type": "stream",
     "text": [
      "92173\n"
     ]
    },
    {
     "name": "stderr",
     "output_type": "stream",
     "text": [
      "9619it [1:27:50,  4.74it/s]"
     ]
    },
    {
     "name": "stdout",
     "output_type": "stream",
     "text": [
      "92028\n"
     ]
    },
    {
     "name": "stderr",
     "output_type": "stream",
     "text": [
      "9705it [1:28:18,  3.95it/s]"
     ]
    },
    {
     "name": "stdout",
     "output_type": "stream",
     "text": [
      "92029\n"
     ]
    },
    {
     "name": "stderr",
     "output_type": "stream",
     "text": [
      "9737it [1:28:31,  3.63it/s]"
     ]
    },
    {
     "name": "stdout",
     "output_type": "stream",
     "text": [
      "92173\n"
     ]
    },
    {
     "name": "stderr",
     "output_type": "stream",
     "text": [
      "9849it [1:28:40,  5.27it/s]"
     ]
    },
    {
     "name": "stdout",
     "output_type": "stream",
     "text": [
      "92173\n"
     ]
    },
    {
     "name": "stderr",
     "output_type": "stream",
     "text": [
      "9859it [1:28:50,  4.32it/s]"
     ]
    },
    {
     "name": "stdout",
     "output_type": "stream",
     "text": [
      "92029\n"
     ]
    },
    {
     "name": "stderr",
     "output_type": "stream",
     "text": [
      "9901it [1:29:02,  4.04it/s]"
     ]
    },
    {
     "name": "stdout",
     "output_type": "stream",
     "text": [
      "91935\n"
     ]
    },
    {
     "name": "stderr",
     "output_type": "stream",
     "text": [
      "9905it [1:29:08,  3.55it/s]"
     ]
    },
    {
     "name": "stdout",
     "output_type": "stream",
     "text": [
      "92173\n"
     ]
    },
    {
     "name": "stderr",
     "output_type": "stream",
     "text": [
      "9939it [1:29:17,  3.55it/s]"
     ]
    },
    {
     "name": "stdout",
     "output_type": "stream",
     "text": [
      "92173\n"
     ]
    },
    {
     "name": "stderr",
     "output_type": "stream",
     "text": [
      "10038it [1:29:27,  5.46it/s]"
     ]
    },
    {
     "name": "stdout",
     "output_type": "stream",
     "text": [
      "92028\n"
     ]
    },
    {
     "name": "stderr",
     "output_type": "stream",
     "text": [
      "10127it [1:29:55,  4.22it/s]"
     ]
    },
    {
     "name": "stdout",
     "output_type": "stream",
     "text": [
      "92028\n"
     ]
    },
    {
     "name": "stderr",
     "output_type": "stream",
     "text": [
      "10237it [1:30:23,  4.10it/s]"
     ]
    },
    {
     "name": "stdout",
     "output_type": "stream",
     "text": [
      "92173\n"
     ]
    },
    {
     "name": "stderr",
     "output_type": "stream",
     "text": [
      "10250it [1:30:32,  3.62it/s]"
     ]
    },
    {
     "name": "stdout",
     "output_type": "stream",
     "text": [
      "91935\n"
     ]
    },
    {
     "name": "stderr",
     "output_type": "stream",
     "text": [
      "10283it [1:30:38,  3.95it/s]"
     ]
    },
    {
     "name": "stdout",
     "output_type": "stream",
     "text": [
      "92173\n"
     ]
    },
    {
     "name": "stderr",
     "output_type": "stream",
     "text": [
      "10360it [1:30:47,  4.94it/s]"
     ]
    },
    {
     "name": "stdout",
     "output_type": "stream",
     "text": [
      "92028\n"
     ]
    },
    {
     "name": "stderr",
     "output_type": "stream",
     "text": [
      "10406it [1:31:15,  3.28it/s]"
     ]
    },
    {
     "name": "stdout",
     "output_type": "stream",
     "text": [
      "92028\n"
     ]
    },
    {
     "name": "stderr",
     "output_type": "stream",
     "text": [
      "10409it [1:31:43,  1.96it/s]"
     ]
    },
    {
     "name": "stdout",
     "output_type": "stream",
     "text": [
      "92028\n"
     ]
    },
    {
     "name": "stderr",
     "output_type": "stream",
     "text": [
      "10460it [1:32:12,  1.89it/s]"
     ]
    },
    {
     "name": "stdout",
     "output_type": "stream",
     "text": [
      "92173\n"
     ]
    },
    {
     "name": "stderr",
     "output_type": "stream",
     "text": [
      "10507it [1:32:21,  2.35it/s]"
     ]
    },
    {
     "name": "stdout",
     "output_type": "stream",
     "text": [
      "92028\n"
     ]
    },
    {
     "name": "stderr",
     "output_type": "stream",
     "text": [
      "10508it [1:32:50,  1.44it/s]"
     ]
    },
    {
     "name": "stdout",
     "output_type": "stream",
     "text": [
      "92173\n"
     ]
    },
    {
     "name": "stderr",
     "output_type": "stream",
     "text": [
      "10510it [1:32:59,  1.24it/s]"
     ]
    },
    {
     "name": "stdout",
     "output_type": "stream",
     "text": [
      "92173\n"
     ]
    },
    {
     "name": "stderr",
     "output_type": "stream",
     "text": [
      "10572it [1:33:10,  2.19it/s]"
     ]
    },
    {
     "name": "stdout",
     "output_type": "stream",
     "text": [
      "92028\n"
     ]
    },
    {
     "name": "stderr",
     "output_type": "stream",
     "text": [
      "10701it [1:33:38,  3.22it/s]"
     ]
    },
    {
     "name": "stdout",
     "output_type": "stream",
     "text": [
      "92036\n"
     ]
    },
    {
     "name": "stderr",
     "output_type": "stream",
     "text": [
      "10718it [1:33:42,  3.28it/s]"
     ]
    },
    {
     "name": "stdout",
     "output_type": "stream",
     "text": [
      "92082\n"
     ]
    },
    {
     "name": "stderr",
     "output_type": "stream",
     "text": [
      "10721it [1:33:51,  2.72it/s]"
     ]
    },
    {
     "name": "stdout",
     "output_type": "stream",
     "text": [
      "92173\n"
     ]
    },
    {
     "name": "stderr",
     "output_type": "stream",
     "text": [
      "10779it [1:34:00,  3.51it/s]"
     ]
    },
    {
     "name": "stdout",
     "output_type": "stream",
     "text": [
      "92082\n"
     ]
    },
    {
     "name": "stderr",
     "output_type": "stream",
     "text": [
      "10811it [1:34:09,  3.56it/s]"
     ]
    },
    {
     "name": "stdout",
     "output_type": "stream",
     "text": [
      "92028\n"
     ]
    },
    {
     "name": "stderr",
     "output_type": "stream",
     "text": [
      "10925it [1:34:37,  3.80it/s]"
     ]
    },
    {
     "name": "stdout",
     "output_type": "stream",
     "text": [
      "91962\n"
     ]
    },
    {
     "name": "stderr",
     "output_type": "stream",
     "text": [
      "10976it [1:34:42,  4.63it/s]"
     ]
    },
    {
     "name": "stdout",
     "output_type": "stream",
     "text": [
      "92173\n"
     ]
    },
    {
     "name": "stderr",
     "output_type": "stream",
     "text": [
      "10987it [1:34:51,  3.77it/s]"
     ]
    },
    {
     "name": "stdout",
     "output_type": "stream",
     "text": [
      "92028\n"
     ]
    },
    {
     "name": "stderr",
     "output_type": "stream",
     "text": [
      "11037it [1:35:20,  2.75it/s]"
     ]
    },
    {
     "name": "stdout",
     "output_type": "stream",
     "text": [
      "92173\n"
     ]
    },
    {
     "name": "stderr",
     "output_type": "stream",
     "text": [
      "11070it [1:35:29,  2.87it/s]"
     ]
    },
    {
     "name": "stdout",
     "output_type": "stream",
     "text": [
      "92082\n"
     ]
    },
    {
     "name": "stderr",
     "output_type": "stream",
     "text": [
      "11112it [1:35:38,  3.30it/s]"
     ]
    },
    {
     "name": "stdout",
     "output_type": "stream",
     "text": [
      "92173\n"
     ]
    },
    {
     "name": "stderr",
     "output_type": "stream",
     "text": [
      "11155it [1:35:47,  3.57it/s]"
     ]
    },
    {
     "name": "stdout",
     "output_type": "stream",
     "text": [
      "92028\n"
     ]
    },
    {
     "name": "stderr",
     "output_type": "stream",
     "text": [
      "11166it [1:35:52,  3.45it/s]"
     ]
    },
    {
     "name": "stdout",
     "output_type": "stream",
     "text": [
      "92082\n"
     ]
    },
    {
     "name": "stderr",
     "output_type": "stream",
     "text": [
      "11176it [1:36:00,  2.79it/s]"
     ]
    },
    {
     "name": "stdout",
     "output_type": "stream",
     "text": [
      "92036\n"
     ]
    },
    {
     "name": "stderr",
     "output_type": "stream",
     "text": [
      "11180it [1:36:05,  2.50it/s]"
     ]
    },
    {
     "name": "stdout",
     "output_type": "stream",
     "text": [
      "92028\n"
     ]
    },
    {
     "name": "stderr",
     "output_type": "stream",
     "text": [
      "11189it [1:36:33,  1.16it/s]"
     ]
    },
    {
     "name": "stdout",
     "output_type": "stream",
     "text": [
      "92028\n"
     ]
    },
    {
     "name": "stderr",
     "output_type": "stream",
     "text": [
      "11214it [1:37:02,  1.03it/s]"
     ]
    },
    {
     "name": "stdout",
     "output_type": "stream",
     "text": [
      "92082\n"
     ]
    },
    {
     "name": "stderr",
     "output_type": "stream",
     "text": [
      "11218it [1:37:10,  1.07s/it]"
     ]
    },
    {
     "name": "stdout",
     "output_type": "stream",
     "text": [
      "92173\n"
     ]
    },
    {
     "name": "stderr",
     "output_type": "stream",
     "text": [
      "11233it [1:37:20,  1.07it/s]"
     ]
    },
    {
     "name": "stdout",
     "output_type": "stream",
     "text": [
      "92028\n"
     ]
    },
    {
     "name": "stderr",
     "output_type": "stream",
     "text": [
      "11360it [1:37:48,  2.68it/s]"
     ]
    },
    {
     "name": "stdout",
     "output_type": "stream",
     "text": [
      "92173\n"
     ]
    },
    {
     "name": "stderr",
     "output_type": "stream",
     "text": [
      "11363it [1:37:58,  2.23it/s]"
     ]
    },
    {
     "name": "stdout",
     "output_type": "stream",
     "text": [
      "92173\n"
     ]
    },
    {
     "name": "stderr",
     "output_type": "stream",
     "text": [
      "11367it [1:38:08,  1.84it/s]"
     ]
    },
    {
     "name": "stdout",
     "output_type": "stream",
     "text": [
      "92029\n"
     ]
    },
    {
     "name": "stderr",
     "output_type": "stream",
     "text": [
      "11382it [1:38:21,  1.64it/s]"
     ]
    },
    {
     "name": "stdout",
     "output_type": "stream",
     "text": [
      "92028\n"
     ]
    },
    {
     "name": "stderr",
     "output_type": "stream",
     "text": [
      "11484it [1:38:50,  2.53it/s]"
     ]
    },
    {
     "name": "stdout",
     "output_type": "stream",
     "text": [
      "92028\n"
     ]
    },
    {
     "name": "stderr",
     "output_type": "stream",
     "text": [
      "11515it [1:39:19,  1.94it/s]"
     ]
    },
    {
     "name": "stdout",
     "output_type": "stream",
     "text": [
      "92173\n"
     ]
    },
    {
     "name": "stderr",
     "output_type": "stream",
     "text": [
      "11595it [1:39:29,  2.95it/s]"
     ]
    },
    {
     "name": "stdout",
     "output_type": "stream",
     "text": [
      "92173\n"
     ]
    },
    {
     "name": "stderr",
     "output_type": "stream",
     "text": [
      "11708it [1:39:38,  4.58it/s]"
     ]
    },
    {
     "name": "stdout",
     "output_type": "stream",
     "text": [
      "91905\n"
     ]
    },
    {
     "name": "stderr",
     "output_type": "stream",
     "text": [
      "11767it [1:39:42,  5.66it/s]"
     ]
    },
    {
     "name": "stdout",
     "output_type": "stream",
     "text": [
      "92173\n"
     ]
    },
    {
     "name": "stderr",
     "output_type": "stream",
     "text": [
      "11774it [1:39:52,  4.38it/s]"
     ]
    },
    {
     "name": "stdout",
     "output_type": "stream",
     "text": [
      "92173\n"
     ]
    },
    {
     "name": "stderr",
     "output_type": "stream",
     "text": [
      "11834it [1:40:01,  4.86it/s]"
     ]
    },
    {
     "name": "stdout",
     "output_type": "stream",
     "text": [
      "92173\n"
     ]
    },
    {
     "name": "stderr",
     "output_type": "stream",
     "text": [
      "11887it [1:40:11,  5.01it/s]"
     ]
    },
    {
     "name": "stdout",
     "output_type": "stream",
     "text": [
      "92173\n"
     ]
    },
    {
     "name": "stderr",
     "output_type": "stream",
     "text": [
      "11934it [1:40:21,  4.96it/s]"
     ]
    },
    {
     "name": "stdout",
     "output_type": "stream",
     "text": [
      "92173\n"
     ]
    },
    {
     "name": "stderr",
     "output_type": "stream",
     "text": [
      "11958it [1:40:31,  4.22it/s]"
     ]
    },
    {
     "name": "stdout",
     "output_type": "stream",
     "text": [
      "92028\n"
     ]
    },
    {
     "name": "stderr",
     "output_type": "stream",
     "text": [
      "11965it [1:40:59,  2.06it/s]"
     ]
    },
    {
     "name": "stdout",
     "output_type": "stream",
     "text": [
      "92028\n"
     ]
    },
    {
     "name": "stderr",
     "output_type": "stream",
     "text": [
      "11980it [1:41:28,  1.39it/s]"
     ]
    },
    {
     "name": "stdout",
     "output_type": "stream",
     "text": [
      "92082\n"
     ]
    },
    {
     "name": "stderr",
     "output_type": "stream",
     "text": [
      "12015it [1:41:37,  1.80it/s]"
     ]
    },
    {
     "name": "stdout",
     "output_type": "stream",
     "text": [
      "92173\n"
     ]
    },
    {
     "name": "stderr",
     "output_type": "stream",
     "text": [
      "12027it [1:41:47,  1.67it/s]"
     ]
    },
    {
     "name": "stdout",
     "output_type": "stream",
     "text": [
      "92173\n"
     ]
    },
    {
     "name": "stderr",
     "output_type": "stream",
     "text": [
      "12028it [1:41:57,  1.31it/s]"
     ]
    },
    {
     "name": "stdout",
     "output_type": "stream",
     "text": [
      "92173\n"
     ]
    },
    {
     "name": "stderr",
     "output_type": "stream",
     "text": [
      "12043it [1:42:07,  1.36it/s]"
     ]
    },
    {
     "name": "stdout",
     "output_type": "stream",
     "text": [
      "92173\n"
     ]
    },
    {
     "name": "stderr",
     "output_type": "stream",
     "text": [
      "12261it [1:42:17,  6.67it/s]"
     ]
    },
    {
     "name": "stdout",
     "output_type": "stream",
     "text": [
      "92173\n"
     ]
    },
    {
     "name": "stderr",
     "output_type": "stream",
     "text": [
      "12264it [1:42:27,  4.99it/s]"
     ]
    },
    {
     "name": "stdout",
     "output_type": "stream",
     "text": [
      "92028\n"
     ]
    },
    {
     "name": "stderr",
     "output_type": "stream",
     "text": [
      "12311it [1:42:55,  3.23it/s]"
     ]
    },
    {
     "name": "stdout",
     "output_type": "stream",
     "text": [
      "92028\n"
     ]
    },
    {
     "name": "stderr",
     "output_type": "stream",
     "text": [
      "12313it [1:43:23,  1.88it/s]"
     ]
    },
    {
     "name": "stdout",
     "output_type": "stream",
     "text": [
      "92028\n"
     ]
    },
    {
     "name": "stderr",
     "output_type": "stream",
     "text": [
      "12332it [1:43:52,  1.42it/s]"
     ]
    },
    {
     "name": "stdout",
     "output_type": "stream",
     "text": [
      "92028\n"
     ]
    },
    {
     "name": "stderr",
     "output_type": "stream",
     "text": [
      "12378it [1:44:20,  1.49it/s]"
     ]
    },
    {
     "name": "stdout",
     "output_type": "stream",
     "text": [
      "92028\n"
     ]
    },
    {
     "name": "stderr",
     "output_type": "stream",
     "text": [
      "12387it [1:44:48,  1.10it/s]"
     ]
    },
    {
     "name": "stdout",
     "output_type": "stream",
     "text": [
      "92173\n"
     ]
    },
    {
     "name": "stderr",
     "output_type": "stream",
     "text": [
      "12608it [1:44:58,  4.15it/s]"
     ]
    },
    {
     "name": "stdout",
     "output_type": "stream",
     "text": [
      "92028\n"
     ]
    },
    {
     "name": "stderr",
     "output_type": "stream",
     "text": [
      "12699it [1:45:27,  3.79it/s]"
     ]
    },
    {
     "name": "stdout",
     "output_type": "stream",
     "text": [
      "92028\n"
     ]
    },
    {
     "name": "stderr",
     "output_type": "stream",
     "text": [
      "12715it [1:45:55,  2.67it/s]"
     ]
    },
    {
     "name": "stdout",
     "output_type": "stream",
     "text": [
      "91916\n"
     ]
    },
    {
     "name": "stderr",
     "output_type": "stream",
     "text": [
      "12833it [1:46:01,  4.31it/s]"
     ]
    },
    {
     "name": "stdout",
     "output_type": "stream",
     "text": [
      "92028\n"
     ]
    },
    {
     "name": "stderr",
     "output_type": "stream",
     "text": [
      "12877it [1:46:29,  3.23it/s]"
     ]
    },
    {
     "name": "stdout",
     "output_type": "stream",
     "text": [
      "92173\n"
     ]
    },
    {
     "name": "stderr",
     "output_type": "stream",
     "text": [
      "12915it [1:46:39,  3.34it/s]"
     ]
    },
    {
     "name": "stdout",
     "output_type": "stream",
     "text": [
      "92028\n"
     ]
    },
    {
     "name": "stderr",
     "output_type": "stream",
     "text": [
      "13020it [1:47:13,  3.23it/s]"
     ]
    },
    {
     "name": "stdout",
     "output_type": "stream",
     "text": [
      "92028\n"
     ]
    },
    {
     "name": "stderr",
     "output_type": "stream",
     "text": [
      "13032it [1:47:41,  2.24it/s]"
     ]
    },
    {
     "name": "stdout",
     "output_type": "stream",
     "text": [
      "92028\n"
     ]
    },
    {
     "name": "stderr",
     "output_type": "stream",
     "text": [
      "13061it [1:48:10,  1.84it/s]"
     ]
    },
    {
     "name": "stdout",
     "output_type": "stream",
     "text": [
      "92004\n"
     ]
    },
    {
     "name": "stderr",
     "output_type": "stream",
     "text": [
      "13101it [1:48:15,  2.30it/s]"
     ]
    },
    {
     "name": "stdout",
     "output_type": "stream",
     "text": [
      "92029\n"
     ]
    },
    {
     "name": "stderr",
     "output_type": "stream",
     "text": [
      "13107it [1:48:28,  1.90it/s]"
     ]
    },
    {
     "name": "stdout",
     "output_type": "stream",
     "text": [
      "92173\n"
     ]
    },
    {
     "name": "stderr",
     "output_type": "stream",
     "text": [
      "13195it [1:48:38,  3.28it/s]"
     ]
    },
    {
     "name": "stdout",
     "output_type": "stream",
     "text": [
      "92173\n"
     ]
    },
    {
     "name": "stderr",
     "output_type": "stream",
     "text": [
      "13205it [1:48:47,  2.80it/s]"
     ]
    },
    {
     "name": "stdout",
     "output_type": "stream",
     "text": [
      "92028\n"
     ]
    },
    {
     "name": "stderr",
     "output_type": "stream",
     "text": [
      "13321it [1:49:16,  3.40it/s]"
     ]
    },
    {
     "name": "stdout",
     "output_type": "stream",
     "text": [
      "92028\n"
     ]
    },
    {
     "name": "stderr",
     "output_type": "stream",
     "text": [
      "13429it [1:49:44,  3.56it/s]"
     ]
    },
    {
     "name": "stdout",
     "output_type": "stream",
     "text": [
      "92028\n"
     ]
    },
    {
     "name": "stderr",
     "output_type": "stream",
     "text": [
      "13499it [1:50:13,  3.15it/s]"
     ]
    },
    {
     "name": "stdout",
     "output_type": "stream",
     "text": [
      "92173\n"
     ]
    },
    {
     "name": "stderr",
     "output_type": "stream",
     "text": [
      "13517it [1:50:23,  2.95it/s]"
     ]
    },
    {
     "name": "stdout",
     "output_type": "stream",
     "text": [
      "92173\n"
     ]
    },
    {
     "name": "stderr",
     "output_type": "stream",
     "text": [
      "13582it [1:50:32,  3.61it/s]"
     ]
    },
    {
     "name": "stdout",
     "output_type": "stream",
     "text": [
      "92173\n"
     ]
    },
    {
     "name": "stderr",
     "output_type": "stream",
     "text": [
      "13583it [1:50:42,  2.90it/s]"
     ]
    },
    {
     "name": "stdout",
     "output_type": "stream",
     "text": [
      "92173\n"
     ]
    },
    {
     "name": "stderr",
     "output_type": "stream",
     "text": [
      "13823it [1:50:52,  7.77it/s]"
     ]
    },
    {
     "name": "stdout",
     "output_type": "stream",
     "text": [
      "92173\n"
     ]
    },
    {
     "name": "stderr",
     "output_type": "stream",
     "text": [
      "13825it [1:51:02,  5.91it/s]"
     ]
    },
    {
     "name": "stdout",
     "output_type": "stream",
     "text": [
      "92173\n"
     ]
    },
    {
     "name": "stderr",
     "output_type": "stream",
     "text": [
      "13861it [1:51:12,  5.35it/s]"
     ]
    },
    {
     "name": "stdout",
     "output_type": "stream",
     "text": [
      "92028\n"
     ]
    },
    {
     "name": "stderr",
     "output_type": "stream",
     "text": [
      "13944it [1:51:40,  4.09it/s]"
     ]
    },
    {
     "name": "stdout",
     "output_type": "stream",
     "text": [
      "92173\n"
     ]
    },
    {
     "name": "stderr",
     "output_type": "stream",
     "text": [
      "13975it [1:51:50,  3.92it/s]"
     ]
    },
    {
     "name": "stdout",
     "output_type": "stream",
     "text": [
      "92173\n"
     ]
    },
    {
     "name": "stderr",
     "output_type": "stream",
     "text": [
      "13988it [1:51:59,  3.35it/s]"
     ]
    },
    {
     "name": "stdout",
     "output_type": "stream",
     "text": [
      "92173\n"
     ]
    },
    {
     "name": "stderr",
     "output_type": "stream",
     "text": [
      "14134it [1:52:09,  6.17it/s]"
     ]
    },
    {
     "name": "stdout",
     "output_type": "stream",
     "text": [
      "92173\n"
     ]
    },
    {
     "name": "stderr",
     "output_type": "stream",
     "text": [
      "14147it [1:52:19,  4.92it/s]"
     ]
    },
    {
     "name": "stdout",
     "output_type": "stream",
     "text": [
      "92173\n"
     ]
    },
    {
     "name": "stderr",
     "output_type": "stream",
     "text": [
      "14184it [1:52:29,  4.61it/s]"
     ]
    },
    {
     "name": "stdout",
     "output_type": "stream",
     "text": [
      "92028\n"
     ]
    },
    {
     "name": "stderr",
     "output_type": "stream",
     "text": [
      "14185it [1:52:57,  2.19it/s]"
     ]
    },
    {
     "name": "stdout",
     "output_type": "stream",
     "text": [
      "92173\n"
     ]
    },
    {
     "name": "stderr",
     "output_type": "stream",
     "text": [
      "14218it [1:53:07,  2.44it/s]"
     ]
    },
    {
     "name": "stdout",
     "output_type": "stream",
     "text": [
      "92082\n"
     ]
    },
    {
     "name": "stderr",
     "output_type": "stream",
     "text": [
      "14315it [1:53:15,  4.28it/s]"
     ]
    },
    {
     "name": "stdout",
     "output_type": "stream",
     "text": [
      "92029\n"
     ]
    },
    {
     "name": "stderr",
     "output_type": "stream",
     "text": [
      "14335it [1:53:28,  3.42it/s]"
     ]
    },
    {
     "name": "stdout",
     "output_type": "stream",
     "text": [
      "92173\n"
     ]
    },
    {
     "name": "stderr",
     "output_type": "stream",
     "text": [
      "14340it [1:53:39,  2.66it/s]"
     ]
    },
    {
     "name": "stdout",
     "output_type": "stream",
     "text": [
      "92028\n"
     ]
    },
    {
     "name": "stderr",
     "output_type": "stream",
     "text": [
      "14375it [1:54:07,  1.94it/s]"
     ]
    },
    {
     "name": "stdout",
     "output_type": "stream",
     "text": [
      "92004\n"
     ]
    },
    {
     "name": "stderr",
     "output_type": "stream",
     "text": [
      "14434it [1:54:12,  3.03it/s]"
     ]
    },
    {
     "name": "stdout",
     "output_type": "stream",
     "text": [
      "92028\n"
     ]
    },
    {
     "name": "stderr",
     "output_type": "stream",
     "text": [
      "14459it [1:54:41,  2.00it/s]"
     ]
    },
    {
     "name": "stdout",
     "output_type": "stream",
     "text": [
      "92028\n"
     ]
    },
    {
     "name": "stderr",
     "output_type": "stream",
     "text": [
      "14488it [1:55:09,  1.60it/s]"
     ]
    },
    {
     "name": "stdout",
     "output_type": "stream",
     "text": [
      "92173\n"
     ]
    },
    {
     "name": "stderr",
     "output_type": "stream",
     "text": [
      "14692it [1:55:19,  4.79it/s]"
     ]
    },
    {
     "name": "stdout",
     "output_type": "stream",
     "text": [
      "92028\n"
     ]
    },
    {
     "name": "stderr",
     "output_type": "stream",
     "text": [
      "14694it [1:55:47,  2.87it/s]"
     ]
    },
    {
     "name": "stdout",
     "output_type": "stream",
     "text": [
      "92028\n"
     ]
    },
    {
     "name": "stderr",
     "output_type": "stream",
     "text": [
      "14788it [1:56:16,  3.03it/s]"
     ]
    },
    {
     "name": "stdout",
     "output_type": "stream",
     "text": [
      "92173\n"
     ]
    },
    {
     "name": "stderr",
     "output_type": "stream",
     "text": [
      "14794it [1:56:26,  2.67it/s]"
     ]
    },
    {
     "name": "stdout",
     "output_type": "stream",
     "text": [
      "92004\n"
     ]
    },
    {
     "name": "stderr",
     "output_type": "stream",
     "text": [
      "14805it [1:56:31,  2.61it/s]"
     ]
    },
    {
     "name": "stdout",
     "output_type": "stream",
     "text": [
      "92028\n"
     ]
    },
    {
     "name": "stderr",
     "output_type": "stream",
     "text": [
      "14927it [1:57:00,  3.34it/s]"
     ]
    },
    {
     "name": "stdout",
     "output_type": "stream",
     "text": [
      "92173\n"
     ]
    },
    {
     "name": "stderr",
     "output_type": "stream",
     "text": [
      "14946it [1:57:10,  3.07it/s]"
     ]
    },
    {
     "name": "stdout",
     "output_type": "stream",
     "text": [
      "92028\n"
     ]
    },
    {
     "name": "stderr",
     "output_type": "stream",
     "text": [
      "14951it [1:57:38,  1.83it/s]"
     ]
    },
    {
     "name": "stdout",
     "output_type": "stream",
     "text": [
      "92173\n"
     ]
    },
    {
     "name": "stderr",
     "output_type": "stream",
     "text": [
      "14980it [1:57:48,  2.03it/s]"
     ]
    },
    {
     "name": "stdout",
     "output_type": "stream",
     "text": [
      "92173\n"
     ]
    },
    {
     "name": "stderr",
     "output_type": "stream",
     "text": [
      "14985it [1:57:58,  1.72it/s]"
     ]
    },
    {
     "name": "stdout",
     "output_type": "stream",
     "text": [
      "92028\n"
     ]
    },
    {
     "name": "stderr",
     "output_type": "stream",
     "text": [
      "15084it [1:58:27,  2.50it/s]"
     ]
    },
    {
     "name": "stdout",
     "output_type": "stream",
     "text": [
      "92028\n"
     ]
    },
    {
     "name": "stderr",
     "output_type": "stream",
     "text": [
      "15098it [1:58:55,  1.72it/s]"
     ]
    },
    {
     "name": "stdout",
     "output_type": "stream",
     "text": [
      "92173\n"
     ]
    },
    {
     "name": "stderr",
     "output_type": "stream",
     "text": [
      "15136it [1:59:05,  2.07it/s]"
     ]
    },
    {
     "name": "stdout",
     "output_type": "stream",
     "text": [
      "92029\n"
     ]
    },
    {
     "name": "stderr",
     "output_type": "stream",
     "text": [
      "15152it [1:59:18,  1.88it/s]"
     ]
    },
    {
     "name": "stdout",
     "output_type": "stream",
     "text": [
      "92028\n"
     ]
    },
    {
     "name": "stderr",
     "output_type": "stream",
     "text": [
      "15170it [1:59:46,  1.35it/s]"
     ]
    },
    {
     "name": "stdout",
     "output_type": "stream",
     "text": [
      "92173\n"
     ]
    },
    {
     "name": "stderr",
     "output_type": "stream",
     "text": [
      "15237it [1:59:56,  2.31it/s]"
     ]
    },
    {
     "name": "stdout",
     "output_type": "stream",
     "text": [
      "92173\n"
     ]
    },
    {
     "name": "stderr",
     "output_type": "stream",
     "text": [
      "15253it [2:00:05,  2.18it/s]"
     ]
    },
    {
     "name": "stdout",
     "output_type": "stream",
     "text": [
      "92029\n"
     ]
    },
    {
     "name": "stderr",
     "output_type": "stream",
     "text": [
      "15340it [2:00:18,  3.41it/s]"
     ]
    },
    {
     "name": "stdout",
     "output_type": "stream",
     "text": [
      "92029\n"
     ]
    },
    {
     "name": "stderr",
     "output_type": "stream",
     "text": [
      "15385it [2:00:31,  3.44it/s]"
     ]
    },
    {
     "name": "stdout",
     "output_type": "stream",
     "text": [
      "92028\n"
     ]
    },
    {
     "name": "stderr",
     "output_type": "stream",
     "text": [
      "15433it [2:01:00,  2.61it/s]"
     ]
    },
    {
     "name": "stdout",
     "output_type": "stream",
     "text": [
      "92028\n"
     ]
    },
    {
     "name": "stderr",
     "output_type": "stream",
     "text": [
      "15479it [2:01:28,  2.21it/s]"
     ]
    },
    {
     "name": "stdout",
     "output_type": "stream",
     "text": [
      "92173\n"
     ]
    },
    {
     "name": "stderr",
     "output_type": "stream",
     "text": [
      "15565it [2:01:38,  3.29it/s]"
     ]
    },
    {
     "name": "stdout",
     "output_type": "stream",
     "text": [
      "92173\n"
     ]
    },
    {
     "name": "stderr",
     "output_type": "stream",
     "text": [
      "15647it [2:01:48,  4.24it/s]"
     ]
    },
    {
     "name": "stdout",
     "output_type": "stream",
     "text": [
      "92173\n"
     ]
    },
    {
     "name": "stderr",
     "output_type": "stream",
     "text": [
      "15771it [2:01:58,  6.02it/s]"
     ]
    },
    {
     "name": "stdout",
     "output_type": "stream",
     "text": [
      "92173\n"
     ]
    },
    {
     "name": "stderr",
     "output_type": "stream",
     "text": [
      "15772it [2:02:08,  4.64it/s]"
     ]
    },
    {
     "name": "stdout",
     "output_type": "stream",
     "text": [
      "92029\n"
     ]
    },
    {
     "name": "stderr",
     "output_type": "stream",
     "text": [
      "15809it [2:02:21,  4.09it/s]"
     ]
    },
    {
     "name": "stdout",
     "output_type": "stream",
     "text": [
      "92173\n"
     ]
    },
    {
     "name": "stderr",
     "output_type": "stream",
     "text": [
      "15824it [2:02:31,  3.46it/s]"
     ]
    },
    {
     "name": "stdout",
     "output_type": "stream",
     "text": [
      "92173\n"
     ]
    },
    {
     "name": "stderr",
     "output_type": "stream",
     "text": [
      "15827it [2:02:40,  2.64it/s]"
     ]
    },
    {
     "name": "stdout",
     "output_type": "stream",
     "text": [
      "92028\n"
     ]
    },
    {
     "name": "stderr",
     "output_type": "stream",
     "text": [
      "15899it [2:03:09,  2.58it/s]"
     ]
    },
    {
     "name": "stdout",
     "output_type": "stream",
     "text": [
      "92028\n"
     ]
    },
    {
     "name": "stderr",
     "output_type": "stream",
     "text": [
      "15913it [2:03:37,  1.69it/s]"
     ]
    },
    {
     "name": "stdout",
     "output_type": "stream",
     "text": [
      "92028\n"
     ]
    },
    {
     "name": "stderr",
     "output_type": "stream",
     "text": [
      "15963it [2:04:06,  1.72it/s]"
     ]
    },
    {
     "name": "stdout",
     "output_type": "stream",
     "text": [
      "92028\n"
     ]
    },
    {
     "name": "stderr",
     "output_type": "stream",
     "text": [
      "16050it [2:04:35,  2.17it/s]"
     ]
    },
    {
     "name": "stdout",
     "output_type": "stream",
     "text": [
      "92028\n"
     ]
    },
    {
     "name": "stderr",
     "output_type": "stream",
     "text": [
      "16163it [2:05:03,  2.77it/s]"
     ]
    },
    {
     "name": "stdout",
     "output_type": "stream",
     "text": [
      "92028\n"
     ]
    },
    {
     "name": "stderr",
     "output_type": "stream",
     "text": [
      "16183it [2:05:33,  2.08it/s]"
     ]
    },
    {
     "name": "stdout",
     "output_type": "stream",
     "text": [
      "92028\n"
     ]
    },
    {
     "name": "stderr",
     "output_type": "stream",
     "text": [
      "16268it [2:06:01,  2.36it/s]"
     ]
    },
    {
     "name": "stdout",
     "output_type": "stream",
     "text": [
      "92028\n"
     ]
    },
    {
     "name": "stderr",
     "output_type": "stream",
     "text": [
      "16318it [2:06:30,  2.17it/s]"
     ]
    },
    {
     "name": "stdout",
     "output_type": "stream",
     "text": [
      "92173\n"
     ]
    },
    {
     "name": "stderr",
     "output_type": "stream",
     "text": [
      "16346it [2:06:40,  2.26it/s]"
     ]
    },
    {
     "name": "stdout",
     "output_type": "stream",
     "text": [
      "92028\n"
     ]
    },
    {
     "name": "stderr",
     "output_type": "stream",
     "text": [
      "16363it [2:07:08,  1.67it/s]"
     ]
    },
    {
     "name": "stdout",
     "output_type": "stream",
     "text": [
      "92028\n"
     ]
    },
    {
     "name": "stderr",
     "output_type": "stream",
     "text": [
      "16374it [2:07:36,  1.24it/s]"
     ]
    },
    {
     "name": "stdout",
     "output_type": "stream",
     "text": [
      "92028\n"
     ]
    },
    {
     "name": "stderr",
     "output_type": "stream",
     "text": [
      "16421it [2:08:05,  1.38it/s]"
     ]
    },
    {
     "name": "stdout",
     "output_type": "stream",
     "text": [
      "92173\n"
     ]
    },
    {
     "name": "stderr",
     "output_type": "stream",
     "text": [
      "16667it [2:08:15,  4.64it/s]"
     ]
    },
    {
     "name": "stdout",
     "output_type": "stream",
     "text": [
      "92003\n"
     ]
    },
    {
     "name": "stderr",
     "output_type": "stream",
     "text": [
      "16723it [2:08:19,  5.31it/s]"
     ]
    },
    {
     "name": "stdout",
     "output_type": "stream",
     "text": [
      "92028\n"
     ]
    },
    {
     "name": "stderr",
     "output_type": "stream",
     "text": [
      "16821it [2:08:47,  4.54it/s]"
     ]
    },
    {
     "name": "stdout",
     "output_type": "stream",
     "text": [
      "92029\n"
     ]
    },
    {
     "name": "stderr",
     "output_type": "stream",
     "text": [
      "16875it [2:09:00,  4.49it/s]"
     ]
    },
    {
     "name": "stdout",
     "output_type": "stream",
     "text": [
      "92173\n"
     ]
    },
    {
     "name": "stderr",
     "output_type": "stream",
     "text": [
      "17300it [2:09:09, 11.98it/s]"
     ]
    },
    {
     "name": "stdout",
     "output_type": "stream",
     "text": [
      "92173\n"
     ]
    },
    {
     "name": "stderr",
     "output_type": "stream",
     "text": [
      "17371it [2:09:19, 10.99it/s]"
     ]
    },
    {
     "name": "stdout",
     "output_type": "stream",
     "text": [
      "92173\n"
     ]
    },
    {
     "name": "stderr",
     "output_type": "stream",
     "text": [
      "17381it [2:09:29,  8.64it/s]"
     ]
    },
    {
     "name": "stdout",
     "output_type": "stream",
     "text": [
      "92173\n"
     ]
    },
    {
     "name": "stderr",
     "output_type": "stream",
     "text": [
      "17422it [2:09:39,  7.49it/s]"
     ]
    },
    {
     "name": "stdout",
     "output_type": "stream",
     "text": [
      "92028\n"
     ]
    },
    {
     "name": "stderr",
     "output_type": "stream",
     "text": [
      "17514it [2:10:07,  5.32it/s]"
     ]
    },
    {
     "name": "stdout",
     "output_type": "stream",
     "text": [
      "92173\n"
     ]
    },
    {
     "name": "stderr",
     "output_type": "stream",
     "text": [
      "17661it [2:10:17,  7.28it/s]"
     ]
    },
    {
     "name": "stdout",
     "output_type": "stream",
     "text": [
      "92003\n"
     ]
    },
    {
     "name": "stderr",
     "output_type": "stream",
     "text": [
      "17701it [2:10:21,  7.52it/s]"
     ]
    },
    {
     "name": "stdout",
     "output_type": "stream",
     "text": [
      "92028\n"
     ]
    },
    {
     "name": "stderr",
     "output_type": "stream",
     "text": [
      "18144it [2:10:49, 11.72it/s]"
     ]
    },
    {
     "name": "stdout",
     "output_type": "stream",
     "text": [
      "92173\n"
     ]
    },
    {
     "name": "stderr",
     "output_type": "stream",
     "text": [
      "18158it [2:10:59,  9.64it/s]"
     ]
    },
    {
     "name": "stdout",
     "output_type": "stream",
     "text": [
      "92173\n"
     ]
    },
    {
     "name": "stderr",
     "output_type": "stream",
     "text": [
      "18177it [2:11:09,  7.93it/s]"
     ]
    },
    {
     "name": "stdout",
     "output_type": "stream",
     "text": [
      "92173\n"
     ]
    },
    {
     "name": "stderr",
     "output_type": "stream",
     "text": [
      "18179it [2:11:19,  6.02it/s]"
     ]
    },
    {
     "name": "stdout",
     "output_type": "stream",
     "text": [
      "92028\n"
     ]
    },
    {
     "name": "stderr",
     "output_type": "stream",
     "text": [
      "18198it [2:11:48,  3.30it/s]"
     ]
    },
    {
     "name": "stdout",
     "output_type": "stream",
     "text": [
      "92028\n"
     ]
    },
    {
     "name": "stderr",
     "output_type": "stream",
     "text": [
      "18218it [2:12:16,  2.21it/s]"
     ]
    },
    {
     "name": "stdout",
     "output_type": "stream",
     "text": [
      "92028\n"
     ]
    },
    {
     "name": "stderr",
     "output_type": "stream",
     "text": [
      "18221it [2:12:45,  1.43it/s]"
     ]
    },
    {
     "name": "stdout",
     "output_type": "stream",
     "text": [
      "92173\n"
     ]
    },
    {
     "name": "stderr",
     "output_type": "stream",
     "text": [
      "18270it [2:12:55,  1.96it/s]"
     ]
    },
    {
     "name": "stdout",
     "output_type": "stream",
     "text": [
      "92173\n"
     ]
    },
    {
     "name": "stderr",
     "output_type": "stream",
     "text": [
      "18283it [2:13:05,  1.85it/s]"
     ]
    },
    {
     "name": "stdout",
     "output_type": "stream",
     "text": [
      "92173\n"
     ]
    },
    {
     "name": "stderr",
     "output_type": "stream",
     "text": [
      "18411it [2:13:15,  4.14it/s]"
     ]
    },
    {
     "name": "stdout",
     "output_type": "stream",
     "text": [
      "92028\n"
     ]
    },
    {
     "name": "stderr",
     "output_type": "stream",
     "text": [
      "18422it [2:13:43,  2.42it/s]"
     ]
    },
    {
     "name": "stdout",
     "output_type": "stream",
     "text": [
      "92028\n"
     ]
    },
    {
     "name": "stderr",
     "output_type": "stream",
     "text": [
      "18452it [2:14:12,  1.87it/s]"
     ]
    },
    {
     "name": "stdout",
     "output_type": "stream",
     "text": [
      "92173\n"
     ]
    },
    {
     "name": "stderr",
     "output_type": "stream",
     "text": [
      "18463it [2:14:22,  1.75it/s]"
     ]
    },
    {
     "name": "stdout",
     "output_type": "stream",
     "text": [
      "92173\n"
     ]
    },
    {
     "name": "stderr",
     "output_type": "stream",
     "text": [
      "18522it [2:14:32,  2.55it/s]"
     ]
    },
    {
     "name": "stdout",
     "output_type": "stream",
     "text": [
      "92028\n"
     ]
    },
    {
     "name": "stderr",
     "output_type": "stream",
     "text": [
      "18617it [2:15:00,  2.89it/s]"
     ]
    },
    {
     "name": "stdout",
     "output_type": "stream",
     "text": [
      "92173\n"
     ]
    },
    {
     "name": "stderr",
     "output_type": "stream",
     "text": [
      "18640it [2:15:10,  2.80it/s]"
     ]
    },
    {
     "name": "stdout",
     "output_type": "stream",
     "text": [
      "92173\n"
     ]
    },
    {
     "name": "stderr",
     "output_type": "stream",
     "text": [
      "18646it [2:15:20,  2.36it/s]"
     ]
    },
    {
     "name": "stdout",
     "output_type": "stream",
     "text": [
      "92173\n"
     ]
    },
    {
     "name": "stderr",
     "output_type": "stream",
     "text": [
      "18713it [2:15:30,  3.36it/s]"
     ]
    },
    {
     "name": "stdout",
     "output_type": "stream",
     "text": [
      "92028\n"
     ]
    },
    {
     "name": "stderr",
     "output_type": "stream",
     "text": [
      "18745it [2:15:58,  2.28it/s]"
     ]
    },
    {
     "name": "stdout",
     "output_type": "stream",
     "text": [
      "92173\n"
     ]
    },
    {
     "name": "stderr",
     "output_type": "stream",
     "text": [
      "18861it [2:16:08,  4.12it/s]"
     ]
    },
    {
     "name": "stdout",
     "output_type": "stream",
     "text": [
      "92173\n"
     ]
    },
    {
     "name": "stderr",
     "output_type": "stream",
     "text": [
      "18902it [2:16:18,  4.14it/s]"
     ]
    },
    {
     "name": "stdout",
     "output_type": "stream",
     "text": [
      "92028\n"
     ]
    },
    {
     "name": "stderr",
     "output_type": "stream",
     "text": [
      "18998it [2:16:46,  3.77it/s]"
     ]
    },
    {
     "name": "stdout",
     "output_type": "stream",
     "text": [
      "91905\n"
     ]
    },
    {
     "name": "stderr",
     "output_type": "stream",
     "text": [
      "19072it [2:16:50,  5.02it/s]"
     ]
    },
    {
     "name": "stdout",
     "output_type": "stream",
     "text": [
      "91962\n"
     ]
    },
    {
     "name": "stderr",
     "output_type": "stream",
     "text": [
      "19074it [2:16:55,  4.50it/s]"
     ]
    },
    {
     "name": "stdout",
     "output_type": "stream",
     "text": [
      "92036\n"
     ]
    },
    {
     "name": "stderr",
     "output_type": "stream",
     "text": [
      "19079it [2:16:59,  4.04it/s]"
     ]
    },
    {
     "name": "stdout",
     "output_type": "stream",
     "text": [
      "91934\n"
     ]
    },
    {
     "name": "stderr",
     "output_type": "stream",
     "text": [
      "19080it [2:17:08,  2.83it/s]"
     ]
    },
    {
     "name": "stdout",
     "output_type": "stream",
     "text": [
      "92004\n"
     ]
    },
    {
     "name": "stderr",
     "output_type": "stream",
     "text": [
      "19102it [2:17:13,  3.09it/s]"
     ]
    },
    {
     "name": "stdout",
     "output_type": "stream",
     "text": [
      "92036\n"
     ]
    },
    {
     "name": "stderr",
     "output_type": "stream",
     "text": [
      "19103it [2:17:18,  2.56it/s]"
     ]
    },
    {
     "name": "stdout",
     "output_type": "stream",
     "text": [
      "92036\n"
     ]
    },
    {
     "name": "stderr",
     "output_type": "stream",
     "text": [
      "19104it [2:17:22,  2.08it/s]"
     ]
    },
    {
     "name": "stdout",
     "output_type": "stream",
     "text": [
      "92036\n"
     ]
    },
    {
     "name": "stderr",
     "output_type": "stream",
     "text": [
      "19114it [2:17:26,  2.15it/s]"
     ]
    },
    {
     "name": "stdout",
     "output_type": "stream",
     "text": [
      "91906\n"
     ]
    },
    {
     "name": "stderr",
     "output_type": "stream",
     "text": [
      "19115it [2:17:30,  1.68it/s]"
     ]
    },
    {
     "name": "stdout",
     "output_type": "stream",
     "text": [
      "92004\n"
     ]
    },
    {
     "name": "stderr",
     "output_type": "stream",
     "text": [
      "19145it [2:17:35,  2.91it/s]"
     ]
    },
    {
     "name": "stdout",
     "output_type": "stream",
     "text": [
      "92028\n"
     ]
    },
    {
     "name": "stderr",
     "output_type": "stream",
     "text": [
      "19153it [2:18:04,  1.05it/s]"
     ]
    },
    {
     "name": "stdout",
     "output_type": "stream",
     "text": [
      "92028\n"
     ]
    },
    {
     "name": "stderr",
     "output_type": "stream",
     "text": [
      "19189it [2:18:33,  1.15it/s]"
     ]
    },
    {
     "name": "stdout",
     "output_type": "stream",
     "text": [
      "92028\n"
     ]
    },
    {
     "name": "stderr",
     "output_type": "stream",
     "text": [
      "19193it [2:19:01,  1.37s/it]"
     ]
    },
    {
     "name": "stdout",
     "output_type": "stream",
     "text": [
      "92028\n"
     ]
    },
    {
     "name": "stderr",
     "output_type": "stream",
     "text": [
      "19272it [2:19:30,  1.49it/s]"
     ]
    },
    {
     "name": "stdout",
     "output_type": "stream",
     "text": [
      "92028\n"
     ]
    },
    {
     "name": "stderr",
     "output_type": "stream",
     "text": [
      "19418it [2:19:59,  2.74it/s]"
     ]
    },
    {
     "name": "stdout",
     "output_type": "stream",
     "text": [
      "92173\n"
     ]
    },
    {
     "name": "stderr",
     "output_type": "stream",
     "text": [
      "19437it [2:20:09,  2.62it/s]"
     ]
    },
    {
     "name": "stdout",
     "output_type": "stream",
     "text": [
      "92173\n"
     ]
    },
    {
     "name": "stderr",
     "output_type": "stream",
     "text": [
      "19438it [2:20:18,  2.19it/s]"
     ]
    },
    {
     "name": "stdout",
     "output_type": "stream",
     "text": [
      "92029\n"
     ]
    },
    {
     "name": "stderr",
     "output_type": "stream",
     "text": [
      "19469it [2:20:27,  2.44it/s]"
     ]
    },
    {
     "name": "stdout",
     "output_type": "stream",
     "text": [
      "92173\n"
     ]
    },
    {
     "name": "stderr",
     "output_type": "stream",
     "text": [
      "19521it [2:20:37,  3.05it/s]"
     ]
    },
    {
     "name": "stdout",
     "output_type": "stream",
     "text": [
      "92028\n"
     ]
    },
    {
     "name": "stderr",
     "output_type": "stream",
     "text": [
      "19539it [2:21:06,  1.88it/s]"
     ]
    },
    {
     "name": "stdout",
     "output_type": "stream",
     "text": [
      "92028\n"
     ]
    },
    {
     "name": "stderr",
     "output_type": "stream",
     "text": [
      "19599it [2:21:35,  1.97it/s]"
     ]
    },
    {
     "name": "stdout",
     "output_type": "stream",
     "text": [
      "92028\n"
     ]
    },
    {
     "name": "stderr",
     "output_type": "stream",
     "text": [
      "19630it [2:22:03,  1.64it/s]"
     ]
    },
    {
     "name": "stdout",
     "output_type": "stream",
     "text": [
      "92028\n"
     ]
    },
    {
     "name": "stderr",
     "output_type": "stream",
     "text": [
      "19633it [2:22:32,  1.11it/s]"
     ]
    },
    {
     "name": "stdout",
     "output_type": "stream",
     "text": [
      "92028\n"
     ]
    },
    {
     "name": "stderr",
     "output_type": "stream",
     "text": [
      "19634it [2:23:01,  1.32s/it]"
     ]
    },
    {
     "name": "stdout",
     "output_type": "stream",
     "text": [
      "92028\n"
     ]
    },
    {
     "name": "stderr",
     "output_type": "stream",
     "text": [
      "19640it [2:23:29,  1.72s/it]"
     ]
    },
    {
     "name": "stdout",
     "output_type": "stream",
     "text": [
      "92173\n"
     ]
    },
    {
     "name": "stderr",
     "output_type": "stream",
     "text": [
      "19841it [2:23:39,  3.28it/s]"
     ]
    },
    {
     "name": "stdout",
     "output_type": "stream",
     "text": [
      "92028\n"
     ]
    },
    {
     "name": "stderr",
     "output_type": "stream",
     "text": [
      "19919it [2:24:08,  3.08it/s]"
     ]
    },
    {
     "name": "stdout",
     "output_type": "stream",
     "text": [
      "92028\n"
     ]
    },
    {
     "name": "stderr",
     "output_type": "stream",
     "text": [
      "19959it [2:24:36,  2.51it/s]"
     ]
    },
    {
     "name": "stdout",
     "output_type": "stream",
     "text": [
      "92028\n"
     ]
    },
    {
     "name": "stderr",
     "output_type": "stream",
     "text": [
      "19977it [2:25:05,  1.90it/s]"
     ]
    },
    {
     "name": "stdout",
     "output_type": "stream",
     "text": [
      "92173\n"
     ]
    },
    {
     "name": "stderr",
     "output_type": "stream",
     "text": [
      "19984it [2:25:09,  1.89it/s]"
     ]
    },
    {
     "name": "stdout",
     "output_type": "stream",
     "text": [
      "92173\n"
     ]
    },
    {
     "name": "stderr",
     "output_type": "stream",
     "text": [
      "19986it [2:25:24,  1.46it/s]"
     ]
    },
    {
     "name": "stdout",
     "output_type": "stream",
     "text": [
      "92173\n"
     ]
    },
    {
     "name": "stderr",
     "output_type": "stream",
     "text": [
      "19997it [2:25:34,  1.39it/s]"
     ]
    },
    {
     "name": "stdout",
     "output_type": "stream",
     "text": [
      "92173\n"
     ]
    },
    {
     "name": "stderr",
     "output_type": "stream",
     "text": [
      "19999it [2:25:43,  1.14it/s]"
     ]
    },
    {
     "name": "stdout",
     "output_type": "stream",
     "text": [
      "92036\n"
     ]
    },
    {
     "name": "stderr",
     "output_type": "stream",
     "text": [
      "20011it [2:25:48,  1.34it/s]"
     ]
    },
    {
     "name": "stdout",
     "output_type": "stream",
     "text": [
      "92028\n"
     ]
    },
    {
     "name": "stderr",
     "output_type": "stream",
     "text": [
      "20021it [2:26:16,  1.23s/it]"
     ]
    },
    {
     "name": "stdout",
     "output_type": "stream",
     "text": [
      "92028\n"
     ]
    },
    {
     "name": "stderr",
     "output_type": "stream",
     "text": [
      "20110it [2:26:45,  1.80it/s]"
     ]
    },
    {
     "name": "stdout",
     "output_type": "stream",
     "text": [
      "92173\n"
     ]
    },
    {
     "name": "stderr",
     "output_type": "stream",
     "text": [
      "20163it [2:26:55,  2.43it/s]"
     ]
    },
    {
     "name": "stdout",
     "output_type": "stream",
     "text": [
      "92028\n"
     ]
    },
    {
     "name": "stderr",
     "output_type": "stream",
     "text": [
      "20183it [2:27:24,  1.68it/s]"
     ]
    },
    {
     "name": "stdout",
     "output_type": "stream",
     "text": [
      "92173\n"
     ]
    },
    {
     "name": "stderr",
     "output_type": "stream",
     "text": [
      "20216it [2:27:34,  1.96it/s]"
     ]
    },
    {
     "name": "stdout",
     "output_type": "stream",
     "text": [
      "92028\n"
     ]
    },
    {
     "name": "stderr",
     "output_type": "stream",
     "text": [
      "20233it [2:28:03,  1.39it/s]"
     ]
    },
    {
     "name": "stdout",
     "output_type": "stream",
     "text": [
      "92028\n"
     ]
    },
    {
     "name": "stderr",
     "output_type": "stream",
     "text": [
      "20234it [2:28:33,  1.14s/it]"
     ]
    },
    {
     "name": "stdout",
     "output_type": "stream",
     "text": [
      "92029\n"
     ]
    },
    {
     "name": "stderr",
     "output_type": "stream",
     "text": [
      "20271it [2:28:46,  1.25it/s]"
     ]
    },
    {
     "name": "stdout",
     "output_type": "stream",
     "text": [
      "92028\n"
     ]
    },
    {
     "name": "stderr",
     "output_type": "stream",
     "text": [
      "20277it [2:29:15,  1.17s/it]"
     ]
    },
    {
     "name": "stdout",
     "output_type": "stream",
     "text": [
      "92028\n"
     ]
    },
    {
     "name": "stderr",
     "output_type": "stream",
     "text": [
      "20497it [2:29:45,  3.19it/s]"
     ]
    },
    {
     "name": "stdout",
     "output_type": "stream",
     "text": [
      "92173\n"
     ]
    },
    {
     "name": "stderr",
     "output_type": "stream",
     "text": [
      "20595it [2:29:55,  4.16it/s]"
     ]
    },
    {
     "name": "stdout",
     "output_type": "stream",
     "text": [
      "92028\n"
     ]
    },
    {
     "name": "stderr",
     "output_type": "stream",
     "text": [
      "20620it [2:30:24,  2.90it/s]"
     ]
    },
    {
     "name": "stdout",
     "output_type": "stream",
     "text": [
      "92173\n"
     ]
    },
    {
     "name": "stderr",
     "output_type": "stream",
     "text": [
      "20657it [2:30:34,  3.04it/s]"
     ]
    },
    {
     "name": "stdout",
     "output_type": "stream",
     "text": [
      "92028\n"
     ]
    },
    {
     "name": "stderr",
     "output_type": "stream",
     "text": [
      "20833it [2:31:04,  4.17it/s]"
     ]
    },
    {
     "name": "stdout",
     "output_type": "stream",
     "text": [
      "92173\n"
     ]
    },
    {
     "name": "stderr",
     "output_type": "stream",
     "text": [
      "20835it [2:31:14,  3.53it/s]"
     ]
    },
    {
     "name": "stdout",
     "output_type": "stream",
     "text": [
      "92028\n"
     ]
    },
    {
     "name": "stderr",
     "output_type": "stream",
     "text": [
      "20909it [2:31:43,  3.11it/s]"
     ]
    },
    {
     "name": "stdout",
     "output_type": "stream",
     "text": [
      "92028\n"
     ]
    },
    {
     "name": "stderr",
     "output_type": "stream",
     "text": [
      "21142it [2:32:13,  4.87it/s]"
     ]
    },
    {
     "name": "stdout",
     "output_type": "stream",
     "text": [
      "92029\n"
     ]
    },
    {
     "name": "stderr",
     "output_type": "stream",
     "text": [
      "21201it [2:32:26,  4.80it/s]"
     ]
    },
    {
     "name": "stdout",
     "output_type": "stream",
     "text": [
      "92036\n"
     ]
    },
    {
     "name": "stderr",
     "output_type": "stream",
     "text": [
      "21413it [2:32:30,  8.42it/s]"
     ]
    },
    {
     "name": "stdout",
     "output_type": "stream",
     "text": [
      "92173\n"
     ]
    },
    {
     "name": "stderr",
     "output_type": "stream",
     "text": [
      "21428it [2:32:40,  6.97it/s]"
     ]
    },
    {
     "name": "stdout",
     "output_type": "stream",
     "text": [
      "92028\n"
     ]
    },
    {
     "name": "stderr",
     "output_type": "stream",
     "text": [
      "21496it [2:33:10,  4.76it/s]"
     ]
    },
    {
     "name": "stdout",
     "output_type": "stream",
     "text": [
      "92173\n"
     ]
    },
    {
     "name": "stderr",
     "output_type": "stream",
     "text": [
      "21518it [2:33:19,  4.29it/s]"
     ]
    },
    {
     "name": "stdout",
     "output_type": "stream",
     "text": [
      "92173\n"
     ]
    },
    {
     "name": "stderr",
     "output_type": "stream",
     "text": [
      "21520it [2:33:29,  3.45it/s]"
     ]
    },
    {
     "name": "stdout",
     "output_type": "stream",
     "text": [
      "92028\n"
     ]
    },
    {
     "name": "stderr",
     "output_type": "stream",
     "text": [
      "21540it [2:33:58,  2.15it/s]"
     ]
    },
    {
     "name": "stdout",
     "output_type": "stream",
     "text": [
      "92173\n"
     ]
    },
    {
     "name": "stderr",
     "output_type": "stream",
     "text": [
      "21636it [2:34:08,  3.55it/s]"
     ]
    },
    {
     "name": "stdout",
     "output_type": "stream",
     "text": [
      "92173\n"
     ]
    },
    {
     "name": "stderr",
     "output_type": "stream",
     "text": [
      "21745it [2:34:18,  5.11it/s]"
     ]
    },
    {
     "name": "stdout",
     "output_type": "stream",
     "text": [
      "92028\n"
     ]
    },
    {
     "name": "stderr",
     "output_type": "stream",
     "text": [
      "21788it [2:34:48,  3.39it/s]"
     ]
    },
    {
     "name": "stdout",
     "output_type": "stream",
     "text": [
      "92028\n"
     ]
    },
    {
     "name": "stderr",
     "output_type": "stream",
     "text": [
      "21879it [2:35:17,  3.26it/s]"
     ]
    },
    {
     "name": "stdout",
     "output_type": "stream",
     "text": [
      "92028\n"
     ]
    },
    {
     "name": "stderr",
     "output_type": "stream",
     "text": [
      "21883it [2:35:47,  2.12it/s]"
     ]
    },
    {
     "name": "stdout",
     "output_type": "stream",
     "text": [
      "92173\n"
     ]
    },
    {
     "name": "stderr",
     "output_type": "stream",
     "text": [
      "21956it [2:35:57,  2.89it/s]"
     ]
    },
    {
     "name": "stdout",
     "output_type": "stream",
     "text": [
      "92173\n"
     ]
    },
    {
     "name": "stderr",
     "output_type": "stream",
     "text": [
      "21957it [2:36:07,  2.40it/s]"
     ]
    },
    {
     "name": "stdout",
     "output_type": "stream",
     "text": [
      "92173\n"
     ]
    },
    {
     "name": "stderr",
     "output_type": "stream",
     "text": [
      "21972it [2:36:17,  2.23it/s]"
     ]
    },
    {
     "name": "stdout",
     "output_type": "stream",
     "text": [
      "92028\n"
     ]
    },
    {
     "name": "stderr",
     "output_type": "stream",
     "text": [
      "22042it [2:36:46,  2.29it/s]"
     ]
    },
    {
     "name": "stdout",
     "output_type": "stream",
     "text": [
      "92004\n"
     ]
    },
    {
     "name": "stderr",
     "output_type": "stream",
     "text": [
      "22094it [2:36:52,  3.08it/s]"
     ]
    },
    {
     "name": "stdout",
     "output_type": "stream",
     "text": [
      "92028\n"
     ]
    },
    {
     "name": "stderr",
     "output_type": "stream",
     "text": [
      "22097it [2:37:21,  1.72it/s]"
     ]
    },
    {
     "name": "stdout",
     "output_type": "stream",
     "text": [
      "92173\n"
     ]
    },
    {
     "name": "stderr",
     "output_type": "stream",
     "text": [
      "22153it [2:37:31,  2.43it/s]"
     ]
    },
    {
     "name": "stdout",
     "output_type": "stream",
     "text": [
      "92028\n"
     ]
    },
    {
     "name": "stderr",
     "output_type": "stream",
     "text": [
      "22168it [2:38:01,  1.59it/s]"
     ]
    },
    {
     "name": "stdout",
     "output_type": "stream",
     "text": [
      "92173\n"
     ]
    },
    {
     "name": "stderr",
     "output_type": "stream",
     "text": [
      "22229it [2:38:11,  2.37it/s]"
     ]
    },
    {
     "name": "stdout",
     "output_type": "stream",
     "text": [
      "92028\n"
     ]
    },
    {
     "name": "stderr",
     "output_type": "stream",
     "text": [
      "22286it [2:38:40,  2.19it/s]"
     ]
    },
    {
     "name": "stdout",
     "output_type": "stream",
     "text": [
      "92028\n"
     ]
    },
    {
     "name": "stderr",
     "output_type": "stream",
     "text": [
      "22307it [2:39:10,  1.63it/s]"
     ]
    },
    {
     "name": "stdout",
     "output_type": "stream",
     "text": [
      "92173\n"
     ]
    },
    {
     "name": "stderr",
     "output_type": "stream",
     "text": [
      "22319it [2:39:20,  1.57it/s]"
     ]
    },
    {
     "name": "stdout",
     "output_type": "stream",
     "text": [
      "92028\n"
     ]
    },
    {
     "name": "stderr",
     "output_type": "stream",
     "text": [
      "22357it [2:39:50,  1.45it/s]"
     ]
    },
    {
     "name": "stdout",
     "output_type": "stream",
     "text": [
      "92004\n"
     ]
    },
    {
     "name": "stderr",
     "output_type": "stream",
     "text": [
      "22438it [2:39:55,  2.72it/s]"
     ]
    },
    {
     "name": "stdout",
     "output_type": "stream",
     "text": [
      "92173\n"
     ]
    },
    {
     "name": "stderr",
     "output_type": "stream",
     "text": [
      "22501it [2:40:05,  3.44it/s]"
     ]
    },
    {
     "name": "stdout",
     "output_type": "stream",
     "text": [
      "92173\n"
     ]
    },
    {
     "name": "stderr",
     "output_type": "stream",
     "text": [
      "22585it [2:40:15,  4.55it/s]"
     ]
    },
    {
     "name": "stdout",
     "output_type": "stream",
     "text": [
      "92028\n"
     ]
    },
    {
     "name": "stderr",
     "output_type": "stream",
     "text": [
      "22589it [2:40:44,  2.42it/s]"
     ]
    },
    {
     "name": "stdout",
     "output_type": "stream",
     "text": [
      "92173\n"
     ]
    },
    {
     "name": "stderr",
     "output_type": "stream",
     "text": [
      "22680it [2:40:54,  3.71it/s]"
     ]
    },
    {
     "name": "stdout",
     "output_type": "stream",
     "text": [
      "92004\n"
     ]
    },
    {
     "name": "stderr",
     "output_type": "stream",
     "text": [
      "22689it [2:40:59,  3.46it/s]"
     ]
    },
    {
     "name": "stdout",
     "output_type": "stream",
     "text": [
      "92173\n"
     ]
    },
    {
     "name": "stderr",
     "output_type": "stream",
     "text": [
      "22819it [2:41:09,  5.90it/s]"
     ]
    },
    {
     "name": "stdout",
     "output_type": "stream",
     "text": [
      "92004\n"
     ]
    },
    {
     "name": "stderr",
     "output_type": "stream",
     "text": [
      "22823it [2:41:14,  5.07it/s]"
     ]
    },
    {
     "name": "stdout",
     "output_type": "stream",
     "text": [
      "92028\n"
     ]
    },
    {
     "name": "stderr",
     "output_type": "stream",
     "text": [
      "22879it [2:41:44,  3.30it/s]"
     ]
    },
    {
     "name": "stdout",
     "output_type": "stream",
     "text": [
      "92028\n"
     ]
    },
    {
     "name": "stderr",
     "output_type": "stream",
     "text": [
      "22883it [2:42:13,  1.88it/s]"
     ]
    },
    {
     "name": "stdout",
     "output_type": "stream",
     "text": [
      "92173\n"
     ]
    },
    {
     "name": "stderr",
     "output_type": "stream",
     "text": [
      "22929it [2:42:23,  2.37it/s]"
     ]
    },
    {
     "name": "stdout",
     "output_type": "stream",
     "text": [
      "92028\n"
     ]
    },
    {
     "name": "stderr",
     "output_type": "stream",
     "text": [
      "22997it [2:42:53,  2.34it/s]"
     ]
    },
    {
     "name": "stdout",
     "output_type": "stream",
     "text": [
      "92173\n"
     ]
    },
    {
     "name": "stderr",
     "output_type": "stream",
     "text": [
      "23009it [2:43:03,  2.15it/s]"
     ]
    },
    {
     "name": "stdout",
     "output_type": "stream",
     "text": [
      "92173\n"
     ]
    },
    {
     "name": "stderr",
     "output_type": "stream",
     "text": [
      "23010it [2:43:12,  1.75it/s]"
     ]
    },
    {
     "name": "stdout",
     "output_type": "stream",
     "text": [
      "92173\n"
     ]
    },
    {
     "name": "stderr",
     "output_type": "stream",
     "text": [
      "23037it [2:43:22,  1.96it/s]"
     ]
    },
    {
     "name": "stdout",
     "output_type": "stream",
     "text": [
      "91916\n"
     ]
    },
    {
     "name": "stderr",
     "output_type": "stream",
     "text": [
      "23122it [2:43:28,  3.98it/s]"
     ]
    },
    {
     "name": "stdout",
     "output_type": "stream",
     "text": [
      "91931\n"
     ]
    },
    {
     "name": "stderr",
     "output_type": "stream",
     "text": [
      "23139it [2:43:31,  4.11it/s]"
     ]
    },
    {
     "name": "stdout",
     "output_type": "stream",
     "text": [
      "92029\n"
     ]
    },
    {
     "name": "stderr",
     "output_type": "stream",
     "text": [
      "23141it [2:43:44,  2.58it/s]"
     ]
    },
    {
     "name": "stdout",
     "output_type": "stream",
     "text": [
      "92173\n"
     ]
    },
    {
     "name": "stderr",
     "output_type": "stream",
     "text": [
      "23153it [2:43:59,  1.88it/s]"
     ]
    },
    {
     "name": "stdout",
     "output_type": "stream",
     "text": [
      "92173\n"
     ]
    },
    {
     "name": "stderr",
     "output_type": "stream",
     "text": [
      "23253it [2:44:09,  4.11it/s]"
     ]
    },
    {
     "name": "stdout",
     "output_type": "stream",
     "text": [
      "92028\n"
     ]
    },
    {
     "name": "stderr",
     "output_type": "stream",
     "text": [
      "23435it [2:44:38,  5.18it/s]"
     ]
    },
    {
     "name": "stdout",
     "output_type": "stream",
     "text": [
      "92028\n"
     ]
    },
    {
     "name": "stderr",
     "output_type": "stream",
     "text": [
      "23508it [2:45:08,  4.00it/s]"
     ]
    },
    {
     "name": "stdout",
     "output_type": "stream",
     "text": [
      "92028\n"
     ]
    },
    {
     "name": "stderr",
     "output_type": "stream",
     "text": [
      "23514it [2:45:38,  2.54it/s]"
     ]
    },
    {
     "name": "stdout",
     "output_type": "stream",
     "text": [
      "92173\n"
     ]
    },
    {
     "name": "stderr",
     "output_type": "stream",
     "text": [
      "23568it [2:45:48,  3.00it/s]"
     ]
    },
    {
     "name": "stdout",
     "output_type": "stream",
     "text": [
      "91905\n"
     ]
    },
    {
     "name": "stderr",
     "output_type": "stream",
     "text": [
      "23618it [2:45:52,  3.76it/s]"
     ]
    },
    {
     "name": "stdout",
     "output_type": "stream",
     "text": [
      "92036\n"
     ]
    },
    {
     "name": "stderr",
     "output_type": "stream",
     "text": [
      "23642it [2:45:56,  3.97it/s]"
     ]
    },
    {
     "name": "stdout",
     "output_type": "stream",
     "text": [
      "92173\n"
     ]
    },
    {
     "name": "stderr",
     "output_type": "stream",
     "text": [
      "23708it [2:46:06,  4.66it/s]"
     ]
    },
    {
     "name": "stdout",
     "output_type": "stream",
     "text": [
      "92173\n"
     ]
    },
    {
     "name": "stderr",
     "output_type": "stream",
     "text": [
      "23748it [2:46:18,  4.33it/s]"
     ]
    },
    {
     "name": "stdout",
     "output_type": "stream",
     "text": [
      "92173\n"
     ]
    },
    {
     "name": "stderr",
     "output_type": "stream",
     "text": [
      "23753it [2:46:28,  3.27it/s]"
     ]
    },
    {
     "name": "stdout",
     "output_type": "stream",
     "text": [
      "92173\n"
     ]
    },
    {
     "name": "stderr",
     "output_type": "stream",
     "text": [
      "23786it [2:46:38,  3.28it/s]"
     ]
    },
    {
     "name": "stdout",
     "output_type": "stream",
     "text": [
      "92028\n"
     ]
    },
    {
     "name": "stderr",
     "output_type": "stream",
     "text": [
      "23859it [2:47:07,  2.85it/s]"
     ]
    },
    {
     "name": "stdout",
     "output_type": "stream",
     "text": [
      "92173\n"
     ]
    },
    {
     "name": "stderr",
     "output_type": "stream",
     "text": [
      "23939it [2:47:17,  3.94it/s]"
     ]
    },
    {
     "name": "stdout",
     "output_type": "stream",
     "text": [
      "92173\n"
     ]
    },
    {
     "name": "stderr",
     "output_type": "stream",
     "text": [
      "23940it [2:47:27,  3.07it/s]"
     ]
    },
    {
     "name": "stdout",
     "output_type": "stream",
     "text": [
      "92173\n"
     ]
    },
    {
     "name": "stderr",
     "output_type": "stream",
     "text": [
      "24004it [2:47:36,  3.92it/s]"
     ]
    },
    {
     "name": "stdout",
     "output_type": "stream",
     "text": [
      "92028\n"
     ]
    },
    {
     "name": "stderr",
     "output_type": "stream",
     "text": [
      "24171it [2:48:06,  4.79it/s]"
     ]
    },
    {
     "name": "stdout",
     "output_type": "stream",
     "text": [
      "92173\n"
     ]
    },
    {
     "name": "stderr",
     "output_type": "stream",
     "text": [
      "24226it [2:48:16,  4.95it/s]"
     ]
    },
    {
     "name": "stdout",
     "output_type": "stream",
     "text": [
      "92173\n"
     ]
    },
    {
     "name": "stderr",
     "output_type": "stream",
     "text": [
      "24235it [2:48:26,  4.08it/s]"
     ]
    },
    {
     "name": "stdout",
     "output_type": "stream",
     "text": [
      "92028\n"
     ]
    },
    {
     "name": "stderr",
     "output_type": "stream",
     "text": [
      "24263it [2:48:55,  2.55it/s]"
     ]
    },
    {
     "name": "stdout",
     "output_type": "stream",
     "text": [
      "92173\n"
     ]
    },
    {
     "name": "stderr",
     "output_type": "stream",
     "text": [
      "24292it [2:49:05,  2.63it/s]"
     ]
    },
    {
     "name": "stdout",
     "output_type": "stream",
     "text": [
      "92173\n"
     ]
    },
    {
     "name": "stderr",
     "output_type": "stream",
     "text": [
      "24320it [2:49:15,  2.68it/s]"
     ]
    },
    {
     "name": "stdout",
     "output_type": "stream",
     "text": [
      "92028\n"
     ]
    },
    {
     "name": "stderr",
     "output_type": "stream",
     "text": [
      "24366it [2:49:44,  2.16it/s]"
     ]
    },
    {
     "name": "stdout",
     "output_type": "stream",
     "text": [
      "92173\n"
     ]
    },
    {
     "name": "stderr",
     "output_type": "stream",
     "text": [
      "24444it [2:49:54,  3.23it/s]"
     ]
    },
    {
     "name": "stdout",
     "output_type": "stream",
     "text": [
      "92004\n"
     ]
    },
    {
     "name": "stderr",
     "output_type": "stream",
     "text": [
      "24492it [2:49:59,  3.95it/s]"
     ]
    },
    {
     "name": "stdout",
     "output_type": "stream",
     "text": [
      "92036\n"
     ]
    },
    {
     "name": "stderr",
     "output_type": "stream",
     "text": [
      "24505it [2:50:03,  3.85it/s]"
     ]
    },
    {
     "name": "stdout",
     "output_type": "stream",
     "text": [
      "92173\n"
     ]
    },
    {
     "name": "stderr",
     "output_type": "stream",
     "text": [
      "24537it [2:50:13,  3.66it/s]"
     ]
    },
    {
     "name": "stdout",
     "output_type": "stream",
     "text": [
      "92028\n"
     ]
    },
    {
     "name": "stderr",
     "output_type": "stream",
     "text": [
      "24550it [2:50:43,  1.87it/s]"
     ]
    },
    {
     "name": "stdout",
     "output_type": "stream",
     "text": [
      "92173\n"
     ]
    },
    {
     "name": "stderr",
     "output_type": "stream",
     "text": [
      "24557it [2:50:53,  1.63it/s]"
     ]
    },
    {
     "name": "stdout",
     "output_type": "stream",
     "text": [
      "91962\n"
     ]
    },
    {
     "name": "stderr",
     "output_type": "stream",
     "text": [
      "24672it [2:50:57,  4.55it/s]"
     ]
    },
    {
     "name": "stdout",
     "output_type": "stream",
     "text": [
      "92028\n"
     ]
    },
    {
     "name": "stderr",
     "output_type": "stream",
     "text": [
      "24716it [2:51:26,  2.93it/s]"
     ]
    },
    {
     "name": "stdout",
     "output_type": "stream",
     "text": [
      "92028\n"
     ]
    },
    {
     "name": "stderr",
     "output_type": "stream",
     "text": [
      "24757it [2:51:56,  2.26it/s]"
     ]
    },
    {
     "name": "stdout",
     "output_type": "stream",
     "text": [
      "92173\n"
     ]
    },
    {
     "name": "stderr",
     "output_type": "stream",
     "text": [
      "25052it [2:52:06,  7.01it/s]"
     ]
    },
    {
     "name": "stdout",
     "output_type": "stream",
     "text": [
      "92028\n"
     ]
    },
    {
     "name": "stderr",
     "output_type": "stream",
     "text": [
      "25094it [2:52:36,  4.61it/s]"
     ]
    },
    {
     "name": "stdout",
     "output_type": "stream",
     "text": [
      "92028\n"
     ]
    },
    {
     "name": "stderr",
     "output_type": "stream",
     "text": [
      "25096it [2:52:39,  4.33it/s]"
     ]
    },
    {
     "name": "stdout",
     "output_type": "stream",
     "text": [
      "92173\n"
     ]
    },
    {
     "name": "stderr",
     "output_type": "stream",
     "text": [
      "25135it [2:52:49,  4.24it/s]"
     ]
    },
    {
     "name": "stdout",
     "output_type": "stream",
     "text": [
      "92173\n"
     ]
    },
    {
     "name": "stderr",
     "output_type": "stream",
     "text": [
      "25169it [2:52:59,  4.08it/s]"
     ]
    },
    {
     "name": "stdout",
     "output_type": "stream",
     "text": [
      "92173\n"
     ]
    },
    {
     "name": "stderr",
     "output_type": "stream",
     "text": [
      "25366it [2:53:08,  8.08it/s]"
     ]
    },
    {
     "name": "stdout",
     "output_type": "stream",
     "text": [
      "92173\n"
     ]
    },
    {
     "name": "stderr",
     "output_type": "stream",
     "text": [
      "25434it [2:53:18,  7.81it/s]"
     ]
    },
    {
     "name": "stdout",
     "output_type": "stream",
     "text": [
      "92173\n"
     ]
    },
    {
     "name": "stderr",
     "output_type": "stream",
     "text": [
      "25454it [2:53:28,  6.23it/s]"
     ]
    },
    {
     "name": "stdout",
     "output_type": "stream",
     "text": [
      "92028\n"
     ]
    },
    {
     "name": "stderr",
     "output_type": "stream",
     "text": [
      "25467it [2:53:58,  3.10it/s]"
     ]
    },
    {
     "name": "stdout",
     "output_type": "stream",
     "text": [
      "92028\n"
     ]
    },
    {
     "name": "stderr",
     "output_type": "stream",
     "text": [
      "25480it [2:54:02,  3.11it/s]"
     ]
    },
    {
     "name": "stdout",
     "output_type": "stream",
     "text": [
      "92173\n"
     ]
    },
    {
     "name": "stderr",
     "output_type": "stream",
     "text": [
      "25555it [2:54:12,  4.22it/s]"
     ]
    },
    {
     "name": "stdout",
     "output_type": "stream",
     "text": [
      "92029\n"
     ]
    },
    {
     "name": "stderr",
     "output_type": "stream",
     "text": [
      "25655it [2:54:24,  5.35it/s]"
     ]
    },
    {
     "name": "stdout",
     "output_type": "stream",
     "text": [
      "91935\n"
     ]
    },
    {
     "name": "stderr",
     "output_type": "stream",
     "text": [
      "25689it [2:54:30,  5.51it/s]"
     ]
    },
    {
     "name": "stdout",
     "output_type": "stream",
     "text": [
      "92028\n"
     ]
    },
    {
     "name": "stderr",
     "output_type": "stream",
     "text": [
      "25707it [2:54:59,  2.80it/s]"
     ]
    },
    {
     "name": "stdout",
     "output_type": "stream",
     "text": [
      "92173\n"
     ]
    },
    {
     "name": "stderr",
     "output_type": "stream",
     "text": [
      "25794it [2:55:09,  4.07it/s]"
     ]
    },
    {
     "name": "stdout",
     "output_type": "stream",
     "text": [
      "92028\n"
     ]
    },
    {
     "name": "stderr",
     "output_type": "stream",
     "text": [
      "25895it [2:55:39,  3.76it/s]"
     ]
    },
    {
     "name": "stdout",
     "output_type": "stream",
     "text": [
      "92028\n"
     ]
    },
    {
     "name": "stderr",
     "output_type": "stream",
     "text": [
      "25942it [2:56:08,  2.88it/s]"
     ]
    },
    {
     "name": "stdout",
     "output_type": "stream",
     "text": [
      "92028\n"
     ]
    },
    {
     "name": "stderr",
     "output_type": "stream",
     "text": [
      "25946it [2:56:38,  1.88it/s]"
     ]
    },
    {
     "name": "stdout",
     "output_type": "stream",
     "text": [
      "92028\n"
     ]
    },
    {
     "name": "stderr",
     "output_type": "stream",
     "text": [
      "25947it [2:57:07,  1.24it/s]"
     ]
    },
    {
     "name": "stdout",
     "output_type": "stream",
     "text": [
      "92029\n"
     ]
    },
    {
     "name": "stderr",
     "output_type": "stream",
     "text": [
      "25991it [2:57:20,  1.63it/s]"
     ]
    },
    {
     "name": "stdout",
     "output_type": "stream",
     "text": [
      "92004\n"
     ]
    },
    {
     "name": "stderr",
     "output_type": "stream",
     "text": [
      "26007it [2:57:25,  1.76it/s]"
     ]
    },
    {
     "name": "stdout",
     "output_type": "stream",
     "text": [
      "91935\n"
     ]
    },
    {
     "name": "stderr",
     "output_type": "stream",
     "text": [
      "26031it [2:57:31,  2.09it/s]"
     ]
    },
    {
     "name": "stdout",
     "output_type": "stream",
     "text": [
      "91916\n"
     ]
    },
    {
     "name": "stderr",
     "output_type": "stream",
     "text": [
      "26041it [2:57:36,  2.06it/s]"
     ]
    },
    {
     "name": "stdout",
     "output_type": "stream",
     "text": [
      "91962\n"
     ]
    },
    {
     "name": "stderr",
     "output_type": "stream",
     "text": [
      "26062it [2:57:40,  2.47it/s]"
     ]
    },
    {
     "name": "stdout",
     "output_type": "stream",
     "text": [
      "91931\n"
     ]
    },
    {
     "name": "stderr",
     "output_type": "stream",
     "text": [
      "26068it [2:57:44,  2.30it/s]"
     ]
    },
    {
     "name": "stdout",
     "output_type": "stream",
     "text": [
      "91935\n"
     ]
    },
    {
     "name": "stderr",
     "output_type": "stream",
     "text": [
      "26094it [2:57:50,  2.90it/s]"
     ]
    },
    {
     "name": "stdout",
     "output_type": "stream",
     "text": [
      "92028\n"
     ]
    },
    {
     "name": "stderr",
     "output_type": "stream",
     "text": [
      "26130it [2:58:19,  1.81it/s]"
     ]
    },
    {
     "name": "stdout",
     "output_type": "stream",
     "text": [
      "92028\n"
     ]
    },
    {
     "name": "stderr",
     "output_type": "stream",
     "text": [
      "26137it [2:58:49,  1.05it/s]"
     ]
    },
    {
     "name": "stdout",
     "output_type": "stream",
     "text": [
      "92028\n"
     ]
    },
    {
     "name": "stderr",
     "output_type": "stream",
     "text": [
      "26139it [2:59:19,  1.56s/it]"
     ]
    },
    {
     "name": "stdout",
     "output_type": "stream",
     "text": [
      "92028\n"
     ]
    },
    {
     "name": "stderr",
     "output_type": "stream",
     "text": [
      "26223it [2:59:49,  1.44it/s]"
     ]
    },
    {
     "name": "stdout",
     "output_type": "stream",
     "text": [
      "92036\n"
     ]
    },
    {
     "name": "stderr",
     "output_type": "stream",
     "text": [
      "26297it [2:59:53,  2.55it/s]"
     ]
    },
    {
     "name": "stdout",
     "output_type": "stream",
     "text": [
      "92028\n"
     ]
    },
    {
     "name": "stderr",
     "output_type": "stream",
     "text": [
      "26381it [3:00:23,  2.66it/s]"
     ]
    },
    {
     "name": "stdout",
     "output_type": "stream",
     "text": [
      "92028\n"
     ]
    },
    {
     "name": "stderr",
     "output_type": "stream",
     "text": [
      "26415it [3:00:53,  2.10it/s]"
     ]
    },
    {
     "name": "stdout",
     "output_type": "stream",
     "text": [
      "92028\n"
     ]
    },
    {
     "name": "stderr",
     "output_type": "stream",
     "text": [
      "26435it [3:01:22,  1.62it/s]"
     ]
    },
    {
     "name": "stdout",
     "output_type": "stream",
     "text": [
      "92028\n"
     ]
    },
    {
     "name": "stderr",
     "output_type": "stream",
     "text": [
      "26437it [3:01:27,  1.52it/s]"
     ]
    },
    {
     "name": "stdout",
     "output_type": "stream",
     "text": [
      "92028\n"
     ]
    },
    {
     "name": "stderr",
     "output_type": "stream",
     "text": [
      "26574it [3:01:57,  2.75it/s]"
     ]
    },
    {
     "name": "stdout",
     "output_type": "stream",
     "text": [
      "92173\n"
     ]
    },
    {
     "name": "stderr",
     "output_type": "stream",
     "text": [
      "26612it [3:02:07,  2.93it/s]"
     ]
    },
    {
     "name": "stdout",
     "output_type": "stream",
     "text": [
      "92173\n"
     ]
    },
    {
     "name": "stderr",
     "output_type": "stream",
     "text": [
      "26616it [3:02:16,  2.47it/s]"
     ]
    },
    {
     "name": "stdout",
     "output_type": "stream",
     "text": [
      "92028\n"
     ]
    },
    {
     "name": "stderr",
     "output_type": "stream",
     "text": [
      "26650it [3:02:46,  1.88it/s]"
     ]
    },
    {
     "name": "stdout",
     "output_type": "stream",
     "text": [
      "92003\n"
     ]
    },
    {
     "name": "stderr",
     "output_type": "stream",
     "text": [
      "26723it [3:02:50,  3.15it/s]"
     ]
    },
    {
     "name": "stdout",
     "output_type": "stream",
     "text": [
      "92173\n"
     ]
    },
    {
     "name": "stderr",
     "output_type": "stream",
     "text": [
      "26810it [3:03:00,  4.39it/s]"
     ]
    },
    {
     "name": "stdout",
     "output_type": "stream",
     "text": [
      "92029\n"
     ]
    },
    {
     "name": "stderr",
     "output_type": "stream",
     "text": [
      "26847it [3:03:13,  3.96it/s]"
     ]
    },
    {
     "name": "stdout",
     "output_type": "stream",
     "text": [
      "92173\n"
     ]
    },
    {
     "name": "stderr",
     "output_type": "stream",
     "text": [
      "26868it [3:03:23,  3.52it/s]"
     ]
    },
    {
     "name": "stdout",
     "output_type": "stream",
     "text": [
      "91934\n"
     ]
    },
    {
     "name": "stderr",
     "output_type": "stream",
     "text": [
      "26903it [3:03:26,  4.24it/s]"
     ]
    },
    {
     "name": "stdout",
     "output_type": "stream",
     "text": [
      "92004\n"
     ]
    },
    {
     "name": "stderr",
     "output_type": "stream",
     "text": [
      "27008it [3:03:31,  7.22it/s]"
     ]
    },
    {
     "name": "stdout",
     "output_type": "stream",
     "text": [
      "92028\n"
     ]
    },
    {
     "name": "stderr",
     "output_type": "stream",
     "text": [
      "27134it [3:04:01,  5.42it/s]"
     ]
    },
    {
     "name": "stdout",
     "output_type": "stream",
     "text": [
      "92028\n"
     ]
    },
    {
     "name": "stderr",
     "output_type": "stream",
     "text": [
      "27196it [3:04:31,  3.87it/s]"
     ]
    },
    {
     "name": "stdout",
     "output_type": "stream",
     "text": [
      "91914\n"
     ]
    },
    {
     "name": "stderr",
     "output_type": "stream",
     "text": [
      "27220it [3:04:39,  3.70it/s]"
     ]
    },
    {
     "name": "stdout",
     "output_type": "stream",
     "text": [
      "92028\n"
     ]
    },
    {
     "name": "stderr",
     "output_type": "stream",
     "text": [
      "27229it [3:05:09,  2.21it/s]"
     ]
    },
    {
     "name": "stdout",
     "output_type": "stream",
     "text": [
      "92028\n"
     ]
    },
    {
     "name": "stderr",
     "output_type": "stream",
     "text": [
      "27295it [3:05:38,  2.21it/s]"
     ]
    },
    {
     "name": "stdout",
     "output_type": "stream",
     "text": [
      "92028\n"
     ]
    },
    {
     "name": "stderr",
     "output_type": "stream",
     "text": [
      "27326it [3:06:08,  1.80it/s]"
     ]
    },
    {
     "name": "stdout",
     "output_type": "stream",
     "text": [
      "92173\n"
     ]
    },
    {
     "name": "stderr",
     "output_type": "stream",
     "text": [
      "27360it [3:06:18,  2.04it/s]"
     ]
    },
    {
     "name": "stdout",
     "output_type": "stream",
     "text": [
      "91935\n"
     ]
    },
    {
     "name": "stderr",
     "output_type": "stream",
     "text": [
      "27412it [3:06:23,  2.82it/s]"
     ]
    },
    {
     "name": "stdout",
     "output_type": "stream",
     "text": [
      "92028\n"
     ]
    },
    {
     "name": "stderr",
     "output_type": "stream",
     "text": [
      "27519it [3:06:53,  3.18it/s]"
     ]
    },
    {
     "name": "stdout",
     "output_type": "stream",
     "text": [
      "92173\n"
     ]
    },
    {
     "name": "stderr",
     "output_type": "stream",
     "text": [
      "27586it [3:07:03,  3.80it/s]"
     ]
    },
    {
     "name": "stdout",
     "output_type": "stream",
     "text": [
      "92028\n"
     ]
    },
    {
     "name": "stderr",
     "output_type": "stream",
     "text": [
      "27596it [3:07:32,  2.32it/s]"
     ]
    },
    {
     "name": "stdout",
     "output_type": "stream",
     "text": [
      "92028\n"
     ]
    },
    {
     "name": "stderr",
     "output_type": "stream",
     "text": [
      "27603it [3:08:02,  1.52it/s]"
     ]
    },
    {
     "name": "stdout",
     "output_type": "stream",
     "text": [
      "92173\n"
     ]
    },
    {
     "name": "stderr",
     "output_type": "stream",
     "text": [
      "27660it [3:08:12,  2.16it/s]"
     ]
    },
    {
     "name": "stdout",
     "output_type": "stream",
     "text": [
      "92173\n"
     ]
    },
    {
     "name": "stderr",
     "output_type": "stream",
     "text": [
      "27664it [3:08:22,  1.84it/s]"
     ]
    },
    {
     "name": "stdout",
     "output_type": "stream",
     "text": [
      "92029\n"
     ]
    },
    {
     "name": "stderr",
     "output_type": "stream",
     "text": [
      "27690it [3:08:35,  1.88it/s]"
     ]
    },
    {
     "name": "stdout",
     "output_type": "stream",
     "text": [
      "92028\n"
     ]
    },
    {
     "name": "stderr",
     "output_type": "stream",
     "text": [
      "27745it [3:09:05,  1.87it/s]"
     ]
    },
    {
     "name": "stdout",
     "output_type": "stream",
     "text": [
      "92173\n"
     ]
    },
    {
     "name": "stderr",
     "output_type": "stream",
     "text": [
      "27750it [3:09:15,  1.62it/s]"
     ]
    },
    {
     "name": "stdout",
     "output_type": "stream",
     "text": [
      "92028\n"
     ]
    },
    {
     "name": "stderr",
     "output_type": "stream",
     "text": [
      "27944it [3:09:45,  3.72it/s]"
     ]
    },
    {
     "name": "stdout",
     "output_type": "stream",
     "text": [
      "92028\n"
     ]
    },
    {
     "name": "stderr",
     "output_type": "stream",
     "text": [
      "28036it [3:10:15,  3.48it/s]"
     ]
    },
    {
     "name": "stdout",
     "output_type": "stream",
     "text": [
      "92028\n"
     ]
    },
    {
     "name": "stderr",
     "output_type": "stream",
     "text": [
      "28077it [3:10:45,  2.74it/s]"
     ]
    },
    {
     "name": "stdout",
     "output_type": "stream",
     "text": [
      "92173\n"
     ]
    },
    {
     "name": "stderr",
     "output_type": "stream",
     "text": [
      "28093it [3:10:55,  2.57it/s]"
     ]
    },
    {
     "name": "stdout",
     "output_type": "stream",
     "text": [
      "92173\n"
     ]
    },
    {
     "name": "stderr",
     "output_type": "stream",
     "text": [
      "28136it [3:11:05,  2.88it/s]"
     ]
    },
    {
     "name": "stdout",
     "output_type": "stream",
     "text": [
      "92173\n"
     ]
    },
    {
     "name": "stderr",
     "output_type": "stream",
     "text": [
      "28150it [3:11:15,  2.58it/s]"
     ]
    },
    {
     "name": "stdout",
     "output_type": "stream",
     "text": [
      "92028\n"
     ]
    },
    {
     "name": "stderr",
     "output_type": "stream",
     "text": [
      "28309it [3:11:44,  3.84it/s]"
     ]
    },
    {
     "name": "stdout",
     "output_type": "stream",
     "text": [
      "92028\n"
     ]
    },
    {
     "name": "stderr",
     "output_type": "stream",
     "text": [
      "28345it [3:12:14,  2.81it/s]"
     ]
    },
    {
     "name": "stdout",
     "output_type": "stream",
     "text": [
      "92028\n"
     ]
    },
    {
     "name": "stderr",
     "output_type": "stream",
     "text": [
      "28370it [3:12:44,  2.10it/s]"
     ]
    },
    {
     "name": "stdout",
     "output_type": "stream",
     "text": [
      "92173\n"
     ]
    },
    {
     "name": "stderr",
     "output_type": "stream",
     "text": [
      "28451it [3:12:54,  2.96it/s]"
     ]
    },
    {
     "name": "stdout",
     "output_type": "stream",
     "text": [
      "92028\n"
     ]
    },
    {
     "name": "stderr",
     "output_type": "stream",
     "text": [
      "28453it [3:13:24,  1.85it/s]"
     ]
    },
    {
     "name": "stdout",
     "output_type": "stream",
     "text": [
      "92173\n"
     ]
    },
    {
     "name": "stderr",
     "output_type": "stream",
     "text": [
      "28488it [3:13:34,  2.09it/s]"
     ]
    },
    {
     "name": "stdout",
     "output_type": "stream",
     "text": [
      "92028\n"
     ]
    },
    {
     "name": "stderr",
     "output_type": "stream",
     "text": [
      "28497it [3:14:04,  1.39it/s]"
     ]
    },
    {
     "name": "stdout",
     "output_type": "stream",
     "text": [
      "92029\n"
     ]
    },
    {
     "name": "stderr",
     "output_type": "stream",
     "text": [
      "28550it [3:14:09,  2.20it/s]"
     ]
    },
    {
     "name": "stdout",
     "output_type": "stream",
     "text": [
      "92028\n"
     ]
    },
    {
     "name": "stderr",
     "output_type": "stream",
     "text": [
      "28572it [3:14:39,  1.56it/s]"
     ]
    },
    {
     "name": "stdout",
     "output_type": "stream",
     "text": [
      "92028\n"
     ]
    },
    {
     "name": "stderr",
     "output_type": "stream",
     "text": [
      "28602it [3:15:09,  1.36it/s]"
     ]
    },
    {
     "name": "stdout",
     "output_type": "stream",
     "text": [
      "92028\n"
     ]
    },
    {
     "name": "stderr",
     "output_type": "stream",
     "text": [
      "28629it [3:15:38,  1.20it/s]"
     ]
    },
    {
     "name": "stdout",
     "output_type": "stream",
     "text": [
      "92173\n"
     ]
    },
    {
     "name": "stderr",
     "output_type": "stream",
     "text": [
      "28645it [3:15:49,  1.25it/s]"
     ]
    },
    {
     "name": "stdout",
     "output_type": "stream",
     "text": [
      "92028\n"
     ]
    },
    {
     "name": "stderr",
     "output_type": "stream",
     "text": [
      "28675it [3:16:19,  1.16it/s]"
     ]
    },
    {
     "name": "stdout",
     "output_type": "stream",
     "text": [
      "92173\n"
     ]
    },
    {
     "name": "stderr",
     "output_type": "stream",
     "text": [
      "28724it [3:16:29,  1.73it/s]"
     ]
    },
    {
     "name": "stdout",
     "output_type": "stream",
     "text": [
      "92029\n"
     ]
    },
    {
     "name": "stderr",
     "output_type": "stream",
     "text": [
      "28746it [3:16:42,  1.71it/s]"
     ]
    },
    {
     "name": "stdout",
     "output_type": "stream",
     "text": [
      "92173\n"
     ]
    },
    {
     "name": "stderr",
     "output_type": "stream",
     "text": [
      "28753it [3:16:52,  1.52it/s]"
     ]
    },
    {
     "name": "stdout",
     "output_type": "stream",
     "text": [
      "92173\n"
     ]
    },
    {
     "name": "stderr",
     "output_type": "stream",
     "text": [
      "28772it [3:17:02,  1.61it/s]"
     ]
    },
    {
     "name": "stdout",
     "output_type": "stream",
     "text": [
      "92028\n"
     ]
    },
    {
     "name": "stderr",
     "output_type": "stream",
     "text": [
      "28839it [3:17:32,  1.92it/s]"
     ]
    },
    {
     "name": "stdout",
     "output_type": "stream",
     "text": [
      "92173\n"
     ]
    },
    {
     "name": "stderr",
     "output_type": "stream",
     "text": [
      "28975it [3:17:42,  4.11it/s]"
     ]
    },
    {
     "name": "stdout",
     "output_type": "stream",
     "text": [
      "92029\n"
     ]
    },
    {
     "name": "stderr",
     "output_type": "stream",
     "text": [
      "29004it [3:17:54,  3.64it/s]"
     ]
    },
    {
     "name": "stdout",
     "output_type": "stream",
     "text": [
      "92173\n"
     ]
    },
    {
     "name": "stderr",
     "output_type": "stream",
     "text": [
      "29089it [3:18:04,  4.75it/s]"
     ]
    },
    {
     "name": "stdout",
     "output_type": "stream",
     "text": [
      "92173\n"
     ]
    },
    {
     "name": "stderr",
     "output_type": "stream",
     "text": [
      "29193it [3:18:14,  6.17it/s]"
     ]
    },
    {
     "name": "stdout",
     "output_type": "stream",
     "text": [
      "92028\n"
     ]
    },
    {
     "name": "stderr",
     "output_type": "stream",
     "text": [
      "29213it [3:18:43,  3.39it/s]"
     ]
    },
    {
     "name": "stdout",
     "output_type": "stream",
     "text": [
      "92029\n"
     ]
    },
    {
     "name": "stderr",
     "output_type": "stream",
     "text": [
      "29318it [3:18:56,  4.54it/s]"
     ]
    },
    {
     "name": "stdout",
     "output_type": "stream",
     "text": [
      "92036\n"
     ]
    },
    {
     "name": "stderr",
     "output_type": "stream",
     "text": [
      "29388it [3:19:00,  5.77it/s]"
     ]
    },
    {
     "name": "stdout",
     "output_type": "stream",
     "text": [
      "92028\n"
     ]
    },
    {
     "name": "stderr",
     "output_type": "stream",
     "text": [
      "29468it [3:19:30,  4.24it/s]"
     ]
    },
    {
     "name": "stdout",
     "output_type": "stream",
     "text": [
      "91962\n"
     ]
    },
    {
     "name": "stderr",
     "output_type": "stream",
     "text": [
      "29474it [3:19:34,  3.98it/s]"
     ]
    },
    {
     "name": "stdout",
     "output_type": "stream",
     "text": [
      "92028\n"
     ]
    },
    {
     "name": "stderr",
     "output_type": "stream",
     "text": [
      "29481it [3:20:03,  2.17it/s]"
     ]
    },
    {
     "name": "stdout",
     "output_type": "stream",
     "text": [
      "92029\n"
     ]
    },
    {
     "name": "stderr",
     "output_type": "stream",
     "text": [
      "29538it [3:20:16,  2.68it/s]"
     ]
    },
    {
     "name": "stdout",
     "output_type": "stream",
     "text": [
      "92173\n"
     ]
    },
    {
     "name": "stderr",
     "output_type": "stream",
     "text": [
      "29564it [3:20:26,  2.68it/s]"
     ]
    },
    {
     "name": "stdout",
     "output_type": "stream",
     "text": [
      "92029\n"
     ]
    },
    {
     "name": "stderr",
     "output_type": "stream",
     "text": [
      "29785it [3:20:40,  6.56it/s]"
     ]
    },
    {
     "name": "stdout",
     "output_type": "stream",
     "text": [
      "92028\n"
     ]
    },
    {
     "name": "stderr",
     "output_type": "stream",
     "text": [
      "29905it [3:21:10,  5.35it/s]"
     ]
    },
    {
     "name": "stdout",
     "output_type": "stream",
     "text": [
      "92173\n"
     ]
    },
    {
     "name": "stderr",
     "output_type": "stream",
     "text": [
      "29912it [3:21:19,  4.52it/s]"
     ]
    },
    {
     "name": "stdout",
     "output_type": "stream",
     "text": [
      "92028\n"
     ]
    },
    {
     "name": "stderr",
     "output_type": "stream",
     "text": [
      "29923it [3:21:49,  2.69it/s]"
     ]
    },
    {
     "name": "stdout",
     "output_type": "stream",
     "text": [
      "92173\n"
     ]
    },
    {
     "name": "stderr",
     "output_type": "stream",
     "text": [
      "29931it [3:21:59,  2.36it/s]"
     ]
    },
    {
     "name": "stdout",
     "output_type": "stream",
     "text": [
      "92028\n"
     ]
    },
    {
     "name": "stderr",
     "output_type": "stream",
     "text": [
      "30042it [3:22:29,  2.92it/s]"
     ]
    },
    {
     "name": "stdout",
     "output_type": "stream",
     "text": [
      "92028\n"
     ]
    },
    {
     "name": "stderr",
     "output_type": "stream",
     "text": [
      "30055it [3:22:59,  1.99it/s]"
     ]
    },
    {
     "name": "stdout",
     "output_type": "stream",
     "text": [
      "92173\n"
     ]
    },
    {
     "name": "stderr",
     "output_type": "stream",
     "text": [
      "30063it [3:23:09,  1.82it/s]"
     ]
    },
    {
     "name": "stdout",
     "output_type": "stream",
     "text": [
      "92028\n"
     ]
    },
    {
     "name": "stderr",
     "output_type": "stream",
     "text": [
      "30103it [3:23:44,  1.52it/s]"
     ]
    },
    {
     "name": "stdout",
     "output_type": "stream",
     "text": [
      "92173\n"
     ]
    },
    {
     "name": "stderr",
     "output_type": "stream",
     "text": [
      "30117it [3:23:54,  1.51it/s]"
     ]
    },
    {
     "name": "stdout",
     "output_type": "stream",
     "text": [
      "92028\n"
     ]
    },
    {
     "name": "stderr",
     "output_type": "stream",
     "text": [
      "30166it [3:24:23,  1.56it/s]"
     ]
    },
    {
     "name": "stdout",
     "output_type": "stream",
     "text": [
      "92028\n"
     ]
    },
    {
     "name": "stderr",
     "output_type": "stream",
     "text": [
      "30176it [3:24:53,  1.12it/s]"
     ]
    },
    {
     "name": "stdout",
     "output_type": "stream",
     "text": [
      "92173\n"
     ]
    },
    {
     "name": "stderr",
     "output_type": "stream",
     "text": [
      "30180it [3:25:03,  1.02it/s]"
     ]
    },
    {
     "name": "stdout",
     "output_type": "stream",
     "text": [
      "92173\n"
     ]
    },
    {
     "name": "stderr",
     "output_type": "stream",
     "text": [
      "30228it [3:25:13,  1.68it/s]"
     ]
    },
    {
     "name": "stdout",
     "output_type": "stream",
     "text": [
      "92028\n"
     ]
    },
    {
     "name": "stderr",
     "output_type": "stream",
     "text": [
      "30336it [3:25:42,  2.51it/s]"
     ]
    },
    {
     "name": "stdout",
     "output_type": "stream",
     "text": [
      "92028\n"
     ]
    },
    {
     "name": "stderr",
     "output_type": "stream",
     "text": [
      "30435it [3:26:13,  2.79it/s]"
     ]
    },
    {
     "name": "stdout",
     "output_type": "stream",
     "text": [
      "92028\n"
     ]
    },
    {
     "name": "stderr",
     "output_type": "stream",
     "text": [
      "30566it [3:26:43,  3.35it/s]"
     ]
    },
    {
     "name": "stdout",
     "output_type": "stream",
     "text": [
      "92028\n"
     ]
    },
    {
     "name": "stderr",
     "output_type": "stream",
     "text": [
      "30640it [3:27:12,  3.07it/s]"
     ]
    },
    {
     "name": "stdout",
     "output_type": "stream",
     "text": [
      "92029\n"
     ]
    },
    {
     "name": "stderr",
     "output_type": "stream",
     "text": [
      "30703it [3:27:25,  3.39it/s]"
     ]
    },
    {
     "name": "stdout",
     "output_type": "stream",
     "text": [
      "92028\n"
     ]
    },
    {
     "name": "stderr",
     "output_type": "stream",
     "text": [
      "30713it [3:27:55,  2.29it/s]"
     ]
    },
    {
     "name": "stdout",
     "output_type": "stream",
     "text": [
      "92173\n"
     ]
    },
    {
     "name": "stderr",
     "output_type": "stream",
     "text": [
      "30779it [3:28:05,  2.92it/s]"
     ]
    },
    {
     "name": "stdout",
     "output_type": "stream",
     "text": [
      "92028\n"
     ]
    },
    {
     "name": "stderr",
     "output_type": "stream",
     "text": [
      "30831it [3:28:35,  2.44it/s]"
     ]
    },
    {
     "name": "stdout",
     "output_type": "stream",
     "text": [
      "92173\n"
     ]
    },
    {
     "name": "stderr",
     "output_type": "stream",
     "text": [
      "30850it [3:28:45,  2.37it/s]"
     ]
    },
    {
     "name": "stdout",
     "output_type": "stream",
     "text": [
      "92173\n"
     ]
    },
    {
     "name": "stderr",
     "output_type": "stream",
     "text": [
      "30881it [3:28:55,  2.51it/s]"
     ]
    },
    {
     "name": "stdout",
     "output_type": "stream",
     "text": [
      "92028\n"
     ]
    },
    {
     "name": "stderr",
     "output_type": "stream",
     "text": [
      "31028it [3:29:26,  3.51it/s]"
     ]
    },
    {
     "name": "stdout",
     "output_type": "stream",
     "text": [
      "92029\n"
     ]
    },
    {
     "name": "stderr",
     "output_type": "stream",
     "text": [
      "31093it [3:29:39,  2.47it/s]\n"
     ]
    },
    {
     "name": "stdout",
     "output_type": "stream",
     "text": [
      "================== https://www.apartments.com/ saved to csv file.\n"
     ]
    }
   ],
   "source": [
    "m = 'https://www.apartments.com/'\n",
    "phone = []\n",
    "scraped_add = []\n",
    "add = pd.read_excel('/Users/anqibu/Documents/CCEOutGridAddress.xlsx')\n",
    "ori_add = []\n",
    "street_add = []\n",
    "district = []\n",
    "state = []\n",
    "\n",
    "link = 'https://www.apartments.com/san-diego-county-ca/?bb=497_3ulzmNpo5z80md'\n",
    "driver = webdriver.Chrome(ChromeDriverManager().install())\n",
    "driver.implicitly_wait(.5)\n",
    "driver.get(link)\n",
    "driver.implicitly_wait(1)\n",
    "print(f\"================== {m} start to scrape: \")\n",
    "\n",
    "for index,row in tqdm(add.iterrows()):\n",
    "    zipcode = str(row[2])[0:5]\n",
    "    if zipcode not in ori_add:\n",
    "        print(zipcode)\n",
    "        items = scrape(zipcode)\n",
    "        if len(items[0]) == 0:\n",
    "            continue\n",
    "        phone += items[0]\n",
    "        print(items)\n",
    "        scraped_add += items[1]\n",
    "        ori_add += [zipcode]*len(items[0])\n",
    "        \n",
    "        street_add += items[2]\n",
    "        district += items[3]\n",
    "        state += items[4]\n",
    "    \n",
    "driver.close()\n",
    "df = pd.DataFrame({\"Scraped Address\": scraped_add, \"Street\": street_add, \"City\": district, \"State\": state, \"Phone Number\": phone, \"Zipcode\": ori_add,})\n",
    "\n",
    "output_dir = Path('/Users/anqibu/Downloads')\n",
    "output_dir.mkdir(parents=True, exist_ok=True)\n",
    "output_file = \"CCEContactInfo.csv\"\n",
    "df.to_csv(output_dir / output_file)\n",
    "\n",
    "print(f\"================== {m} saved to csv file.\")\n"
   ]
  },
  {
   "cell_type": "markdown",
   "id": "16925ef9",
   "metadata": {},
   "source": [
    "##### Sometimes the apartments.com returns different web format and some addresses cannot be found using original code;\n",
    "So here is the backup codes for the left over addresses to be scraped."
   ]
  },
  {
   "cell_type": "code",
   "execution_count": 128,
   "id": "25c78fd2",
   "metadata": {},
   "outputs": [],
   "source": [
    "#This function scrapes one address/zipcode\n",
    "def scrape2(k):\n",
    "\n",
    "#html = driver.page_source\n",
    "\n",
    "#soup = BeautifulSoup(html)\n",
    "#time.sleep(.5)\n",
    "    address = []\n",
    "    call = []\n",
    "    street = []\n",
    "    city = []\n",
    "    state = []\n",
    "    i = driver.find_element_by_xpath('//*[@id=\"searchBarLookup\"]')\n",
    "    i.send_keys(k)\n",
    "    i.send_keys(Keys.RETURN)\n",
    "    time.sleep(3)\n",
    "    try:\n",
    "        lst = driver.find_element_by_xpath('//*[@id=\"placardContainer\"]')\n",
    "        aprts = lst.find_elements_by_tag_name('li')\n",
    "    except StaleElementReferenceException:\n",
    "        time.sleep(5)\n",
    "        lst = driver.find_element_by_xpath('//*[@id=\"placardContainer\"]')\n",
    "        aprts = lst.find_elements_by_tag_name('li')\n",
    "    \n",
    "    for aprt in aprts:\n",
    "        try:\n",
    "            st = aprt.find_element_by_class_name('property-information')\n",
    "            strt = st.find_elements_by_tag_name('div')\n",
    "            info = aprt.find_element_by_class_name('property-info')\n",
    "            infos = info.find_elements_by_tag_name('a')   \n",
    "            add = infos[0]\n",
    "            number = infos[1]\n",
    "        except StaleElementReferenceException:\n",
    "            break\n",
    "        except NoSuchElementException:\n",
    "            continue\n",
    "        except:\n",
    "            time.sleep(3)\n",
    "            st = aprt.find_element_by_class_name('property-information')\n",
    "            strt = st.find_elements_by_tag_name('div')\n",
    "            info = aprt.find_element_by_class_name('property-info')\n",
    "            infos = info.find_elements_by_tag_name('a')   \n",
    "            add = infos[0]\n",
    "            number = infos[1]\n",
    "        try:\n",
    "            for j,s in enumerate(strt):\n",
    "                if j == 1 :\n",
    "                    value = s.text.split(',')\n",
    "                    if len(value) == 2:\n",
    "                        value.append(value[1])\n",
    "                        value[1] = ''\n",
    "                    street.append(value[0])\n",
    "                    city.append(value[1])\n",
    "                    state.append(value[2])\n",
    "            address.append(add.get_attribute('aria-label'))\n",
    "            call.append(number.get_attribute('href')[4:])\n",
    "        except:\n",
    "            break\n",
    "    \n",
    "    return call, address, street, city, state "
   ]
  },
  {
   "cell_type": "code",
   "execution_count": 130,
   "id": "3af0c8cb",
   "metadata": {},
   "outputs": [
    {
     "name": "stderr",
     "output_type": "stream",
     "text": [
      "\n",
      "\n",
      "====== WebDriver manager ======\n",
      "Current google-chrome version is 99.0.4844\n",
      "Get LATEST chromedriver version for 99.0.4844 google-chrome\n",
      "Driver [/Users/anqibu/.wdm/drivers/chromedriver/mac64/99.0.4844.51/chromedriver] found in cache\n"
     ]
    },
    {
     "name": "stdout",
     "output_type": "stream",
     "text": [
      "================== https://www.apartments.com/ start to scrape: \n"
     ]
    },
    {
     "name": "stderr",
     "output_type": "stream",
     "text": [
      "0it [00:00, ?it/s]"
     ]
    },
    {
     "name": "stdout",
     "output_type": "stream",
     "text": [
      "92173\n"
     ]
    },
    {
     "name": "stderr",
     "output_type": "stream",
     "text": [
      "75it [00:10,  7.33it/s]"
     ]
    },
    {
     "name": "stdout",
     "output_type": "stream",
     "text": [
      "(['8584927784', '6198702976', '8448142442'], ['Sunrise Village Apartments, San Diego, CA', 'VILLAGE APARTMENTS, San Diego, CA', 'Summer Brook, San Diego, CA'], ['130-158 W Calle Primera', '2314 Servando Ave', '1587 Oro Vista Rd'], [' San Diego', ' San Diego', ' San Diego'], [' CA 92173', ' CA 92154', ' CA 92154'])\n",
      "92029\n"
     ]
    },
    {
     "name": "stderr",
     "output_type": "stream",
     "text": [
      "103it [00:19,  4.82it/s]"
     ]
    },
    {
     "name": "stdout",
     "output_type": "stream",
     "text": [
      "(['8447235252', '8447713101'], ['Diamond Pointe, Escondido, CA', 'Whispering Pines Apartments, Escondido, CA'], ['1500 W 11th Ave', '1040 S Hale Ave'], [' Escondido', ' Escondido'], [' CA 92029', ' CA 92029'])\n",
      "92028\n"
     ]
    },
    {
     "name": "stderr",
     "output_type": "stream",
     "text": [
      "249it [00:49,  4.94it/s]"
     ]
    },
    {
     "name": "stdout",
     "output_type": "stream",
     "text": [
      "(['8556295728', '8446442128', '8442540086'], ['Fallbrook Hills Apartments, Fallbrook, CA', 'Amberwood Apartments, Fallbrook, CA', 'Rosewood Apartments, Fallbrook, CA'], ['744 W Fallbrook St', '923 Alturas Rd', '338 Ammunition Rd'], [' Fallbrook', ' Fallbrook', ' Fallbrook'], [' CA 92028', ' CA 92028', ' CA 92028'])\n",
      "91916\n"
     ]
    },
    {
     "name": "stderr",
     "output_type": "stream",
     "text": [
      "253it [00:54,  4.29it/s]"
     ]
    },
    {
     "name": "stdout",
     "output_type": "stream",
     "text": [
      "91962\n"
     ]
    },
    {
     "name": "stderr",
     "output_type": "stream",
     "text": [
      "455it [00:58, 10.85it/s]"
     ]
    },
    {
     "name": "stdout",
     "output_type": "stream",
     "text": [
      "91906\n"
     ]
    },
    {
     "name": "stderr",
     "output_type": "stream",
     "text": [
      "956it [01:02, 29.90it/s]"
     ]
    },
    {
     "name": "stdout",
     "output_type": "stream",
     "text": [
      "92036\n"
     ]
    },
    {
     "name": "stderr",
     "output_type": "stream",
     "text": [
      "1003it [01:07, 26.08it/s]"
     ]
    },
    {
     "name": "stdout",
     "output_type": "stream",
     "text": [
      "91934\n"
     ]
    },
    {
     "name": "stderr",
     "output_type": "stream",
     "text": [
      "1064it [01:11, 23.44it/s]"
     ]
    },
    {
     "name": "stdout",
     "output_type": "stream",
     "text": [
      "92004\n"
     ]
    },
    {
     "name": "stderr",
     "output_type": "stream",
     "text": [
      "1096it [01:16, 18.54it/s]"
     ]
    },
    {
     "name": "stdout",
     "output_type": "stream",
     "text": [
      "91906\n"
     ]
    },
    {
     "name": "stderr",
     "output_type": "stream",
     "text": [
      "1407it [01:20, 32.06it/s]"
     ]
    },
    {
     "name": "stdout",
     "output_type": "stream",
     "text": [
      "91962\n"
     ]
    },
    {
     "name": "stderr",
     "output_type": "stream",
     "text": [
      "1946it [01:25, 56.91it/s]"
     ]
    },
    {
     "name": "stdout",
     "output_type": "stream",
     "text": [
      "91906\n"
     ]
    },
    {
     "name": "stderr",
     "output_type": "stream",
     "text": [
      "2342it [01:29, 66.88it/s]"
     ]
    },
    {
     "name": "stdout",
     "output_type": "stream",
     "text": [
      "92082\n"
     ]
    },
    {
     "name": "stderr",
     "output_type": "stream",
     "text": [
      "3498it [01:38, 92.72it/s]"
     ]
    },
    {
     "name": "stdout",
     "output_type": "stream",
     "text": [
      "92036\n"
     ]
    },
    {
     "name": "stderr",
     "output_type": "stream",
     "text": [
      "3740it [01:42, 84.67it/s]"
     ]
    },
    {
     "name": "stdout",
     "output_type": "stream",
     "text": [
      "92036\n"
     ]
    },
    {
     "name": "stderr",
     "output_type": "stream",
     "text": [
      "4023it [01:47, 80.39it/s]"
     ]
    },
    {
     "name": "stdout",
     "output_type": "stream",
     "text": [
      "92004\n"
     ]
    },
    {
     "name": "stderr",
     "output_type": "stream",
     "text": [
      "4049it [01:52, 57.45it/s]"
     ]
    },
    {
     "name": "stdout",
     "output_type": "stream",
     "text": [
      "92004\n"
     ]
    },
    {
     "name": "stderr",
     "output_type": "stream",
     "text": [
      "4055it [01:57, 40.14it/s]"
     ]
    },
    {
     "name": "stdout",
     "output_type": "stream",
     "text": [
      "92004\n"
     ]
    },
    {
     "name": "stderr",
     "output_type": "stream",
     "text": [
      "4066it [02:02, 28.61it/s]"
     ]
    },
    {
     "name": "stdout",
     "output_type": "stream",
     "text": [
      "92036\n"
     ]
    },
    {
     "name": "stderr",
     "output_type": "stream",
     "text": [
      "5480it [02:07, 107.27it/s]"
     ]
    },
    {
     "name": "stdout",
     "output_type": "stream",
     "text": [
      "92004\n"
     ]
    },
    {
     "name": "stderr",
     "output_type": "stream",
     "text": [
      "5766it [02:12, 90.65it/s] "
     ]
    },
    {
     "name": "stdout",
     "output_type": "stream",
     "text": [
      "92036\n"
     ]
    },
    {
     "name": "stderr",
     "output_type": "stream",
     "text": [
      "5863it [02:16, 72.92it/s]"
     ]
    },
    {
     "name": "stdout",
     "output_type": "stream",
     "text": [
      "91962\n"
     ]
    },
    {
     "name": "stderr",
     "output_type": "stream",
     "text": [
      "6142it [02:20, 71.11it/s]"
     ]
    },
    {
     "name": "stdout",
     "output_type": "stream",
     "text": [
      "91931\n"
     ]
    },
    {
     "name": "stderr",
     "output_type": "stream",
     "text": [
      "6977it [02:25, 106.83it/s]"
     ]
    },
    {
     "name": "stdout",
     "output_type": "stream",
     "text": [
      "91948\n"
     ]
    },
    {
     "name": "stderr",
     "output_type": "stream",
     "text": [
      "7262it [02:28, 102.52it/s]"
     ]
    },
    {
     "name": "stdout",
     "output_type": "stream",
     "text": [
      "(['8448592985'], ['Vista Ridge, Phoenix, AZ'], ['2050 W Southern Ave'], [' Phoenix'], [' AZ 85041'])\n",
      "92036\n"
     ]
    },
    {
     "name": "stderr",
     "output_type": "stream",
     "text": [
      "8813it [02:32, 183.96it/s]"
     ]
    },
    {
     "name": "stdout",
     "output_type": "stream",
     "text": [
      "91916\n"
     ]
    },
    {
     "name": "stderr",
     "output_type": "stream",
     "text": [
      "8901it [02:37, 124.99it/s]"
     ]
    },
    {
     "name": "stdout",
     "output_type": "stream",
     "text": [
      "91935\n"
     ]
    },
    {
     "name": "stderr",
     "output_type": "stream",
     "text": [
      "9905it [02:43, 146.69it/s]"
     ]
    },
    {
     "name": "stdout",
     "output_type": "stream",
     "text": [
      "91935\n"
     ]
    },
    {
     "name": "stderr",
     "output_type": "stream",
     "text": [
      "10283it [02:48, 122.98it/s]"
     ]
    },
    {
     "name": "stdout",
     "output_type": "stream",
     "text": [
      "92036\n"
     ]
    },
    {
     "name": "stderr",
     "output_type": "stream",
     "text": [
      "10718it [02:52, 117.80it/s]"
     ]
    },
    {
     "name": "stdout",
     "output_type": "stream",
     "text": [
      "92082\n"
     ]
    },
    {
     "name": "stderr",
     "output_type": "stream",
     "text": [
      "10731it [03:01, 64.12it/s] "
     ]
    },
    {
     "name": "stdout",
     "output_type": "stream",
     "text": [
      "92082\n"
     ]
    },
    {
     "name": "stderr",
     "output_type": "stream",
     "text": [
      "10811it [03:11, 41.99it/s]"
     ]
    },
    {
     "name": "stdout",
     "output_type": "stream",
     "text": [
      "91962\n"
     ]
    },
    {
     "name": "stderr",
     "output_type": "stream",
     "text": [
      "10976it [03:15, 41.41it/s]"
     ]
    },
    {
     "name": "stdout",
     "output_type": "stream",
     "text": [
      "92082\n"
     ]
    },
    {
     "name": "stderr",
     "output_type": "stream",
     "text": [
      "11112it [03:24, 30.95it/s]"
     ]
    },
    {
     "name": "stdout",
     "output_type": "stream",
     "text": [
      "92082\n"
     ]
    },
    {
     "name": "stderr",
     "output_type": "stream",
     "text": [
      "11176it [03:34, 22.18it/s]"
     ]
    },
    {
     "name": "stdout",
     "output_type": "stream",
     "text": [
      "92036\n"
     ]
    },
    {
     "name": "stderr",
     "output_type": "stream",
     "text": [
      "11180it [03:38, 18.23it/s]"
     ]
    },
    {
     "name": "stdout",
     "output_type": "stream",
     "text": [
      "92082\n"
     ]
    },
    {
     "name": "stderr",
     "output_type": "stream",
     "text": [
      "11218it [03:47, 12.93it/s]"
     ]
    },
    {
     "name": "stdout",
     "output_type": "stream",
     "text": [
      "91905\n"
     ]
    },
    {
     "name": "stderr",
     "output_type": "stream",
     "text": [
      "11767it [03:51, 35.63it/s]"
     ]
    },
    {
     "name": "stdout",
     "output_type": "stream",
     "text": [
      "92082\n"
     ]
    },
    {
     "name": "stderr",
     "output_type": "stream",
     "text": [
      "12015it [04:01, 32.19it/s]"
     ]
    },
    {
     "name": "stdout",
     "output_type": "stream",
     "text": [
      "91916\n"
     ]
    },
    {
     "name": "stderr",
     "output_type": "stream",
     "text": [
      "12833it [04:06, 60.83it/s]"
     ]
    },
    {
     "name": "stdout",
     "output_type": "stream",
     "text": [
      "92004\n"
     ]
    },
    {
     "name": "stderr",
     "output_type": "stream",
     "text": [
      "14095it [04:11, 124.50it/s]"
     ]
    },
    {
     "name": "stdout",
     "output_type": "stream",
     "text": [
      "92082\n"
     ]
    },
    {
     "name": "stderr",
     "output_type": "stream",
     "text": [
      "14398it [04:21, 80.06it/s] "
     ]
    },
    {
     "name": "stdout",
     "output_type": "stream",
     "text": [
      "92004\n"
     ]
    },
    {
     "name": "stderr",
     "output_type": "stream",
     "text": [
      "14611it [04:26, 68.85it/s]"
     ]
    },
    {
     "name": "stdout",
     "output_type": "stream",
     "text": [
      "92004\n"
     ]
    },
    {
     "name": "stderr",
     "output_type": "stream",
     "text": [
      "16206it [04:32, 185.96it/s]"
     ]
    },
    {
     "name": "stdout",
     "output_type": "stream",
     "text": [
      "92003\n"
     ]
    },
    {
     "name": "stderr",
     "output_type": "stream",
     "text": [
      "17524it [04:36, 261.97it/s]"
     ]
    },
    {
     "name": "stdout",
     "output_type": "stream",
     "text": [
      "92003\n"
     ]
    },
    {
     "name": "stderr",
     "output_type": "stream",
     "text": [
      "17969it [04:41, 192.21it/s]"
     ]
    },
    {
     "name": "stdout",
     "output_type": "stream",
     "text": [
      "91905\n"
     ]
    },
    {
     "name": "stderr",
     "output_type": "stream",
     "text": [
      "19072it [04:45, 215.28it/s]"
     ]
    },
    {
     "name": "stdout",
     "output_type": "stream",
     "text": [
      "91962\n",
      "92036\n",
      "91934\n",
      "92004\n"
     ]
    },
    {
     "name": "stderr",
     "output_type": "stream",
     "text": [
      "19102it [05:03, 66.05it/s] "
     ]
    },
    {
     "name": "stdout",
     "output_type": "stream",
     "text": [
      "92036\n"
     ]
    },
    {
     "name": "stderr",
     "output_type": "stream",
     "text": [
      "19103it [05:07, 53.78it/s]"
     ]
    },
    {
     "name": "stdout",
     "output_type": "stream",
     "text": [
      "92036\n",
      "92036\n",
      "91906\n"
     ]
    },
    {
     "name": "stderr",
     "output_type": "stream",
     "text": [
      "19115it [05:20, 30.23it/s]"
     ]
    },
    {
     "name": "stdout",
     "output_type": "stream",
     "text": [
      "92004\n"
     ]
    },
    {
     "name": "stderr",
     "output_type": "stream",
     "text": [
      "19774it [05:25, 60.77it/s]"
     ]
    },
    {
     "name": "stdout",
     "output_type": "stream",
     "text": [
      "92036\n"
     ]
    },
    {
     "name": "stderr",
     "output_type": "stream",
     "text": [
      "21088it [05:30, 149.95it/s]"
     ]
    },
    {
     "name": "stdout",
     "output_type": "stream",
     "text": [
      "92036\n"
     ]
    },
    {
     "name": "stderr",
     "output_type": "stream",
     "text": [
      "21535it [05:34, 133.37it/s]"
     ]
    },
    {
     "name": "stdout",
     "output_type": "stream",
     "text": [
      "92004\n"
     ]
    },
    {
     "name": "stderr",
     "output_type": "stream",
     "text": [
      "22094it [05:39, 121.86it/s]"
     ]
    },
    {
     "name": "stdout",
     "output_type": "stream",
     "text": [
      "92004\n"
     ]
    },
    {
     "name": "stderr",
     "output_type": "stream",
     "text": [
      "22438it [05:45, 101.97it/s]"
     ]
    },
    {
     "name": "stdout",
     "output_type": "stream",
     "text": [
      "92004\n"
     ]
    },
    {
     "name": "stderr",
     "output_type": "stream",
     "text": [
      "22689it [05:50, 83.90it/s] "
     ]
    },
    {
     "name": "stdout",
     "output_type": "stream",
     "text": [
      "92004\n"
     ]
    },
    {
     "name": "stderr",
     "output_type": "stream",
     "text": [
      "22823it [05:55, 64.82it/s]"
     ]
    },
    {
     "name": "stdout",
     "output_type": "stream",
     "text": [
      "91916\n"
     ]
    },
    {
     "name": "stderr",
     "output_type": "stream",
     "text": [
      "23122it [06:01, 62.31it/s]"
     ]
    },
    {
     "name": "stdout",
     "output_type": "stream",
     "text": [
      "91931\n"
     ]
    },
    {
     "name": "stderr",
     "output_type": "stream",
     "text": [
      "23180it [06:05, 49.45it/s]"
     ]
    },
    {
     "name": "stdout",
     "output_type": "stream",
     "text": [
      "91905\n"
     ]
    },
    {
     "name": "stderr",
     "output_type": "stream",
     "text": [
      "23618it [06:09, 64.32it/s]"
     ]
    },
    {
     "name": "stdout",
     "output_type": "stream",
     "text": [
      "92036\n"
     ]
    },
    {
     "name": "stderr",
     "output_type": "stream",
     "text": [
      "23650it [06:13, 48.66it/s]"
     ]
    },
    {
     "name": "stdout",
     "output_type": "stream",
     "text": [
      "92004\n"
     ]
    },
    {
     "name": "stderr",
     "output_type": "stream",
     "text": [
      "24492it [06:18, 85.70it/s]"
     ]
    },
    {
     "name": "stdout",
     "output_type": "stream",
     "text": [
      "92036\n"
     ]
    },
    {
     "name": "stderr",
     "output_type": "stream",
     "text": [
      "24513it [06:23, 63.68it/s]"
     ]
    },
    {
     "name": "stdout",
     "output_type": "stream",
     "text": [
      "91962\n"
     ]
    },
    {
     "name": "stderr",
     "output_type": "stream",
     "text": [
      "24672it [06:27, 56.37it/s]"
     ]
    },
    {
     "name": "stdout",
     "output_type": "stream",
     "text": [
      "91935\n"
     ]
    },
    {
     "name": "stderr",
     "output_type": "stream",
     "text": [
      "25689it [06:32, 102.12it/s]"
     ]
    },
    {
     "name": "stdout",
     "output_type": "stream",
     "text": [
      "92004\n"
     ]
    },
    {
     "name": "stderr",
     "output_type": "stream",
     "text": [
      "26007it [06:37, 88.47it/s] "
     ]
    },
    {
     "name": "stdout",
     "output_type": "stream",
     "text": [
      "91935\n"
     ]
    },
    {
     "name": "stderr",
     "output_type": "stream",
     "text": [
      "26031it [06:43, 62.16it/s]"
     ]
    },
    {
     "name": "stdout",
     "output_type": "stream",
     "text": [
      "91916\n"
     ]
    },
    {
     "name": "stderr",
     "output_type": "stream",
     "text": [
      "26041it [06:48, 43.52it/s]"
     ]
    },
    {
     "name": "stdout",
     "output_type": "stream",
     "text": [
      "91962\n"
     ]
    },
    {
     "name": "stderr",
     "output_type": "stream",
     "text": [
      "26062it [06:52, 33.37it/s]"
     ]
    },
    {
     "name": "stdout",
     "output_type": "stream",
     "text": [
      "91931\n"
     ]
    },
    {
     "name": "stderr",
     "output_type": "stream",
     "text": [
      "26068it [06:56, 24.75it/s]"
     ]
    },
    {
     "name": "stdout",
     "output_type": "stream",
     "text": [
      "91935\n"
     ]
    },
    {
     "name": "stderr",
     "output_type": "stream",
     "text": [
      "26094it [07:01, 18.29it/s]"
     ]
    },
    {
     "name": "stdout",
     "output_type": "stream",
     "text": [
      "92036\n"
     ]
    },
    {
     "name": "stderr",
     "output_type": "stream",
     "text": [
      "26297it [07:06, 26.51it/s]"
     ]
    },
    {
     "name": "stdout",
     "output_type": "stream",
     "text": [
      "92003\n"
     ]
    },
    {
     "name": "stderr",
     "output_type": "stream",
     "text": [
      "26723it [07:10, 47.67it/s]"
     ]
    },
    {
     "name": "stdout",
     "output_type": "stream",
     "text": [
      "91934\n"
     ]
    },
    {
     "name": "stderr",
     "output_type": "stream",
     "text": [
      "26903it [07:14, 46.25it/s]"
     ]
    },
    {
     "name": "stdout",
     "output_type": "stream",
     "text": [
      "92004\n"
     ]
    },
    {
     "name": "stderr",
     "output_type": "stream",
     "text": [
      "27008it [07:19, 37.39it/s]"
     ]
    },
    {
     "name": "stdout",
     "output_type": "stream",
     "text": [
      "91914\n"
     ]
    },
    {
     "name": "stderr",
     "output_type": "stream",
     "text": [
      "27220it [07:26, 34.15it/s]"
     ]
    },
    {
     "name": "stdout",
     "output_type": "stream",
     "text": [
      "91935\n"
     ]
    },
    {
     "name": "stderr",
     "output_type": "stream",
     "text": [
      "28865it [07:32, 149.88it/s]"
     ]
    },
    {
     "name": "stdout",
     "output_type": "stream",
     "text": [
      "92036\n"
     ]
    },
    {
     "name": "stderr",
     "output_type": "stream",
     "text": [
      "29388it [07:36, 141.54it/s]"
     ]
    },
    {
     "name": "stdout",
     "output_type": "stream",
     "text": [
      "91962\n"
     ]
    },
    {
     "name": "stderr",
     "output_type": "stream",
     "text": [
      "31093it [07:40, 67.48it/s] \n"
     ]
    },
    {
     "name": "stdout",
     "output_type": "stream",
     "text": [
      "================== https://www.apartments.com/ saved to csv file.\n"
     ]
    }
   ],
   "source": [
    "m = 'https://www.apartments.com/'\n",
    "phone2 = []\n",
    "scraped_add2 = []\n",
    "add = pd.read_excel('/Users/anqibu/Documents/CCEOutGridAddress.xlsx')\n",
    "ori_add2 = []\n",
    "street_add2 = []\n",
    "district2 = []\n",
    "state2 = []\n",
    "\n",
    "link = 'https://www.apartments.com/san-diego-county-ca/?bb=497_3ulzmNpo5z80md'\n",
    "driver = webdriver.Chrome(ChromeDriverManager().install())\n",
    "driver.implicitly_wait(.5)\n",
    "driver.get(link)\n",
    "driver.implicitly_wait(1)\n",
    "print(f\"================== {m} start to scrape: \")\n",
    "\n",
    "for index,row in tqdm(add.iterrows()):\n",
    "    zipcode = str(row[2])[0:5]\n",
    "    if zipcode not in ori_add and zipcode not in ori_add2:\n",
    "        print(zipcode)\n",
    "        items = scrape2(zipcode)\n",
    "        if len(items[0]) == 0:\n",
    "            continue\n",
    "        phone2 += items[0]\n",
    "        print(items)\n",
    "        scraped_add2 += items[1]\n",
    "        ori_add2 += [zipcode]*len(items[0])\n",
    "        \n",
    "        street_add2 += items[2]\n",
    "        district2 += items[3]\n",
    "        state2 += items[4]\n",
    "    \n",
    "driver.close()\n",
    "\n",
    "print(f\"================== {m} scrape finished.\")"
   ]
  },
  {
   "cell_type": "code",
   "execution_count": 99,
   "id": "82ba2131",
   "metadata": {},
   "outputs": [
    {
     "ename": "ValueError",
     "evalue": "All arrays must be of the same length",
     "output_type": "error",
     "traceback": [
      "\u001b[0;31m---------------------------------------------------------------------------\u001b[0m",
      "\u001b[0;31mValueError\u001b[0m                                Traceback (most recent call last)",
      "\u001b[0;32m/var/folders/96/pgql1xtn6zb7ym6v30njhs9m0000gn/T/ipykernel_12434/3046563678.py\u001b[0m in \u001b[0;36m<module>\u001b[0;34m\u001b[0m\n\u001b[0;32m----> 1\u001b[0;31m \u001b[0mdf\u001b[0m \u001b[0;34m=\u001b[0m \u001b[0mpd\u001b[0m\u001b[0;34m.\u001b[0m\u001b[0mDataFrame\u001b[0m\u001b[0;34m(\u001b[0m\u001b[0;34m{\u001b[0m\u001b[0;34m\"Scraped Address\"\u001b[0m\u001b[0;34m:\u001b[0m \u001b[0mscraped_add\u001b[0m\u001b[0;34m,\u001b[0m \u001b[0;34m\"Street\"\u001b[0m\u001b[0;34m:\u001b[0m \u001b[0mstreet_add\u001b[0m\u001b[0;34m,\u001b[0m \u001b[0;34m\"Phone Number\"\u001b[0m\u001b[0;34m:\u001b[0m \u001b[0mphone\u001b[0m\u001b[0;34m,\u001b[0m \u001b[0;34m\"Zipcode\"\u001b[0m\u001b[0;34m:\u001b[0m \u001b[0mori_add\u001b[0m\u001b[0;34m,\u001b[0m\u001b[0;34m}\u001b[0m\u001b[0;34m)\u001b[0m\u001b[0;34m\u001b[0m\u001b[0;34m\u001b[0m\u001b[0m\n\u001b[0m\u001b[1;32m      2\u001b[0m \u001b[0;34m\u001b[0m\u001b[0m\n\u001b[1;32m      3\u001b[0m \u001b[0moutput_dir\u001b[0m \u001b[0;34m=\u001b[0m \u001b[0mPath\u001b[0m\u001b[0;34m(\u001b[0m\u001b[0;34m'/Users/anqibu/Downloads'\u001b[0m\u001b[0;34m)\u001b[0m\u001b[0;34m\u001b[0m\u001b[0;34m\u001b[0m\u001b[0m\n\u001b[1;32m      4\u001b[0m \u001b[0moutput_dir\u001b[0m\u001b[0;34m.\u001b[0m\u001b[0mmkdir\u001b[0m\u001b[0;34m(\u001b[0m\u001b[0mparents\u001b[0m\u001b[0;34m=\u001b[0m\u001b[0;32mTrue\u001b[0m\u001b[0;34m,\u001b[0m \u001b[0mexist_ok\u001b[0m\u001b[0;34m=\u001b[0m\u001b[0;32mTrue\u001b[0m\u001b[0;34m)\u001b[0m\u001b[0;34m\u001b[0m\u001b[0;34m\u001b[0m\u001b[0m\n\u001b[1;32m      5\u001b[0m \u001b[0moutput_file\u001b[0m \u001b[0;34m=\u001b[0m \u001b[0;34m\"CCEContactInfo.csv\"\u001b[0m\u001b[0;34m\u001b[0m\u001b[0;34m\u001b[0m\u001b[0m\n",
      "\u001b[0;32m/opt/anaconda3/lib/python3.8/site-packages/pandas/core/frame.py\u001b[0m in \u001b[0;36m__init__\u001b[0;34m(self, data, index, columns, dtype, copy)\u001b[0m\n\u001b[1;32m    612\u001b[0m         \u001b[0;32melif\u001b[0m \u001b[0misinstance\u001b[0m\u001b[0;34m(\u001b[0m\u001b[0mdata\u001b[0m\u001b[0;34m,\u001b[0m \u001b[0mdict\u001b[0m\u001b[0;34m)\u001b[0m\u001b[0;34m:\u001b[0m\u001b[0;34m\u001b[0m\u001b[0;34m\u001b[0m\u001b[0m\n\u001b[1;32m    613\u001b[0m             \u001b[0;31m# GH#38939 de facto copy defaults to False only in non-dict cases\u001b[0m\u001b[0;34m\u001b[0m\u001b[0;34m\u001b[0m\u001b[0;34m\u001b[0m\u001b[0m\n\u001b[0;32m--> 614\u001b[0;31m             \u001b[0mmgr\u001b[0m \u001b[0;34m=\u001b[0m \u001b[0mdict_to_mgr\u001b[0m\u001b[0;34m(\u001b[0m\u001b[0mdata\u001b[0m\u001b[0;34m,\u001b[0m \u001b[0mindex\u001b[0m\u001b[0;34m,\u001b[0m \u001b[0mcolumns\u001b[0m\u001b[0;34m,\u001b[0m \u001b[0mdtype\u001b[0m\u001b[0;34m=\u001b[0m\u001b[0mdtype\u001b[0m\u001b[0;34m,\u001b[0m \u001b[0mcopy\u001b[0m\u001b[0;34m=\u001b[0m\u001b[0mcopy\u001b[0m\u001b[0;34m,\u001b[0m \u001b[0mtyp\u001b[0m\u001b[0;34m=\u001b[0m\u001b[0mmanager\u001b[0m\u001b[0;34m)\u001b[0m\u001b[0;34m\u001b[0m\u001b[0;34m\u001b[0m\u001b[0m\n\u001b[0m\u001b[1;32m    615\u001b[0m         \u001b[0;32melif\u001b[0m \u001b[0misinstance\u001b[0m\u001b[0;34m(\u001b[0m\u001b[0mdata\u001b[0m\u001b[0;34m,\u001b[0m \u001b[0mma\u001b[0m\u001b[0;34m.\u001b[0m\u001b[0mMaskedArray\u001b[0m\u001b[0;34m)\u001b[0m\u001b[0;34m:\u001b[0m\u001b[0;34m\u001b[0m\u001b[0;34m\u001b[0m\u001b[0m\n\u001b[1;32m    616\u001b[0m             \u001b[0;32mimport\u001b[0m \u001b[0mnumpy\u001b[0m\u001b[0;34m.\u001b[0m\u001b[0mma\u001b[0m\u001b[0;34m.\u001b[0m\u001b[0mmrecords\u001b[0m \u001b[0;32mas\u001b[0m \u001b[0mmrecords\u001b[0m\u001b[0;34m\u001b[0m\u001b[0;34m\u001b[0m\u001b[0m\n",
      "\u001b[0;32m/opt/anaconda3/lib/python3.8/site-packages/pandas/core/internals/construction.py\u001b[0m in \u001b[0;36mdict_to_mgr\u001b[0;34m(data, index, columns, dtype, typ, copy)\u001b[0m\n\u001b[1;32m    462\u001b[0m         \u001b[0;31m# TODO: can we get rid of the dt64tz special case above?\u001b[0m\u001b[0;34m\u001b[0m\u001b[0;34m\u001b[0m\u001b[0;34m\u001b[0m\u001b[0m\n\u001b[1;32m    463\u001b[0m \u001b[0;34m\u001b[0m\u001b[0m\n\u001b[0;32m--> 464\u001b[0;31m     return arrays_to_mgr(\n\u001b[0m\u001b[1;32m    465\u001b[0m         \u001b[0marrays\u001b[0m\u001b[0;34m,\u001b[0m \u001b[0mdata_names\u001b[0m\u001b[0;34m,\u001b[0m \u001b[0mindex\u001b[0m\u001b[0;34m,\u001b[0m \u001b[0mcolumns\u001b[0m\u001b[0;34m,\u001b[0m \u001b[0mdtype\u001b[0m\u001b[0;34m=\u001b[0m\u001b[0mdtype\u001b[0m\u001b[0;34m,\u001b[0m \u001b[0mtyp\u001b[0m\u001b[0;34m=\u001b[0m\u001b[0mtyp\u001b[0m\u001b[0;34m,\u001b[0m \u001b[0mconsolidate\u001b[0m\u001b[0;34m=\u001b[0m\u001b[0mcopy\u001b[0m\u001b[0;34m\u001b[0m\u001b[0;34m\u001b[0m\u001b[0m\n\u001b[1;32m    466\u001b[0m     )\n",
      "\u001b[0;32m/opt/anaconda3/lib/python3.8/site-packages/pandas/core/internals/construction.py\u001b[0m in \u001b[0;36marrays_to_mgr\u001b[0;34m(arrays, arr_names, index, columns, dtype, verify_integrity, typ, consolidate)\u001b[0m\n\u001b[1;32m    117\u001b[0m         \u001b[0;31m# figure out the index, if necessary\u001b[0m\u001b[0;34m\u001b[0m\u001b[0;34m\u001b[0m\u001b[0;34m\u001b[0m\u001b[0m\n\u001b[1;32m    118\u001b[0m         \u001b[0;32mif\u001b[0m \u001b[0mindex\u001b[0m \u001b[0;32mis\u001b[0m \u001b[0;32mNone\u001b[0m\u001b[0;34m:\u001b[0m\u001b[0;34m\u001b[0m\u001b[0;34m\u001b[0m\u001b[0m\n\u001b[0;32m--> 119\u001b[0;31m             \u001b[0mindex\u001b[0m \u001b[0;34m=\u001b[0m \u001b[0m_extract_index\u001b[0m\u001b[0;34m(\u001b[0m\u001b[0marrays\u001b[0m\u001b[0;34m)\u001b[0m\u001b[0;34m\u001b[0m\u001b[0;34m\u001b[0m\u001b[0m\n\u001b[0m\u001b[1;32m    120\u001b[0m         \u001b[0;32melse\u001b[0m\u001b[0;34m:\u001b[0m\u001b[0;34m\u001b[0m\u001b[0;34m\u001b[0m\u001b[0m\n\u001b[1;32m    121\u001b[0m             \u001b[0mindex\u001b[0m \u001b[0;34m=\u001b[0m \u001b[0mensure_index\u001b[0m\u001b[0;34m(\u001b[0m\u001b[0mindex\u001b[0m\u001b[0;34m)\u001b[0m\u001b[0;34m\u001b[0m\u001b[0;34m\u001b[0m\u001b[0m\n",
      "\u001b[0;32m/opt/anaconda3/lib/python3.8/site-packages/pandas/core/internals/construction.py\u001b[0m in \u001b[0;36m_extract_index\u001b[0;34m(data)\u001b[0m\n\u001b[1;32m    633\u001b[0m             \u001b[0mlengths\u001b[0m \u001b[0;34m=\u001b[0m \u001b[0mlist\u001b[0m\u001b[0;34m(\u001b[0m\u001b[0mset\u001b[0m\u001b[0;34m(\u001b[0m\u001b[0mraw_lengths\u001b[0m\u001b[0;34m)\u001b[0m\u001b[0;34m)\u001b[0m\u001b[0;34m\u001b[0m\u001b[0;34m\u001b[0m\u001b[0m\n\u001b[1;32m    634\u001b[0m             \u001b[0;32mif\u001b[0m \u001b[0mlen\u001b[0m\u001b[0;34m(\u001b[0m\u001b[0mlengths\u001b[0m\u001b[0;34m)\u001b[0m \u001b[0;34m>\u001b[0m \u001b[0;36m1\u001b[0m\u001b[0;34m:\u001b[0m\u001b[0;34m\u001b[0m\u001b[0;34m\u001b[0m\u001b[0m\n\u001b[0;32m--> 635\u001b[0;31m                 \u001b[0;32mraise\u001b[0m \u001b[0mValueError\u001b[0m\u001b[0;34m(\u001b[0m\u001b[0;34m\"All arrays must be of the same length\"\u001b[0m\u001b[0;34m)\u001b[0m\u001b[0;34m\u001b[0m\u001b[0;34m\u001b[0m\u001b[0m\n\u001b[0m\u001b[1;32m    636\u001b[0m \u001b[0;34m\u001b[0m\u001b[0m\n\u001b[1;32m    637\u001b[0m             \u001b[0;32mif\u001b[0m \u001b[0mhave_dicts\u001b[0m\u001b[0;34m:\u001b[0m\u001b[0;34m\u001b[0m\u001b[0;34m\u001b[0m\u001b[0m\n",
      "\u001b[0;31mValueError\u001b[0m: All arrays must be of the same length"
     ]
    }
   ],
   "source": [
    "df = pd.DataFrame({\"Scraped Address\": scraped_add, \"Street\": street_add, \"Phone Number\": phone, \"Zipcode\": ori_add,})\n",
    "\n",
    "output_dir = Path('/Users/anqibu/Downloads')\n",
    "output_dir.mkdir(parents=True, exist_ok=True)\n",
    "output_file = \"CCEContactInfo.csv\"\n",
    "df.to_csv(output_dir / output_file)"
   ]
  },
  {
   "cell_type": "markdown",
   "id": "906ad579",
   "metadata": {},
   "source": [
    "# Webscraping addresses from Google.com:\n",
    "\n"
   ]
  },
  {
   "cell_type": "markdown",
   "id": "e2b18cd3",
   "metadata": {},
   "source": [
    "Test case 1:"
   ]
  },
  {
   "cell_type": "code",
   "execution_count": 162,
   "id": "08ebfc6a",
   "metadata": {
    "scrolled": false
   },
   "outputs": [
    {
     "name": "stderr",
     "output_type": "stream",
     "text": [
      "\n",
      "\n",
      "====== WebDriver manager ======\n",
      "Current google-chrome version is 100.0.4896\n",
      "Get LATEST chromedriver version for 100.0.4896 google-chrome\n",
      "Driver [/Users/anqibu/.wdm/drivers/chromedriver/mac64/100.0.4896.60/chromedriver] found in cache\n"
     ]
    },
    {
     "name": "stdout",
     "output_type": "stream",
     "text": [
      "0 -------------------\n"
     ]
    },
    {
     "ename": "NoSuchElementException",
     "evalue": "Message: no such element: Unable to locate element: {\"method\":\"css selector\",\"selector\":\".yYlJEf Q7PwXb L48Cpd\"}\n  (Session info: chrome=100.0.4896.127)\n",
     "output_type": "error",
     "traceback": [
      "\u001b[0;31m---------------------------------------------------------------------------\u001b[0m",
      "\u001b[0;31mNoSuchElementException\u001b[0m                    Traceback (most recent call last)",
      "\u001b[0;32m/var/folders/96/pgql1xtn6zb7ym6v30njhs9m0000gn/T/ipykernel_2366/17183504.py\u001b[0m in \u001b[0;36m<module>\u001b[0;34m\u001b[0m\n\u001b[1;32m     50\u001b[0m     \u001b[0maprt\u001b[0m \u001b[0;34m=\u001b[0m \u001b[0mli\u001b[0m\u001b[0;34m.\u001b[0m\u001b[0mfind_element_by_class_name\u001b[0m\u001b[0;34m(\u001b[0m\u001b[0;34m'rllt__details'\u001b[0m\u001b[0;34m)\u001b[0m\u001b[0;34m\u001b[0m\u001b[0;34m\u001b[0m\u001b[0m\n\u001b[1;32m     51\u001b[0m     \u001b[0minfo\u001b[0m \u001b[0;34m=\u001b[0m \u001b[0maprt\u001b[0m\u001b[0;34m.\u001b[0m\u001b[0mfind_elements_by_tag_name\u001b[0m\u001b[0;34m(\u001b[0m\u001b[0;34m'div'\u001b[0m\u001b[0;34m)\u001b[0m\u001b[0;34m\u001b[0m\u001b[0;34m\u001b[0m\u001b[0m\n\u001b[0;32m---> 52\u001b[0;31m     \u001b[0mweb\u001b[0m \u001b[0;34m=\u001b[0m \u001b[0mli\u001b[0m\u001b[0;34m.\u001b[0m\u001b[0mfind_element_by_class_name\u001b[0m\u001b[0;34m(\u001b[0m\u001b[0;34m'yYlJEf Q7PwXb L48Cpd'\u001b[0m\u001b[0;34m)\u001b[0m\u001b[0;34m.\u001b[0m\u001b[0mget_attribute\u001b[0m\u001b[0;34m(\u001b[0m\u001b[0;34m'href'\u001b[0m\u001b[0;34m)\u001b[0m\u001b[0;34m\u001b[0m\u001b[0;34m\u001b[0m\u001b[0m\n\u001b[0m\u001b[1;32m     53\u001b[0m     \u001b[0mprint\u001b[0m\u001b[0;34m(\u001b[0m\u001b[0mweb\u001b[0m\u001b[0;34m)\u001b[0m\u001b[0;34m\u001b[0m\u001b[0;34m\u001b[0m\u001b[0m\n\u001b[1;32m     54\u001b[0m     \u001b[0;32mfor\u001b[0m \u001b[0mj\u001b[0m\u001b[0;34m,\u001b[0m\u001b[0mk\u001b[0m \u001b[0;32min\u001b[0m \u001b[0menumerate\u001b[0m\u001b[0;34m(\u001b[0m\u001b[0minfo\u001b[0m\u001b[0;34m)\u001b[0m\u001b[0;34m:\u001b[0m\u001b[0;34m\u001b[0m\u001b[0;34m\u001b[0m\u001b[0m\n",
      "\u001b[0;32m/opt/anaconda3/lib/python3.8/site-packages/selenium/webdriver/remote/webelement.py\u001b[0m in \u001b[0;36mfind_element_by_class_name\u001b[0;34m(self, name)\u001b[0m\n\u001b[1;32m    396\u001b[0m             \u001b[0melement\u001b[0m \u001b[0;34m=\u001b[0m \u001b[0melement\u001b[0m\u001b[0;34m.\u001b[0m\u001b[0mfind_element_by_class_name\u001b[0m\u001b[0;34m(\u001b[0m\u001b[0;34m'foo'\u001b[0m\u001b[0;34m)\u001b[0m\u001b[0;34m\u001b[0m\u001b[0;34m\u001b[0m\u001b[0m\n\u001b[1;32m    397\u001b[0m         \"\"\"\n\u001b[0;32m--> 398\u001b[0;31m         \u001b[0;32mreturn\u001b[0m \u001b[0mself\u001b[0m\u001b[0;34m.\u001b[0m\u001b[0mfind_element\u001b[0m\u001b[0;34m(\u001b[0m\u001b[0mby\u001b[0m\u001b[0;34m=\u001b[0m\u001b[0mBy\u001b[0m\u001b[0;34m.\u001b[0m\u001b[0mCLASS_NAME\u001b[0m\u001b[0;34m,\u001b[0m \u001b[0mvalue\u001b[0m\u001b[0;34m=\u001b[0m\u001b[0mname\u001b[0m\u001b[0;34m)\u001b[0m\u001b[0;34m\u001b[0m\u001b[0;34m\u001b[0m\u001b[0m\n\u001b[0m\u001b[1;32m    399\u001b[0m \u001b[0;34m\u001b[0m\u001b[0m\n\u001b[1;32m    400\u001b[0m     \u001b[0;32mdef\u001b[0m \u001b[0mfind_elements_by_class_name\u001b[0m\u001b[0;34m(\u001b[0m\u001b[0mself\u001b[0m\u001b[0;34m,\u001b[0m \u001b[0mname\u001b[0m\u001b[0;34m)\u001b[0m\u001b[0;34m:\u001b[0m\u001b[0;34m\u001b[0m\u001b[0;34m\u001b[0m\u001b[0m\n",
      "\u001b[0;32m/opt/anaconda3/lib/python3.8/site-packages/selenium/webdriver/remote/webelement.py\u001b[0m in \u001b[0;36mfind_element\u001b[0;34m(self, by, value)\u001b[0m\n\u001b[1;32m    656\u001b[0m                 \u001b[0mvalue\u001b[0m \u001b[0;34m=\u001b[0m \u001b[0;34m'[name=\"%s\"]'\u001b[0m \u001b[0;34m%\u001b[0m \u001b[0mvalue\u001b[0m\u001b[0;34m\u001b[0m\u001b[0;34m\u001b[0m\u001b[0m\n\u001b[1;32m    657\u001b[0m \u001b[0;34m\u001b[0m\u001b[0m\n\u001b[0;32m--> 658\u001b[0;31m         return self._execute(Command.FIND_CHILD_ELEMENT,\n\u001b[0m\u001b[1;32m    659\u001b[0m                              {\"using\": by, \"value\": value})['value']\n\u001b[1;32m    660\u001b[0m \u001b[0;34m\u001b[0m\u001b[0m\n",
      "\u001b[0;32m/opt/anaconda3/lib/python3.8/site-packages/selenium/webdriver/remote/webelement.py\u001b[0m in \u001b[0;36m_execute\u001b[0;34m(self, command, params)\u001b[0m\n\u001b[1;32m    631\u001b[0m             \u001b[0mparams\u001b[0m \u001b[0;34m=\u001b[0m \u001b[0;34m{\u001b[0m\u001b[0;34m}\u001b[0m\u001b[0;34m\u001b[0m\u001b[0;34m\u001b[0m\u001b[0m\n\u001b[1;32m    632\u001b[0m         \u001b[0mparams\u001b[0m\u001b[0;34m[\u001b[0m\u001b[0;34m'id'\u001b[0m\u001b[0;34m]\u001b[0m \u001b[0;34m=\u001b[0m \u001b[0mself\u001b[0m\u001b[0;34m.\u001b[0m\u001b[0m_id\u001b[0m\u001b[0;34m\u001b[0m\u001b[0;34m\u001b[0m\u001b[0m\n\u001b[0;32m--> 633\u001b[0;31m         \u001b[0;32mreturn\u001b[0m \u001b[0mself\u001b[0m\u001b[0;34m.\u001b[0m\u001b[0m_parent\u001b[0m\u001b[0;34m.\u001b[0m\u001b[0mexecute\u001b[0m\u001b[0;34m(\u001b[0m\u001b[0mcommand\u001b[0m\u001b[0;34m,\u001b[0m \u001b[0mparams\u001b[0m\u001b[0;34m)\u001b[0m\u001b[0;34m\u001b[0m\u001b[0;34m\u001b[0m\u001b[0m\n\u001b[0m\u001b[1;32m    634\u001b[0m \u001b[0;34m\u001b[0m\u001b[0m\n\u001b[1;32m    635\u001b[0m     \u001b[0;32mdef\u001b[0m \u001b[0mfind_element\u001b[0m\u001b[0;34m(\u001b[0m\u001b[0mself\u001b[0m\u001b[0;34m,\u001b[0m \u001b[0mby\u001b[0m\u001b[0;34m=\u001b[0m\u001b[0mBy\u001b[0m\u001b[0;34m.\u001b[0m\u001b[0mID\u001b[0m\u001b[0;34m,\u001b[0m \u001b[0mvalue\u001b[0m\u001b[0;34m=\u001b[0m\u001b[0;32mNone\u001b[0m\u001b[0;34m)\u001b[0m\u001b[0;34m:\u001b[0m\u001b[0;34m\u001b[0m\u001b[0;34m\u001b[0m\u001b[0m\n",
      "\u001b[0;32m/opt/anaconda3/lib/python3.8/site-packages/selenium/webdriver/remote/webdriver.py\u001b[0m in \u001b[0;36mexecute\u001b[0;34m(self, driver_command, params)\u001b[0m\n\u001b[1;32m    319\u001b[0m         \u001b[0mresponse\u001b[0m \u001b[0;34m=\u001b[0m \u001b[0mself\u001b[0m\u001b[0;34m.\u001b[0m\u001b[0mcommand_executor\u001b[0m\u001b[0;34m.\u001b[0m\u001b[0mexecute\u001b[0m\u001b[0;34m(\u001b[0m\u001b[0mdriver_command\u001b[0m\u001b[0;34m,\u001b[0m \u001b[0mparams\u001b[0m\u001b[0;34m)\u001b[0m\u001b[0;34m\u001b[0m\u001b[0;34m\u001b[0m\u001b[0m\n\u001b[1;32m    320\u001b[0m         \u001b[0;32mif\u001b[0m \u001b[0mresponse\u001b[0m\u001b[0;34m:\u001b[0m\u001b[0;34m\u001b[0m\u001b[0;34m\u001b[0m\u001b[0m\n\u001b[0;32m--> 321\u001b[0;31m             \u001b[0mself\u001b[0m\u001b[0;34m.\u001b[0m\u001b[0merror_handler\u001b[0m\u001b[0;34m.\u001b[0m\u001b[0mcheck_response\u001b[0m\u001b[0;34m(\u001b[0m\u001b[0mresponse\u001b[0m\u001b[0;34m)\u001b[0m\u001b[0;34m\u001b[0m\u001b[0;34m\u001b[0m\u001b[0m\n\u001b[0m\u001b[1;32m    322\u001b[0m             response['value'] = self._unwrap_value(\n\u001b[1;32m    323\u001b[0m                 response.get('value', None))\n",
      "\u001b[0;32m/opt/anaconda3/lib/python3.8/site-packages/selenium/webdriver/remote/errorhandler.py\u001b[0m in \u001b[0;36mcheck_response\u001b[0;34m(self, response)\u001b[0m\n\u001b[1;32m    240\u001b[0m                 \u001b[0malert_text\u001b[0m \u001b[0;34m=\u001b[0m \u001b[0mvalue\u001b[0m\u001b[0;34m[\u001b[0m\u001b[0;34m'alert'\u001b[0m\u001b[0;34m]\u001b[0m\u001b[0;34m.\u001b[0m\u001b[0mget\u001b[0m\u001b[0;34m(\u001b[0m\u001b[0;34m'text'\u001b[0m\u001b[0;34m)\u001b[0m\u001b[0;34m\u001b[0m\u001b[0;34m\u001b[0m\u001b[0m\n\u001b[1;32m    241\u001b[0m             \u001b[0;32mraise\u001b[0m \u001b[0mexception_class\u001b[0m\u001b[0;34m(\u001b[0m\u001b[0mmessage\u001b[0m\u001b[0;34m,\u001b[0m \u001b[0mscreen\u001b[0m\u001b[0;34m,\u001b[0m \u001b[0mstacktrace\u001b[0m\u001b[0;34m,\u001b[0m \u001b[0malert_text\u001b[0m\u001b[0;34m)\u001b[0m\u001b[0;34m\u001b[0m\u001b[0;34m\u001b[0m\u001b[0m\n\u001b[0;32m--> 242\u001b[0;31m         \u001b[0;32mraise\u001b[0m \u001b[0mexception_class\u001b[0m\u001b[0;34m(\u001b[0m\u001b[0mmessage\u001b[0m\u001b[0;34m,\u001b[0m \u001b[0mscreen\u001b[0m\u001b[0;34m,\u001b[0m \u001b[0mstacktrace\u001b[0m\u001b[0;34m)\u001b[0m\u001b[0;34m\u001b[0m\u001b[0;34m\u001b[0m\u001b[0m\n\u001b[0m\u001b[1;32m    243\u001b[0m \u001b[0;34m\u001b[0m\u001b[0m\n\u001b[1;32m    244\u001b[0m     \u001b[0;32mdef\u001b[0m \u001b[0m_value_or_default\u001b[0m\u001b[0;34m(\u001b[0m\u001b[0mself\u001b[0m\u001b[0;34m,\u001b[0m \u001b[0mobj\u001b[0m\u001b[0;34m,\u001b[0m \u001b[0mkey\u001b[0m\u001b[0;34m,\u001b[0m \u001b[0mdefault\u001b[0m\u001b[0;34m)\u001b[0m\u001b[0;34m:\u001b[0m\u001b[0;34m\u001b[0m\u001b[0;34m\u001b[0m\u001b[0m\n",
      "\u001b[0;31mNoSuchElementException\u001b[0m: Message: no such element: Unable to locate element: {\"method\":\"css selector\",\"selector\":\".yYlJEf Q7PwXb L48Cpd\"}\n  (Session info: chrome=100.0.4896.127)\n"
     ]
    }
   ],
   "source": [
    "link = 'https://www.google.com/search?q=8510+costa+verde+blvd&rlz=1C5CHFA_enUS891US891&oq=8510+co&aqs=chrome.1.69i57j0i512l9.6719j0j4&sourceid=chrome&ie=UTF-8'\n",
    "#options=webdriver.ChromeOptions()\n",
    "#options.add_argument('start-maximized')\n",
    "#chrome_options = webdriver.ChromeOptions()\n",
    "#chrome_options.add_experimental_option('useAutomationExtension', False)\n",
    "\n",
    "driver = webdriver.Chrome(ChromeDriverManager().install())\n",
    "driver.implicitly_wait(.5)\n",
    "driver.get(link)\n",
    "\n",
    "#html = driver.page_source\n",
    "driver.implicitly_wait(1)\n",
    "#soup = BeautifulSoup(html)\n",
    "\n",
    "#i = WebDriverWait(driver, 10).until(EC.element_to_be_clickable((By.XPATH, '//*[@id=\"autocomplete-search-input-website-header\"]')))\n",
    "i = driver.find_element_by_xpath('//*[@id=\"tsf\"]/div[1]/div[1]/div[2]/div/div[3]/div[1]/span[1]')\n",
    "i.click()\n",
    "\n",
    "i2 = driver.find_element_by_xpath('//*[@id=\"tsf\"]/div[1]/div[1]/div[2]/div/div[2]/input')\n",
    "\n",
    "#i2 = i.find_element_by_xpath('/html/body/frc-root/fr-header/header/div[1]/div/fr-auto-complete/div/fr-search-query/div/button')\n",
    "#driver.execute_script(\"document.getElementsByClassName('search-input no-clear-button ng-untouched ng-pristine ng-valid')[0].innerHTML = ''\")\n",
    "#i2.click()\n",
    "#print(\"Element is visible? \" + str(i2.is_displayed()))\n",
    "#print(i2.get_attribute('class'))\n",
    "#if not i2.is_displayed():\n",
    "    #driver.close()\n",
    "\n",
    "#webdriver.ActionChains(driver).move_to_element(i).perform()\n",
    "#i.clear()\n",
    "\n",
    "\n",
    "driver.implicitly_wait(1)\n",
    "i2.send_keys('7546 PARKWAY DR LA MESA 91942 apartments')\n",
    "#i2 = driver.find_element_by_xpath('//*[@id=\"search-icon\"]')\n",
    "#i2.click()\n",
    "#i.find_element_by_class_name('clear_button').click()\n",
    "\n",
    "#inp = i.find_element_by_tag_name('input')\n",
    "#inp.send_keys('92028')\n",
    "i2.send_keys(Keys.RETURN)\n",
    "time.sleep(3)\n",
    "#dic = driver.find_element_by_xpath('//*[@id=\"Odp5De\"]/div/div/div/div[2]/div[1]/div')\n",
    "#lst = dic.find_elements_by_class_name('VkpGBb')\n",
    "\n",
    "dic = driver.find_element_by_xpath('//*[@id=\"Odp5De\"]/div/div/div/div[2]/div[1]/div')\n",
    "lst = driver.find_elements_by_class_name('VkpGBb')\n",
    "for l,li in enumerate(lst):\n",
    "    print(l,'-------------------')\n",
    "    aprt = li.find_element_by_class_name('rllt__details')\n",
    "    info = aprt.find_elements_by_tag_name('div')\n",
    "    web = li.find_element_by_class_name('yYlJEf Q7PwXb L48Cpd').get_attribute('href')\n",
    "    print(web)\n",
    "    for j,k in enumerate(info):\n",
    "        if j == 0:\n",
    "            name = k.find_element_by_tag_name('span').text\n",
    "            print(name)\n",
    "        elif j == 2:\n",
    "            addr = k.text\n",
    "            print(addr)\n",
    "            \n",
    "\n",
    "#driver.find_element_by_xpath('//*[@id=\"resultsColumn\"]').click()\n",
    "\n",
    "\n",
    "driver.close()"
   ]
  },
  {
   "cell_type": "markdown",
   "id": "388f8b31",
   "metadata": {},
   "source": [
    "## Function for scraping google\n",
    "Below is the function to use our list of addresses + 'apartment' to search contact info in google.com.\n",
    "\n",
    "The scrape_Google2() is an updated version of scrape_Google()"
   ]
  },
  {
   "cell_type": "code",
   "execution_count": 215,
   "id": "589788b1",
   "metadata": {},
   "outputs": [],
   "source": [
    "def scrape_Google(k):\n",
    "\n",
    "#html = driver.page_source\n",
    "\n",
    "#soup = BeautifulSoup(html)\n",
    "#time.sleep(.5)\n",
    "    myadd = k.split()[0]\n",
    "    \n",
    "    #address = []\n",
    "    #call = []\n",
    "    #street = []\n",
    "\n",
    "    i = driver.find_element_by_xpath('//*[@id=\"tsf\"]/div[1]/div[1]/div[2]/div/div[3]/div[1]/span[1]')\n",
    "    i.click()#delete previous content\n",
    "    \n",
    "    i2 = driver.find_element_by_xpath('//*[@id=\"tsf\"]/div[1]/div[1]/div[2]/div/div[2]/input')\n",
    "    driver.implicitly_wait(1)\n",
    "    i2.send_keys(k)\n",
    "    i2.send_keys(Keys.RETURN)\n",
    "    time.sleep(3)\n",
    "    try:\n",
    "        \n",
    "        #dic = driver.find_element_by_xpath('//*[@id=\"rhs\"]/div/div')\n",
    "        apt = driver.find_element_by_xpath('//*[@id=\"rso\"]/div[1]/div/div[1]/div[1]/div/a')\n",
    "        print(apt)\n",
    "        info = apt.find_element_by_tag_name('h3')\n",
    "        website = apt.get_attribute('href')\n",
    "        address = info.text\n",
    "        strt = driver.find_element_by_xpath('//*[@id=\"kp-wp-tab-overview\"]/div[1]/div/div/div/div/div/div[4]/div/div/div/span[2]').text\n",
    "        a = strt.split(', ')\n",
    "        if len(a) != 3:\n",
    "            return '','','','','',''\n",
    "        street = a[0]\n",
    "        city = a[1]\n",
    "        state = a[2]\n",
    "        call = driver.find_element_by_xpath('//*[@id=\"kp-wp-tab-overview\"]/div[1]/div/div/div/div/div/div[6]/div/div/div/span[2]/span/a/span/span').text\n",
    "        \n",
    "        return call, website, address, street, city, state        \n",
    "    \n",
    "    except NoSuchElementException:\n",
    "        try:\n",
    "            dic = driver.find_element_by_xpath('//*[@id=\"Odp5De\"]/div/div/div/div[2]/div[1]/div')\n",
    "            lst = dic.find_element_by_class_name('VkpGBb')\n",
    "        except NoSuchElementException:\n",
    "            return '','','','','',''\n",
    "\n",
    "    \n",
    "        aprt = lst.find_element_by_class_name('rllt__details')\n",
    "        info = aprt.find_elements_by_tag_name('div')\n",
    "        if len(info) == 3:\n",
    "            for j,k in enumerate(info):\n",
    "                if j == 0:\n",
    "                    address = k.find_element_by_tag_name('span').text  \n",
    "                elif j == 2:\n",
    "                    addr = k.text\n",
    "                    addrs = addr.split(' · ')\n",
    "                    if len(addrs) == 1:\n",
    "                        addrs.append('')\n",
    "                    street = addrs[0]\n",
    "                    call = addrs[1]\n",
    "                    print(street.lower())\n",
    "                    if str(street.split()[0]) == str(myadd):\n",
    "                        print('yes!!!!!!!!!!')\n",
    "                        return call, '', address, street, '', ''                    \n",
    "    return '','', '', '', '', ''\n",
    "    \n",
    "    "
   ]
  },
  {
   "cell_type": "code",
   "execution_count": 225,
   "id": "ce780861",
   "metadata": {},
   "outputs": [],
   "source": [
    "def scrape_Google2(k):\n",
    "\n",
    "#html = driver.page_source\n",
    "\n",
    "#soup = BeautifulSoup(html)\n",
    "#time.sleep(.5)\n",
    "    myadd = k.split()[0]\n",
    "    \n",
    "    #address = []\n",
    "    #call = []\n",
    "    #street = []\n",
    "\n",
    "    i = driver.find_element_by_xpath('//*[@id=\"tsf\"]/div[1]/div[1]/div[2]/div/div[3]/div[1]/span[1]')\n",
    "    i.click()#delete previous content\n",
    "    \n",
    "    i2 = driver.find_element_by_xpath('//*[@id=\"tsf\"]/div[1]/div[1]/div[2]/div/div[2]/input')\n",
    "    driver.implicitly_wait(1)\n",
    "    i2.send_keys(k)\n",
    "    i2.send_keys(Keys.RETURN)\n",
    "    time.sleep(3)\n",
    "    try:\n",
    "        strt = driver.find_element_by_xpath('//*[@id=\"kp-wp-tab-overview\"]/div[1]/div/div/div/div/div/div[4]/div/div/div/span[2]').text\n",
    "        a = strt.split(', ')\n",
    "        if len(a) != 3:\n",
    "            return '','','','','',''\n",
    "        street = a[0]\n",
    "        city = a[1]\n",
    "        state = a[2]\n",
    "        try:\n",
    "            call = driver.find_element_by_xpath('//*[@id=\"kp-wp-tab-overview\"]/div[1]/div/div/div/div/div/div[6]/div/div/div/span[2]/span/a/span/span').text\n",
    "        except:\n",
    "            call = driver.find_element_by_xpath('//*[@id=\"kp-wp-tab-overview\"]/div[1]/div/div/div/div/div/div[7]/div/div/div/span[2]/span/a/span/span').text\n",
    "        return call, '', '', street, city, state        \n",
    "    \n",
    "    except NoSuchElementException:\n",
    "        return '','','','','',''\n",
    "\n",
    "    "
   ]
  },
  {
   "cell_type": "code",
   "execution_count": 241,
   "id": "54bc5bd9",
   "metadata": {},
   "outputs": [
    {
     "name": "stderr",
     "output_type": "stream",
     "text": [
      "\n",
      "\n",
      "====== WebDriver manager ======\n",
      "Current google-chrome version is 101.0.4951\n",
      "Get LATEST chromedriver version for 101.0.4951 google-chrome\n",
      "Driver [/Users/anqibu/.wdm/drivers/chromedriver/mac64/101.0.4951.41/chromedriver] found in cache\n"
     ]
    },
    {
     "name": "stdout",
     "output_type": "stream",
     "text": [
      "('', '', '', '', '', '')\n"
     ]
    }
   ],
   "source": [
    "link = 'https://www.google.com/search?q=7546+PARKWAY+DR+La+Mesa+apartments&rlz=1C5CHFA_enUS891US891&ei=qdBqYq-QGuirqtsPiLqliAE&ved=0ahUKEwjviLXzpbf3AhXolWoFHQhdCREQ4dUDCA4&uact=5&oq=7546+PARKWAY+DR+La+Mesa+apartments&gs_lcp=Cgdnd3Mtd2l6EAMyAggmOgoIABBHELADEMkDOggIABCSAxCwAzoHCAAQRxCwAzoFCAAQogQ6BAghEApKBQg8EgE1SgQIQRgASgQIRhgAUJONR1ij30dgketHaAVwAXgAgAF_iAGdCZIBBDAuMTCYAQCgAQKgAQHIAQrAAQE&sclient=gws-wiz'\n",
    "driver = webdriver.Chrome(ChromeDriverManager().install())\n",
    "driver.implicitly_wait(.5)\n",
    "driver.get(link)\n",
    "driver.implicitly_wait(1)\n",
    "a = scrape_Google2('254 N MOLLISON AVE EL CAJON 92021 apartments')\n",
    "print(a)\n",
    "driver.close()"
   ]
  },
  {
   "cell_type": "markdown",
   "id": "24b5b734",
   "metadata": {},
   "source": [
    "## Scraping:"
   ]
  },
  {
   "cell_type": "code",
   "execution_count": 112,
   "id": "7d80ea14",
   "metadata": {},
   "outputs": [
    {
     "data": {
      "text/plain": [
       "572"
      ]
     },
     "execution_count": 112,
     "metadata": {},
     "output_type": "execute_result"
    }
   ],
   "source": [
    "\n",
    "phone = []\n",
    "scraped_add = []\n",
    "add = pd.read_excel('/Users/anqibu/Documents/CCEOutGridAddress.xlsx')\n",
    "ori_add = []\n",
    "street_add = []\n",
    "#district = []\n",
    "city = []\n",
    "state = []\n",
    "parcelno = []\n",
    "website = []"
   ]
  },
  {
   "cell_type": "code",
   "execution_count": null,
   "id": "42e409c2",
   "metadata": {},
   "outputs": [],
   "source": [
    "phone = []\n",
    "scraped_add = []\n",
    "street_add = []\n",
    "ori_add2 = []\n",
    "#district = []\n",
    "city = []\n",
    "state = []\n",
    "parcelno = []\n",
    "website = []"
   ]
  },
  {
   "cell_type": "code",
   "execution_count": 248,
   "id": "733cad68",
   "metadata": {},
   "outputs": [
    {
     "name": "stderr",
     "output_type": "stream",
     "text": [
      "\n",
      "\n",
      "====== WebDriver manager ======\n",
      "Current google-chrome version is 101.0.4951\n",
      "Get LATEST chromedriver version for 101.0.4951 google-chrome\n",
      "Driver [/Users/anqibu/.wdm/drivers/chromedriver/mac64/101.0.4951.41/chromedriver] found in cache\n"
     ]
    },
    {
     "name": "stdout",
     "output_type": "stream",
     "text": [
      "================== https://www.google.com/ start to scrape: \n",
      "254 N MOLLISON AVE EL CAJON 92021 apartments\n",
      "('', '', '', '', '', '')\n",
      "116 EVANS ST SAN DIEGO 92102 apartments\n",
      "('(619) 995-2559', '', '', '2604 B St', 'San Diego', 'CA 92102')\n",
      "216 THE CIR VISTA 92084 apartments\n",
      "('', '', '', '', '', '')\n",
      "3514 VAN DYKE AVE SAN DIEGO 92105 apartments\n",
      "('', '', '', '', '', '')\n",
      "5111 TOWLE CT SAN DIEGO 92105 apartments\n",
      "('', '', '', '', '', '')\n",
      "355 PINE AVE CARLSBAD 92008 apartments\n",
      "('(760) 729-2155', '', '', '355 Pine Ave', 'Carlsbad', 'CA 92008')\n",
      "4458 KANSAS ST SAN DIEGO 92116 apartments\n",
      "('', '', '', '', '', '')\n",
      "1513 ROCK SPRINGS RD ESCONDIDO 92026 apartments\n",
      "('', '', '', '', '', '')\n",
      "2222 BEAR VALLEY PKWY ESCONDIDO 92027 apartments\n",
      "('', '', '', '', '', '')\n",
      "4043 45TH ST SAN DIEGO 92105 apartments\n",
      "('', '', '', '', '', '')\n",
      "3240 BONITA RD CHULA VISTA 91910 apartments\n",
      "('(619) 585-1455', '', '', '3240 Bonita Rd', 'Chula Vista', 'CA 91910')\n",
      "1845 N BROADWAY ESCONDIDO 92026 apartments\n",
      "('(760) 432-6699', '', '', '1845 N Broadway', 'Escondido', 'CA 92026')\n",
      "4674 34TH ST SAN DIEGO 92116 apartments\n",
      "('', '', '', '', '', '')\n",
      "4081 MISSISSIPPI ST SAN DIEGO 92104 apartments\n",
      "('', '', '', '', '', '')\n",
      "430 N MAIN AVE FALLBROOK 92028 apartments\n",
      "('', '', '', '', '', '')\n",
      "4025 ALABAMA ST SAN DIEGO 92104 apartments\n",
      "('', '', '', '', '', '')\n",
      "4133 37TH ST SAN DIEGO 92105 apartments\n",
      "('', '', '', '', '', '')\n",
      "118 S PACIFIC ST OCEANSIDE 92054 apartments\n",
      "('', '', '', '', '', '')\n",
      "4463 IDAHO ST SAN DIEGO 92116 apartments\n",
      "('', '', '', '', '', '')\n",
      "5330 ORANGE AVE SAN DIEGO 92115 apartments\n",
      "('(619) 229-9171', '', '', '5330 Orange Ave', 'San Diego', 'CA 92115')\n",
      "1907 L AVE NATIONAL CITY 91950 apartments\n",
      "('', '', '', '', '', '')\n",
      "2202 GRAND AVE SAN DIEGO 92109 apartments\n",
      "('', '', '', '', '', '')\n",
      "4522 PARK BLVD SAN DIEGO 92116 apartments\n",
      "('', '', '', '', '', '')\n",
      "5421 LAKE MURRAY BLVD APT 12 LA MESA 91942 apartments\n",
      "('', '', '', '', '', '')\n",
      "920 LESLIE RD EL CAJON 92020 apartments\n",
      "('(619) 593-0613', '', '', '920 Leslie Rd # 4', 'El Cajon', 'CA 92020')\n",
      "3004 HAWTHORN ST SAN DIEGO 92104 apartments\n",
      "('', '', '', '', '', '')\n",
      "5337 MEADE AVE SAN DIEGO 92115 apartments\n",
      "('', '', '', '', '', '')\n",
      "4383 MISSISSIPPI ST SAN DIEGO 92104 apartments\n",
      "('', '', '', '', '', '')\n",
      "4862 CASTLE AVE SAN DIEGO 92105 apartments\n",
      "('', '', '', '', '', '')\n",
      "1934 THOMAS AVE SAN DIEGO 92109 apartments\n",
      "('', '', '', '', '', '')\n",
      "0 MAR REEF CV SAN DIEGO 92154 apartments\n",
      "('(619) 661-8108', '', '', '5540 Ocean Gate Ln', 'San Diego', 'CA 92154')\n",
      "4567 DAKOTA DR SAN DIEGO 92117 apartments\n",
      "('', '', '', '', '', '')\n",
      "3070 LANDIS ST SAN DIEGO 92104 apartments\n",
      "('', '', '', '', '', '')\n",
      "3620 KEATING ST SAN DIEGO 92110 apartments\n",
      "('', '', '', '', '', '')\n",
      "1549 OLIVER AVE SAN DIEGO 92109 apartments\n",
      "('', '', '', '', '', '')\n",
      "2225 COMMERCIAL ST SAN DIEGO 92113 apartments\n",
      "('', '', '', '', '', '')\n",
      "3975 MISSISSIPPI ST SAN DIEGO 92104 apartments\n",
      "('', '', '', '', '', '')\n",
      "2927 BROADWAY SAN DIEGO 92102 apartments\n",
      "('', '', '', '', '', '')\n",
      "799 MCCLURE ST EL CAJON 92021 apartments\n",
      "('', '', '', '', '', '')\n",
      "4948 MUIR AVE SAN DIEGO 92107 apartments\n",
      "('', '', '', '', '', '')\n",
      "2030 CYPRESS AVE SAN DIEGO 92104 apartments\n",
      "('', '', '', '', '', '')\n",
      "11505 WINDCREST LN SAN DIEGO 92128 apartments\n",
      "('(858) 205-6295', '', '', '11505 Windcrest Ln', 'San Diego', 'CA 92128')\n",
      "807 EL CARMEL PL SAN DIEGO 92109 apartments\n",
      "('', '', '', '', '', '')\n",
      "401 VILLAGE LN VISTA 92083 apartments\n",
      "('', '', '', '', '', '')\n",
      "0 BAYVIEW HEIGHTS DR SAN DIEGO 92105 apartments\n",
      "('', '', '', '', '', '')\n",
      "4850 ORCHARD AVE SAN DIEGO 92107 apartments\n",
      "('', '', '', '', '', '')\n",
      "4824 CALLE NEIL SAN DIEGO 92117 apartments\n",
      "('', '', '', '', '', '')\n",
      "1726 ELM AVE SAN DIEGO 92154 apartments\n",
      "('(619) 314-7133', '', '', '300 14th St', 'San Diego', 'CA 92101')\n",
      "505 N GRAPE ST ESCONDIDO 92025 apartments\n",
      "('', '', '', '', '', '')\n",
      "775 CALLA AVE IMPERIAL BEACH 91932 apartments\n",
      "('', '', '', '', '', '')\n",
      "5757 UNIVERSITY AVE SAN DIEGO 92115 apartments\n",
      "('(619) 265-1659', '', '', '5757 University Ave', 'San Diego', 'CA 92115')\n",
      "3522 6TH AVE SAN DIEGO 92103 apartments\n",
      "('', '', '', '', '', '')\n",
      "4041 IOWA ST SAN DIEGO 92104 apartments\n",
      "('', '', '', '', '', '')\n",
      "209 W 3RD AVE ESCONDIDO 92025 apartments\n",
      "('', '', '', '', '', '')\n",
      "927 44TH ST SAN DIEGO 92102 apartments\n",
      "('', '', '', '', '', '')\n",
      "4757 JESSIE AVE LA MESA 91942 apartments\n",
      "('', '', '', '', '', '')\n",
      "924 N AVE NATIONAL CITY 91950 apartments\n",
      "('', '', '', '', '', '')\n",
      "1147 E LEXINGTON AVE EL CAJON 92019 apartments\n",
      "('', '', '', '', '', '')\n",
      "4675 LOUISIANA ST SAN DIEGO 92116 apartments\n",
      "('', '', '', '', '', '')\n",
      "509 D ST CHULA VISTA 91910 apartments\n",
      "('', '', '', '', '', '')\n",
      "3550 4TH AVE SAN DIEGO 92103 apartments\n",
      "('', '', '', '', '', '')\n",
      "1369 E MADISON AVE EL CAJON 92021 apartments\n",
      "('', '', '', '', '', '')\n",
      "490 FLOWER ST CHULA VISTA 91910 apartments\n",
      "('', '', '', '', '', '')\n",
      "328 S WEITZEL ST OCEANSIDE 92054 apartments\n",
      "('', '', '', '', '', '')\n",
      "4578 UTAH ST SAN DIEGO 92116 apartments\n",
      "('', '', '', '', '', '')\n",
      "210 QUINTARD ST CHULA VISTA 91911 apartments\n",
      "('(619) 422-5062', '', '', '210 Quintard St', 'Chula Vista', 'CA 91911')\n",
      "1917 F AVE NATIONAL CITY 91950 apartments\n",
      "('(619) 474-5055', '', '', '1917 F Ave.', 'National City', 'CA 91950')\n",
      "4269 HIGHLAND AVE SAN DIEGO 92115 apartments\n",
      "('', '', '', '', '', '')\n",
      "2052-2098 VIA LAS CUMBRES nan 92111 apartments\n",
      "('', '', '', '', '', '')\n",
      "567 CANYON DR OCEANSIDE 92054 apartments\n",
      "('(760) 389-3814', '', '', '567 Canyon Dr', 'Oceanside', 'CA 92054')\n",
      "4329 ALABAMA ST SAN DIEGO 92104 apartments\n",
      "('', '', '', '', '', '')\n",
      "5429 LAKE MURRAY BLVD UNIT 4 LA MESA 91942 apartments\n",
      "('', '', '', '', '', '')\n",
      "308 S THE STRAND OCEANSIDE 92054 apartments\n",
      "('', '', '', '', '', '')\n",
      "3891 SUPERIOR ST SAN DIEGO 92113 apartments\n",
      "('', '', '', '', '', '')\n",
      "630 W WASHINGTON ST SAN DIEGO 92103 apartments\n",
      "('', '', '', '', '', '')\n",
      "315 S 28TH ST SAN DIEGO 92113 apartments\n",
      "('', '', '', '', '', '')\n",
      "4809 70TH ST SAN DIEGO 92115 apartments\n",
      "('', '', '', '', '', '')\n",
      "2408 2ND AVE SAN DIEGO 92101 apartments\n",
      "('(619) 356-8886', '', '', '2408 2nd Ave', 'San Diego', 'CA 92101')\n",
      "4217 3RD AVE SAN DIEGO 92103 apartments\n",
      "('', '', '', '', '', '')\n",
      "98 E 3RD ST NATIONAL CITY 91950 apartments\n",
      "('', '', '', '', '', '')\n",
      "4126 36TH ST SAN DIEGO 92104 apartments\n",
      "('', '', '', '', '', '')\n",
      "3860 HELIX ST SPRING VALLEY 91977 apartments\n",
      "('(619) 286-7600', '', '', '3626 S Barcelona St', 'Spring Valley', 'CA 91977')\n",
      "8561 LAKE MURRAY BLVD SAN DIEGO 92119 apartments\n",
      "('', '', '', '', '', '')\n",
      "3707 41ST ST SAN DIEGO 92105 apartments\n",
      "('', '', '', '', '', '')\n",
      "180 LAS FLORES DR SAN MARCOS 92069 apartments\n",
      "('', '', '', '', '', '')\n",
      "4837 KANSAS ST SAN DIEGO 92116 apartments\n",
      "('', '', '', '', '', '')\n",
      "2466 F ST SAN DIEGO 92102 apartments\n",
      "('', '', '', '', '', '')\n",
      "4623 PALM AVE LA MESA 91941 apartments\n",
      "('', '', '', '', '', '')\n",
      "1119 OLD STAGE RD FALLBROOK 92028 apartments\n",
      "('', '', '', '', '', '')\n",
      "601 CARLA WAY LA JOLLA 92037 apartments\n",
      "('', '', '', '', '', '')\n",
      "4265 SCHOOLRIDGE LN LA MESA 91941 apartments\n",
      "('', '', '', '', '', '')\n",
      "4142 44TH ST SAN DIEGO 92105 apartments\n",
      "('', '', '', '', '', '')\n",
      "412 MONTGOMERY ST CHULA VISTA 91911 apartments\n",
      "('', '', '', '', '', '')\n",
      "1241 ESSEX ST SAN DIEGO 92103 apartments\n",
      "('', '', '', '', '', '')\n",
      "1727 ORO VISTA RD SAN DIEGO 92154 apartments\n",
      "('', '', '', '', '', '')\n",
      "1749 REED AVE SAN DIEGO 92109 apartments\n",
      "('', '', '', '', '', '')\n",
      "4018 HAMILTON ST SAN DIEGO 92104 apartments\n",
      "('', '', '', '', '', '')\n",
      "13524 HILLEARY PL POWAY 92064 apartments\n",
      "('(858) 748-3160', '', '', '13524 Hilleary Pl', 'Poway', 'CA 92064')\n",
      "8253 GRAVES AVE EL CAJON 92021 apartments\n",
      "('', '', '', '', '', '')\n",
      "3946 LAMONT ST SAN DIEGO 92109 apartments\n",
      "('', '', '', '', '', '')\n",
      "350 3RD AVE CHULA VISTA 91910 apartments\n",
      "('', '', '', '', '', '')\n",
      "2464 HIBISCUS AVE VISTA 92081 apartments\n",
      "('', '', '', '', '', '')\n",
      "4170 VAN DYKE AVE SAN DIEGO 92105 apartments\n",
      "('', '', '', '', '', '')\n",
      "4021 MISSISSIPPI ST SAN DIEGO 92104 apartments\n",
      "('', '', '', '', '', '')\n",
      "2630 ISLAND AVE SAN DIEGO 92102 apartments\n",
      "('', '', '', '', '', '')\n",
      "264 G ST CHULA VISTA 91910 apartments\n",
      "('', '', '', '', '', '')\n",
      "252 22ND ST SAN DIEGO 92102 apartments\n",
      "('', '', '', '', '', '')\n",
      "3866 SEQUOIA ST SAN DIEGO 92109 apartments\n",
      "('', '', '', '', '', '')\n",
      "173 PALA VISTA DR VISTA 92083 apartments\n",
      "('', '', '', '', '', '')\n",
      "2005 AVENIDA DEL MEXICO SAN DIEGO 92154 apartments\n",
      "('', '', '', '', '', '')\n",
      "4440 MENLO AVE SAN DIEGO 92115 apartments\n",
      "('', '', '', '', '', '')\n",
      "4416 KANSAS ST SAN DIEGO 92116 apartments\n",
      "('', '', '', '', '', '')\n",
      "401 W CALIFORNIA AVE VISTA 92083 apartments\n",
      "('(760) 643-9442', '', '', '636 W California Ave', 'Vista', 'CA 92083')\n",
      "104 PENNSYLVANIA AVE SAN DIEGO 92103 apartments\n",
      "('', '', '', '', '', '')\n",
      "3145 CARLSBAD BLVD CARLSBAD 92008 apartments\n",
      "('', '', '', '', '', '')\n",
      "940 SEA CLIFF DR CARLSBAD 92011 apartments\n",
      "('', '', '', '', '', '')\n",
      "7621 EADS AVE LA JOLLA 92037 apartments\n",
      "('(858) 459-8254', '', '', '7621 Eads Ave', 'La Jolla', 'CA 92037')\n",
      "4205 NOYES ST SAN DIEGO 92109 apartments\n",
      "('(858) 483-5840', '', '', '4205 Noyes St', 'San Diego', 'CA 92109')\n",
      "1663 DIAMOND ST SAN DIEGO 92109 apartments\n",
      "('', '', '', '', '', '')\n",
      "2874 B ST SAN DIEGO 92102 apartments\n",
      "('', '', '', '', '', '')\n",
      "4110 CHAMOUNE AVE SAN DIEGO 92105 apartments\n",
      "('', '', '', '', '', '')\n",
      "528 DE LUZ RD FALLBROOK 92028 apartments\n",
      "('', '', '', '', '', '')\n",
      "2069 MORENA BLVD SAN DIEGO 92110 apartments\n",
      "('', '', '', '', '', '')\n",
      "1361 GRAND AVE SAN DIEGO 92109 apartments\n",
      "('', '', '', '', '', '')\n",
      "1150 HOLLISTER ST SAN DIEGO 92154 apartments\n",
      "('', '', '', '', '', '')\n",
      "1440 THOMAS AVE SAN DIEGO 92109 apartments\n",
      "('', '', '', '', '', '')\n",
      "4817 ORCHARD AVE SAN DIEGO 92107 apartments\n",
      "('', '', '', '', '', '')\n",
      "501 E PARK AVE EL CAJON 92020 apartments\n",
      "('', '', '', '', '', '')\n",
      "506 N FIG ST ESCONDIDO 92025 apartments\n",
      "('', '', '', '', '', '')\n",
      "4109 PARK BLVD SAN DIEGO 92103 apartments\n",
      "('', '', '', '', '', '')\n",
      "5821 LAURETTA ST SAN DIEGO 92110 apartments\n",
      "('', '', '', '', '', '')\n",
      "4422 42ND ST SAN DIEGO 92116 apartments\n",
      "('(619) 546-4201', '', '', '4422 Euclid Ave', 'San Diego', 'CA 92115')\n",
      "2250 GARNET AVE SAN DIEGO 92109 apartments\n",
      "('', '', '', '', '', '')\n",
      "628 TORRANCE ST SAN DIEGO 92103 apartments\n",
      "('', '', '', '', '', '')\n",
      "3650 VILLA TER SAN DIEGO 92104 apartments\n",
      "('', '', '', '', '', '')\n",
      "3167 LANDIS ST SAN DIEGO 92104 apartments\n",
      "('', '', '', '', '', '')\n",
      "310 SMILAX RD SAN MARCOS 92069 apartments\n",
      "('', '', '', '', '', '')\n",
      "119 AVOCADO ST ENCINITAS 92024 apartments\n",
      "('', '', '', '', '', '')\n",
      "9718 CHANNEL RD LAKESIDE 92040 apartments\n",
      "('(619) 443-7006', '', '', '9718 Channel Rd # 43', 'Lakeside', 'CA 92040')\n",
      "4774 MANSFIELD ST SAN DIEGO 92116 apartments\n",
      "('', '', '', '', '', '')\n",
      "1304 ROXANNE DR EL CAJON 92021 apartments\n",
      "('', '', '', '', '', '')\n",
      "746 S MOLLISON AVE EL CAJON 92020 apartments\n",
      "('', '', '', '', '', '')\n",
      "1621 OLIVER AVE SAN DIEGO 92109 apartments\n",
      "('', '', '', '', '', '')\n",
      "4138 46TH ST SAN DIEGO 92105 apartments\n",
      "('', '', '', '', '', '')\n",
      "3610 VAN DYKE AVE SAN DIEGO 92105 apartments\n",
      "('', '', '', '', '', '')\n",
      "7791 LINDA VISTA RD SAN DIEGO 92111 apartments\n",
      "('', '', '', '', '', '')\n",
      "4575 WINONA AVE SAN DIEGO 92115 apartments\n",
      "('', '', '', '', '', '')\n",
      "124 GARRETT AVE CHULA VISTA 91910 apartments\n",
      "('', '', '', '', '', '')\n",
      "1790 DAYTON DR LEMON GROVE 91945 apartments\n",
      "('(619) 697-3285', '', '', '1790 Dayton Dr', 'Lemon Grove', 'CA 91945')\n",
      "8720 ARIVA CT SAN DIEGO 92123 apartments\n",
      "('', '', '', '', '', '')\n",
      "5077 COLLEGE AVE SAN DIEGO 92115 apartments\n",
      "('', '', '', '', '', '')\n",
      "3622 VAN DYKE AVE SAN DIEGO 92105 apartments\n",
      "('', '', '', '', '', '')\n",
      "4147 IDAHO ST SAN DIEGO 92104 apartments\n",
      "('', '', '', '', '', '')\n",
      "3863 INGRAHAM ST SAN DIEGO 92109 apartments\n",
      "('', '', '', '', '', '')\n",
      "2067 HARRISON AVE SAN DIEGO 92113 apartments\n",
      "('', '', '', '', '', '')\n",
      "12330 9TH ST POWAY 92064 apartments\n",
      "('(858) 486-4834', '', '', '12330 9th St', 'Poway', 'CA 92064')\n",
      "3137 CLAIREMONT DR SAN DIEGO 92117 apartments\n",
      "('', '', '', '', '', '')\n",
      "5423 LAKE MURRAY BLVD APT 7 LA MESA 91942 apartments\n",
      "('', '', '', '', '', '')\n",
      "3945 CENTRE ST SAN DIEGO 92103 apartments\n",
      "('', '', '', '', '', '')\n",
      "4133 MARYLAND ST SAN DIEGO 92103 apartments\n",
      "('', '', '', '', '', '')\n",
      "2284 DUNLOP ST SAN DIEGO 92111 apartments\n",
      "('', '', '', '', '', '')\n",
      "3719 MARLBOROUGH AVE SAN DIEGO 92105 apartments\n",
      "('', '', '', '', '', '')\n",
      "1905 PACIFIC HWY SAN DIEGO 92101 apartments\n",
      "('', '', '', '', '', '')\n",
      "4658 E MOUNTAIN VIEW DR SAN DIEGO 92116 apartments\n",
      "('', '', '', '', '', '')\n",
      "1443 E 18TH ST NATIONAL CITY 91950 apartments\n",
      "('', '', '', '', '', '')\n",
      "2144 30TH ST SAN DIEGO 92104 apartments\n",
      "('', '', '', '', '', '')\n",
      "7065 FULTON ST SAN DIEGO 92111 apartments\n",
      "('', '', '', '', '', '')\n",
      "2700 E 8TH ST NATIONAL CITY 91950 apartments\n",
      "('(619) 267-8116', '', '', '2700 E 8th St', 'National City', 'CA 91950')\n",
      "7490 COLLINS AVE LA MESA 91942 apartments\n",
      "('', '', '', '', '', '')\n",
      "1527 FELSPAR ST SAN DIEGO 92109 apartments\n",
      "('', '', '', '', '', '')\n",
      "5025 LONG BRANCH AVE SAN DIEGO 92107 apartments\n",
      "('', '', '', '', '', '')\n",
      "1454 ORO VISTA RD SAN DIEGO 92154 apartments\n",
      "('(619) 575-3100', '', '', '1504 Oro Vista Rd', 'San Diego', 'CA 92154')\n",
      "4019 46TH ST SAN DIEGO 92105 apartments\n",
      "('', '', '', '', '', '')\n",
      "1925 DOVE LN CARLSBAD 92009 apartments\n",
      "('', '', '', '', '', '')\n",
      "4874 NAPLES ST SAN DIEGO 92110 apartments\n",
      "('', '', '', '', '', '')\n",
      "4441 ILLINOIS ST SAN DIEGO 92116 apartments\n",
      "('', '', '', '', '', '')\n",
      "4048 MENLO AVE SAN DIEGO 92105 apartments\n",
      "('', '', '', '', '', '')\n",
      "6772 SOLITA AVE SAN DIEGO 92115 apartments\n",
      "('', '', '', '', '', '')\n",
      "1221 ROBINSON AVE SAN DIEGO 92103 apartments\n",
      "('', '', '', '', '', '')\n",
      "4476 39TH ST SAN DIEGO 92116 apartments\n",
      "('', '', '', '', '', '')\n",
      "4717 UTAH ST SAN DIEGO 92116 apartments\n",
      "('', '', '', '', '', '')\n",
      "4214 44TH ST SAN DIEGO 92115 apartments\n",
      "('', '', '', '', '', '')\n",
      "205 W 11TH AVE ESCONDIDO 92025 apartments\n",
      "('', '', '', '', '', '')\n",
      "908 TAIT ST OCEANSIDE 92054 apartments\n",
      "('', '', '', '', '', '')\n",
      "8591 MELLMANOR DR LA MESA 91942 apartments\n",
      "('', '', '', '', '', '')\n",
      "2828 C ST SAN DIEGO 92102 apartments\n",
      "('', '', '', '', '', '')\n",
      "365 N EMERALD DR VISTA 92083 apartments\n",
      "('', '', '', '', '', '')\n",
      "4855 ARIVA WAY SAN DIEGO 92123 apartments\n",
      "('(858) 496-0400', '', '', '4955 Ariva Way', 'San Diego', 'CA 92123')\n",
      "3685 7TH AVE SAN DIEGO 92103 apartments\n",
      "('', '', '', '', '', '')\n",
      "4664 WILSON AVE SAN DIEGO 92116 apartments\n",
      "('(858) 967-7330', '', '', '4740 Wilson Ave', 'San Diego', 'CA 92116')\n",
      "4355 ROSEBUD LN LA MESA 91941 apartments\n",
      "('', '', '', '', '', '')\n",
      "5439 LAKE MURRAY BLVD UNIT 3 LA MESA 91942 apartments\n",
      "('', '', '', '', '', '')\n",
      "900 PHILLIPS ST VISTA 92083 apartments\n",
      "('(760) 758-0407', '', '', '900 Phillips St #1', 'Vista', 'CA 92083')\n",
      "4601 63RD ST SAN DIEGO 92115 apartments\n",
      "('', '', '', '', '', '')\n",
      "4030 CHAMOUNE AVE SAN DIEGO 92105 apartments\n",
      "('', '', '', '', '', '')\n",
      "10108 CALLE MARINERO SPRING VALLEY 91977 apartments\n",
      "('(619) 670-0456', '', '', '10108 Calle Marinero', 'Spring Valley', 'CA 91977')\n",
      "504 THORN ST SAN DIEGO 92103 apartments\n",
      "('', '', '', '', '', '')\n",
      "3021 J ST SAN DIEGO 92102 apartments\n",
      "('', '', '', '', '', '')\n",
      "5540 OCEAN GATE LN SAN DIEGO 92154 apartments\n",
      "('(619) 661-8108', '', '', '5540 Ocean Gate Ln', 'San Diego', 'CA 92154')\n",
      "226 W HAWTHORNE ST FALLBROOK 92028 apartments\n",
      "('', '', '', '', '', '')\n",
      "4338 MISSISSIPPI ST SAN DIEGO 92104 apartments\n",
      "('', '', '', '', '', '')\n",
      "3877 46TH ST SAN DIEGO 92105 apartments\n",
      "('', '', '', '', '', '')\n",
      "390 G ST CHULA VISTA 91910 apartments\n",
      "('', '', '', '', '', '')\n",
      "130 E 2ND ST NATIONAL CITY 91950 apartments\n",
      "('', '', '', '', '', '')\n",
      "3973 TEXAS ST SAN DIEGO 92104 apartments\n",
      "('', '', '', '', '', '')\n",
      "4160 HAMILTON ST SAN DIEGO 92104 apartments\n",
      "('', '', '', '', '', '')\n",
      "4183 ALABAMA ST SAN DIEGO 92104 apartments\n",
      "('', '', '', '', '', '')\n",
      "301 W VERMONT AVE ESCONDIDO 92025 apartments\n",
      "('(760) 480-8511', '', '', '301 W Vermont Ave', 'Escondido', 'CA 92025')\n",
      "3933 NATIONAL AVE SAN DIEGO 92113 apartments\n",
      "('', '', '', '', '', '')\n",
      "4773 MISSION BLVD SAN DIEGO 92109 apartments\n",
      "('', '', '', '', '', '')\n",
      "410 GRANT ST OCEANSIDE 92054 apartments\n",
      "('(760) 359-8005', '', '', '415 Grant St Suite 900', 'Oceanside', 'CA 92054')\n",
      "4243 43RD ST SAN DIEGO 92105 apartments\n",
      "('', '', '', '', '', '')\n",
      "2210 UNION ST SAN DIEGO 92101 apartments\n",
      "('', '', '', '', '', '')\n",
      "802 LIDO CT SAN DIEGO 92109 apartments\n",
      "('', '', '', '', '', '')\n",
      "406 N JUNIPER ST ESCONDIDO 92025 apartments\n",
      "('', '', '', '', '', '')\n",
      "3411 WASHINGTON ST LEMON GROVE 91945 apartments\n",
      "('', '', '', '', '', '')\n",
      "4039 34TH ST SAN DIEGO 92104 apartments\n",
      "('', '', '', '', '', '')\n",
      "4359 ALABAMA ST SAN DIEGO 92104 apartments\n",
      "('', '', '', '', '', '')\n",
      "4564 MISSISSIPPI ST SAN DIEGO 92116 apartments\n",
      "('', '', '', '', '', '')\n",
      "5435 LAKE MURRAY BLVD UNIT 6 LA MESA 91942 apartments\n",
      "('', '', '', '', '', '')\n",
      "3611 ALTADENA AVE SAN DIEGO 92105 apartments\n",
      "('', '', '', '', '', '')\n",
      "4181 OHIO ST SAN DIEGO 92104 apartments\n",
      "('', '', '', '', '', '')\n",
      "9065 SYDNEY CT SAN DIEGO 92122 apartments\n",
      "('', '', '', '', '', '')\n",
      "5225 FIORE TER SAN DIEGO 92122 apartments\n",
      "('(855) 304-3428', '', '', '5280 Fiore Terrace', 'San Diego', 'CA 92122')\n",
      "897 VISTA GRANDE RD EL CAJON 92019 apartments\n",
      "('', '', '', '', '', '')\n",
      "4270 FELTON ST SAN DIEGO 92104 apartments\n",
      "('', '', '', '', '', '')\n",
      "255 WOODLAWN AVE CHULA VISTA 91910 apartments\n",
      "('(619) 691-7733', '', '', '245 Woodlawn Ave', 'Chula Vista', 'CA 91910')\n",
      "3345 HERMAN AVE SAN DIEGO 92104 apartments\n",
      "('', '', '', '', '', '')\n",
      "4181 37TH ST SAN DIEGO 92105 apartments\n",
      "('', '', '', '', '', '')\n",
      "2053 CHATSWORTH BLVD SAN DIEGO 92107 apartments\n",
      "('', '', '', '', '', '')\n",
      "3874 RIVIERA DR SAN DIEGO 92109 apartments\n",
      "('', '', '', '', '', '')\n",
      "110 7TH ST RAMONA 92065 apartments\n",
      "('(760) 671-3392', '', '', '110 7th St E6', 'Ramona', 'CA 92065')\n",
      "10445 MAST BLVD SANTEE 92071 apartments\n",
      "('(855) 332-0545', '', '', '10445 Mast Blvd', 'Santee', 'CA 92071')\n",
      "4565 PARK BLVD SAN DIEGO 92116 apartments\n",
      "('', '', '', '', '', '')\n",
      "8935 VALENCIA ST SPRING VALLEY 91977 apartments\n",
      "('', '', '', '', '', '')\n",
      "3651 ARIZONA ST SAN DIEGO 92104 apartments\n",
      "('', '', '', '', '', '')\n",
      "3843 NATIONAL AVE SAN DIEGO 92113 apartments\n",
      "('', '', '', '', '', '')\n",
      "4740 WILSON AVE SAN DIEGO 92116 apartments\n",
      "('(858) 967-7330', '', '', '4740 Wilson Ave', 'San Diego', 'CA 92116')\n",
      "4022 CHAMOUNE AVE SAN DIEGO 92105 apartments\n",
      "('', '', '', '', '', '')\n",
      "2220 PALERMO DR SAN DIEGO 92106 apartments\n",
      "('', '', '', '', '', '')\n",
      "1063 OLD STAGE RD FALLBROOK 92028 apartments\n",
      "('', '', '', '', '', '')\n",
      "7821 LINDA VISTA RD SAN DIEGO 92111 apartments\n",
      "('', '', '', '', '', '')\n",
      "4520 N RIVER RD OCEANSIDE 92057 apartments\n",
      "('(760) 439-5612', '', '', '4520 N River Rd', 'Oceanside', 'CA 92057')\n",
      "3709 T ST SAN DIEGO 92113 apartments\n",
      "('', '', '', '', '', '')\n",
      "2233 ULRIC ST SAN DIEGO 92111 apartments\n",
      "('', '', '', '', '', '')\n",
      "5008 LONG BRANCH AVE SAN DIEGO 92107 apartments\n",
      "('', '', '', '', '', '')\n",
      "9735 CACTUS ST LAKESIDE 92040 apartments\n",
      "('(619) 443-6702', '', '', '12002 Wintercrest Dr', 'Lakeside', 'CA 92040')\n",
      "4109 FRONT ST SAN DIEGO 92103 apartments\n",
      "('', '', '', '', '', '')\n",
      "1121 E WASHINGTON AVE EL CAJON 92019 apartments\n",
      "('(619) 440-1774', '', '', '725 Washington Heights Rd # 14', 'El Cajon', 'CA 92019')\n",
      "1657 MISSOURI ST SAN DIEGO 92109 apartments\n",
      "('', '', '', '', '', '')\n",
      "121 W MONTECITO WAY SAN DIEGO 92103 apartments\n",
      "('', '', '', '', '', '')\n",
      "3454 RUFFIN RD SAN DIEGO 92123 apartments\n",
      "('(858) 923-5828', '', '', '3454 Ruffin Rd', 'San Diego', 'CA 92123')\n",
      "12734 CARMEL VALLEY RD SAN DIEGO 92130 apartments\n",
      "('', '', '', '', '', '')\n",
      "220 E PARK AVE SAN YSIDRO 92173 apartments\n",
      "('', '', '', '', '', '')\n",
      "4168 IOWA ST SAN DIEGO 92104 apartments\n",
      "('', '', '', '', '', '')\n",
      "4476 TEXAS ST SAN DIEGO 92116 apartments\n",
      "('', '', '', '', '', '')\n",
      "3851 SHERBOURNE DR OCEANSIDE 92056 apartments\n",
      "('(760) 625-0351', '', '', '3851 Sherbourne Dr', 'Oceanside', 'CA 92056')\n",
      "917 6TH ST CORONADO 92118 apartments\n",
      "('', '', '', '', '', '')\n",
      "11012 CAMINO PLAYA CARMEL SAN DIEGO 92124 apartments\n",
      "('(858) 205-6287', '', '', '11012 Camino Playa Carmel', 'San Diego', 'CA 92124')\n",
      "365 W CLEMMENS LN FALLBROOK 92028 apartments\n",
      "('', '', '', '', '', '')\n",
      "505 62ND ST SAN DIEGO 92114 apartments\n",
      "('(619) 795-8500', '', '', '6290 Akins Ave', 'San Diego', 'CA 92114')\n",
      "1081 BROADWAY CHULA VISTA 91911 apartments\n",
      "('', '', '', '', '', '')\n",
      "1601 E GRAND AVE ESCONDIDO 92027 apartments\n",
      "('', '', '', '', '', '')\n",
      "3206 REYNARD WAY SAN DIEGO 92103 apartments\n",
      "('', '', '', '', '', '')\n",
      "8777 MIRA MESA BLVD SAN DIEGO 92126 apartments\n",
      "('', '', '', '', '', '')\n",
      "400 PROSPECT ST LA JOLLA 92037 apartments\n",
      "('(858) 295-0779', '', '', '400 Prospect St', 'La Jolla', 'CA 92037')\n",
      "345 JUNIPER AVE CARLSBAD 92008 apartments\n",
      "('', '', '', '', '', '')\n",
      "120 MADISON AVE CHULA VISTA 91910 apartments\n",
      "('', '', '', '', '', '')\n",
      "4141 CENTRAL AVE SAN DIEGO 92105 apartments\n",
      "('', '', '', '', '', '')\n",
      "3543 6TH AVE SAN DIEGO 92103 apartments\n",
      "('', '', '', '', '', '')\n",
      "1038 S SUNSHINE AVE EL CAJON 92020 apartments\n",
      "('', '', '', '', '', '')\n",
      "716 N PACIFIC ST OCEANSIDE 92054 apartments\n",
      "('', '', '', '', '', '')\n",
      "12369 LAKESHORE DR LAKESIDE 92040 apartments\n",
      "('', '', '', '', '', '')\n",
      "1726 MISSOURI ST SAN DIEGO 92109 apartments\n",
      "('', '', '', '', '', '')\n",
      "4821 CAPE MAY AVE SAN DIEGO 92107 apartments\n",
      "('', '', '', '', '', '')\n",
      "224 SYCAMORE RD SAN YSIDRO 92173 apartments\n",
      "('', '', '', '', '', '')\n",
      "5720 LAURETTA ST SAN DIEGO 92110 apartments\n",
      "('', '', '', '', '', '')\n",
      "4522 DAWSON AVE SAN DIEGO 92115 apartments\n",
      "('(619) 583-7512', '', '', '4333 Dawson Ave', 'San Diego', 'CA 92115')\n",
      "1505 E 17TH ST NATIONAL CITY 91950 apartments\n",
      "('', '', '', '', '', '')\n",
      "0 DOUGHERTY ST FALLBROOK 92028 apartments\n",
      "('', '', '', '', '', '')\n",
      "3946 IOWA ST SAN DIEGO 92104 apartments\n",
      "('', '', '', '', '', '')\n",
      "4112 FLORIDA ST SAN DIEGO 92104 apartments\n",
      "('', '', '', '', '', '')\n",
      "200 W CHASE AVE EL CAJON 92020 apartments\n",
      "('', '', '', '', '', '')\n",
      "8529 GRAHAM TER SANTEE 92071 apartments\n",
      "('', '', '', '', '', '')\n",
      "4201 EUCLID AVE SAN DIEGO 92115 apartments\n",
      "('', '', '', '', '', '')\n",
      "1306 13TH ST IMPERIAL BEACH 91932 apartments\n",
      "('', '', '', '', '', '')\n",
      "5055 73RD ST SAN DIEGO 92115 apartments\n",
      "('(619) 439-6724', '', '', '5055 73rd St', 'San Diego', 'CA 92115')\n",
      "1540 S ESCONDIDO BLVD ESCONDIDO 92025 apartments\n",
      "('', '', '', '', '', '')\n",
      "5023 WILLIAMS AVE LA MESA 91942 apartments\n",
      "('', '', '', '', '', '')\n",
      "514 N VINE ST FALLBROOK 92028 apartments\n",
      "('', '', '', '', '', '')\n",
      "636 11TH ST IMPERIAL BEACH 91932 apartments\n",
      "('', '', '', '', '', '')\n",
      "2101 K ST SAN DIEGO 92102 apartments\n",
      "('', '', '', '', '', '')\n",
      "4516 WINONA AVE SAN DIEGO 92115 apartments\n",
      "('', '', '', '', '', '')\n",
      "4170 52ND ST SAN DIEGO 92105 apartments\n",
      "('', '', '', '', '', '')\n",
      "3808 SWIFT AVE SAN DIEGO 92104 apartments\n",
      "('', '', '', '', '', '')\n",
      "4591 GILA AVE SAN DIEGO 92117 apartments\n",
      "('', '', '', '', '', '')\n",
      "703 STRATFORD CT DEL MAR 92014 apartments\n",
      "('', '', '', '', '', '')\n",
      "274 MADRONA ST CHULA VISTA 91910 apartments\n",
      "('', '', '', '', '', '')\n",
      "4011 FLORIDA ST SAN DIEGO 92104 apartments\n",
      "('', '', '', '', '', '')\n",
      "1453 4TH AVE SAN DIEGO 92101 apartments\n",
      "('(619) 450-4499', '', '', '1453 Fourth Ave', 'San Diego', 'CA 92101')\n",
      "2678 MARKET ST SAN DIEGO 92102 apartments\n",
      "('', '', '', '', '', '')\n",
      "4238 HIGHLAND AVE SAN DIEGO 92115 apartments\n",
      "('', '', '', '', '', '')\n",
      "4928 CORONADO AVE SAN DIEGO 92107 apartments\n",
      "('', '', '', '', '', '')\n",
      "3751 NATIONAL AVE SAN DIEGO 92113 apartments\n",
      "('', '', '', '', '', '')\n",
      "2577 L ST SAN DIEGO 92102 apartments\n",
      "('', '', '', '', '', '')\n",
      "4344 ALABAMA ST SAN DIEGO 92104 apartments\n",
      "('', '', '', '', '', '')\n",
      "1741 S MYERS ST OCEANSIDE 92054 apartments\n",
      "('(760) 717-9817', '', '', '1741 S Myers St', 'Oceanside', 'CA 92054')\n",
      "4076 OHIO ST SAN DIEGO 92104 apartments\n",
      "('', '', '', '', '', '')\n",
      "3302 REYNARD WAY SAN DIEGO 92103 apartments\n",
      "('', '', '', '', '', '')\n",
      "4433 NORTH AVE SAN DIEGO 92116 apartments\n",
      "('', '', '', '', '', '')\n",
      "2820 6TH AVE SAN DIEGO 92103 apartments\n",
      "('', '', '', '', '', '')\n",
      "325 E BRADLEY AVE EL CAJON 92021 apartments\n",
      "('(619) 492-5126', '', '', '325 E Bradley Ave', 'El Cajon', 'CA 92021')\n",
      "3985 KANSAS ST SAN DIEGO 92104 apartments\n",
      "('', '', '', '', '', '')\n",
      "967 TOURMALINE ST SAN DIEGO 92109 apartments\n",
      "('', '', '', '', '', '')\n",
      "5333 BALTIMORE DR LA MESA 91942 apartments\n",
      "('(619) 771-2139', '', '', '5333 Baltimore Dr', 'La Mesa', 'CA 91942')\n",
      "3536 EUCLID AVE SAN DIEGO 92105 apartments\n",
      "('', '', '', '', '', '')\n",
      "246 N EMERALD DR VISTA 92083 apartments\n",
      "('(760) 224-4211', '', '', '246 Emerald Dr', 'Vista', 'CA 92083')\n",
      "557 CASSELMAN ST CHULA VISTA 91910 apartments\n",
      "('', '', '', '', '', '')\n",
      "713 DOROTHY ST EL CAJON 92019 apartments\n",
      "('', '', '', '', '', '')\n",
      "4860 CLAIREMONT MESA BLVD SAN DIEGO 92117 apartments\n",
      "('', '', '', '', '', '')\n",
      "509 E 2ND ST NATIONAL CITY 91950 apartments\n",
      "('', '', '', '', '', '')\n",
      "5108 VOLTAIRE ST SAN DIEGO 92107 apartments\n",
      "('', '', '', '', '', '')\n",
      "11232 VISTA SORRENTO PKWY SAN DIEGO 92130 apartments\n",
      "('', '', '', '', '', '')\n",
      "1626 ISLAND AVE SAN DIEGO 92101 apartments\n",
      "('', '', '', '', '', '')\n",
      "4540 56TH ST SAN DIEGO 92115 apartments\n",
      "('', '', '', '', '', '')\n",
      "1211 MITCHELL ST OCEANSIDE 92054 apartments\n",
      "('', '', '', '', '', '')\n",
      "525 E CAMDEN AVE EL CAJON 92020 apartments\n",
      "('(619) 333-7588', '', '', '525 E Camden Ave', 'El Cajon', 'CA 92020')\n",
      "824 8TH ST RAMONA 92065 apartments\n",
      "('', '', '', '', '', '')\n",
      "678 JEFFERSON AVE CHULA VISTA 91910 apartments\n",
      "('', '', '', '', '', '')\n",
      "2269 FELSPAR ST SAN DIEGO 92109 apartments\n",
      "('', '', '', '', '', '')\n",
      "788 S MAGNOLIA AVE EL CAJON 92020 apartments\n",
      "('(619) 442-6366', '', '', '788 S Magnolia Ave # 16', 'El Cajon', 'CA 92020')\n",
      "9585 GOLD COAST DR SAN DIEGO 92126 apartments\n",
      "('(858) 271-6730', '', '', '9585 Gold Coast Dr', 'San Diego', 'CA 92126')\n",
      "3310 31ST ST SAN DIEGO 92104 apartments\n",
      "('', '', '', '', '', '')\n",
      "3781 32ND ST SAN DIEGO 92104 apartments\n",
      "('', '', '', '', '', '')\n",
      "6148 EL CAJON BLVD SAN DIEGO 92115 apartments\n",
      "('', '', '', '', '', '')\n",
      "4975 DEL MONTE AVE SAN DIEGO 92107 apartments\n",
      "('', '', '', '', '', '')\n",
      "4454 50TH ST SAN DIEGO 92115 apartments\n",
      "('', '', '', '', '', '')\n",
      "1343 OAKDALE AVE EL CAJON 92021 apartments\n",
      "('(619) 447-8711', '', '', '1343 Oakdale Ave # 60', 'El Cajon', 'CA 92021')\n",
      "1266 BENICIA ST SAN DIEGO 92110 apartments\n",
      "('', '', '', '', '', '')\n",
      "1619 C AVE NATIONAL CITY 91950 apartments\n",
      "('', '', '', '', '', '')\n",
      "3787 ARIZONA ST SAN DIEGO 92104 apartments\n",
      "('', '', '', '', '', '')\n",
      "361 VANCE ST CHULA VISTA 91910 apartments\n",
      "('', '', '', '', '', '')\n",
      "1537 LIVE OAK RD VISTA 92081 apartments\n",
      "('(760) 727-0343', '', '', '1617 Live Oak Rd', 'Vista', 'CA 92081')\n",
      "4121 CHEROKEE AVE SAN DIEGO 92104 apartments\n",
      "('', '', '', '', '', '')\n",
      "4424 MISSISSIPPI ST SAN DIEGO 92116 apartments\n",
      "('', '', '', '', '', '')\n",
      "2624 C ST SAN DIEGO 92102 apartments\n",
      "('', '', '', '', '', '')\n",
      "1370 KRISTIE LN EL CAJON 92019 apartments\n",
      "('', '', '', '', '', '')\n",
      "725 B AVE NATIONAL CITY 91950 apartments\n",
      "('', '', '', '', '', '')\n",
      "1014 ESSEX ST SAN DIEGO 92103 apartments\n",
      "('', '', '', '', '', '')\n",
      "2118 BALBOA AVE SAN DIEGO 92109 apartments\n",
      "('', '', '', '', '', '')\n",
      "959 VINE ST OCEANSIDE 92054 apartments\n",
      "('(808) 673-6672', '', '', '959 Vine St', 'Oceanside', 'CA 92054')\n",
      "4270 COPELAND AVE SAN DIEGO 92105 apartments\n",
      "('', '', '', '', '', '')\n",
      "345 D AVE CORONADO 92118 apartments\n",
      "('', '', '', '', '', '')\n",
      "5222 TROJAN AVE SAN DIEGO 92115 apartments\n",
      "('', '', '', '', '', '')\n",
      "1394 ORO VISTA RD SAN DIEGO 92154 apartments\n",
      "('(619) 575-4428', '', '', '1394 Oro Vista Rd', 'San Diego', 'CA 92154')\n",
      "451 W EL NORTE PKWY ESCONDIDO 92026 apartments\n",
      "('', '', '', '', '', '')\n",
      "13608 POMERADO RD POWAY 92064 apartments\n",
      "('(858) 748-8899', '', '', '13608 Pomerado Rd', 'Poway', 'CA 92064')\n",
      "8805 MIRA MESA BLVD SAN DIEGO 92126 apartments\n",
      "('', '', '', '', '', '')\n",
      "11120 SCRIPPS RANCH BLVD SAN DIEGO 92131 apartments\n",
      "('', '', '', '', '', '')\n",
      "4318 35TH ST SAN DIEGO 92104 apartments\n",
      "('', '', '', '', '', '')\n",
      "280 K ST CHULA VISTA 91911 apartments\n",
      "('(619) 420-2610', '', '', '290 K St', 'Chula Vista', 'CA 91911')\n",
      "3126 NIMITZ BLVD SAN DIEGO 92106 apartments\n",
      "('', '', '', '', '', '')\n",
      "149 DAISY AVE IMPERIAL BEACH 91932 apartments\n",
      "('', '', '', '', '', '')\n",
      "943 AGATE ST SAN DIEGO 92109 apartments\n",
      "('', '', '', '', '', '')\n",
      "6545 MONTEZUMA RD SAN DIEGO 92115 apartments\n",
      "('', '', '', '', '', '')\n",
      "5704 UNIVERSITY AVE SAN DIEGO 92115 apartments\n",
      "('', '', '', '', '', '')\n",
      "1075 3RD AVE CHULA VISTA 91911 apartments\n",
      "('', '', '', '', '', '')\n",
      "5630 JACKSON DR LA MESA 91942 apartments\n",
      "('', '', '', '', '', '')\n",
      "4650 NIAGARA AVE SAN DIEGO 92107 apartments\n",
      "('', '', '', '', '', '')\n",
      "211 S NEVADA ST OCEANSIDE 92054 apartments\n",
      "('', '', '', '', '', '')\n",
      "661 COPPER DR VISTA 92083 apartments\n",
      "('(760) 945-9600', '', '', '661 Copper Dr', 'Vista', 'CA 92083')\n",
      "1669 WINDER ST SAN DIEGO 92103 apartments\n",
      "('', '', '', '', '', '')\n",
      "1851 PEPPER VALLEY LN EL CAJON 92021 apartments\n",
      "('', '', '', '', '', '')\n",
      "4520 CAMPUS AVE SAN DIEGO 92116 apartments\n",
      "('', '', '', '', '', '')\n",
      "525 NUTMEG ST SAN DIEGO 92103 apartments\n",
      "('', '', '', '', '', '')\n",
      "3264 4TH AVE SAN DIEGO 92103 apartments\n",
      "('', '', '', '', '', '')\n",
      "415 GRANT ST OCEANSIDE 92054 apartments\n",
      "('(760) 359-8005', '', '', '415 Grant St Suite 900', 'Oceanside', 'CA 92054')\n",
      "181 ORANGE AVE CORONADO 92118 apartments\n",
      "('', '', '', '', '', '')\n",
      "2037 BACON ST SAN DIEGO 92107 apartments\n",
      "('', '', '', '', '', '')\n",
      "4007 33RD ST SAN DIEGO 92104 apartments\n",
      "('', '', '', '', '', '')\n",
      "5484 55TH ST SAN DIEGO 92115 apartments\n",
      "('', '', '', '', '', '')\n",
      "1853 N VULCAN AVE ENCINITAS 92024 apartments\n",
      "('', '', '', '', '', '')\n",
      "245 H ST CHULA VISTA 91910 apartments\n",
      "('', '', '', '', '', '')\n",
      "2627 KREMEYER CIR CARLSBAD 92008 apartments\n",
      "('(760) 994-0240', '', '', '2600 Kremeyer Cir', 'Carlsbad', 'CA 92008')\n",
      "3757 SUNSET LN SAN YSIDRO 92173 apartments\n",
      "('', '', '', '', '', '')\n",
      "2841 B ST SAN DIEGO 92102 apartments\n",
      "('', '', '', '', '', '')\n",
      "4629 HAMILTON ST SAN DIEGO 92116 apartments\n",
      "('', '', '', '', '', '')\n",
      "5430 UNIVERSITY AVE SAN DIEGO 92105 apartments\n",
      "('', '', '', '', '', '')\n",
      "947 OAK AVE CARLSBAD 92008 apartments\n",
      "('', '', '', '', '', '')\n",
      "5423 LAKE MURRAY BLVD APT 8 LA MESA 91942 apartments\n",
      "('', '', '', '', '', '')\n",
      "1231 25TH ST SAN DIEGO 92102 apartments\n",
      "('', '', '', '', '', '')\n",
      "4519 36TH ST SAN DIEGO 92116 apartments\n",
      "('', '', '', '', '', '')\n",
      "1423 PEACH AVE EL CAJON 92021 apartments\n",
      "('', '', '', '', '', '')\n",
      "4368 WILSON AVE SAN DIEGO 92104 apartments\n",
      "('(858) 967-7330', '', '', '4740 Wilson Ave', 'San Diego', 'CA 92116')\n",
      "754 N FIG ST ESCONDIDO 92025 apartments\n",
      "('', '', '', '', '', '')\n",
      "293 SHADY LN EL CAJON 92021 apartments\n",
      "('', '', '', '', '', '')\n",
      "1310 OAKDALE AVE EL CAJON 92021 apartments\n",
      "('(619) 639-9502', '', '', '1237 Graves Ave', 'El Cajon', 'CA 92021')\n",
      "4237 VAN DYKE AVE SAN DIEGO 92105 apartments\n",
      "('', '', '', '', '', '')\n",
      "4201 6TH AVE SAN DIEGO 92103 apartments\n",
      "('(619) 298-1059', '', '', '4201 Sixth Ave', 'San Diego', 'CA 92103')\n",
      "7630 NORMAL AVE LA MESA 91941 apartments\n",
      "('(619) 462-1550', '', '', '7630 Normal Ave', 'La Mesa', 'CA 91941')\n",
      "850 E WASHINGTON AVE ESCONDIDO 92025 apartments\n",
      "('', '', '', '', '', '')\n",
      "2268 SMYTHE AVE SAN YSIDRO 92173 apartments\n",
      "('', '', '', '', '', '')\n",
      "1205 E GRAND AVE ESCONDIDO 92027 apartments\n",
      "('', '', '', '', '', '')\n",
      "705 ASH LN SAN MARCOS 92069 apartments\n",
      "('', '', '', '', '', '')\n",
      "229 SHADY LN EL CAJON 92021 apartments\n",
      "('', '', '', '', '', '')\n",
      "5419 LAKE MURRAY BLVD APT 10 LA MESA 91942 apartments\n",
      "('', '', '', '', '', '')\n",
      "9656 WINTER GARDENS BLVD LAKESIDE 92040 apartments\n",
      "('', '', '', '', '', '')\n",
      "1229 N VULCAN AVE ENCINITAS 92024 apartments\n",
      "('', '', '', '', '', '')\n",
      "269 ELDER AVE IMPERIAL BEACH 91932 apartments\n",
      "('', '', '', '', '', '')\n",
      "9045 JUDICIAL DR SAN DIEGO 92122 apartments\n",
      "('(858) 450-0455', '', '', '9085 Judicial Dr', 'San Diego', 'CA 92122')\n",
      "1820 E 16TH ST NATIONAL CITY 91950 apartments\n",
      "('', '', '', '', '', '')\n",
      "836 26TH ST SAN DIEGO 92102 apartments\n",
      "('', '', '', '', '', '')\n",
      "4243 COPELAND AVE SAN DIEGO 92105 apartments\n",
      "('', '', '', '', '', '')\n",
      "4879 PARKS AVE LA MESA 91942 apartments\n",
      "('', '', '', '', '', '')\n",
      "2116 FENTON PKWY SAN DIEGO 92108 apartments\n",
      "('', '', '', '', '', '')\n",
      "365 POMELO DR VISTA 92081 apartments\n",
      "('(855) 330-9228', '', '', '365 Pomelo Dr', 'Vista', 'CA 92081')\n",
      "2777 A ST SAN DIEGO 92102 apartments\n",
      "('', '', '', '', '', '')\n",
      "4226 UTAH ST SAN DIEGO 92104 apartments\n",
      "('', '', '', '', '', '')\n",
      "5824 KANTOR ST SAN DIEGO 92122 apartments\n",
      "('', '', '', '', '', '')\n",
      "1350 CALLE JULES VISTA 92084 apartments\n",
      "('', '', '', '', '', '')\n",
      "4035 UTAH ST SAN DIEGO 92104 apartments\n",
      "('', '', '', '', '', '')\n",
      "110 S TREMONT ST OCEANSIDE 92054 apartments\n",
      "('', '', '', '', '', '')\n",
      "1423 GROVE AVE IMPERIAL BEACH 91932 apartments\n",
      "('', '', '', '', '', '')\n",
      "4151 MISSISSIPPI ST SAN DIEGO 92104 apartments\n",
      "('', '', '', '', '', '')\n",
      "941 POSTAL WAY VISTA 92083 apartments\n",
      "('', '', '', '', '', '')\n",
      "8840 MIRA MESA BLVD SAN DIEGO 92126 apartments\n",
      "('', '', '', '', '', '')\n",
      "444 S LINCOLN AVE EL CAJON 92020 apartments\n",
      "('', '', '', '', '', '')\n",
      "4426 PARK BLVD SAN DIEGO 92116 apartments\n",
      "('', '', '', '', '', '')\n",
      "1130 TESORO GROVE WAY SAN DIEGO 92154 apartments\n",
      "('', '', '', '', '', '')\n",
      "1758 6TH AVE SAN DIEGO 92101 apartments\n",
      "('', '', '', '', '', '')\n",
      "2944 F ST SAN DIEGO 92102 apartments\n",
      "('', '', '', '', '', '')\n",
      "2752 STATE ST SAN DIEGO 92103 apartments\n",
      "('', '', '', '', '', '')\n",
      "2567 WORDEN ST SAN DIEGO 92110 apartments\n",
      "('', '', '', '', '', '')\n",
      "207 VISTA GLEN LN VISTA 92084 apartments\n",
      "('', '', '', '', '', '')\n",
      "4515 BANCROFT ST SAN DIEGO 92116 apartments\n",
      "('', '', '', '', '', '')\n",
      "1526 SCOTT ST SAN DIEGO 92106 apartments\n",
      "('', '', '', '', '', '')\n",
      "2366 BRANT ST SAN DIEGO 92101 apartments\n",
      "('', '', '', '', '', '')\n",
      "353 W SAN MARCOS BLVD SAN MARCOS 92069 apartments\n",
      "('(760) 471-7500', '', '', '353 W San Marcos Blvd', 'San Marcos', 'CA 92069')\n",
      "13042 CARRIAGE RD POWAY 92064 apartments\n",
      "('(858) 748-7357', '', '', '13130 Carriage Rd #52', 'Poway', 'CA 92064')\n",
      "440 E H ST CHULA VISTA 91910 apartments\n",
      "('(619) 494-2109', '', '', '440 E H St', 'Chula Vista', 'CA 91910')\n",
      "208 DATE AVE IMPERIAL BEACH 91932 apartments\n",
      "('', '', '', '', '', '')\n",
      "6525 BEADNELL WAY SAN DIEGO 92117 apartments\n",
      "('', '', '', '', '', '')\n",
      "3129 44TH ST SAN DIEGO 92105 apartments\n",
      "('', '', '', '', '', '')\n",
      "0 NATIONAL AVE SAN DIEGO 92113 apartments\n",
      "('', '', '', '', '', '')\n",
      "3845 47TH ST SAN DIEGO 92105 apartments\n",
      "('', '', '', '', '', '')\n",
      "6271 MADELINE ST SAN DIEGO 92115 apartments\n",
      "('(619) 583-0662', '', '', '6263 Acorn St', 'San Diego', 'CA 92115')\n",
      "4420 49TH ST SAN DIEGO 92115 apartments\n",
      "('', '', '', '', '', '')\n",
      "712 CEDAR ST SAN DIEGO 92101 apartments\n",
      "('', '', '', '', '', '')\n",
      "2218 GARNET AVE SAN DIEGO 92109 apartments\n",
      "('', '', '', '', '', '')\n",
      "2881 LOGAN AVE SAN DIEGO 92113 apartments\n",
      "('', '', '', '', '', '')\n",
      "1365 BROADWAY EL CAJON 92021 apartments\n",
      "('(619) 441-0511', '', '', '1365 Broadway', 'El Cajon', 'CA 92021')\n",
      "4986 SANTA MONICA AVE SAN DIEGO 92107 apartments\n",
      "('', '', '', '', '', '')\n",
      "1820 GRAND AVE SAN DIEGO 92109 apartments\n",
      "('', '', '', '', '', '')\n",
      "410 E FALLBROOK ST FALLBROOK 92028 apartments\n",
      "('', '', '', '', '', '')\n",
      "4243 49TH ST SAN DIEGO 92115 apartments\n",
      "('', '', '', '', '', '')\n",
      "2270 UNION ST SAN DIEGO 92101 apartments\n",
      "('', '', '', '', '', '')\n",
      "4583 33RD ST SAN DIEGO 92116 apartments\n",
      "('', '', '', '', '', '')\n",
      "1107 B AVE NATIONAL CITY 91950 apartments\n",
      "('', '', '', '', '', '')\n",
      "510 N FREEMAN ST OCEANSIDE 92054 apartments\n",
      "('', '', '', '', '', '')\n",
      "828 23RD ST SAN DIEGO 92102 apartments\n",
      "('', '', '', '', '', '')\n",
      "475 S MOLLISON AVE EL CAJON 92020 apartments\n",
      "('', '', '', '', '', '')\n",
      "2166 SAN DIEGO AVE SAN DIEGO 92110 apartments\n",
      "('', '', '', '', '', '')\n",
      "560 E MISSION AVE ESCONDIDO 92025 apartments\n",
      "('(760) 796-4337', '', '', '560 E Mission Ave # 11', 'Escondido', 'CA 92025')\n",
      "1193 FLORENCE ST IMPERIAL BEACH 91932 apartments\n",
      "('', '', '', '', '', '')\n",
      "1031 W LINCOLN AVE ESCONDIDO 92026 apartments\n",
      "('', '', '', '', '', '')\n",
      "7703 EADS AVE LA JOLLA 92037 apartments\n",
      "('', '', '', '', '', '')\n",
      "4720 IDAHO ST SAN DIEGO 92116 apartments\n",
      "('', '', '', '', '', '')\n",
      "3028 HOWARD AVE SAN DIEGO 92104 apartments\n",
      "('', '', '', '', '', '')\n",
      "3845 CHAMOUNE AVE SAN DIEGO 92105 apartments\n",
      "('', '', '', '', '', '')\n",
      "923 HERMES AVE ENCINITAS 92024 apartments\n",
      "('', '', '', '', '', '')\n",
      "6325 POTOMAC ST SAN DIEGO 92139 apartments\n",
      "('', '', '', '', '', '')\n",
      "3828 CHEROKEE AVE SAN DIEGO 92104 apartments\n",
      "('', '', '', '', '', '')\n",
      "4082 48TH ST SAN DIEGO 92105 apartments\n",
      "('', '', '', '', '', '')\n",
      "3655 KEATING ST SAN DIEGO 92110 apartments\n",
      "('', '', '', '', '', '')\n",
      "4130 HIGHLAND AVE SAN DIEGO 92105 apartments\n",
      "('', '', '', '', '', '')\n",
      "4077 LAMONT ST SAN DIEGO 92109 apartments\n",
      "('', '', '', '', '', '')\n",
      "717 WHITING CT SAN DIEGO 92109 apartments\n",
      "('', '', '', '', '', '')\n",
      "148 DAISY AVE IMPERIAL BEACH 91932 apartments\n",
      "('', '', '', '', '', '')\n",
      "5439 LAKE MURRAY BLVD UNIT 9 LA MESA 91942 apartments\n",
      "('', '', '', '', '', '')\n",
      "1402 PENNSYLVANIA AVE SAN DIEGO 92103 apartments\n",
      "('', '', '', '', '', '')\n",
      "5421 LAKE MURRAY BLVD APT 3 LA MESA 91942 apartments\n",
      "('', '', '', '', '', '')\n",
      "268 AVALON DR VISTA 92084 apartments\n",
      "('', '', '', '', '', '')\n",
      "8410 LOS COCHES RD EL CAJON 92021 apartments\n",
      "('(619) 390-9078', '', '', '8410 Los Coches Rd', 'El Cajon', 'CA 92021')\n",
      "759 CALLA AVE IMPERIAL BEACH 91932 apartments\n",
      "('', '', '', '', '', '')\n",
      "1725 ORO VISTA RD SAN DIEGO 92154 apartments\n",
      "('(619) 424-5138', '', '', '1767 Oro Vista Rd', 'San Diego', 'CA 92154')\n",
      "4568 GEORGIA ST SAN DIEGO 92116 apartments\n",
      "('', '', '', '', '', '')\n",
      "5680 AMARILLO AVE LA MESA 91942 apartments\n",
      "('', '', '', '', '', '')\n",
      "554 E LEXINGTON AVE EL CAJON 92020 apartments\n",
      "('', '', '', '', '', '')\n",
      "4321 53RD ST SAN DIEGO 92115 apartments\n",
      "('', '', '', '', '', '')\n",
      "4463 OHIO ST SAN DIEGO 92116 apartments\n",
      "('', '', '', '', '', '')\n",
      "6948 ALCONA ST SAN DIEGO 92139 apartments\n",
      "('', '', '', '', '', '')\n",
      "4609 BANCROFT ST SAN DIEGO 92116 apartments\n",
      "('', '', '', '', '', '')\n",
      "3845 41ST ST SAN DIEGO 92105 apartments\n",
      "('', '', '', '', '', '')\n",
      "3978 FLORIDA ST SAN DIEGO 92104 apartments\n",
      "('', '', '', '', '', '')\n",
      "59 4TH AVE CHULA VISTA 91910 apartments\n",
      "('', '', '', '', '', '')\n",
      "4252 VAN DYKE AVE SAN DIEGO 92105 apartments\n",
      "('', '', '', '', '', '')\n",
      "4445 FANUEL ST SAN DIEGO 92109 apartments\n",
      "('', '', '', '', '', '')\n",
      "2517 G ST SAN DIEGO 92102 apartments\n",
      "('', '', '', '', '', '')\n",
      "412 PLYMOUTH DR VISTA 92083 apartments\n",
      "('(760) 724-6862', '', '', '412 Plymouth Dr #7', 'Vista', 'CA 92083')\n",
      "259 ALVARADO ST CHULA VISTA 91910 apartments\n",
      "('', '', '', '', '', '')\n",
      "80 OAKLAWN AVE CHULA VISTA 91910 apartments\n",
      "('', '', '', '', '', '')\n",
      "4444 ALABAMA ST SAN DIEGO 92116 apartments\n",
      "('', '', '', '', '', '')\n",
      "1416 HOLLY AVE IMPERIAL BEACH 91932 apartments\n",
      "('(619) 304-4205', '', '', '1471 Grove Ave #17', 'Imperial Beach', 'CA 91932')\n",
      "8320 FANITA DR SANTEE 92071 apartments\n",
      "('(619) 597-8087', '', '', '8320-8328 Fanita Dr', 'Santee', 'CA 92071')\n",
      "2038 F ST SAN DIEGO 92102 apartments\n",
      "('', '', '', '', '', '')\n",
      "4205 49TH ST SAN DIEGO 92115 apartments\n",
      "('', '', '', '', '', '')\n",
      "663 EUCALYPTUS AVE VISTA 92084 apartments\n",
      "('', '', '', '', '', '')\n",
      "280 AVALON DR VISTA 92084 apartments\n",
      "('', '', '', '', '', '')\n",
      "237 SPRUCE ST SAN DIEGO 92103 apartments\n",
      "('', '', '', '', '', '')\n",
      "4326 SWIFT AVE SAN DIEGO 92104 apartments\n",
      "('', '', '', '', '', '')\n",
      "5245 WOOD ST LA MESA 91941 apartments\n",
      "('', '', '', '', '', '')\n",
      "4650 MISSISSIPPI ST SAN DIEGO 92116 apartments\n",
      "('', '', '', '', '', '')\n",
      "228 W PARK AVE EL CAJON 92020 apartments\n",
      "('', '', '', '', '', '')\n",
      "4349 CHEROKEE AVE SAN DIEGO 92104 apartments\n",
      "('', '', '', '', '', '')\n",
      "1061 HAYES AVE SAN DIEGO 92103 apartments\n",
      "('', '', '', '', '', '')\n",
      "240 S RANCHO SANTA FE RD SAN MARCOS 92078 apartments\n",
      "('', '', '', '', '', '')\n",
      "4857 NARRAGANSETT AVE SAN DIEGO 92107 apartments\n",
      "('', '', '', '', '', '')\n",
      "1501 REED AVE SAN DIEGO 92109 apartments\n",
      "('', '', '', '', '', '')\n",
      "4784 BERMUDA AVE SAN DIEGO 92107 apartments\n",
      "('', '', '', '', '', '')\n",
      "343 W PALM AVE EL CAJON 92020 apartments\n",
      "('', '', '', '', '', '')\n",
      "4343 CHEROKEE AVE SAN DIEGO 92104 apartments\n",
      "('', '', '', '', '', '')\n",
      "645 VIA CANTEBRIA ENCINITAS 92024 apartments\n",
      "('(760) 436-1989', '', '', '645 Via Cantebria', 'Encinitas', 'CA 92024')\n",
      "425 E WASHINGTON AVE ESCONDIDO 92025 apartments\n",
      "('', '', '', '', '', '')\n",
      "7782 UNIVERSITY AVE LA MESA 91942 apartments\n",
      "('', '', '', '', '', '')\n",
      "1017 GREENFIELD DR EL CAJON 92021 apartments\n",
      "('', '', '', '', '', '')\n",
      "1245 MORNING VIEW DR ESCONDIDO 92026 apartments\n",
      "('(833) 498-9520', '', '', '1245 Morning View Dr', 'Escondido', 'CA 92026')\n",
      "5131 LONG BRANCH AVE SAN DIEGO 92107 apartments\n",
      "('', '', '', '', '', '')\n",
      "1397 N VULCAN AVE ENCINITAS 92024 apartments\n",
      "('', '', '', '', '', '')\n",
      "4841 JESSIE AVE LA MESA 91942 apartments\n",
      "('', '', '', '', '', '')\n",
      "4366 TEXAS ST SAN DIEGO 92104 apartments\n",
      "('', '', '', '', '', '')\n",
      "457 W EL NORTE PKWY ESCONDIDO 92026 apartments\n",
      "('', '', '', '', '', '')\n",
      "4225 50TH ST SAN DIEGO 92115 apartments\n",
      "('', '', '', '', '', '')\n",
      "3962 GOLDFINCH ST SAN DIEGO 92103 apartments\n",
      "('', '', '', '', '', '')\n",
      "628 MILLAR AVE EL CAJON 92020 apartments\n",
      "('', '', '', '', '', '')\n",
      "722 W CALIFORNIA AVE VISTA 92083 apartments\n",
      "('', '', '', '', '', '')\n",
      "250 BONITA GLEN DR CHULA VISTA 91910 apartments\n",
      "('(833) 278-6946', '', '', '250 Bonita Glen Dr', 'Chula Vista', 'CA 91910')\n",
      "4178 40TH ST SAN DIEGO 92105 apartments\n",
      "('', '', '', '', '', '')\n",
      "1096 N MOLLISON AVE EL CAJON 92021 apartments\n",
      "('(619) 593-7715', '', '', '1096 N Mollison Ave #12', 'El Cajon', 'CA 92115')\n",
      "1029 HAYES AVE SAN DIEGO 92103 apartments\n",
      "('', '', '', '', '', '')\n",
      "493 BEAUMONT GLN ESCONDIDO 92026 apartments\n",
      "('(760) 389-3712', '', '', '493 Beaumont Glen', 'Escondido', 'CA 92026')\n",
      "47 MADISON AVE CHULA VISTA 91910 apartments\n",
      "('', '', '', '', '', '')\n",
      "4526 CLAIREMONT DR SAN DIEGO 92117 apartments\n",
      "('', '', '', '', '', '')\n",
      "4318 MEADE AVE SAN DIEGO 92116 apartments\n",
      "('', '', '', '', '', '')\n",
      "7107 WAITE DR LA MESA 91941 apartments\n",
      "('', '', '', '', '', '')\n",
      "811 C AVE NATIONAL CITY 91950 apartments\n",
      "('', '', '', '', '', '')\n",
      "1340 S ORANGE ST ESCONDIDO 92025 apartments\n",
      "('', '', '', '', '', '')\n",
      "2905 30TH ST SAN DIEGO 92104 apartments\n",
      "('', '', '', '', '', '')\n",
      "441 TREMONT ST CHULA VISTA 91911 apartments\n",
      "('', '', '', '', '', '')\n",
      "119 W WALNUT AVE SAN DIEGO 92103 apartments\n",
      "('', '', '', '', '', '')\n",
      "1515 DATE ST VISTA 92083 apartments\n",
      "('(760) 237-4181', '', '', '1515 Date St', 'Vista', 'CA 92083')\n",
      "975 LAGUNA DR CARLSBAD 92008 apartments\n",
      "('', '', '', '', '', '')\n",
      "4410 ILLINOIS ST SAN DIEGO 92116 apartments\n",
      "('', '', '', '', '', '')\n",
      "4242 SPRING ST LA MESA 91941 apartments\n",
      "('(619) 469-3207', '', '', '4242 Spring St', 'La Mesa', 'CA 91941')\n",
      "2254 MOORE ST SAN DIEGO 92110 apartments\n",
      "('', '', '', '', '', '')\n",
      "7784 PARADISE VALLEY RD SAN DIEGO 92139 apartments\n",
      "('(619) 731-2382', '', '', '7844 Paradise Valley Rd', 'San Diego', 'CA 92139')\n",
      "3112 DICKENS ST SAN DIEGO 92106 apartments\n",
      "('', '', '', '', '', '')\n",
      "140 ACACIA AVE CARLSBAD 92008 apartments\n",
      "('', '', '', '', '', '')\n",
      "1407 MADISON AVE SAN DIEGO 92116 apartments\n",
      "('', '', '', '', '', '')\n",
      "1301 MEDICAL CENTER DR CHULA VISTA 91911 apartments\n",
      "('(619) 934-2200', '', '', '1301 Medical Center Dr', 'Chula Vista', 'CA 91911')\n",
      "2804 STATE ST SAN DIEGO 92103 apartments\n",
      "('', '', '', '', '', '')\n",
      "860 13TH ST IMPERIAL BEACH 91932 apartments\n",
      "('', '', '', '', '', '')\n",
      "3033 FENELON ST SAN DIEGO 92106 apartments\n",
      "('(619) 501-7960', '', '', '2930 Barnard St', 'San Diego', 'CA 92110')\n",
      "481 PALM AVE IMPERIAL BEACH 91932 apartments\n",
      "('', '', '', '', '', '')\n",
      "1055 CHESTNUT ST ESCONDIDO 92025 apartments\n",
      "('', '', '', '', '', '')\n",
      "15909 AVENIDA VENUSTO SAN DIEGO 92128 apartments\n",
      "('(858) 923-4868', '', '', '15909 Avenida Venusto', 'San Diego', 'CA 92128')\n",
      "4035 POPPY PL SAN DIEGO 92105 apartments\n",
      "('', '', '', '', '', '')\n",
      "2515 CONGRESS ST SAN DIEGO 92110 apartments\n",
      "('', '', '', '', '', '')\n",
      "146 EUCLID AVE SAN DIEGO 92114 apartments\n",
      "('', '', '', '', '', '')\n",
      "962 THOMAS AVE SAN DIEGO 92109 apartments\n",
      "('', '', '', '', '', '')\n",
      "525 EMERALD AVE EL CAJON 92020 apartments\n",
      "('', '', '', '', '', '')\n",
      "710 TOPEKA ST OCEANSIDE 92054 apartments\n",
      "('', '', '', '', '', '')\n",
      "193 W PARK AVE EL CAJON 92020 apartments\n",
      "('', '', '', '', '', '')\n",
      "2818 BOSTON AVE SAN DIEGO 92113 apartments\n",
      "('', '', '', '', '', '')\n",
      "1612 SUNSET CLIFFS BLVD SAN DIEGO 92107 apartments\n",
      "('', '', '', '', '', '')\n",
      "4735 BANCROFT ST SAN DIEGO 92116 apartments\n",
      "('', '', '', '', '', '')\n",
      "4252 50TH ST SAN DIEGO 92115 apartments\n",
      "('', '', '', '', '', '')\n",
      "10420 MAYA LINDA RD SAN DIEGO 92126 apartments\n",
      "('', '', '', '', '', '')\n",
      "828 CORONADO CT SAN DIEGO 92109 apartments\n",
      "('', '', '', '', '', '')\n",
      "3047 PECAN PL ESCONDIDO 92027 apartments\n",
      "('(760) 740-0121', '', '', '511 E Grand Ave', 'Escondido', 'CA 92025')\n",
      "1633 DIAMOND ST SAN DIEGO 92109 apartments\n",
      "('', '', '', '', '', '')\n",
      "245 CHURCH AVE CHULA VISTA 91910 apartments\n",
      "('', '', '', '', '', '')\n",
      "3818 ARIZONA ST SAN DIEGO 92104 apartments\n",
      "('', '', '', '', '', '')\n",
      "2528 HOWARD AVE SAN DIEGO 92104 apartments\n",
      "('', '', '', '', '', '')\n",
      "4132 VAN DYKE AVE SAN DIEGO 92105 apartments\n",
      "('', '', '', '', '', '')\n",
      "354 E PENNSYLVANIA AVE ESCONDIDO 92025 apartments\n",
      "('', '', '', '', '', '')\n",
      "3868 NATIONAL AVE SAN DIEGO 92113 apartments\n",
      "('', '', '', '', '', '')\n",
      "545 WOODLAWN AVE CHULA VISTA 91910 apartments\n",
      "('(833) 237-2943', '', '', '535 Woodlawn Ave', 'Chula Vista', 'CA 91910')\n",
      "4318 51ST ST SAN DIEGO 92115 apartments\n",
      "('', '', '', '', '', '')\n",
      "5138 STERLING CT SAN DIEGO 92105 apartments\n",
      "('', '', '', '', '', '')\n",
      "1170 CALLA AVE IMPERIAL BEACH 91932 apartments\n",
      "('', '', '', '', '', '')\n",
      "4062 42ND ST SAN DIEGO 92105 apartments\n",
      "('', '', '', '', '', '')\n",
      "5151 ROBINWOOD RD BONITA 91902 apartments\n",
      "('(619) 470-6693', '', '', '5151 Robinwood Rd', 'Bonita', 'CA 91902')\n",
      "4779 RENO DR SAN DIEGO 92105 apartments\n",
      "('', '', '', '', '', '')\n",
      "2801 WORDEN ST SAN DIEGO 92110 apartments\n",
      "('', '', '', '', '', '')\n",
      "4069 IDAHO ST SAN DIEGO 92104 apartments\n",
      "('', '', '', '', '', '')\n",
      "1319 YNEZ PL CORONADO 92118 apartments\n",
      "('', '', '', '', '', '')\n",
      "9205 CARLTON OAKS DR SANTEE 92071 apartments\n",
      "('(619) 448-7185', '', '', '9205 Carlton Oaks Dr #49', 'Santee', 'CA 92071')\n",
      "3538 MONROE AVE SAN DIEGO 92116 apartments\n",
      "('', '', '', '', '', '')\n",
      "4809 CLAIREMONT MESA BLVD SAN DIEGO 92117 apartments\n",
      "('', '', '', '', '', '')\n",
      "4269 ESTRELLA AVE SAN DIEGO 92115 apartments\n",
      "('', '', '', '', '', '')\n",
      "4178 DECORO ST SAN DIEGO 92122 apartments\n",
      "('(833) 665-0014', '', '', '4178 Decoro St', 'San Diego', 'CA 92122')\n",
      "202 OCEANSIDE BLVD OCEANSIDE 92054 apartments\n",
      "('', '', '', '', '', '')\n",
      "810 S MAGNOLIA AVE EL CAJON 92020 apartments\n",
      "('', '', '', '', '', '')\n",
      "435 13TH ST SAN DIEGO 92101 apartments\n",
      "('(866) 630-2801', '', '', '435 13th St', 'San Diego', 'CA 92101')\n",
      "286 CHAMBERS ST EL CAJON 92020 apartments\n",
      "('', '', '', '', '', '')\n",
      "2024 3RD ST JULIAN 92036 apartments\n",
      "('', '', '', '', '', '')\n",
      "2244 CHATSWORTH BLVD SAN DIEGO 92106 apartments\n",
      "('', '', '', '', '', '')\n",
      "4712 VOLTAIRE ST SAN DIEGO 92107 apartments\n",
      "('', '', '', '', '', '')\n",
      "3771 SWIFT AVE SAN DIEGO 92104 apartments\n",
      "('', '', '', '', '', '')\n",
      "316 PROSPECT ST LA JOLLA 92037 apartments\n",
      "('', '', '', '', '', '')\n",
      "4366 MISSISSIPPI ST SAN DIEGO 92104 apartments\n",
      "('', '', '', '', '', '')\n",
      "4911 DEL MAR AVE SAN DIEGO 92107 apartments\n",
      "('', '', '', '', '', '')\n",
      "260 N MIDWAY DR ESCONDIDO 92027 apartments\n",
      "('(760) 746-2000', '', '', '260 N Midway Dr', 'Escondido', 'CA 92027')\n",
      "4721 WILSON AVE SAN DIEGO 92116 apartments\n",
      "('(858) 967-7330', '', '', '4740 Wilson Ave', 'San Diego', 'CA 92116')\n",
      "921 S SUNSHINE AVE EL CAJON 92020 apartments\n",
      "('', '', '', '', '', '')\n",
      "2876 MEADE AVE SAN DIEGO 92116 apartments\n",
      "('', '', '', '', '', '')\n",
      "4365 MONTALVO ST SAN DIEGO 92107 apartments\n",
      "('', '', '', '', '', '')\n",
      "12475 HEATHERTON CT SAN DIEGO 92128 apartments\n",
      "('', '', '', '', '', '')\n",
      "505 N CLEMENTINE ST OCEANSIDE 92054 apartments\n",
      "('', '', '', '', '', '')\n",
      "516 25TH ST SAN DIEGO 92102 apartments\n",
      "('', '', '', '', '', '')\n",
      "4053 HAMILTON ST SAN DIEGO 92104 apartments\n",
      "('', '', '', '', '', '')\n",
      "1515 2ND ST CORONADO 92118 apartments\n",
      "('(619) 273-0661', '', '', '1515 2nd St', 'Coronado', 'CA 92118')\n",
      "2974 JUNIPER ST SAN DIEGO 92104 apartments\n",
      "('', '', '', '', '', '')\n",
      "5968 LAURETTA ST SAN DIEGO 92110 apartments\n",
      "('(858) 457-4444', '', '', '3845 Nobel Dr', 'San Diego', 'CA 92122')\n",
      "455 JAMACHA RD EL CAJON 92019 apartments\n",
      "('', '', '', '', '', '')\n",
      "4010 ILLINOIS ST SAN DIEGO 92104 apartments\n",
      "('', '', '', '', '', '')\n",
      "3638 EAGLE ST SAN DIEGO 92103 apartments\n",
      "('(619) 391-3795', '', '', '4021 Falcon St', 'San Diego', 'CA 92103')\n",
      "3691 NATIONAL AVE SAN DIEGO 92113 apartments\n",
      "('', '', '', '', '', '')\n",
      "212 PALOMAR ST CHULA VISTA 91911 apartments\n",
      "('', '', '', '', '', '')\n",
      "202 W SAN YSIDRO BLVD SAN YSIDRO 92173 apartments\n",
      "('(619) 605-0550', '', '', '202 W San Ysidro Blvd', 'San Ysidro', 'CA 92173')\n",
      "7322 MESA COLLEGE DR SAN DIEGO 92111 apartments\n",
      "('', '', '', '', '', '')\n",
      "3065 HAWTHORN ST SAN DIEGO 92104 apartments\n",
      "('', '', '', '', '', '')\n",
      "9808 PASEO MONTALBAN SAN DIEGO 92129 apartments\n",
      "('', '', '', '', '', '')\n",
      "2172 BURROUGHS ST SAN DIEGO 92111 apartments\n",
      "('', '', '', '', '', '')\n",
      "16 CREEKSIDE DR SAN MARCOS 92078 apartments\n",
      "('', '', '', '', '', '')\n",
      "4153 42ND ST SAN DIEGO 92105 apartments\n",
      "('', '', '', '', '', '')\n",
      "3767 3RD AVE SAN DIEGO 92103 apartments\n",
      "('', '', '', '', '', '')\n",
      "4404 MAYBERRY ST SAN DIEGO 92113 apartments\n",
      "('', '', '', '', '', '')\n",
      "4631 DAKOTA DR SAN DIEGO 92117 apartments\n",
      "('', '', '', '', '', '')\n",
      "3510 COLLEGE AVE SAN DIEGO 92115 apartments\n",
      "('', '', '', '', '', '')\n",
      "1208 5TH AVE CHULA VISTA 91911 apartments\n",
      "('', '', '', '', '', '')\n",
      "182 ORLANDO ST EL CAJON 92021 apartments\n",
      "('(619) 571-1861', '', '', '182 Orlando St', 'El Cajon', 'CA 92021')\n",
      "2227 JULIAN AVE SAN DIEGO 92113 apartments\n",
      "('', '', '', '', '', '')\n",
      "5441 LAKE MURRAY BLVD UNIT 7 LA MESA 91942 apartments\n",
      "('', '', '', '', '', '')\n",
      "1438 E 16TH ST NATIONAL CITY 91950 apartments\n",
      "('', '', '', '', '', '')\n",
      "2962 JUNIPER ST SAN DIEGO 92104 apartments\n",
      "('', '', '', '', '', '')\n",
      "181 PALA VISTA DR VISTA 92083 apartments\n",
      "('', '', '', '', '', '')\n",
      "4046 FLORIDA ST SAN DIEGO 92104 apartments\n",
      "('', '', '', '', '', '')\n",
      "1856 COLLEGE BLVD OCEANSIDE 92056 apartments\n",
      "('(760) 945-0444', '', '', '1904 College Blvd', 'Oceanside', 'CA 92056')\n",
      "1002 W PALM ST SAN DIEGO 92103 apartments\n",
      "('', '', '', '', '', '')\n",
      "6304 RANCHO MISSION RD SAN DIEGO 92108 apartments\n",
      "('(619) 391-0758', '', '', '6304 Rancho Mission Rd', 'San Diego', 'CA 92108')\n",
      "520 N ELM ST ESCONDIDO 92025 apartments\n",
      "('', '', '', '', '', '')\n",
      "1575 CABLE ST SAN DIEGO 92107 apartments\n",
      "('', '', '', '', '', '')\n",
      "4086 FLORIDA ST SAN DIEGO 92104 apartments\n",
      "('', '', '', '', '', '')\n",
      "3569 J ST SAN DIEGO 92102 apartments\n",
      "('', '', '', '', '', '')\n",
      "4002 FLORIDA ST SAN DIEGO 92104 apartments\n",
      "('', '', '', '', '', '')\n",
      "904 7TH ST CORONADO 92118 apartments\n",
      "('', '', '', '', '', '')\n",
      "2541 C ST SAN DIEGO 92102 apartments\n",
      "('', '', '', '', '', '')\n",
      "709 C AVE CORONADO 92118 apartments\n",
      "('', '', '', '', '', '')\n",
      "4213 KANSAS ST SAN DIEGO 92104 apartments\n",
      "('', '', '', '', '', '')\n",
      "4604 ACACIA AVE LA MESA 91941 apartments\n",
      "('', '', '', '', '', '')\n",
      "3455 DEL REY ST SAN DIEGO 92109 apartments\n",
      "('', '', '', '', '', '')\n",
      "2065 DIAMOND ST SAN DIEGO 92109 apartments\n",
      "('', '', '', '', '', '')\n",
      "3667 GRIM AVE SAN DIEGO 92104 apartments\n",
      "('', '', '', '', '', '')\n",
      "3204 COLLIER AVE SAN DIEGO 92116 apartments\n",
      "('', '', '', '', '', '')\n",
      "4365 ROSEBUD LN LA MESA 91941 apartments\n",
      "('', '', '', '', '', '')\n",
      "7334 LA MESITA PL LA MESA 91942 apartments\n",
      "('(619) 466-6450', '', '', '7334 La Mesita Pl # 10', 'La Mesa', 'CA 91942')\n",
      "1251 N VULCAN AVE ENCINITAS 92024 apartments\n",
      "('', '', '', '', '', '')\n",
      "4755 HOME AVE SAN DIEGO 92105 apartments\n",
      "('', '', '', '', '', '')\n",
      "725 N FIG ST ESCONDIDO 92025 apartments\n",
      "('(760) 294-8730', '', '', '725 N Fig St', 'Escondido', 'CA 92025')\n",
      "4259 MARLBOROUGH AVE SAN DIEGO 92105 apartments\n",
      "('', '', '', '', '', '')\n",
      "1187 E MADISON AVE EL CAJON 92021 apartments\n",
      "('', '', '', '', '', '')\n",
      "1013 28TH ST SAN DIEGO 92102 apartments\n",
      "('', '', '', '', '', '')\n",
      "2966 KALMIA ST SAN DIEGO 92104 apartments\n",
      "('', '', '', '', '', '')\n",
      "238 CHURCH AVE CHULA VISTA 91910 apartments\n",
      "('', '', '', '', '', '')\n",
      "4341 IDAHO ST SAN DIEGO 92104 apartments\n",
      "('', '', '', '', '', '')\n",
      "1086 FLORENCE ST IMPERIAL BEACH 91932 apartments\n",
      "('', '', '', '', '', '')\n",
      "3843 CHEROKEE AVE SAN DIEGO 92104 apartments\n",
      "('', '', '', '', '', '')\n",
      "4880 CLAIREMONT MESA BLVD SAN DIEGO 92117 apartments\n",
      "('', '', '', '', '', '')\n",
      "4562 HAMILTON ST SAN DIEGO 92116 apartments\n",
      "('', '', '', '', '', '')\n",
      "355 H ST CHULA VISTA 91910 apartments\n",
      "('', '', '', '', '', '')\n",
      "4851 NIAGARA AVE SAN DIEGO 92107 apartments\n",
      "('', '', '', '', '', '')\n",
      "3725 NATIONAL AVE SAN DIEGO 92113 apartments\n",
      "('', '', '', '', '', '')\n",
      "4150 41ST ST SAN DIEGO 92105 apartments\n",
      "('', '', '', '', '', '')\n",
      "5439 LAKE MURRAY BLVD UNIT 11 LA MESA 91942 apartments\n",
      "('', '', '', '', '', '')\n",
      "8757 MIRA MESA BLVD SAN DIEGO 92126 apartments\n",
      "('', '', '', '', '', '')\n",
      "1415 E LEXINGTON AVE EL CAJON 92019 apartments\n",
      "('(619) 442-8849', '', '', '1415 E Lexington Ave', 'El Cajon', 'CA 92019')\n",
      "4608 33RD ST SAN DIEGO 92116 apartments\n",
      "('', '', '', '', '', '')\n",
      "4582 BANCROFT ST SAN DIEGO 92116 apartments\n",
      "('', '', '', '', '', '')\n",
      "1612 9TH AVE SAN DIEGO 92101 apartments\n",
      "('', '', '', '', '', '')\n",
      "4062 30TH ST SAN DIEGO 92104 apartments\n",
      "('', '', '', '', '', '')\n",
      "4891 CLAIREMONT MESA BLVD SAN DIEGO 92117 apartments\n",
      "('', '', '', '', '', '')\n",
      "800 7TH ST IMPERIAL BEACH 91932 apartments\n",
      "('', '', '', '', '', '')\n",
      "1260 CALLE JULES VISTA 92084 apartments\n",
      "('(760) 758-1146', '', '', '1260 Calle Jules', 'Vista', 'CA 92084')\n",
      "4781 SEMINOLE DR SAN DIEGO 92115 apartments\n",
      "('', '', '', '', '', '')\n",
      "6295 STANLEY AVE SAN DIEGO 92115 apartments\n",
      "('', '', '', '', '', '')\n",
      "4152 ALABAMA ST SAN DIEGO 92104 apartments\n",
      "('', '', '', '', '', '')\n",
      "6531 ELECTRIC AVE LA JOLLA 92037 apartments\n",
      "('', '', '', '', '', '')\n",
      "2707 MARATHON DR SAN DIEGO 92123 apartments\n",
      "('(858) 410-0041', '', '', '2707 Mission Village Dr', 'San Diego', 'CA 92123')\n",
      "1626 PASEO CARINA CHULA VISTA 91915 apartments\n",
      "('', '', '', '', '', '')\n",
      "145 EVERGREEN AVE IMPERIAL BEACH 91932 apartments\n",
      "('', '', '', '', '', '')\n",
      "3381 GRIM AVE SAN DIEGO 92104 apartments\n",
      "('', '', '', '', '', '')\n",
      "401 W CLEMMENS LN FALLBROOK 92028 apartments\n",
      "('', '', '', '', '', '')\n",
      "1971 WELLINGTON LN VISTA 92081 apartments\n",
      "('', '', '', '', '', '')\n",
      "339 W 15TH AVE ESCONDIDO 92025 apartments\n",
      "('', '', '', '', '', '')\n",
      "635 11TH ST IMPERIAL BEACH 91932 apartments\n",
      "('', '', '', '', '', '')\n",
      "4423 48TH ST SAN DIEGO 92115 apartments\n",
      "('', '', '', '', '', '')\n",
      "2234 BRANT ST SAN DIEGO 92101 apartments\n",
      "('', '', '', '', '', '')\n",
      "2065 OLIVER AVE SAN DIEGO 92109 apartments\n",
      "('', '', '', '', '', '')\n",
      "3803 MARQUETTE PL SAN DIEGO 92106 apartments\n",
      "('', '', '', '', '', '')\n",
      "2000 S MELROSE DR VISTA 92081 apartments\n",
      "('(760) 598-2705', '', '', '2000 S Melrose Dr', 'Vista', 'CA 92081')\n",
      "4325 FELTON ST SAN DIEGO 92104 apartments\n",
      "('', '', '', '', '', '')\n",
      "4246 ESTRELLA AVE SAN DIEGO 92115 apartments\n",
      "('', '', '', '', '', '')\n",
      "1537 Q AVE NATIONAL CITY 91950 apartments\n",
      "('(619) 477-6708', '', '', '1545 Q Ave', 'National City', 'CA 91950')\n",
      "419 GARFIELD ST OCEANSIDE 92054 apartments\n",
      "('(760) 359-8005', '', '', '415 Grant St Suite 900', 'Oceanside', 'CA 92054')\n",
      "525 E 3RD AVE ESCONDIDO 92025 apartments\n",
      "('', '', '', '', '', '')\n",
      "1971 MISSOURI ST SAN DIEGO 92109 apartments\n",
      "('', '', '', '', '', '')\n",
      "1005 33RD ST SAN DIEGO 92102 apartments\n",
      "('', '', '', '', '', '')\n",
      "7568 CHARMANT DR SAN DIEGO 92122 apartments\n",
      "('(858) 450-6400', '', '', '7568 Charmant Dr', 'San Diego', 'CA 92122')\n",
      "5041 LOTUS ST SAN DIEGO 92107 apartments\n",
      "('', '', '', '', '', '')\n",
      "9934 SAN JUAN ST SPRING VALLEY 91977 apartments\n",
      "('', '', '', '', '', '')\n",
      "4669 IOWA ST SAN DIEGO 92116 apartments\n",
      "('', '', '', '', '', '')\n",
      "10204 CAMINO RUIZ SAN DIEGO 92126 apartments\n",
      "('', '', '', '', '', '')\n",
      "5429 LAKE MURRAY BLVD UNIT 8 LA MESA 91942 apartments\n",
      "('', '', '', '', '', '')\n",
      "1515 S MELROSE DR VISTA 92081 apartments\n",
      "('(760) 598-1222', '', '', '1515 S Melrose Dr', 'Vista', 'CA 92081')\n",
      "4514 FELTON ST SAN DIEGO 92116 apartments\n",
      "('', '', '', '', '', '')\n",
      "3045 BROADWAY SAN DIEGO 92102 apartments\n",
      "('', '', '', '', '', '')\n",
      "11580 WINDCREST LN SAN DIEGO 92128 apartments\n",
      "('', '', '', '', '', '')\n",
      "4039 BRANT ST SAN DIEGO 92103 apartments\n",
      "('', '', '', '', '', '')\n",
      "439 W EL NORTE PKWY ESCONDIDO 92026 apartments\n",
      "('(833) 312-9543', '', '', '439 W El Norte Pkwy', 'Escondido', 'CA 92026')\n",
      "639 N VULCAN AVE ENCINITAS 92024 apartments\n",
      "('', '', '', '', '', '')\n",
      "4444 OREGON ST SAN DIEGO 92116 apartments\n",
      "('', '', '', '', '', '')\n",
      "4580 39TH ST SAN DIEGO 92116 apartments\n",
      "('', '', '', '', '', '')\n",
      "3939 7TH AVE SAN DIEGO 92103 apartments\n",
      "('', '', '', '', '', '')\n",
      "3542 4TH AVE SAN DIEGO 92103 apartments\n",
      "('', '', '', '', '', '')\n",
      "292 W CYPRESS AVE EL CAJON 92020 apartments\n",
      "('(619) 588-1865', '', '', '260 W Cypress Ave # 1', 'El Cajon', 'CA 92020')\n",
      "3133 JEFFERSON ST CARLSBAD 92008 apartments\n",
      "('', '', '', '', '', '')\n",
      "311 ROSECRANS ST SAN DIEGO 92106 apartments\n",
      "('', '', '', '', '', '')\n",
      "4328 FANUEL ST SAN DIEGO 92109 apartments\n",
      "('', '', '', '', '', '')\n",
      "145 W FELICITA AVE ESCONDIDO 92025 apartments\n",
      "('', '', '', '', '', '')\n",
      "200 S MOLLISON AVE EL CAJON 92020 apartments\n",
      "('', '', '', '', '', '')\n",
      "1349 GROVE AVE IMPERIAL BEACH 91932 apartments\n",
      "('', '', '', '', '', '')\n",
      "3027 POE ST SAN DIEGO 92106 apartments\n",
      "('', '', '', '', '', '')\n",
      "1439 9TH AVE SAN DIEGO 92101 apartments\n",
      "('', '', '', '', '', '')\n",
      "1301 THOMAS AVE SAN DIEGO 92109 apartments\n",
      "('', '', '', '', '', '')\n",
      "0 PALOMAR ST CHULA VISTA 91913 apartments\n",
      "('', '', '', '', '', '')\n",
      "1141 E 7TH ST NATIONAL CITY 91950 apartments\n",
      "('', '', '', '', '', '')\n",
      "6027 LA JOLLA HERMOSA AVE LA JOLLA 92037 apartments\n",
      "('', '', '', '', '', '')\n",
      "4054 LOUISIANA ST SAN DIEGO 92104 apartments\n",
      "('', '', '', '', '', '')\n",
      "3401 KEARNY VILLA LN SAN DIEGO 92123 apartments\n",
      "('', '', '', '', '', '')\n",
      "164 ELKWOOD AVE IMPERIAL BEACH 91932 apartments\n",
      "('', '', '', '', '', '')\n",
      "1430 14TH ST IMPERIAL BEACH 91932 apartments\n",
      "('', '', '', '', '', '')\n",
      "4166 WABASH AVE SAN DIEGO 92104 apartments\n",
      "('', '', '', '', '', '')\n",
      "4173 36TH ST SAN DIEGO 92104 apartments\n",
      "('(858) 967-7330', '', '', '4173 36th St', 'San Diego', 'CA 92104')\n",
      "6051 LA JOLLA HERMOSA AVE LA JOLLA 92037 apartments\n",
      "('', '', '', '', '', '')\n",
      "138 EBONY AVE IMPERIAL BEACH 91932 apartments\n",
      "('', '', '', '', '', '')\n",
      "4085 ILLINOIS ST SAN DIEGO 92104 apartments\n",
      "('', '', '', '', '', '')\n",
      "3762 VILLA TER SAN DIEGO 92104 apartments\n",
      "('', '', '', '', '', '')\n",
      "3920 SPRING DR SPRING VALLEY 91977 apartments\n",
      "('', '', '', '', '', '')\n",
      "114 E 5TH AVE ESCONDIDO 92025 apartments\n",
      "('', '', '', '', '', '')\n",
      "1447 HOLLY AVE IMPERIAL BEACH 91932 apartments\n",
      "('', '', '', '', '', '')\n",
      "2424 E ST SAN DIEGO 92102 apartments\n",
      "('', '', '', '', '', '')\n",
      "4344 OHIO ST SAN DIEGO 92104 apartments\n",
      "('', '', '', '', '', '')\n",
      "7800 WESTSIDE DR SAN DIEGO 92108 apartments\n",
      "('(619) 378-3037', '', '', '7800 Westside Dr # 108', 'San Diego', 'CA 92108')\n",
      "1130 11TH AVE SAN DIEGO 92101 apartments\n",
      "('', '', '', '', '', '')\n",
      "1744 INDIA ST SAN DIEGO 92101 apartments\n",
      "('', '', '', '', '', '')\n",
      "3344 32ND ST SAN DIEGO 92104 apartments\n",
      "('', '', '', '', '', '')\n",
      "420 HART DR EL CAJON 92021 apartments\n",
      "('', '', '', '', '', '')\n",
      "904 MELALEUCA AVE CARLSBAD 92011 apartments\n",
      "('', '', '', '', '', '')\n",
      "5441 LAKE MURRAY BLVD UNIT 1 LA MESA 91942 apartments\n",
      "('', '', '', '', '', '')\n",
      "4119 FRONT ST SAN DIEGO 92103 apartments\n",
      "('', '', '', '', '', '')\n",
      "607 EMERALD AVE EL CAJON 92020 apartments\n",
      "('', '', '', '', '', '')\n",
      "2051 GENEVA ST OCEANSIDE 92054 apartments\n",
      "('(760) 433-0223', '', '', '2051 Geneva St', 'Oceanside', 'CA 92054')\n",
      "3925 CENTRE ST SAN DIEGO 92103 apartments\n",
      "('', '', '', '', '', '')\n",
      "4510 55TH ST SAN DIEGO 92115 apartments\n",
      "('', '', '', '', '', '')\n",
      "4636 FLORIDA ST SAN DIEGO 92116 apartments\n",
      "('', '', '', '', '', '')\n",
      "4143 44TH ST SAN DIEGO 92105 apartments\n",
      "('', '', '', '', '', '')\n",
      "1518 THOMAS AVE SAN DIEGO 92109 apartments\n",
      "('', '', '', '', '', '')\n",
      "0 TWIN OAKS VALLEY RD SAN MARCOS 92069 apartments\n",
      "('', '', '', '', '', '')\n",
      "1602 FORT STOCKTON DR SAN DIEGO 92103 apartments\n",
      "('', '', '', '', '', '')\n",
      "626 E 16TH ST NATIONAL CITY 91950 apartments\n",
      "('', '', '', '', '', '')\n",
      "229 LANDIS AVE CHULA VISTA 91910 apartments\n",
      "('', '', '', '', '', '')\n",
      "570 GRAPE ST EL CAJON 92021 apartments\n",
      "('', '', '', '', '', '')\n",
      "7785 MISSION GORGE RD SAN DIEGO 92120 apartments\n",
      "('(619) 780-0199', '', '', '7785 Mission Gorge Rd', 'San Diego', 'CA 92120')\n",
      "3101 REYNARD WAY SAN DIEGO 92103 apartments\n",
      "('', '', '', '', '', '')\n",
      "3565 VAN DYKE AVE SAN DIEGO 92105 apartments\n",
      "('', '', '', '', '', '')\n",
      "1915 4TH AVE SAN DIEGO 92101 apartments\n",
      "('', '', '', '', '', '')\n",
      "4629 ARIZONA ST SAN DIEGO 92116 apartments\n",
      "('', '', '', '', '', '')\n",
      "715 MISSION GROVE PL ESCONDIDO 92025 apartments\n",
      "('', '', '', '', '', '')\n",
      "4331 SWIFT AVE SAN DIEGO 92104 apartments\n",
      "('', '', '', '', '', '')\n",
      "323 ROOSEVELT ST CHULA VISTA 91910 apartments\n",
      "('', '', '', '', '', '')\n",
      "1605 PUTERBAUGH ST SAN DIEGO 92103 apartments\n",
      "('', '', '', '', '', '')\n",
      "3911 DOVE ST SAN DIEGO 92103 apartments\n",
      "('', '', '', '', '', '')\n",
      "545 PARK WAY CHULA VISTA 91910 apartments\n",
      "('', '', '', '', '', '')\n",
      "4021 LAMONT ST SAN DIEGO 92109 apartments\n",
      "('', '', '', '', '', '')\n",
      "1722 NATIONAL AVE SAN DIEGO 92113 apartments\n",
      "('', '', '', '', '', '')\n",
      "514 PEPPER DR EL CAJON 92021 apartments\n",
      "('', '', '', '', '', '')\n",
      "1343 GROVE AVE IMPERIAL BEACH 91932 apartments\n",
      "('', '', '', '', '', '')\n",
      "4251 EUCLID AVE SAN DIEGO 92115 apartments\n",
      "('', '', '', '', '', '')\n",
      "2105 BRANT ST SAN DIEGO 92101 apartments\n",
      "('', '', '', '', '', '')\n",
      "4350 MENTONE ST SAN DIEGO 92107 apartments\n",
      "('', '', '', '', '', '')\n",
      "1400 FLAME TREE LN CARLSBAD 92011 apartments\n",
      "('', '', '', '', '', '')\n",
      "120 5TH AVE CHULA VISTA 91910 apartments\n",
      "('', '', '', '', '', '')\n",
      "928 N FIG ST ESCONDIDO 92026 apartments\n",
      "('', '', '', '', '', '')\n",
      "318 TREMONT ST CHULA VISTA 91911 apartments\n",
      "('', '', '', '', '', '')\n",
      "4138 HILLDALE RD SAN DIEGO 92116 apartments\n",
      "('', '', '', '', '', '')\n",
      "3235 ARMSTRONG ST SAN DIEGO 92111 apartments\n",
      "('(858) 279-6186', '', '', '3235 Armstrong St', 'San Diego', 'CA 92111')\n",
      "5128 STERLING CT SAN DIEGO 92105 apartments\n",
      "('', '', '', '', '', '')\n",
      "4349 OHIO ST SAN DIEGO 92104 apartments\n",
      "('', '', '', '', '', '')\n",
      "8956 HARNESS ST SPRING VALLEY 91977 apartments\n",
      "('(619) 870-1459', '', '', '8956 Harness St', 'Spring Valley', 'CA 91977')\n",
      "715 TORRANCE ST SAN DIEGO 92103 apartments\n",
      "('', '', '', '', '', '')\n",
      "3973 NATIONAL AVE SAN DIEGO 92113 apartments\n",
      "('', '', '', '', '', '')\n",
      "2215 S LANOITAN AVE NATIONAL CITY 91950 apartments\n",
      "('', '', '', '', '', '')\n",
      "4598 39TH ST SAN DIEGO 92116 apartments\n",
      "('', '', '', '', '', '')\n",
      "4080 LAMONT ST SAN DIEGO 92109 apartments\n",
      "('', '', '', '', '', '')\n",
      "3717 VAN DYKE AVE SAN DIEGO 92105 apartments\n",
      "('', '', '', '', '', '')\n",
      "4560 ZION AVE SAN DIEGO 92120 apartments\n",
      "('', '', '', '', '', '')\n",
      "4153 WILSON AVE SAN DIEGO 92104 apartments\n",
      "('(858) 967-7330', '', '', '4740 Wilson Ave', 'San Diego', 'CA 92116')\n",
      "11203 PASEO MONTANOSO SAN DIEGO 92127 apartments\n",
      "('(858) 672-0057', '', '', '11203 Paseo Montanoso', 'San Diego', 'CA 92127')\n",
      "3250 MISSION BLVD SAN DIEGO 92109 apartments\n",
      "('', '', '', '', '', '')\n",
      "322 W 13TH AVE ESCONDIDO 92025 apartments\n",
      "('', '', '', '', '', '')\n",
      "671 SEA VALE ST CHULA VISTA 91910 apartments\n",
      "('', '', '', '', '', '')\n",
      "154 DAISY AVE IMPERIAL BEACH 91932 apartments\n",
      "('', '', '', '', '', '')\n",
      "266 LANDIS AVE CHULA VISTA 91910 apartments\n",
      "('', '', '', '', '', '')\n",
      "9045 KENWOOD DR SPRING VALLEY 91977 apartments\n",
      "('', '', '', '', '', '')\n",
      "1641 BORDEN RD ESCONDIDO 92026 apartments\n",
      "('(760) 480-7300', '', '', '1641 Borden Rd', 'Escondido', 'CA 92026')\n",
      "735 EL CAJON BLVD EL CAJON 92020 apartments\n",
      "('', '', '', '', '', '')\n",
      "4675 BANCROFT ST SAN DIEGO 92116 apartments\n",
      "('', '', '', '', '', '')\n",
      "12560 LAUREL ST LAKESIDE 92040 apartments\n",
      "('', '', '', '', '', '')\n",
      "4318 ESTRELLA AVE SAN DIEGO 92115 apartments\n",
      "('', '', '', '', '', '')\n",
      "4566 OHIO ST SAN DIEGO 92116 apartments\n",
      "('', '', '', '', '', '')\n",
      "4532 CAMPUS AVE SAN DIEGO 92116 apartments\n",
      "('', '', '', '', '', '')\n",
      "2345 GROVE AVE SAN DIEGO 92154 apartments\n",
      "('(619) 423-3779', '', '', '2345 Grove Ave', 'San Diego', 'CA 92154')\n",
      "4457 ILLINOIS ST SAN DIEGO 92116 apartments\n",
      "('', '', '', '', '', '')\n",
      "817 S PACIFIC ST OCEANSIDE 92054 apartments\n",
      "('', '', '', '', '', '')\n",
      "1818 6TH AVE SAN DIEGO 92101 apartments\n",
      "('', '', '', '', '', '')\n",
      "918 MAIN ST RAMONA 92065 apartments\n",
      "('', '', '', '', '', '')\n",
      "750 AGATE ST SAN DIEGO 92109 apartments\n",
      "('', '', '', '', '', '')\n",
      "4771 JESSIE AVE LA MESA 91942 apartments\n",
      "('', '', '', '', '', '')\n",
      "3525 REYNARD WAY SAN DIEGO 92103 apartments\n",
      "('', '', '', '', '', '')\n",
      "2449 A ST SAN DIEGO 92102 apartments\n",
      "('', '', '', '', '', '')\n",
      "1236 D ST RAMONA 92065 apartments\n",
      "('', '', '', '', '', '')\n",
      "2100 HOOVER AVE NATIONAL CITY 91950 apartments\n",
      "('', '', '', '', '', '')\n",
      "2902 30TH ST SAN DIEGO 92104 apartments\n",
      "('', '', '', '', '', '')\n",
      "4488 EUCLID AVE SAN DIEGO 92115 apartments\n",
      "('', '', '', '', '', '')\n",
      "4453 NORTH AVE SAN DIEGO 92116 apartments\n",
      "('', '', '', '', '', '')\n",
      "4178 VAN DYKE AVE SAN DIEGO 92105 apartments\n",
      "('', '', '', '', '', '')\n",
      "6317 IMPERIAL AVE SAN DIEGO 92114 apartments\n",
      "('', '', '', '', '', '')\n",
      "330 K ST CHULA VISTA 91911 apartments\n",
      "('(619) 420-1244', '', '', '330 K St', 'Chula Vista', 'CA 91911')\n",
      "3109 DICKENS ST SAN DIEGO 92106 apartments\n",
      "('', '', '', '', '', '')\n",
      "3936 GEORGIA ST SAN DIEGO 92103 apartments\n",
      "('', '', '', '', '', '')\n",
      "4030 39TH ST SAN DIEGO 92105 apartments\n",
      "('', '', '', '', '', '')\n",
      "2260 WATSON WAY VISTA 92083 apartments\n",
      "('', '', '', '', '', '')\n",
      "4427 NORTH AVE SAN DIEGO 92116 apartments\n",
      "('', '', '', '', '', '')\n",
      "3779 CENTRE ST SAN DIEGO 92103 apartments\n",
      "('', '', '', '', '', '')\n",
      "4544 HAMILTON ST SAN DIEGO 92116 apartments\n",
      "('', '', '', '', '', '')\n",
      "1168 SUMNER AVE EL CAJON 92021 apartments\n",
      "('', '', '', '', '', '')\n",
      "145 W CLEMMENS LN FALLBROOK 92028 apartments\n",
      "('(760) 731-6432', '', '', '145 W Clemmens Ln # 10', 'Fallbrook', 'CA 92028')\n",
      "0 BROADWAY ESCONDIDO 92026 apartments\n",
      "('', '', '', '', '', '')\n",
      "949 DIAMOND ST SAN DIEGO 92109 apartments\n",
      "('', '', '', '', '', '')\n",
      "3934 BANCROFT ST SAN DIEGO 92104 apartments\n",
      "('', '', '', '', '', '')\n",
      "2942 BAKER PL NATIONAL CITY 91950 apartments\n",
      "('', '', '', '', '', '')\n",
      "3274 MAIN ST LEMON GROVE 91945 apartments\n",
      "('', '', '', '', '', '')\n",
      "9718 CHANNEL RD LAKESIDE 92040 apartments\n",
      "('(619) 443-7006', '', '', '9718 Channel Rd # 43', 'Lakeside', 'CA 92040')\n",
      "13010 RANCHO PENASQUITOS BLVD SAN DIEGO 92129 apartments\n",
      "('', '', '', '', '', '')\n",
      "2158 FELSPAR ST SAN DIEGO 92109 apartments\n",
      "('', '', '', '', '', '')\n",
      "806 SURFRIDER WAY OCEANSIDE 92054 apartments\n",
      "('', '', '', '', '', '')\n",
      "2129 EL CAJON BLVD SAN DIEGO 92104 apartments\n",
      "('', '', '', '', '', '')\n",
      "103 NATIONAL CITY BLVD NATIONAL CITY 91950 apartments\n",
      "('', '', '', '', '', '')\n",
      "230 E FALLBROOK ST FALLBROOK 92028 apartments\n",
      "('(760) 723-4606', '', '', '230 E Fallbrook St # 28', 'Fallbrook', 'CA 92028')\n",
      "2086 ABBOTT ST SAN DIEGO 92107 apartments\n",
      "('', '', '', '', '', '')\n",
      "4151 ARIZONA ST SAN DIEGO 92104 apartments\n",
      "('', '', '', '', '', '')\n",
      "4086 UTAH ST SAN DIEGO 92104 apartments\n",
      "('', '', '', '', '', '')\n",
      "1815 HANCOCK ST SAN DIEGO 92110 apartments\n",
      "('', '', '', '', '', '')\n",
      "4372 HOME AVE nan 92105 apartments\n",
      "('(619) 269-3008', '', '', '4372 Home Ave', 'San Diego', 'CA 92105')\n",
      "4038 TEXAS ST SAN DIEGO 92104 apartments\n",
      "('', '', '', '', '', '')\n",
      "4261 WINONA AVE SAN DIEGO 92115 apartments\n",
      "('(619) 563-5872', '', '', '3810 Winona Ave # 3810', 'San Diego', 'CA 92105')\n",
      "4526 ARIZONA ST SAN DIEGO 92116 apartments\n",
      "('', '', '', '', '', '')\n",
      "2642 44TH ST SAN DIEGO 92105 apartments\n",
      "('', '', '', '', '', '')\n",
      "3740 GOLDFINCH ST SAN DIEGO 92103 apartments\n",
      "('', '', '', '', '', '')\n",
      "4380 ARIZONA ST SAN DIEGO 92104 apartments\n",
      "('', '', '', '', '', '')\n",
      "2371 CARINGA WAY CARLSBAD 92009 apartments\n",
      "('', '', '', '', '', '')\n",
      "3292 MADISON ST CARLSBAD 92008 apartments\n",
      "('', '', '', '', '', '')\n",
      "345 E PARK AVE ESCONDIDO 92025 apartments\n",
      "('', '', '', '', '', '')\n",
      "4029 8TH AVE SAN DIEGO 92103 apartments\n",
      "('', '', '', '', '', '')\n",
      "3265 BUENA VISTA AVE LEMON GROVE 91945 apartments\n",
      "('', '', '', '', '', '')\n",
      "758 C AVE CORONADO 92118 apartments\n",
      "('', '', '', '', '', '')\n",
      "612 N FREEMAN ST OCEANSIDE 92054 apartments\n",
      "('', '', '', '', '', '')\n",
      "3087 B ST SAN DIEGO 92102 apartments\n",
      "('', '', '', '', '', '')\n",
      "2601 E PLAZA BLVD NATIONAL CITY 91950 apartments\n",
      "('', '', '', '', '', '')\n",
      "101 E 15TH AVE ESCONDIDO 92025 apartments\n",
      "('', '', '', '', '', '')\n",
      "3201 ANNRAE ST SAN DIEGO 92123 apartments\n",
      "('', '', '', '', '', '')\n",
      "4870 PESCADERO AVE SAN DIEGO 92107 apartments\n",
      "('', '', '', '', '', '')\n",
      "310 MARKET ST SAN DIEGO 92101 apartments\n",
      "('(619) 235-4433', '', '', '310 Market St', 'San Diego', 'CA 92101')\n",
      "4378 MARLBOROUGH AVE SAN DIEGO 92105 apartments\n",
      "('', '', '', '', '', '')\n",
      "2528 C ST SAN DIEGO 92102 apartments\n",
      "('', '', '', '', '', '')\n",
      "1569 SUNSET CLIFFS BLVD SAN DIEGO 92107 apartments\n",
      "('(619) 225-1260', '', '', '5050 Niagara Ave', 'San Diego', 'CA 92107')\n",
      "0 BROADWAY SAN DIEGO 92102 apartments\n",
      "('', '', '', '', '', '')\n",
      "4138 ILLINOIS ST SAN DIEGO 92104 apartments\n",
      "('', '', '', '', '', '')\n",
      "1939 MORENA BLVD SAN DIEGO 92110 apartments\n",
      "('', '', '', '', '', '')\n",
      "300 S HORNE ST OCEANSIDE 92054 apartments\n",
      "('', '', '', '', '', '')\n",
      "4027 34TH ST SAN DIEGO 92104 apartments\n",
      "('', '', '', '', '', '')\n",
      "225 TAFT AVE EL CAJON 92020 apartments\n",
      "('(619) 312-1651', '', '', '225 Taft Ave', 'El Cajon', 'CA 92020')\n",
      "4135 IDAHO ST SAN DIEGO 92104 apartments\n",
      "('', '', '', '', '', '')\n",
      "4377 IDAHO ST SAN DIEGO 92104 apartments\n",
      "('', '', '', '', '', '')\n",
      "618 M AVE NATIONAL CITY 91950 apartments\n",
      "('', '', '', '', '', '')\n",
      "3842 MENLO AVE SAN DIEGO 92105 apartments\n",
      "('', '', '', '', '', '')\n",
      "4333 35TH ST SAN DIEGO 92104 apartments\n",
      "('', '', '', '', '', '')\n",
      "4834 ART ST SAN DIEGO 92115 apartments\n",
      "('', '', '', '', '', '')\n",
      "3918 GRESHAM ST SAN DIEGO 92109 apartments\n",
      "('', '', '', '', '', '')\n",
      "4742 35TH ST SAN DIEGO 92116 apartments\n",
      "('', '', '', '', '', '')\n",
      "1061 E WASHINGTON AVE ESCONDIDO 92025 apartments\n",
      "('', '', '', '', '', '')\n",
      "5358 WIGHTMAN ST SAN DIEGO 92105 apartments\n",
      "('', '', '', '', '', '')\n",
      "3525 32ND ST SAN DIEGO 92104 apartments\n",
      "('', '', '', '', '', '')\n",
      "5060 MUIR AVE SAN DIEGO 92107 apartments\n",
      "('', '', '', '', '', '')\n",
      "3659 LEMONA AVE SAN DIEGO 92105 apartments\n",
      "('', '', '', '', '', '')\n",
      "2848 JEFFERSON ST CARLSBAD 92008 apartments\n",
      "('(760) 434-6026', '', '', '2848 Jefferson St', 'Carlsbad', 'CA 92008')\n",
      "4264 EUCLID AVE SAN DIEGO 92115 apartments\n",
      "('', '', '', '', '', '')\n",
      "564 ARIZONA ST CHULA VISTA 91911 apartments\n",
      "('', '', '', '', '', '')\n",
      "4914 67TH ST SAN DIEGO 92115 apartments\n",
      "('(858) 410-0041', '', '', '4881 Rolando Ct', 'San Diego', 'CA 92115')\n",
      "4258 47TH ST SAN DIEGO 92115 apartments\n",
      "('', '', '', '', '', '')\n",
      "5134 SARATOGA AVE SAN DIEGO 92107 apartments\n",
      "('', '', '', '', '', '')\n",
      "203 E 7TH ST NATIONAL CITY 91950 apartments\n",
      "('', '', '', '', '', '')\n",
      "4323 MISSION BAY DR SAN DIEGO 92109 apartments\n",
      "('', '', '', '', '', '')\n",
      "4330 ESTRELLA AVE SAN DIEGO 92115 apartments\n",
      "('', '', '', '', '', '')\n",
      "1901 CASSIA RD CARLSBAD 92011 apartments\n",
      "('(760) 388-9754', '', '', '1901 Cassia Rd', 'Carlsbad', 'CA 92011')\n",
      "1825 MADISON AVE SAN DIEGO 92116 apartments\n",
      "('', '', '', '', '', '')\n",
      "3784 EUCLID AVE SAN DIEGO 92105 apartments\n",
      "('', '', '', '', '', '')\n",
      "1057 MISSOURI ST SAN DIEGO 92109 apartments\n",
      "('', '', '', '', '', '')\n",
      "4559 CAMPUS AVE SAN DIEGO 92116 apartments\n",
      "('', '', '', '', '', '')\n",
      "4333 WINONA AVE SAN DIEGO 92115 apartments\n",
      "('', '', '', '', '', '')\n",
      "8378 UNIVERSITY AVE LA MESA 91942 apartments\n",
      "('', '', '', '', '', '')\n",
      "4853 JESSIE AVE LA MESA 91942 apartments\n",
      "('', '', '', '', '', '')\n",
      "625 VAN HOUTEN AVE EL CAJON 92020 apartments\n",
      "('', '', '', '', '', '')\n",
      "295 ACACIA AVE CARLSBAD 92008 apartments\n",
      "('', '', '', '', '', '')\n",
      "2758 BROADWAY SAN DIEGO 92102 apartments\n",
      "('', '', '', '', '', '')\n",
      "45 4TH AVE CHULA VISTA 91910 apartments\n",
      "('', '', '', '', '', '')\n",
      "1451 ELDER AVE SAN DIEGO 92154 apartments\n",
      "('', '', '', '', '', '')\n",
      "3960 KANSAS ST SAN DIEGO 92104 apartments\n",
      "('', '', '', '', '', '')\n",
      "106 GRAPE ST SAN DIEGO 92101 apartments\n",
      "('', '', '', '', '', '')\n",
      "1834 MISSION AVE SAN DIEGO 92116 apartments\n",
      "('', '', '', '', '', '')\n",
      "1415 D AVE NATIONAL CITY 91950 apartments\n",
      "('(619) 477-4716', '', '', '1317 D Ave', 'National City', 'CA 91950')\n",
      "1190 13TH ST IMPERIAL BEACH 91932 apartments\n",
      "('', '', '', '', '', '')\n",
      "5465 MARENGO AVE LA MESA 91942 apartments\n",
      "('', '', '', '', '', '')\n",
      "9430 WINTER GARDENS BLVD LAKESIDE 92040 apartments\n",
      "('(619) 938-0472', '', '', '9430 Winter Gardens Blvd', 'Lakeside', 'CA 92040')\n",
      "2449 SOTO ST SAN DIEGO 92107 apartments\n",
      "('(619) 224-1973', '', '', '2449 Soto St', 'San Diego', 'CA 92107')\n",
      "3000 E 8TH ST NATIONAL CITY 91950 apartments\n",
      "('', '', '', '', '', '')\n",
      "1225 3RD AVE CHULA VISTA 91911 apartments\n",
      "('', '', '', '', '', '')\n",
      "4857 W POINT LOMA BLVD SAN DIEGO 92107 apartments\n",
      "('', '', '', '', '', '')\n",
      "9859 DALE AVE SPRING VALLEY 91977 apartments\n",
      "('', '', '', '', '', '')\n",
      "3831 1ST AVE SAN DIEGO 92103 apartments\n",
      "('', '', '', '', '', '')\n",
      "3150 BANCROFT DR SPRING VALLEY 91977 apartments\n",
      "('', '', '', '', '', '')\n",
      "4238 36TH ST SAN DIEGO 92104 apartments\n",
      "('', '', '', '', '', '')\n",
      "4840 TALMADGE PARK ROW SAN DIEGO 92115 apartments\n",
      "('', '', '', '', '', '')\n",
      "1325 GROVE AVE IMPERIAL BEACH 91932 apartments\n",
      "('', '', '', '', '', '')\n",
      "1042 15TH ST SAN DIEGO 92154 apartments\n",
      "('', '', '', '', '', '')\n",
      "801 LIVERPOOL CT SAN DIEGO 92109 apartments\n",
      "('', '', '', '', '', '')\n",
      "4127 HAMILTON ST SAN DIEGO 92104 apartments\n",
      "('', '', '', '', '', '')\n",
      "1209 AZUSA ST SAN DIEGO 92110 apartments\n",
      "('', '', '', '', '', '')\n",
      "7232 EL CAJON BLVD SAN DIEGO 92115 apartments\n",
      "('', '', '', '', '', '')\n",
      "3239 FRANKLIN AVE SAN DIEGO 92113 apartments\n",
      "('', '', '', '', '', '')\n",
      "4145 ARIZONA ST SAN DIEGO 92104 apartments\n",
      "('', '', '', '', '', '')\n",
      "41 E 6TH ST NATIONAL CITY 91950 apartments\n",
      "('', '', '', '', '', '')\n",
      "454 REQUEZA ST ENCINITAS 92024 apartments\n",
      "('(760) 944-8532', '', '', '454 Requeza St', 'Encinitas', 'CA 92024')\n",
      "1821 E 17TH ST NATIONAL CITY 91950 apartments\n",
      "('', '', '', '', '', '')\n",
      "3046 HAWTHORN ST SAN DIEGO 92104 apartments\n",
      "('', '', '', '', '', '')\n",
      "3645 ARIZONA ST SAN DIEGO 92104 apartments\n",
      "('', '', '', '', '', '')\n",
      "4346 TEXAS ST SAN DIEGO 92104 apartments\n",
      "('', '', '', '', '', '')\n",
      "227 VIA PELICANO OCEANSIDE 92057 apartments\n",
      "('', '', '', '', '', '')\n",
      "2123 HONEY DR SAN DIEGO 92139 apartments\n",
      "('(619) 475-8371', '', '', '2145 Honey Dr', 'San Diego', 'CA 92139')\n",
      "4254 48TH ST SAN DIEGO 92115 apartments\n",
      "('', '', '', '', '', '')\n",
      "170 PHOEBE ST ENCINITAS 92024 apartments\n",
      "('', '', '', '', '', '')\n",
      "2930 BORREGO SPRINGS RD BORREGO SPRINGS 92004 apartments\n",
      "('', '', '', '', '', '')\n",
      "4159 KANSAS ST SAN DIEGO 92104 apartments\n",
      "('', '', '', '', '', '')\n",
      "1115 MISSOURI AVE OCEANSIDE 92054 apartments\n",
      "('', '', '', '', '', '')\n",
      "190 VIA PELICANO OCEANSIDE 92057 apartments\n",
      "('', '', '', '', '', '')\n",
      "5029 W POINT LOMA BLVD SAN DIEGO 92107 apartments\n",
      "('', '', '', '', '', '')\n",
      "116 PALM AVE NATIONAL CITY 91950 apartments\n",
      "('', '', '', '', '', '')\n",
      "1630 MOUNTAIN VIEW AVE OCEANSIDE 92054 apartments\n",
      "('', '', '', '', '', '')\n",
      "5417 LAKE MURRAY BLVD APT 8 LA MESA 91942 apartments\n",
      "('', '', '', '', '', '')\n",
      "1404 10TH ST CORONADO 92118 apartments\n",
      "('', '', '', '', '', '')\n",
      "125 PALMYRA DR VISTA 92083 apartments\n",
      "('', '', '', '', '', '')\n",
      "5441 LAKE MURRAY BLVD UNIT 16 LA MESA 91942 apartments\n",
      "('', '', '', '', '', '')\n",
      "1846 ISLAND AVE SAN DIEGO 92102 apartments\n",
      "('', '', '', '', '', '')\n",
      "10032 N MAGNOLIA AVE SANTEE 92071 apartments\n",
      "('(619) 449-6913', '', '', '10032 Magnolia Ave', 'Santee', 'CA 92071')\n",
      "4277 51ST ST SAN DIEGO 92115 apartments\n",
      "('', '', '', '', '', '')\n",
      "411 CHESTNUT AVE CARLSBAD 92008 apartments\n",
      "('', '', '', '', '', '')\n",
      "1022 CHALCEDONY ST SAN DIEGO 92109 apartments\n",
      "('', '', '', '', '', '')\n",
      "4066 CHAMOUNE AVE SAN DIEGO 92105 apartments\n",
      "('', '', '', '', '', '')\n",
      "5034 NIAGARA AVE SAN DIEGO 92107 apartments\n",
      "('', '', '', '', '', '')\n",
      "1101 E 9TH ST NATIONAL CITY 91950 apartments\n",
      "('', '', '', '', '', '')\n",
      "1121 GREENFIELD DR EL CAJON 92021 apartments\n",
      "('', '', '', '', '', '')\n",
      "2154 ADAMS AVE SAN DIEGO 92116 apartments\n",
      "('', '', '', '', '', '')\n",
      "4191 EUCLID AVE SAN DIEGO 92105 apartments\n",
      "('', '', '', '', '', '')\n",
      "11724 CARMEL CREEK RD SAN DIEGO 92130 apartments\n",
      "('(858) 205-6296', '', '', '11724 Carmel Creek Rd', 'San Diego', 'CA 92130')\n",
      "380 K ST CHULA VISTA 91911 apartments\n",
      "('', '', '', '', '', '')\n",
      "8515 SAN CARLOS DR SAN DIEGO 92119 apartments\n",
      "('', '', '', '', '', '')\n",
      "2901 BROADWAY SAN DIEGO 92102 apartments\n",
      "('', '', '', '', '', '')\n",
      "3466 DEL REY ST SAN DIEGO 92109 apartments\n",
      "('', '', '', '', '', '')\n",
      "5441 LAKE MURRAY BLVD UNIT 4 LA MESA 91942 apartments\n",
      "('', '', '', '', '', '')\n",
      "4217 EUCLID AVE SAN DIEGO 92115 apartments\n",
      "('', '', '', '', '', '')\n",
      "13409 MIDLAND RD POWAY 92064 apartments\n",
      "('(858) 375-5670', '', '', '13409 Midland Rd', 'Poway', 'CA 92064')\n",
      "2130 GRAND AVE SAN DIEGO 92109 apartments\n",
      "('', '', '', '', '', '')\n",
      "1234 DIVISION ST OCEANSIDE 92054 apartments\n",
      "('', '', '', '', '', '')\n",
      "215 D AVE CORONADO 92118 apartments\n",
      "('', '', '', '', '', '')\n",
      "4685 ARIZONA ST SAN DIEGO 92116 apartments\n",
      "('', '', '', '', '', '')\n",
      "2651 J ST SAN DIEGO 92102 apartments\n",
      "('', '', '', '', '', '')\n",
      "5728 BATES ST SAN DIEGO 92115 apartments\n",
      "('', '', '', '', '', '')\n",
      "1650 EMERALD ST SAN DIEGO 92109 apartments\n",
      "('', '', '', '', '', '')\n",
      "4728 LAMONT ST SAN DIEGO 92109 apartments\n",
      "('', '', '', '', '', '')\n",
      "112 E PARK AVE SAN YSIDRO 92173 apartments\n",
      "('', '', '', '', '', '')\n",
      "754 WEATHER VANE DR BORREGO SPRINGS 92004 apartments\n",
      "('', '', '', '', '', '')\n",
      "615 ANITA ST CHULA VISTA 91911 apartments\n",
      "('', '', '', '', '', '')\n",
      "3937 TEXAS ST SAN DIEGO 92104 apartments\n",
      "('', '', '', '', '', '')\n",
      "4380 VAN DYKE AVE SAN DIEGO 92105 apartments\n",
      "('', '', '', '', '', '')\n",
      "4162 VAN DYKE AVE SAN DIEGO 92105 apartments\n",
      "('', '', '', '', '', '')\n",
      "1726 UPAS ST SAN DIEGO 92103 apartments\n",
      "('', '', '', '', '', '')\n",
      "428 W MISSION RD SAN MARCOS 92069 apartments\n",
      "('(760) 471-4867', '', '', '432 W Mission Rd #106', 'San Marcos', 'CA 92069')\n",
      "209 S HORNE ST OCEANSIDE 92054 apartments\n",
      "('', '', '', '', '', '')\n",
      "4044 KANSAS ST SAN DIEGO 92104 apartments\n",
      "('', '', '', '', '', '')\n",
      "2787 E ST SAN DIEGO 92102 apartments\n",
      "('', '', '', '', '', '')\n",
      "1140 GRAND AVE SAN DIEGO 92109 apartments\n",
      "('', '', '', '', '', '')\n",
      "1727 CHALCEDONY ST SAN DIEGO 92109 apartments\n",
      "('', '', '', '', '', '')\n",
      "331 E WASHINGTON AVE ESCONDIDO 92025 apartments\n",
      "('', '', '', '', '', '')\n",
      "225 N MOLLISON AVE EL CAJON 92021 apartments\n",
      "('(619) 441-0407', '', '', '225 N Mollison Ave', 'El Cajon', 'CA 92021')\n",
      "2510 W RANCH ST CARLSBAD 92010 apartments\n",
      "('(760) 434-2440', '', '', '2510 W Ranch St', 'Carlsbad', 'CA 92010')\n",
      "2221 ABBOTT ST SAN DIEGO 92107 apartments\n",
      "('', '', '', '', '', '')\n",
      "3025 NEWELL ST SAN DIEGO 92106 apartments\n",
      "('', '', '', '', '', '')\n",
      "1452 GRAND AVE SAN DIEGO 92109 apartments\n",
      "('', '', '', '', '', '')\n",
      "573 EMERALD AVE EL CAJON 92020 apartments\n",
      "('', '', '', '', '', '')\n",
      "4357 49TH ST SAN DIEGO 92115 apartments\n",
      "('', '', '', '', '', '')\n",
      "4137 ALABAMA ST SAN DIEGO 92104 apartments\n",
      "('', '', '', '', '', '')\n",
      "3622 42ND ST SAN DIEGO 92105 apartments\n",
      "('', '', '', '', '', '')\n",
      "3350 HARDING ST CARLSBAD 92008 apartments\n",
      "('', '', '', '', '', '')\n",
      "4121 KENDALL ST SAN DIEGO 92109 apartments\n",
      "('', '', '', '', '', '')\n",
      "1440 S 40TH ST SAN DIEGO 92113 apartments\n",
      "('(619) 264-0334', '', '', '1436 S 40th St', 'San Diego', 'CA 92113')\n",
      "218 S MYERS ST OCEANSIDE 92054 apartments\n",
      "('', '', '', '', '', '')\n",
      "4719 KANSAS ST SAN DIEGO 92116 apartments\n",
      "('', '', '', '', '', '')\n",
      "3510 INDIANA ST SAN DIEGO 92103 apartments\n",
      "('', '', '', '', '', '')\n",
      "340 AVOCADO AVE EL CAJON 92020 apartments\n",
      "('', '', '', '', '', '')\n",
      "4744 70TH ST LA MESA 91942 apartments\n",
      "('', '', '', '', '', '')\n",
      "590 12TH ST IMPERIAL BEACH 91932 apartments\n",
      "('', '', '', '', '', '')\n",
      "5804 ASCOT ST SAN DIEGO 92115 apartments\n",
      "('', '', '', '', '', '')\n",
      "10504 CAMINITO ALVAREZ SAN DIEGO 92126 apartments\n",
      "('', '', '', '', '', '')\n",
      "392 SYCAMORE RD SAN YSIDRO 92173 apartments\n",
      "('', '', '', '', '', '')\n",
      "5145 CEDARWOOD RD BONITA 91902 apartments\n",
      "('', '', '', '', '', '')\n",
      "2186 MONTGOMERY AVE CARDIFF 92007 apartments\n",
      "('(760) 943-7368', '', '', '2170 Carol View Dr', 'Cardiff', 'CA 92007')\n",
      "4103 54TH PL SAN DIEGO 92105 apartments\n",
      "('(619) 432-4811', '', '', '4103 54th Pl', 'San Diego', 'CA 92105')\n",
      "3058 IVY ST SAN DIEGO 92104 apartments\n",
      "('', '', '', '', '', '')\n",
      "2089 BURROUGHS ST SAN DIEGO 92111 apartments\n",
      "('', '', '', '', '', '')\n",
      "2924 F ST SAN DIEGO 92102 apartments\n",
      "('', '', '', '', '', '')\n",
      "4074 SWIFT AVE SAN DIEGO 92104 apartments\n",
      "('', '', '', '', '', '')\n",
      "4761 WIGHTMAN ST SAN DIEGO 92105 apartments\n",
      "('', '', '', '', '', '')\n",
      "500 TOWNSITE DR VISTA 92084 apartments\n",
      "('(760) 941-2675', '', '', '510 Townsite Dr', 'Vista', 'CA 92084')\n",
      "3016 QUINCE ST SAN DIEGO 92104 apartments\n",
      "('', '', '', '', '', '')\n",
      "1807 ALVARADO ST OCEANSIDE 92054 apartments\n",
      "('', '', '', '', '', '')\n",
      "4054 CHAMOUNE AVE SAN DIEGO 92105 apartments\n",
      "('', '', '', '', '', '')\n",
      "244 H ST CHULA VISTA 91910 apartments\n",
      "('', '', '', '', '', '')\n",
      "11921 CARMEL CREEK RD SAN DIEGO 92130 apartments\n",
      "('', '', '', '', '', '')\n",
      "1224 PENNSYLVANIA AVE SAN DIEGO 92103 apartments\n",
      "('', '', '', '', '', '')\n",
      "673 65TH ST SAN DIEGO 92114 apartments\n",
      "('', '', '', '', '', '')\n",
      "221 DAVIDSON ST CHULA VISTA 91910 apartments\n",
      "('', '', '', '', '', '')\n",
      "535 GLOVER AVE CHULA VISTA 91910 apartments\n",
      "('', '', '', '', '', '')\n",
      "2616 HIGHLAND AVE SAN DIEGO 92105 apartments\n",
      "('', '', '', '', '', '')\n",
      "2700 CHATHAM ST EL CAJON 92020 apartments\n",
      "('', '', '', '', '', '')\n",
      "1948 EMERALD ST SAN DIEGO 92109 apartments\n",
      "('', '', '', '', '', '')\n",
      "4184 OREGON ST SAN DIEGO 92104 apartments\n",
      "('', '', '', '', '', '')\n",
      "4190 ALTADENA AVE SAN DIEGO 92105 apartments\n",
      "('', '', '', '', '', '')\n",
      "3508 COLLEGE AVE SAN DIEGO 92115 apartments\n",
      "('', '', '', '', '', '')\n",
      "3010 COWLEY WAY SAN DIEGO 92117 apartments\n",
      "('(619) 276-3222', '', '', '3020 Cowley Way', 'San Diego', 'CA 92117')\n",
      "175 CEDAR RD VISTA 92083 apartments\n",
      "('', '', '', '', '', '')\n",
      "649 S LINCOLN AVE EL CAJON 92020 apartments\n",
      "('(619) 442-9149', '', '', '649 S Lincoln Ave # 33', 'El Cajon', 'CA 92020')\n",
      "1026 MANCHESTER ST NATIONAL CITY 91950 apartments\n",
      "('', '', '', '', '', '')\n",
      "3710 YOSEMITE ST SAN DIEGO 92109 apartments\n",
      "('', '', '', '', '', '')\n",
      "1600 RIVA LN ESCONDIDO 92027 apartments\n",
      "('(760) 741-3195', '', '', '1680 Riva Ln', 'Escondido', 'CA 92027')\n",
      "636 W CALIFORNIA AVE VISTA 92083 apartments\n",
      "('(760) 643-9442', '', '', '636 W California Ave', 'Vista', 'CA 92083')\n",
      "441 GRANT ST OCEANSIDE 92054 apartments\n",
      "('(760) 359-8005', '', '', '415 Grant St Suite 900', 'Oceanside', 'CA 92054')\n",
      "4227 WIGHTMAN ST SAN DIEGO 92105 apartments\n",
      "('', '', '', '', '', '')\n",
      "610 W COUNTRY CLUB LN ESCONDIDO 92026 apartments\n",
      "('(760) 747-4702', '', '', '610 W Country Club Ln # 93', 'Escondido', 'CA 92026')\n",
      "1053 BROADWAY CHULA VISTA 91911 apartments\n",
      "('(619) 476-0980', '', '', '1053 Broadway', 'Chula Vista', 'CA 91911')\n",
      "4250 WILSON AVE SAN DIEGO 92104 apartments\n",
      "('', '', '', '', '', '')\n",
      "3045 L ST SAN DIEGO 92102 apartments\n",
      "('', '', '', '', '', '')\n",
      "4245 CLEVELAND AVE SAN DIEGO 92103 apartments\n",
      "('', '', '', '', '', '')\n",
      "2138 THOMAS AVE SAN DIEGO 92109 apartments\n",
      "('', '', '', '', '', '')\n",
      "770 S MAGNOLIA AVE EL CAJON 92020 apartments\n",
      "('', '', '', '', '', '')\n",
      "2619 C ST SAN DIEGO 92102 apartments\n",
      "('', '', '', '', '', '')\n",
      "6627 LA JOLLA BLVD LA JOLLA 92037 apartments\n",
      "('', '', '', '', '', '')\n",
      "315 PLAYA DEL SUR LA JOLLA 92037 apartments\n",
      "('', '', '', '', '', '')\n",
      "4673 VOLTAIRE ST SAN DIEGO 92107 apartments\n",
      "('', '', '', '', '', '')\n",
      "430 JAMACHA RD EL CAJON 92019 apartments\n",
      "('', '', '', '', '', '')\n",
      "4305 JUNIPER ST SAN DIEGO 92105 apartments\n",
      "('', '', '', '', '', '')\n",
      "948 E CHASE AVE EL CAJON 92020 apartments\n",
      "('', '', '', '', '', '')\n",
      "2300 RISING GLEN WAY CARLSBAD 92008 apartments\n",
      "('(855) 331-8214', '', '', '2300 Rising Glen Way', 'Carlsbad', 'CA 92008')\n",
      "555 NAPLES ST CHULA VISTA 91911 apartments\n",
      "('(619) 427-7373', '', '', '555 Naples St #1108', 'Chula Vista', 'CA 91911')\n",
      "384 PALA VISTA DR VISTA 92083 apartments\n",
      "('', '', '', '', '', '')\n",
      "2034 JULIAN AVE SAN DIEGO 92113 apartments\n",
      "('', '', '', '', '', '')\n",
      "3565 1ST AVE SAN DIEGO 92103 apartments\n",
      "('', '', '', '', '', '')\n",
      "1827 REED AVE SAN DIEGO 92109 apartments\n",
      "('', '', '', '', '', '')\n",
      "4482 ALABAMA ST SAN DIEGO 92116 apartments\n",
      "('', '', '', '', '', '')\n",
      "5310 CLAIREMONT MESA BLVD SAN DIEGO 92117 apartments\n",
      "('', '', '', '', '', '')\n",
      "212 GARRETT AVE CHULA VISTA 91910 apartments\n",
      "('', '', '', '', '', '')\n",
      "3419 VALLEY RD BONITA 91902 apartments\n",
      "('', '', '', '', '', '')\n",
      "3919 MISSISSIPPI ST SAN DIEGO 92104 apartments\n",
      "('', '', '', '', '', '')\n",
      "4679 UNIVERSITY AVE SAN DIEGO 92105 apartments\n",
      "('', '', '', '', '', '')\n",
      "4474 HAMILTON ST SAN DIEGO 92116 apartments\n",
      "('', '', '', '', '', '')\n",
      "3495 GARFIELD ST CARLSBAD 92008 apartments\n",
      "('', '', '', '', '', '')\n",
      "4273 MENLO AVE SAN DIEGO 92115 apartments\n",
      "('', '', '', '', '', '')\n",
      "4275 35TH ST SAN DIEGO 92104 apartments\n",
      "('', '', '', '', '', '')\n",
      "4386 ALABAMA ST SAN DIEGO 92104 apartments\n",
      "('', '', '', '', '', '')\n",
      "4130 38TH ST SAN DIEGO 92105 apartments\n",
      "('', '', '', '', '', '')\n",
      "9360 SAN DIEGO ST SPRING VALLEY 91977 apartments\n",
      "('', '', '', '', '', '')\n",
      "4006 INGRAHAM ST SAN DIEGO 92109 apartments\n",
      "('', '', '', '', '', '')\n",
      "3261 MARTIN AVE SAN DIEGO 92113 apartments\n",
      "('', '', '', '', '', '')\n",
      "7482 MOHAWK ST LA MESA 91942 apartments\n",
      "('(619) 460-7822', '', '', '7482 Mohawk St', 'La Mesa', 'CA 91942')\n",
      "4526 HAWLEY BLVD SAN DIEGO 92116 apartments\n",
      "('', '', '', '', '', '')\n",
      "4881 70TH ST SAN DIEGO 92115 apartments\n",
      "('', '', '', '', '', '')\n",
      "5420 55TH ST SAN DIEGO 92115 apartments\n",
      "('(619) 287-6456', '', '', '5420 55th St', 'San Diego', 'CA 92115')\n",
      "807 W PALM AVE EL CAJON 92020 apartments\n",
      "('', '', '', '', '', '')\n",
      "8072 FAIRVIEW AVE LA MESA 91941 apartments\n",
      "('', '', '', '', '', '')\n",
      "3675 ARNOLD AVE SAN DIEGO 92104 apartments\n",
      "('', '', '', '', '', '')\n",
      "5418 IMPERIAL AVE SAN DIEGO 92114 apartments\n",
      "('', '', '', '', '', '')\n",
      "1475 OAK DR VISTA 92084 apartments\n",
      "('', '', '', '', '', '')\n",
      "3662 32ND ST SAN DIEGO 92104 apartments\n",
      "('', '', '', '', '', '')\n",
      "2206 ADAMS AVE SAN DIEGO 92116 apartments\n",
      "('', '', '', '', '', '')\n",
      "2673 A ST SAN DIEGO 92102 apartments\n",
      "('', '', '', '', '', '')\n",
      "4688 39TH ST SAN DIEGO 92116 apartments\n",
      "('', '', '', '', '', '')\n",
      "5350 TOSCANA WAY SAN DIEGO 92122 apartments\n",
      "('', '', '', '', '', '')\n",
      "918 E 5TH ST NATIONAL CITY 91950 apartments\n",
      "('', '', '', '', '', '')\n",
      "4140 WILSON AVE SAN DIEGO 92104 apartments\n",
      "('', '', '', '', '', '')\n",
      "2313 E BEYER BLVD SAN YSIDRO 92173 apartments\n",
      "('', '', '', '', '', '')\n",
      "5240 FIORE TER SAN DIEGO 92122 apartments\n",
      "('', '', '', '', '', '')\n",
      "3748 10TH AVE SAN DIEGO 92103 apartments\n",
      "('', '', '', '', '', '')\n",
      "3082 E ST SAN DIEGO 92102 apartments\n",
      "('', '', '', '', '', '')\n",
      "6520 KELLY ST SAN DIEGO 92111 apartments\n",
      "('', '', '', '', '', '')\n",
      "4045 MARLBOROUGH AVE SAN DIEGO 92105 apartments\n",
      "('', '', '', '', '', '')\n",
      "322 S ANZA ST EL CAJON 92020 apartments\n",
      "('', '', '', '', '', '')\n",
      "1422 HOLLY AVE IMPERIAL BEACH 91932 apartments\n",
      "('', '', '', '', '', '')\n",
      "1775 ORO VISTA RD SAN DIEGO 92154 apartments\n",
      "('', '', '', '', '', '')\n",
      "647 SAN DIEGUITO DR ENCINITAS 92024 apartments\n",
      "('', '', '', '', '', '')\n",
      "993 N VULCAN AVE ENCINITAS 92024 apartments\n",
      "('', '', '', '', '', '')\n",
      "2065 SAN DIEGO AVE SAN DIEGO 92110 apartments\n",
      "('', '', '', '', '', '')\n",
      "6701 KELLY ST SAN DIEGO 92111 apartments\n",
      "('', '', '', '', '', '')\n",
      "6572 TAIT ST SAN DIEGO 92111 apartments\n",
      "('', '', '', '', '', '')\n",
      "4874 ORCHARD AVE SAN DIEGO 92107 apartments\n",
      "('', '', '', '', '', '')\n",
      "4338 CAMPUS AVE SAN DIEGO 92103 apartments\n",
      "('', '', '', '', '', '')\n",
      "475 GRAVES AVE EL CAJON 92020 apartments\n",
      "('', '', '', '', '', '')\n",
      "101 S HORNE ST OCEANSIDE 92054 apartments\n",
      "('', '', '', '', '', '')\n",
      "333 IMPERIAL BEACH BLVD IMPERIAL BEACH 91932 apartments\n",
      "('', '', '', '', '', '')\n",
      "4354 38TH ST SAN DIEGO 92105 apartments\n",
      "('', '', '', '', '', '')\n",
      "1346 GRAND AVE SAN DIEGO 92109 apartments\n",
      "('', '', '', '', '', '')\n",
      "4110 32ND ST SAN DIEGO 92104 apartments\n",
      "('', '', '', '', '', '')\n",
      "5042 SARATOGA AVE SAN DIEGO 92107 apartments\n",
      "('', '', '', '', '', '')\n",
      "5429 LAKE MURRAY BLVD UNIT 6 LA MESA 91942 apartments\n",
      "('', '', '', '', '', '')\n",
      "551 D ST CHULA VISTA 91910 apartments\n",
      "('', '', '', '', '', '')\n",
      "1301 S 45TH ST SAN DIEGO 92113 apartments\n",
      "('', '', '', '', '', '')\n",
      "4074 34TH ST SAN DIEGO 92104 apartments\n",
      "('', '', '', '', '', '')\n",
      "2454 ADAMS AVE SAN DIEGO 92116 apartments\n",
      "('', '', '', '', '', '')\n",
      "1050 HORNBLEND ST SAN DIEGO 92109 apartments\n",
      "('', '', '', '', '', '')\n",
      "3878 VAN DYKE AVE SAN DIEGO 92105 apartments\n",
      "('', '', '', '', '', '')\n",
      "635 CHAMBERLAIN AVE EL CAJON 92020 apartments\n",
      "('', '', '', '', '', '')\n",
      "3985 HAMILTON ST SAN DIEGO 92104 apartments\n",
      "('', '', '', '', '', '')\n",
      "2051 BACON ST SAN DIEGO 92107 apartments\n",
      "('', '', '', '', '', '')\n",
      "4174 30TH ST SAN DIEGO 92104 apartments\n",
      "('', '', '', '', '', '')\n",
      "3100 OCEAN ST CARLSBAD 92008 apartments\n",
      "('', '', '', '', '', '')\n",
      "157 W OLIVE DR SAN YSIDRO 92173 apartments\n",
      "('', '', '', '', '', '')\n",
      "510 STRATFORD CT DEL MAR 92014 apartments\n",
      "('', '', '', '', '', '')\n",
      "1477 BROADWAY EL CAJON 92021 apartments\n",
      "('', '', '', '', '', '')\n",
      "1739 THOMAS AVE SAN DIEGO 92109 apartments\n",
      "('', '', '', '', '', '')\n",
      "4037 WINONA AVE SAN DIEGO 92105 apartments\n",
      "('', '', '', '', '', '')\n",
      "9138 WINTER GARDENS BLVD LAKESIDE 92040 apartments\n",
      "('', '', '', '', '', '')\n",
      "8850 TECH WAY SAN DIEGO 92123 apartments\n",
      "('', '', '', '', '', '')\n",
      "1419 TOBIAS DR CHULA VISTA 91911 apartments\n",
      "('', '', '', '', '', '')\n",
      "2666 BOSTON AVE SAN DIEGO 92113 apartments\n",
      "('', '', '', '', '', '')\n",
      "3835 SWIFT AVE SAN DIEGO 92104 apartments\n",
      "('(619) 563-1257', '', '', '3835 Swift Ave', 'San Diego', 'CA 92104')\n",
      "157 DAISY AVE IMPERIAL BEACH 91932 apartments\n",
      "('', '', '', '', '', '')\n",
      "4346 KANSAS ST SAN DIEGO 92104 apartments\n",
      "('', '', '', '', '', '')\n",
      "4401 MISSION AVE OCEANSIDE 92057 apartments\n",
      "('(760) 428-1814', '', '', '4401 Mission Ave', 'Oceanside', 'CA 92057')\n",
      "1926 FORTUNA AVE SAN DIEGO 92109 apartments\n",
      "('', '', '', '', '', '')\n",
      "3674 VILLA TER SAN DIEGO 92104 apartments\n",
      "('', '', '', '', '', '')\n",
      "1621 S MYERS ST OCEANSIDE 92054 apartments\n",
      "('', '', '', '', '', '')\n",
      "2870 BROADWAY SAN DIEGO 92102 apartments\n",
      "('', '', '', '', '', '')\n",
      "2809 JARVIS ST SAN DIEGO 92106 apartments\n",
      "('', '', '', '', '', '')\n",
      "902 MARINER ST CARLSBAD 92011 apartments\n",
      "('', '', '', '', '', '')\n",
      "4850 NARRAGANSETT AVE SAN DIEGO 92107 apartments\n",
      "('', '', '', '', '', '')\n",
      "4481 NORTH AVE SAN DIEGO 92116 apartments\n",
      "('', '', '', '', '', '')\n",
      "4048 48TH ST SAN DIEGO 92105 apartments\n",
      "('', '', '', '', '', '')\n",
      "12323 OLD POMERADO RD POWAY 92064 apartments\n",
      "('', '', '', '', '', '')\n",
      "2030 CABLE ST SAN DIEGO 92107 apartments\n",
      "('', '', '', '', '', '')\n",
      "730 CAMINO DEL RIO N SAN DIEGO 92108 apartments\n",
      "('', '', '', '', '', '')\n",
      "4546 ILLINOIS ST SAN DIEGO 92116 apartments\n",
      "('', '', '', '', '', '')\n",
      "1080 S MOLLISON AVE EL CAJON 92020 apartments\n",
      "('', '', '', '', '', '')\n",
      "3541 KENORA DR SPRING VALLEY 91977 apartments\n",
      "('(619) 698-3557', '', '', '3541 Kenora Dr', 'Spring Valley', 'CA 91977')\n",
      "4055 SEQUOIA ST SAN DIEGO 92109 apartments\n",
      "('', '', '', '', '', '')\n",
      "3606 STATE ST SAN DIEGO 92103 apartments\n",
      "('', '', '', '', '', '')\n",
      "1307 S 45TH ST SAN DIEGO 92113 apartments\n",
      "('', '', '', '', '', '')\n",
      "408 EMERALD AVE EL CAJON 92020 apartments\n",
      "('', '', '', '', '', '')\n",
      "4055 UTAH ST SAN DIEGO 92104 apartments\n",
      "('', '', '', '', '', '')\n",
      "2049 OLIVER AVE SAN DIEGO 92109 apartments\n",
      "('', '', '', '', '', '')\n",
      "4670 TALMADGE CANYON ROW SAN DIEGO 92115 apartments\n",
      "('(619) 284-5285', '', '', '4850 Talmadge Park Row', 'San Diego', 'CA 92115')\n",
      "2602 WANEK RD ESCONDIDO 92027 apartments\n",
      "('', '', '', '', '', '')\n",
      "724 W UPAS ST SAN DIEGO 92103 apartments\n",
      "('', '', '', '', '', '')\n",
      "4530 CHEROKEE AVE SAN DIEGO 92116 apartments\n",
      "('', '', '', '', '', '')\n",
      "205 LAUREL ST SAN DIEGO 92101 apartments\n",
      "('', '', '', '', '', '')\n",
      "663 EUCALYPTUS AVE VISTA 92084 apartments\n",
      "('', '', '', '', '', '')\n",
      "4478 UTAH ST SAN DIEGO 92116 apartments\n",
      "('', '', '', '', '', '')\n",
      "4009 HONEYCUTT ST SAN DIEGO 92109 apartments\n",
      "('', '', '', '', '', '')\n",
      "3142 NATIONAL AVE SAN DIEGO 92113 apartments\n",
      "('', '', '', '', '', '')\n",
      "1518 SAMS HILL RD EL CAJON 92021 apartments\n",
      "('(619) 449-5153', '', '', '1518 Sams Hill Rd', 'El Cajon', 'CA 92021')\n",
      "3776 HERMAN AVE SAN DIEGO 92104 apartments\n",
      "('(619) 281-1360', '', '', '3776 Herman Ave', 'San Diego', 'CA 92104')\n",
      "220 S NEVADA ST OCEANSIDE 92054 apartments\n",
      "('', '', '', '', '', '')\n",
      "302 THORN ST SAN DIEGO 92103 apartments\n",
      "('', '', '', '', '', '')\n",
      "4165 42ND ST SAN DIEGO 92105 apartments\n",
      "('', '', '', '', '', '')\n",
      "1005 ARMORLITE DR SAN MARCOS 92069 apartments\n",
      "('', '', '', '', '', '')\n",
      "1306 14TH ST IMPERIAL BEACH 91932 apartments\n",
      "('', '', '', '', '', '')\n",
      "4125 UTAH ST SAN DIEGO 92104 apartments\n",
      "('', '', '', '', '', '')\n",
      "3377 RUFFIN RD SAN DIEGO 92123 apartments\n",
      "('', '', '', '', '', '')\n",
      "1222 HERMES AVE ENCINITAS 92024 apartments\n",
      "('', '', '', '', '', '')\n",
      "4049 ILLINOIS ST SAN DIEGO 92104 apartments\n",
      "('', '', '', '', '', '')\n",
      "3172 1ST AVE SAN DIEGO 92103 apartments\n",
      "('', '', '', '', '', '')\n",
      "701 SILVER ST LA JOLLA 92037 apartments\n",
      "('', '', '', '', '', '')\n",
      "4131 VAN DYKE AVE SAN DIEGO 92105 apartments\n",
      "('', '', '', '', '', '')\n",
      "5150 BALBOA ARMS DR SAN DIEGO 92117 apartments\n",
      "('(858) 571-0104', '', '', '5150 Balboa Arms Dr', 'San Diego', 'CA 92117')\n",
      "4767 34TH ST SAN DIEGO 92116 apartments\n",
      "('', '', '', '', '', '')\n",
      "4051 42ND ST SAN DIEGO 92105 apartments\n",
      "('', '', '', '', '', '')\n",
      "3265 C ST SAN DIEGO 92102 apartments\n",
      "('', '', '', '', '', '')\n",
      "4480 49TH ST SAN DIEGO 92115 apartments\n",
      "('', '', '', '', '', '')\n",
      "3201 30TH ST SAN DIEGO 92104 apartments\n",
      "('', '', '', '', '', '')\n",
      "5429 LAKE MURRAY BLVD UNIT 1 LA MESA 91942 apartments\n",
      "('', '', '', '', '', '')\n",
      "3855 38TH ST SAN DIEGO 92105 apartments\n",
      "('', '', '', '', '', '')\n",
      "951 N VULCAN AVE ENCINITAS 92024 apartments\n",
      "('', '', '', '', '', '')\n",
      "367 EMERALD AVE EL CAJON 92020 apartments\n",
      "('', '', '', '', '', '')\n",
      "1461 MISSOURI ST SAN DIEGO 92109 apartments\n",
      "('', '', '', '', '', '')\n",
      "1111 OLD STAGE RD FALLBROOK 92028 apartments\n",
      "('', '', '', '', '', '')\n",
      "1210 S VINE ST FALLBROOK 92028 apartments\n",
      "('', '', '', '', '', '')\n",
      "3037 FRANKLIN AVE SAN DIEGO 92113 apartments\n",
      "('', '', '', '', '', '')\n",
      "535 G ST CHULA VISTA 91910 apartments\n",
      "('', '', '', '', '', '')\n",
      "4560 ALABAMA ST SAN DIEGO 92116 apartments\n",
      "('', '', '', '', '', '')\n",
      "3626 44TH ST SAN DIEGO 92105 apartments\n",
      "('', '', '', '', '', '')\n",
      "971 D AVE CORONADO 92118 apartments\n",
      "('', '', '', '', '', '')\n",
      "4251 JUNIPER ST SAN DIEGO 92105 apartments\n",
      "('(619) 263-1933', '', '', '4259 Juniper St #40', 'San Diego', 'CA 92105')\n",
      "3987 ARIZONA ST SAN DIEGO 92104 apartments\n",
      "('', '', '', '', '', '')\n",
      "760 GRAND AVE SAN DIEGO 92109 apartments\n",
      "('', '', '', '', '', '')\n",
      "3942 HAMILTON ST SAN DIEGO 92104 apartments\n",
      "('', '', '', '', '', '')\n",
      "4825 ORCHARD AVE SAN DIEGO 92107 apartments\n",
      "('', '', '', '', '', '')\n",
      "1941 COLUMBIA ST SAN DIEGO 92101 apartments\n",
      "('(619) 995-2559', '', '', '1941 Columbia St', 'San Diego', 'CA 92101')\n",
      "4656 KANSAS ST SAN DIEGO 92116 apartments\n",
      "('', '', '', '', '', '')\n",
      "1299 LINCOLN AVE SAN DIEGO 92103 apartments\n",
      "('', '', '', '', '', '')\n",
      "3804 PERSHING AVE SAN DIEGO 92104 apartments\n",
      "('', '', '', '', '', '')\n",
      "4669 36TH ST SAN DIEGO 92116 apartments\n",
      "('', '', '', '', '', '')\n",
      "312 S DITMAR ST OCEANSIDE 92054 apartments\n",
      "('', '', '', '', '', '')\n",
      "1770 EVERGREEN ST SAN DIEGO 92106 apartments\n",
      "('(619) 324-9055', '', '', '1770 Evergreen St', 'San Diego', 'CA 92106')\n",
      "4153 FLORIDA ST SAN DIEGO 92104 apartments\n",
      "('', '', '', '', '', '')\n",
      "4843 NIAGARA AVE SAN DIEGO 92107 apartments\n",
      "('', '', '', '', '', '')\n",
      "734 ALTA VISTA DR VISTA 92084 apartments\n",
      "('(760) 726-5544', '', '', '700 Alta Vista Dr', 'Vista', 'CA 92084')\n",
      "7163 CENTRAL AVE LEMON GROVE 91945 apartments\n",
      "('', '', '', '', '', '')\n",
      "4638 MISSISSIPPI ST SAN DIEGO 92116 apartments\n",
      "('', '', '', '', '', '')\n",
      "3702 MONROE AVE SAN DIEGO 92116 apartments\n",
      "('', '', '', '', '', '')\n",
      "3051 54TH STREET nan 92105 apartments\n",
      "('', '', '', '', '', '')\n",
      "2828 BROADWAY SAN DIEGO 92102 apartments\n",
      "('', '', '', '', '', '')\n",
      "353 DOMINGUEZ WAY EL CAJON 92021 apartments\n",
      "('', '', '', '', '', '')\n",
      "4530 CLAIREMONT DR SAN DIEGO 92117 apartments\n",
      "('', '', '', '', '', '')\n",
      "4822 CYPRESS ST LA MESA 91942 apartments\n",
      "('', '', '', '', '', '')\n",
      "1140 N MOLLISON AVE EL CAJON 92021 apartments\n",
      "('', '', '', '', '', '')\n",
      "7455 FAY AVE LA JOLLA 92037 apartments\n",
      "('', '', '', '', '', '')\n",
      "2012 BROADWAY SAN DIEGO 92102 apartments\n",
      "('', '', '', '', '', '')\n",
      "4275 CHAMOUNE AVE SAN DIEGO 92115 apartments\n",
      "('', '', '', '', '', '')\n",
      "317 S MYERS ST OCEANSIDE 92054 apartments\n",
      "('', '', '', '', '', '')\n",
      "2202 MORLEY ST SAN DIEGO 92111 apartments\n",
      "('', '', '', '', '', '')\n",
      "1770 FAIRLEAD AVE CARLSBAD 92011 apartments\n",
      "('(760) 929-7555', '', '', '6421 Tobria Terrace', 'Carlsbad', 'CA 92011')\n",
      "1474 HEMLOCK AVE IMPERIAL BEACH 91932 apartments\n",
      "('', '', '', '', '', '')\n",
      "2930 FLETCHER PKWY EL CAJON 92020 apartments\n",
      "('', '', '', '', '', '')\n",
      "1073 ESTES ST EL CAJON 92020 apartments\n",
      "('', '', '', '', '', '')\n",
      "2112 BALBOA AVE SAN DIEGO 92109 apartments\n",
      "('', '', '', '', '', '')\n",
      "3736 ARNOLD AVE SAN DIEGO 92104 apartments\n",
      "('', '', '', '', '', '')\n",
      "3639 S BONITA ST SPRING VALLEY 91977 apartments\n",
      "('', '', '', '', '', '')\n",
      "115 E 4TH ST NATIONAL CITY 91950 apartments\n",
      "('', '', '', '', '', '')\n",
      "7441 LA JOLLA BLVD LA JOLLA 92037 apartments\n",
      "('', '', '', '', '', '')\n",
      "4455 CLEVELAND AVE SAN DIEGO 92116 apartments\n",
      "('', '', '', '', '', '')\n",
      "8058 GOLDEN AVE LEMON GROVE 91945 apartments\n",
      "('', '', '', '', '', '')\n",
      "1200 PASEO MAGDA CHULA VISTA 91910 apartments\n",
      "('', '', '', '', '', '')\n",
      "5313 MEADE AVE SAN DIEGO 92115 apartments\n",
      "('', '', '', '', '', '')\n",
      "111 W PENNSYLVANIA AVE SAN DIEGO 92103 apartments\n",
      "('(619) 432-4279', '', '', '111 Pennsylvania Ave', 'San Diego', 'CA 92103')\n",
      "707 EATON ST OCEANSIDE 92054 apartments\n",
      "('', '', '', '', '', '')\n",
      "4690 W POINT LOMA BLVD SAN DIEGO 92107 apartments\n",
      "('', '', '', '', '', '')\n",
      "4741 CLAIREMONT MESA BLVD SAN DIEGO 92117 apartments\n",
      "('', '', '', '', '', '')\n",
      "933 PEACH AVE EL CAJON 92021 apartments\n",
      "('(619) 330-1233', '', '', '933 Peach Ave', 'El Cajon', 'CA 92021')\n",
      "5667 MONTEZUMA RD SAN DIEGO 92115 apartments\n",
      "('', '', '', '', '', '')\n",
      "10009 RIO SAN DIEGO DR SAN DIEGO 92108 apartments\n",
      "('', '', '', '', '', '')\n",
      "4656 EDGEWARE RD SAN DIEGO 92116 apartments\n",
      "('', '', '', '', '', '')\n",
      "4267 COPELAND AVE SAN DIEGO 92105 apartments\n",
      "('', '', '', '', '', '')\n",
      "315 WALNUT AVE CARLSBAD 92008 apartments\n",
      "('(760) 729-2155', '', '', '315 Walnut Ave', 'Carlsbad', 'CA 92008')\n",
      "3020 OCEANSIDE BLVD OCEANSIDE 92054 apartments\n",
      "('(480) 757-9716', '', '', '3020 Oceanside Blvd', 'Oceanside', 'CA 92054')\n",
      "1829 CHALCEDONY ST SAN DIEGO 92109 apartments\n",
      "('', '', '', '', '', '')\n",
      "4178 ILLINOIS ST SAN DIEGO 92104 apartments\n",
      "('', '', '', '', '', '')\n",
      "4179 CHAMOUNE AVE SAN DIEGO 92105 apartments\n",
      "('', '', '', '', '', '')\n",
      "1012 FERN AVE IMPERIAL BEACH 91932 apartments\n",
      "('', '', '', '', '', '')\n",
      "2931 MISSION BLVD SAN DIEGO 92109 apartments\n",
      "('', '', '', '', '', '')\n",
      "331 N 1ST ST EL CAJON 92021 apartments\n",
      "('', '', '', '', '', '')\n",
      "5315 REPECHO DR SAN DIEGO 92124 apartments\n",
      "('', '', '', '', '', '')\n",
      "812 TOURMALINE ST SAN DIEGO 92109 apartments\n",
      "('', '', '', '', '', '')\n",
      "943 E MADISON AVE EL CAJON 92021 apartments\n",
      "('', '', '', '', '', '')\n",
      "5439 LAKE MURRAY BLVD UNIT 1 LA MESA 91942 apartments\n",
      "('', '', '', '', '', '')\n",
      "4538 35TH ST SAN DIEGO 92116 apartments\n",
      "('', '', '', '', '', '')\n",
      "2611 CAMULOS ST SAN DIEGO 92107 apartments\n",
      "('', '', '', '', '', '')\n",
      "4063 ESTRELLA AVE SAN DIEGO 92105 apartments\n",
      "('', '', '', '', '', '')\n",
      "4488 37TH ST SAN DIEGO 92116 apartments\n",
      "('', '', '', '', '', '')\n",
      "3528 HERMAN AVE SAN DIEGO 92104 apartments\n",
      "('', '', '', '', '', '')\n",
      "528 S TULIP ST ESCONDIDO 92025 apartments\n",
      "('', '', '', '', '', '')\n",
      "1580 SHADOWRIDGE DR VISTA 92081 apartments\n",
      "('(760) 598-0988', '', '', '1580 Shadowridge Dr', 'Vista', 'CA 92081')\n",
      "4845 TALMADGE PARK ROW SAN DIEGO 92115 apartments\n",
      "('', '', '', '', '', '')\n",
      "505 KALMIA ST SAN DIEGO 92101 apartments\n",
      "('', '', '', '', '', '')\n",
      "1010 CLEARBROOK LN VISTA 92084 apartments\n",
      "('(760) 525-8233', '', '', '1001-1099 Clearbrook Ln', 'Vista', 'CA 92084')\n",
      "4175 HIGHLAND AVE SAN DIEGO 92105 apartments\n",
      "('', '', '', '', '', '')\n",
      "3035 LAWRENCE ST SAN DIEGO 92106 apartments\n",
      "('(619) 501-7960', '', '', '2930 Barnard St', 'San Diego', 'CA 92110')\n",
      "195 JOHNSTON LN SAN MARCOS 92069 apartments\n",
      "('', '', '', '', '', '')\n",
      "2145 SAN CLEMENTE ST SAN DIEGO 92107 apartments\n",
      "('', '', '', '', '', '')\n",
      "1984 HARRISON AVE SAN DIEGO 92113 apartments\n",
      "('', '', '', '', '', '')\n",
      "4316 DELTA ST SAN DIEGO 92113 apartments\n",
      "('', '', '', '', '', '')\n",
      "4825 DEL MAR AVE SAN DIEGO 92107 apartments\n",
      "('', '', '', '', '', '')\n",
      "4078 LOUISIANA ST SAN DIEGO 92104 apartments\n",
      "('', '', '', '', '', '')\n",
      "4423 MENLO AVE SAN DIEGO 92115 apartments\n",
      "('', '', '', '', '', '')\n",
      "130 CAMINO CORTO VISTA 92083 apartments\n",
      "('', '', '', '', '', '')\n",
      "4352 CLAIREMONT MESA BLVD SAN DIEGO 92117 apartments\n",
      "('', '', '', '', '', '')\n",
      "4167 TEXAS ST SAN DIEGO 92104 apartments\n",
      "('', '', '', '', '', '')\n",
      "204 CLARK ST ESCONDIDO 92025 apartments\n",
      "('', '', '', '', '', '')\n",
      "130 14TH ST RAMONA 92065 apartments\n",
      "('', '', '', '', '', '')\n",
      "4768 ARIZONA ST SAN DIEGO 92116 apartments\n",
      "('', '', '', '', '', '')\n",
      "4922 SANTA CRUZ AVE SAN DIEGO 92107 apartments\n",
      "('', '', '', '', '', '')\n",
      "712 7TH ST CORONADO 92118 apartments\n",
      "('', '', '', '', '', '')\n",
      "922 TORRANCE ST SAN DIEGO 92103 apartments\n",
      "('', '', '', '', '', '')\n",
      "2887 MAIN ST CHULA VISTA 91911 apartments\n",
      "('', '', '', '', '', '')\n",
      "402 PARK WAY CHULA VISTA 91910 apartments\n",
      "('', '', '', '', '', '')\n",
      "4330 52ND ST SAN DIEGO 92115 apartments\n",
      "('', '', '', '', '', '')\n",
      "4232 44TH ST SAN DIEGO 92115 apartments\n",
      "('', '', '', '', '', '')\n",
      "4233 EUCLID AVE SAN DIEGO 92115 apartments\n",
      "('', '', '', '', '', '')\n",
      "3833 ESTRELLA AVE SAN DIEGO 92105 apartments\n",
      "('', '', '', '', '', '')\n",
      "155 E EAST DR VISTA 92084 apartments\n",
      "('', '', '', '', '', '')\n",
      "690 BEARDSLEY ST SAN DIEGO 92113 apartments\n",
      "('', '', '', '', '', '')\n",
      "3354 32ND ST SAN DIEGO 92104 apartments\n",
      "('', '', '', '', '', '')\n",
      "1224 28TH ST SAN DIEGO 92102 apartments\n",
      "('', '', '', '', '', '')\n",
      "4460 CLEVELAND AVE SAN DIEGO 92116 apartments\n",
      "('', '', '', '', '', '')\n",
      "1047 SEACOAST DR IMPERIAL BEACH 91932 apartments\n",
      "('', '', '', '', '', '')\n",
      "4676 W POINT LOMA BLVD SAN DIEGO 92107 apartments\n",
      "('', '', '', '', '', '')\n",
      "927 LESLIE RD EL CAJON 92020 apartments\n",
      "('', '', '', '', '', '')\n",
      "2010 BACON ST SAN DIEGO 92107 apartments\n",
      "('', '', '', '', '', '')\n",
      "4763 33RD ST SAN DIEGO 92116 apartments\n",
      "('', '', '', '', '', '')\n",
      "921 W 15TH AVE ESCONDIDO 92025 apartments\n",
      "('', '', '', '', '', '')\n",
      "4360 KANSAS ST SAN DIEGO 92104 apartments\n",
      "('', '', '', '', '', '')\n",
      "4283 46TH ST SAN DIEGO 92115 apartments\n",
      "('', '', '', '', '', '')\n",
      "1422 MARQUETTE ST OCEANSIDE 92058 apartments\n",
      "('', '', '', '', '', '')\n",
      "4122 39TH ST SAN DIEGO 92105 apartments\n",
      "('', '', '', '', '', '')\n",
      "4362 LOUISIANA ST SAN DIEGO 92104 apartments\n",
      "('', '', '', '', '', '')\n",
      "3926 MISSISSIPPI ST SAN DIEGO 92104 apartments\n",
      "('', '', '', '', '', '')\n",
      "2122 CABLE ST SAN DIEGO 92107 apartments\n",
      "('', '', '', '', '', '')\n",
      "843 4TH ST ENCINITAS 92024 apartments\n",
      "('', '', '', '', '', '')\n",
      "4336 IOWA ST SAN DIEGO 92104 apartments\n",
      "('', '', '', '', '', '')\n",
      "215 W 15TH AVE ESCONDIDO 92025 apartments\n",
      "('', '', '', '', '', '')\n",
      "4220 CAMPUS AVE SAN DIEGO 92103 apartments\n",
      "('', '', '', '', '', '')\n",
      "4621 32ND ST SAN DIEGO 92116 apartments\n",
      "('', '', '', '', '', '')\n",
      "344 PROSPECT ST LA JOLLA 92037 apartments\n",
      "('', '', '', '', '', '')\n",
      "42 WOODLAWN AVE CHULA VISTA 91910 apartments\n",
      "('', '', '', '', '', '')\n",
      "3875 VAN DYKE AVE SAN DIEGO 92105 apartments\n",
      "('', '', '', '', '', '')\n",
      "1681 COOLIDGE ST SAN DIEGO 92111 apartments\n",
      "('', '', '', '', '', '')\n",
      "230 GRAPEVINE RD VISTA 92083 apartments\n",
      "('', '', '', '', '', '')\n",
      "6222 BROOKLYN AVE SAN DIEGO 92114 apartments\n",
      "('', '', '', '', '', '')\n",
      "4020 TEXAS ST SAN DIEGO 92104 apartments\n",
      "('', '', '', '', '', '')\n",
      "4118 LOUISIANA ST SAN DIEGO 92104 apartments\n",
      "('', '', '', '', '', '')\n",
      "2825 CLAIREMONT DR SAN DIEGO 92117 apartments\n",
      "('', '', '', '', '', '')\n",
      "5810 KANTOR CT SAN DIEGO 92122 apartments\n",
      "('', '', '', '', '', '')\n",
      "325 S SANTA FE AVE VISTA 92083 apartments\n",
      "('(760) 295-5232', '', '', '325 S Santa Fe Ave', 'Vista', 'CA 92083')\n",
      "122 S ANZA ST EL CAJON 92020 apartments\n",
      "('', '', '', '', '', '')\n",
      "4705 FRAZEE RD OCEANSIDE 92057 apartments\n",
      "('', '', '', '', '', '')\n",
      "1194 TRENTON AVE CHULA VISTA 91911 apartments\n",
      "('', '', '', '', '', '')\n",
      "1251 SANTA CORA AVE CHULA VISTA 91913 apartments\n",
      "('(619) 216-8884', '', '', '1250 Santa Cora Ave', 'Chula Vista', 'CA 91913')\n",
      "4388 CLAIREMONT MESA BLVD SAN DIEGO 92117 apartments\n",
      "('', '', '', '', '', '')\n",
      "260 W PARK AVE EL CAJON 92020 apartments\n",
      "('', '', '', '', '', '')\n",
      "2150 THOMAS AVE SAN DIEGO 92109 apartments\n",
      "('', '', '', '', '', '')\n",
      "4542 KANSAS ST SAN DIEGO 92116 apartments\n",
      "('', '', '', '', '', '')\n",
      "225 E 1ST ST NATIONAL CITY 91950 apartments\n",
      "('', '', '', '', '', '')\n",
      "1722 FERN ST SAN DIEGO 92102 apartments\n",
      "('', '', '', '', '', '')\n",
      "1188 PERSIMMON AVE EL CAJON 92021 apartments\n",
      "('', '', '', '', '', '')\n",
      "1034 LAW ST SAN DIEGO 92109 apartments\n",
      "('', '', '', '', '', '')\n",
      "942 23RD ST SAN DIEGO 92102 apartments\n",
      "('', '', '', '', '', '')\n",
      "545 GREENBRIER DR OCEANSIDE 92054 apartments\n",
      "('', '', '', '', '', '')\n",
      "136 S TULIP ST ESCONDIDO 92025 apartments\n",
      "('', '', '', '', '', '')\n",
      "134 5TH AVE CHULA VISTA 91910 apartments\n",
      "('', '', '', '', '', '')\n",
      "4629 35TH ST SAN DIEGO 92116 apartments\n",
      "('', '', '', '', '', '')\n",
      "2949 CLAIREMONT DR SAN DIEGO 92117 apartments\n",
      "('', '', '', '', '', '')\n",
      "1147 GROVE AVE IMPERIAL BEACH 91932 apartments\n",
      "('', '', '', '', '', '')\n",
      "457 HENSON HEIGHTS DR SAN MARCOS 92069 apartments\n",
      "('', '', '', '', '', '')\n",
      "2031 CABLE ST SAN DIEGO 92107 apartments\n",
      "('', '', '', '', '', '')\n",
      "4141 34TH ST SAN DIEGO 92104 apartments\n",
      "('', '', '', '', '', '')\n",
      "2061 AVENIDA DEL MEXICO SAN DIEGO 92154 apartments\n",
      "('', '', '', '', '', '')\n",
      "3748 HAINES ST SAN DIEGO 92109 apartments\n",
      "('', '', '', '', '', '')\n",
      "3806 FAIRMOUNT AVE SAN DIEGO 92105 apartments\n",
      "('(619) 285-1225', '', '', '3806 Fairmount Ave', 'San Diego', 'CA 92105')\n",
      "1676 GRAND AVE SAN DIEGO 92109 apartments\n",
      "('', '', '', '', '', '')\n",
      "153 GLOVER AVE CHULA VISTA 91910 apartments\n",
      "('', '', '', '', '', '')\n",
      "201 SURFRIDER WAY OCEANSIDE 92054 apartments\n",
      "('', '', '', '', '', '')\n",
      "2805 BARNARD ST SAN DIEGO 92110 apartments\n",
      "('', '', '', '', '', '')\n",
      "3071 OCEAN VIEW BLVD SAN DIEGO 92113 apartments\n",
      "('', '', '', '', '', '')\n",
      "5125 CEDARWOOD RD BONITA 91902 apartments\n",
      "('(619) 775-4121', '', '', '5155 Cedarwood Rd', 'Bonita', 'CA 91902')\n",
      "5219 REX AVE SAN DIEGO 92105 apartments\n",
      "('', '', '', '', '', '')\n",
      "142 DAISY AVE IMPERIAL BEACH 91932 apartments\n",
      "('', '', '', '', '', '')\n",
      "4813 PARKS AVE LA MESA 91942 apartments\n",
      "('', '', '', '', '', '')\n",
      "11760 WESTVIEW PKWY SAN DIEGO 92126 apartments\n",
      "('(858) 935-8403', '', '', '11760 Westview Pkwy', 'San Diego', 'CA 92126')\n",
      "330 ROOSEVELT ST CHULA VISTA 91910 apartments\n",
      "('(619) 420-2459', '', '', '330 Roosevelt St', 'Chula Vista', 'CA 91910')\n",
      "4684 MISSISSIPPI ST SAN DIEGO 92116 apartments\n",
      "('', '', '', '', '', '')\n",
      "2101 L AVE NATIONAL CITY 91950 apartments\n",
      "('', '', '', '', '', '')\n",
      "310 S ANZA ST EL CAJON 92020 apartments\n",
      "('(619) 485-6306', '', '', '310 S Anza St', 'El Cajon', 'CA 92020')\n",
      "1023 BONITA DR ENCINITAS 92024 apartments\n",
      "('', '', '', '', '', '')\n",
      "4720 LOGAN AVE SAN DIEGO 92113 apartments\n",
      "('', '', '', '', '', '')\n",
      "4078 39TH ST SAN DIEGO 92105 apartments\n",
      "('', '', '', '', '', '')\n",
      "4334 51ST ST SAN DIEGO 92115 apartments\n",
      "('', '', '', '', '', '')\n",
      "5168 BRIGHTON AVE SAN DIEGO 92107 apartments\n",
      "('', '', '', '', '', '')\n",
      "3060 B ST SAN DIEGO 92102 apartments\n",
      "('', '', '', '', '', '')\n",
      "1337 HOLLY AVE IMPERIAL BEACH 91932 apartments\n",
      "('', '', '', '', '', '')\n",
      "2131 ALBATROSS ST SAN DIEGO 92101 apartments\n",
      "('', '', '', '', '', '')\n",
      "3202 30TH ST SAN DIEGO 92104 apartments\n",
      "('', '', '', '', '', '')\n",
      "1136 N ESCONDIDO BLVD ESCONDIDO 92026 apartments\n",
      "('', '', '', '', '', '')\n",
      "3912 SEQUOIA ST SAN DIEGO 92109 apartments\n",
      "('', '', '', '', '', '')\n",
      "4423 TEXAS ST SAN DIEGO 92116 apartments\n",
      "('', '', '', '', '', '')\n",
      "5439 LAKE MURRAY BLVD UNIT 15 LA MESA 91942 apartments\n",
      "('', '', '', '', '', '')\n",
      "2228 CHATSWORTH BLVD SAN DIEGO 92106 apartments\n",
      "('', '', '', '', '', '')\n",
      "3568 HARDING ST CARLSBAD 92008 apartments\n",
      "('(760) 678-7497', '', '', '3568 Harding St', 'Carlsbad', 'CA 92008')\n",
      "5848 STREAMVIEW DR SAN DIEGO 92105 apartments\n",
      "('', '', '', '', '', '')\n",
      "1020 DENNERY RD SAN DIEGO 92154 apartments\n",
      "('(619) 428-0888', '', '', '1100 Dennery Rd', 'San Diego', 'CA 92154')\n",
      "5014 LONG BRANCH AVE SAN DIEGO 92107 apartments\n",
      "('', '', '', '', '', '')\n",
      "4651 FLORIDA ST SAN DIEGO 92116 apartments\n",
      "('', '', '', '', '', '')\n",
      "2049 REED AVE SAN DIEGO 92109 apartments\n",
      "('', '', '', '', '', '')\n",
      "1422 HILLTOP DR CHULA VISTA 91911 apartments\n",
      "('', '', '', '', '', '')\n",
      "4480 51ST ST SAN DIEGO 92115 apartments\n",
      "('', '', '', '', '', '')\n",
      "1400 13TH ST IMPERIAL BEACH 91932 apartments\n",
      "('', '', '', '', '', '')\n",
      "8756 MIRA MESA BLVD SAN DIEGO 92126 apartments\n",
      "('', '', '', '', '', '')\n",
      "4523 34TH ST SAN DIEGO 92116 apartments\n",
      "('', '', '', '', '', '')\n",
      "4521 WILSON AVE SAN DIEGO 92116 apartments\n",
      "('(858) 967-7330', '', '', '4740 Wilson Ave', 'San Diego', 'CA 92116')\n",
      "1377 OAKDALE AVE EL CAJON 92021 apartments\n",
      "('', '', '', '', '', '')\n",
      "6052 KANTOR ST SAN DIEGO 92122 apartments\n",
      "('', '', '', '', '', '')\n",
      "1034 E GRAND AVE ESCONDIDO 92025 apartments\n",
      "('', '', '', '', '', '')\n",
      "12642 LAKESHORE DR LAKESIDE 92040 apartments\n",
      "('', '', '', '', '', '')\n",
      "3722 ALABAMA ST SAN DIEGO 92104 apartments\n",
      "('(619) 299-1699', '', '', '3722 Alabama St #102', 'San Diego', 'CA 92104')\n",
      "8105 LEMON AVE LA MESA 91941 apartments\n",
      "('', '', '', '', '', '')\n",
      "529 HART DR EL CAJON 92021 apartments\n",
      "('', '', '', '', '', '')\n",
      "501 RUSH DR SAN MARCOS 92078 apartments\n",
      "('(760) 471-6151', '', '', '523 Rush Dr', 'San Marcos', 'CA 92078')\n",
      "3366 6TH AVE SAN DIEGO 92103 apartments\n",
      "('', '', '', '', '', '')\n",
      "1723 DIAMOND ST SAN DIEGO 92109 apartments\n",
      "('', '', '', '', '', '')\n",
      "4753 W MOUNTAIN VIEW DR SAN DIEGO 92116 apartments\n",
      "('', '', '', '', '', '')\n",
      "5423 LAKE MURRAY BLVD APT 2 LA MESA 91942 apartments\n",
      "('', '', '', '', '', '')\n",
      "475 34TH ST SAN DIEGO 92102 apartments\n",
      "('', '', '', '', '', '')\n",
      "215 EATON WAY VISTA 92084 apartments\n",
      "('', '', '', '', '', '')\n",
      "3741 T ST SAN DIEGO 92113 apartments\n",
      "('', '', '', '', '', '')\n",
      "4501 LOGAN AVE SAN DIEGO 92113 apartments\n",
      "('', '', '', '', '', '')\n",
      "975 E WASHINGTON AVE EL CAJON 92020 apartments\n",
      "('', '', '', '', '', '')\n",
      "2151 CHATSWORTH BLVD SAN DIEGO 92107 apartments\n",
      "('', '', '', '', '', '')\n",
      "4213 50TH ST SAN DIEGO 92115 apartments\n",
      "('', '', '', '', '', '')\n",
      "4567 TEXAS ST SAN DIEGO 92116 apartments\n",
      "('', '', '', '', '', '')\n",
      "1003 E 9TH ST NATIONAL CITY 91950 apartments\n",
      "('', '', '', '', '', '')\n",
      "173 W SEAWARD AVE SAN YSIDRO 92173 apartments\n",
      "('', '', '', '', '', '')\n",
      "3981 IDAHO ST SAN DIEGO 92104 apartments\n",
      "('', '', '', '', '', '')\n",
      "2115 2ND AVE SAN DIEGO 92101 apartments\n",
      "('', '', '', '', '', '')\n",
      "449 D ST CHULA VISTA 91910 apartments\n",
      "('', '', '', '', '', '')\n",
      "4363 51ST ST SAN DIEGO 92115 apartments\n",
      "('', '', '', '', '', '')\n",
      "515 F AVE CORONADO 92118 apartments\n",
      "('', '', '', '', '', '')\n",
      "2717 G ST SAN DIEGO 92102 apartments\n",
      "('', '', '', '', '', '')\n",
      "508 N NEVADA ST OCEANSIDE 92054 apartments\n",
      "('(760) 433-8810', '', '', '508 N Nevada St', 'Oceanside', 'CA 92054')\n",
      "608 7TH ST IMPERIAL BEACH 91932 apartments\n",
      "('', '', '', '', '', '')\n",
      "4415 ROSEBUD LN LA MESA 91941 apartments\n",
      "('', '', '', '', '', '')\n",
      "1261 GRAND AVE SAN DIEGO 92109 apartments\n",
      "('', '', '', '', '', '')\n",
      "4530 OHIO ST SAN DIEGO 92116 apartments\n",
      "('', '', '', '', '', '')\n",
      "3965 NATIONAL AVE SAN DIEGO 92113 apartments\n",
      "('', '', '', '', '', '')\n",
      "3703 HAINES ST SAN DIEGO 92109 apartments\n",
      "('', '', '', '', '', '')\n",
      "2486 J ST SAN DIEGO 92102 apartments\n",
      "('', '', '', '', '', '')\n",
      "4385 ROSEBUD LN LA MESA 91941 apartments\n",
      "('', '', '', '', '', '')\n",
      "1139 19TH ST SAN DIEGO 92102 apartments\n",
      "('', '', '', '', '', '')\n",
      "142 E 31ST ST NATIONAL CITY 91950 apartments\n",
      "('(833) 990-0888', '', '', '142 E 31st St', 'National City', 'CA 91950')\n",
      "279 PADUA HILLS PL SAN YSIDRO 92173 apartments\n",
      "('', '', '', '', '', '')\n",
      "4265 34TH ST SAN DIEGO 92104 apartments\n",
      "('', '', '', '', '', '')\n",
      "4057 46TH ST SAN DIEGO 92105 apartments\n",
      "('', '', '', '', '', '')\n",
      "4847 CLAIREMONT MESA BLVD SAN DIEGO 92117 apartments\n",
      "('', '', '', '', '', '')\n",
      "1480 SANTA DIANA RD CHULA VISTA 91913 apartments\n",
      "('', '', '', '', '', '')\n",
      "3843 38TH ST SAN DIEGO 92105 apartments\n",
      "('', '', '', '', '', '')\n",
      "401 I AVE NATIONAL CITY 91950 apartments\n",
      "('', '', '', '', '', '')\n",
      "122 E PLAZA BLVD NATIONAL CITY 91950 apartments\n",
      "('', '', '', '', '', '')\n",
      "2340 JEFFERSON ST SAN DIEGO 92110 apartments\n",
      "('', '', '', '', '', '')\n",
      "0 JAMACHA RD SPRING VALLEY 91977 apartments\n",
      "('', '', '', '', '', '')\n",
      "3826 WINONA AVE SAN DIEGO 92105 apartments\n",
      "('', '', '', '', '', '')\n",
      "3316 HARDING ST CARLSBAD 92008 apartments\n",
      "('', '', '', '', '', '')\n",
      "569 BLACKSHAW LN SAN YSIDRO 92173 apartments\n",
      "('', '', '', '', '', '')\n",
      "3354 1ST AVE SAN DIEGO 92103 apartments\n",
      "('', '', '', '', '', '')\n",
      "735 FRANKLIN LN VISTA 92084 apartments\n",
      "('', '', '', '', '', '')\n",
      "1407 HEMLOCK AVE IMPERIAL BEACH 91932 apartments\n",
      "('', '', '', '', '', '')\n",
      "6555 LANSTON ST SAN DIEGO 92111 apartments\n",
      "('', '', '', '', '', '')\n",
      "304 N 1ST ST EL CAJON 92021 apartments\n",
      "('(619) 304-2778', '', '', '304 N 1st St', 'El Cajon', 'CA 92021')\n",
      "3617 30TH ST SAN DIEGO 92104 apartments\n",
      "('', '', '', '', '', '')\n",
      "10339 SAN DIEGO MISSION RD SAN DIEGO 92108 apartments\n",
      "('', '', '', '', '', '')\n",
      "5935 MILDRED ST SAN DIEGO 92110 apartments\n",
      "('', '', '', '', '', '')\n",
      "2178 ABBOTT ST SAN DIEGO 92107 apartments\n",
      "('', '', '', '', '', '')\n",
      "8940 JAMACHA RD SPRING VALLEY 91977 apartments\n",
      "('(619) 247-5027', '', '', '8940 Jamacha Rd', 'Spring Valley', 'CA 91977')\n",
      "525 VINE ST OCEANSIDE 92054 apartments\n",
      "('', '', '', '', '', '')\n",
      "931 22ND ST SAN DIEGO 92102 apartments\n",
      "('', '', '', '', '', '')\n",
      "2320 NEWTON AVE SAN DIEGO 92113 apartments\n",
      "('', '', '', '', '', '')\n",
      "251 W SAN MARCOS BLVD SAN MARCOS 92069 apartments\n",
      "('', '', '', '', '', '')\n",
      "835 27TH ST SAN DIEGO 92102 apartments\n",
      "('', '', '', '', '', '')\n",
      "4775 LAMONT ST SAN DIEGO 92109 apartments\n",
      "('', '', '', '', '', '')\n",
      "856 2ND ST IMPERIAL BEACH 91932 apartments\n",
      "('', '', '', '', '', '')\n",
      "1215 MITCHELL ST OCEANSIDE 92054 apartments\n",
      "('', '', '', '', '', '')\n",
      "1437 ESSEX ST SAN DIEGO 92103 apartments\n",
      "('', '', '', '', '', '')\n",
      "4433 MONTALVO ST SAN DIEGO 92107 apartments\n",
      "('', '', '', '', '', '')\n",
      "1915 2ND AVE SAN DIEGO 92101 apartments\n",
      "('', '', '', '', '', '')\n",
      "2035 CYPRESS AVE SAN DIEGO 92104 apartments\n",
      "('', '', '', '', '', '')\n",
      "5809 LINDO PASEO SAN DIEGO 92115 apartments\n",
      "('', '', '', '', '', '')\n",
      "3859 47TH ST SAN DIEGO 92105 apartments\n",
      "('', '', '', '', '', '')\n",
      "3830 35TH ST SAN DIEGO 92104 apartments\n",
      "('', '', '', '', '', '')\n",
      "4141 UTAH ST SAN DIEGO 92104 apartments\n",
      "('', '', '', '', '', '')\n",
      "4550 UTAH ST SAN DIEGO 92116 apartments\n",
      "('', '', '', '', '', '')\n",
      "4861 DEL MONTE AVE SAN DIEGO 92107 apartments\n",
      "('', '', '', '', '', '')\n",
      "740 GEORGIA ST IMPERIAL BEACH 91932 apartments\n",
      "('', '', '', '', '', '')\n",
      "640 3RD ST IMPERIAL BEACH 91932 apartments\n",
      "('', '', '', '', '', '')\n",
      "4080 KENDALL ST SAN DIEGO 92109 apartments\n",
      "('', '', '', '', '', '')\n",
      "1611 ORANGE PL ESCONDIDO 92025 apartments\n",
      "('', '', '', '', '', '')\n",
      "5143 BRIGHTON AVE SAN DIEGO 92107 apartments\n",
      "('', '', '', '', '', '')\n",
      "1220 W OLIVE ST SAN DIEGO 92101 apartments\n",
      "('', '', '', '', '', '')\n",
      "4435 OHIO ST SAN DIEGO 92116 apartments\n",
      "('', '', '', '', '', '')\n",
      "3756 FRONT ST SAN DIEGO 92103 apartments\n",
      "('', '', '', '', '', '')\n",
      "3136 GARRISON ST SAN DIEGO 92106 apartments\n",
      "('', '', '', '', '', '')\n",
      "1265 E GRAND AVE ESCONDIDO 92027 apartments\n",
      "('', '', '', '', '', '')\n",
      "4557 BANCROFT ST SAN DIEGO 92116 apartments\n",
      "('', '', '', '', '', '')\n",
      "4357 MISSISSIPPI ST SAN DIEGO 92104 apartments\n",
      "('', '', '', '', '', '')\n",
      "234 JAMACHA RD EL CAJON 92019 apartments\n",
      "('', '', '', '', '', '')\n",
      "3333 ROOSEVELT ST CARLSBAD 92008 apartments\n",
      "('', '', '', '', '', '')\n",
      "8515 CHLOE AVE LA MESA 91942 apartments\n",
      "('(619) 460-7955', '', '', '8515 Chloe Ave', 'La Mesa', 'CA 91942')\n",
      "1747 5TH AVE SAN DIEGO 92101 apartments\n",
      "('', '', '', '', '', '')\n",
      "12011 HEATHERTON CT SAN DIEGO 92128 apartments\n",
      "('', '', '', '', '', '')\n",
      "4290 SCHOOLRIDGE LN LA MESA 91941 apartments\n",
      "('', '', '', '', '', '')\n",
      "1874 TITUS ST SAN DIEGO 92110 apartments\n",
      "('', '', '', '', '', '')\n",
      "1933 L AVE NATIONAL CITY 91950 apartments\n",
      "('', '', '', '', '', '')\n",
      "3810 ADAMS AVE SAN DIEGO 92116 apartments\n",
      "('', '', '', '', '', '')\n",
      "1524 MISSOURI ST SAN DIEGO 92109 apartments\n",
      "('', '', '', '', '', '')\n",
      "9961 DOLORES ST SPRING VALLEY 91977 apartments\n",
      "('', '', '', '', '', '')\n",
      "4130 39TH ST SAN DIEGO 92105 apartments\n",
      "('', '', '', '', '', '')\n",
      "2020 ISLAND AVE SAN DIEGO 92102 apartments\n",
      "('', '', '', '', '', '')\n",
      "5010 KEENEY ST SAN DIEGO 92115 apartments\n",
      "('', '', '', '', '', '')\n",
      "3808 COTTONWOOD ST SAN DIEGO 92113 apartments\n",
      "('', '', '', '', '', '')\n",
      "4161 ARIZONA ST SAN DIEGO 92104 apartments\n",
      "('', '', '', '', '', '')\n",
      "2865 A ST SAN DIEGO 92102 apartments\n",
      "('', '', '', '', '', '')\n",
      "340 MARCOS ST SAN MARCOS 92069 apartments\n",
      "('(760) 744-2450', '', '', '339-340 Marcos St', 'San Marcos', 'CA 92069')\n",
      "4440 BOUNDARY ST SAN DIEGO 92116 apartments\n",
      "('', '', '', '', '', '')\n",
      "0 CIVIC CENTER DR POWAY 92064 apartments\n",
      "('', '', '', '', '', '')\n",
      "2815 CIELO CIRCULO CHULA VISTA 91915 apartments\n",
      "('', '', '', '', '', '')\n",
      "254 BONITA GLEN DR CHULA VISTA 91910 apartments\n",
      "('', '', '', '', '', '')\n",
      "2104 BACON ST SAN DIEGO 92107 apartments\n",
      "('', '', '', '', '', '')\n",
      "396 KOLMAR ST LA JOLLA 92037 apartments\n",
      "('', '', '', '', '', '')\n",
      "1922 3RD AVE SAN DIEGO 92101 apartments\n",
      "('', '', '', '', '', '')\n",
      "141 W OLIVE DR SAN YSIDRO 92173 apartments\n",
      "('', '', '', '', '', '')\n",
      "418 N HICKORY ST ESCONDIDO 92025 apartments\n",
      "('(760) 740-0082', '', '', '418 N Hickory St', 'Escondido', 'CA 92025')\n",
      "2689 REYNARD WAY SAN DIEGO 92103 apartments\n",
      "('', '', '', '', '', '')\n",
      "4036 KANSAS ST SAN DIEGO 92104 apartments\n",
      "('', '', '', '', '', '')\n",
      "1151 OLD STAGE RD FALLBROOK 92028 apartments\n",
      "('', '', '', '', '', '')\n",
      "3651 STRANDWAY SAN DIEGO 92109 apartments\n",
      "('', '', '', '', '', '')\n",
      "2980 MISSION BLVD SAN DIEGO 92109 apartments\n",
      "('', '', '', '', '', '')\n",
      "165 DAISY AVE IMPERIAL BEACH 91932 apartments\n",
      "('', '', '', '', '', '')\n",
      "3792 31ST ST SAN DIEGO 92104 apartments\n",
      "('(619) 640-3179', '', '', '3792 31st St', 'San Diego', 'CA 92104')\n",
      "239 G ST CHULA VISTA 91910 apartments\n",
      "('', '', '', '', '', '')\n",
      "541 W CALIFORNIA AVE VISTA 92083 apartments\n",
      "('', '', '', '', '', '')\n",
      "4434 49TH ST SAN DIEGO 92115 apartments\n",
      "('', '', '', '', '', '')\n",
      "1704 B AVE NATIONAL CITY 91950 apartments\n",
      "('', '', '', '', '', '')\n",
      "4251 MARLBOROUGH AVE SAN DIEGO 92105 apartments\n",
      "('', '', '', '', '', '')\n",
      "4455 52ND ST SAN DIEGO 92115 apartments\n",
      "('', '', '', '', '', '')\n",
      "2658 BROADWAY SAN DIEGO 92102 apartments\n",
      "('', '', '', '', '', '')\n",
      "3857 MARLBOROUGH AVE SAN DIEGO 92105 apartments\n",
      "('', '', '', '', '', '')\n",
      "3017 30TH ST SAN DIEGO 92104 apartments\n",
      "('', '', '', '', '', '')\n",
      "2918 LUCIERNAGA ST CARLSBAD 92009 apartments\n",
      "('(760) 931-9176', '', '', '2939 Unicornio St', 'Carlsbad', 'CA 92009')\n",
      "2234 NATIONAL AVE SAN DIEGO 92113 apartments\n",
      "('', '', '', '', '', '')\n",
      "4452 HIGHLAND AVE SAN DIEGO 92115 apartments\n",
      "('', '', '', '', '', '')\n",
      "2646 A ST SAN DIEGO 92102 apartments\n",
      "('', '', '', '', '', '')\n",
      "3969 NORMAL ST SAN DIEGO 92103 apartments\n",
      "('', '', '', '', '', '')\n",
      "3626 ALTADENA AVE SAN DIEGO 92105 apartments\n",
      "('', '', '', '', '', '')\n",
      "216 H ST CHULA VISTA 91910 apartments\n",
      "('(619) 476-0409', '', '', '210 H St', 'Chula Vista', 'CA 91910')\n",
      "585 E ST CHULA VISTA 91910 apartments\n",
      "('(619) 703-4875', '', '', '585 E St', 'Chula Vista', 'CA 91910')\n",
      "1419 MARSHALL RD ALPINE 91901 apartments\n",
      "('(619) 445-1341', '', '', '1829 Arnold Way', 'Alpine', 'CA 91901')\n",
      "804 S ORANGE AVE EL CAJON 92020 apartments\n",
      "('', '', '', '', '', '')\n",
      "8914 DELROSE AVE SPRING VALLEY 91977 apartments\n",
      "('(619) 644-1910', '', '', '8926 Delrose Ave #1', 'Spring Valley', 'CA 91977')\n",
      "169 GLOVER AVE CHULA VISTA 91910 apartments\n",
      "('', '', '', '', '', '')\n",
      "3830 CHAMOUNE AVE SAN DIEGO 92105 apartments\n",
      "('', '', '', '', '', '')\n",
      "4545 39TH ST SAN DIEGO 92116 apartments\n",
      "('', '', '', '', '', '')\n",
      "8040 LA JOLLA SHORES DR LA JOLLA 92037 apartments\n",
      "('', '', '', '', '', '')\n",
      "2034 CANYON DR OCEANSIDE 92054 apartments\n",
      "('', '', '', '', '', '')\n",
      "17 4TH AVE CHULA VISTA 91910 apartments\n",
      "('', '', '', '', '', '')\n",
      "119 BROADWAY CHULA VISTA 91910 apartments\n",
      "('', '', '', '', '', '')\n",
      "653 SEA VALE ST CHULA VISTA 91910 apartments\n",
      "('', '', '', '', '', '')\n",
      "1820 MELROSE DR SAN MARCOS 92078 apartments\n",
      "('(760) 798-7500', '', '', '1820 Melrose Dr', 'San Marcos', 'CA 92078')\n",
      "5074 MADISON AVE SAN DIEGO 92115 apartments\n",
      "('', '', '', '', '', '')\n",
      "2418 A ST SAN DIEGO 92102 apartments\n",
      "('', '', '', '', '', '')\n",
      "2038 REED AVE SAN DIEGO 92109 apartments\n",
      "('', '', '', '', '', '')\n",
      "1534 DIAMOND ST SAN DIEGO 92109 apartments\n",
      "('', '', '', '', '', '')\n",
      "8832 OLIVE LN SANTEE 92071 apartments\n",
      "('', '', '', '', '', '')\n",
      "4073 CHAMOUNE AVE SAN DIEGO 92105 apartments\n",
      "('', '', '', '', '', '')\n",
      "12979 COMMUNITY RD POWAY 92064 apartments\n",
      "('(858) 486-7285', '', '', '12979 Community Rd', 'Poway', 'CA 92064')\n",
      "920 F AVE CORONADO 92118 apartments\n",
      "('', '', '', '', '', '')\n",
      "4369 53RD ST SAN DIEGO 92115 apartments\n",
      "('', '', '', '', '', '')\n",
      "501 S FREEMAN ST OCEANSIDE 92054 apartments\n",
      "('', '', '', '', '', '')\n",
      "3633 COLUMBIA ST SAN DIEGO 92103 apartments\n",
      "('', '', '', '', '', '')\n",
      "3711 GRIM AVE SAN DIEGO 92104 apartments\n",
      "('', '', '', '', '', '')\n",
      "4918 CAPE MAY AVE SAN DIEGO 92107 apartments\n",
      "('', '', '', '', '', '')\n",
      "102 DICKINSON ST APT H SAN DIEGO 92103 apartments\n",
      "('', '', '', '', '', '')\n",
      "391 G ST CHULA VISTA 91910 apartments\n",
      "('', '', '', '', '', '')\n",
      "3911 JEWELL ST SAN DIEGO 92109 apartments\n",
      "('', '', '', '', '', '')\n",
      "2933 B ST SAN DIEGO 92102 apartments\n",
      "('', '', '', '', '', '')\n",
      "640 J AVE NATIONAL CITY 91950 apartments\n",
      "('', '', '', '', '', '')\n",
      "1401 13TH ST IMPERIAL BEACH 91932 apartments\n",
      "('', '', '', '', '', '')\n",
      "1210 S NEVADA ST OCEANSIDE 92054 apartments\n",
      "('(760) 433-8810', '', '', '508 N Nevada St', 'Oceanside', 'CA 92054')\n",
      "4269 LOWELL ST LA MESA 91941 apartments\n",
      "('', '', '', '', '', '')\n",
      "251 NAPLES ST CHULA VISTA 91911 apartments\n",
      "('', '', '', '', '', '')\n",
      "8465 REGENTS RD SAN DIEGO 92122 apartments\n",
      "('(833) 326-4973', '', '', '8465 Regents Rd', 'San Diego', 'CA 92122')\n",
      "3960 IDAHO ST SAN DIEGO 92104 apartments\n",
      "('', '', '', '', '', '')\n",
      "4434 HIGHLAND AVE SAN DIEGO 92115 apartments\n",
      "('', '', '', '', '', '')\n",
      "1055 S MOLLISON AVE EL CAJON 92020 apartments\n",
      "('(619) 884-4000', '', '', '1055 S Mollison Ave', 'El Cajon', 'CA 92020')\n",
      "4544 33RD ST SAN DIEGO 92116 apartments\n",
      "('', '', '', '', '', '')\n",
      "4615 BANCROFT ST SAN DIEGO 92116 apartments\n",
      "('', '', '', '', '', '')\n",
      "2821 NIMITZ BLVD SAN DIEGO 92106 apartments\n",
      "('', '', '', '', '', '')\n",
      "11184 VISTA SORRENTO PKWY SAN DIEGO 92130 apartments\n",
      "('', '', '', '', '', '')\n",
      "4390 MAPLE STREET nan 92105 apartments\n",
      "('', '', '', '', '', '')\n",
      "165 20TH ST SAN DIEGO 92102 apartments\n",
      "('', '', '', '', '', '')\n",
      "3961 NORMAL ST SAN DIEGO 92103 apartments\n",
      "('', '', '', '', '', '')\n",
      "2729 46TH ST SAN DIEGO 92105 apartments\n",
      "('', '', '', '', '', '')\n",
      "4218 34TH ST SAN DIEGO 92104 apartments\n",
      "('', '', '', '', '', '')\n",
      "4513 PALM AVE LA MESA 91941 apartments\n",
      "('', '', '', '', '', '')\n",
      "3924 8TH AVE SAN DIEGO 92103 apartments\n",
      "('(619) 298-2069', '', '', '3924-3938 8th Ave', 'San Diego', 'CA 92103')\n",
      "3869 SWIFT AVE SAN DIEGO 92104 apartments\n",
      "('', '', '', '', '', '')\n",
      "535 14TH ST SAN DIEGO 92101 apartments\n",
      "('', '', '', '', '', '')\n",
      "930 FELSPAR ST SAN DIEGO 92109 apartments\n",
      "('', '', '', '', '', '')\n",
      "201 W LOS ANGELES DR VISTA 92083 apartments\n",
      "('', '', '', '', '', '')\n",
      "757 9TH ST IMPERIAL BEACH 91932 apartments\n",
      "('', '', '', '', '', '')\n",
      "7272 SARANAC ST SAN DIEGO 92115 apartments\n",
      "('', '', '', '', '', '')\n",
      "335 LAUREL AVE NATIONAL CITY 91950 apartments\n",
      "('', '', '', '', '', '')\n",
      "4439 FLORIDA ST SAN DIEGO 92116 apartments\n",
      "('', '', '', '', '', '')\n",
      "1920 E GRAND AVE ESCONDIDO 92027 apartments\n",
      "('(760) 317-9869', '', '', '1920 E Grand Ave', 'Escondido', 'CA 92027')\n",
      "564 J ST CHULA VISTA 91910 apartments\n",
      "('', '', '', '', '', '')\n",
      "2636 HIGHLAND AVE SAN DIEGO 92105 apartments\n",
      "('', '', '', '', '', '')\n",
      "5849 EL CAJON BLVD SAN DIEGO 92115 apartments\n",
      "('', '', '', '', '', '')\n",
      "4225 ALTADENA AVE SAN DIEGO 92115 apartments\n",
      "('', '', '', '', '', '')\n",
      "3938 FLORIDA ST SAN DIEGO 92104 apartments\n",
      "('', '', '', '', '', '')\n",
      "3781 MARLBOROUGH AVE SAN DIEGO 92105 apartments\n",
      "('', '', '', '', '', '')\n",
      "1130 E LINCOLN AVE ESCONDIDO 92026 apartments\n",
      "('', '', '', '', '', '')\n",
      "3742 WILSON AVE SAN DIEGO 92104 apartments\n",
      "('(858) 967-7330', '', '', '4740 Wilson Ave', 'San Diego', 'CA 92116')\n",
      "588 S ANZA ST EL CAJON 92020 apartments\n",
      "('', '', '', '', '', '')\n",
      "4639 PICO ST SAN DIEGO 92109 apartments\n",
      "('', '', '', '', '', '')\n",
      "2041 PASEO DORADO LA JOLLA 92037 apartments\n",
      "('', '', '', '', '', '')\n",
      "4033 37TH ST SAN DIEGO 92105 apartments\n",
      "('', '', '', '', '', '')\n",
      "320 G ST CHULA VISTA 91910 apartments\n",
      "('', '', '', '', '', '')\n",
      "760 SAPPHIRE ST SAN DIEGO 92109 apartments\n",
      "('', '', '', '', '', '')\n",
      "102 DICKINSON ST APT B SAN DIEGO 92103 apartments\n",
      "('', '', '', '', '', '')\n",
      "4270 MYRTLE AVE SAN DIEGO 92105 apartments\n",
      "('', '', '', '', '', '')\n",
      "3044 STATE ST CARLSBAD 92008 apartments\n",
      "('', '', '', '', '', '')\n",
      "4245 45TH ST SAN DIEGO 92115 apartments\n",
      "('', '', '', '', '', '')\n",
      "900 SEA WIND CT CARLSBAD 92011 apartments\n",
      "('', '', '', '', '', '')\n",
      "2593 FAIRMOUNT AVE SAN DIEGO 92105 apartments\n",
      "('', '', '', '', '', '')\n",
      "10500 SEA PEARL CV SAN DIEGO 92130 apartments\n",
      "('(858) 755-7120', '', '', '10500 Sea Pearl Cv', 'San Diego', 'CA 92130')\n",
      "1560 S ESCONDIDO BLVD ESCONDIDO 92025 apartments\n",
      "('', '', '', '', '', '')\n",
      "1061 HORNBLEND ST SAN DIEGO 92109 apartments\n",
      "('', '', '', '', '', '')\n",
      "1037 IMPERIAL BEACH BLVD IMPERIAL BEACH 91932 apartments\n",
      "('', '', '', '', '', '')\n",
      "5437 LAKE MURRAY BLVD UNIT 14 LA MESA 91942 apartments\n",
      "('', '', '', '', '', '')\n",
      "4430 NORTH AVE SAN DIEGO 92116 apartments\n",
      "('', '', '', '', '', '')\n",
      "4054 UTAH ST SAN DIEGO 92104 apartments\n",
      "('', '', '', '', '', '')\n",
      "1039 N MOLLISON AVE EL CAJON 92021 apartments\n",
      "('', '', '', '', '', '')\n",
      "5024 MISSION BLVD SAN DIEGO 92109 apartments\n",
      "('', '', '', '', '', '')\n",
      "3120 IMPERIAL AVE SAN DIEGO 92102 apartments\n",
      "('', '', '', '', '', '')\n",
      "1307 COLUSA ST SAN DIEGO 92110 apartments\n",
      "('', '', '', '', '', '')\n",
      "247 N 1ST ST EL CAJON 92021 apartments\n",
      "('', '', '', '', '', '')\n",
      "4675 33RD ST SAN DIEGO 92116 apartments\n",
      "('', '', '', '', '', '')\n",
      "3538 FRONT ST SAN DIEGO 92103 apartments\n",
      "('', '', '', '', '', '')\n",
      "1811 RAYMOND AVE RAMONA 92065 apartments\n",
      "('(619) 921-6887', '', '', '1811 Raymond Ave', 'Ramona', 'CA 92065')\n",
      "326 PALOMAR AVE LA JOLLA 92037 apartments\n",
      "('', '', '', '', '', '')\n",
      "3430 DEL REY ST SAN DIEGO 92109 apartments\n",
      "('', '', '', '', '', '')\n",
      "1848 CYPRESS AVE SAN DIEGO 92103 apartments\n",
      "('', '', '', '', '', '')\n",
      "3712 PARK BLVD SAN DIEGO 92103 apartments\n",
      "('', '', '', '', '', '')\n",
      "1440 ROBINSON AVE SAN DIEGO 92103 apartments\n",
      "('', '', '', '', '', '')\n",
      "1510 MYRTLE AVE SAN DIEGO 92103 apartments\n",
      "('', '', '', '', '', '')\n",
      "811 9TH ST CORONADO 92118 apartments\n",
      "('', '', '', '', '', '')\n",
      "4156 WABASH AVE SAN DIEGO 92104 apartments\n",
      "('', '', '', '', '', '')\n",
      "4665 34TH ST SAN DIEGO 92116 apartments\n",
      "('(619) 281-1506', '', '', '4664 34th St', 'San Diego', 'CA 92116')\n",
      "1435 ELDER AVE SAN DIEGO 92154 apartments\n",
      "('(619) 424-3314', '', '', '1435 Elder Ave', 'San Diego', 'CA 92154')\n",
      "3980 ARIZONA ST SAN DIEGO 92104 apartments\n",
      "('', '', '', '', '', '')\n",
      "7656 NORMAL AVE LA MESA 91941 apartments\n",
      "('', '', '', '', '', '')\n",
      "2635 NEWTON AVE SAN DIEGO 92113 apartments\n",
      "('', '', '', '', '', '')\n",
      "4981 CATOCTIN DR SAN DIEGO 92115 apartments\n",
      "('(619) 940-1002', '', '', '4981 Catoctin Dr', 'San Diego', 'CA 92115')\n",
      "3805 Z ST SAN DIEGO 92113 apartments\n",
      "('', '', '', '', '', '')\n",
      "4181 HAMILTON ST SAN DIEGO 92104 apartments\n",
      "('', '', '', '', '', '')\n",
      "3817 41ST ST SAN DIEGO 92105 apartments\n",
      "('', '', '', '', '', '')\n",
      "868 S MAGNOLIA AVE EL CAJON 92020 apartments\n",
      "('(619) 401-9370', '', '', '868 S Magnolia Ave', 'El Cajon', 'CA 92020')\n",
      "7827 STALMER ST SAN DIEGO 92111 apartments\n",
      "('', '', '', '', '', '')\n",
      "3237 MADISON ST CARLSBAD 92008 apartments\n",
      "('', '', '', '', '', '')\n",
      "3957 32ND ST SAN DIEGO 92104 apartments\n",
      "('', '', '', '', '', '')\n",
      "167 4TH ST DEL MAR 92014 apartments\n",
      "('', '', '', '', '', '')\n",
      "3433 MARTIN AVE SAN DIEGO 92113 apartments\n",
      "('', '', '', '', '', '')\n",
      "420 GRANT ST OCEANSIDE 92054 apartments\n",
      "('', '', '', '', '', '')\n",
      "3721 SUNSET LN SAN YSIDRO 92173 apartments\n",
      "('', '', '', '', '', '')\n",
      "4033 45TH ST SAN DIEGO 92105 apartments\n",
      "('', '', '', '', '', '')\n",
      "4621 VOLTAIRE ST SAN DIEGO 92107 apartments\n",
      "('', '', '', '', '', '')\n",
      "1028 14TH ST SAN DIEGO 92101 apartments\n",
      "('', '', '', '', '', '')\n",
      "173 GLOVER AVE CHULA VISTA 91910 apartments\n",
      "('', '', '', '', '', '')\n",
      "4102 MARLBOROUGH AVE SAN DIEGO 92105 apartments\n",
      "('', '', '', '', '', '')\n",
      "4802 LANTANA DR SAN DIEGO 92105 apartments\n",
      "('', '', '', '', '', '')\n",
      "1008 SEACOAST DR IMPERIAL BEACH 91932 apartments\n",
      "('', '', '', '', '', '')\n",
      "4177 UTAH ST SAN DIEGO 92104 apartments\n",
      "('', '', '', '', '', '')\n",
      "10802 CAMINO RUIZ SAN DIEGO 92126 apartments\n",
      "('(833) 202-4981', '', '', '10802 Camino Ruiz', 'San Diego', 'CA 92126')\n",
      "2505 J ST SAN DIEGO 92102 apartments\n",
      "('', '', '', '', '', '')\n",
      "965 W LINCOLN AVE ESCONDIDO 92026 apartments\n",
      "('(760) 740-0275', '', '', '965 W Lincoln Ave', 'Escondido', 'CA 92026')\n",
      "3769 SWIFT AVE SAN DIEGO 92104 apartments\n",
      "('', '', '', '', '', '')\n",
      "3808 VILLA TER SAN DIEGO 92104 apartments\n",
      "('', '', '', '', '', '')\n",
      "4110 VAN DYKE AVE SAN DIEGO 92105 apartments\n",
      "('', '', '', '', '', '')\n",
      "918 10TH ST CORONADO 92118 apartments\n",
      "('', '', '', '', '', '')\n",
      "3634 PARK BLVD SAN DIEGO 92103 apartments\n",
      "('', '', '', '', '', '')\n",
      "160 BRIGHTWOOD AVE CHULA VISTA 91910 apartments\n",
      "('', '', '', '', '', '')\n",
      "440 PEARL ST LA JOLLA 92037 apartments\n",
      "('', '', '', '', '', '')\n",
      "3512 LAKE BLVD OCEANSIDE 92056 apartments\n",
      "('(760) 726-2961', '', '', '3512 Lake Blvd', 'Oceanside', 'CA 92056')\n",
      "1900 NORTHSTAR WAY ENCINITAS 92024 apartments\n",
      "('', '', '', '', '', '')\n",
      "234 W PARK AVE EL CAJON 92020 apartments\n",
      "('(619) 447-7891', '', '', '234 W Park Ave #30', 'El Cajon', 'CA 92020')\n",
      "4202 POPLAR ST SAN DIEGO 92105 apartments\n",
      "('', '', '', '', '', '')\n",
      "4321 EUCLID AVE SAN DIEGO 92115 apartments\n",
      "('', '', '', '', '', '')\n",
      "1010 STEPHANIE CT SAN MARCOS 92078 apartments\n",
      "('', '', '', '', '', '')\n",
      "1228 ESSEX ST SAN DIEGO 92103 apartments\n",
      "('', '', '', '', '', '')\n",
      "102 SELLSWAY ST SAN YSIDRO 92173 apartments\n",
      "('', '', '', '', '', '')\n",
      "340 ORLANDO ST EL CAJON 92021 apartments\n",
      "('', '', '', '', '', '')\n",
      "3317 30TH ST SAN DIEGO 92104 apartments\n",
      "('', '', '', '', '', '')\n",
      "12330 LAKESHORE DR LAKESIDE 92040 apartments\n",
      "('', '', '', '', '', '')\n",
      "920 10TH ST CORONADO 92118 apartments\n",
      "('', '', '', '', '', '')\n",
      "3883 JEWELL ST SAN DIEGO 92109 apartments\n",
      "('(858) 272-0068', '', '', '3883 Jewell St Apt B17', 'San Diego', 'CA 92109')\n",
      "3634 S BONITA ST SPRING VALLEY 91977 apartments\n",
      "('', '', '', '', '', '')\n",
      "6689 TORENIA TRL SAN DIEGO 92130 apartments\n",
      "('', '', '', '', '', '')\n",
      "223 COTTONWOOD RD SAN YSIDRO 92173 apartments\n",
      "('', '', '', '', '', '')\n",
      "1044 AGATE ST SAN DIEGO 92109 apartments\n",
      "('', '', '', '', '', '')\n",
      "1669 GRAND AVE SAN DIEGO 92109 apartments\n",
      "('', '', '', '', '', '')\n",
      "4386 LOUISIANA ST SAN DIEGO 92104 apartments\n",
      "('', '', '', '', '', '')\n",
      "3952 JEWELL ST SAN DIEGO 92109 apartments\n",
      "('', '', '', '', '', '')\n",
      "5442 LAURETTA ST SAN DIEGO 92110 apartments\n",
      "('', '', '', '', '', '')\n",
      "4515 35TH ST SAN DIEGO 92116 apartments\n",
      "('', '', '', '', '', '')\n",
      "334 W PARK AVE EL CAJON 92020 apartments\n",
      "('(619) 444-0224', '', '', '376 W Park Ave', 'El Cajon', 'CA 92020')\n",
      "112 E 31ST ST NATIONAL CITY 91950 apartments\n",
      "('(833) 990-0888', '', '', '142 E 31st St', 'National City', 'CA 91950')\n",
      "5439 LAKE MURRAY BLVD UNIT 12 LA MESA 91942 apartments\n",
      "('', '', '', '', '', '')\n",
      "3843 42ND ST SAN DIEGO 92105 apartments\n",
      "('', '', '', '', '', '')\n",
      "1116 4TH AVE CHULA VISTA 91911 apartments\n",
      "('', '', '', '', '', '')\n",
      "987 POSTAL WAY VISTA 92083 apartments\n",
      "('', '', '', '', '', '')\n",
      "715 SAN FERNANDO PL SAN DIEGO 92109 apartments\n",
      "('', '', '', '', '', '')\n",
      "1119 34TH ST SAN DIEGO 92102 apartments\n",
      "('', '', '', '', '', '')\n",
      "4269 MENTONE ST SAN DIEGO 92107 apartments\n",
      "('', '', '', '', '', '')\n",
      "5441 LAKE MURRAY BLVD UNIT 15 LA MESA 91942 apartments\n",
      "('', '', '', '', '', '')\n",
      "3740 EUCLID AVE SAN DIEGO 92105 apartments\n",
      "('', '', '', '', '', '')\n",
      "3959 TEXAS ST SAN DIEGO 92104 apartments\n",
      "('', '', '', '', '', '')\n",
      "920 E MISSION AVE ESCONDIDO 92025 apartments\n",
      "('', '', '', '', '', '')\n",
      "1637 STATE ST SAN DIEGO 92101 apartments\n",
      "('', '', '', '', '', '')\n",
      "2609 FAIRMOUNT AVE SAN DIEGO 92105 apartments\n",
      "('', '', '', '', '', '')\n",
      "8421 CARLISLE DR SAN DIEGO 92114 apartments\n",
      "('', '', '', '', '', '')\n",
      "535 GREENFIELD DR EL CAJON 92021 apartments\n",
      "('', '', '', '', '', '')\n",
      "5137 MUIR AVE SAN DIEGO 92107 apartments\n",
      "('', '', '', '', '', '')\n",
      "1451 STATE ST SAN DIEGO 92101 apartments\n",
      "('(617) 300-0956', '', '', '1451 State St', 'San Diego', 'CA 92101')\n",
      "924 ENCINITAS BLVD ENCINITAS 92024 apartments\n",
      "('(760) 944-6939', '', '', '924 Encinitas Blvd', 'Encinitas', 'CA 92024')\n",
      "2214 BROADWAY SAN DIEGO 92102 apartments\n",
      "('', '', '', '', '', '')\n",
      "5564 HARDY AVE SAN DIEGO 92115 apartments\n",
      "('', '', '', '', '', '')\n",
      "2130 S SANTA FE AVE VISTA 92084 apartments\n",
      "('(760) 727-2907', '', '', '2130 S Santa Fe Ave', 'Vista', 'CA 92084')\n",
      "528 FLOWER ST CHULA VISTA 91910 apartments\n",
      "('', '', '', '', '', '')\n",
      "7443 COLONY DR LA MESA 91942 apartments\n",
      "('', '', '', '', '', '')\n",
      "4452 37TH ST SAN DIEGO 92116 apartments\n",
      "('', '', '', '', '', '')\n",
      "1643 NATIONAL AVE SAN DIEGO 92113 apartments\n",
      "('', '', '', '', '', '')\n",
      "4935 NIAGARA AVE SAN DIEGO 92107 apartments\n",
      "('', '', '', '', '', '')\n",
      "1019 PEACH AVE EL CAJON 92021 apartments\n",
      "('(619) 304-8217', '', '', '1019 Peach Ave', 'El Cajon', 'CA 92021')\n",
      "346 ROOSEVELT ST CHULA VISTA 91910 apartments\n",
      "('', '', '', '', '', '')\n",
      "1873 N VULCAN AVE ENCINITAS 92024 apartments\n",
      "('', '', '', '', '', '')\n",
      "995 LAGUNA DR CARLSBAD 92008 apartments\n",
      "('', '', '', '', '', '')\n",
      "4361 ILLINOIS ST SAN DIEGO 92104 apartments\n",
      "('', '', '', '', '', '')\n",
      "345 N 1ST ST EL CAJON 92021 apartments\n",
      "('', '', '', '', '', '')\n",
      "3743 INDIA ST SAN DIEGO 92103 apartments\n",
      "('', '', '', '', '', '')\n",
      "647 12TH ST IMPERIAL BEACH 91932 apartments\n",
      "('', '', '', '', '', '')\n",
      "7576 PARKWAY DR LA MESA 91942 apartments\n",
      "('(619) 460-5241', '', '', '7576 Parkway Dr', 'La Mesa', 'CA 91942')\n",
      "439 D ST CHULA VISTA 91910 apartments\n",
      "('', '', '', '', '', '')\n",
      "6181 MONTEZUMA RD SAN DIEGO 92115 apartments\n",
      "('', '', '', '', '', '')\n",
      "3654 42ND ST SAN DIEGO 92105 apartments\n",
      "('', '', '', '', '', '')\n",
      "315 PROSPECT ST LA JOLLA 92037 apartments\n",
      "('(858) 295-0779', '', '', '400 Prospect St', 'La Jolla', 'CA 92037')\n",
      "2874 EL CAJON BLVD SAN DIEGO 92104 apartments\n",
      "('', '', '', '', '', '')\n",
      "945 CHESTNUT AVE CARLSBAD 92008 apartments\n",
      "('', '', '', '', '', '')\n",
      "230 VISTA HORIZON ST SAN DIEGO 92113 apartments\n",
      "('', '', '', '', '', '')\n",
      "1479 MISSOURI ST SAN DIEGO 92109 apartments\n",
      "('', '', '', '', '', '')\n",
      "505 D AVE CORONADO 92118 apartments\n",
      "('', '', '', '', '', '')\n",
      "4453 ROSEBUD LN LA MESA 91941 apartments\n",
      "('', '', '', '', '', '')\n",
      "4373 50TH ST SAN DIEGO 92115 apartments\n",
      "('', '', '', '', '', '')\n",
      "141 W FIR ST SAN DIEGO 92101 apartments\n",
      "('', '', '', '', '', '')\n",
      "491 F ST CHULA VISTA 91910 apartments\n",
      "('', '', '', '', '', '')\n",
      "1505 MISSOURI ST SAN DIEGO 92109 apartments\n",
      "('', '', '', '', '', '')\n",
      "2174 MONTGOMERY AVE CARDIFF 92007 apartments\n",
      "('(760) 943-7368', '', '', '2170 Carol View Dr', 'Cardiff', 'CA 92007')\n",
      "5076 SARATOGA AVE SAN DIEGO 92107 apartments\n",
      "('', '', '', '', '', '')\n",
      "1325 HEMLOCK AVE IMPERIAL BEACH 91932 apartments\n",
      "('', '', '', '', '', '')\n",
      "5074 DEL MONTE AVE SAN DIEGO 92107 apartments\n",
      "('', '', '', '', '', '')\n",
      "3618 1ST AVE SAN DIEGO 92103 apartments\n",
      "('', '', '', '', '', '')\n",
      "2118 E ST SAN DIEGO 92102 apartments\n",
      "('', '', '', '', '', '')\n",
      "344 WAVERLY PL ESCONDIDO 92025 apartments\n",
      "('', '', '', '', '', '')\n",
      "4526 34TH ST SAN DIEGO 92116 apartments\n",
      "('', '', '', '', '', '')\n",
      "110 OCEANSIDE BLVD OCEANSIDE 92054 apartments\n",
      "('', '', '', '', '', '')\n",
      "6969 FULTON ST SAN DIEGO 92111 apartments\n",
      "('', '', '', '', '', '')\n",
      "856 CALLA AVE IMPERIAL BEACH 91932 apartments\n",
      "('', '', '', '', '', '')\n",
      "317 ZENITH ST CHULA VISTA 91911 apartments\n",
      "('', '', '', '', '', '')\n",
      "7431 LA JOLLA BLVD LA JOLLA 92037 apartments\n",
      "('', '', '', '', '', '')\n",
      "5429 LAKE MURRAY BLVD UNIT 10 LA MESA 91942 apartments\n",
      "('', '', '', '', '', '')\n",
      "4760 35TH ST SAN DIEGO 92116 apartments\n",
      "('', '', '', '', '', '')\n",
      "2873 MISSION BLVD SAN DIEGO 92109 apartments\n",
      "('', '', '', '', '', '')\n",
      "7025 FULTON ST SAN DIEGO 92111 apartments\n",
      "('', '', '', '', '', '')\n",
      "820 SYCAMORE AVE VISTA 92081 apartments\n",
      "('(760) 727-8044', '', '', '820 Sycamore Ave', 'Vista', 'CA 92081')\n",
      "1070 SAPPHIRE ST SAN DIEGO 92109 apartments\n",
      "('', '', '', '', '', '')\n",
      "8828 MIRA MESA BLVD SAN DIEGO 92126 apartments\n",
      "('', '', '', '', '', '')\n",
      "4044 39TH ST SAN DIEGO 92105 apartments\n",
      "('', '', '', '', '', '')\n",
      "9525 MISSION GORGE RD SANTEE 92071 apartments\n",
      "('(619) 562-5900', '', '', '9525 Mission Gorge Rd', 'Santee', 'CA 92071')\n",
      "1351 EUREKA ST SAN DIEGO 92110 apartments\n",
      "('', '', '', '', '', '')\n",
      "500 FLOWER ST CHULA VISTA 91910 apartments\n",
      "('', '', '', '', '', '')\n",
      "3484 RUFFIN RD SAN DIEGO 92123 apartments\n",
      "('', '', '', '', '', '')\n",
      "3825 ADAMS AVE SAN DIEGO 92116 apartments\n",
      "('', '', '', '', '', '')\n",
      "1630 S MAPLE ST ESCONDIDO 92025 apartments\n",
      "('', '', '', '', '', '')\n",
      "1061 CHALCEDONY ST SAN DIEGO 92109 apartments\n",
      "('', '', '', '', '', '')\n",
      "3144 HAWTHORN ST SAN DIEGO 92104 apartments\n",
      "('', '', '', '', '', '')\n",
      "3952 9TH AVE SAN DIEGO 92103 apartments\n",
      "('', '', '', '', '', '')\n",
      "4449 ILLINOIS ST SAN DIEGO 92116 apartments\n",
      "('', '', '', '', '', '')\n",
      "910 FELSPAR ST SAN DIEGO 92109 apartments\n",
      "('', '', '', '', '', '')\n",
      "4910 LONGFORD ST SAN DIEGO 92117 apartments\n",
      "('', '', '', '', '', '')\n",
      "3423 MARLBOROUGH AVE SAN DIEGO 92105 apartments\n",
      "('', '', '', '', '', '')\n",
      "9800 MIRA LEE WAY SAN DIEGO 92126 apartments\n",
      "('(858) 530-0933', '', '', '9800 Mira Lee Way', 'San Diego', 'CA 92126')\n",
      "4526 FLORIDA ST SAN DIEGO 92116 apartments\n",
      "('', '', '', '', '', '')\n",
      "4154 ESTRELLA AVE SAN DIEGO 92105 apartments\n",
      "('', '', '', '', '', '')\n",
      "4058 HAMILTON ST SAN DIEGO 92104 apartments\n",
      "('', '', '', '', '', '')\n",
      "1805 S ESCONDIDO BLVD ESCONDIDO 92025 apartments\n",
      "('', '', '', '', '', '')\n",
      "4111 HIGHLAND AVE SAN DIEGO 92105 apartments\n",
      "('', '', '', '', '', '')\n",
      "994 LESLIE RD EL CAJON 92020 apartments\n",
      "('', '', '', '', '', '')\n",
      "812 12TH ST IMPERIAL BEACH 91932 apartments\n",
      "('', '', '', '', '', '')\n",
      "5441 LAKE MURRAY BLVD UNIT 13 LA MESA 91942 apartments\n",
      "('', '', '', '', '', '')\n",
      "123 S NEVADA ST OCEANSIDE 92054 apartments\n",
      "('', '', '', '', '', '')\n",
      "3590 FRONT ST SAN DIEGO 92103 apartments\n",
      "('', '', '', '', '', '')\n",
      "1830 UPAS ST SAN DIEGO 92103 apartments\n",
      "('', '', '', '', '', '')\n",
      "2920 KALMIA ST SAN DIEGO 92104 apartments\n",
      "('', '', '', '', '', '')\n",
      "2621 MONROE AVE SAN DIEGO 92116 apartments\n",
      "('', '', '', '', '', '')\n",
      "3591 KENORA DR SPRING VALLEY 91977 apartments\n",
      "('(619) 698-3557', '', '', '3541 Kenora Dr', 'Spring Valley', 'CA 91977')\n",
      "900 WIND DRIFT DR CARLSBAD 92011 apartments\n",
      "('', '', '', '', '', '')\n",
      "2459 E ST SAN DIEGO 92102 apartments\n",
      "('', '', '', '', '', '')\n",
      "2144 UNIVERSITY DR VISTA 92083 apartments\n",
      "('(760) 724-2144', '', '', '2144 University Dr', 'Vista', 'CA 92083')\n",
      "525 ALTURAS RD FALLBROOK 92028 apartments\n",
      "('', '', '', '', '', '')\n",
      "566 D ST CHULA VISTA 91910 apartments\n",
      "('', '', '', '', '', '')\n",
      "4102 ALTADENA AVE SAN DIEGO 92105 apartments\n",
      "('', '', '', '', '', '')\n",
      "3866 41ST ST SAN DIEGO 92105 apartments\n",
      "('', '', '', '', '', '')\n",
      "728 G AVE CORONADO 92118 apartments\n",
      "('', '', '', '', '', '')\n",
      "1109 FELSPAR ST SAN DIEGO 92109 apartments\n",
      "('', '', '', '', '', '')\n",
      "1233 E MADISON AVE EL CAJON 92021 apartments\n",
      "('(619) 593-6026', '', '', '1233 E Madison Ave # 13', 'El Cajon', 'CA 92021')\n",
      "4620 HAWLEY BLVD SAN DIEGO 92116 apartments\n",
      "('', '', '', '', '', '')\n",
      "3706 KING ST LA MESA 91941 apartments\n",
      "('', '', '', '', '', '')\n",
      "4377 39TH ST SAN DIEGO 92105 apartments\n",
      "('', '', '', '', '', '')\n",
      "1027 PEARL ST LA JOLLA 92037 apartments\n",
      "('', '', '', '', '', '')\n",
      "650 FLORENCE ST IMPERIAL BEACH 91932 apartments\n",
      "('', '', '', '', '', '')\n",
      "4240 NORDICA AVE SAN DIEGO 92113 apartments\n",
      "('', '', '', '', '', '')\n",
      "3502 1ST AVE SAN DIEGO 92103 apartments\n",
      "('', '', '', '', '', '')\n",
      "3183 JEFFERSON ST CARLSBAD 92008 apartments\n",
      "('', '', '', '', '', '')\n",
      "4150 CHEROKEE AVE SAN DIEGO 92104 apartments\n",
      "('', '', '', '', '', '')\n",
      "4226 41ST ST SAN DIEGO 92105 apartments\n",
      "('', '', '', '', '', '')\n",
      "625 E 3RD ST NATIONAL CITY 91950 apartments\n",
      "('', '', '', '', '', '')\n",
      "5431 LAKE MURRAY BLVD UNIT 13 LA MESA 91942 apartments\n",
      "('', '', '', '', '', '')\n",
      "909 LESLIE RD EL CAJON 92020 apartments\n",
      "('(844) 245-1816', '', '', '909 Leslie Rd', 'El Cajon', 'CA 92020')\n",
      "3622 KEMPER CT SAN DIEGO 92110 apartments\n",
      "('(619) 226-0511', '', '', '3622 Kemper Ct Apt. 40', 'San Diego', 'CA 92110')\n",
      "126 JASPER ST ENCINITAS 92024 apartments\n",
      "('', '', '', '', '', '')\n",
      "4069 38TH ST SAN DIEGO 92105 apartments\n",
      "('', '', '', '', '', '')\n",
      "1654 CABLE ST SAN DIEGO 92107 apartments\n",
      "('', '', '', '', '', '')\n",
      "8473 LAKE GABY AVE SAN DIEGO 92119 apartments\n",
      "('', '', '', '', '', '')\n",
      "1346 PACIFIC BEACH DR SAN DIEGO 92109 apartments\n",
      "('', '', '', '', '', '')\n",
      "3940 HONEYCUTT ST SAN DIEGO 92109 apartments\n",
      "('', '', '', '', '', '')\n",
      "222 H ST CHULA VISTA 91910 apartments\n",
      "('', '', '', '', '', '')\n",
      "2307 E BEYER BLVD SAN YSIDRO 92173 apartments\n",
      "('', '', '', '', '', '')\n",
      "2741 HORNBLEND ST SAN DIEGO 92109 apartments\n",
      "('', '', '', '', '', '')\n",
      "4225 CHAMOUNE AVE SAN DIEGO 92115 apartments\n",
      "('(619) 282-3583', '', '', '4229 Chamoune Ave', 'San Diego', 'CA 92115')\n",
      "3917 HAMILTON ST SAN DIEGO 92104 apartments\n",
      "('', '', '', '', '', '')\n",
      "4776 TROJAN AVE SAN DIEGO 92115 apartments\n",
      "('(619) 265-8536', '', '', '4321 52nd St', 'San Diego', 'CA 92115')\n",
      "1289 E GRAND AVE ESCONDIDO 92027 apartments\n",
      "('(760) 746-3343', '', '', '1315 E Grand Ave', 'Escondido', 'CA 92027')\n",
      "4474 CLEVELAND AVE SAN DIEGO 92116 apartments\n",
      "('', '', '', '', '', '')\n",
      "1222 REED AVE SAN DIEGO 92109 apartments\n",
      "('', '', '', '', '', '')\n",
      "196 GUAVA AVE CHULA VISTA 91910 apartments\n",
      "('(619) 427-0887', '', '', '196 Guava Ave', 'Chula Vista', 'CA 91910')\n",
      "4162 ARIZONA ST SAN DIEGO 92104 apartments\n",
      "('', '', '', '', '', '')\n",
      "5072 NIAGARA AVE SAN DIEGO 92107 apartments\n",
      "('', '', '', '', '', '')\n",
      "5355 CLAIREMONT MESA BLVD SAN DIEGO 92117 apartments\n",
      "('(833) 483-6905', '', '', '5355 Clairemont Mesa Blvd', 'San Diego', 'CA 92117')\n",
      "4522 60TH ST SAN DIEGO 92115 apartments\n",
      "('', '', '', '', '', '')\n",
      "215 GLOVER AVE CHULA VISTA 91910 apartments\n",
      "('(619) 427-0887', '', '', '515 Glover Ave', 'Chula Vista', 'CA 91910')\n",
      "600 EMORY ST IMPERIAL BEACH 91932 apartments\n",
      "('', '', '', '', '', '')\n",
      "211 S MYERS ST OCEANSIDE 92054 apartments\n",
      "('', '', '', '', '', '')\n",
      "1645 S 43RD ST SAN DIEGO 92113 apartments\n",
      "('', '', '', '', '', '')\n",
      "2214 EUCLID AVE NATIONAL CITY 91950 apartments\n",
      "('', '', '', '', '', '')\n",
      "1254 PACIFIC BEACH DR SAN DIEGO 92109 apartments\n",
      "('', '', '', '', '', '')\n",
      "156 GRANDVIEW ST ENCINITAS 92024 apartments\n",
      "('', '', '', '', '', '')\n",
      "4359 FLORIDA ST SAN DIEGO 92104 apartments\n",
      "('', '', '', '', '', '')\n",
      "4243 MENLO AVE SAN DIEGO 92115 apartments\n",
      "('', '', '', '', '', '')\n",
      "4991 AUBURN DR SAN DIEGO 92105 apartments\n",
      "('', '', '', '', '', '')\n",
      "1939 FRONT ST SAN DIEGO 92101 apartments\n",
      "('', '', '', '', '', '')\n",
      "0 PARK BLVD SAN DIEGO 92103 apartments\n",
      "('', '', '', '', '', '')\n",
      "9760 MARILLA DR LAKESIDE 92040 apartments\n",
      "('(619) 443-4357', '', '', '9760 Marilla Dr', 'Lakeside', 'CA 92040')\n",
      "1370 SCOTT ST SAN DIEGO 92106 apartments\n",
      "('', '', '', '', '', '')\n",
      "4818 PALM AVE LA MESA 91942 apartments\n",
      "('', '', '', '', '', '')\n",
      "1217 S FREEMAN ST OCEANSIDE 92054 apartments\n",
      "('', '', '', '', '', '')\n",
      "4144 GEORGIA ST SAN DIEGO 92103 apartments\n",
      "('', '', '', '', '', '')\n",
      "4360 41ST ST SAN DIEGO 92105 apartments\n",
      "('', '', '', '', '', '')\n",
      "3827 HERBERT ST SAN DIEGO 92103 apartments\n",
      "('', '', '', '', '', '')\n",
      "1551 MONTECITO RD RAMONA 92065 apartments\n",
      "('(760) 789-9600', '', '', '1551 Montecito Rd', 'Ramona', 'CA 92065')\n",
      "4437 KANSAS ST SAN DIEGO 92116 apartments\n",
      "('', '', '', '', '', '')\n",
      "5050 W POINT LOMA BLVD SAN DIEGO 92107 apartments\n",
      "('', '', '', '', '', '')\n",
      "225 WILLIE JAMES JONES AVE SAN DIEGO 92102 apartments\n",
      "('', '', '', '', '', '')\n",
      "3701 ADAMS AVE SAN DIEGO 92116 apartments\n",
      "('', '', '', '', '', '')\n",
      "240 EUCLID AVE SAN DIEGO 92114 apartments\n",
      "('(619) 262-5585', '', '', '240-260 Euclid Ave', 'San Diego', 'CA 92114')\n",
      "4053 44TH ST SAN DIEGO 92105 apartments\n",
      "('(619) 795-0190', '', '', '4029 43rd St', 'San Diego', 'CA 92105')\n",
      "3613 MISSION BLVD SAN DIEGO 92109 apartments\n",
      "('', '', '', '', '', '')\n",
      "679 VALLEY AVE SOLANA BEACH 92075 apartments\n",
      "('', '', '', '', '', '')\n",
      "201 EBONY AVE IMPERIAL BEACH 91932 apartments\n",
      "('', '', '', '', '', '')\n",
      "8540 LEMON AVE LA MESA 91941 apartments\n",
      "('', '', '', '', '', '')\n",
      "4085 ESTRELLA AVE SAN DIEGO 92105 apartments\n",
      "('', '', '', '', '', '')\n",
      "3005 SUNCREST DR SAN DIEGO 92116 apartments\n",
      "('', '', '', '', '', '')\n",
      "4824 W MOUNTAIN VIEW DR SAN DIEGO 92116 apartments\n",
      "('(619) 432-4290', '', '', '4841 W Mountain View Dr', 'San Diego', 'CA 92116')\n",
      "3655 VILLA TER SAN DIEGO 92104 apartments\n",
      "('', '', '', '', '', '')\n",
      "6724 TAIT ST SAN DIEGO 92111 apartments\n",
      "('', '', '', '', '', '')\n",
      "2596 JEFFERSON ST CARLSBAD 92008 apartments\n",
      "('', '', '', '', '', '')\n",
      "5431 LAKE MURRAY BLVD UNIT 14 LA MESA 91942 apartments\n",
      "('', '', '', '', '', '')\n",
      "3301 30TH ST SAN DIEGO 92104 apartments\n",
      "('', '', '', '', '', '')\n",
      "633 ASCOT DR VISTA 92083 apartments\n",
      "('', '', '', '', '', '')\n",
      "4653 BANCROFT ST SAN DIEGO 92116 apartments\n",
      "('', '', '', '', '', '')\n",
      "525 E ST CHULA VISTA 91910 apartments\n",
      "('(619) 691-1722', '', '', '519 E St # B10', 'Chula Vista', 'CA 91910')\n",
      "4552 40TH ST SAN DIEGO 92116 apartments\n",
      "('', '', '', '', '', '')\n",
      "4674 OHIO ST SAN DIEGO 92116 apartments\n",
      "('', '', '', '', '', '')\n",
      "201 E 12TH ST NATIONAL CITY 91950 apartments\n",
      "('', '', '', '', '', '')\n",
      "4750 SEMINOLE DR SAN DIEGO 92115 apartments\n",
      "('', '', '', '', '', '')\n",
      "619 N FREEMAN ST OCEANSIDE 92054 apartments\n",
      "('', '', '', '', '', '')\n",
      "552 VAN HOUTEN AVE EL CAJON 92020 apartments\n",
      "('', '', '', '', '', '')\n",
      "1119 OLIVER AVE SAN DIEGO 92109 apartments\n",
      "('', '', '', '', '', '')\n",
      "3112 KEATS ST SAN DIEGO 92106 apartments\n",
      "('', '', '', '', '', '')\n",
      "12345 LAKESHORE DR LAKESIDE 92040 apartments\n",
      "('(619) 561-1685', '', '', '12345 Lakeshore Dr #7', 'Lakeside', 'CA 92040')\n",
      "5050 DEL MONTE AVE SAN DIEGO 92107 apartments\n",
      "('', '', '', '', '', '')\n",
      "5419 LAKE MURRAY BLVD APT 9 LA MESA 91942 apartments\n",
      "('', '', '', '', '', '')\n",
      "2133 MONROE AVE SAN DIEGO 92116 apartments\n",
      "('', '', '', '', '', '')\n",
      "3937 IOWA ST SAN DIEGO 92104 apartments\n",
      "('', '', '', '', '', '')\n",
      "1225 21ST ST SAN DIEGO 92102 apartments\n",
      "('', '', '', '', '', '')\n",
      "3735 32ND ST SAN DIEGO 92104 apartments\n",
      "('', '', '', '', '', '')\n",
      "2030 KEARNEY AVE SAN DIEGO 92113 apartments\n",
      "('', '', '', '', '', '')\n",
      "4659 3RD ST LA MESA 91941 apartments\n",
      "('', '', '', '', '', '')\n",
      "5305 TOSCANA WAY SAN DIEGO 92122 apartments\n",
      "('(866) 526-9013', '', '', '5305 Toscana Way', 'San Diego', 'CA 92122')\n",
      "1985 WELLINGTON LN VISTA 92081 apartments\n",
      "('', '', '', '', '', '')\n",
      "2541 JEFFERSON ST CARLSBAD 92008 apartments\n",
      "('(760) 707-6952', '', '', '2541 Jefferson St', 'Carlsbad', 'CA 92008')\n",
      "908 S MYERS ST OCEANSIDE 92054 apartments\n",
      "('', '', '', '', '', '')\n",
      "277 EVERGREEN AVE IMPERIAL BEACH 91932 apartments\n",
      "('', '', '', '', '', '')\n",
      "8255 CARGILL AVE SAN DIEGO 92122 apartments\n",
      "('', '', '', '', '', '')\n",
      "7541 EADS AVE LA JOLLA 92037 apartments\n",
      "('', '', '', '', '', '')\n",
      "2302 MORLEY ST SAN DIEGO 92111 apartments\n",
      "('', '', '', '', '', '')\n",
      "693 HILLSIDE TER VISTA 92084 apartments\n",
      "('', '', '', '', '', '')\n",
      "4834 LANTANA DR SAN DIEGO 92105 apartments\n",
      "('', '', '', '', '', '')\n",
      "421 N WEITZEL ST OCEANSIDE 92054 apartments\n",
      "('', '', '', '', '', '')\n",
      "3810 EUCLID AVE SAN DIEGO 92105 apartments\n",
      "('', '', '', '', '', '')\n",
      "2459 A ST SAN DIEGO 92102 apartments\n",
      "('', '', '', '', '', '')\n",
      "834 DIAMOND ST SAN DIEGO 92109 apartments\n",
      "('', '', '', '', '', '')\n",
      "1401 Q AVE NATIONAL CITY 91950 apartments\n",
      "('(619) 477-6708', '', '', '1545 Q Ave', 'National City', 'CA 91950')\n",
      "1061 DEL MAR AVE CHULA VISTA 91911 apartments\n",
      "('', '', '', '', '', '')\n",
      "3720 42ND ST SAN DIEGO 92105 apartments\n",
      "('', '', '', '', '', '')\n",
      "589 FLOWER ST CHULA VISTA 91910 apartments\n",
      "('', '', '', '', '', '')\n",
      "5421 LAKE MURRAY BLVD APT 15 LA MESA 91942 apartments\n",
      "('', '', '', '', '', '')\n",
      "1051 DIAMOND ST SAN DIEGO 92109 apartments\n",
      "('', '', '', '', '', '')\n",
      "4332 WINONA AVE SAN DIEGO 92115 apartments\n",
      "('', '', '', '', '', '')\n",
      "736 E AVE CORONADO 92118 apartments\n",
      "('', '', '', '', '', '')\n",
      "2030 S TREMONT ST OCEANSIDE 92054 apartments\n",
      "('', '', '', '', '', '')\n",
      "3714 MARLBOROUGH AVE SAN DIEGO 92105 apartments\n",
      "('', '', '', '', '', '')\n",
      "901 E 2ND ST NATIONAL CITY 91950 apartments\n",
      "('', '', '', '', '', '')\n",
      "1751 ORO VISTA RD SAN DIEGO 92154 apartments\n",
      "('', '', '', '', '', '')\n",
      "1633 GUY ST SAN DIEGO 92103 apartments\n",
      "('', '', '', '', '', '')\n",
      "4414 30TH ST SAN DIEGO 92116 apartments\n",
      "('', '', '', '', '', '')\n",
      "3103 BOSTON AVE SAN DIEGO 92113 apartments\n",
      "('', '', '', '', '', '')\n",
      "4420 OREGON ST SAN DIEGO 92116 apartments\n",
      "('', '', '', '', '', '')\n",
      "421 S MOLLISON AVE EL CAJON 92020 apartments\n",
      "('', '', '', '', '', '')\n",
      "160 W SAN YSIDRO BLVD SAN YSIDRO 92173 apartments\n",
      "('', '', '', '', '', '')\n",
      "3925 LAMONT ST SAN DIEGO 92109 apartments\n",
      "('', '', '', '', '', '')\n",
      "4825 LOTUS ST SAN DIEGO 92107 apartments\n",
      "('', '', '', '', '', '')\n",
      "11017 WOODSIDE AVE SANTEE 92071 apartments\n",
      "('(619) 449-9091', '', '', '11085 Woodside Ave', 'Santee', 'CA 92071')\n",
      "900 PALM AVE NATIONAL CITY 91950 apartments\n",
      "('', '', '', '', '', '')\n",
      "1556 THOMAS AVE SAN DIEGO 92109 apartments\n",
      "('', '', '', '', '', '')\n",
      "2125 REED AVE SAN DIEGO 92109 apartments\n",
      "('', '', '', '', '', '')\n",
      "4258 49TH ST SAN DIEGO 92115 apartments\n",
      "('', '', '', '', '', '')\n",
      "2265 CURLEW ST SAN DIEGO 92101 apartments\n",
      "('', '', '', '', '', '')\n",
      "1968 1ST AVE SAN DIEGO 92101 apartments\n",
      "('', '', '', '', '', '')\n",
      "9909 RIO SAN DIEGO DR SAN DIEGO 92108 apartments\n",
      "('', '', '', '', '', '')\n",
      "3949 KANSAS ST SAN DIEGO 92104 apartments\n",
      "('', '', '', '', '', '')\n",
      "nan SAN DIEGO 92104 apartments\n",
      "('', '', '', '', '', '')\n",
      "4438 PARK BLVD SAN DIEGO 92116 apartments\n",
      "('', '', '', '', '', '')\n",
      "7530 NORTH AVE LEMON GROVE 91945 apartments\n",
      "('', '', '', '', '', '')\n",
      "1656 S ESCONDIDO BLVD ESCONDIDO 92025 apartments\n",
      "('', '', '', '', '', '')\n",
      "3206 WEBSTER AVE SAN DIEGO 92113 apartments\n",
      "('', '', '', '', '', '')\n",
      "1635 NATIONAL AVE SAN DIEGO 92113 apartments\n",
      "('', '', '', '', '', '')\n",
      "217 AUTUMN DR SAN MARCOS 92069 apartments\n",
      "('', '', '', '', '', '')\n",
      "2229 2ND AVE SAN DIEGO 92101 apartments\n",
      "('', '', '', '', '', '')\n",
      "535 GREENBRIER DR OCEANSIDE 92054 apartments\n",
      "('', '', '', '', '', '')\n",
      "1580 S JUNIPER ST ESCONDIDO 92025 apartments\n",
      "('(442) 248-8325', '', '', '1580 S Juniper St', 'Escondido', 'CA 92025')\n",
      "102 DICKINSON ST APT G SAN DIEGO 92103 apartments\n",
      "('', '', '', '', '', '')\n",
      "5050 MARLBOROUGH DR SAN DIEGO 92116 apartments\n",
      "('', '', '', '', '', '')\n",
      "10024 PASEO MONTRIL SAN DIEGO 92129 apartments\n",
      "('(858) 324-1114', '', '', '10024 Paseo Montril', 'San Diego', 'CA 92129')\n",
      "1444 ISLAND AVE SAN DIEGO 92101 apartments\n",
      "('', '', '', '', '', '')\n",
      "9016 CARLTON HILLS BLVD SANTEE 92071 apartments\n",
      "('', '', '', '', '', '')\n",
      "5230 FIORE TER SAN DIEGO 92122 apartments\n",
      "('(855) 304-3428', '', '', '5280 Fiore Terrace', 'San Diego', 'CA 92122')\n",
      "3725 DALBERGIA ST SAN DIEGO 92113 apartments\n",
      "('', '', '', '', '', '')\n",
      "4757 RENO DR SAN DIEGO 92105 apartments\n",
      "('', '', '', '', '', '')\n",
      "1968 MISSOURI ST SAN DIEGO 92109 apartments\n",
      "('', '', '', '', '', '')\n",
      "1739 SUNSET CLIFFS BLVD SAN DIEGO 92107 apartments\n",
      "('', '', '', '', '', '')\n",
      "2282 W DUNLOP ST SAN DIEGO 92111 apartments\n",
      "('(858) 565-6400', '', '', '2291 Dunlop St', 'San Diego', 'CA 92111')\n",
      "7002 LINDA VISTA RD SAN DIEGO 92111 apartments\n",
      "('', '', '', '', '', '')\n",
      "1491 14TH ST IMPERIAL BEACH 91932 apartments\n",
      "('', '', '', '', '', '')\n",
      "4670 IDAHO ST SAN DIEGO 92116 apartments\n",
      "('', '', '', '', '', '')\n",
      "5560 SHASTA LN LA MESA 91942 apartments\n",
      "('', '', '', '', '', '')\n",
      "5664 ANDROS PL SAN DIEGO 92115 apartments\n",
      "('', '', '', '', '', '')\n",
      "706 CONVERTIBLE LN FALLBROOK 92028 apartments\n",
      "('', '', '', '', '', '')\n",
      "4471 MONTALVO ST SAN DIEGO 92107 apartments\n",
      "('', '', '', '', '', '')\n",
      "485 E PARK AVE EL CAJON 92020 apartments\n",
      "('', '', '', '', '', '')\n",
      "3628 LOGAN AVE SAN DIEGO 92113 apartments\n",
      "('', '', '', '', '', '')\n",
      "2358 PALERMO DR SAN DIEGO 92106 apartments\n",
      "('', '', '', '', '', '')\n",
      "4878 SARATOGA AVE SAN DIEGO 92107 apartments\n",
      "('', '', '', '', '', '')\n",
      "3775 BOYD AVE SAN DIEGO 92111 apartments\n",
      "('', '', '', '', '', '')\n",
      "1075 DEL MAR AVE CHULA VISTA 91911 apartments\n",
      "('', '', '', '', '', '')\n",
      "1702 LINCOLN AVE SAN DIEGO 92103 apartments\n",
      "('', '', '', '', '', '')\n",
      "3809 SHASTA ST SAN DIEGO 92109 apartments\n",
      "('', '', '', '', '', '')\n",
      "4921 BRIGHTON AVE SAN DIEGO 92107 apartments\n",
      "('', '', '', '', '', '')\n",
      "3620 GEORGIA ST SAN DIEGO 92103 apartments\n",
      "('', '', '', '', '', '')\n",
      "7529 HERSCHEL AVE LA JOLLA 92037 apartments\n",
      "('', '', '', '', '', '')\n",
      "343 GRANT ST OCEANSIDE 92054 apartments\n",
      "('(760) 359-8005', '', '', '415 Grant St Suite 900', 'Oceanside', 'CA 92054')\n",
      "4053 WILSON AVE SAN DIEGO 92104 apartments\n",
      "('', '', '', '', '', '')\n",
      "11520 COMPASS POINT DR N SAN DIEGO 92126 apartments\n",
      "('', '', '', '', '', '')\n",
      "4551 SPRING ST LA MESA 91941 apartments\n",
      "('', '', '', '', '', '')\n",
      "3763 INGRAHAM ST SAN DIEGO 92109 apartments\n",
      "('', '', '', '', '', '')\n",
      "4023 47TH ST SAN DIEGO 92105 apartments\n",
      "('', '', '', '', '', '')\n",
      "12817 MAPLEVIEW ST LAKESIDE 92040 apartments\n",
      "('', '', '', '', '', '')\n",
      "3175 CAUBY ST SAN DIEGO 92110 apartments\n",
      "('(619) 224-1771', '', '', '3175 Cauby St # 90', 'San Diego', 'CA 92110')\n",
      "4433 TEMECULA ST SAN DIEGO 92107 apartments\n",
      "('', '', '', '', '', '')\n",
      "4560 CAMPUS AVE SAN DIEGO 92116 apartments\n",
      "('', '', '', '', '', '')\n",
      "326 W UNIVERSITY AVE SAN DIEGO 92103 apartments\n",
      "('', '', '', '', '', '')\n",
      "8796 SPECTRUM CTR BLVD nan 92123 apartments\n",
      "('(858) 295-3308', '', '', '8798 Spectrum Center Blvd', 'San Diego', 'CA 92123')\n",
      "4290 MOUNT ABERNATHY AVE SAN DIEGO 92117 apartments\n",
      "('', '', '', '', '', '')\n",
      "1631 STATE ST SAN DIEGO 92101 apartments\n",
      "('', '', '', '', '', '')\n",
      "2144 BALBOA AVE SAN DIEGO 92109 apartments\n",
      "('', '', '', '', '', '')\n",
      "4495 ILLINOIS ST SAN DIEGO 92116 apartments\n",
      "('', '', '', '', '', '')\n",
      "4835 NIAGARA AVE SAN DIEGO 92107 apartments\n",
      "('', '', '', '', '', '')\n",
      "571 ARIZONA ST CHULA VISTA 91911 apartments\n",
      "('', '', '', '', '', '')\n",
      "3574 4TH AVE SAN DIEGO 92103 apartments\n",
      "('', '', '', '', '', '')\n",
      "4851 DEL MONTE AVE SAN DIEGO 92107 apartments\n",
      "('', '', '', '', '', '')\n",
      "709 MISSOURI ST SAN DIEGO 92109 apartments\n",
      "('', '', '', '', '', '')\n",
      "4149 36TH ST SAN DIEGO 92104 apartments\n",
      "('', '', '', '', '', '')\n",
      "3811 WABASH AVE SAN DIEGO 92104 apartments\n",
      "('', '', '', '', '', '')\n",
      "737 E WASHINGTON AVE ESCONDIDO 92025 apartments\n",
      "('', '', '', '', '', '')\n",
      "431 E 4TH AVE ESCONDIDO 92025 apartments\n",
      "('', '', '', '', '', '')\n",
      "4979 AUBURN DR SAN DIEGO 92105 apartments\n",
      "('', '', '', '', '', '')\n",
      "7777 WESTSIDE DR SAN DIEGO 92108 apartments\n",
      "('(619) 223-7777', '', '', '7777 Westside Dr', 'San Diego', 'CA 92108')\n",
      "3863 45TH ST SAN DIEGO 92105 apartments\n",
      "('', '', '', '', '', '')\n",
      "2301 ALTISMA WAY CARLSBAD 92009 apartments\n",
      "('', '', '', '', '', '')\n",
      "943 20TH ST SAN DIEGO 92102 apartments\n",
      "('', '', '', '', '', '')\n",
      "7491 COLLINS AVE LA MESA 91942 apartments\n",
      "('', '', '', '', '', '')\n",
      "6539 BROOKLYN AVE SAN DIEGO 92114 apartments\n",
      "('', '', '', '', '', '')\n",
      "7227 SARANAC ST SAN DIEGO 92115 apartments\n",
      "('', '', '', '', '', '')\n",
      "4530 MARYLAND ST SAN DIEGO 92116 apartments\n",
      "('', '', '', '', '', '')\n",
      "4910 OCEAN VIEW BLVD SAN DIEGO 92113 apartments\n",
      "('', '', '', '', '', '')\n",
      "3885 BIRCH ST SAN DIEGO 92113 apartments\n",
      "('', '', '', '', '', '')\n",
      "3740 WIGHTMAN ST SAN DIEGO 92105 apartments\n",
      "('', '', '', '', '', '')\n",
      "1826 BROADWAY OCEANSIDE 92054 apartments\n",
      "('', '', '', '', '', '')\n",
      "177 S LINCOLN AVE EL CAJON 92020 apartments\n",
      "('', '', '', '', '', '')\n",
      "4511 35TH ST SAN DIEGO 92116 apartments\n",
      "('', '', '', '', '', '')\n",
      "4077 BETA ST SAN DIEGO 92113 apartments\n",
      "('', '', '', '', '', '')\n",
      "705 IDA AVE SOLANA BEACH 92075 apartments\n",
      "('', '', '', '', '', '')\n",
      "424 EMERALD AVE EL CAJON 92020 apartments\n",
      "('', '', '', '', '', '')\n",
      "5636 LAURETTA ST SAN DIEGO 92110 apartments\n",
      "('', '', '', '', '', '')\n",
      "9062 KENWOOD DR SPRING VALLEY 91977 apartments\n",
      "('', '', '', '', '', '')\n",
      "4018 ILLINOIS ST SAN DIEGO 92104 apartments\n",
      "('', '', '', '', '', '')\n",
      "4610 MAPLE AVE LA MESA 91942 apartments\n",
      "('', '', '', '', '', '')\n",
      "3735 PERSHING AVE SAN DIEGO 92104 apartments\n",
      "('', '', '', '', '', '')\n",
      "4042 47TH ST SAN DIEGO 92105 apartments\n",
      "('', '', '', '', '', '')\n",
      "4061 IDAHO ST SAN DIEGO 92104 apartments\n",
      "('', '', '', '', '', '')\n",
      "8211 VINCETTA DR LA MESA 91942 apartments\n",
      "('', '', '', '', '', '')\n",
      "284 MADRONA ST CHULA VISTA 91910 apartments\n",
      "('', '', '', '', '', '')\n",
      "4630 OHIO ST SAN DIEGO 92116 apartments\n",
      "('', '', '', '', '', '')\n",
      "2500 SEA CLIFF WAY OCEANSIDE 92056 apartments\n",
      "('(760) 433-2900', '', '', '2500 Sea Cliff Way', 'Oceanside', 'CA 92056')\n",
      "325 HILLSIDE TER VISTA 92084 apartments\n",
      "('', '', '', '', '', '')\n",
      "4489 30TH ST SAN DIEGO 92116 apartments\n",
      "('', '', '', '', '', '')\n",
      "1191 GROVE AVE IMPERIAL BEACH 91932 apartments\n",
      "('', '', '', '', '', '')\n",
      "831 21ST ST SAN DIEGO 92102 apartments\n",
      "('', '', '', '', '', '')\n",
      "4470 EUCLID AVE SAN DIEGO 92115 apartments\n",
      "('', '', '', '', '', '')\n",
      "1053 E WASHINGTON AVE EL CAJON 92020 apartments\n",
      "('', '', '', '', '', '')\n",
      "5492 IMPERIAL AVE SAN DIEGO 92114 apartments\n",
      "('', '', '', '', '', '')\n",
      "12529 OAK KNOLL RD POWAY 92064 apartments\n",
      "('', '', '', '', '', '')\n",
      "127 W RENETTE AVE EL CAJON 92020 apartments\n",
      "('(619) 315-3304', '', '', '127 W Renette Ave', 'El Cajon', 'CA 92020')\n",
      "430 S WILLIE JAMES JONES AVE SAN DIEGO 92113 apartments\n",
      "('', '', '', '', '', '')\n",
      "1345 OCEAN AVE DEL MAR 92014 apartments\n",
      "('', '', '', '', '', '')\n",
      "3430 HELIX ST SPRING VALLEY 91977 apartments\n",
      "('', '', '', '', '', '')\n",
      "2252 MORLEY ST SAN DIEGO 92111 apartments\n",
      "('', '', '', '', '', '')\n",
      "1202 S MAPLE ST ESCONDIDO 92025 apartments\n",
      "('', '', '', '', '', '')\n",
      "480 DAVIDSON ST CHULA VISTA 91910 apartments\n",
      "('', '', '', '', '', '')\n",
      "8603 LEMON AVE LA MESA 91941 apartments\n",
      "('', '', '', '', '', '')\n",
      "274 WHITNEY ST CHULA VISTA 91910 apartments\n",
      "('', '', '', '', '', '')\n",
      "880 E WASHINGTON AVE ESCONDIDO 92025 apartments\n",
      "('', '', '', '', '', '')\n",
      "4955 NIAGARA AVE SAN DIEGO 92107 apartments\n",
      "('', '', '', '', '', '')\n",
      "nan SAN DIEGO 92113 apartments\n",
      "('', '', '', '', '', '')\n",
      "4036 47TH ST SAN DIEGO 92105 apartments\n",
      "('', '', '', '', '', '')\n",
      "4080 32ND ST SAN DIEGO 92104 apartments\n",
      "('', '', '', '', '', '')\n",
      "3947 NORMAL ST SAN DIEGO 92103 apartments\n",
      "('', '', '', '', '', '')\n",
      "3779 3RD AVE SAN DIEGO 92103 apartments\n",
      "('', '', '', '', '', '')\n",
      "4840 DEL MONTE AVE SAN DIEGO 92107 apartments\n",
      "('', '', '', '', '', '')\n",
      "1425 C ST SAN DIEGO 92101 apartments\n",
      "('(619) 501-6199', '', '', '1425 C St', 'San Diego', 'CA 92101')\n",
      "500 N MIDWAY DR ESCONDIDO 92027 apartments\n",
      "('', '', '', '', '', '')\n",
      "124 E 17TH ST NATIONAL CITY 91950 apartments\n",
      "('', '', '', '', '', '')\n",
      "4435 44TH ST SAN DIEGO 92115 apartments\n",
      "('', '', '', '', '', '')\n",
      "952 TOURMALINE ST SAN DIEGO 92109 apartments\n",
      "('', '', '', '', '', '')\n",
      "4841 W MOUNTAIN VIEW DR SAN DIEGO 92116 apartments\n",
      "('(619) 432-4290', '', '', '4841 W Mountain View Dr', 'San Diego', 'CA 92116')\n",
      "503 N GRAPE ST ESCONDIDO 92025 apartments\n",
      "('', '', '', '', '', '')\n",
      "7125 WAITE DR LA MESA 91941 apartments\n",
      "('', '', '', '', '', '')\n",
      "714 OLIVER AVE SAN DIEGO 92109 apartments\n",
      "('', '', '', '', '', '')\n",
      "8605 MELLMANOR DR LA MESA 91942 apartments\n",
      "('', '', '', '', '', '')\n",
      "2600 FRONT ST SAN DIEGO 92103 apartments\n",
      "('', '', '', '', '', '')\n",
      "1655 9TH AVE SAN DIEGO 92101 apartments\n",
      "('', '', '', '', '', '')\n",
      "3644 S BARCELONA ST SPRING VALLEY 91977 apartments\n",
      "('', '', '', '', '', '')\n",
      "3548 GEORGIA ST SAN DIEGO 92103 apartments\n",
      "('', '', '', '', '', '')\n",
      "5111 LOTUS ST SAN DIEGO 92107 apartments\n",
      "('', '', '', '', '', '')\n",
      "747 AVOCADO AVE EL CAJON 92020 apartments\n",
      "('(619) 440-4605', '', '', '747 Avocado Ave', 'El Cajon', 'CA 92020')\n",
      "1933 B AVE NATIONAL CITY 91950 apartments\n",
      "('', '', '', '', '', '')\n",
      "4355 JUNIPER ST SAN DIEGO 92105 apartments\n",
      "('', '', '', '', '', '')\n",
      "426 S FREEMAN ST OCEANSIDE 92054 apartments\n",
      "('', '', '', '', '', '')\n",
      "171 NETTLETON RD VISTA 92083 apartments\n",
      "('', '', '', '', '', '')\n",
      "3750 CROWN POINT DR SAN DIEGO 92109 apartments\n",
      "('', '', '', '', '', '')\n",
      "300 ZUKOR GLN ESCONDIDO 92025 apartments\n",
      "('(760) 389-3712', '', '', '493 Beaumont Glen', 'Escondido', 'CA 92026')\n",
      "414 GRANT ST OCEANSIDE 92054 apartments\n",
      "('(760) 359-8005', '', '', '415 Grant St Suite 900', 'Oceanside', 'CA 92054')\n",
      "1430 OAKDALE AVE EL CAJON 92021 apartments\n",
      "('(619) 442-1220', '', '', '1432 Oakdale Ave', 'El Cajon', 'CA 92021')\n",
      "12382 LAKESHORE DR LAKESIDE 92040 apartments\n",
      "('', '', '', '', '', '')\n",
      "633 N FIG ST ESCONDIDO 92025 apartments\n",
      "('(602) 451-8888', '', '', '633 N Fig St', 'Escondido', 'CA 92025')\n",
      "932 TAIT ST OCEANSIDE 92054 apartments\n",
      "('', '', '', '', '', '')\n",
      "4025 ARIZONA ST SAN DIEGO 92104 apartments\n",
      "('', '', '', '', '', '')\n",
      "5070 NARRAGANSETT AVE SAN DIEGO 92107 apartments\n",
      "('', '', '', '', '', '')\n",
      "328 ORANGE AVE CORONADO 92118 apartments\n",
      "('', '', '', '', '', '')\n",
      "3659 44TH ST SAN DIEGO 92105 apartments\n",
      "('', '', '', '', '', '')\n",
      "3553 COLLEGE AVE SAN DIEGO 92115 apartments\n",
      "('', '', '', '', '', '')\n",
      "5040 COMANCHE DR LA MESA 91942 apartments\n",
      "('(619) 697-8713', '', '', '5040 Comanche Dr', 'La Mesa', 'CA 91942')\n",
      "721 S CEDROS AVE SOLANA BEACH 92075 apartments\n",
      "('', '', '', '', '', '')\n",
      "351 S. 33RD ST nan 92113 apartments\n",
      "('', '', '', '', '', '')\n",
      "455 AVOCADO AVE EL CAJON 92020 apartments\n",
      "('', '', '', '', '', '')\n",
      "6867 GOLFCREST DR SAN DIEGO 92119 apartments\n",
      "('(619) 832-3796', '', '', '6867 Golfcrest Dr', 'San Diego', 'CA 92119')\n",
      "1127 GRAND AVE SAN DIEGO 92109 apartments\n",
      "('', '', '', '', '', '')\n",
      "3935 MISSISSIPPI ST SAN DIEGO 92104 apartments\n",
      "('', '', '', '', '', '')\n",
      "5025 COMANCHE DR LA MESA 91942 apartments\n",
      "('', '', '', '', '', '')\n",
      "541 22ND ST SAN DIEGO 92102 apartments\n",
      "('', '', '', '', '', '')\n",
      "0 OLD GROVE AVE OCEANSIDE 92057 apartments\n",
      "('', '', '', '', '', '')\n",
      "841 E 4TH AVE ESCONDIDO 92025 apartments\n",
      "('', '', '', '', '', '')\n",
      "7912 HUMMINGBIRD LN SAN DIEGO 92123 apartments\n",
      "('', '', '', '', '', '')\n",
      "2677 MARATHON DR SAN DIEGO 92123 apartments\n",
      "('', '', '', '', '', '')\n",
      "233 20TH ST SAN DIEGO 92102 apartments\n",
      "('', '', '', '', '', '')\n",
      "4572 34TH ST SAN DIEGO 92116 apartments\n",
      "('', '', '', '', '', '')\n",
      "2157 S SANTA FE AVE VISTA 92083 apartments\n",
      "('', '', '', '', '', '')\n",
      "4553 CAMPUS AVE SAN DIEGO 92116 apartments\n",
      "('', '', '', '', '', '')\n",
      "4338 ILLINOIS ST SAN DIEGO 92104 apartments\n",
      "('', '', '', '', '', '')\n",
      "1656 REED AVE SAN DIEGO 92109 apartments\n",
      "('', '', '', '', '', '')\n",
      "4143 CHEROKEE AVE SAN DIEGO 92104 apartments\n",
      "('', '', '', '', '', '')\n",
      "1521 CABLE ST SAN DIEGO 92107 apartments\n",
      "('', '', '', '', '', '')\n",
      "3962 HAMILTON ST SAN DIEGO 92104 apartments\n",
      "('(619) 543-1153', '', '', '4043 Hamilton St', 'San Diego', 'CA 92104')\n",
      "126 E 5TH ST NATIONAL CITY 91950 apartments\n",
      "('', '', '', '', '', '')\n",
      "2817 CARLETON ST SAN DIEGO 92106 apartments\n",
      "('', '', '', '', '', '')\n",
      "4577 TEXAS ST SAN DIEGO 92116 apartments\n",
      "('', '', '', '', '', '')\n",
      "380 S 46TH ST SAN DIEGO 92113 apartments\n",
      "('', '', '', '', '', '')\n",
      "4944 SANTA MONICA AVE SAN DIEGO 92107 apartments\n",
      "('', '', '', '', '', '')\n",
      "4586 IDAHO ST SAN DIEGO 92116 apartments\n",
      "('', '', '', '', '', '')\n",
      "4335 HIGHLAND AVE SAN DIEGO 92115 apartments\n",
      "('', '', '', '', '', '')\n",
      "227 DAISY AVE IMPERIAL BEACH 91932 apartments\n",
      "('', '', '', '', '', '')\n",
      "967 POSTAL WAY VISTA 92083 apartments\n",
      "('', '', '', '', '', '')\n",
      "2421 E ST SAN DIEGO 92102 apartments\n",
      "('', '', '', '', '', '')\n",
      "602 N CLEVELAND ST OCEANSIDE 92054 apartments\n",
      "('', '', '', '', '', '')\n",
      "4610 DAWES ST SAN DIEGO 92109 apartments\n",
      "('', '', '', '', '', '')\n",
      "9720 PARK TERRACE DR SANTEE 92071 apartments\n",
      "('', '', '', '', '', '')\n",
      "4748 KANSAS ST SAN DIEGO 92116 apartments\n",
      "('', '', '', '', '', '')\n",
      "6229 LA JOLLA BLVD LA JOLLA 92037 apartments\n",
      "('', '', '', '', '', '')\n",
      "449 MILBRAE ST SAN DIEGO 92113 apartments\n",
      "('', '', '', '', '', '')\n",
      "4831 CLAIREMONT MESA BLVD SAN DIEGO 92117 apartments\n",
      "('', '', '', '', '', '')\n",
      "4348 MCCLINTOCK ST SAN DIEGO 92105 apartments\n",
      "('', '', '', '', '', '')\n",
      "4615 KANTOR ST SAN DIEGO 92122 apartments\n",
      "('', '', '', '', '', '')\n",
      "326 HILLSIDE TER VISTA 92084 apartments\n",
      "('', '', '', '', '', '')\n",
      "4302 PALM AVE LA MESA 91941 apartments\n",
      "('(619) 466-2926', '', '', '4302 Palm Ave', 'La Mesa', 'CA 91941')\n",
      "1944 WEST DR VISTA 92083 apartments\n",
      "('', '', '', '', '', '')\n",
      "3610 PARK BLVD SAN DIEGO 92103 apartments\n",
      "('', '', '', '', '', '')\n",
      "163 BALLANTYNE ST EL CAJON 92020 apartments\n",
      "('(619) 579-6248', '', '', '163 Ballantyne St', 'El Cajon', 'CA 92020')\n",
      "320 AVOCADO AVE EL CAJON 92020 apartments\n",
      "('', '', '', '', '', '')\n",
      "6165 CARLING WAY SAN DIEGO 92115 apartments\n",
      "('', '', '', '', '', '')\n",
      "336 ZENITH ST CHULA VISTA 91911 apartments\n",
      "('', '', '', '', '', '')\n",
      "9953 SAN JUAN ST SPRING VALLEY 91977 apartments\n",
      "('', '', '', '', '', '')\n",
      "4613 ALABAMA ST SAN DIEGO 92116 apartments\n",
      "('', '', '', '', '', '')\n",
      "1274 ESSEX ST SAN DIEGO 92103 apartments\n",
      "('', '', '', '', '', '')\n",
      "821 AVENIDA DE BENITO JUAREZ VISTA 92083 apartments\n",
      "('', '', '', '', '', '')\n",
      "9540 VIA ZAPADOR SANTEE 92071 apartments\n",
      "('', '', '', '', '', '')\n",
      "149 CADMUS ST ENCINITAS 92024 apartments\n",
      "('', '', '', '', '', '')\n",
      "2424 INDIA ST SAN DIEGO 92101 apartments\n",
      "('', '', '', '', '', '')\n",
      "3076 LINCOLN AVE SAN DIEGO 92104 apartments\n",
      "('', '', '', '', '', '')\n",
      "1601 RIVA LN ESCONDIDO 92027 apartments\n",
      "('', '', '', '', '', '')\n",
      "1154 E LEXINGTON AVE EL CAJON 92019 apartments\n",
      "('', '', '', '', '', '')\n",
      "3018 44TH ST SAN DIEGO 92105 apartments\n",
      "('', '', '', '', '', '')\n",
      "4405 39TH ST SAN DIEGO 92116 apartments\n",
      "('', '', '', '', '', '')\n",
      "7556 HERSCHEL AVE LA JOLLA 92037 apartments\n",
      "('', '', '', '', '', '')\n",
      "4529 TEXAS ST SAN DIEGO 92116 apartments\n",
      "('', '', '', '', '', '')\n",
      "11056 W OCEAN AIR DR SAN DIEGO 92130 apartments\n",
      "('', '', '', '', '', '')\n",
      "4052 IOWA ST SAN DIEGO 92104 apartments\n",
      "('', '', '', '', '', '')\n",
      "2117 FRONT ST SAN DIEGO 92101 apartments\n",
      "('', '', '', '', '', '')\n",
      "3512 HARDING ST CARLSBAD 92008 apartments\n",
      "('(760) 505-7736', '', '', '3512 Harding St', 'Carlsbad', 'CA 92008')\n",
      "2045 30TH ST SAN DIEGO 92104 apartments\n",
      "('', '', '', '', '', '')\n",
      "4435 ESTRELLA AVE SAN DIEGO 92115 apartments\n",
      "('', '', '', '', '', '')\n",
      "4039 ESTRELLA AVE SAN DIEGO 92105 apartments\n",
      "('', '', '', '', '', '')\n",
      "5971 MILDRED ST SAN DIEGO 92110 apartments\n",
      "('', '', '', '', '', '')\n",
      "4479 MARYLAND ST SAN DIEGO 92116 apartments\n",
      "('', '', '', '', '', '')\n",
      "7555 HERSCHEL AVE LA JOLLA 92037 apartments\n",
      "('', '', '', '', '', '')\n",
      "8447 LA MESA BLVD LA MESA 91942 apartments\n",
      "('', '', '', '', '', '')\n",
      "4070 MISSISSIPPI ST SAN DIEGO 92104 apartments\n",
      "('', '', '', '', '', '')\n",
      "4723 POLK AVE SAN DIEGO 92105 apartments\n",
      "('', '', '', '', '', '')\n",
      "3970 FLORIDA ST SAN DIEGO 92104 apartments\n",
      "('', '', '', '', '', '')\n",
      "440 E H ST CHULA VISTA 91910 apartments\n",
      "('(619) 494-2109', '', '', '440 E H St', 'Chula Vista', 'CA 91910')\n",
      "1076 S MAGNOLIA AVE EL CAJON 92020 apartments\n",
      "('', '', '', '', '', '')\n",
      "118 S PACIFIC ST OCEANSIDE 92054 apartments\n",
      "('', '', '', '', '', '')\n",
      "4273 47TH ST SAN DIEGO 92115 apartments\n",
      "('', '', '', '', '', '')\n",
      "4611 GEORGIA ST SAN DIEGO 92116 apartments\n",
      "('', '', '', '', '', '')\n",
      "1960 E GRAND AVE ESCONDIDO 92027 apartments\n",
      "('(760) 317-9869', '', '', '1960 E Grand Ave', 'Escondido', 'CA 92027')\n",
      "4495 NORTH AVE SAN DIEGO 92116 apartments\n",
      "('', '', '', '', '', '')\n",
      "922 S SUNSHINE AVE EL CAJON 92020 apartments\n",
      "('', '', '', '', '', '')\n",
      "4395 70TH ST LA MESA 91942 apartments\n",
      "('(619) 432-4902', '', '', '4395 70th St', 'La Mesa', 'CA 91942')\n",
      "4144 RAPPAHANNOCK AVE SAN DIEGO 92117 apartments\n",
      "('', '', '', '', '', '')\n",
      "2914 FAIRMOUNT AVE SAN DIEGO 92105 apartments\n",
      "('', '', '', '', '', '')\n",
      "5065 THORNE DR LA MESA 91942 apartments\n",
      "('', '', '', '', '', '')\n",
      "4436 56TH ST SAN DIEGO 92115 apartments\n",
      "('', '', '', '', '', '')\n",
      "2 CREEKSIDE DR UNIT 110 SAN MARCOS 92078 apartments\n",
      "('', '', '', '', '', '')\n",
      "4656 UTAH ST SAN DIEGO 92116 apartments\n",
      "('', '', '', '', '', '')\n",
      "4368 CLAIREMONT MESA BLVD SAN DIEGO 92117 apartments\n",
      "('', '', '', '', '', '')\n",
      "380 ACACIA AVE CARLSBAD 92008 apartments\n",
      "('', '', '', '', '', '')\n",
      "5431 LAKE MURRAY BLVD UNIT 15 LA MESA 91942 apartments\n",
      "('', '', '', '', '', '')\n",
      "3725 4TH AVE SAN DIEGO 92103 apartments\n",
      "('', '', '', '', '', '')\n",
      "1038 PEACH AVE EL CAJON 92021 apartments\n",
      "('(619) 304-8217', '', '', '1050 Peach Ave', 'El Cajon', 'CA 92021')\n",
      "2101 DALE ST SAN DIEGO 92104 apartments\n",
      "('', '', '', '', '', '')\n",
      "3362 C ST SAN DIEGO 92102 apartments\n",
      "('', '', '', '', '', '')\n",
      "129 10TH ST DEL MAR 92014 apartments\n",
      "('', '', '', '', '', '')\n",
      "230 EBONY AVE IMPERIAL BEACH 91932 apartments\n",
      "('', '', '', '', '', '')\n",
      "948 N SANTA FE AVE VISTA 92083 apartments\n",
      "('', '', '', '', '', '')\n",
      "7830 STALMER ST SAN DIEGO 92111 apartments\n",
      "('(858) 277-4843', '', '', '7870 Stalmer St', 'San Diego', 'CA 92111')\n",
      "4465 MCCLINTOCK ST SAN DIEGO 92116 apartments\n",
      "('', '', '', '', '', '')\n",
      "4546 54TH ST SAN DIEGO 92115 apartments\n",
      "('', '', '', '', '', '')\n",
      "818 E ALVARADO ST FALLBROOK 92028 apartments\n",
      "('(760) 255-2858', '', '', '818 E Alvarado St', 'Fallbrook', 'CA 92028')\n",
      "4144 32ND ST SAN DIEGO 92104 apartments\n",
      "('', '', '', '', '', '')\n",
      "820 HERNANDEZ ST SOLANA BEACH 92075 apartments\n",
      "('', '', '', '', '', '')\n",
      "4532 36TH ST SAN DIEGO 92116 apartments\n",
      "('', '', '', '', '', '')\n",
      "4573 TWAIN AVE SAN DIEGO 92120 apartments\n",
      "('', '', '', '', '', '')\n",
      "2138 ADAMS AVE SAN DIEGO 92116 apartments\n",
      "('', '', '', '', '', '')\n",
      "3989 HAINES ST SAN DIEGO 92109 apartments\n",
      "('', '', '', '', '', '')\n",
      "7541 GIBRALTAR ST CARLSBAD 92009 apartments\n",
      "('', '', '', '', '', '')\n",
      "4275 KENDALL ST SAN DIEGO 92109 apartments\n",
      "('', '', '', '', '', '')\n",
      "3740 PERSHING AVE SAN DIEGO 92104 apartments\n",
      "('', '', '', '', '', '')\n",
      "840 3RD AVE CHULA VISTA 91911 apartments\n",
      "('', '', '', '', '', '')\n",
      "1430 DUBUQUE ST OCEANSIDE 92058 apartments\n",
      "('', '', '', '', '', '')\n",
      "3465 WEBSTER AVE SAN DIEGO 92113 apartments\n",
      "('', '', '', '', '', '')\n",
      "3850 EAGLE ST SAN DIEGO 92103 apartments\n",
      "('(619) 391-3795', '', '', '4021 Falcon St', 'San Diego', 'CA 92103')\n",
      "34 D AVE NATIONAL CITY 91950 apartments\n",
      "('', '', '', '', '', '')\n",
      "257 LADO DE LOMA DR VISTA 92083 apartments\n",
      "('', '', '', '', '', '')\n",
      "814 4TH ST CORONADO 92118 apartments\n",
      "('', '', '', '', '', '')\n",
      "991 PINE AVE CARLSBAD 92008 apartments\n",
      "('', '', '', '', '', '')\n",
      "265 WOODLAWN AVE CHULA VISTA 91910 apartments\n",
      "('', '', '', '', '', '')\n",
      "4483 PALM AVE LA MESA 91941 apartments\n",
      "('', '', '', '', '', '')\n",
      "6907 CAMINO DEGRAZIA SAN DIEGO 92111 apartments\n",
      "('', '', '', '', '', '')\n",
      "2725 1ST AVE SAN DIEGO 92103 apartments\n",
      "('', '', '', '', '', '')\n",
      "1030 15TH ST SAN DIEGO 92154 apartments\n",
      "('', '', '', '', '', '')\n",
      "520 MEANDER GLN ESCONDIDO 92025 apartments\n",
      "('', '', '', '', '', '')\n",
      "6159 MONTEZUMA RD SAN DIEGO 92115 apartments\n",
      "('(619) 539-7088', '', '', '6159 Montezuma Rd', 'San Diego', 'CA 92115')\n",
      "855 REGULO PL CHULA VISTA 91910 apartments\n",
      "('(619) 639-1904', '', '', '841 Regulo Pl', 'Chula Vista', 'CA 91910')\n",
      "611 E MISSION AVE ESCONDIDO 92025 apartments\n",
      "('', '', '', '', '', '')\n",
      "4638 NORTH AVE SAN DIEGO 92116 apartments\n",
      "('', '', '', '', '', '')\n",
      "3702 HILLTOP DR LEMON GROVE 91945 apartments\n",
      "('', '', '', '', '', '')\n",
      "4583 HAWLEY BLVD SAN DIEGO 92116 apartments\n",
      "('', '', '', '', '', '')\n",
      "2154 GARSTON ST nan 92111 apartments\n",
      "('(858) 279-6060', '', '', '2154 Garston St', 'San Diego', 'CA 92111')\n",
      "4707 FELTON ST SAN DIEGO 92116 apartments\n",
      "('', '', '', '', '', '')\n",
      "804 EUCALYPTUS AVE VISTA 92084 apartments\n",
      "('', '', '', '', '', '')\n",
      "4062 OHIO ST SAN DIEGO 92104 apartments\n",
      "('', '', '', '', '', '')\n",
      "240 NEVADA AVE VISTA 92084 apartments\n",
      "('(760) 659-6147', '', '', '240 Nevada Ave', 'Vista', 'CA 92084')\n",
      "8798 SPECTRUM CENTER BLVD SAN DIEGO 92123 apartments\n",
      "('', '', '', '', '', '')\n",
      "1277 ESSEX ST SAN DIEGO 92103 apartments\n",
      "('', '', '', '', '', '')\n",
      "2057 REED AVE SAN DIEGO 92109 apartments\n",
      "('', '', '', '', '', '')\n",
      "4818 MUIR AVE SAN DIEGO 92107 apartments\n",
      "('', '', '', '', '', '')\n",
      "5710 HARDY AVE SAN DIEGO 92115 apartments\n",
      "('', '', '', '', '', '')\n",
      "4214 HARBINSON AVE LA MESA 91942 apartments\n",
      "('', '', '', '', '', '')\n",
      "216 C AVE CORONADO 92118 apartments\n",
      "('', '', '', '', '', '')\n",
      "4044 32ND ST SAN DIEGO 92104 apartments\n",
      "('', '', '', '', '', '')\n",
      "4249 MENLO AVE SAN DIEGO 92115 apartments\n",
      "('', '', '', '', '', '')\n",
      "959 FELSPAR ST SAN DIEGO 92109 apartments\n",
      "('', '', '', '', '', '')\n",
      "4605 32ND ST SAN DIEGO 92116 apartments\n",
      "('', '', '', '', '', '')\n",
      "1475 IMPERIAL AVE SAN DIEGO 92101 apartments\n",
      "('', '', '', '', '', '')\n",
      "1434 S JUNIPER ST ESCONDIDO 92025 apartments\n",
      "('', '', '', '', '', '')\n",
      "2150 REED AVE SAN DIEGO 92109 apartments\n",
      "('', '', '', '', '', '')\n",
      "510 KELLY ST OCEANSIDE 92054 apartments\n",
      "('(619) 208-0168', '', '', '510 Kelly St', 'Oceanside', 'CA 92054')\n",
      "4229 OCEAN BLVD SAN DIEGO 92109 apartments\n",
      "('', '', '', '', '', '')\n",
      "5341 IMPERIAL AVE SAN DIEGO 92114 apartments\n",
      "('', '', '', '', '', '')\n",
      "4066 39TH ST SAN DIEGO 92105 apartments\n",
      "('', '', '', '', '', '')\n",
      "4978 CAPE MAY AVE SAN DIEGO 92107 apartments\n",
      "('', '', '', '', '', '')\n",
      "725 ALTURAS LN FALLBROOK 92028 apartments\n",
      "('', '', '', '', '', '')\n",
      "397 DEL MAR AVE CHULA VISTA 91910 apartments\n",
      "('', '', '', '', '', '')\n",
      "667 F ST CHULA VISTA 91910 apartments\n",
      "('(619) 585-3791', '', '', '667 F St', 'Chula Vista', 'CA 91910')\n",
      "4557 UTAH ST SAN DIEGO 92116 apartments\n",
      "('', '', '', '', '', '')\n",
      "3138 INGELOW ST SAN DIEGO 92106 apartments\n",
      "('', '', '', '', '', '')\n",
      "3770 40TH ST SAN DIEGO 92105 apartments\n",
      "('', '', '', '', '', '')\n",
      "268 G ST CHULA VISTA 91910 apartments\n",
      "('', '', '', '', '', '')\n",
      "945 3RD ST ENCINITAS 92024 apartments\n",
      "('(858) 437-7202', '', '', '810 3rd St', 'Encinitas', 'CA 92024')\n",
      "3845 ORANGE AVE SAN DIEGO 92105 apartments\n",
      "('', '', '', '', '', '')\n",
      "4424 PARKS AVE LA MESA 91941 apartments\n",
      "('', '', '', '', '', '')\n",
      "818 MISSOURI ST SAN DIEGO 92109 apartments\n",
      "('', '', '', '', '', '')\n",
      "6759 EL CAJON BLVD SAN DIEGO 92115 apartments\n",
      "('', '', '', '', '', '')\n",
      "3825 42ND ST SAN DIEGO 92105 apartments\n",
      "('', '', '', '', '', '')\n",
      "3161 REYNARD WAY SAN DIEGO 92103 apartments\n",
      "('', '', '', '', '', '')\n",
      "821 E 28TH ST NATIONAL CITY 91950 apartments\n",
      "('', '', '', '', '', '')\n",
      "5421 LAKE MURRAY BLVD APT 10 LA MESA 91942 apartments\n",
      "('', '', '', '', '', '')\n",
      "5421 LAKE MURRAY BLVD APT 4 LA MESA 91942 apartments\n",
      "('', '', '', '', '', '')\n",
      "5437 LAKE MURRAY BLVD UNIT 7 LA MESA 91942 apartments\n",
      "('', '', '', '', '', '')\n",
      "5401 BALTIMORE DR LA MESA 91942 apartments\n",
      "('', '', '', '', '', '')\n",
      "1000 S ANZA ST EL CAJON 92020 apartments\n",
      "('(619) 447-5105', '', '', '1000 S Anza St', 'El Cajon', 'CA 92020')\n",
      "4170 37TH ST SAN DIEGO 92105 apartments\n",
      "('', '', '', '', '', '')\n",
      "8148 GENESEE AVE SAN DIEGO 92122 apartments\n",
      "('(858) 453-4620', '', '', '8148 Genesee Ave', 'San Diego', 'CA 92122')\n",
      "4338 WILSON AVE SAN DIEGO 92104 apartments\n",
      "('', '', '', '', '', '')\n",
      "3101 CLAIREMONT DR SAN DIEGO 92117 apartments\n",
      "('', '', '', '', '', '')\n",
      "3035 MACAULAY ST SAN DIEGO 92106 apartments\n",
      "('', '', '', '', '', '')\n",
      "239 ORANGE AVE CORONADO 92118 apartments\n",
      "('', '', '', '', '', '')\n",
      "4345 RIALTO ST SAN DIEGO 92107 apartments\n",
      "('', '', '', '', '', '')\n",
      "604 W CALIFORNIA AVE VISTA 92083 apartments\n",
      "('', '', '', '', '', '')\n",
      "127 W KALMIA ST FALLBROOK 92028 apartments\n",
      "('', '', '', '', '', '')\n",
      "722 N FREEMAN ST OCEANSIDE 92054 apartments\n",
      "('', '', '', '', '', '')\n",
      "2851 BOSTON AVE SAN DIEGO 92113 apartments\n",
      "('', '', '', '', '', '')\n",
      "4530 40TH ST SAN DIEGO 92116 apartments\n",
      "('', '', '', '', '', '')\n",
      "8656 LA MESA BLVD LA MESA 91942 apartments\n",
      "('', '', '', '', '', '')\n",
      "2233 GARNET AVE SAN DIEGO 92109 apartments\n",
      "('', '', '', '', '', '')\n",
      "6520 BEADNELL WAY SAN DIEGO 92117 apartments\n",
      "('(858) 410-0041', '', '', '6520 Beadnell Way', 'San Diego', 'CA 92117')\n",
      "5431 LAKE MURRAY BLVD UNIT 8 LA MESA 91942 apartments\n",
      "('', '', '', '', '', '')\n",
      "1432 ROBINSON AVE SAN DIEGO 92103 apartments\n",
      "('', '', '', '', '', '')\n",
      "4175 41ST ST SAN DIEGO 92105 apartments\n",
      "('', '', '', '', '', '')\n",
      "4160 44TH ST SAN DIEGO 92105 apartments\n",
      "('', '', '', '', '', '')\n",
      "2907 30TH ST SAN DIEGO 92104 apartments\n",
      "('', '', '', '', '', '')\n",
      "387 PALA VISTA DR VISTA 92083 apartments\n",
      "('', '', '', '', '', '')\n",
      "4265 EUCLID AVE SAN DIEGO 92115 apartments\n",
      "('', '', '', '', '', '')\n",
      "209 SURFRIDER WAY OCEANSIDE 92054 apartments\n",
      "('', '', '', '', '', '')\n",
      "4474 WINONA AVE SAN DIEGO 92115 apartments\n",
      "('', '', '', '', '', '')\n",
      "3803 JEWELL ST SAN DIEGO 92109 apartments\n",
      "('(619) 933-7400', '', '', '3803 Jewell St', 'San Diego', 'CA 92109')\n",
      "3530 HELIX ST SPRING VALLEY 91977 apartments\n",
      "('', '', '', '', '', '')\n",
      "3202 ANNRAE ST SAN DIEGO 92123 apartments\n",
      "('', '', '', '', '', '')\n",
      "126 W MAPLE ST SAN DIEGO 92103 apartments\n",
      "('', '', '', '', '', '')\n",
      "1536 MOORLAND DR SAN DIEGO 92109 apartments\n",
      "('', '', '', '', '', '')\n",
      "4545 CONTOUR BLVD SAN DIEGO 92115 apartments\n",
      "('', '', '', '', '', '')\n",
      "5437 LAKE MURRAY BLVD UNIT 3 LA MESA 91942 apartments\n",
      "('', '', '', '', '', '')\n",
      "120 VIA CANTEBRIA ENCINITAS 92024 apartments\n",
      "('(760) 944-7559', '', '', '120 Via Cantebria', 'Encinitas', 'CA 92024')\n",
      "3225 ADAMS AVE SAN DIEGO 92116 apartments\n",
      "('', '', '', '', '', '')\n",
      "2626 HIGHLAND AVE SAN DIEGO 92105 apartments\n",
      "('', '', '', '', '', '')\n",
      "4615 UTAH ST SAN DIEGO 92116 apartments\n",
      "('', '', '', '', '', '')\n",
      "3772 INGRAHAM ST SAN DIEGO 92109 apartments\n",
      "('', '', '', '', '', '')\n",
      "4158 ALABAMA ST SAN DIEGO 92104 apartments\n",
      "('', '', '', '', '', '')\n",
      "4135 ARIZONA ST SAN DIEGO 92104 apartments\n",
      "('', '', '', '', '', '')\n",
      "1457 HOLLY AVE IMPERIAL BEACH 91932 apartments\n",
      "('', '', '', '', '', '')\n",
      "31932 DEL CIELO ESTE BONSALL 92003 apartments\n",
      "('', '', '', '', '', '')\n",
      "8522 CHLOE AVE LA MESA 91942 apartments\n",
      "('', '', '', '', '', '')\n",
      "4515 FELTON ST SAN DIEGO 92116 apartments\n",
      "('(619) 584-4220', '', '', '4330 30th St', 'San Diego', 'CA 92104')\n",
      "7668 NORMAL AVE LA MESA 91941 apartments\n",
      "('', '', '', '', '', '')\n",
      "8600 LEMON AVE LA MESA 91941 apartments\n",
      "('', '', '', '', '', '')\n",
      "2937 UNICORNIO ST CARLSBAD 92009 apartments\n",
      "('', '', '', '', '', '')\n",
      "463 D ST CHULA VISTA 91910 apartments\n",
      "('', '', '', '', '', '')\n",
      "4406 MENLO AVE SAN DIEGO 92115 apartments\n",
      "('', '', '', '', '', '')\n",
      "3884 FLORENCE ST SAN DIEGO 92113 apartments\n",
      "('', '', '', '', '', '')\n",
      "4668 HAWLEY BLVD SAN DIEGO 92116 apartments\n",
      "('', '', '', '', '', '')\n",
      "3910 BROADWAY SAN DIEGO 92102 apartments\n",
      "('', '', '', '', '', '')\n",
      "5405 BALTIMORE DR LA MESA 91942 apartments\n",
      "('', '', '', '', '', '')\n",
      "1626 N SANTA FE AVE VISTA 92083 apartments\n",
      "('', '', '', '', '', '')\n",
      "8885 ORVILLE ST SPRING VALLEY 91977 apartments\n",
      "('(619) 741-1032', '', '', '8885 Orville St', 'Spring Valley', 'CA 91977')\n",
      "3654 ARIZONA ST SAN DIEGO 92104 apartments\n",
      "('', '', '', '', '', '')\n",
      "2627 C ST SAN DIEGO 92102 apartments\n",
      "('', '', '', '', '', '')\n",
      "4663 KANSAS ST SAN DIEGO 92116 apartments\n",
      "('', '', '', '', '', '')\n",
      "3994 ILLINOIS ST SAN DIEGO 92104 apartments\n",
      "('', '', '', '', '', '')\n",
      "929 3RD ST ENCINITAS 92024 apartments\n",
      "('', '', '', '', '', '')\n",
      "4021 HIGHLAND AVE SAN DIEGO 92105 apartments\n",
      "('', '', '', '', '', '')\n",
      "4430 CAMPUS AVE SAN DIEGO 92116 apartments\n",
      "('', '', '', '', '', '')\n",
      "6050 CAMINO SAN FERMIN SAN DIEGO 92130 apartments\n",
      "('(858) 261-0796', '', '', '6050 Camino San Fermin', 'San Diego', 'CA 92130')\n",
      "4034 HAMILTON ST SAN DIEGO 92104 apartments\n",
      "('', '', '', '', '', '')\n",
      "4086 VAN DYKE AVE SAN DIEGO 92105 apartments\n",
      "('', '', '', '', '', '')\n",
      "2242 JULIAN AVE SAN DIEGO 92113 apartments\n",
      "('', '', '', '', '', '')\n",
      "1006 E MADISON AVE EL CAJON 92021 apartments\n",
      "('', '', '', '', '', '')\n",
      "150 W CHASE AVE EL CAJON 92020 apartments\n",
      "('', '', '', '', '', '')\n",
      "3840 SPORTS ARENA BLVD SAN DIEGO 92110 apartments\n",
      "('', '', '', '', '', '')\n",
      "3840 CARLSBAD BLVD CARLSBAD 92008 apartments\n",
      "('', '', '', '', '', '')\n",
      "3714 42ND ST SAN DIEGO 92105 apartments\n",
      "('', '', '', '', '', '')\n",
      "1146 E LEXINGTON AVE EL CAJON 92019 apartments\n",
      "('', '', '', '', '', '')\n",
      "3950 MISSION BLVD SAN DIEGO 92109 apartments\n",
      "('', '', '', '', '', '')\n",
      "337 N 1ST ST EL CAJON 92021 apartments\n",
      "('', '', '', '', '', '')\n",
      "3205 COWLEY WAY SAN DIEGO 92117 apartments\n",
      "('', '', '', '', '', '')\n",
      "2027 MORENA BLVD SAN DIEGO 92110 apartments\n",
      "('', '', '', '', '', '')\n",
      "3538 J ST SAN DIEGO 92102 apartments\n",
      "('', '', '', '', '', '')\n",
      "556 FLOWER ST CHULA VISTA 91910 apartments\n",
      "('', '', '', '', '', '')\n",
      "2164 2ND AVE SAN DIEGO 92101 apartments\n",
      "('', '', '', '', '', '')\n",
      "4757 A ST SAN DIEGO 92102 apartments\n",
      "('', '', '', '', '', '')\n",
      "2133 NATIONAL AVE SAN DIEGO 92113 apartments\n",
      "('', '', '', '', '', '')\n",
      "4320 CAMPUS AVE SAN DIEGO 92103 apartments\n",
      "('', '', '', '', '', '')\n",
      "4241 51ST ST SAN DIEGO 92115 apartments\n",
      "('', '', '', '', '', '')\n",
      "4670 POINT LOMA AVE SAN DIEGO 92107 apartments\n",
      "('', '', '', '', '', '')\n",
      "1233 ESSEX ST SAN DIEGO 92103 apartments\n",
      "('', '', '', '', '', '')\n",
      "233 C AVE CORONADO 92118 apartments\n",
      "('', '', '', '', '', '')\n",
      "3686 WIGHTMAN ST SAN DIEGO 92104 apartments\n",
      "('', '', '', '', '', '')\n",
      "4370 51ST ST SAN DIEGO 92115 apartments\n",
      "('', '', '', '', '', '')\n",
      "3750 4TH AVE SAN DIEGO 92103 apartments\n",
      "('', '', '', '', '', '')\n",
      "1236 FELSPAR ST SAN DIEGO 92109 apartments\n",
      "('', '', '', '', '', '')\n",
      "777 SEACOAST DR IMPERIAL BEACH 91932 apartments\n",
      "('', '', '', '', '', '')\n",
      "205 NORTON AVE NATIONAL CITY 91950 apartments\n",
      "('', '', '', '', '', '')\n",
      "721 12TH ST IMPERIAL BEACH 91932 apartments\n",
      "('', '', '', '', '', '')\n",
      "275 S MOLLISON AVE EL CAJON 92020 apartments\n",
      "('', '', '', '', '', '')\n",
      "4490 MESA DR OCEANSIDE 92056 apartments\n",
      "('(760) 439-8090', '', '', '4490 Mesa Dr', 'Oceanside', 'CA 92056')\n",
      "4313 49TH ST SAN DIEGO 92115 apartments\n",
      "('', '', '', '', '', '')\n",
      "1212 CALLE JULES VISTA 92084 apartments\n",
      "('', '', '', '', '', '')\n",
      "6908 ALCONA ST SAN DIEGO 92139 apartments\n",
      "('', '', '', '', '', '')\n",
      "4319 TEMECULA ST SAN DIEGO 92107 apartments\n",
      "('', '', '', '', '', '')\n",
      "131 N BEECH ST ESCONDIDO 92025 apartments\n",
      "('', '', '', '', '', '')\n",
      "12547 OAK KNOLL RD POWAY 92064 apartments\n",
      "('', '', '', '', '', '')\n",
      "972 22ND ST SAN DIEGO 92102 apartments\n",
      "('', '', '', '', '', '')\n",
      "811 AGATE ST SAN DIEGO 92109 apartments\n",
      "('', '', '', '', '', '')\n",
      "385 DOMINGUEZ WAY EL CAJON 92021 apartments\n",
      "('', '', '', '', '', '')\n",
      "2833 SHELTER ISLAND DR SAN DIEGO 92106 apartments\n",
      "('', '', '', '', '', '')\n",
      "4223 UTAH ST SAN DIEGO 92104 apartments\n",
      "('', '', '', '', '', '')\n",
      "2003 EMERALD ST SAN DIEGO 92109 apartments\n",
      "('', '', '', '', '', '')\n",
      "853 FELSPAR ST SAN DIEGO 92109 apartments\n",
      "('', '', '', '', '', '')\n",
      "3833 MIDWAY DR SAN DIEGO 92110 apartments\n",
      "('(844) 400-0458', '', '', '3889 Midway Dr', 'San Diego', 'CA 92110')\n",
      "3746 SWIFT AVE SAN DIEGO 92104 apartments\n",
      "('', '', '', '', '', '')\n",
      "234 PLAYA DEL NORTE LA JOLLA 92037 apartments\n",
      "('', '', '', '', '', '')\n",
      "2438 INDIA ST SAN DIEGO 92101 apartments\n",
      "('', '', '', '', '', '')\n",
      "3722 LOGAN AVE SAN DIEGO 92113 apartments\n",
      "('', '', '', '', '', '')\n",
      "4337 38TH ST SAN DIEGO 92105 apartments\n",
      "('', '', '', '', '', '')\n",
      "2673 C ST SAN DIEGO 92102 apartments\n",
      "('', '', '', '', '', '')\n",
      "4449 CENTRAL AVE SAN DIEGO 92116 apartments\n",
      "('', '', '', '', '', '')\n",
      "909 EMERALD ST SAN DIEGO 92109 apartments\n",
      "('', '', '', '', '', '')\n",
      "4085 49TH ST SAN DIEGO 92105 apartments\n",
      "('', '', '', '', '', '')\n",
      "4912 W POINT LOMA BLVD SAN DIEGO 92107 apartments\n",
      "('', '', '', '', '', '')\n",
      "0 9TH ST NATIONAL CITY 91950 apartments\n",
      "('(619) 477-6818', '', '', '1627 E 9th St', 'National City', 'CA 91950')\n",
      "825 FLORIDA ST IMPERIAL BEACH 91932 apartments\n",
      "('', '', '', '', '', '')\n",
      "3004 6TH AVE SAN DIEGO 92103 apartments\n",
      "('', '', '', '', '', '')\n",
      "1935 OLIVER AVE SAN DIEGO 92109 apartments\n",
      "('', '', '', '', '', '')\n",
      "333 BROOKS ST OCEANSIDE 92054 apartments\n",
      "('', '', '', '', '', '')\n",
      "4525 HAMILTON ST SAN DIEGO 92116 apartments\n",
      "('', '', '', '', '', '')\n",
      "811 LANGFORD ST OCEANSIDE 92058 apartments\n",
      "('', '', '', '', '', '')\n",
      "715 N BROADWAY ESCONDIDO 92025 apartments\n",
      "('(760) 746-4474', '', '', '715 N Broadway', 'Escondido', 'CA 92025')\n",
      "4070 ALABAMA ST SAN DIEGO 92104 apartments\n",
      "('', '', '', '', '', '')\n",
      "4991 MUIR AVE SAN DIEGO 92107 apartments\n",
      "('', '', '', '', '', '')\n",
      "1033 ROBINSON AVE SAN DIEGO 92103 apartments\n",
      "('', '', '', '', '', '')\n",
      "4649 GEORGIA ST SAN DIEGO 92116 apartments\n",
      "('', '', '', '', '', '')\n",
      "642 S MOLLISON AVE EL CAJON 92020 apartments\n",
      "('', '', '', '', '', '')\n",
      "1029 B AVE NATIONAL CITY 91950 apartments\n",
      "('', '', '', '', '', '')\n",
      "4243 50TH ST SAN DIEGO 92115 apartments\n",
      "('', '', '', '', '', '')\n",
      "268 CHURCH AVE CHULA VISTA 91910 apartments\n",
      "('', '', '', '', '', '')\n",
      "4085 37TH ST SAN DIEGO 92105 apartments\n",
      "('', '', '', '', '', '')\n",
      "104 DICKINSON ST SAN DIEGO 92103 apartments\n",
      "('', '', '', '', '', '')\n",
      "0 B AVE NATIONAL CITY 91950 apartments\n",
      "('', '', '', '', '', '')\n",
      "528 OLIVE ST SAN DIEGO 92103 apartments\n",
      "('(619) 897-2423', '', '', '525 Olive St', 'San Diego', 'CA 92103')\n",
      "734 JAMAICA CT SAN DIEGO 92109 apartments\n",
      "('', '', '', '', '', '')\n",
      "13422 COMMUNITY RD POWAY 92064 apartments\n",
      "('', '', '', '', '', '')\n",
      "235 PALA VISTA DR VISTA 92083 apartments\n",
      "('', '', '', '', '', '')\n",
      "4276 ALTADENA AVE SAN DIEGO 92115 apartments\n",
      "('', '', '', '', '', '')\n",
      "2020 ALBATROSS ST SAN DIEGO 92101 apartments\n",
      "('', '', '', '', '', '')\n",
      "5431 LAKE MURRAY BLVD UNIT 10 LA MESA 91942 apartments\n",
      "('', '', '', '', '', '')\n",
      "1802 E 12TH ST NATIONAL CITY 91950 apartments\n",
      "('', '', '', '', '', '')\n",
      "1615 GUY ST SAN DIEGO 92103 apartments\n",
      "('', '', '', '', '', '')\n",
      "1250 6TH AVE SAN DIEGO 92101 apartments\n",
      "('', '', '', '', '', '')\n",
      "514 N CLEMENTINE ST OCEANSIDE 92054 apartments\n",
      "('', '', '', '', '', '')\n",
      "4834 RENO DR SAN DIEGO 92105 apartments\n",
      "('', '', '', '', '', '')\n",
      "2250 MORLEY ST SAN DIEGO 92111 apartments\n",
      "('', '', '', '', '', '')\n",
      "1746 OLIVER AVE SAN DIEGO 92109 apartments\n",
      "('', '', '', '', '', '')\n",
      "4459 ARIZONA ST SAN DIEGO 92116 apartments\n",
      "('', '', '', '', '', '')\n",
      "5471 BAYVIEW HEIGHTS PL SAN DIEGO 92105 apartments\n",
      "('(619) 262-0722', '', '', '5471 Bayview Heights Pl', 'San Diego', 'CA 92105')\n",
      "3619 44TH ST SAN DIEGO 92105 apartments\n",
      "('', '', '', '', '', '')\n",
      "3937 CENTRE ST SAN DIEGO 92103 apartments\n",
      "('', '', '', '', '', '')\n",
      "3977 GEORGIA ST SAN DIEGO 92103 apartments\n",
      "('', '', '', '', '', '')\n",
      "4236 FAIRMOUNT AVE SAN DIEGO 92105 apartments\n",
      "('', '', '', '', '', '')\n",
      "3976 ALABAMA ST SAN DIEGO 92104 apartments\n",
      "('', '', '', '', '', '')\n",
      "3919 FLORIDA ST SAN DIEGO 92104 apartments\n",
      "('', '', '', '', '', '')\n",
      "4545 GEORGIA ST SAN DIEGO 92116 apartments\n",
      "('', '', '', '', '', '')\n",
      "3621 INDIANA ST SAN DIEGO 92103 apartments\n",
      "('', '', '', '', '', '')\n",
      "8510 CAPRICORN WAY SAN DIEGO 92126 apartments\n",
      "('', '', '', '', '', '')\n",
      "4975 SARATOGA AVE SAN DIEGO 92107 apartments\n",
      "('', '', '', '', '', '')\n",
      "132 DATE AVE IMPERIAL BEACH 91932 apartments\n",
      "('', '', '', '', '', '')\n",
      "1630 S TREMONT ST OCEANSIDE 92054 apartments\n",
      "('', '', '', '', '', '')\n",
      "3365 ELM ST SAN DIEGO 92102 apartments\n",
      "('', '', '', '', '', '')\n",
      "3201 COLLEGE PL LEMON GROVE 91945 apartments\n",
      "('', '', '', '', '', '')\n",
      "3536 SWEETWATER SPRINGS BLVD SPRING VALLEY 91977 apartments\n",
      "('(619) 670-5910', '', '', '3536 Sweetwater Springs Blvd', 'Spring Valley', 'CA 91977')\n",
      "1815 W DRESCHER ST SAN DIEGO 92111 apartments\n",
      "('', '', '', '', '', '')\n",
      "3975 IDAHO ST SAN DIEGO 92104 apartments\n",
      "('', '', '', '', '', '')\n",
      "4437 50TH ST SAN DIEGO 92115 apartments\n",
      "('', '', '', '', '', '')\n",
      "3035 POE ST SAN DIEGO 92106 apartments\n",
      "('', '', '', '', '', '')\n",
      "115 W IVY ST SAN DIEGO 92101 apartments\n",
      "('', '', '', '', '', '')\n",
      "899 LAGUNA DR CARLSBAD 92008 apartments\n",
      "('', '', '', '', '', '')\n",
      "4162 51ST ST SAN DIEGO 92105 apartments\n",
      "('', '', '', '', '', '')\n",
      "8815 MIRA MESA BLVD SAN DIEGO 92126 apartments\n",
      "('', '', '', '', '', '')\n",
      "3534 5TH AVE SAN DIEGO 92103 apartments\n",
      "('(619) 542-9289', '', '', '3534 Fifth Ave', 'San Diego', 'CA 92103')\n",
      "10071 RIO SAN DIEGO DR SAN DIEGO 92108 apartments\n",
      "('(619) 573-9002', '', '', '10041 Rio San Diego Dr', 'San Diego', 'CA 92108')\n",
      "1051 DEL MAR AVE CHULA VISTA 91911 apartments\n",
      "('(619) 425-6460', '', '', '1051 Del Mar Ave', 'Chula Vista', 'CA 91911')\n",
      "4755 FELTON ST SAN DIEGO 92116 apartments\n",
      "('', '', '', '', '', '')\n",
      "4163 HIGHLAND AVE SAN DIEGO 92105 apartments\n",
      "('', '', '', '', '', '')\n",
      "1766 GRAND AVE SAN DIEGO 92109 apartments\n",
      "('', '', '', '', '', '')\n",
      "2450 K ST SAN DIEGO 92102 apartments\n",
      "('', '', '', '', '', '')\n",
      "741 G AVE CORONADO 92118 apartments\n",
      "('', '', '', '', '', '')\n",
      "0 ESSEX ST SAN DIEGO 92103 apartments\n",
      "('', '', '', '', '', '')\n",
      "4109 PARK PL SAN DIEGO 92116 apartments\n",
      "('', '', '', '', '', '')\n",
      "4169 38TH ST SAN DIEGO 92105 apartments\n",
      "('', '', '', '', '', '')\n",
      "2980 1ST AVE SAN DIEGO 92103 apartments\n",
      "('(619) 751-5386', '', '', '2980 1st Ave', 'San Diego', 'CA 92103')\n",
      "4252 WINONA AVE SAN DIEGO 92115 apartments\n",
      "('', '', '', '', '', '')\n",
      "4612 JUDSON WAY LA MESA 91942 apartments\n",
      "('', '', '', '', '', '')\n",
      "4233 47TH ST SAN DIEGO 92115 apartments\n",
      "('', '', '', '', '', '')\n",
      "945 PINE AVE CARLSBAD 92008 apartments\n",
      "('', '', '', '', '', '')\n",
      "5530 RILEY ST SAN DIEGO 92110 apartments\n",
      "('', '', '', '', '', '')\n",
      "1826 DRESCHER ST SAN DIEGO 92111 apartments\n",
      "('', '', '', '', '', '')\n",
      "600 FRONT ST SAN DIEGO 92101 apartments\n",
      "('(619) 231-9600', '', '', '600 Front St', 'San Diego', 'CA 92101')\n",
      "7560 NORTH AVE LEMON GROVE 91945 apartments\n",
      "('', '', '', '', '', '')\n",
      "4282 MENLO AVE SAN DIEGO 92115 apartments\n",
      "('', '', '', '', '', '')\n",
      "4344 ARIZONA ST SAN DIEGO 92104 apartments\n",
      "('', '', '', '', '', '')\n",
      "3827 CONRAD DR SPRING VALLEY 91977 apartments\n",
      "('', '', '', '', '', '')\n",
      "4026 ALABAMA ST SAN DIEGO 92104 apartments\n",
      "('', '', '', '', '', '')\n",
      "688 CHULA VISTA ST CHULA VISTA 91910 apartments\n",
      "('', '', '', '', '', '')\n",
      "4260 52ND ST SAN DIEGO 92115 apartments\n",
      "('', '', '', '', '', '')\n",
      "2826 MISSION BLVD SAN DIEGO 92109 apartments\n",
      "('', '', '', '', '', '')\n",
      "264 AVALON DR VISTA 92084 apartments\n",
      "('', '', '', '', '', '')\n",
      "4641 HOME AVE SAN DIEGO 92105 apartments\n",
      "('(619) 262-8510', '', '', '4665 Home Ave', 'San Diego', 'CA 92105')\n",
      "4421 48TH ST SAN DIEGO 92115 apartments\n",
      "('', '', '', '', '', '')\n",
      "2003 CABLE ST SAN DIEGO 92107 apartments\n",
      "('', '', '', '', '', '')\n",
      "4348 53RD ST SAN DIEGO 92115 apartments\n",
      "('', '', '', '', '', '')\n",
      "1351 REED AVE SAN DIEGO 92109 apartments\n",
      "('', '', '', '', '', '')\n",
      "4501 54TH ST SAN DIEGO 92115 apartments\n",
      "('', '', '', '', '', '')\n",
      "4149 HAMILTON ST SAN DIEGO 92104 apartments\n",
      "('', '', '', '', '', '')\n",
      "2180 CABLE ST SAN DIEGO 92107 apartments\n",
      "('', '', '', '', '', '')\n",
      "4231 LOGAN AVE SAN DIEGO 92113 apartments\n",
      "('', '', '', '', '', '')\n",
      "3720 YONGE ST SAN DIEGO 92106 apartments\n",
      "('', '', '', '', '', '')\n",
      "1561 9TH AVE SAN DIEGO 92101 apartments\n",
      "('', '', '', '', '', '')\n",
      "4138 41ST ST SAN DIEGO 92105 apartments\n",
      "('', '', '', '', '', '')\n",
      "3128 COLLIER AVE SAN DIEGO 92116 apartments\n",
      "('', '', '', '', '', '')\n",
      "4182 MISSISSIPPI ST SAN DIEGO 92104 apartments\n",
      "('', '', '', '', '', '')\n",
      "425 EMERALD AVE EL CAJON 92020 apartments\n",
      "('', '', '', '', '', '')\n",
      "4067 47TH ST SAN DIEGO 92105 apartments\n",
      "('', '', '', '', '', '')\n",
      "4082 51ST ST SAN DIEGO 92105 apartments\n",
      "('', '', '', '', '', '')\n",
      "4461 50TH ST SAN DIEGO 92115 apartments\n",
      "('', '', '', '', '', '')\n",
      "4111 37TH ST SAN DIEGO 92105 apartments\n",
      "('', '', '', '', '', '')\n",
      "4062 49TH ST SAN DIEGO 92105 apartments\n",
      "('', '', '', '', '', '')\n",
      "4555 RAINIER AVE SAN DIEGO 92120 apartments\n",
      "('', '', '', '', '', '')\n",
      "266 DAISY AVE IMPERIAL BEACH 91932 apartments\n",
      "('', '', '', '', '', '')\n",
      "2621 HIGHLAND AVE SAN DIEGO 92105 apartments\n",
      "('', '', '', '', '', '')\n",
      "10030 SAN JUAN ST SPRING VALLEY 91977 apartments\n",
      "('', '', '', '', '', '')\n",
      "791 N MOLLISON AVE EL CAJON 92021 apartments\n",
      "('', '', '', '', '', '')\n",
      "4230 CAMPUS AVE SAN DIEGO 92103 apartments\n",
      "('', '', '', '', '', '')\n",
      "315 POMELO DR VISTA 92081 apartments\n",
      "('', '', '', '', '', '')\n",
      "3112 IVY ST SAN DIEGO 92104 apartments\n",
      "('', '', '', '', '', '')\n",
      "4170 TEXAS ST SAN DIEGO 92104 apartments\n",
      "('', '', '', '', '', '')\n",
      "6219 STANLEY AVE SAN DIEGO 92115 apartments\n",
      "('', '', '', '', '', '')\n",
      "335 W CLEMMENS LN FALLBROOK 92028 apartments\n",
      "('', '', '', '', '', '')\n",
      "8015 LA MESA BLVD LA MESA 91942 apartments\n",
      "('', '', '', '', '', '')\n",
      "4219 35TH ST SAN DIEGO 92104 apartments\n",
      "('', '', '', '', '', '')\n",
      "4233 HIGHLAND AVE SAN DIEGO 92115 apartments\n",
      "('', '', '', '', '', '')\n",
      "3875 MAIN ST CHULA VISTA 91911 apartments\n",
      "('(619) 941-1675', '', '', '3865 Main St', 'Chula Vista', 'CA 91911')\n",
      "4545 35TH ST SAN DIEGO 92116 apartments\n",
      "('', '', '', '', '', '')\n",
      "3938 LAMONT ST SAN DIEGO 92109 apartments\n",
      "('', '', '', '', '', '')\n",
      "1327 GRAND AVE SAN DIEGO 92109 apartments\n",
      "('', '', '', '', '', '')\n",
      "12345 OLD POMERADO RD POWAY 92064 apartments\n",
      "('(858) 679-1666', '', '', '12345 Old Pomerado Rd', 'Poway', 'CA 92064')\n",
      "824 S 47TH ST SAN DIEGO 92113 apartments\n",
      "('', '', '', '', '', '')\n",
      "1841 EDGEMONT ST SAN DIEGO 92102 apartments\n",
      "('', '', '', '', '', '')\n",
      "3622 HIGHLAND AVE SAN DIEGO 92105 apartments\n",
      "('', '', '', '', '', '')\n",
      "9830 MIRA LEE WAY SAN DIEGO 92126 apartments\n",
      "('(858) 530-0933', '', '', '9800 Mira Lee Way', 'San Diego', 'CA 92126')\n",
      "1231 CALLA AVE IMPERIAL BEACH 91932 apartments\n",
      "('', '', '', '', '', '')\n",
      "252 ACACIA AVE CARLSBAD 92008 apartments\n",
      "('', '', '', '', '', '')\n",
      "1521 GRAVES AVE EL CAJON 92021 apartments\n",
      "('(619) 724-5011', '', '', '1521 Graves Ave', 'El Cajon', 'CA 92021')\n",
      "4663 33RD ST SAN DIEGO 92116 apartments\n",
      "('', '', '', '', '', '')\n",
      "4359 38TH ST SAN DIEGO 92105 apartments\n",
      "('', '', '', '', '', '')\n",
      "4050 ARIZONA ST SAN DIEGO 92104 apartments\n",
      "('', '', '', '', '', '')\n",
      "1303 W LEWIS ST SAN DIEGO 92103 apartments\n",
      "('', '', '', '', '', '')\n",
      "5423 LAKE MURRAY BLVD APT 14 LA MESA 91942 apartments\n",
      "('', '', '', '', '', '')\n",
      "1016 HORNBLEND ST SAN DIEGO 92109 apartments\n",
      "('(858) 274-7275', '', '', '1016 Hornblend St', 'San Diego', 'CA 92109')\n",
      "329 DEL MAR AVE CHULA VISTA 91910 apartments\n",
      "('', '', '', '', '', '')\n",
      "5431 LAKE MURRAY BLVD UNIT 7 LA MESA 91942 apartments\n",
      "('', '', '', '', '', '')\n",
      "4773 NEWPORT AVE SAN DIEGO 92107 apartments\n",
      "('', '', '', '', '', '')\n",
      "2566 B ST SAN DIEGO 92102 apartments\n",
      "('', '', '', '', '', '')\n",
      "5080 VOLTAIRE ST SAN DIEGO 92107 apartments\n",
      "('', '', '', '', '', '')\n",
      "3535 LEBON DR SAN DIEGO 92122 apartments\n",
      "('(866) 812-7731', '', '', '3535 Lebon Dr', 'San Diego', 'CA 92122')\n",
      "2027 INDIA ST SAN DIEGO 92101 apartments\n",
      "('', '', '', '', '', '')\n",
      "13008 SIGNATURE PT SAN DIEGO 92130 apartments\n",
      "('(858) 251-7923', '', '', '13006 Signature Pt', 'San Diego', 'CA 92130')\n",
      "4630 NORTH AVE SAN DIEGO 92116 apartments\n",
      "('', '', '', '', '', '')\n",
      "4805 70TH ST SAN DIEGO 92115 apartments\n",
      "('', '', '', '', '', '')\n",
      "4783 35TH ST SAN DIEGO 92116 apartments\n",
      "('', '', '', '', '', '')\n",
      "2702 ADRIAN ST SAN DIEGO 92110 apartments\n",
      "('', '', '', '', '', '')\n",
      "2030 REED AVE SAN DIEGO 92109 apartments\n",
      "('', '', '', '', '', '')\n",
      "1373 E MADISON AVE EL CAJON 92021 apartments\n",
      "('', '', '', '', '', '')\n",
      "3680 ALABAMA ST SAN DIEGO 92104 apartments\n",
      "('', '', '', '', '', '')\n",
      "4059 LOUISIANA ST SAN DIEGO 92104 apartments\n",
      "('', '', '', '', '', '')\n",
      "834 S MYERS ST OCEANSIDE 92054 apartments\n",
      "('', '', '', '', '', '')\n",
      "2290 MACKENZIE CREEK RD CHULA VISTA 91914 apartments\n",
      "('(833) 536-1325', '', '', '2290 MacKenzie Creek Rd', 'Chula Vista', 'CA 91914')\n",
      "597 CANYON DR OCEANSIDE 92054 apartments\n",
      "('', '', '', '', '', '')\n",
      "2073 AVENIDA DEL MEXICO SAN DIEGO 92154 apartments\n",
      "('', '', '', '', '', '')\n",
      "486 MEANDER GLN ESCONDIDO 92025 apartments\n",
      "('', '', '', '', '', '')\n",
      "4324 DAWES ST SAN DIEGO 92109 apartments\n",
      "('', '', '', '', '', '')\n",
      "4077 UTAH ST SAN DIEGO 92104 apartments\n",
      "('', '', '', '', '', '')\n",
      "2150 PACIFIC BEACH DR SAN DIEGO 92109 apartments\n",
      "('', '', '', '', '', '')\n",
      "3711 32ND ST SAN DIEGO 92104 apartments\n",
      "('', '', '', '', '', '')\n",
      "4304 TWAIN AVE SAN DIEGO 92120 apartments\n",
      "('', '', '', '', '', '')\n",
      "335 CLAYDELLE AVE EL CAJON 92020 apartments\n",
      "('', '', '', '', '', '')\n",
      "5365 MARENGO AVE LA MESA 91942 apartments\n",
      "('(619) 698-7926', '', '', '5365 Marengo Ave', 'La Mesa', 'CA 91942')\n",
      "1525 30TH ST SAN DIEGO 92102 apartments\n",
      "('', '', '', '', '', '')\n",
      "4212 ALTADENA AVE SAN DIEGO 92115 apartments\n",
      "('', '', '', '', '', '')\n",
      "13863 CARMEL VALLEY RD SAN DIEGO 92130 apartments\n",
      "('', '', '', '', '', '')\n",
      "4021 RICHMOND ST SAN DIEGO 92103 apartments\n",
      "('', '', '', '', '', '')\n",
      "4514 CLAIREMONT DR SAN DIEGO 92117 apartments\n",
      "('', '', '', '', '', '')\n",
      "4245 34TH ST SAN DIEGO 92104 apartments\n",
      "('', '', '', '', '', '')\n",
      "3435 GRIM AVE SAN DIEGO 92104 apartments\n",
      "('', '', '', '', '', '')\n",
      "156 EUCLID AVE SAN DIEGO 92114 apartments\n",
      "('', '', '', '', '', '')\n",
      "4560 FLORIDA ST SAN DIEGO 92116 apartments\n",
      "('', '', '', '', '', '')\n",
      "110 MAPLE ST SAN DIEGO 92103 apartments\n",
      "('', '', '', '', '', '')\n",
      "582 12TH ST IMPERIAL BEACH 91932 apartments\n",
      "('', '', '', '', '', '')\n",
      "4459 EUCLID AVE SAN DIEGO 92115 apartments\n",
      "('', '', '', '', '', '')\n",
      "4304 51ST ST SAN DIEGO 92115 apartments\n",
      "('', '', '', '', '', '')\n",
      "310 N CLEMENTINE ST OCEANSIDE 92054 apartments\n",
      "('', '', '', '', '', '')\n",
      "2652 JEFFERSON ST CARLSBAD 92008 apartments\n",
      "('', '', '', '', '', '')\n",
      "3703 31ST ST SAN DIEGO 92104 apartments\n",
      "('', '', '', '', '', '')\n",
      "5431 LAKE MURRAY BLVD UNIT 9 LA MESA 91942 apartments\n",
      "('', '', '', '', '', '')\n",
      "2260 VIA APRILIA DEL MAR 92014 apartments\n",
      "('', '', '', '', '', '')\n",
      "4517 W POINT LOMA BLVD SAN DIEGO 92107 apartments\n",
      "('(619) 929-1618', '', '', '4517 W Point Loma Blvd', 'San Diego', 'CA 92107')\n",
      "4168 ARIZONA ST SAN DIEGO 92104 apartments\n",
      "('', '', '', '', '', '')\n",
      "4030 LOUISIANA ST SAN DIEGO 92104 apartments\n",
      "('', '', '', '', '', '')\n",
      "4135 TEXAS ST SAN DIEGO 92104 apartments\n",
      "('', '', '', '', '', '')\n",
      "3051 HAWTHORN ST SAN DIEGO 92104 apartments\n",
      "('', '', '', '', '', '')\n",
      "2952 IVY ST SAN DIEGO 92104 apartments\n",
      "('', '', '', '', '', '')\n",
      "4453 51ST ST SAN DIEGO 92115 apartments\n",
      "('', '', '', '', '', '')\n",
      "4552 OREGON ST SAN DIEGO 92116 apartments\n",
      "('', '', '', '', '', '')\n",
      "2530 A AVE NATIONAL CITY 91950 apartments\n",
      "('', '', '', '', '', '')\n",
      "12002 WINTERCREST DR LAKESIDE 92040 apartments\n",
      "('(619) 443-6702', '', '', '12002 Wintercrest Dr', 'Lakeside', 'CA 92040')\n",
      "714 N CLEMENTINE ST OCEANSIDE 92054 apartments\n",
      "('', '', '', '', '', '')\n",
      "3364 COLUMBIA ST SAN DIEGO 92103 apartments\n",
      "('', '', '', '', '', '')\n",
      "3853 37TH ST SAN DIEGO 92105 apartments\n",
      "('', '', '', '', '', '')\n",
      "4075 MISSISSIPPI ST SAN DIEGO 92104 apartments\n",
      "('', '', '', '', '', '')\n",
      "3485 RUFFIN RD SAN DIEGO 92123 apartments\n",
      "('', '', '', '', '', '')\n",
      "528 DE LUZ RD FALLBROOK 92028 apartments\n",
      "('', '', '', '', '', '')\n",
      "4660 HAWLEY BLVD SAN DIEGO 92116 apartments\n",
      "('', '', '', '', '', '')\n",
      "4344 ESTRELLA AVE SAN DIEGO 92115 apartments\n",
      "('', '', '', '', '', '')\n",
      "3526 PARK BLVD SAN DIEGO 92103 apartments\n",
      "('', '', '', '', '', '')\n",
      "7630 STURGESS AVE LA MESA 91941 apartments\n",
      "('', '', '', '', '', '')\n",
      "633 TRULY TER VISTA 92084 apartments\n",
      "('', '', '', '', '', '')\n",
      "5085 UNIVERSITY AVE SAN DIEGO 92105 apartments\n",
      "('', '', '', '', '', '')\n",
      "951 TAYLOR ST VISTA 92084 apartments\n",
      "('(760) 643-0200', '', '', '951 Taylor St', 'Vista', 'CA 92084')\n",
      "1150 HERMES AVE ENCINITAS 92024 apartments\n",
      "('(760) 729-5390', '', '', '1160 Hermes Ave #1150', 'Encinitas', 'CA 92024')\n",
      "1015 E OHIO AVE ESCONDIDO 92025 apartments\n",
      "('(760) 741-6039', '', '', '1268 E Ohio Ave', 'Escondido', 'CA 92027')\n",
      "3639 S BARCELONA ST SPRING VALLEY 91977 apartments\n",
      "('', '', '', '', '', '')\n",
      "330 N 1ST ST EL CAJON 92021 apartments\n",
      "('(858) 302-7977', '', '', '330-340 N 1st St', 'El Cajon', 'CA 92021')\n",
      "4721 CHOCTAW DR SAN DIEGO 92115 apartments\n",
      "('', '', '', '', '', '')\n",
      "1129 28TH ST SAN DIEGO 92102 apartments\n",
      "('', '', '', '', '', '')\n",
      "3828 3RD AVE SAN DIEGO 92103 apartments\n",
      "('', '', '', '', '', '')\n",
      "2102 CABLE ST SAN DIEGO 92107 apartments\n",
      "('', '', '', '', '', '')\n",
      "4113 43RD ST SAN DIEGO 92105 apartments\n",
      "('', '', '', '', '', '')\n",
      "4422 30TH ST SAN DIEGO 92116 apartments\n",
      "('', '', '', '', '', '')\n",
      "3463 KEARNY VILLA LN SAN DIEGO 92123 apartments\n",
      "('', '', '', '', '', '')\n",
      "2530 BEAR VALLEY PKWY ESCONDIDO 92027 apartments\n",
      "('(760) 746-0243', '', '', '2530 Bear Valley Pkwy', 'Escondido', 'CA 92027')\n",
      "2130 1ST AVE SAN DIEGO 92101 apartments\n",
      "('', '', '', '', '', '')\n",
      "492 W LOS ANGELES DR VISTA 92083 apartments\n",
      "('', '', '', '', '', '')\n",
      "4930 W POINT LOMA BLVD SAN DIEGO 92107 apartments\n",
      "('(619) 929-1618', '', '', '4517 W Point Loma Blvd', 'San Diego', 'CA 92107')\n",
      "361 I ST CHULA VISTA 91910 apartments\n",
      "('', '', '', '', '', '')\n",
      "4035 HIGHLAND AVE SAN DIEGO 92105 apartments\n",
      "('', '', '', '', '', '')\n",
      "3741 WILSON AVE SAN DIEGO 92104 apartments\n",
      "('', '', '', '', '', '')\n",
      "4621 PARK BLVD SAN DIEGO 92116 apartments\n",
      "('', '', '', '', '', '')\n",
      "586 FLORENCE ST IMPERIAL BEACH 91932 apartments\n",
      "('', '', '', '', '', '')\n",
      "3128 INGELOW ST SAN DIEGO 92106 apartments\n",
      "('', '', '', '', '', '')\n",
      "1043 S SUNSHINE AVE EL CAJON 92020 apartments\n",
      "('(619) 572-4368', '', '', '1043 S Sunshine Ave', 'El Cajon', 'CA 92020')\n",
      "2175 BACON ST SAN DIEGO 92107 apartments\n",
      "('', '', '', '', '', '')\n",
      "322 S PACIFIC ST OCEANSIDE 92054 apartments\n",
      "('', '', '', '', '', '')\n",
      "2830 KEATS ST SAN DIEGO 92106 apartments\n",
      "('', '', '', '', '', '')\n",
      "817 S CLEVELAND ST OCEANSIDE 92054 apartments\n",
      "('(760) 505-3489', '', '', '306 S The Strand', 'Oceanside', 'CA 92054')\n",
      "4669 CHEROKEE AVE SAN DIEGO 92116 apartments\n",
      "('', '', '', '', '', '')\n",
      "701 HILLSIDE TER VISTA 92084 apartments\n",
      "('', '', '', '', '', '')\n",
      "1015 1ST ST IMPERIAL BEACH 91932 apartments\n",
      "('', '', '', '', '', '')\n",
      "3117 30TH ST SAN DIEGO 92104 apartments\n",
      "('', '', '', '', '', '')\n",
      "3627 42ND ST SAN DIEGO 92105 apartments\n",
      "('', '', '', '', '', '')\n",
      "1627 IMPERIAL AVE SAN DIEGO 92113 apartments\n",
      "('', '', '', '', '', '')\n",
      "510 UPAS ST SAN DIEGO 92103 apartments\n",
      "('', '', '', '', '', '')\n",
      "1015 A AVE CORONADO 92118 apartments\n",
      "('', '', '', '', '', '')\n",
      "610 G ST CHULA VISTA 91910 apartments\n",
      "('', '', '', '', '', '')\n",
      "12402 JULIAN AVE LAKESIDE 92040 apartments\n",
      "('', '', '', '', '', '')\n",
      "3130 LANDIS ST SAN DIEGO 92104 apartments\n",
      "('', '', '', '', '', '')\n",
      "2138 BURROUGHS ST SAN DIEGO 92111 apartments\n",
      "('', '', '', '', '', '')\n",
      "4055 ARIZONA ST SAN DIEGO 92104 apartments\n",
      "('(619) 295-5278', '', '', '4055 Arizona St', 'San Diego', 'CA 92104')\n",
      "4485 QUINCE ST SAN DIEGO 92105 apartments\n",
      "('', '', '', '', '', '')\n",
      "834 EMERALD ST SAN DIEGO 92109 apartments\n",
      "('', '', '', '', '', '')\n",
      "4525 TEXAS ST SAN DIEGO 92116 apartments\n",
      "('(858) 382-9600', '', '', '4525 Texas St', 'San Diego', 'CA 92116')\n",
      "4056 VAN DYKE AVE SAN DIEGO 92105 apartments\n",
      "('', '', '', '', '', '')\n",
      "1637 S TREMONT ST OCEANSIDE 92054 apartments\n",
      "('', '', '', '', '', '')\n",
      "4611 GOVERNOR DR SAN DIEGO 92122 apartments\n",
      "('', '', '', '', '', '')\n",
      "4876 DEL MAR AVE SAN DIEGO 92107 apartments\n",
      "('', '', '', '', '', '')\n",
      "1803 W DRESCHER ST SAN DIEGO 92111 apartments\n",
      "('', '', '', '', '', '')\n",
      "4094 48TH ST SAN DIEGO 92105 apartments\n",
      "('', '', '', '', '', '')\n",
      "2111 AVENIDA DEL MEXICO SAN DIEGO 92154 apartments\n",
      "('', '', '', '', '', '')\n",
      "4450 51ST ST SAN DIEGO 92115 apartments\n",
      "('', '', '', '', '', '')\n",
      "4402 HIGHLAND AVE SAN DIEGO 92115 apartments\n",
      "('', '', '', '', '', '')\n",
      "250 N CEDAR ST ESCONDIDO 92025 apartments\n",
      "('', '', '', '', '', '')\n",
      "4230 44TH ST SAN DIEGO 92115 apartments\n",
      "('', '', '', '', '', '')\n",
      "1121 N ESCONDIDO BLVD ESCONDIDO 92026 apartments\n",
      "('', '', '', '', '', '')\n",
      "4033 TEXAS ST SAN DIEGO 92104 apartments\n",
      "('', '', '', '', '', '')\n",
      "449 EL CAJON BLVD EL CAJON 92020 apartments\n",
      "('', '', '', '', '', '')\n",
      "151 W KALMIA ST SAN DIEGO 92101 apartments\n",
      "('', '', '', '', '', '')\n",
      "3560 GARFIELD ST CARLSBAD 92008 apartments\n",
      "('', '', '', '', '', '')\n",
      "4873 NIAGARA AVE SAN DIEGO 92107 apartments\n",
      "('', '', '', '', '', '')\n",
      "4344 HAMILTON ST SAN DIEGO 92104 apartments\n",
      "('', '', '', '', '', '')\n",
      "2914 MARKET ST SAN DIEGO 92102 apartments\n",
      "('', '', '', '', '', '')\n",
      "1326 HORNBLEND ST SAN DIEGO 92109 apartments\n",
      "('', '', '', '', '', '')\n",
      "1811 BACON ST SAN DIEGO 92107 apartments\n",
      "('', '', '', '', '', '')\n",
      "4070 TEXAS ST SAN DIEGO 92104 apartments\n",
      "('', '', '', '', '', '')\n",
      "1486 BROADWAY CHULA VISTA 91911 apartments\n",
      "('(619) 425-5393', '', '', '1486 Broadway # F', 'Chula Vista', 'CA 91911')\n",
      "4522 ALTADENA AVE SAN DIEGO 92115 apartments\n",
      "('', '', '', '', '', '')\n",
      "1541 OLIVER AVE SAN DIEGO 92109 apartments\n",
      "('', '', '', '', '', '')\n",
      "1725 CYPRESS AVE SAN DIEGO 92103 apartments\n",
      "('', '', '', '', '', '')\n",
      "1195 34TH ST SAN DIEGO 92102 apartments\n",
      "('', '', '', '', '', '')\n",
      "4651 IOWA ST SAN DIEGO 92116 apartments\n",
      "('', '', '', '', '', '')\n",
      "235 W KALMIA ST FALLBROOK 92028 apartments\n",
      "('', '', '', '', '', '')\n",
      "134 W HAWTHORN ST SAN DIEGO 92101 apartments\n",
      "('', '', '', '', '', '')\n",
      "915 N AVE NATIONAL CITY 91950 apartments\n",
      "('', '', '', '', '', '')\n",
      "4657 FELTON ST SAN DIEGO 92116 apartments\n",
      "('', '', '', '', '', '')\n",
      "325 PARKETT LN EL CAJON 92020 apartments\n",
      "('', '', '', '', '', '')\n",
      "743 10TH AVE SAN DIEGO 92101 apartments\n",
      "('', '', '', '', '', '')\n",
      "3941 LOUISIANA ST SAN DIEGO 92104 apartments\n",
      "('', '', '', '', '', '')\n",
      "614 13TH ST IMPERIAL BEACH 91932 apartments\n",
      "('', '', '', '', '', '')\n",
      "2512 F AVE NATIONAL CITY 91950 apartments\n",
      "('', '', '', '', '', '')\n",
      "3884 CAMINITO AGUILAR nan 92111 apartments\n",
      "('(858) 278-5200', '', '', '3884 1/2 Caminito Aguilar', 'San Diego', 'CA 92111')\n",
      "339 ROOSEVELT ST CHULA VISTA 91910 apartments\n",
      "('', '', '', '', '', '')\n",
      "1318 S PACIFIC ST OCEANSIDE 92054 apartments\n",
      "('', '', '', '', '', '')\n",
      "2854 E VALLEY PKWY ESCONDIDO 92027 apartments\n",
      "('(760) 746-9896', '', '', '2854 E Valley Pkwy Unit #7', 'Escondido', 'CA 92027')\n",
      "534 SICARD ST SAN DIEGO 92113 apartments\n",
      "('', '', '', '', '', '')\n",
      "4480 EUCLID AVE SAN DIEGO 92115 apartments\n",
      "('', '', '', '', '', '')\n",
      "4019 WINONA AVE SAN DIEGO 92105 apartments\n",
      "('', '', '', '', '', '')\n",
      "1127 REED AVE SAN DIEGO 92109 apartments\n",
      "('', '', '', '', '', '')\n",
      "5419 LAKE MURRAY BLVD APT 12 LA MESA 91942 apartments\n",
      "('', '', '', '', '', '')\n",
      "4049 TEXAS ST SAN DIEGO 92104 apartments\n",
      "('', '', '', '', '', '')\n",
      "414 S LINCOLN AVE EL CAJON 92020 apartments\n",
      "('', '', '', '', '', '')\n",
      "12659 LAUREL ST LAKESIDE 92040 apartments\n",
      "('(833) 556-3392', '', '', '12659 Laurel St', 'Lakeside', 'CA 92040')\n",
      "1123 E 7TH ST NATIONAL CITY 91950 apartments\n",
      "('', '', '', '', '', '')\n",
      "3934 HAMILTON ST SAN DIEGO 92104 apartments\n",
      "('', '', '', '', '', '')\n",
      "4255 WINONA AVE SAN DIEGO 92115 apartments\n",
      "('', '', '', '', '', '')\n",
      "1432 15TH ST IMPERIAL BEACH 91932 apartments\n",
      "('', '', '', '', '', '')\n",
      "235 S WEITZEL ST OCEANSIDE 92054 apartments\n",
      "('', '', '', '', '', '')\n",
      "3205 HIGHLAND AVE SAN DIEGO 92105 apartments\n",
      "('', '', '', '', '', '')\n",
      "12718 MAPLEVIEW ST LAKESIDE 92040 apartments\n",
      "('', '', '', '', '', '')\n",
      "4126 UDALL ST SAN DIEGO 92107 apartments\n",
      "('', '', '', '', '', '')\n",
      "4325 37TH ST SAN DIEGO 92105 apartments\n",
      "('', '', '', '', '', '')\n",
      "3728 HERMAN AVE SAN DIEGO 92104 apartments\n",
      "('', '', '', '', '', '')\n",
      "4035 NORMAL ST SAN DIEGO 92103 apartments\n",
      "('', '', '', '', '', '')\n",
      "1955 THOMAS AVE SAN DIEGO 92109 apartments\n",
      "('', '', '', '', '', '')\n",
      "954 WILBUR AVE SAN DIEGO 92109 apartments\n",
      "('', '', '', '', '', '')\n",
      "1210 FELSPAR ST SAN DIEGO 92109 apartments\n",
      "('', '', '', '', '', '')\n",
      "4466 ALTADENA AVE SAN DIEGO 92115 apartments\n",
      "('', '', '', '', '', '')\n",
      "4477 MCCLINTOCK ST SAN DIEGO 92116 apartments\n",
      "('', '', '', '', '', '')\n",
      "3045 JUNIPER ST SAN DIEGO 92104 apartments\n",
      "('', '', '', '', '', '')\n",
      "418 GARFIELD ST OCEANSIDE 92054 apartments\n",
      "('', '', '', '', '', '')\n",
      "4863 CLAIREMONT MESA BLVD SAN DIEGO 92117 apartments\n",
      "('(858) 565-2097', '', '', '4863 Clairemont Mesa Blvd #904', 'San Diego', 'CA 92117')\n",
      "4189 MONROE AVE SAN DIEGO 92116 apartments\n",
      "('', '', '', '', '', '')\n",
      "311 G ST CHULA VISTA 91910 apartments\n",
      "('', '', '', '', '', '')\n",
      "1542 PACIFIC BEACH DR SAN DIEGO 92109 apartments\n",
      "('', '', '', '', '', '')\n",
      "278 MADRONA ST CHULA VISTA 91910 apartments\n",
      "('', '', '', '', '', '')\n",
      "2534 A ST SAN DIEGO 92102 apartments\n",
      "('', '', '', '', '', '')\n",
      "511 JUNE WAY EL CAJON 92021 apartments\n",
      "('', '', '', '', '', '')\n",
      "2230 SAN DIEGO AVE SAN DIEGO 92110 apartments\n",
      "('', '', '', '', '', '')\n",
      "4125 WABASH AVE SAN DIEGO 92104 apartments\n",
      "('', '', '', '', '', '')\n",
      "4962 CAPE MAY AVE SAN DIEGO 92107 apartments\n",
      "('', '', '', '', '', '')\n",
      "4581 PARK BLVD SAN DIEGO 92116 apartments\n",
      "('', '', '', '', '', '')\n",
      "3730 8TH AVE SAN DIEGO 92103 apartments\n",
      "('', '', '', '', '', '')\n",
      "5690 LAKE MURRAY BLVD LA MESA 91942 apartments\n",
      "('', '', '', '', '', '')\n",
      "748 N 3RD ST EL CAJON 92021 apartments\n",
      "('', '', '', '', '', '')\n",
      "4042 SWIFT AVE SAN DIEGO 92104 apartments\n",
      "('', '', '', '', '', '')\n",
      "5105 CASS ST SAN DIEGO 92109 apartments\n",
      "('', '', '', '', '', '')\n",
      "1070 GEORGIA ST IMPERIAL BEACH 91932 apartments\n",
      "('', '', '', '', '', '')\n",
      "4003 KANSAS ST SAN DIEGO 92104 apartments\n",
      "('', '', '', '', '', '')\n",
      "4566 DATE AVE LA MESA 91941 apartments\n",
      "('', '', '', '', '', '')\n",
      "4327 50TH ST SAN DIEGO 92115 apartments\n",
      "('', '', '', '', '', '')\n",
      "4008 GEORGIA ST SAN DIEGO 92103 apartments\n",
      "('', '', '', '', '', '')\n",
      "1187 GROVE AVE IMPERIAL BEACH 91932 apartments\n",
      "('', '', '', '', '', '')\n",
      "4185 TEXAS ST SAN DIEGO 92104 apartments\n",
      "('', '', '', '', '', '')\n",
      "4233 EVERTS ST SAN DIEGO 92109 apartments\n",
      "('', '', '', '', '', '')\n",
      "3671 GEORGIA ST SAN DIEGO 92103 apartments\n",
      "('', '', '', '', '', '')\n",
      "528 W CALIFORNIA AVE VISTA 92083 apartments\n",
      "('', '', '', '', '', '')\n",
      "1608 S TREMONT ST OCEANSIDE 92054 apartments\n",
      "('', '', '', '', '', '')\n",
      "1375 N BROADWAY ESCONDIDO 92026 apartments\n",
      "('', '', '', '', '', '')\n",
      "3702 CROWN POINT DR SAN DIEGO 92109 apartments\n",
      "('', '', '', '', '', '')\n",
      "8031 WINTER GARDENS BLVD EL CAJON 92021 apartments\n",
      "('(619) 561-5693', '', '', '8031 Winter Gardens Blvd', 'El Cajon', 'CA 92021')\n",
      "3628 S CORDOBA AVE SPRING VALLEY 91977 apartments\n",
      "('', '', '', '', '', '')\n",
      "5518 LAURETTA ST SAN DIEGO 92110 apartments\n",
      "('', '', '', '', '', '')\n",
      "3492 NATIONAL AVE SAN DIEGO 92113 apartments\n",
      "('', '', '', '', '', '')\n",
      "4827 PARKS AVE LA MESA 91942 apartments\n",
      "('', '', '', '', '', '')\n",
      "1032 TAIT ST OCEANSIDE 92054 apartments\n",
      "('', '', '', '', '', '')\n",
      "3550 3RD AVE SAN DIEGO 92103 apartments\n",
      "('', '', '', '', '', '')\n",
      "977 COLEEN CT EL CAJON 92021 apartments\n",
      "('', '', '', '', '', '')\n",
      "5729 BATES ST SAN DIEGO 92115 apartments\n",
      "('', '', '', '', '', '')\n",
      "4865 SARATOGA AVE SAN DIEGO 92107 apartments\n",
      "('', '', '', '', '', '')\n",
      "3025 COLUMBIA ST SAN DIEGO 92103 apartments\n",
      "('', '', '', '', '', '')\n",
      "3282 OCEAN VIEW BLVD SAN DIEGO 92113 apartments\n",
      "('', '', '', '', '', '')\n",
      "3137 NATIONAL AVE SAN DIEGO 92113 apartments\n",
      "('', '', '', '', '', '')\n",
      "1805 COLUMBIA ST SAN DIEGO 92101 apartments\n",
      "('', '', '', '', '', '')\n",
      "5359-5389 SANTA MARGARITA STREET nan 92114 apartments\n",
      "('', '', '', '', '', '')\n",
      "950 COAST BLVD S LA JOLLA 92037 apartments\n",
      "('', '', '', '', '', '')\n",
      "4431 CLEVELAND AVE SAN DIEGO 92116 apartments\n",
      "('', '', '', '', '', '')\n",
      "541 JAFFE CT SAN DIEGO 92119 apartments\n",
      "('', '', '', '', '', '')\n",
      "2799 ADRIAN ST SAN DIEGO 92110 apartments\n",
      "('(619) 255-9944', '', '', '2799 Adrian St', 'San Diego', 'CA 92110')\n",
      "970 W 13TH AVE ESCONDIDO 92025 apartments\n",
      "('', '', '', '', '', '')\n",
      "508 N CITRUS AVE VISTA 92084 apartments\n",
      "('', '', '', '', '', '')\n",
      "8427 CAPRICORN WAY SAN DIEGO 92126 apartments\n",
      "('', '', '', '', '', '')\n",
      "5715 LAURETTA ST SAN DIEGO 92110 apartments\n",
      "('', '', '', '', '', '')\n",
      "2142 2ND AVE SAN DIEGO 92101 apartments\n",
      "('', '', '', '', '', '')\n",
      "1340 HEMLOCK AVE IMPERIAL BEACH 91932 apartments\n",
      "('', '', '', '', '', '')\n",
      "3911 HAMILTON ST SAN DIEGO 92104 apartments\n",
      "('', '', '', '', '', '')\n",
      "4625 35TH ST SAN DIEGO 92116 apartments\n",
      "('', '', '', '', '', '')\n",
      "945 COLEEN CT EL CAJON 92021 apartments\n",
      "('', '', '', '', '', '')\n",
      "4177 ETA ST SAN DIEGO 92113 apartments\n",
      "('', '', '', '', '', '')\n",
      "2820 CIELO CIRCULO CHULA VISTA 91915 apartments\n",
      "('', '', '', '', '', '')\n",
      "711 OLIVER AVE SAN DIEGO 92109 apartments\n",
      "('', '', '', '', '', '')\n",
      "1132 S VINE ST FALLBROOK 92028 apartments\n",
      "('', '', '', '', '', '')\n",
      "6625 AMHERST ST SAN DIEGO 92115 apartments\n",
      "('', '', '', '', '', '')\n",
      "632 S 1ST ST EL CAJON 92019 apartments\n",
      "('(619) 273-5063', '', '', '632 S 1st St', 'El Cajon', 'CA 92019')\n",
      "4758 IMPERIAL AVE SAN DIEGO 92113 apartments\n",
      "('', '', '', '', '', '')\n",
      "4444 39TH ST SAN DIEGO 92116 apartments\n",
      "('', '', '', '', '', '')\n",
      "393 SHADY LN EL CAJON 92021 apartments\n",
      "('', '', '', '', '', '')\n",
      "3865 WILSON AVE SAN DIEGO 92104 apartments\n",
      "('(858) 967-7330', '', '', '4740 Wilson Ave', 'San Diego', 'CA 92116')\n",
      "4552 35TH ST SAN DIEGO 92116 apartments\n",
      "('', '', '', '', '', '')\n",
      "1027 21ST ST SAN DIEGO 92102 apartments\n",
      "('(844) 600-3117', '', '', '801 A St', 'San Diego', 'CA 92101')\n",
      "8209 LEMON AVE LA MESA 91941 apartments\n",
      "('', '', '', '', '', '')\n",
      "802 FRANKLIN AVE EL CAJON 92020 apartments\n",
      "('', '', '', '', '', '')\n",
      "933 MISSOURI ST SAN DIEGO 92109 apartments\n",
      "('', '', '', '', '', '')\n",
      "1550 S JUNIPER ST ESCONDIDO 92025 apartments\n",
      "('', '', '', '', '', '')\n",
      "2840 B ST SAN DIEGO 92102 apartments\n",
      "('', '', '', '', '', '')\n",
      "1809 E 17TH ST NATIONAL CITY 91950 apartments\n",
      "('(619) 474-2580', '', '', '1809 E 17th St', 'National City', 'CA 91950')\n",
      "4869 PINE ST LA MESA 91942 apartments\n",
      "('', '', '', '', '', '')\n",
      "429 JUNIPER ST SAN DIEGO 92101 apartments\n",
      "('', '', '', '', '', '')\n",
      "110 DICKINSON ST SAN DIEGO 92103 apartments\n",
      "('', '', '', '', '', '')\n",
      "2427 E ST SAN DIEGO 92102 apartments\n",
      "('', '', '', '', '', '')\n",
      "238 E 15TH AVE ESCONDIDO 92025 apartments\n",
      "('(760) 745-9809', '', '', '400 E Mission Ave', 'Escondido', 'CA 92025')\n",
      "5430 55TH ST SAN DIEGO 92115 apartments\n",
      "('', '', '', '', '', '')\n",
      "5614 LAURETTA ST SAN DIEGO 92110 apartments\n",
      "('', '', '', '', '', '')\n",
      "4520 CLAIREMONT DR SAN DIEGO 92117 apartments\n",
      "('', '', '', '', '', '')\n",
      "4133 CLEVELAND AVE SAN DIEGO 92103 apartments\n",
      "('', '', '', '', '', '')\n",
      "4181 41ST ST SAN DIEGO 92105 apartments\n",
      "('', '', '', '', '', '')\n",
      "229 25TH ST SAN DIEGO 92102 apartments\n",
      "('', '', '', '', '', '')\n",
      "5069 UNIVERSITY AVE SAN DIEGO 92105 apartments\n",
      "('', '', '', '', '', '')\n",
      "5027 UNIVERSITY AVE SAN DIEGO 92105 apartments\n",
      "('', '', '', '', '', '')\n",
      "4155 38TH ST SAN DIEGO 92105 apartments\n",
      "('', '', '', '', '', '')\n",
      "4446 49TH ST SAN DIEGO 92115 apartments\n",
      "('', '', '', '', '', '')\n",
      "2253 DUNLOP ST SAN DIEGO 92111 apartments\n",
      "('', '', '', '', '', '')\n",
      "1041 CALLA AVE IMPERIAL BEACH 91932 apartments\n",
      "('', '', '', '', '', '')\n",
      "1260 BORDEN RD ESCONDIDO 92026 apartments\n",
      "('(619) 219-4047', '', '', '1260 Borden Rd', 'Escondido', 'CA 92026')\n",
      "141 JOHNSTON LN SAN MARCOS 92069 apartments\n",
      "('', '', '', '', '', '')\n",
      "4781 SANTA CRUZ AVE SAN DIEGO 92107 apartments\n",
      "('', '', '', '', '', '')\n",
      "4455 50TH ST SAN DIEGO 92115 apartments\n",
      "('', '', '', '', '', '')\n",
      "2530 JUAN ST SAN DIEGO 92110 apartments\n",
      "('', '', '', '', '', '')\n",
      "716 F AVE CORONADO 92118 apartments\n",
      "('', '', '', '', '', '')\n",
      "4136 IOWA ST SAN DIEGO 92104 apartments\n",
      "('(619) 501-3222', '', '', '4024 Iowa St', 'San Diego', 'CA 92104')\n",
      "4183 HIGHLAND AVE SAN DIEGO 92105 apartments\n",
      "('', '', '', '', '', '')\n",
      "4460 50TH ST SAN DIEGO 92115 apartments\n",
      "('', '', '', '', '', '')\n",
      "9000 CAMPINA DR LA MESA 91942 apartments\n",
      "('(619) 698-6440', '', '', '9000 Campina Dr', 'La Mesa', 'CA 91942')\n",
      "431 3RD ST ENCINITAS 92024 apartments\n",
      "('', '', '', '', '', '')\n",
      "4086 NATIONAL AVE SAN DIEGO 92113 apartments\n",
      "('', '', '', '', '', '')\n",
      "319 W HAWTHORN ST SAN DIEGO 92101 apartments\n",
      "('', '', '', '', '', '')\n",
      "4152 UTAH ST SAN DIEGO 92104 apartments\n",
      "('', '', '', '', '', '')\n",
      "5021 NARRAGANSETT AVE SAN DIEGO 92107 apartments\n",
      "('', '', '', '', '', '')\n",
      "4032 N BONITA ST SPRING VALLEY 91977 apartments\n",
      "('', '', '', '', '', '')\n",
      "4875 FRANKLIN AVE SAN DIEGO 92113 apartments\n",
      "('', '', '', '', '', '')\n",
      "3651 REYNARD WAY SAN DIEGO 92103 apartments\n",
      "('', '', '', '', '', '')\n",
      "3240 OLIVE ST LEMON GROVE 91945 apartments\n",
      "('(619) 657-4547', '', '', '3240 Olive St', 'Lemon Grove', 'CA 91945')\n",
      "3718 WIGHTMAN ST SAN DIEGO 92105 apartments\n",
      "('', '', '', '', '', '')\n",
      "3838 37TH ST SAN DIEGO 92105 apartments\n",
      "('', '', '', '', '', '')\n",
      "5078 NARRAGANSETT AVE SAN DIEGO 92107 apartments\n",
      "('', '', '', '', '', '')\n",
      "1433 Q AVE NATIONAL CITY 91950 apartments\n",
      "('', '', '', '', '', '')\n",
      "7504 GIBRALTAR ST CARLSBAD 92009 apartments\n",
      "('', '', '', '', '', '')\n",
      "4182 IOWA ST SAN DIEGO 92104 apartments\n",
      "('', '', '', '', '', '')\n",
      "5134 W POINT LOMA BLVD SAN DIEGO 92107 apartments\n",
      "('', '', '', '', '', '')\n",
      "349 D AVE CORONADO 92118 apartments\n",
      "('', '', '', '', '', '')\n",
      "1450 MORENA BLVD SAN DIEGO 92110 apartments\n",
      "('', '', '', '', '', '')\n",
      "3976 MORRELL ST SAN DIEGO 92109 apartments\n",
      "('', '', '', '', '', '')\n",
      "1903 N VULCAN AVE ENCINITAS 92024 apartments\n",
      "('', '', '', '', '', '')\n",
      "4312 ESTRELLA AVE SAN DIEGO 92115 apartments\n",
      "('', '', '', '', '', '')\n",
      "4211 ALTADENA AVE SAN DIEGO 92115 apartments\n",
      "('', '', '', '', '', '')\n",
      "804 LORING ST SAN DIEGO 92109 apartments\n",
      "('', '', '', '', '', '')\n",
      "3730 43RD ST SAN DIEGO 92105 apartments\n",
      "('', '', '', '', '', '')\n",
      "4045 33RD ST SAN DIEGO 92104 apartments\n",
      "('', '', '', '', '', '')\n",
      "1303 CAVE ST LA JOLLA 92037 apartments\n",
      "('', '', '', '', '', '')\n",
      "4366 51ST ST SAN DIEGO 92115 apartments\n",
      "('', '', '', '', '', '')\n",
      "12510 OAK KNOLL RD POWAY 92064 apartments\n",
      "('(858) 748-9090', '', '', '12510 Oak Knoll Rd', 'Poway', 'CA 92064')\n",
      "2125 5TH AVE SAN DIEGO 92101 apartments\n",
      "('', '', '', '', '', '')\n",
      "3899 NOBEL DR SAN DIEGO 92122 apartments\n",
      "('', '', '', '', '', '')\n",
      "10615 CALLE MAR DE MARIPOSA SAN DIEGO 92130 apartments\n",
      "('(858) 793-1706', '', '', '10615 Calle Mar De Mariposa', 'San Diego', 'CA 92130')\n",
      "4424 47TH ST SAN DIEGO 92115 apartments\n",
      "('', '', '', '', '', '')\n",
      "7465 PACIFIC AVE LEMON GROVE 91945 apartments\n",
      "('', '', '', '', '', '')\n",
      "3330 30TH ST SAN DIEGO 92104 apartments\n",
      "('', '', '', '', '', '')\n",
      "904 S MAGNOLIA AVE EL CAJON 92020 apartments\n",
      "('', '', '', '', '', '')\n",
      "0 IMPERIAL BEACH BLVD IMPERIAL BEACH 91932 apartments\n",
      "('(619) 779-7999', '', '', '319 Imperial Beach Blvd', 'Imperial Beach', 'CA 91932')\n",
      "3980 INGRAHAM ST SAN DIEGO 92109 apartments\n",
      "('', '', '', '', '', '')\n",
      "4365 OREGON ST SAN DIEGO 92104 apartments\n",
      "('', '', '', '', '', '')\n",
      "2501 ULRIC ST SAN DIEGO 92111 apartments\n",
      "('', '', '', '', '', '')\n",
      "6622 TAIT ST SAN DIEGO 92111 apartments\n",
      "('', '', '', '', '', '')\n",
      "1104 PALM AVE NATIONAL CITY 91950 apartments\n",
      "('(619) 474-1995', '', '', '1104 Palm Ave', 'National City', 'CA 91950')\n",
      "192 ELKWOOD AVE IMPERIAL BEACH 91932 apartments\n",
      "('', '', '', '', '', '')\n",
      "710 N CLEVELAND ST OCEANSIDE 92054 apartments\n",
      "('', '', '', '', '', '')\n",
      "1005 N MOLLISON AVE EL CAJON 92021 apartments\n",
      "('(619) 401-2404', '', '', '1005 N Mollison Ave', 'El Cajon', 'CA 92021')\n",
      "3533 ISLAND AVE SAN DIEGO 92102 apartments\n",
      "('(619) 263-1933', '', '', '4259 Juniper St #40', 'San Diego', 'CA 92105')\n",
      "472 D AVE CORONADO 92118 apartments\n",
      "('', '', '', '', '', '')\n",
      "227 LOS ANGELES DR VISTA 92084 apartments\n",
      "('(760) 724-4132', '', '', '300 W Los Angeles Dr', 'Vista', 'CA 92083')\n",
      "191 E FALLBROOK ST FALLBROOK 92028 apartments\n",
      "('', '', '', '', '', '')\n",
      "4438 OREGON ST SAN DIEGO 92116 apartments\n",
      "('', '', '', '', '', '')\n",
      "4327 OREGON ST SAN DIEGO 92104 apartments\n",
      "('', '', '', '', '', '')\n",
      "4016 WINONA AVE SAN DIEGO 92105 apartments\n",
      "('', '', '', '', '', '')\n",
      "940 VINE ST OCEANSIDE 92054 apartments\n",
      "('', '', '', '', '', '')\n",
      "1442 E 8TH ST NATIONAL CITY 91950 apartments\n",
      "('', '', '', '', '', '')\n",
      "214 RANCHO DEL ORO DR OCEANSIDE 92057 apartments\n",
      "('', '', '', '', '', '')\n",
      "3918 IOWA ST SAN DIEGO 92104 apartments\n",
      "('', '', '', '', '', '')\n",
      "225 ORANGE AVE CORONADO 92118 apartments\n",
      "('', '', '', '', '', '')\n",
      "4882 CAPE MAY AVE SAN DIEGO 92107 apartments\n",
      "('', '', '', '', '', '')\n",
      "72 17TH ST SAN DIEGO 92101 apartments\n",
      "('(619) 233-8500', '', '', '72 17th St', 'San Diego', 'CA 92101')\n",
      "2555 BROADWAY SAN DIEGO 92102 apartments\n",
      "('', '', '', '', '', '')\n",
      "5220 CLAIREMONT MESA BLVD SAN DIEGO 92117 apartments\n",
      "('', '', '', '', '', '')\n",
      "3080 MARTIN AVE SAN DIEGO 92113 apartments\n",
      "('', '', '', '', '', '')\n",
      "4255 42ND ST SAN DIEGO 92105 apartments\n",
      "('', '', '', '', '', '')\n",
      "2669 MADISON ST CARLSBAD 92008 apartments\n",
      "('', '', '', '', '', '')\n",
      "7033 BOULEVARD DR LA MESA 91941 apartments\n",
      "('', '', '', '', '', '')\n",
      "3920 KENDALL ST SAN DIEGO 92109 apartments\n",
      "('', '', '', '', '', '')\n",
      "4436 MONTALVO ST SAN DIEGO 92107 apartments\n",
      "('', '', '', '', '', '')\n",
      "328 MONTGOMERY ST CHULA VISTA 91911 apartments\n",
      "('', '', '', '', '', '')\n",
      "348 W CYPRESS AVE EL CAJON 92020 apartments\n",
      "('', '', '', '', '', '')\n",
      "5043 WIGHTMAN ST SAN DIEGO 92105 apartments\n",
      "('', '', '', '', '', '')\n",
      "6702 KELLY ST SAN DIEGO 92111 apartments\n",
      "('', '', '', '', '', '')\n",
      "4680 MONROE AVE SAN DIEGO 92115 apartments\n",
      "('', '', '', '', '', '')\n",
      "4025 ILLINOIS ST SAN DIEGO 92104 apartments\n",
      "('', '', '', '', '', '')\n",
      "4897 CLAIREMONT MESA BLVD SAN DIEGO 92117 apartments\n",
      "('', '', '', '', '', '')\n",
      "516 MADISON AVE CHULA VISTA 91910 apartments\n",
      "('', '', '', '', '', '')\n",
      "3220 1ST AVE SAN DIEGO 92103 apartments\n",
      "('', '', '', '', '', '')\n",
      "5060 LA JOLLA BLVD SAN DIEGO 92109 apartments\n",
      "('(858) 483-7412', '', '', '5060 La Jolla Blvd', 'San Diego', 'CA 92109')\n",
      "4666 OREGON ST SAN DIEGO 92116 apartments\n",
      "('', '', '', '', '', '')\n",
      "1129 E 16TH ST NATIONAL CITY 91950 apartments\n",
      "('', '', '', '', '', '')\n",
      "381 OAK AVE CARLSBAD 92008 apartments\n",
      "('', '', '', '', '', '')\n",
      "4049 FLORIDA ST SAN DIEGO 92104 apartments\n",
      "('', '', '', '', '', '')\n",
      "4174 MONROE AVE SAN DIEGO 92116 apartments\n",
      "('', '', '', '', '', '')\n",
      "421 TREMONT ST CHULA VISTA 91911 apartments\n",
      "('', '', '', '', '', '')\n",
      "2603 JEFFERSON ST CARLSBAD 92008 apartments\n",
      "('', '', '', '', '', '')\n",
      "351 TAMARACK AVE CARLSBAD 92008 apartments\n",
      "('(760) 729-8681', '', '', '351 Tamarack Ave', 'Carlsbad', 'CA 92008')\n",
      "7525 PACIFIC AVE LEMON GROVE 91945 apartments\n",
      "('', '', '', '', '', '')\n",
      "4336 33RD ST SAN DIEGO 92104 apartments\n",
      "('', '', '', '', '', '')\n",
      "3981 NATIONAL AVE SAN DIEGO 92113 apartments\n",
      "('', '', '', '', '', '')\n",
      "5070 LOTUS ST SAN DIEGO 92107 apartments\n",
      "('', '', '', '', '', '')\n",
      "4044 45TH ST SAN DIEGO 92105 apartments\n",
      "('', '', '', '', '', '')\n",
      "2901 COLUMBIA ST SAN DIEGO 92103 apartments\n",
      "('', '', '', '', '', '')\n",
      "364 DOMINGUEZ WAY EL CAJON 92021 apartments\n",
      "('', '', '', '', '', '')\n",
      "4032 ALABAMA ST SAN DIEGO 92104 apartments\n",
      "('', '', '', '', '', '')\n",
      "3715 NATIONAL AVE SAN DIEGO 92113 apartments\n",
      "('', '', '', '', '', '')\n",
      "13843 CAMINO CANADA EL CAJON 92021 apartments\n",
      "('(619) 390-2877', '', '', '13843 Camino Canada', 'El Cajon', 'CA 92021')\n",
      "1822 30TH ST SAN DIEGO 92102 apartments\n",
      "('', '', '', '', '', '')\n",
      "4681 KANSAS ST SAN DIEGO 92116 apartments\n",
      "('', '', '', '', '', '')\n",
      "1768 THOMAS AVE SAN DIEGO 92109 apartments\n",
      "('', '', '', '', '', '')\n",
      "3820 3RD AVE SAN DIEGO 92103 apartments\n",
      "('', '', '', '', '', '')\n",
      "4149 NOBEL DR SAN DIEGO 92122 apartments\n",
      "('(858) 638-0105', '', '', '4247 Nobel Dr', 'San Diego', 'CA 92122')\n",
      "3963 ALABAMA ST SAN DIEGO 92104 apartments\n",
      "('', '', '', '', '', '')\n",
      "3780 HAINES ST SAN DIEGO 92109 apartments\n",
      "('', '', '', '', '', '')\n",
      "4908 SANTA CRUZ AVE SAN DIEGO 92107 apartments\n",
      "('', '', '', '', '', '')\n",
      "7637 NORMAL AVE LA MESA 91941 apartments\n",
      "('', '', '', '', '', '')\n",
      "443 W EL NORTE PKWY ESCONDIDO 92026 apartments\n",
      "('', '', '', '', '', '')\n",
      "4154 39TH ST SAN DIEGO 92105 apartments\n",
      "('', '', '', '', '', '')\n",
      "4999 STERLING CT SAN DIEGO 92105 apartments\n",
      "('', '', '', '', '', '')\n",
      "4803 MISSION BLVD SAN DIEGO 92109 apartments\n",
      "('', '', '', '', '', '')\n",
      "4640 BANCROFT ST SAN DIEGO 92116 apartments\n",
      "('', '', '', '', '', '')\n",
      "7342 GIRARD AVE LA JOLLA 92037 apartments\n",
      "('', '', '', '', '', '')\n",
      "234 W CLEMMENS LN FALLBROOK 92028 apartments\n",
      "('(760) 723-8654', '', '', '234 W Clemmens Ln', 'Fallbrook', 'CA 92028')\n",
      "457 E BRADLEY AVE EL CAJON 92021 apartments\n",
      "('', '', '', '', '', '')\n",
      "4135 CHAMOUNE AVE SAN DIEGO 92105 apartments\n",
      "('', '', '', '', '', '')\n",
      "1732 5TH AVE SAN DIEGO 92101 apartments\n",
      "('', '', '', '', '', '')\n",
      "3407 PRINGLE ST SAN DIEGO 92110 apartments\n",
      "('', '', '', '', '', '')\n",
      "4701 39TH ST SAN DIEGO 92116 apartments\n",
      "('', '', '', '', '', '')\n",
      "4550 PALM AVE LA MESA 91941 apartments\n",
      "('', '', '', '', '', '')\n",
      "4669 34TH ST SAN DIEGO 92116 apartments\n",
      "('', '', '', '', '', '')\n",
      "4765 ORCHARD AVE SAN DIEGO 92107 apartments\n",
      "('', '', '', '', '', '')\n",
      "4752 34TH ST SAN DIEGO 92116 apartments\n",
      "('', '', '', '', '', '')\n",
      "3038 JUNIPER ST SAN DIEGO 92104 apartments\n",
      "('', '', '', '', '', '')\n",
      "2515 CAMINO DEL MAR DEL MAR 92014 apartments\n",
      "('(858) 755-1466', '', '', '2515 Camino Del Mar', 'Del Mar', 'CA 92014')\n",
      "610 N CLEMENTINE ST OCEANSIDE 92054 apartments\n",
      "('', '', '', '', '', '')\n",
      "5015 AUBURN DR SAN DIEGO 92105 apartments\n",
      "('', '', '', '', '', '')\n",
      "4447 49TH ST SAN DIEGO 92115 apartments\n",
      "('', '', '', '', '', '')\n",
      "4568 IDAHO ST SAN DIEGO 92116 apartments\n",
      "('', '', '', '', '', '')\n",
      "360 PALA VISTA DR VISTA 92083 apartments\n",
      "('', '', '', '', '', '')\n",
      "2266 W DUNLOP ST SAN DIEGO 92111 apartments\n",
      "('', '', '', '', '', '')\n",
      "4117 ALABAMA ST SAN DIEGO 92104 apartments\n",
      "('', '', '', '', '', '')\n",
      "360 NAUTILUS ST LA JOLLA 92037 apartments\n",
      "('', '', '', '', '', '')\n",
      "3232 44TH ST SAN DIEGO 92105 apartments\n",
      "('', '', '', '', '', '')\n",
      "12500 OAK KNOLL RD POWAY 92064 apartments\n",
      "('', '', '', '', '', '')\n",
      "360 ORANGE AVE CORONADO 92118 apartments\n",
      "('', '', '', '', '', '')\n",
      "9719 RIVERVIEW AVE LAKESIDE 92040 apartments\n",
      "('', '', '', '', '', '')\n",
      "3734 SUNSET LN SAN YSIDRO 92173 apartments\n",
      "('', '', '', '', '', '')\n",
      "3765 4TH AVE SAN DIEGO 92103 apartments\n",
      "('', '', '', '', '', '')\n",
      "4512 GEORGIA ST SAN DIEGO 92116 apartments\n",
      "('', '', '', '', '', '')\n",
      "1389 E LEXINGTON AVE EL CAJON 92019 apartments\n",
      "('', '', '', '', '', '')\n",
      "829 26TH ST SAN DIEGO 92102 apartments\n",
      "('', '', '', '', '', '')\n",
      "949 OPAL ST SAN DIEGO 92109 apartments\n",
      "('', '', '', '', '', '')\n",
      "811 PEACH CT EL CAJON 92021 apartments\n",
      "('', '', '', '', '', '')\n",
      "4441 MISSISSIPPI ST SAN DIEGO 92116 apartments\n",
      "('', '', '', '', '', '')\n",
      "5360 TOSCANA WAY SAN DIEGO 92122 apartments\n",
      "('', '', '', '', '', '')\n",
      "4741 NEWPORT AVE SAN DIEGO 92107 apartments\n",
      "('', '', '', '', '', '')\n",
      "4449 FLORIDA ST SAN DIEGO 92116 apartments\n",
      "('', '', '', '', '', '')\n",
      "848 N MOLLISON AVE EL CAJON 92021 apartments\n",
      "('(844) 970-1320', '', '', '848 N Mollison Ave #5500', 'El Cajon', 'CA 92021')\n",
      "2737 JEFFERSON ST CARLSBAD 92008 apartments\n",
      "('', '', '', '', '', '')\n",
      "2016 NEWTON AVE SAN DIEGO 92113 apartments\n",
      "('', '', '', '', '', '')\n",
      "5471 BAYVIEW HEIGHTS PL SAN DIEGO 92105 apartments\n",
      "('(619) 262-0722', '', '', '5471 Bayview Heights Pl', 'San Diego', 'CA 92105')\n",
      "418 RITCHEY ST SAN DIEGO 92114 apartments\n",
      "('(619) 393-3065', '', '', '8517 Paradise Valley Rd', 'Spring Valley', 'CA 91977')\n",
      "4815 70TH ST SAN DIEGO 92115 apartments\n",
      "('', '', '', '', '', '')\n",
      "5451 LAURETTA ST SAN DIEGO 92110 apartments\n",
      "('', '', '', '', '', '')\n",
      "4458 LOUISIANA ST SAN DIEGO 92116 apartments\n",
      "('(619) 296-7651', '', '', '4006 Louisiana St #12', 'San Diego', 'CA 92104')\n",
      "2644 HORNBLEND STREET nan 92109 apartments\n",
      "('', '', '', '', '', '')\n",
      "7555 PACIFIC AVE LEMON GROVE 91945 apartments\n",
      "('', '', '', '', '', '')\n",
      "3854 50TH ST SAN DIEGO 92105 apartments\n",
      "('', '', '', '', '', '')\n",
      "325 CHESTNUT AVE CARLSBAD 92008 apartments\n",
      "('', '', '', '', '', '')\n",
      "333 W D ST ENCINITAS 92024 apartments\n",
      "('', '', '', '', '', '')\n",
      "1637 ORO VISTA RD SAN DIEGO 92154 apartments\n",
      "('', '', '', '', '', '')\n",
      "8450 UNIVERSITY AVE LA MESA 91942 apartments\n",
      "('', '', '', '', '', '')\n",
      "1030 S ANZA ST EL CAJON 92020 apartments\n",
      "('', '', '', '', '', '')\n",
      "1280 N CITRUS AVE VISTA 92084 apartments\n",
      "('(760) 724-3460', '', '', '1280 N Citrus Ave', 'Vista', 'CA 92084')\n",
      "8625 FLETCHER PKWY LA MESA 91942 apartments\n",
      "('', '', '', '', '', '')\n",
      "3716 JEWELL ST SAN DIEGO 92109 apartments\n",
      "('', '', '', '', '', '')\n",
      "6914 EASTMAN ST SAN DIEGO 92111 apartments\n",
      "('', '', '', '', '', '')\n",
      "1235 GRAND AVE SAN DIEGO 92109 apartments\n",
      "('', '', '', '', '', '')\n",
      "4411 LOUISIANA ST SAN DIEGO 92116 apartments\n",
      "('', '', '', '', '', '')\n",
      "4738 MUIR AVE SAN DIEGO 92107 apartments\n",
      "('', '', '', '', '', '')\n",
      "8215 ORCHARD AVE LA MESA 91942 apartments\n",
      "('', '', '', '', '', '')\n",
      "5089 NARRAGANSETT AVE SAN DIEGO 92107 apartments\n",
      "('', '', '', '', '', '')\n",
      "9001 PROSPECT AVE SANTEE 92071 apartments\n",
      "('', '', '', '', '', '')\n",
      "1260 E WASHINGTON AVE EL CAJON 92019 apartments\n",
      "('', '', '', '', '', '')\n",
      "4739 BANCROFT ST SAN DIEGO 92116 apartments\n",
      "('', '', '', '', '', '')\n",
      "4707 YUMA AVE OCEANSIDE 92057 apartments\n",
      "('(760) 494-9491', '', '', '4779 Yuma Ave', 'Oceanside', 'CA 92057')\n",
      "3550 VAN DYKE AVE SAN DIEGO 92105 apartments\n",
      "('', '', '', '', '', '')\n",
      "4533 51ST ST SAN DIEGO 92115 apartments\n",
      "('', '', '', '', '', '')\n",
      "8216 STATION VILLAGE LN SAN DIEGO 92108 apartments\n",
      "('', '', '', '', '', '')\n",
      "102 DICKINSON ST SAN DIEGO 92103 apartments\n",
      "('', '', '', '', '', '')\n",
      "5050 CASS ST SAN DIEGO 92109 apartments\n",
      "('', '', '', '', '', '')\n",
      "4061 44TH ST SAN DIEGO 92105 apartments\n",
      "('', '', '', '', '', '')\n",
      "4450 WINONA AVE SAN DIEGO 92115 apartments\n",
      "('', '', '', '', '', '')\n",
      "570 S LINCOLN AVE EL CAJON 92020 apartments\n",
      "('(619) 447-0159', '', '', '570 S Lincoln Ave', 'El Cajon', 'CA 92020')\n",
      "220 47TH ST SAN DIEGO 92102 apartments\n",
      "('(844) 737-6562', '', '', '220 47th St Apt. C', 'San Diego', 'CA 92102')\n",
      "1168 REED AVE SAN DIEGO 92109 apartments\n",
      "('', '', '', '', '', '')\n",
      "3009 KELLOGG ST SAN DIEGO 92106 apartments\n",
      "('', '', '', '', '', '')\n",
      "645 EMORY ST IMPERIAL BEACH 91932 apartments\n",
      "('', '', '', '', '', '')\n",
      "530 ARBOR DR SAN DIEGO 92103 apartments\n",
      "('', '', '', '', '', '')\n",
      "5101 TOWLE CT SAN DIEGO 92105 apartments\n",
      "('(619) 281-9451', '', '', '5101 Towle Ct #1', 'San Diego', 'CA 92105')\n",
      "2187 EVERETT AVE SAN DIEGO 92113 apartments\n",
      "('', '', '', '', '', '')\n",
      "2860 LINCOLN AVE SAN DIEGO 92104 apartments\n",
      "('', '', '', '', '', '')\n",
      "3766 35TH ST SAN DIEGO 92104 apartments\n",
      "('', '', '', '', '', '')\n",
      "1428 BROOKES AVE SAN DIEGO 92103 apartments\n",
      "('', '', '', '', '', '')\n",
      "161 BRIGHTWOOD AVE CHULA VISTA 91910 apartments\n",
      "('(619) 420-8161', '', '', '161 5th Ave', 'Chula Vista', 'CA 91910')\n",
      "1459 E 1ST ST NATIONAL CITY 91950 apartments\n",
      "('', '', '', '', '', '')\n",
      "236 DEL MAR AVE CHULA VISTA 91910 apartments\n",
      "('', '', '', '', '', '')\n",
      "5757 LAKE MURRAY BLVD LA MESA 91942 apartments\n",
      "('', '', '', '', '', '')\n",
      "1329 OLIVER AVE SAN DIEGO 92109 apartments\n",
      "('', '', '', '', '', '')\n",
      "3250 NATIONAL AVE SAN DIEGO 92113 apartments\n",
      "('', '', '', '', '', '')\n",
      "256 N 1ST ST EL CAJON 92021 apartments\n",
      "('', '', '', '', '', '')\n",
      "422 BROOKS ST OCEANSIDE 92054 apartments\n",
      "('', '', '', '', '', '')\n",
      "7707 MISSION GORGE RD SAN DIEGO 92120 apartments\n",
      "('(619) 648-1772', '', '', '7707 Mission Gorge Rd', 'San Diego', 'CA 92120')\n",
      "4222 43RD ST SAN DIEGO 92105 apartments\n",
      "('', '', '', '', '', '')\n",
      "402 HAWTHORN ST SAN DIEGO 92101 apartments\n",
      "('', '', '', '', '', '')\n",
      "1479 ELDER AVE SAN DIEGO 92154 apartments\n",
      "('', '', '', '', '', '')\n",
      "3453 CASTLE GLEN DR SAN DIEGO 92123 apartments\n",
      "('', '', '', '', '', '')\n",
      "2031 PASEO DORADO LA JOLLA 92037 apartments\n",
      "('', '', '', '', '', '')\n",
      "3745 GRIM AVE SAN DIEGO 92104 apartments\n",
      "('', '', '', '', '', '')\n",
      "4886 ORCHARD AVE SAN DIEGO 92107 apartments\n",
      "('', '', '', '', '', '')\n",
      "1011 LESLIE RD EL CAJON 92020 apartments\n",
      "('', '', '', '', '', '')\n",
      "4118 IOWA ST SAN DIEGO 92104 apartments\n",
      "('', '', '', '', '', '')\n",
      "216 NEVADA AVE VISTA 92084 apartments\n",
      "('', '', '', '', '', '')\n",
      "102 DICKINSON ST APT C SAN DIEGO 92103 apartments\n",
      "('', '', '', '', '', '')\n",
      "4767 MANSFIELD ST SAN DIEGO 92116 apartments\n",
      "('', '', '', '', '', '')\n",
      "1529 CABLE ST SAN DIEGO 92107 apartments\n",
      "('', '', '', '', '', '')\n",
      "2910 GUNN ST SAN DIEGO 92104 apartments\n",
      "('', '', '', '', '', '')\n",
      "240 E FALLBROOK ST FALLBROOK 92028 apartments\n",
      "('(760) 723-4606', '', '', '230 E Fallbrook St # 28', 'Fallbrook', 'CA 92028')\n",
      "4352 TEXAS ST SAN DIEGO 92104 apartments\n",
      "('', '', '', '', '', '')\n",
      "1048 E AVE SAN DIEGO 92118 apartments\n",
      "('', '', '', '', '', '')\n",
      "668 W WASHINGTON AVE EL CAJON 92020 apartments\n",
      "('(619) 447-4205', '', '', '668 W Washington Ave', 'El Cajon', 'CA 92020')\n",
      "3589 MISSION BLVD SAN DIEGO 92109 apartments\n",
      "('', '', '', '', '', '')\n",
      "4473 MENLO AVE SAN DIEGO 92115 apartments\n",
      "('', '', '', '', '', '')\n",
      "275 C AVE CORONADO 92118 apartments\n",
      "('', '', '', '', '', '')\n",
      "3714 31ST ST SAN DIEGO 92104 apartments\n",
      "('', '', '', '', '', '')\n",
      "1702 MADISON AVE SAN DIEGO 92116 apartments\n",
      "('', '', '', '', '', '')\n",
      "3239 MISSION BLVD SAN DIEGO 92109 apartments\n",
      "('', '', '', '', '', '')\n",
      "782 3RD AVE CHULA VISTA 91910 apartments\n",
      "('', '', '', '', '', '')\n",
      "3661 MARLBOROUGH AVE SAN DIEGO 92105 apartments\n",
      "('', '', '', '', '', '')\n",
      "3958 DOVE ST SAN DIEGO 92103 apartments\n",
      "('', '', '', '', '', '')\n",
      "3605 1ST AVE SAN DIEGO 92103 apartments\n",
      "('', '', '', '', '', '')\n",
      "814 MISSOURI AVE OCEANSIDE 92054 apartments\n",
      "('', '', '', '', '', '')\n",
      "1443 MARSHALL RD ALPINE 91901 apartments\n",
      "('', '', '', '', '', '')\n",
      "4929 DEL MONTE AVE SAN DIEGO 92107 apartments\n",
      "('', '', '', '', '', '')\n",
      "1403 MARKET ST SAN DIEGO 92101 apartments\n",
      "('', '', '', '', '', '')\n",
      "4639 W POINT LOMA BLVD SAN DIEGO 92107 apartments\n",
      "('', '', '', '', '', '')\n",
      "842 REED AVE SAN DIEGO 92109 apartments\n",
      "('', '', '', '', '', '')\n",
      "5073 VOLTAIRE ST SAN DIEGO 92107 apartments\n",
      "('', '', '', '', '', '')\n",
      "3575 44TH ST SAN DIEGO 92105 apartments\n",
      "('', '', '', '', '', '')\n",
      "1190 ENCINITAS BLVD ENCINITAS 92024 apartments\n",
      "('(760) 944-7558', '', '', '1190 Encinitas Blvd #107', 'Encinitas', 'CA 92024')\n",
      "3829 GEORGIA ST SAN DIEGO 92103 apartments\n",
      "('', '', '', '', '', '')\n",
      "3125 1ST AVE SAN DIEGO 92103 apartments\n",
      "('', '', '', '', '', '')\n",
      "2931 OCEAN FRONT WALK SAN DIEGO 92109 apartments\n",
      "('', '', '', '', '', '')\n",
      "109 UNIVERSITY AVE SAN DIEGO 92103 apartments\n",
      "('', '', '', '', '', '')\n",
      "4375 46TH ST SAN DIEGO 92115 apartments\n",
      "('', '', '', '', '', '')\n",
      "3715 INGRAHAM ST SAN DIEGO 92109 apartments\n",
      "('', '', '', '', '', '')\n",
      "376 ORLANDO ST EL CAJON 92021 apartments\n",
      "('', '', '', '', '', '')\n",
      "4326 39TH ST SAN DIEGO 92105 apartments\n",
      "('', '', '', '', '', '')\n",
      "4154 46TH ST SAN DIEGO 92105 apartments\n",
      "('', '', '', '', '', '')\n",
      "292 ELKWOOD AVE IMPERIAL BEACH 91932 apartments\n",
      "('', '', '', '', '', '')\n",
      "901 TURQUOISE ST SAN DIEGO 92109 apartments\n",
      "('', '', '', '', '', '')\n",
      "111 PALMYRA DR VISTA 92083 apartments\n",
      "('', '', '', '', '', '')\n",
      "2401 C ST SAN DIEGO 92102 apartments\n",
      "('', '', '', '', '', '')\n",
      "345 N JUNIPER ST ESCONDIDO 92025 apartments\n",
      "('', '', '', '', '', '')\n",
      "1004 W SPRUCE ST SAN DIEGO 92103 apartments\n",
      "('', '', '', '', '', '')\n",
      "3699 BARNARD DR OCEANSIDE 92056 apartments\n",
      "('(530) 868-4473', '', '', '3699 Barnard Dr', 'Oceanside', 'CA 92056')\n",
      "142 E 6TH AVE ESCONDIDO 92025 apartments\n",
      "('', '', '', '', '', '')\n",
      "1030 20TH ST SAN DIEGO 92102 apartments\n",
      "('', '', '', '', '', '')\n",
      "4235 ALTADENA AVE SAN DIEGO 92115 apartments\n",
      "('', '', '', '', '', '')\n",
      "311 S HORNE ST OCEANSIDE 92054 apartments\n",
      "('', '', '', '', '', '')\n",
      "1351 PACIFIC BEACH DR SAN DIEGO 92109 apartments\n",
      "('', '', '', '', '', '')\n",
      "4349 ROSEBUD LN LA MESA 91941 apartments\n",
      "('', '', '', '', '', '')\n",
      "6020 FULMAR ST SAN DIEGO 92114 apartments\n",
      "('', '', '', '', '', '')\n",
      "3644 43RD ST SAN DIEGO 92105 apartments\n",
      "('', '', '', '', '', '')\n",
      "550 ORANGE AVE CORONADO 92118 apartments\n",
      "('', '', '', '', '', '')\n",
      "302 E FALLBROOK ST FALLBROOK 92028 apartments\n",
      "('', '', '', '', '', '')\n",
      "991 POSTAL WAY VISTA 92083 apartments\n",
      "('', '', '', '', '', '')\n",
      "141 CHERRY AVE CARLSBAD 92008 apartments\n",
      "('', '', '', '', '', '')\n",
      "466 W WASHINGTON AVE EL CAJON 92020 apartments\n",
      "('(619) 485-6306', '', '', '466 W Washington Ave', 'El Cajon', 'CA 92020')\n",
      "4955 SARATOGA AVE SAN DIEGO 92107 apartments\n",
      "('', '', '', '', '', '')\n",
      "4127 35TH ST SAN DIEGO 92104 apartments\n",
      "('', '', '', '', '', '')\n",
      "6235 STANLEY AVE SAN DIEGO 92115 apartments\n",
      "('', '', '', '', '', '')\n",
      "1721 LOGAN AVE SAN DIEGO 92113 apartments\n",
      "('', '', '', '', '', '')\n",
      "4290 45TH ST SAN DIEGO 92115 apartments\n",
      "('', '', '', '', '', '')\n",
      "3055 MADISON ST CARLSBAD 92008 apartments\n",
      "('', '', '', '', '', '')\n",
      "3172 ADAMS AVE SAN DIEGO 92116 apartments\n",
      "('(619) 220-8300', '', '', '2242 Gill Village Way', 'San Diego', 'CA 92108')\n",
      "4440 MENTONE ST SAN DIEGO 92107 apartments\n",
      "('', '', '', '', '', '')\n",
      "2127 L ST SAN DIEGO 92102 apartments\n",
      "('', '', '', '', '', '')\n",
      "1440 N BROADWAY ESCONDIDO 92026 apartments\n",
      "('', '', '', '', '', '')\n",
      "2250 CONGRESS ST SAN DIEGO 92110 apartments\n",
      "('', '', '', '', '', '')\n",
      "2730 JEFFERSON ST CARLSBAD 92008 apartments\n",
      "('', '', '', '', '', '')\n",
      "426 AMMUNITION RD FALLBROOK 92028 apartments\n",
      "('', '', '', '', '', '')\n",
      "3874 CHEROKEE AVE SAN DIEGO 92104 apartments\n",
      "('', '', '', '', '', '')\n",
      "3023 KELLOGG ST SAN DIEGO 92106 apartments\n",
      "('', '', '', '', '', '')\n",
      "2537 1ST AVE SAN DIEGO 92103 apartments\n",
      "('', '', '', '', '', '')\n",
      "4258 34TH ST SAN DIEGO 92104 apartments\n",
      "('', '', '', '', '', '')\n",
      "3414 MISSION BLVD SAN DIEGO 92109 apartments\n",
      "('', '', '', '', '', '')\n",
      "1790 DIAMOND ST SAN DIEGO 92109 apartments\n",
      "('', '', '', '', '', '')\n",
      "4361 ALTADENA AVE SAN DIEGO 92115 apartments\n",
      "('', '', '', '', '', '')\n",
      "3740 52ND ST SAN DIEGO 92105 apartments\n",
      "('', '', '', '', '', '')\n",
      "925 MARTIN DR ESCONDIDO 92026 apartments\n",
      "('', '', '', '', '', '')\n",
      "2134 CAROL VIEW DR CARDIFF BY THE SEA 92007 apartments\n",
      "('(760) 943-7368', '', '', '2170 Carol View Dr', 'Cardiff', 'CA 92007')\n",
      "917 E WASHINGTON AVE ESCONDIDO 92025 apartments\n",
      "('', '', '', '', '', '')\n",
      "3062 HAWTHORN ST SAN DIEGO 92104 apartments\n",
      "('', '', '', '', '', '')\n",
      "1721 4TH AVE SAN DIEGO 92101 apartments\n",
      "('', '', '', '', '', '')\n",
      "420 E 1ST ST NATIONAL CITY 91950 apartments\n",
      "('', '', '', '', '', '')\n",
      "1918 KELLY AVE RAMONA 92065 apartments\n",
      "('', '', '', '', '', '')\n",
      "4744 HAWLEY BLVD SAN DIEGO 92116 apartments\n",
      "('', '', '', '', '', '')\n",
      "2365 1ST AVE SAN DIEGO 92101 apartments\n",
      "('', '', '', '', '', '')\n",
      "3144 GRAPE ST SAN DIEGO 92102 apartments\n",
      "('', '', '', '', '', '')\n",
      "1265 PERSIMMON AVE EL CAJON 92021 apartments\n",
      "('', '', '', '', '', '')\n",
      "260 S GREGORY ST SAN DIEGO 92113 apartments\n",
      "('', '', '', '', '', '')\n",
      "4015 CHEROKEE AVE SAN DIEGO 92104 apartments\n",
      "('', '', '', '', '', '')\n",
      "4320 PARKS AVE LA MESA 91941 apartments\n",
      "('', '', '', '', '', '')\n",
      "1360 HORNBLEND ST SAN DIEGO 92109 apartments\n",
      "('', '', '', '', '', '')\n",
      "1361 W 9TH AVE ESCONDIDO 92029 apartments\n",
      "('', '', '', '', '', '')\n",
      "3685 ARNOLD AVE SAN DIEGO 92104 apartments\n",
      "('', '', '', '', '', '')\n",
      "1121 4TH AVE CHULA VISTA 91911 apartments\n",
      "('(619) 425-5446', '', '', '1121 4th Ave', 'Chula Vista', 'CA 91911')\n",
      "3622 43RD ST SAN DIEGO 92105 apartments\n",
      "('', '', '', '', '', '')\n",
      "3087 A ST SAN DIEGO 92102 apartments\n",
      "('', '', '', '', '', '')\n",
      "4389 39TH ST SAN DIEGO 92105 apartments\n",
      "('', '', '', '', '', '')\n",
      "534 GREENBRIER DR OCEANSIDE 92054 apartments\n",
      "('', '', '', '', '', '')\n",
      "3853 COLINA DORADA DR SAN DIEGO 92124 apartments\n",
      "('', '', '', '', '', '')\n",
      "3411 MISSION BLVD SAN DIEGO 92109 apartments\n",
      "('', '', '', '', '', '')\n",
      "5417 LAKE MURRAY BLVD APT 2 LA MESA 91942 apartments\n",
      "('', '', '', '', '', '')\n",
      "1224 E 18TH ST NATIONAL CITY 91950 apartments\n",
      "('', '', '', '', '', '')\n",
      "689 TYRONE ST EL CAJON 92020 apartments\n",
      "('', '', '', '', '', '')\n",
      "1927 WELLINGTON LN VISTA 92081 apartments\n",
      "('(760) 598-9000', '', '', '1982 Wellington Ln', 'Vista', 'CA 92081')\n",
      "3025 OLIPHANT ST SAN DIEGO 92106 apartments\n",
      "('', '', '', '', '', '')\n",
      "4359 MENTONE ST SAN DIEGO 92107 apartments\n",
      "('', '', '', '', '', '')\n",
      "5020 WIGHTMAN ST SAN DIEGO 92105 apartments\n",
      "('', '', '', '', '', '')\n",
      "655 TOURMALINE ST SAN DIEGO 92109 apartments\n",
      "('', '', '', '', '', '')\n",
      "8725 ARIVA CT SAN DIEGO 92123 apartments\n",
      "('(858) 565-8483', '', '', '8725 Ariva Ct', 'San Diego', 'CA 92123')\n",
      "7138 SARANAC ST LA MESA 91942 apartments\n",
      "('(619) 772-6459', '', '', '7138-7080 Saranac St', 'La Mesa', 'CA 91942')\n",
      "3096 GREELY AVE SAN DIEGO 92113 apartments\n",
      "('', '', '', '', '', '')\n",
      "4087 46TH ST SAN DIEGO 92105 apartments\n",
      "('', '', '', '', '', '')\n",
      "5939 SAN MIGUEL RD BONITA 91902 apartments\n",
      "('', '', '', '', '', '')\n",
      "4477 48TH ST SAN DIEGO 92115 apartments\n",
      "('', '', '', '', '', '')\n",
      "5018 SANTA CRUZ AVE SAN DIEGO 92107 apartments\n",
      "('', '', '', '', '', '')\n",
      "3821 39TH ST SAN DIEGO 92105 apartments\n",
      "('', '', '', '', '', '')\n",
      "5431 LAKE MURRAY BLVD UNIT 5 LA MESA 91942 apartments\n",
      "('', '', '', '', '', '')\n",
      "4695 LOUISIANA ST SAN DIEGO 92116 apartments\n",
      "('', '', '', '', '', '')\n",
      "3160 LINCOLN AVE SAN DIEGO 92104 apartments\n",
      "('', '', '', '', '', '')\n",
      "4370 ROSEBUD LN LA MESA 91941 apartments\n",
      "('', '', '', '', '', '')\n",
      "3738 31ST ST SAN DIEGO 92104 apartments\n",
      "('', '', '', '', '', '')\n",
      "775 9TH ST IMPERIAL BEACH 91932 apartments\n",
      "('', '', '', '', '', '')\n",
      "735 W FALLBROOK ST FALLBROOK 92028 apartments\n",
      "('', '', '', '', '', '')\n",
      "4212 BOUNDARY ST SAN DIEGO 92104 apartments\n",
      "('', '', '', '', '', '')\n",
      "115 S MIDWAY DR ESCONDIDO 92027 apartments\n",
      "('(760) 746-2761', '', '', '115 S Midway Dr', 'Escondido', 'CA 92027')\n",
      "1110 MEADOW LAKE DR VISTA 92084 apartments\n",
      "('', '', '', '', '', '')\n",
      "2518 F AVE NATIONAL CITY 91950 apartments\n",
      "('', '', '', '', '', '')\n",
      "3321 COWLEY WAY SAN DIEGO 92117 apartments\n",
      "('', '', '', '', '', '')\n",
      "4546 BOUNDARY ST SAN DIEGO 92116 apartments\n",
      "('', '', '', '', '', '')\n",
      "3432 FLORENCE ST SAN DIEGO 92113 apartments\n",
      "('', '', '', '', '', '')\n",
      "810 N JUNIPER ST ESCONDIDO 92025 apartments\n",
      "('', '', '', '', '', '')\n",
      "2245 ULRIC ST SAN DIEGO 92111 apartments\n",
      "('', '', '', '', '', '')\n",
      "303 IMPERIAL BEACH BLVD IMPERIAL BEACH 91932 apartments\n",
      "('', '', '', '', '', '')\n",
      "350 S VISTA AVE SAN YSIDRO 92173 apartments\n",
      "('', '', '', '', '', '')\n",
      "4061 VAN DYKE AVE SAN DIEGO 92105 apartments\n",
      "('', '', '', '', '', '')\n",
      "8397 LEMON AVE LA MESA 91941 apartments\n",
      "('', '', '', '', '', '')\n",
      "4805 CAPE MAY AVE SAN DIEGO 92107 apartments\n",
      "('', '', '', '', '', '')\n",
      "5433 LAKE MURRAY BLVD UNIT 12 LA MESA 91942 apartments\n",
      "('', '', '', '', '', '')\n",
      "3951 ALBATROSS ST SAN DIEGO 92103 apartments\n",
      "('', '', '', '', '', '')\n",
      "4444 GREENE ST SAN DIEGO 92107 apartments\n",
      "('(619) 222-5143', '', '', '4444 Greene St', 'San Diego', 'CA 92107')\n",
      "2858 BROADWAY SAN DIEGO 92102 apartments\n",
      "('', '', '', '', '', '')\n",
      "9972 SAN JUAN ST SPRING VALLEY 91977 apartments\n",
      "('', '', '', '', '', '')\n",
      "1242 CALLA AVE IMPERIAL BEACH 91932 apartments\n",
      "('', '', '', '', '', '')\n",
      "500 E H ST CHULA VISTA 91910 apartments\n",
      "('', '', '', '', '', '')\n",
      "3859 SHERBOURNE DR OCEANSIDE 92056 apartments\n",
      "('(760) 625-0351', '', '', '3851 Sherbourne Dr', 'Oceanside', 'CA 92056')\n",
      "4371 SWIFT AVE SAN DIEGO 92104 apartments\n",
      "('', '', '', '', '', '')\n",
      "237 TAMARACK AVE CARLSBAD 92008 apartments\n",
      "('', '', '', '', '', '')\n",
      "3606 DEL SOL BLVD SAN DIEGO 92154 apartments\n",
      "('(619) 428-4721', '', '', '3690 Del Sol Blvd', 'San Diego', 'CA 92154')\n",
      "4136 LOUISIANA ST SAN DIEGO 92104 apartments\n",
      "('', '', '', '', '', '')\n",
      "2950 B ST SAN DIEGO 92102 apartments\n",
      "('', '', '', '', '', '')\n",
      "3522 MADISON AVE SAN DIEGO 92116 apartments\n",
      "('', '', '', '', '', '')\n",
      "1259 HORNBLEND ST SAN DIEGO 92109 apartments\n",
      "('', '', '', '', '', '')\n",
      "4030 45TH ST SAN DIEGO 92105 apartments\n",
      "('', '', '', '', '', '')\n",
      "2510 HOWARD AVE SAN DIEGO 92104 apartments\n",
      "('', '', '', '', '', '')\n",
      "3936 UTAH ST SAN DIEGO 92104 apartments\n",
      "('', '', '', '', '', '')\n",
      "4774 33RD ST SAN DIEGO 92116 apartments\n",
      "('', '', '', '', '', '')\n",
      "1348 IRIS AVE IMPERIAL BEACH 91932 apartments\n",
      "('', '', '', '', '', '')\n",
      "3671 OCEAN VIEW BLVD SAN DIEGO 92113 apartments\n",
      "('', '', '', '', '', '')\n",
      "2502 30TH ST SAN DIEGO 92104 apartments\n",
      "('', '', '', '', '', '')\n",
      "1051 LAW ST SAN DIEGO 92109 apartments\n",
      "('', '', '', '', '', '')\n",
      "4143 39TH ST SAN DIEGO 92105 apartments\n",
      "('', '', '', '', '', '')\n",
      "491 N 1ST ST EL CAJON 92021 apartments\n",
      "('(619) 447-7870', '', '', '1109 E Madison Ave # D', 'El Cajon', 'CA 92021')\n",
      "6935 PARADISE VALLEY RD SAN DIEGO 92139 apartments\n",
      "('(619) 470-1777', '', '', '6935 Paradise Valley Rd', 'San Diego', 'CA 92139')\n",
      "4765 TALMADGE CANYON ROW SAN DIEGO 92115 apartments\n",
      "('', '', '', '', '', '')\n",
      "4227 49TH ST SAN DIEGO 92115 apartments\n",
      "('', '', '', '', '', '')\n",
      "5439 LAKE MURRAY BLVD UNIT 6 LA MESA 91942 apartments\n",
      "('', '', '', '', '', '')\n",
      "5119 LONG BRANCH AVE SAN DIEGO 92107 apartments\n",
      "('', '', '', '', '', '')\n",
      "619 11TH ST IMPERIAL BEACH 91932 apartments\n",
      "('', '', '', '', '', '')\n",
      "964 MERRITT DR EL CAJON 92020 apartments\n",
      "('', '', '', '', '', '')\n",
      "4218 49TH ST SAN DIEGO 92115 apartments\n",
      "('', '', '', '', '', '')\n",
      "2777 NIMITZ BLVD SAN DIEGO 92106 apartments\n",
      "('', '', '', '', '', '')\n",
      "580 L ST CHULA VISTA 91911 apartments\n",
      "('', '', '', '', '', '')\n",
      "3745 7TH AVE SAN DIEGO 92103 apartments\n",
      "('', '', '', '', '', '')\n",
      "2227 L ST SAN DIEGO 92102 apartments\n",
      "('', '', '', '', '', '')\n",
      "118 14TH ST RAMONA 92065 apartments\n",
      "('(760) 259-2278', '', '', '118 14th St', 'Ramona', 'CA 92065')\n",
      "8229 ORCHARD AVE LA MESA 91942 apartments\n",
      "('', '', '', '', '', '')\n",
      "3785 HERBERT ST SAN DIEGO 92103 apartments\n",
      "('', '', '', '', '', '')\n",
      "4118 ARIZONA ST SAN DIEGO 92104 apartments\n",
      "('', '', '', '', '', '')\n",
      "2319 SMYTHE AVE SAN YSIDRO 92173 apartments\n",
      "('', '', '', '', '', '')\n",
      "2137 BRANT ST SAN DIEGO 92101 apartments\n",
      "('', '', '', '', '', '')\n",
      "12316 LAKESHORE DR LAKESIDE 92040 apartments\n",
      "('', '', '', '', '', '')\n",
      "4169 CENTRAL AVE SAN DIEGO 92105 apartments\n",
      "('', '', '', '', '', '')\n",
      "255 C AVE CORONADO 92118 apartments\n",
      "('', '', '', '', '', '')\n",
      "0 PINE ST LA MESA 91942 apartments\n",
      "('', '', '', '', '', '')\n",
      "4732 BANCROFT ST SAN DIEGO 92116 apartments\n",
      "('', '', '', '', '', '')\n",
      "6557 TAIT ST SAN DIEGO 92111 apartments\n",
      "('', '', '', '', '', '')\n",
      "345 W SAN YSIDRO BLVD SAN YSIDRO 92173 apartments\n",
      "('', '', '', '', '', '')\n",
      "1715 GRAND AVE SAN DIEGO 92109 apartments\n",
      "('', '', '', '', '', '')\n",
      "6802 BEADNELL WAY SAN DIEGO 92117 apartments\n",
      "('', '', '', '', '', '')\n",
      "240 W SAN MARCOS BLVD SAN MARCOS 92069 apartments\n",
      "('', '', '', '', '', '')\n",
      "5706 BATES ST SAN DIEGO 92115 apartments\n",
      "('', '', '', '', '', '')\n",
      "2401 SEASIDE ST SAN DIEGO 92107 apartments\n",
      "('(619) 547-0136', '', '', '2401 Seaside St', 'San Diego', 'CA 92107')\n",
      "3814 ARNOLD AVE SAN DIEGO 92104 apartments\n",
      "('', '', '', '', '', '')\n",
      "217 ORLANDO ST EL CAJON 92021 apartments\n",
      "('', '', '', '', '', '')\n",
      "9249 CARLTON OAKS DR SANTEE 92071 apartments\n",
      "('(619) 448-2041', '', '', '9249 Carlton Oaks Dr', 'Santee', 'CA 92071')\n",
      "2500 NORTHSIDE DR SAN DIEGO 92108 apartments\n",
      "('(619) 568-2791', '', '', '2500 Northside Dr', 'San Diego', 'CA 92108')\n",
      "11540 WINDCREST LN SAN DIEGO 92128 apartments\n",
      "('(858) 451-0316', '', '', '11540 Windcrest Ln', 'San Diego', 'CA 92128')\n",
      "5018 SARATOGA AVE SAN DIEGO 92107 apartments\n",
      "('', '', '', '', '', '')\n",
      "6222 MADELINE ST SAN DIEGO 92115 apartments\n",
      "('', '', '', '', '', '')\n",
      "3777 JEWELL ST SAN DIEGO 92109 apartments\n",
      "('', '', '', '', '', '')\n",
      "3903 MESA DR OCEANSIDE 92056 apartments\n",
      "('(760) 334-7883', '', '', '3901 Mesa Dr', 'Oceanside', 'CA 92056')\n",
      "3767 PERSHING AVE SAN DIEGO 92104 apartments\n",
      "('', '', '', '', '', '')\n",
      "2774 BROADWAY SAN DIEGO 92102 apartments\n",
      "('', '', '', '', '', '')\n",
      "1651 NATIONAL AVE SAN DIEGO 92113 apartments\n",
      "('', '', '', '', '', '')\n",
      "7130 WAITE DR LA MESA 91941 apartments\n",
      "('', '', '', '', '', '')\n",
      "1237 HORNBLEND ST SAN DIEGO 92109 apartments\n",
      "('', '', '', '', '', '')\n",
      "4823 68TH ST SAN DIEGO 92115 apartments\n",
      "('(833) 875-9698', '', '', '4823 68th St', 'San Diego', 'CA 92115')\n",
      "2201 E ST SAN DIEGO 92102 apartments\n",
      "('', '', '', '', '', '')\n",
      "232 S HORNE ST OCEANSIDE 92054 apartments\n",
      "('', '', '', '', '', '')\n",
      "3722 MARLBOROUGH AVE SAN DIEGO 92105 apartments\n",
      "('', '', '', '', '', '')\n",
      "4414 37TH ST SAN DIEGO 92116 apartments\n",
      "('', '', '', '', '', '')\n",
      "1021 B AVE CORONADO 92118 apartments\n",
      "('', '', '', '', '', '')\n",
      "9025 SYDNEY CT SAN DIEGO 92122 apartments\n",
      "('', '', '', '', '', '')\n",
      "353 ORANGE AVE CORONADO 92118 apartments\n",
      "('', '', '', '', '', '')\n",
      "425 DENNERY RD SAN DIEGO 92154 apartments\n",
      "('(619) 690-1194', '', '', '455 Dennery Rd', 'San Diego', 'CA 92154')\n",
      "5253 GROVELAND DR SAN DIEGO 92114 apartments\n",
      "('', '', '', '', '', '')\n",
      "4079 42ND ST SAN DIEGO 92105 apartments\n",
      "('', '', '', '', '', '')\n",
      "1024 TURQUOISE ST SAN DIEGO 92109 apartments\n",
      "('', '', '', '', '', '')\n",
      "437 PALM AVE CORONADO 92118 apartments\n",
      "('', '', '', '', '', '')\n",
      "3134 LINCOLN ST CARLSBAD 92008 apartments\n",
      "('', '', '', '', '', '')\n",
      "3187 ASHFORD ST SAN DIEGO 92111 apartments\n",
      "('', '', '', '', '', '')\n",
      "5423 LAKE MURRAY BLVD APT 6 LA MESA 91942 apartments\n",
      "('', '', '', '', '', '')\n",
      "7417 OLIVETAS AVE LA JOLLA 92037 apartments\n",
      "('', '', '', '', '', '')\n",
      "4906 LA CUENTA DR SAN DIEGO 92124 apartments\n",
      "('(858) 278-4910', '', '', '4906 La Cuenta Dr', 'San Diego', 'CA 92124')\n",
      "4180-4182 POPLAR STREET nan 92105 apartments\n",
      "('', '', '', '', '', '')\n",
      "971 POSTAL WAY VISTA 92083 apartments\n",
      "('', '', '', '', '', '')\n",
      "4769 W MOUNTAIN VIEW DR SAN DIEGO 92116 apartments\n",
      "('', '', '', '', '', '')\n",
      "317 TREMONT ST CHULA VISTA 91911 apartments\n",
      "('', '', '', '', '', '')\n",
      "812 E AVE CORONADO 92118 apartments\n",
      "('', '', '', '', '', '')\n",
      "3784 BROADWAY SAN DIEGO 92102 apartments\n",
      "('', '', '', '', '', '')\n",
      "172 C AVE CORONADO 92118 apartments\n",
      "('', '', '', '', '', '')\n",
      "2147 OCEAN VIEW BLVD SAN DIEGO 92113 apartments\n",
      "('', '', '', '', '', '')\n",
      "1803 E WASHINGTON AVE ESCONDIDO 92027 apartments\n",
      "('', '', '', '', '', '')\n",
      "4301 OCEAN BLVD SAN DIEGO 92109 apartments\n",
      "('', '', '', '', '', '')\n",
      "288 ORLANDO ST EL CAJON 92021 apartments\n",
      "('', '', '', '', '', '')\n",
      "4066 HAMILTON ST SAN DIEGO 92104 apartments\n",
      "('', '', '', '', '', '')\n",
      "2176 THOMAS AVE SAN DIEGO 92109 apartments\n",
      "('', '', '', '', '', '')\n",
      "351 W PALM AVE EL CAJON 92020 apartments\n",
      "('(619) 588-2168', '', '', '351 Palm Ave', 'El Cajon', 'CA 92020')\n",
      "1075 CHALCEDONY ST SAN DIEGO 92109 apartments\n",
      "('', '', '', '', '', '')\n",
      "2452 HILTON HEAD PL EL CAJON 92019 apartments\n",
      "('', '', '', '', '', '')\n",
      "4071 39TH ST SAN DIEGO 92105 apartments\n",
      "('(619) 546-7552', '', '', '4071 39th St', 'San Diego', 'CA 92105')\n",
      "7645 PACIFIC AVE LEMON GROVE 91945 apartments\n",
      "('', '', '', '', '', '')\n",
      "3550 BAYSIDE WALK SAN DIEGO 92109 apartments\n",
      "('', '', '', '', '', '')\n",
      "3711 WILSON AVE SAN DIEGO 92104 apartments\n",
      "('', '', '', '', '', '')\n",
      "3485 OLIVE ST LEMON GROVE 91945 apartments\n",
      "('', '', '', '', '', '')\n",
      "5160 IMPERIAL AVE SAN DIEGO 92114 apartments\n",
      "('', '', '', '', '', '')\n",
      "542 BALLANTYNE ST EL CAJON 92020 apartments\n",
      "('(619) 768-5017', '', '', '542 Ballantyne St # 23', 'El Cajon', 'CA 92020')\n",
      "670 F ST CHULA VISTA 91910 apartments\n",
      "('(619) 691-5345', '', '', '670 F St', 'Chula Vista', 'CA 91910')\n",
      "11026 W OCEAN AIR DR SAN DIEGO 92130 apartments\n",
      "('(866) 500-9674', '', '', '11058 W Ocean Air Dr', 'San Diego', 'CA 92130')\n",
      "3073 B ST SAN DIEGO 92102 apartments\n",
      "('', '', '', '', '', '')\n",
      "921 E 5TH ST NATIONAL CITY 91950 apartments\n",
      "('(619) 420-9452', '', '', '364 5th Ave', 'Chula Vista', 'CA 91910')\n",
      "4146 OREGON ST SAN DIEGO 92104 apartments\n",
      "('', '', '', '', '', '')\n",
      "3903 RIVIERA DR SAN DIEGO 92109 apartments\n",
      "('', '', '', '', '', '')\n",
      "1205 S NEVADA ST OCEANSIDE 92054 apartments\n",
      "('(760) 433-8810', '', '', '508 N Nevada St', 'Oceanside', 'CA 92054')\n",
      "3630 6TH AVE SAN DIEGO 92103 apartments\n",
      "('', '', '', '', '', '')\n",
      "4957 CAPE MAY AVE SAN DIEGO 92107 apartments\n",
      "('', '', '', '', '', '')\n",
      "4582 MARYLAND ST SAN DIEGO 92116 apartments\n",
      "('', '', '', '', '', '')\n",
      "141 DAISY AVE IMPERIAL BEACH 91932 apartments\n",
      "('', '', '', '', '', '')\n",
      "244 50TH ST SAN DIEGO 92102 apartments\n",
      "('', '', '', '', '', '')\n",
      "4484 MONTALVO ST SAN DIEGO 92107 apartments\n",
      "('', '', '', '', '', '')\n",
      "495 D ST CHULA VISTA 91910 apartments\n",
      "('', '', '', '', '', '')\n",
      "4574 NORTH AVE SAN DIEGO 92116 apartments\n",
      "('', '', '', '', '', '')\n",
      "2922 OCEAN VIEW BLVD SAN DIEGO 92113 apartments\n",
      "('', '', '', '', '', '')\n",
      "4463 MENTONE ST SAN DIEGO 92107 apartments\n",
      "('', '', '', '', '', '')\n",
      "11586 COMPASS POINT DR N SAN DIEGO 92126 apartments\n",
      "('', '', '', '', '', '')\n",
      "4354 52ND ST SAN DIEGO 92115 apartments\n",
      "('', '', '', '', '', '')\n",
      "4147 42ND ST SAN DIEGO 92105 apartments\n",
      "('', '', '', '', '', '')\n",
      "4050 32ND ST SAN DIEGO 92104 apartments\n",
      "('', '', '', '', '', '')\n",
      "3676 ALTADENA AVE SAN DIEGO 92105 apartments\n",
      "('', '', '', '', '', '')\n",
      "394 G ST CHULA VISTA 91910 apartments\n",
      "('', '', '', '', '', '')\n",
      "925 HOOVER AVE NATIONAL CITY 91950 apartments\n",
      "('', '', '', '', '', '')\n",
      "4641 NORTH AVE SAN DIEGO 92116 apartments\n",
      "('', '', '', '', '', '')\n",
      "4467 VALETA ST SAN DIEGO 92107 apartments\n",
      "('', '', '', '', '', '')\n",
      "4270 47TH ST SAN DIEGO 92115 apartments\n",
      "('', '', '', '', '', '')\n",
      "1707 LA BREA ST RAMONA 92065 apartments\n",
      "('(760) 313-3591', '', '', '1707 La Brea St', 'Ramona', 'CA 92065')\n",
      "4534 30TH ST SAN DIEGO 92116 apartments\n",
      "('', '', '', '', '', '')\n",
      "1803 LOCUST ST SAN DIEGO 92106 apartments\n",
      "('', '', '', '', '', '')\n",
      "4352 OREGON STREET #1-8 nan 92104 apartments\n",
      "('', '', '', '', '', '')\n",
      "1048 SAPPHIRE ST SAN DIEGO 92109 apartments\n",
      "('', '', '', '', '', '')\n",
      "851 4TH ST ENCINITAS 92024 apartments\n",
      "('', '', '', '', '', '')\n",
      "4088 CROWN POINT DR SAN DIEGO 92109 apartments\n",
      "('', '', '', '', '', '')\n",
      "6171 MONTEZUMA RD SAN DIEGO 92115 apartments\n",
      "('', '', '', '', '', '')\n",
      "8267 ORCHARD AVE LA MESA 91942 apartments\n",
      "('', '', '', '', '', '')\n",
      "228 PALM AVE NATIONAL CITY 91950 apartments\n",
      "('', '', '', '', '', '')\n",
      "4182 CHAMOUNE AVE SAN DIEGO 92105 apartments\n",
      "('', '', '', '', '', '')\n",
      "750 11TH ST IMPERIAL BEACH 91932 apartments\n",
      "('', '', '', '', '', '')\n",
      "111 E FELICITA AVE ESCONDIDO 92025 apartments\n",
      "('', '', '', '', '', '')\n",
      "5865 EL CAJON BLVD SAN DIEGO 92115 apartments\n",
      "('', '', '', '', '', '')\n",
      "4254 HIGHLAND AVE SAN DIEGO 92115 apartments\n",
      "('', '', '', '', '', '')\n",
      "3233 HERMAN AVE SAN DIEGO 92104 apartments\n",
      "('', '', '', '', '', '')\n",
      "2650 KREMEYER CIR CARLSBAD 92008 apartments\n",
      "('(760) 994-0240', '', '', '2600 Kremeyer Cir', 'Carlsbad', 'CA 92008')\n",
      "10411 RESERVE DR SAN DIEGO 92127 apartments\n",
      "('(833) 824-9366', '', '', '10411 Reserve Dr', 'San Diego', 'CA 92127')\n",
      "3036 C ST SAN DIEGO 92102 apartments\n",
      "('', '', '', '', '', '')\n",
      "4336 53RD ST SAN DIEGO 92115 apartments\n",
      "('', '', '', '', '', '')\n",
      "4250 JEWELL ST SAN DIEGO 92109 apartments\n",
      "('', '', '', '', '', '')\n",
      "1839 E WASHINGTON AVE ESCONDIDO 92027 apartments\n",
      "('', '', '', '', '', '')\n",
      "4336 OREGON ST SAN DIEGO 92104 apartments\n",
      "('', '', '', '', '', '')\n",
      "4421 30TH ST SAN DIEGO 92116 apartments\n",
      "('', '', '', '', '', '')\n",
      "3704 30TH ST SAN DIEGO 92104 apartments\n",
      "('', '', '', '', '', '')\n",
      "3567 FRONT ST SAN DIEGO 92103 apartments\n",
      "('', '', '', '', '', '')\n",
      "2847 MAIN ST CHULA VISTA 91911 apartments\n",
      "('', '', '', '', '', '')\n",
      "4094 GEORGIA ST SAN DIEGO 92103 apartments\n",
      "('', '', '', '', '', '')\n",
      "4566 51ST STREET nan 92115 apartments\n",
      "('', '', '', '', '', '')\n",
      "4219 GEORGIA ST SAN DIEGO 92103 apartments\n",
      "('(619) 299-1004', '', '', '4219 Georgia St', 'San Diego', 'CA 92103')\n",
      "4421 44TH ST SAN DIEGO 92115 apartments\n",
      "('', '', '', '', '', '')\n",
      "1217 SUMNER AVE EL CAJON 92021 apartments\n",
      "('', '', '', '', '', '')\n",
      "3821 KETTNER BLVD SAN DIEGO 92110 apartments\n",
      "('', '', '', '', '', '')\n",
      "1912 SUNSET DR ESCONDIDO 92025 apartments\n",
      "('', '', '', '', '', '')\n",
      "2610 C ST SAN DIEGO 92102 apartments\n",
      "('', '', '', '', '', '')\n",
      "4230 37TH ST SAN DIEGO 92105 apartments\n",
      "('', '', '', '', '', '')\n",
      "308 CASSIDY ST OCEANSIDE 92054 apartments\n",
      "('', '', '', '', '', '')\n",
      "2138 INDIA ST SAN DIEGO 92101 apartments\n",
      "('', '', '', '', '', '')\n",
      "3830 37TH ST SAN DIEGO 92105 apartments\n",
      "('', '', '', '', '', '')\n",
      "120 CAMINO CORTO VISTA 92083 apartments\n",
      "('', '', '', '', '', '')\n",
      "4369 CLEVELAND AVE SAN DIEGO 92103 apartments\n",
      "('', '', '', '', '', '')\n",
      "4209 WINONA AVE SAN DIEGO 92115 apartments\n",
      "('', '', '', '', '', '')\n",
      "102 DICKINSON ST APT D SAN DIEGO 92103 apartments\n",
      "('', '', '', '', '', '')\n",
      "2660 MISSION BLVD SAN DIEGO 92109 apartments\n",
      "('', '', '', '', '', '')\n",
      "1518 SAMS HILL RD EL CAJON 92021 apartments\n",
      "('(619) 449-5153', '', '', '1518 Sams Hill Rd', 'El Cajon', 'CA 92021')\n",
      "3412 BEYER BLVD nan 92173 apartments\n",
      "('(619) 662-0857', '', '', '34121 Beyer Blvd', 'San Ysidro', 'CA 92173')\n",
      "150 WALNUT AVE CARLSBAD 92008 apartments\n",
      "('', '', '', '', '', '')\n",
      "4539 36TH ST SAN DIEGO 92116 apartments\n",
      "('', '', '', '', '', '')\n",
      "699 EATON ST OCEANSIDE 92054 apartments\n",
      "('', '', '', '', '', '')\n",
      "234 DAHLIA AVE IMPERIAL BEACH 91932 apartments\n",
      "('', '', '', '', '', '')\n",
      "3670 ALTADENA AVE SAN DIEGO 92105 apartments\n",
      "('', '', '', '', '', '')\n",
      "2002 C ST SAN DIEGO 92102 apartments\n",
      "('', '', '', '', '', '')\n",
      "130 IVY ST SAN DIEGO 92101 apartments\n",
      "('', '', '', '', '', '')\n",
      "4275 48TH ST SAN DIEGO 92115 apartments\n",
      "('', '', '', '', '', '')\n",
      "4672 BOUNDARY ST SAN DIEGO 92116 apartments\n",
      "('', '', '', '', '', '')\n",
      "984 PEACH AVE EL CAJON 92021 apartments\n",
      "('', '', '', '', '', '')\n",
      "1042 BOSTONIA ST EL CAJON 92021 apartments\n",
      "('', '', '', '', '', '')\n",
      "5629 AMAYA DR LA MESA 91942 apartments\n",
      "('', '', '', '', '', '')\n",
      "3410 HARDING ST CARLSBAD 92008 apartments\n",
      "('', '', '', '', '', '')\n",
      "2625 KREMEYER CIR CARLSBAD 92008 apartments\n",
      "('(760) 994-0240', '', '', '2600 Kremeyer Cir', 'Carlsbad', 'CA 92008')\n",
      "4525 TWAIN AVE SAN DIEGO 92120 apartments\n",
      "('(619) 284-4457', '', '', '4525 Twain Ave', 'San Diego', 'CA 92120')\n",
      "996 N MOLLISON AVE EL CAJON 92021 apartments\n",
      "('', '', '', '', '', '')\n",
      "4350 MORAGA AVE SAN DIEGO 92117 apartments\n",
      "('(858) 581-3319', '', '', '4340 Moraga Ave', 'San Diego', 'CA 92117')\n",
      "2927 4TH AVE SAN DIEGO 92103 apartments\n",
      "('', '', '', '', '', '')\n",
      "2425 POLK AVE SAN DIEGO 92104 apartments\n",
      "('', '', '', '', '', '')\n",
      "9007 HAWLEY AVE LA MESA 91942 apartments\n",
      "('', '', '', '', '', '')\n",
      "401 BROOKS ST OCEANSIDE 92054 apartments\n",
      "('', '', '', '', '', '')\n",
      "4747 JESSIE AVE LA MESA 91942 apartments\n",
      "('', '', '', '', '', '')\n",
      "7705 LINDA VISTA RD SAN DIEGO 92111 apartments\n",
      "('', '', '', '', '', '')\n",
      "10808 SCRIPPS RANCH BLVD SAN DIEGO 92131 apartments\n",
      "('', '', '', '', '', '')\n",
      "129 D AVE CORONADO 92118 apartments\n",
      "('', '', '', '', '', '')\n",
      "1942 SAN DIEGO AVE SAN DIEGO 92110 apartments\n",
      "('', '', '', '', '', '')\n",
      "3477 ORANGE AVE SAN DIEGO 92104 apartments\n",
      "('', '', '', '', '', '')\n",
      "4209 44TH ST SAN DIEGO 92115 apartments\n",
      "('', '', '', '', '', '')\n",
      "3821 CHEROKEE AVE SAN DIEGO 92104 apartments\n",
      "('', '', '', '', '', '')\n",
      "5419 LAKE MURRAY BLVD APT 15 LA MESA 91942 apartments\n",
      "('', '', '', '', '', '')\n",
      "5421 LAKE MURRAY BLVD APT 8 LA MESA 91942 apartments\n",
      "('', '', '', '', '', '')\n",
      "4645 33RD ST SAN DIEGO 92116 apartments\n",
      "('', '', '', '', '', '')\n",
      "1178 HOLLY AVE IMPERIAL BEACH 91932 apartments\n",
      "('', '', '', '', '', '')\n",
      "1041 CHALCEDONY ST SAN DIEGO 92109 apartments\n",
      "('', '', '', '', '', '')\n",
      "1740 J AVE NATIONAL CITY 91950 apartments\n",
      "('', '', '', '', '', '')\n",
      "1778 BACON ST SAN DIEGO 92107 apartments\n",
      "('', '', '', '', '', '')\n",
      "7240 EL CAJON BLVD SAN DIEGO 92115 apartments\n",
      "('(619) 613-2752', '', '', '7240 El Cajon Blvd', 'San Diego', 'CA 92115')\n",
      "3622 KEMPER CT SAN DIEGO 92110 apartments\n",
      "('(619) 226-0511', '', '', '3622 Kemper Ct Apt. 40', 'San Diego', 'CA 92110')\n",
      "3730 BEYER BLVD SAN YSIDRO 92173 apartments\n",
      "('', '', '', '', '', '')\n",
      "3051 C ST SAN DIEGO 92102 apartments\n",
      "('', '', '', '', '', '')\n",
      "1923 WEST DR VISTA 92083 apartments\n",
      "('', '', '', '', '', '')\n",
      "1135 S SANTA FE AVE VISTA 92083 apartments\n",
      "('', '', '', '', '', '')\n",
      "218 WILLIE JAMES JONES AVE SAN DIEGO 92102 apartments\n",
      "('', '', '', '', '', '')\n",
      "311 W LOS ANGELES DR VISTA 92083 apartments\n",
      "('', '', '', '', '', '')\n",
      "307 IMPERIAL BEACH BLVD IMPERIAL BEACH 91932 apartments\n",
      "('', '', '', '', '', '')\n",
      "4525 KANSAS ST SAN DIEGO 92116 apartments\n",
      "('', '', '', '', '', '')\n",
      "3684 VAN DYKE AVE SAN DIEGO 92105 apartments\n",
      "('', '', '', '', '', '')\n",
      "4075 TEXAS ST SAN DIEGO 92104 apartments\n",
      "('', '', '', '', '', '')\n",
      "2185 CHATSWORTH BLVD SAN DIEGO 92107 apartments\n",
      "('(619) 221-8158', '', '', '2185 Chatsworth Blvd', 'San Diego', 'CA 92107')\n",
      "632 61ST ST SAN DIEGO 92114 apartments\n",
      "('', '', '', '', '', '')\n",
      "640 W LINCOLN AVE ESCONDIDO 92026 apartments\n",
      "('(760) 489-8989', '', '', '640 W Lincoln Ave', 'Escondido', 'CA 92026')\n",
      "4017 WILSON AVE SAN DIEGO 92104 apartments\n",
      "('', '', '', '', '', '')\n",
      "4444 HIGHLAND AVE SAN DIEGO 92115 apartments\n",
      "('', '', '', '', '', '')\n",
      "4941 SARATOGA AVE SAN DIEGO 92107 apartments\n",
      "('', '', '', '', '', '')\n",
      "3968 ALABAMA ST SAN DIEGO 92104 apartments\n",
      "('', '', '', '', '', '')\n",
      "1543 Q AVE NATIONAL CITY 91950 apartments\n",
      "('(619) 477-6708', '', '', '1545 Q Ave', 'National City', 'CA 91950')\n",
      "1220 CALLE JULES VISTA 92084 apartments\n",
      "('', '', '', '', '', '')\n",
      "8545 GRAHAM TER SANTEE 92071 apartments\n",
      "('', '', '', '', '', '')\n",
      "750 WOODWARD ST SAN MARCOS 92069 apartments\n",
      "('', '', '', '', '', '')\n",
      "3687 GRIM AVE SAN DIEGO 92104 apartments\n",
      "('', '', '', '', '', '')\n",
      "410 BROOKS ST OCEANSIDE 92054 apartments\n",
      "('', '', '', '', '', '')\n",
      "1371 E WASHINGTON AVE EL CAJON 92019 apartments\n",
      "('', '', '', '', '', '')\n",
      "1344 7TH AVE SAN DIEGO 92101 apartments\n",
      "('', '', '', '', '', '')\n",
      "544 WOODLAWN AVE CHULA VISTA 91910 apartments\n",
      "('', '', '', '', '', '')\n",
      "540 S BROADWAY ESCONDIDO 92025 apartments\n",
      "('', '', '', '', '', '')\n",
      "4011 INGALLS ST SAN DIEGO 92103 apartments\n",
      "('', '', '', '', '', '')\n",
      "215 E EL NORTE PKWY ESCONDIDO 92026 apartments\n",
      "('', '', '', '', '', '')\n",
      "2130 I AVE NATIONAL CITY 91950 apartments\n",
      "('', '', '', '', '', '')\n",
      "390 PALA VISTA DR VISTA 92083 apartments\n",
      "('', '', '', '', '', '')\n",
      "1904 F AVE NATIONAL CITY 91950 apartments\n",
      "('', '', '', '', '', '')\n",
      "3244 NIMITZ BLVD SAN DIEGO 92106 apartments\n",
      "('', '', '', '', '', '')\n",
      "4375 MENTONE ST SAN DIEGO 92107 apartments\n",
      "('', '', '', '', '', '')\n",
      "4336 IDAHO ST SAN DIEGO 92104 apartments\n",
      "('', '', '', '', '', '')\n",
      "5082 LOTUS ST SAN DIEGO 92107 apartments\n",
      "('', '', '', '', '', '')\n",
      "4114 48TH ST SAN DIEGO 92105 apartments\n",
      "('', '', '', '', '', '')\n",
      "753 RINCON ST VISTA 92083 apartments\n",
      "('', '', '', '', '', '')\n",
      "2656 C ST SAN DIEGO 92102 apartments\n",
      "('', '', '', '', '', '')\n",
      "1145 FRESNO ST SAN DIEGO 92110 apartments\n",
      "('', '', '', '', '', '')\n",
      "4690 WIGHTMAN ST SAN DIEGO 92105 apartments\n",
      "('', '', '', '', '', '')\n",
      "4017 ILLINOIS ST SAN DIEGO 92104 apartments\n",
      "('', '', '', '', '', '')\n",
      "121 ROSEBAY DR ENCINITAS 92024 apartments\n",
      "('', '', '', '', '', '')\n",
      "5431 LAKE MURRAY BLVD UNIT 6 LA MESA 91942 apartments\n",
      "('', '', '', '', '', '')\n",
      "3803 7TH AVE SAN DIEGO 92103 apartments\n",
      "('', '', '', '', '', '')\n",
      "4185 5TH AVE SAN DIEGO 92103 apartments\n",
      "('', '', '', '', '', '')\n",
      "4357 LOGAN AVE SAN DIEGO 92113 apartments\n",
      "('', '', '', '', '', '')\n",
      "9315 CAMPO RD SPRING VALLEY 91977 apartments\n",
      "('', '', '', '', '', '')\n",
      "2263 K ST SAN DIEGO 92102 apartments\n",
      "('', '', '', '', '', '')\n",
      "9703 WINTER GARDENS BLVD LAKESIDE 92040 apartments\n",
      "('', '', '', '', '', '')\n",
      "1534 OLIVER AVE SAN DIEGO 92109 apartments\n",
      "('', '', '', '', '', '')\n",
      "4441 51ST ST SAN DIEGO 92115 apartments\n",
      "('', '', '', '', '', '')\n",
      "4349 FLORIDA ST SAN DIEGO 92104 apartments\n",
      "('', '', '', '', '', '')\n",
      "4231 VOLTAIRE ST SAN DIEGO 92107 apartments\n",
      "('', '', '', '', '', '')\n",
      "2275 GRAND AVE SAN DIEGO 92109 apartments\n",
      "('', '', '', '', '', '')\n",
      "5030 NARRAGANSETT AVE SAN DIEGO 92107 apartments\n",
      "('', '', '', '', '', '')\n",
      "3602 PARK BLVD SAN DIEGO 92103 apartments\n",
      "('', '', '', '', '', '')\n",
      "4658 CHEROKEE AVE SAN DIEGO 92116 apartments\n",
      "('', '', '', '', '', '')\n",
      "3185 MADISON AVE SAN DIEGO 92116 apartments\n",
      "('', '', '', '', '', '')\n",
      "3746 31ST ST SAN DIEGO 92104 apartments\n",
      "('', '', '', '', '', '')\n",
      "5429 LAKE MURRAY BLVD UNIT 9 LA MESA 91942 apartments\n",
      "('', '', '', '', '', '')\n",
      "2215 ULRIC ST SAN DIEGO 92111 apartments\n",
      "('', '', '', '', '', '')\n",
      "4225 COPELAND AVE SAN DIEGO 92105 apartments\n",
      "('', '', '', '', '', '')\n",
      "6850 MISSION GORGE RD SAN DIEGO 92120 apartments\n",
      "('(619) 268-4117', '', '', '6850 Mission Gorge Rd', 'San Diego', 'CA 92120')\n",
      "2842 BROADWAY SAN DIEGO 92102 apartments\n",
      "('', '', '', '', '', '')\n",
      "4477 30TH ST SAN DIEGO 92116 apartments\n",
      "('', '', '', '', '', '')\n",
      "951 AGATE ST SAN DIEGO 92109 apartments\n",
      "('', '', '', '', '', '')\n",
      "3030 BROADWAY SAN DIEGO 92102 apartments\n",
      "('', '', '', '', '', '')\n",
      "3162 MONROE AVE SAN DIEGO 92116 apartments\n",
      "('', '', '', '', '', '')\n",
      "522 FLOWER ST CHULA VISTA 91910 apartments\n",
      "('', '', '', '', '', '')\n",
      "1887 N VULCAN AVE ENCINITAS 92024 apartments\n",
      "('', '', '', '', '', '')\n",
      "237 ELKWOOD AVE IMPERIAL BEACH 91932 apartments\n",
      "('', '', '', '', '', '')\n",
      "2973 KALMIA ST SAN DIEGO 92104 apartments\n",
      "('', '', '', '', '', '')\n",
      "2965 A ST SAN DIEGO 92102 apartments\n",
      "('', '', '', '', '', '')\n",
      "3613 S BONITA ST SPRING VALLEY 91977 apartments\n",
      "('(619) 286-7600', '', '', '3626 S Barcelona St', 'Spring Valley', 'CA 91977')\n",
      "2838 MONROE AVE SAN DIEGO 92116 apartments\n",
      "('', '', '', '', '', '')\n",
      "735 F AVE CORONADO 92118 apartments\n",
      "('', '', '', '', '', '')\n",
      "619 N CLEMENTINE ST OCEANSIDE 92054 apartments\n",
      "('', '', '', '', '', '')\n",
      "3742 CURTIS ST SAN DIEGO 92106 apartments\n",
      "('(619) 226-8158', '', '', '3760 1/2 Curtis St', 'San Diego', 'CA 92106')\n",
      "222 S HELIX AVE SOLANA BEACH 92075 apartments\n",
      "('', '', '', '', '', '')\n",
      "764 EUCALYPTUS AVE VISTA 92084 apartments\n",
      "('', '', '', '', '', '')\n",
      "393 MILLAR AVE EL CAJON 92020 apartments\n",
      "('', '', '', '', '', '')\n",
      "5431 LAKE MURRAY BLVD UNIT 2 LA MESA 91942 apartments\n",
      "('', '', '', '', '', '')\n",
      "4541 HAMILTON ST SAN DIEGO 92116 apartments\n",
      "('', '', '', '', '', '')\n",
      "3733 CURTIS ST SAN DIEGO 92106 apartments\n",
      "('', '', '', '', '', '')\n",
      "2104 30TH ST SAN DIEGO 92104 apartments\n",
      "('', '', '', '', '', '')\n",
      "4250 INGRAHAM ST SAN DIEGO 92109 apartments\n",
      "('', '', '', '', '', '')\n",
      "663 GRAND AVE SPRING VALLEY 91977 apartments\n",
      "('', '', '', '', '', '')\n",
      "1021 EMERALD ST SAN DIEGO 92109 apartments\n",
      "('', '', '', '', '', '')\n",
      "2117 GRAND AVE SAN DIEGO 92109 apartments\n",
      "('', '', '', '', '', '')\n",
      "217 S HORNE ST OCEANSIDE 92054 apartments\n",
      "('', '', '', '', '', '')\n",
      "207 PALM DR VISTA 92084 apartments\n",
      "('', '', '', '', '', '')\n",
      "4012 HAMILTON ST SAN DIEGO 92104 apartments\n",
      "('', '', '', '', '', '')\n",
      "1819 CHALCEDONY ST SAN DIEGO 92109 apartments\n",
      "('', '', '', '', '', '')\n",
      "815 N MOLLISON AVE EL CAJON 92021 apartments\n",
      "('', '', '', '', '', '')\n",
      "862 S MOLLISON AVE EL CAJON 92020 apartments\n",
      "('', '', '', '', '', '')\n",
      "1037 SEACOAST DR IMPERIAL BEACH 91932 apartments\n",
      "('', '', '', '', '', '')\n",
      "4049 30TH ST SAN DIEGO 92104 apartments\n",
      "('', '', '', '', '', '')\n",
      "5845 LAURETTA ST SAN DIEGO 92110 apartments\n",
      "('', '', '', '', '', '')\n",
      "1515 MONTECITO RD RAMONA 92065 apartments\n",
      "('(760) 788-1592', '', '', '1515 Montecito Rd', 'Ramona', 'CA 92065')\n",
      "1605 LOGAN AVE SAN DIEGO 92113 apartments\n",
      "('(619) 238-5223', '', '', '1605 Logan Ave', 'San Diego', 'CA 92113')\n",
      "8557 LEMON AVE LA MESA 91941 apartments\n",
      "('(619) 644-9486', '', '', '8557 Lemon Ave # 9', 'La Mesa', 'CA 91941')\n",
      "1026 W SPRUCE ST SAN DIEGO 92103 apartments\n",
      "('', '', '', '', '', '')\n",
      "1014 FERN AVE IMPERIAL BEACH 91932 apartments\n",
      "('', '', '', '', '', '')\n",
      "5040 DEL MONTE AVE SAN DIEGO 92107 apartments\n",
      "('', '', '', '', '', '')\n",
      "5651 MILDRED ST SAN DIEGO 92110 apartments\n",
      "('', '', '', '', '', '')\n",
      "3873 39TH ST SAN DIEGO 92105 apartments\n",
      "('', '', '', '', '', '')\n",
      "640 E 16TH ST NATIONAL CITY 91950 apartments\n",
      "('', '', '', '', '', '')\n",
      "3740 BOYD AVE SAN DIEGO 92111 apartments\n",
      "('', '', '', '', '', '')\n",
      "1770 LA PLAYA AVE SAN DIEGO 92109 apartments\n",
      "('', '', '', '', '', '')\n",
      "3609 30TH ST SAN DIEGO 92104 apartments\n",
      "('', '', '', '', '', '')\n",
      "3744 7TH AVE SAN DIEGO 92103 apartments\n",
      "('', '', '', '', '', '')\n",
      "2660 HORNBLEND ST SAN DIEGO 92109 apartments\n",
      "('(858) 272-7464', '', '', '2664 Hornblend St', 'San Diego', 'CA 92109')\n",
      "6699 BEADNELL WAY SAN DIEGO 92117 apartments\n",
      "('(858) 292-9262', '', '', '6699 Beadnell Way', 'San Diego', 'CA 92117')\n",
      "1045 MORNING VIEW DR ESCONDIDO 92026 apartments\n",
      "('(833) 321-0486', '', '', '1045 Morning View Dr', 'Escondido', 'CA 92026')\n",
      "1360 HEMLOCK AVE IMPERIAL BEACH 91932 apartments\n",
      "('', '', '', '', '', '')\n",
      "1222 ALTURAS RD FALLBROOK 92028 apartments\n",
      "('', '', '', '', '', '')\n",
      "2778 C ST SAN DIEGO 92102 apartments\n",
      "('', '', '', '', '', '')\n",
      "409 4TH ST ENCINITAS 92024 apartments\n",
      "('', '', '', '', '', '')\n",
      "1239 CENTER AVE OCEANSIDE 92054 apartments\n",
      "('', '', '', '', '', '')\n",
      "261 F ST CHULA VISTA 91910 apartments\n",
      "('', '', '', '', '', '')\n",
      "1749 N VULCAN AVE ENCINITAS 92024 apartments\n",
      "('', '', '', '', '', '')\n",
      "4438 ILLINOIS ST SAN DIEGO 92116 apartments\n",
      "('', '', '', '', '', '')\n",
      "4119 ARIZONA ST SAN DIEGO 92104 apartments\n",
      "('', '', '', '', '', '')\n",
      "2266 W DUNLOP ST SAN DIEGO 92111 apartments\n",
      "('', '', '', '', '', '')\n",
      "275 HILLCREST DR ENCINITAS 92024 apartments\n",
      "('', '', '', '', '', '')\n",
      "700 PARK PL ESCONDIDO 92025 apartments\n",
      "('', '', '', '', '', '')\n",
      "7776 UNIVERSITY AVE LA MESA 91942 apartments\n",
      "('', '', '', '', '', '')\n",
      "2585 JEFFERSON ST CARLSBAD 92008 apartments\n",
      "('(760) 729-0170', '', '', '2585 Jefferson St UNIT 1', 'Carlsbad', 'CA 92008')\n",
      "1037 3RD ST ENCINITAS 92024 apartments\n",
      "('(858) 437-7202', '', '', '810 3rd St', 'Encinitas', 'CA 92024')\n",
      "3910 LAMONT ST SAN DIEGO 92109 apartments\n",
      "('', '', '', '', '', '')\n",
      "4035 44TH ST SAN DIEGO 92105 apartments\n",
      "('', '', '', '', '', '')\n",
      "2050 2ND AVE SAN DIEGO 92101 apartments\n",
      "('', '', '', '', '', '')\n",
      "3953 CENTRE ST SAN DIEGO 92103 apartments\n",
      "('', '', '', '', '', '')\n",
      "4903 NAPLES ST SAN DIEGO 92110 apartments\n",
      "('', '', '', '', '', '')\n",
      "5439 LAKE MURRAY BLVD UNIT 4 LA MESA 91942 apartments\n",
      "('', '', '', '', '', '')\n",
      "240 CHINQUAPIN AVE CARLSBAD 92008 apartments\n",
      "('', '', '', '', '', '')\n",
      "1069 DEL MAR AVE CHULA VISTA 91911 apartments\n",
      "('', '', '', '', '', '')\n",
      "4284 WINONA AVE SAN DIEGO 92115 apartments\n",
      "('', '', '', '', '', '')\n",
      "8513 PARADISE VALLEY RD SPRING VALLEY 91977 apartments\n",
      "('(619) 393-3065', '', '', '8517 Paradise Valley Rd', 'Spring Valley', 'CA 91977')\n",
      "656 11TH ST IMPERIAL BEACH 91932 apartments\n",
      "('', '', '', '', '', '')\n",
      "12640 TORREY BLUFF DR SAN DIEGO 92130 apartments\n",
      "('', '', '', '', '', '')\n",
      "4033 PARK BLVD SAN DIEGO 92103 apartments\n",
      "('', '', '', '', '', '')\n",
      "4337 ALABAMA ST SAN DIEGO 92104 apartments\n",
      "('', '', '', '', '', '')\n",
      "333 WISCONSIN AVE EL CAJON 92020 apartments\n",
      "('', '', '', '', '', '')\n",
      "4043 1ST AVE SAN DIEGO 92103 apartments\n",
      "('', '', '', '', '', '')\n",
      "672 S LINCOLN AVE EL CAJON 92020 apartments\n",
      "('', '', '', '', '', '')\n",
      "5429 LAKE MURRAY BLVD UNIT 15 LA MESA 91942 apartments\n",
      "('', '', '', '', '', '')\n",
      "6505 PASEO FRONTERA CARLSBAD 92009 apartments\n",
      "('', '', '', '', '', '')\n",
      "7851 AVENIDA NAVIDAD SAN DIEGO 92122 apartments\n",
      "('', '', '', '', '', '')\n",
      "3312 LINCOLN AVE SAN DIEGO 92104 apartments\n",
      "('', '', '', '', '', '')\n",
      "265 H ST CHULA VISTA 91910 apartments\n",
      "('', '', '', '', '', '')\n",
      "3652 PARK BLVD SAN DIEGO 92103 apartments\n",
      "('', '', '', '', '', '')\n",
      "4060 44TH ST SAN DIEGO 92105 apartments\n",
      "('', '', '', '', '', '')\n",
      "3928 ILLINOIS ST SAN DIEGO 92104 apartments\n",
      "('', '', '', '', '', '')\n",
      "2499 TUBEROSE ST SAN DIEGO 92105 apartments\n",
      "('', '', '', '', '', '')\n",
      "3626 42ND ST SAN DIEGO 92105 apartments\n",
      "('', '', '', '', '', '')\n",
      "4150 CLEVELAND AVE SAN DIEGO 92103 apartments\n",
      "('', '', '', '', '', '')\n",
      "3693 FLORIDA ST SAN DIEGO 92104 apartments\n",
      "('', '', '', '', '', '')\n",
      "4586 HAWLEY BLVD SAN DIEGO 92116 apartments\n",
      "('', '', '', '', '', '')\n",
      "673 MAGNOLIA AVE CARLSBAD 92008 apartments\n",
      "('(760) 729-6840', '', '', '701 Magnolia Ave', 'Carlsbad', 'CA 92008')\n",
      "1462 PEACH AVE EL CAJON 92021 apartments\n",
      "('', '', '', '', '', '')\n",
      "1021 HAYES AVE SAN DIEGO 92103 apartments\n",
      "('', '', '', '', '', '')\n",
      "3811 ARNOLD AVE SAN DIEGO 92104 apartments\n",
      "('', '', '', '', '', '')\n",
      "1322 N 1ST ST EL CAJON 92021 apartments\n",
      "('', '', '', '', '', '')\n",
      "343 PRESCOTT AVE EL CAJON 92020 apartments\n",
      "('', '', '', '', '', '')\n",
      "4636 ALABAMA ST SAN DIEGO 92116 apartments\n",
      "('', '', '', '', '', '')\n",
      "4253 35TH ST SAN DIEGO 92104 apartments\n",
      "('', '', '', '', '', '')\n",
      "3749 VAN DYKE AVE SAN DIEGO 92105 apartments\n",
      "('', '', '', '', '', '')\n",
      "3041 MONROE AVE SAN DIEGO 92116 apartments\n",
      "('', '', '', '', '', '')\n",
      "4020 PEPPER DR SAN DIEGO 92105 apartments\n",
      "('', '', '', '', '', '')\n",
      "1403 GRAND AVE SAN DIEGO 92109 apartments\n",
      "('', '', '', '', '', '')\n",
      "4462 ILLINOIS ST SAN DIEGO 92116 apartments\n",
      "('', '', '', '', '', '')\n",
      "4240 46TH ST SAN DIEGO 92115 apartments\n",
      "('', '', '', '', '', '')\n",
      "512 32ND ST SAN DIEGO 92102 apartments\n",
      "('', '', '', '', '', '')\n",
      "4531 KANSAS ST SAN DIEGO 92116 apartments\n",
      "('', '', '', '', '', '')\n",
      "4876 VOLTAIRE ST SAN DIEGO 92107 apartments\n",
      "('', '', '', '', '', '')\n",
      "4272 CAMPUS AVE SAN DIEGO 92103 apartments\n",
      "('', '', '', '', '', '')\n",
      "639 STRATFORD CT DEL MAR 92014 apartments\n",
      "('', '', '', '', '', '')\n",
      "6054 KANTOR ST SAN DIEGO 92122 apartments\n",
      "('', '', '', '', '', '')\n",
      "9918 BUENA VISTA DR SPRING VALLEY 91977 apartments\n",
      "('', '', '', '', '', '')\n",
      "500 N CLEMENTINE ST OCEANSIDE 92054 apartments\n",
      "('', '', '', '', '', '')\n",
      "4627 34TH ST SAN DIEGO 92116 apartments\n",
      "('', '', '', '', '', '')\n",
      "4576 IDAHO ST SAN DIEGO 92116 apartments\n",
      "('', '', '', '', '', '')\n",
      "8276 ORCHARD AVE LA MESA 91942 apartments\n",
      "('', '', '', '', '', '')\n",
      "4665 CHEROKEE AVE SAN DIEGO 92116 apartments\n",
      "('', '', '', '', '', '')\n",
      "2401 CATALINA CIR OCEANSIDE 92056 apartments\n",
      "('(442) 245-5429', '', '', '2300 Catalina Cir', 'Oceanside', 'CA 92056')\n",
      "5609 AMAYA DR LA MESA 91942 apartments\n",
      "('', '', '', '', '', '')\n",
      "4730 W POINT LOMA BLVD SAN DIEGO 92107 apartments\n",
      "('', '', '', '', '', '')\n",
      "386 MOSS ST CHULA VISTA 91911 apartments\n",
      "('', '', '', '', '', '')\n",
      "2727 CAMULOS ST SAN DIEGO 92107 apartments\n",
      "('', '', '', '', '', '')\n",
      "4221 48TH ST SAN DIEGO 92115 apartments\n",
      "('', '', '', '', '', '')\n",
      "2801 ADRIAN ST SAN DIEGO 92110 apartments\n",
      "('', '', '', '', '', '')\n",
      "4230 46TH ST SAN DIEGO 92115 apartments\n",
      "('', '', '', '', '', '')\n",
      "9700 PARK TERRACE DR SANTEE 92071 apartments\n",
      "('', '', '', '', '', '')\n",
      "1225 GRAVES AVE EL CAJON 92021 apartments\n",
      "('(619) 639-9502', '', '', '1237 Graves Ave', 'El Cajon', 'CA 92021')\n",
      "309 N SOLANA HILLS DR SOLANA BEACH 92075 apartments\n",
      "('(858) 684-1004', '', '', '309 Solana Hills Dr', 'Solana Beach', 'CA 92075')\n",
      "4156 VAN DYKE AVE SAN DIEGO 92105 apartments\n",
      "('', '', '', '', '', '')\n",
      "5435 LAKE MURRAY BLVD UNIT 16 LA MESA 91942 apartments\n",
      "('', '', '', '', '', '')\n",
      "4311 WINONA AVE SAN DIEGO 92115 apartments\n",
      "('', '', '', '', '', '')\n",
      "452 EMERALD AVE EL CAJON 92020 apartments\n",
      "('', '', '', '', '', '')\n",
      "4261 LOWELL ST LA MESA 91941 apartments\n",
      "('', '', '', '', '', '')\n",
      "5471 BAYVIEW HEIGHTS PL SAN DIEGO 92105 apartments\n",
      "('(619) 262-0722', '', '', '5471 Bayview Heights Pl', 'San Diego', 'CA 92105')\n",
      "737 AGATE ST SAN DIEGO 92109 apartments\n",
      "('', '', '', '', '', '')\n",
      "3950 LELAND ST SAN DIEGO 92106 apartments\n",
      "('(619) 223-1390', '', '', '3950 Leland St', 'San Diego', 'CA 92106')\n",
      "2502 HORTON AVE SAN DIEGO 92101 apartments\n",
      "('', '', '', '', '', '')\n",
      "1504 ROBINSON AVE SAN DIEGO 92103 apartments\n",
      "('', '', '', '', '', '')\n",
      "4918 SANTA MONICA AVE SAN DIEGO 92107 apartments\n",
      "('', '', '', '', '', '')\n",
      "933 LESLIE RD EL CAJON 92020 apartments\n",
      "('', '', '', '', '', '')\n",
      "3849 VAN DYKE AVE SAN DIEGO 92105 apartments\n",
      "('', '', '', '', '', '')\n",
      "608 E 24TH ST NATIONAL CITY 91950 apartments\n",
      "('', '', '', '', '', '')\n",
      "4025 CHEROKEE AVE SAN DIEGO 92104 apartments\n",
      "('', '', '', '', '', '')\n",
      "570 S MOLLISON AVE EL CAJON 92020 apartments\n",
      "('(619) 579-1816', '', '', '570 S Mollison Ave', 'El Cajon', 'CA 92020')\n",
      "10002 SAN JUAN ST SPRING VALLEY 91977 apartments\n",
      "('', '', '', '', '', '')\n",
      "1527 LINWOOD ST SAN DIEGO 92103 apartments\n",
      "('(619) 391-3795', '', '', '4021 Falcon St', 'San Diego', 'CA 92103')\n",
      "6945 HOFFMAN AVE LA MESA 91941 apartments\n",
      "('', '', '', '', '', '')\n",
      "104 DICKINSON ST SAN DIEGO 92103 apartments\n",
      "('', '', '', '', '', '')\n",
      "435 BROOKS ST OCEANSIDE 92054 apartments\n",
      "('', '', '', '', '', '')\n",
      "1907 HIGHLAND AVE NATIONAL CITY 91950 apartments\n",
      "('', '', '', '', '', '')\n",
      "2828 UPSHUR ST SAN DIEGO 92106 apartments\n",
      "('', '', '', '', '', '')\n",
      "0 AUBURN DR SAN DIEGO 92105 apartments\n",
      "('', '', '', '', '', '')\n",
      "3610 LOGAN AVE SAN DIEGO 92113 apartments\n",
      "('', '', '', '', '', '')\n",
      "4330 KANSAS ST SAN DIEGO 92104 apartments\n",
      "('', '', '', '', '', '')\n",
      "4557 IOWA ST SAN DIEGO 92116 apartments\n",
      "('', '', '', '', '', '')\n",
      "2674 BOSTON AVE SAN DIEGO 92113 apartments\n",
      "('', '', '', '', '', '')\n",
      "4450 NORTH AVE SAN DIEGO 92116 apartments\n",
      "('', '', '', '', '', '')\n",
      "8085 PASADENA AVE LA MESA 91941 apartments\n",
      "('', '', '', '', '', '')\n",
      "11934 ROYAL RD LAKESIDE 92040 apartments\n",
      "('', '', '', '', '', '')\n",
      "3970 WARING RD OCEANSIDE 92056 apartments\n",
      "('(760) 758-2792', '', '', '3964 Waring Rd', 'Oceanside', 'CA 92056')\n",
      "8855 MIRA MESA BLVD SAN DIEGO 92126 apartments\n",
      "('', '', '', '', '', '')\n",
      "3200 PASEO VILLAGE WAY SAN DIEGO 92130 apartments\n",
      "('(833) 253-8716', '', '', '3200 Paseo Vlg Wy', 'San Diego', 'CA 92130')\n",
      "4304 W POINT LOMA BLVD SAN DIEGO 92107 apartments\n",
      "('', '', '', '', '', '')\n",
      "3404 HELIX ST SPRING VALLEY 91977 apartments\n",
      "('', '', '', '', '', '')\n",
      "5163 LONG BRANCH AVE SAN DIEGO 92107 apartments\n",
      "('', '', '', '', '', '')\n",
      "2208 MEADE AVE SAN DIEGO 92116 apartments\n",
      "('', '', '', '', '', '')\n",
      "4695 TORREY CIR SAN DIEGO 92130 apartments\n",
      "('(866) 849-8075', '', '', '4695 Torrey Cir', 'San Diego', 'CA 92130')\n",
      "1629 PALM AVE NATIONAL CITY 91950 apartments\n",
      "('', '', '', '', '', '')\n",
      "4658 HAMILTON ST SAN DIEGO 92116 apartments\n",
      "('', '', '', '', '', '')\n",
      "4118 JEWELL ST SAN DIEGO 92109 apartments\n",
      "('', '', '', '', '', '')\n",
      "3710 ALABAMA ST SAN DIEGO 92104 apartments\n",
      "('(619) 299-1699', '', '', '3722 Alabama St #102', 'San Diego', 'CA 92104')\n",
      "1440 MORENA BLVD SAN DIEGO 92110 apartments\n",
      "('', '', '', '', '', '')\n",
      "4502 KENSINGTON DR SAN DIEGO 92116 apartments\n",
      "('', '', '', '', '', '')\n",
      "2511 NORTHSIDE DR SAN DIEGO 92108 apartments\n",
      "('', '', '', '', '', '')\n",
      "850 MISSOURI ST SAN DIEGO 92109 apartments\n",
      "('', '', '', '', '', '')\n",
      "4349 TEXAS ST SAN DIEGO 92104 apartments\n",
      "('', '', '', '', '', '')\n",
      "3837 KENDALL ST SAN DIEGO 92109 apartments\n",
      "('', '', '', '', '', '')\n",
      "435 CHURCH AVE CHULA VISTA 91910 apartments\n",
      "('(619) 427-1411', '', '', '435 Church Ave', 'Chula Vista', 'CA 91910')\n",
      "585 OXFORD ST CHULA VISTA 91911 apartments\n",
      "('', '', '', '', '', '')\n",
      "8155 CARGILL AVE SAN DIEGO 92122 apartments\n",
      "('(833) 704-0479', '', '', '8155 Cargill Ave', 'San Diego', 'CA 92122')\n",
      "8506 VILLA LA JOLLA DR LA JOLLA 92037 apartments\n",
      "('(866) 483-0901', '', '', '8506 Villa La Jolla Dr', 'La Jolla', 'CA 92037')\n",
      "1112 SEACOAST DR IMPERIAL BEACH 91932 apartments\n",
      "('', '', '', '', '', '')\n",
      "501 W BOBIER DR VISTA 92083 apartments\n",
      "('(760) 974-4494', '', '', '501 W Bobier Dr', 'Vista', 'CA 92083')\n",
      "3103 E 18TH ST NATIONAL CITY 91950 apartments\n",
      "('', '', '', '', '', '')\n",
      "4222 CHEROKEE AVE SAN DIEGO 92104 apartments\n",
      "('', '', '', '', '', '')\n",
      "3813 47TH ST SAN DIEGO 92105 apartments\n",
      "('', '', '', '', '', '')\n",
      "3742 LOUISIANA ST SAN DIEGO 92104 apartments\n",
      "('', '', '', '', '', '')\n",
      "3662 VAN DYKE AVE SAN DIEGO 92105 apartments\n",
      "('', '', '', '', '', '')\n",
      "221 SMILAX RD VISTA 92083 apartments\n",
      "('(760) 621-8924', '', '', '221 Smilax Rd', 'Vista', 'CA 92083')\n",
      "234 DAISY AVE IMPERIAL BEACH 91932 apartments\n",
      "('', '', '', '', '', '')\n",
      "4461 UTAH ST SAN DIEGO 92116 apartments\n",
      "('', '', '', '', '', '')\n",
      "3162 CARLSBAD BLVD CARLSBAD 92008 apartments\n",
      "('', '', '', '', '', '')\n",
      "226 PALOMAR ST CHULA VISTA 91911 apartments\n",
      "('', '', '', '', '', '')\n",
      "1929 MORENA BLVD SAN DIEGO 92110 apartments\n",
      "('', '', '', '', '', '')\n",
      "1102 E 3RD ST NATIONAL CITY 91950 apartments\n",
      "('', '', '', '', '', '')\n",
      "840 AGATE ST SAN DIEGO 92109 apartments\n",
      "('', '', '', '', '', '')\n",
      "4025 HIGHLAND AVE SAN DIEGO 92105 apartments\n",
      "('', '', '', '', '', '')\n",
      "3969 TEXAS ST SAN DIEGO 92104 apartments\n",
      "('', '', '', '', '', '')\n",
      "4038 CHEROKEE AVE SAN DIEGO 92104 apartments\n",
      "('', '', '', '', '', '')\n",
      "2205 L ST SAN DIEGO 92102 apartments\n",
      "('', '', '', '', '', '')\n",
      "5344 REX AVE SAN DIEGO 92105 apartments\n",
      "('', '', '', '', '', '')\n",
      "4586 35TH ST SAN DIEGO 92116 apartments\n",
      "('', '', '', '', '', '')\n",
      "910 DEL DIOS RD ESCONDIDO 92029 apartments\n",
      "('(442) 777-6410', '', '', '910 Del Dios Rd', 'Escondido', 'CA 92029')\n",
      "550 OXFORD ST CHULA VISTA 91911 apartments\n",
      "('', '', '', '', '', '')\n",
      "608 WIL EV DR SAN MARCOS 92069 apartments\n",
      "('(760) 539-7201', '', '', '1607 Grandon Ave', 'San Marcos', 'CA 92078')\n",
      "3617 HIGHLAND AVE SAN DIEGO 92105 apartments\n",
      "('', '', '', '', '', '')\n",
      "542 D ST CHULA VISTA 91910 apartments\n",
      "('', '', '', '', '', '')\n",
      "9258 BIRCH ST SPRING VALLEY 91977 apartments\n",
      "('', '', '', '', '', '')\n",
      "2549 E VALLEY PKWY ESCONDIDO 92027 apartments\n",
      "('(760) 747-3141', '', '', '2549 E Valley Pkwy', 'Escondido', 'CA 92027')\n",
      "475 S MEADOWBROOK DR SAN DIEGO 92114 apartments\n",
      "('', '', '', '', '', '')\n",
      "1020 REDWOOD AVE EL CAJON 92020 apartments\n",
      "('', '', '', '', '', '')\n",
      "10320 MAYA LINDA RD SAN DIEGO 92126 apartments\n",
      "('', '', '', '', '', '')\n",
      "10151 CAMINO RUIZ SAN DIEGO 92126 apartments\n",
      "('(858) 205-6293', '', '', '10201 Camino Ruiz Ste 182-183', 'San Diego', 'CA 92126')\n",
      "9054 GRAMERCY DR SAN DIEGO 92123 apartments\n",
      "('(858) 565-9081', '', '', '9072 Gramercy Dr', 'San Diego', 'CA 92123')\n",
      "601 TELEGRAPH CANYON RD CHULA VISTA 91910 apartments\n",
      "('(844) 379-7204', '', '', '601 Telegraph Canyon Rd', 'Chula Vista', 'CA 91910')\n",
      "10615 CALLE MAR DE MARIPOSA SAN DIEGO 92130 apartments\n",
      "('(858) 793-1706', '', '', '10615 Calle Mar De Mariposa', 'San Diego', 'CA 92130')\n",
      "12002 WINTERCREST DR LAKESIDE 92040 apartments\n",
      "('(619) 443-6702', '', '', '12002 Wintercrest Dr', 'Lakeside', 'CA 92040')\n",
      "4135 UTAH ST SAN DIEGO 92104 apartments\n",
      "('', '', '', '', '', '')\n",
      "322 HILLSIDE TER VISTA 92084 apartments\n",
      "('(442) 248-8325', '', '', '322 Hillside Terrace', 'Vista', 'CA 92084')\n",
      "321 WAVERLY PL ESCONDIDO 92025 apartments\n",
      "('', '', '', '', '', '')\n",
      "5433 LAKE MURRAY BLVD UNIT 9 LA MESA 91942 apartments\n",
      "('', '', '', '', '', '')\n",
      "5450 UNIVERSITY AVE SAN DIEGO 92105 apartments\n",
      "('', '', '', '', '', '')\n",
      "2062 OLIVER AVE SAN DIEGO 92109 apartments\n",
      "('', '', '', '', '', '')\n",
      "250 KNOLL RD SAN MARCOS 92069 apartments\n",
      "('(760) 591-0724', '', '', '250 Knoll Rd', 'San Marcos', 'CA 92069')\n",
      "4414 MISSISSIPPI ST SAN DIEGO 92116 apartments\n",
      "('', '', '', '', '', '')\n",
      "5026 CAPE MAY AVE SAN DIEGO 92107 apartments\n",
      "('', '', '', '', '', '')\n",
      "4721 LAMONT ST SAN DIEGO 92109 apartments\n",
      "('', '', '', '', '', '')\n",
      "2550 GARNET AVE SAN DIEGO 92109 apartments\n",
      "('', '', '', '', '', '')\n",
      "4758 32ND ST SAN DIEGO 92116 apartments\n",
      "('', '', '', '', '', '')\n",
      "5437 LAKE MURRAY BLVD UNIT 16 LA MESA 91942 apartments\n",
      "('', '', '', '', '', '')\n",
      "971 AGATE ST SAN DIEGO 92109 apartments\n",
      "('', '', '', '', '', '')\n",
      "3101 COWLEY WAY SAN DIEGO 92117 apartments\n",
      "('', '', '', '', '', '')\n",
      "4070 HUERFANO AVE SAN DIEGO 92117 apartments\n",
      "('(858) 273-3401', '', '', '4070 Huerfano Ave', 'San Diego', 'CA 92117')\n",
      "3975 OLD TOWN AVE SAN DIEGO 92110 apartments\n",
      "('', '', '', '', '', '')\n",
      "1418 ROSECRANS ST SAN DIEGO 92106 apartments\n",
      "('(619) 223-3814', '', '', '1432 Rosecrans St', 'San Diego', 'CA 92106')\n",
      "1300 SANTA YNEZ AVE CHULA VISTA 91913 apartments\n",
      "('', '', '', '', '', '')\n",
      "5050 LOTUS ST SAN DIEGO 92107 apartments\n",
      "('(619) 224-0759', '', '', '5030 Lotus St # 37', 'San Diego', 'CA 92107')\n",
      "113 E 6TH ST NATIONAL CITY 91950 apartments\n",
      "('', '', '', '', '', '')\n",
      "4639 IOWA ST SAN DIEGO 92116 apartments\n",
      "('', '', '', '', '', '')\n",
      "4362 MONTALVO ST SAN DIEGO 92107 apartments\n",
      "('', '', '', '', '', '')\n",
      "762 SCRANTON ST EL CAJON 92020 apartments\n",
      "('', '', '', '', '', '')\n",
      "2055 DIAMOND ST SAN DIEGO 92109 apartments\n",
      "('', '', '', '', '', '')\n",
      "10303 CAMINITO ALVAREZ SAN DIEGO 92126 apartments\n",
      "('', '', '', '', '', '')\n",
      "1661 THOMAS AVE SAN DIEGO 92109 apartments\n",
      "('', '', '', '', '', '')\n",
      "3220 HIGHLAND AVE SAN DIEGO 92105 apartments\n",
      "('', '', '', '', '', '')\n",
      "4366 WINONA AVE SAN DIEGO 92115 apartments\n",
      "('', '', '', '', '', '')\n",
      "871 STEVENS AVE SOLANA BEACH 92075 apartments\n",
      "('', '', '', '', '', '')\n",
      "1203 S EL CAMINO REAL OCEANSIDE 92054 apartments\n",
      "('', '', '', '', '', '')\n",
      "253 H ST CHULA VISTA 91910 apartments\n",
      "('', '', '', '', '', '')\n",
      "1754 CURRY DR CHULA VISTA 91915 apartments\n",
      "('', '', '', '', '', '')\n",
      "285 BEECH AVE CHULA VISTA 91910 apartments\n",
      "('', '', '', '', '', '')\n",
      "1215 PALOMAR PL VISTA 92084 apartments\n",
      "('', '', '', '', '', '')\n",
      "936 W LEWIS ST SAN DIEGO 92103 apartments\n",
      "('', '', '', '', '', '')\n",
      "3619 ALTADENA AVE SAN DIEGO 92105 apartments\n",
      "('', '', '', '', '', '')\n",
      "469 N 1ST ST EL CAJON 92021 apartments\n",
      "('', '', '', '', '', '')\n",
      "786 S ORANGE AVE EL CAJON 92020 apartments\n",
      "('', '', '', '', '', '')\n",
      "420 SMILAX RD SAN MARCOS 92078 apartments\n",
      "('(760) 727-3605', '', '', '420 Smilax Rd', 'San Marcos', 'CA 92078')\n",
      "909 28TH ST SAN DIEGO 92102 apartments\n",
      "('', '', '', '', '', '')\n",
      "4454 44TH ST SAN DIEGO 92115 apartments\n",
      "('(619) 282-1191', '', '', '4454 44th St', 'San Diego', 'CA 92115')\n",
      "4248 PALM AVE SAN DIEGO 92154 apartments\n",
      "('', '', '', '', '', '')\n",
      "5545 KIOWA DR LA MESA 91942 apartments\n",
      "('', '', '', '', '', '')\n",
      "1913 WEST DR VISTA 92083 apartments\n",
      "('(760) 639-4539', '', '', '1913 West Dr', 'Vista', 'CA 92083')\n",
      "1861 REED AVE SAN DIEGO 92109 apartments\n",
      "('', '', '', '', '', '')\n",
      "1920 FELSPAR ST SAN DIEGO 92109 apartments\n",
      "('', '', '', '', '', '')\n",
      "4955 ARIVA WAY SAN DIEGO 92123 apartments\n",
      "('(858) 496-0400', '', '', '4955 Ariva Way', 'San Diego', 'CA 92123')\n",
      "1100 N CUYAMACA ST EL CAJON 92020 apartments\n",
      "('(619) 448-4880', '', '', '1100 Cuyamaca St', 'El Cajon', 'CA 92020')\n",
      "2675 FLETCHER PKWY EL CAJON 92020 apartments\n",
      "('(619) 469-2344', '', '', '2675 Fletcher Pkwy', 'El Cajon', 'CA 92020')\n",
      "307 ORANGE AVE CHULA VISTA 91911 apartments\n",
      "('(619) 691-5974', '', '', '307 Orange Ave', 'Chula Vista', 'CA 91911')\n",
      "800 E BOBIER DR VISTA 92084 apartments\n",
      "('(760) 726-2532', '', '', '800 E Bobier Dr', 'Vista', 'CA 92084')\n",
      "2383 CARDINAL DR SAN DIEGO 92123 apartments\n",
      "('(858) 565-0311', '', '', '2420 Cardinal Dr', 'San Diego', 'CA 92123')\n",
      "1629 S MYERS ST OCEANSIDE 92054 apartments\n",
      "('', '', '', '', '', '')\n",
      "1950 ARNOLD WAY ALPINE 91901 apartments\n",
      "('', '', '', '', '', '')\n",
      "138 NORTON AVE NATIONAL CITY 91950 apartments\n",
      "('', '', '', '', '', '')\n",
      "391-417 SYCAMORE ROAD nan 92173 apartments\n",
      "('', '', '', '', '', '')\n",
      "215 PALM DR VISTA 92084 apartments\n",
      "('', '', '', '', '', '')\n",
      "4833 KANSAS ST SAN DIEGO 92116 apartments\n",
      "('(619) 909-6743', '', '', '4833 Kansas St', 'San Diego', 'CA 92116')\n",
      "5805 LAURETTA ST SAN DIEGO 92110 apartments\n",
      "('', '', '', '', '', '')\n",
      "4046 MISSISSIPPI ST SAN DIEGO 92104 apartments\n",
      "('', '', '', '', '', '')\n",
      "0 BELDEN ST SAN DIEGO 92111 apartments\n",
      "('(844) 239-8660', '', '', '7705 Belden St', 'San Diego', 'CA 92111')\n",
      "1440 Q AVE NATIONAL CITY 91950 apartments\n",
      "('(619) 477-6708', '', '', '1545 Q Ave', 'National City', 'CA 91950')\n",
      "123 N PASADENA AVE FALLBROOK 92028 apartments\n",
      "('', '', '', '', '', '')\n",
      "4052 OREGON ST SAN DIEGO 92104 apartments\n",
      "('', '', '', '', '', '')\n",
      "3102 COWLEY WAY SAN DIEGO 92117 apartments\n",
      "('', '', '', '', '', '')\n",
      "4361 OHIO ST SAN DIEGO 92104 apartments\n",
      "('', '', '', '', '', '')\n",
      "2215 SMYTHE AVE SAN YSIDRO 92173 apartments\n",
      "('', '', '', '', '', '')\n",
      "1873 NATIONAL AVE SAN DIEGO 92113 apartments\n",
      "('', '', '', '', '', '')\n",
      "4220 ARIZONA ST SAN DIEGO 92104 apartments\n",
      "('', '', '', '', '', '')\n",
      "4827 NIAGARA AVE SAN DIEGO 92107 apartments\n",
      "('(619) 221-8158', '', '', '4827 Niagara Ave', 'San Diego', 'CA 92107')\n",
      "1043 SAPPHIRE ST SAN DIEGO 92109 apartments\n",
      "('', '', '', '', '', '')\n",
      "2145 SPRAY ST SAN DIEGO 92107 apartments\n",
      "('', '', '', '', '', '')\n",
      "402 N CLEMENTINE ST OCEANSIDE 92054 apartments\n",
      "('', '', '', '', '', '')\n",
      "3913 INGRAHAM ST SAN DIEGO 92109 apartments\n",
      "('', '', '', '', '', '')\n",
      "3840 PENDIENTE CT SAN DIEGO 92124 apartments\n",
      "('', '', '', '', '', '')\n",
      "301 ROSECRANS ST SAN DIEGO 92106 apartments\n",
      "('', '', '', '', '', '')\n",
      "224 S DITMAR ST OCEANSIDE 92054 apartments\n",
      "('', '', '', '', '', '')\n",
      "2636 GRAND AVE SAN DIEGO 92109 apartments\n",
      "('(858) 272-7464', '', '', '2636 Grand Ave', 'San Diego', 'CA 92109')\n",
      "2525 HIGHLAND AVE NATIONAL CITY 91950 apartments\n",
      "('(833) 478-0217', '', '', '2525 Highland Ave', 'National City', 'CA 91950')\n",
      "12356 PARKSIDE ST LAKESIDE 92040 apartments\n",
      "('', '', '', '', '', '')\n",
      "844 G AVE CORONADO 92118 apartments\n",
      "('', '', '', '', '', '')\n",
      "131 E 18TH ST NATIONAL CITY 91950 apartments\n",
      "('', '', '', '', '', '')\n",
      "11803 BERNARDO TER SAN DIEGO 92128 apartments\n",
      "('', '', '', '', '', '')\n",
      "4214 34TH ST SAN DIEGO 92104 apartments\n",
      "('', '', '', '', '', '')\n",
      "800 EMORY ST IMPERIAL BEACH 91932 apartments\n",
      "('', '', '', '', '', '')\n",
      "2202 EUCLID AVE NATIONAL CITY 91950 apartments\n",
      "('', '', '', '', '', '')\n",
      "4881 ROLANDO CT SAN DIEGO 92115 apartments\n",
      "('(858) 410-0041', '', '', '4881 Rolando Ct', 'San Diego', 'CA 92115')\n",
      "9812 REAGAN RD SAN DIEGO 92126 apartments\n",
      "('(858) 695-1464', '', '', '9830 Reagan Rd', 'San Diego', 'CA 92126')\n",
      "115 S HORNE ST OCEANSIDE 92054 apartments\n",
      "('', '', '', '', '', '')\n",
      "1691 ORO VISTA RD SAN DIEGO 92154 apartments\n",
      "('', '', '', '', '', '')\n",
      "5160 BAYARD ST SAN DIEGO 92109 apartments\n",
      "('', '', '', '', '', '')\n",
      "1689 BROADWAY CHULA VISTA 91911 apartments\n",
      "('(619) 429-9612', '', '', '1689 Broadway # 107', 'Chula Vista', 'CA 91911')\n",
      "1714 MEADE AVE SAN DIEGO 92116 apartments\n",
      "('', '', '', '', '', '')\n",
      "4575 IDAHO ST SAN DIEGO 92116 apartments\n",
      "('', '', '', '', '', '')\n",
      "4262 SWIFT AVE SAN DIEGO 92104 apartments\n",
      "('', '', '', '', '', '')\n",
      "4051 COLLEGE AVE SAN DIEGO 92115 apartments\n",
      "('', '', '', '', '', '')\n",
      "2782 ISLAND AVE SAN DIEGO 92102 apartments\n",
      "('', '', '', '', '', '')\n",
      "1514 MYRTLE AVE SAN DIEGO 92103 apartments\n",
      "('', '', '', '', '', '')\n",
      "4561 UTAH ST SAN DIEGO 92116 apartments\n",
      "('', '', '', '', '', '')\n",
      "4341 BANNING ST SAN DIEGO 92107 apartments\n",
      "('', '', '', '', '', '')\n",
      "4069 MARLBOROUGH AVE SAN DIEGO 92105 apartments\n",
      "('', '', '', '', '', '')\n",
      "1304 FELSPAR ST SAN DIEGO 92109 apartments\n",
      "('', '', '', '', '', '')\n",
      "3710 BOYD AVE SAN DIEGO 92111 apartments\n",
      "('', '', '', '', '', '')\n",
      "5828 GULLSTRAND ST SAN DIEGO 92122 apartments\n",
      "('', '', '', '', '', '')\n",
      "440 S 49TH ST SAN DIEGO 92113 apartments\n",
      "('', '', '', '', '', '')\n",
      "150 GOSNELL WAY SAN MARCOS 92069 apartments\n",
      "('', '', '', '', '', '')\n",
      "6161 FAIRMOUNT AVE SAN DIEGO 92120 apartments\n",
      "('(888) 228-3821', '', '', '6161 Fairmount Ave', 'San Diego', 'CA 92120')\n",
      "9734 PARK TERRACE DR SANTEE 92071 apartments\n",
      "('', '', '', '', '', '')\n",
      "4211 CENTRAL AVE SAN DIEGO 92105 apartments\n",
      "('', '', '', '', '', '')\n",
      "4139 46TH ST SAN DIEGO 92105 apartments\n",
      "('', '', '', '', '', '')\n",
      "4861 ROBERTSON RD CARLSBAD 92010 apartments\n",
      "('', '', '', '', '', '')\n",
      "2103 WORDEN ST SAN DIEGO 92107 apartments\n",
      "('', '', '', '', '', '')\n",
      "4517 30TH ST SAN DIEGO 92116 apartments\n",
      "('', '', '', '', '', '')\n",
      "4759 WILSON AVE SAN DIEGO 92116 apartments\n",
      "('', '', '', '', '', '')\n",
      "355 EMERALD AVE EL CAJON 92020 apartments\n",
      "('', '', '', '', '', '')\n",
      "4356 WILSON AVE SAN DIEGO 92104 apartments\n",
      "('', '', '', '', '', '')\n",
      "1301 MORNING VIEW DR ESCONDIDO 92026 apartments\n",
      "('(760) 735-5140', '', '', '1301 Morning View Dr', 'Escondido', 'CA 92026')\n",
      "9648 MARILLA DR LAKESIDE 92040 apartments\n",
      "('', '', '', '', '', '')\n",
      "1330 BUENA ST OCEANSIDE 92058 apartments\n",
      "('', '', '', '', '', '')\n",
      "3836 45TH ST SAN DIEGO 92105 apartments\n",
      "('', '', '', '', '', '')\n",
      "231 CHURCH AVE CHULA VISTA 91910 apartments\n",
      "('', '', '', '', '', '')\n",
      "1239 25TH ST SAN DIEGO 92102 apartments\n",
      "('', '', '', '', '', '')\n",
      "151 BALLANTYNE ST EL CAJON 92020 apartments\n",
      "('(619) 247-9823', '', '', '151 Ballantyne St', 'El Cajon', 'CA 92020')\n",
      "4373 LOUISIANA ST SAN DIEGO 92104 apartments\n",
      "('', '', '', '', '', '')\n",
      "3967 8TH AVE SAN DIEGO 92103 apartments\n",
      "('', '', '', '', '', '')\n",
      "7919 HUMMINGBIRD LN SAN DIEGO 92123 apartments\n",
      "('', '', '', '', '', '')\n",
      "1133 GRAND AVE SAN DIEGO 92109 apartments\n",
      "('', '', '', '', '', '')\n",
      "4263 FELTON ST SAN DIEGO 92104 apartments\n",
      "('', '', '', '', '', '')\n",
      "352 CASPIAN WAY IMPERIAL BEACH 91932 apartments\n",
      "('', '', '', '', '', '')\n",
      "4002 NORMAL ST SAN DIEGO 92103 apartments\n",
      "('', '', '', '', '', '')\n",
      "1611 E 7TH ST NATIONAL CITY 91950 apartments\n",
      "('', '', '', '', '', '')\n",
      "3710 GRIM AVE SAN DIEGO 92104 apartments\n",
      "('', '', '', '', '', '')\n",
      "508 E MISSION AVE ESCONDIDO 92025 apartments\n",
      "('(760) 745-9314', '', '', '508 E Mission Ave', 'Escondido', 'CA 92025')\n",
      "4338 LOUISIANA ST SAN DIEGO 92104 apartments\n",
      "('', '', '', '', '', '')\n",
      "4476 BOND ST SAN DIEGO 92109 apartments\n",
      "('', '', '', '', '', '')\n",
      "661 D ST CHULA VISTA 91910 apartments\n",
      "('', '', '', '', '', '')\n",
      "1902 CYPRESS AVE SAN DIEGO 92104 apartments\n",
      "('', '', '', '', '', '')\n",
      "4353 DAWSON AVE SAN DIEGO 92115 apartments\n",
      "('', '', '', '', '', '')\n",
      "624 DE LUZ RD FALLBROOK 92028 apartments\n",
      "('(760) 723-8931', '', '', '624 De Luz Rd', 'Fallbrook', 'CA 92028')\n",
      "1468 MISSOURI ST SAN DIEGO 92109 apartments\n",
      "('', '', '', '', '', '')\n",
      "3570 CARLSBAD BLVD CARLSBAD 92008 apartments\n",
      "('', '', '', '', '', '')\n",
      "1230 DIVISION ST OCEANSIDE 92054 apartments\n",
      "('', '', '', '', '', '')\n",
      "4456 CHEROKEE AVE SAN DIEGO 92116 apartments\n",
      "('', '', '', '', '', '')\n",
      "1440 OAK DR VISTA 92084 apartments\n",
      "('(760) 726-9001', '', '', '1440 Oak Dr', 'Vista', 'CA 92084')\n",
      "6560 MONTEZUMA RD SAN DIEGO 92115 apartments\n",
      "('(619) 265-8101', '', '', '6560 Montezuma Rd', 'San Diego', 'CA 92115')\n",
      "206 ROANOKE RD EL CAJON 92020 apartments\n",
      "('', '', '', '', '', '')\n",
      "810 SCRANTON ST EL CAJON 92020 apartments\n",
      "('', '', '', '', '', '')\n",
      "101 W FIR ST SAN DIEGO 92101 apartments\n",
      "('', '', '', '', '', '')\n",
      "7701 NORTH AVE LEMON GROVE 91945 apartments\n",
      "('', '', '', '', '', '')\n",
      "2782 BROADWAY SAN DIEGO 92102 apartments\n",
      "('', '', '', '', '', '')\n",
      "3774 BEYER BLVD SAN YSIDRO 92173 apartments\n",
      "('(619) 662-0359', '', '', '1916 Grapefruit Ct #174', 'San Ysidro', 'CA 92173')\n",
      "1471 N VULCAN AVE ENCINITAS 92024 apartments\n",
      "('', '', '', '', '', '')\n",
      "3401 CALLE CANCUNA CARLSBAD 92009 apartments\n",
      "('', '', '', '', '', '')\n",
      "338 GRAVILLA ST LA JOLLA 92037 apartments\n",
      "('', '', '', '', '', '')\n",
      "2965 CLAIREMONT DR SAN DIEGO 92117 apartments\n",
      "('', '', '', '', '', '')\n",
      "2120 1ST AVE SAN DIEGO 92101 apartments\n",
      "('', '', '', '', '', '')\n",
      "327 W 15TH AVE ESCONDIDO 92025 apartments\n",
      "('', '', '', '', '', '')\n",
      "4909 GUAVA AVE LA MESA 91942 apartments\n",
      "('', '', '', '', '', '')\n",
      "8370 CAPRICORN WAY SAN DIEGO 92126 apartments\n",
      "('(866) 549-5744', '', '', '8370-8392 Capricorn Way', 'San Diego', 'CA 92126')\n",
      "1302 MORNING VIEW DR ESCONDIDO 92026 apartments\n",
      "('', '', '', '', '', '')\n",
      "9646 CARROLL CANYON RD SAN DIEGO 92126 apartments\n",
      "('(858) 566-5350', '', '', '9646 Carroll Canyon Rd UNIT C1', 'San Diego', 'CA 92126')\n",
      "501 GREENFIELD DR EL CAJON 92021 apartments\n",
      "('(619) 441-9726', '', '', '501 Greenfield Dr', 'El Cajon', 'CA 92021')\n",
      "2330 GROVE AVE SAN DIEGO 92154 apartments\n",
      "('(619) 423-1841', '', '', '2330 Grove Ave', 'San Diego', 'CA 92154')\n",
      "500 FORREST BLF ENCINITAS 92024 apartments\n",
      "('(760) 944-4284', '', '', '500 Via Cantebria # 201', 'Encinitas', 'CA 92024')\n",
      "841 16TH ST SAN DIEGO 92101 apartments\n",
      "('', '', '', '', '', '')\n",
      "1180 FELSPAR ST SAN DIEGO 92109 apartments\n",
      "('', '', '', '', '', '')\n",
      "180 CANYON DR OCEANSIDE 92054 apartments\n",
      "('(760) 757-4405', '', '', '180 Canyon Dr', 'Oceanside', 'CA 92054')\n",
      "4227 52ND ST SAN DIEGO 92115 apartments\n",
      "('(619) 582-2605', '', '', '4227 52nd St', 'San Diego', 'CA 92115')\n",
      "7509 HERSCHEL AVE LA JOLLA 92037 apartments\n",
      "('', '', '', '', '', '')\n",
      "15500 AVENIDA ALCACHOFA SAN DIEGO 92128 apartments\n",
      "('(858) 451-2800', '', '', '15639 Avenida Alcachofa', 'San Diego', 'CA 92128')\n",
      "2523 C ST SAN DIEGO 92102 apartments\n",
      "('', '', '', '', '', '')\n",
      "4833 DEL MONTE AVE SAN DIEGO 92107 apartments\n",
      "('', '', '', '', '', '')\n",
      "3844 WILSON AVE SAN DIEGO 92104 apartments\n",
      "('', '', '', '', '', '')\n",
      "3802 3RD AVE SAN DIEGO 92103 apartments\n",
      "('', '', '', '', '', '')\n",
      "123 JUPITER ST ENCINITAS 92024 apartments\n",
      "('', '', '', '', '', '')\n",
      "1101 E AVE NATIONAL CITY 91950 apartments\n",
      "('', '', '', '', '', '')\n",
      "3805 BOUNDARY ST SAN DIEGO 92104 apartments\n",
      "('', '', '', '', '', '')\n",
      "581 BLACKSHAW LN SAN YSIDRO 92173 apartments\n",
      "('', '', '', '', '', '')\n",
      "4112 C ST SAN DIEGO 92102 apartments\n",
      "('', '', '', '', '', '')\n",
      "4264 ESTRELLA AVE SAN DIEGO 92115 apartments\n",
      "('', '', '', '', '', '')\n",
      "326 MONTGOMERY ST CHULA VISTA 91911 apartments\n",
      "('', '', '', '', '', '')\n",
      "10926 CAMINO RUIZ SAN DIEGO 92126 apartments\n",
      "('(833) 202-4981', '', '', '10802 Camino Ruiz', 'San Diego', 'CA 92126')\n",
      "3254 LINCOLN ST CARLSBAD 92008 apartments\n",
      "('', '', '', '', '', '')\n",
      "301 N SANTA FE AVE VISTA 92084 apartments\n",
      "('', '', '', '', '', '')\n",
      "819 D AVE NATIONAL CITY 91950 apartments\n",
      "('(619) 773-7032', '', '', '819 D Ave', 'National City', 'CA 91950')\n",
      "9700 MAGNOLIA PARK DR SANTEE 92071 apartments\n",
      "('(619) 562-6690', '', '', '9700 Magnolia Park Dr', 'Santee', 'CA 92071')\n",
      "4222 ALABAMA ST SAN DIEGO 92104 apartments\n",
      "('', '', '', '', '', '')\n",
      "2114 ABBOTT ST SAN DIEGO 92107 apartments\n",
      "('', '', '', '', '', '')\n",
      "240 BONITA GLEN DR CHULA VISTA 91910 apartments\n",
      "('(833) 278-6946', '', '', '250 Bonita Glen Dr', 'Chula Vista', 'CA 91910')\n",
      "5485 55TH ST SAN DIEGO 92115 apartments\n",
      "('(619) 265-5968', '', '', '5485 55th St', 'San Diego', 'CA 92115')\n",
      "425 STRATFORD CT DEL MAR 92014 apartments\n",
      "('', '', '', '', '', '')\n",
      "8527 GRAVES AVE SANTEE 92071 apartments\n",
      "('', '', '', '', '', '')\n",
      "4158 GEORGIA ST SAN DIEGO 92103 apartments\n",
      "('', '', '', '', '', '')\n",
      "4328 42ND ST SAN DIEGO 92105 apartments\n",
      "('', '', '', '', '', '')\n",
      "4638 33RD ST SAN DIEGO 92116 apartments\n",
      "('', '', '', '', '', '')\n",
      "776 11TH ST IMPERIAL BEACH 91932 apartments\n",
      "('', '', '', '', '', '')\n",
      "4978 ORANGE AVE SAN DIEGO 92115 apartments\n",
      "('', '', '', '', '', '')\n",
      "9015 PROSPECT AVE SANTEE 92071 apartments\n",
      "('(619) 430-4068', '', '', '9055 Prospect Ave', 'Santee', 'CA 92071')\n",
      "704 W CALIFORNIA AVE VISTA 92083 apartments\n",
      "('(760) 643-9442', '', '', '636 W California Ave', 'Vista', 'CA 92083')\n",
      "3588 1ST AVE SAN DIEGO 92103 apartments\n",
      "('', '', '', '', '', '')\n",
      "1435 IMPERIAL AVE SAN DIEGO 92101 apartments\n",
      "('(619) 241-2551', '', '', '1435 Imperial Ave', 'San Diego', 'CA 92101')\n",
      "650 VINEYARD RD SAN MARCOS 92069 apartments\n",
      "('', '', '', '', '', '')\n",
      "326 E FELICITA AVE ESCONDIDO 92025 apartments\n",
      "('', '', '', '', '', '')\n",
      "318 E FALLBROOK ST FALLBROOK 92028 apartments\n",
      "('', '', '', '', '', '')\n",
      "4465 IDAHO ST SAN DIEGO 92116 apartments\n",
      "('', '', '', '', '', '')\n",
      "7305 CENTRAL AVE LEMON GROVE 91945 apartments\n",
      "('', '', '', '', '', '')\n",
      "404  47TH ST nan 92102 apartments\n",
      "('(619) 263-5858', '', '', '402 47th St', 'San Diego', 'CA 92102')\n",
      "3866 36TH ST SAN DIEGO 92104 apartments\n",
      "('', '', '', '', '', '')\n",
      "4330 PALM AVE LA MESA 91941 apartments\n",
      "('', '', '', '', '', '')\n",
      "12133 ROCKCREST RD LAKESIDE 92040 apartments\n",
      "('(619) 443-9611', '', '', '12133 Rockcrest Rd # 61', 'Lakeside', 'CA 92040')\n",
      "1420 ALTURAS RD FALLBROOK 92028 apartments\n",
      "('', '', '', '', '', '')\n",
      "303 OLIVE ST SAN DIEGO 92103 apartments\n",
      "('', '', '', '', '', '')\n",
      "324 ROOSEVELT ST CHULA VISTA 91910 apartments\n",
      "('', '', '', '', '', '')\n",
      "0 BEYER BLVD SAN YSIDRO 92173 apartments\n",
      "('', '', '', '', '', '')\n",
      "2325 PASEO DE LAURA OCEANSIDE 92056 apartments\n",
      "('(760) 439-5728', '', '', '2325 Paseo De Laura', 'Oceanside', 'CA 92056')\n",
      "722 DIAMOND ST SAN DIEGO 92109 apartments\n",
      "('', '', '', '', '', '')\n",
      "240 LAS FLORES DR SAN MARCOS 92069 apartments\n",
      "('(760) 727-5802', '', '', '240 Las Flores Dr', 'San Marcos', 'CA 92069')\n",
      "1423 E WASHINGTON AVE EL CAJON 92019 apartments\n",
      "('(619) 447-1880', '', '', '1423 E Washington Ave', 'El Cajon', 'CA 92019')\n",
      "5945 LINDA VISTA RD nan 92110 apartments\n",
      "('(833) 568-7533', '', '', '5945 Linda Vista Rd', 'San Diego', 'CA 92110')\n",
      "397 DOMINGUEZ WAY EL CAJON 92021 apartments\n",
      "('', '', '', '', '', '')\n",
      "11268 VISTA SORRENTO PKWY SAN DIEGO 92130 apartments\n",
      "('', '', '', '', '', '')\n",
      "9322 CARLTON OAKS DR SANTEE 92071 apartments\n",
      "('', '', '', '', '', '')\n",
      "191 N MOLLISON AVE EL CAJON 92021 apartments\n",
      "('(619) 512-6471', '', '', '191 N Mollison Ave', 'El Cajon', 'CA 92021')\n",
      "521 S FREEMAN ST OCEANSIDE 92054 apartments\n",
      "('', '', '', '', '', '')\n",
      "8420 BUCKLAND ST LA MESA 91942 apartments\n",
      "('', '', '', '', '', '')\n",
      "798 MCCLURE ST EL CAJON 92021 apartments\n",
      "('', '', '', '', '', '')\n",
      "12369 LAKESHORE DR LAKESIDE 92040 apartments\n",
      "('', '', '', '', '', '')\n",
      "6480 EL CAMINO REAL CARLSBAD 92009 apartments\n",
      "('', '', '', '', '', '')\n",
      "1055 GRANJAS RD CHULA VISTA 91911 apartments\n",
      "('', '', '', '', '', '')\n",
      "4050 VAN DYKE AVE SAN DIEGO 92105 apartments\n",
      "('', '', '', '', '', '')\n",
      "320 N INDIANA AVE VISTA 92084 apartments\n",
      "('', '', '', '', '', '')\n",
      "4105 INGRAHAM ST SAN DIEGO 92109 apartments\n",
      "('', '', '', '', '', '')\n",
      "2004 D AVE NATIONAL CITY 91950 apartments\n",
      "('', '', '', '', '', '')\n",
      "2204 JULIAN AVE SAN DIEGO 92113 apartments\n",
      "('', '', '', '', '', '')\n",
      "336 CLAYDELLE AVE EL CAJON 92020 apartments\n",
      "('', '', '', '', '', '')\n",
      "4605 CAMPUS AVE SAN DIEGO 92116 apartments\n",
      "('', '', '', '', '', '')\n",
      "3203 KEARNY VILLA LN SAN DIEGO 92123 apartments\n",
      "('', '', '', '', '', '')\n",
      "7044 TAIT ST SAN DIEGO 92111 apartments\n",
      "('', '', '', '', '', '')\n",
      "220 W SAN YSIDRO BLVD SAN YSIDRO 92173 apartments\n",
      "('(619) 690-6634', '', '', '240 W San Ysidro Blvd', 'San Ysidro', 'CA 92173')\n",
      "4657 WILSON AVE SAN DIEGO 92116 apartments\n",
      "('', '', '', '', '', '')\n",
      "4541 TEXAS ST SAN DIEGO 92116 apartments\n",
      "('', '', '', '', '', '')\n",
      "4126 ILLINOIS ST SAN DIEGO 92104 apartments\n",
      "('', '', '', '', '', '')\n",
      "5035 DEL MONTE AVE SAN DIEGO 92107 apartments\n",
      "('', '', '', '', '', '')\n",
      "4116 MONROE AVE SAN DIEGO 92116 apartments\n",
      "('', '', '', '', '', '')\n",
      "11172 VISTA SORRENTO PKWY SAN DIEGO 92130 apartments\n",
      "('', '', '', '', '', '')\n",
      "2664 JEFFERSON ST CARLSBAD 92008 apartments\n",
      "('', '', '', '', '', '')\n",
      "3610 PIO PICO DR CARLSBAD 92008 apartments\n",
      "('', '', '', '', '', '')\n",
      "3838 MARLBOROUGH AVE SAN DIEGO 92105 apartments\n",
      "('', '', '', '', '', '')\n",
      "7302 GOODMAN LN LEMON GROVE 91945 apartments\n",
      "('', '', '', '', '', '')\n",
      "151 ELKWOOD AVE IMPERIAL BEACH 91932 apartments\n",
      "('', '', '', '', '', '')\n",
      "1022 PEACH AVE EL CAJON 92021 apartments\n",
      "('', '', '', '', '', '')\n",
      "729 WINDSOR CT # 1-7 VISTA 92084 apartments\n",
      "('', '', '', '', '', '')\n",
      "4169 ALABAMA ST SAN DIEGO 92104 apartments\n",
      "('', '', '', '', '', '')\n",
      "718 S MAGNOLIA AVE EL CAJON 92020 apartments\n",
      "('', '', '', '', '', '')\n",
      "5841 GULLSTRAND ST SAN DIEGO 92122 apartments\n",
      "('', '', '', '', '', '')\n",
      "2534 BROADWAY SAN DIEGO 92102 apartments\n",
      "('', '', '', '', '', '')\n",
      "222 S LINCOLN AVE EL CAJON 92020 apartments\n",
      "('', '', '', '', '', '')\n",
      "8866 DONNA JEAN LN SANTEE 92071 apartments\n",
      "('', '', '', '', '', '')\n",
      "33 WOODLAWN AVE CHULA VISTA 91910 apartments\n",
      "('', '', '', '', '', '')\n",
      "630 62ND ST SAN DIEGO 92114 apartments\n",
      "('', '', '', '', '', '')\n",
      "2621 1ST AVE SAN DIEGO 92103 apartments\n",
      "('', '', '', '', '', '')\n",
      "5133 BRIGHTON AVE SAN DIEGO 92107 apartments\n",
      "('', '', '', '', '', '')\n",
      "12664 TORREY BLUFF DR SAN DIEGO 92130 apartments\n",
      "('(858) 755-8155', '', '', '12646 Torrey Bluff Dr', 'San Diego', 'CA 92130')\n",
      "5562 LAURETTA ST SAN DIEGO 92110 apartments\n",
      "('', '', '', '', '', '')\n",
      "529 W LAUREL ST SAN DIEGO 92101 apartments\n",
      "('', '', '', '', '', '')\n",
      "1241 E MADISON AVE EL CAJON 92021 apartments\n",
      "('', '', '', '', '', '')\n",
      "4369 51ST ST SAN DIEGO 92115 apartments\n",
      "('', '', '', '', '', '')\n",
      "2038 THOMAS AVE SAN DIEGO 92109 apartments\n",
      "('', '', '', '', '', '')\n",
      "4315 51ST ST SAN DIEGO 92115 apartments\n",
      "('', '', '', '', '', '')\n",
      "502 N MYERS ST OCEANSIDE 92054 apartments\n",
      "('', '', '', '', '', '')\n",
      "3540 J ST SAN DIEGO 92102 apartments\n",
      "('', '', '', '', '', '')\n",
      "3820 GEORGIA ST SAN DIEGO 92103 apartments\n",
      "('', '', '', '', '', '')\n",
      "3560 JAMES CIR SPRING VALLEY 91977 apartments\n",
      "('', '', '', '', '', '')\n",
      "5003 IMPERIAL AVE SAN DIEGO 92113 apartments\n",
      "('', '', '', '', '', '')\n",
      "4461 49TH ST SAN DIEGO 92115 apartments\n",
      "('', '', '', '', '', '')\n",
      "215 E FELICITA AVE ESCONDIDO 92025 apartments\n",
      "('', '', '', '', '', '')\n",
      "3778 35TH ST SAN DIEGO 92104 apartments\n",
      "('', '', '', '', '', '')\n",
      "4552 POINT LOMA AVE SAN DIEGO 92107 apartments\n",
      "('', '', '', '', '', '')\n",
      "212 PALM AVE NATIONAL CITY 91950 apartments\n",
      "('', '', '', '', '', '')\n",
      "6754 GLIDDEN ST SAN DIEGO 92111 apartments\n",
      "('', '', '', '', '', '')\n",
      "1028 CESAR E CHAVEZ PKWY SAN DIEGO 92113 apartments\n",
      "('', '', '', '', '', '')\n",
      "2731 ULRIC ST SAN DIEGO 92111 apartments\n",
      "('', '', '', '', '', '')\n",
      "13312 COMMUNITY RD POWAY 92064 apartments\n",
      "('(858) 748-8730', '', '', '13312 Community Rd', 'Poway', 'CA 92064')\n",
      "2665 KREMEYER CIR CARLSBAD 92008 apartments\n",
      "('', '', '', '', '', '')\n",
      "4287 47TH ST SAN DIEGO 92115 apartments\n",
      "('', '', '', '', '', '')\n",
      "4115 41ST ST SAN DIEGO 92105 apartments\n",
      "('', '', '', '', '', '')\n",
      "325 20TH ST SAN DIEGO 92102 apartments\n",
      "('', '', '', '', '', '')\n",
      "8947 TROY ST SPRING VALLEY 91977 apartments\n",
      "('', '', '', '', '', '')\n",
      "241 W 8TH AVE ESCONDIDO 92025 apartments\n",
      "('(760) 747-8190', '', '', '326 E Felicita Ave', 'Escondido', 'CA 92025')\n",
      "5435 LAKE MURRAY BLVD UNIT 14 LA MESA 91942 apartments\n",
      "('', '', '', '', '', '')\n",
      "8655 LAKE ASHMERE DR SAN DIEGO 92119 apartments\n",
      "('(619) 775-4116', '', '', '8563 Lake Murray Blvd', 'San Diego', 'CA 92119')\n",
      "4070 UTAH ST SAN DIEGO 92104 apartments\n",
      "('', '', '', '', '', '')\n",
      "4412 EUCLID AVE SAN DIEGO 92115 apartments\n",
      "('(619) 546-4201', '', '', '4422 Euclid Ave', 'San Diego', 'CA 92115')\n",
      "789 CALLA AVE IMPERIAL BEACH 91932 apartments\n",
      "('', '', '', '', '', '')\n",
      "4965 LOGAN AVE SAN DIEGO 92113 apartments\n",
      "('(619) 266-2323', '', '', '4965 Logan Ave', 'San Diego', 'CA 92113')\n",
      "302 ISLAND AVE SAN DIEGO 92101 apartments\n",
      "('(619) 233-5638', '', '', '302 Island Ave', 'San Diego', 'CA 92101')\n",
      "129 JUPITER ST ENCINITAS 92024 apartments\n",
      "('', '', '', '', '', '')\n",
      "4088 OHIO ST SAN DIEGO 92104 apartments\n",
      "('', '', '', '', '', '')\n",
      "515 GLOVER AVE CHULA VISTA 91910 apartments\n",
      "('(619) 427-0887', '', '', '515 Glover Ave', 'Chula Vista', 'CA 91910')\n",
      "3830 ALBATROSS ST SAN DIEGO 92103 apartments\n",
      "('', '', '', '', '', '')\n",
      "4311 HAINES ST SAN DIEGO 92109 apartments\n",
      "('', '', '', '', '', '')\n",
      "4672 MISSISSIPPI ST SAN DIEGO 92116 apartments\n",
      "('', '', '', '', '', '')\n",
      "1380 HEMLOCK AVE IMPERIAL BEACH 91932 apartments\n",
      "('', '', '', '', '', '')\n",
      "4956 CAPE MAY AVE SAN DIEGO 92107 apartments\n",
      "('', '', '', '', '', '')\n",
      "177 ORLANDO ST EL CAJON 92021 apartments\n",
      "('', '', '', '', '', '')\n",
      "319 CLAYDELLE AVE EL CAJON 92020 apartments\n",
      "('', '', '', '', '', '')\n",
      "3880 SHASTA ST SAN DIEGO 92109 apartments\n",
      "('', '', '', '', '', '')\n",
      "819 EL CARMEL PL SAN DIEGO 92109 apartments\n",
      "('', '', '', '', '', '')\n",
      "1099 TURQUOISE ST SAN DIEGO 92109 apartments\n",
      "('', '', '', '', '', '')\n",
      "901 WIND DRIFT DR CARLSBAD 92011 apartments\n",
      "('', '', '', '', '', '')\n",
      "4110 36TH ST SAN DIEGO 92104 apartments\n",
      "('', '', '', '', '', '')\n",
      "372 EMERALD AVE EL CAJON 92020 apartments\n",
      "('(619) 579-7274', '', '', '372 Emerald Ave', 'El Cajon', 'CA 92020')\n",
      "294 BALLANTYNE ST EL CAJON 92020 apartments\n",
      "('', '', '', '', '', '')\n",
      "806 EL CARMEL PL SAN DIEGO 92109 apartments\n",
      "('(619) 373-1133', '', '', '701 W Beech St', 'San Diego', 'CA 92101')\n",
      "4484 FELTON ST SAN DIEGO 92116 apartments\n",
      "('', '', '', '', '', '')\n",
      "1111 D AVE NATIONAL CITY 91950 apartments\n",
      "('', '', '', '', '', '')\n",
      "1617 DIAMOND ST SAN DIEGO 92109 apartments\n",
      "('', '', '', '', '', '')\n",
      "4227 IOWA ST SAN DIEGO 92104 apartments\n",
      "('', '', '', '', '', '')\n",
      "10267 MAST BLVD SANTEE 92071 apartments\n",
      "('', '', '', '', '', '')\n",
      "2006 DIAMOND ST SAN DIEGO 92109 apartments\n",
      "('', '', '', '', '', '')\n",
      "660 N QUINCE ST ESCONDIDO 92025 apartments\n",
      "('(760) 494-9517', '', '', '660 N Quince St', 'Escondido', 'CA 92025')\n",
      "285 ELDER AVE IMPERIAL BEACH 91932 apartments\n",
      "('', '', '', '', '', '')\n",
      "610 67TH ST SAN DIEGO 92114 apartments\n",
      "('', '', '', '', '', '')\n",
      "3950 WARING RD OCEANSIDE 92056 apartments\n",
      "('(760) 726-4421', '', '', '3950 Waring Rd', 'Oceanside', 'CA 92056')\n",
      "12757 SEABREEZE FARMS DR SAN DIEGO 92130 apartments\n",
      "('(858) 523-1328', '', '', '12759 Seabreeze Farms Dr', 'San Diego', 'CA 92130')\n",
      "6241 LA JOLLA BLVD LA JOLLA 92037 apartments\n",
      "('', '', '', '', '', '')\n",
      "5255 CLAIREMONT MESA BLVD SAN DIEGO 92117 apartments\n",
      "('', '', '', '', '', '')\n",
      "4136 35TH ST SAN DIEGO 92104 apartments\n",
      "('', '', '', '', '', '')\n",
      "303 MARKET ST SAN DIEGO 92101 apartments\n",
      "('', '', '', '', '', '')\n",
      "824 CHINQUAPIN AVE CARLSBAD 92008 apartments\n",
      "('', '', '', '', '', '')\n",
      "4150 NATIONAL AVE SAN DIEGO 92113 apartments\n",
      "('', '', '', '', '', '')\n",
      "314 SHADY LN EL CAJON 92021 apartments\n",
      "('', '', '', '', '', '')\n",
      "363 VAN HOUTEN AVE EL CAJON 92020 apartments\n",
      "('', '', '', '', '', '')\n",
      "4631 KANSAS ST SAN DIEGO 92116 apartments\n",
      "('', '', '', '', '', '')\n",
      "588 ARIZONA ST CHULA VISTA 91911 apartments\n",
      "('', '', '', '', '', '')\n",
      "245 EUCLID AVE SAN DIEGO 92114 apartments\n",
      "('(619) 262-5585', '', '', '240-260 Euclid Ave', 'San Diego', 'CA 92114')\n",
      "5553 SHASTA LN LA MESA 91942 apartments\n",
      "('', '', '', '', '', '')\n",
      "851 AGATE ST SAN DIEGO 92109 apartments\n",
      "('', '', '', '', '', '')\n",
      "3661 ARIZONA ST SAN DIEGO 92104 apartments\n",
      "('', '', '', '', '', '')\n",
      "540 C ST CHULA VISTA 91910 apartments\n",
      "('', '', '', '', '', '')\n",
      "4726 30TH ST SAN DIEGO 92116 apartments\n",
      "('', '', '', '', '', '')\n",
      "4511 30TH ST SAN DIEGO 92116 apartments\n",
      "('', '', '', '', '', '')\n",
      "2052 4TH AVE SAN DIEGO 92101 apartments\n",
      "('', '', '', '', '', '')\n",
      "4437 LOUISIANA ST SAN DIEGO 92116 apartments\n",
      "('', '', '', '', '', '')\n",
      "8876 OLIVE LN SANTEE 92071 apartments\n",
      "('(619) 596-0768', '', '', '8876 Olive Ln', 'Santee', 'CA 92071')\n",
      "295 CHESTNUT AVE CARLSBAD 92008 apartments\n",
      "('(760) 720-0378', '', '', '295 Chestnut Ave #30', 'Carlsbad', 'CA 92008')\n",
      "12571 LAUREL ST LAKESIDE 92040 apartments\n",
      "('', '', '', '', '', '')\n",
      "1497 GRANITE HILLS DR EL CAJON 92019 apartments\n",
      "('', '', '', '', '', '')\n",
      "4366 ILLINOIS ST SAN DIEGO 92104 apartments\n",
      "('', '', '', '', '', '')\n",
      "361 ROOSEVELT ST CHULA VISTA 91910 apartments\n",
      "('', '', '', '', '', '')\n",
      "410 ZENITH ST CHULA VISTA 91911 apartments\n",
      "('', '', '', '', '', '')\n",
      "258 DATE AVE IMPERIAL BEACH 91932 apartments\n",
      "('', '', '', '', '', '')\n",
      "4111 30TH ST SAN DIEGO 92104 apartments\n",
      "('', '', '', '', '', '')\n",
      "584 11TH ST IMPERIAL BEACH 91932 apartments\n",
      "('', '', '', '', '', '')\n",
      "4451 QUINCE ST SAN DIEGO 92105 apartments\n",
      "('', '', '', '', '', '')\n",
      "4825 COLLEGE AVE SAN DIEGO 92115 apartments\n",
      "('', '', '', '', '', '')\n",
      "2883 BOSTON AVENUE nan 92113 apartments\n",
      "('', '', '', '', '', '')\n",
      "900 MANCHESTER ST NATIONAL CITY 91950 apartments\n",
      "('', '', '', '', '', '')\n",
      "3534 DEL REY ST SAN DIEGO 92109 apartments\n",
      "('', '', '', '', '', '')\n",
      "8032 FAIRVIEW AVE LA MESA 91941 apartments\n",
      "('', '', '', '', '', '')\n",
      "3618 5TH AVE SAN DIEGO 92103 apartments\n",
      "('', '', '', '', '', '')\n",
      "4583 36TH ST SAN DIEGO 92116 apartments\n",
      "('', '', '', '', '', '')\n",
      "6280 ACORN ST SAN DIEGO 92115 apartments\n",
      "('', '', '', '', '', '')\n",
      "302 S WILLIE JAMES JONES AVE SAN DIEGO 92113 apartments\n",
      "('', '', '', '', '', '')\n",
      "4119 FLORIDA ST SAN DIEGO 92104 apartments\n",
      "('', '', '', '', '', '')\n",
      "520 W LEXINGTON AVE EL CAJON 92020 apartments\n",
      "('', '', '', '', '', '')\n",
      "4364 HIGHLAND AVE SAN DIEGO 92115 apartments\n",
      "('', '', '', '', '', '')\n",
      "619 PALM AVE NATIONAL CITY 91950 apartments\n",
      "('', '', '', '', '', '')\n",
      "1020 ROBINSON AVE SAN DIEGO 92103 apartments\n",
      "('', '', '', '', '', '')\n",
      "4544 WINONA AVE SAN DIEGO 92115 apartments\n",
      "('', '', '', '', '', '')\n",
      "314 WILLIE JAMES JONES AVE SAN DIEGO 92102 apartments\n",
      "('', '', '', '', '', '')\n",
      "1310 N 1ST ST EL CAJON 92021 apartments\n",
      "('', '', '', '', '', '')\n",
      "3976 WARING RD OCEANSIDE 92056 apartments\n",
      "('', '', '', '', '', '')\n",
      "700 ALTA VISTA DR VISTA 92084 apartments\n",
      "('(760) 726-5544', '', '', '700 Alta Vista Dr', 'Vista', 'CA 92084')\n",
      "3073 MEADE AVE SAN DIEGO 92116 apartments\n",
      "('', '', '', '', '', '')\n",
      "5812 KANTOR ST SAN DIEGO 92122 apartments\n",
      "('', '', '', '', '', '')\n",
      "347 ROOSEVELT ST CHULA VISTA 91910 apartments\n",
      "('', '', '', '', '', '')\n",
      "3525 PARK BLVD SAN DIEGO 92103 apartments\n",
      "('', '', '', '', '', '')\n",
      "740 WASHINGTON HEIGHTS RD EL CAJON 92019 apartments\n",
      "('(619) 579-5620', '', '', '740 Washington Heights Rd', 'El Cajon', 'CA 92019')\n",
      "340 W UNIVERSITY AVE SAN DIEGO 92103 apartments\n",
      "('', '', '', '', '', '')\n",
      "3083 45TH ST SAN DIEGO 92105 apartments\n",
      "('', '', '', '', '', '')\n",
      "3737 3RD AVE SAN DIEGO 92103 apartments\n",
      "('(619) 298-5041', '', '', '3737 Third Ave', 'San Diego', 'CA 92103')\n",
      "4155 GEORGIA ST SAN DIEGO 92103 apartments\n",
      "('', '', '', '', '', '')\n",
      "632 DIAMOND ST SAN DIEGO 92109 apartments\n",
      "('', '', '', '', '', '')\n",
      "9735 DALE AVE SPRING VALLEY 91977 apartments\n",
      "('', '', '', '', '', '')\n",
      "8707 TROY ST SPRING VALLEY 91977 apartments\n",
      "('(619) 667-1016', '', '', '8707 Troy St', 'Spring Valley', 'CA 91977')\n",
      "4465 ALTADENA AVE SAN DIEGO 92115 apartments\n",
      "('', '', '', '', '', '')\n",
      "1221 IRIS AVE IMPERIAL BEACH 91932 apartments\n",
      "('', '', '', '', '', '')\n",
      "424 G ST CHULA VISTA 91910 apartments\n",
      "('', '', '', '', '', '')\n",
      "4911 W POINT LOMA BLVD SAN DIEGO 92107 apartments\n",
      "('', '', '', '', '', '')\n",
      "3749 4TH AVE SAN DIEGO 92103 apartments\n",
      "('', '', '', '', '', '')\n",
      "3029 QUINCE ST SAN DIEGO 92104 apartments\n",
      "('', '', '', '', '', '')\n",
      "5170 GROVELAND DR SAN DIEGO 92114 apartments\n",
      "('', '', '', '', '', '')\n",
      "924 MAIN ST RAMONA 92065 apartments\n",
      "('', '', '', '', '', '')\n",
      "3440 FLORIDA ST SAN DIEGO 92104 apartments\n",
      "('', '', '', '', '', '')\n",
      "4530 HAINES ST SAN DIEGO 92109 apartments\n",
      "('', '', '', '', '', '')\n",
      "2985 BAYSIDE LN SAN DIEGO 92109 apartments\n",
      "('', '', '', '', '', '')\n",
      "2666 A ST SAN DIEGO 92102 apartments\n",
      "('', '', '', '', '', '')\n",
      "4328 48TH ST SAN DIEGO 92115 apartments\n",
      "('', '', '', '', '', '')\n",
      "1642 C AVE NATIONAL CITY 91950 apartments\n",
      "('', '', '', '', '', '')\n",
      "3295 IMPERIAL AVE SAN DIEGO 92102 apartments\n",
      "('', '', '', '', '', '')\n",
      "570 E MISSION AVE ESCONDIDO 92025 apartments\n",
      "('', '', '', '', '', '')\n",
      "8546 GRAHAM TER SANTEE 92071 apartments\n",
      "('', '', '', '', '', '')\n",
      "1060 MEADOW LAKE DR VISTA 92084 apartments\n",
      "('', '', '', '', '', '')\n",
      "250 E 5TH AVE ESCONDIDO 92025 apartments\n",
      "('', '', '', '', '', '')\n",
      "201 WILLIE JAMES JONES AVE SAN DIEGO 92102 apartments\n",
      "('(619) 381-8900', '', '', '201 S Willie James Jones Ave # 1', 'San Diego', 'CA 92102')\n",
      "5005 DIANE AVE SAN DIEGO 92117 apartments\n",
      "('(858) 277-8768', '', '', '5005 Diane Ave', 'San Diego', 'CA 92117')\n",
      "2470 C ST SAN DIEGO 92102 apartments\n",
      "('(619) 238-0942', '', '', '2470 C St', 'San Diego', 'CA 92102')\n",
      "2279 ULRIC ST SAN DIEGO 92111 apartments\n",
      "('', '', '', '', '', '')\n",
      "3959 ILLINOIS ST SAN DIEGO 92104 apartments\n",
      "('', '', '', '', '', '')\n",
      "5565 LAKE MURRAY BLVD LA MESA 91942 apartments\n",
      "('(619) 828-1188', '', '', '5565 Lake Murray Blvd', 'La Mesa', 'CA 91942')\n",
      "4354 UTAH ST SAN DIEGO 92104 apartments\n",
      "('', '', '', '', '', '')\n",
      "1335 MONTE MAR RD VISTA 92084 apartments\n",
      "('', '', '', '', '', '')\n",
      "863 SAPPHIRE ST SAN DIEGO 92109 apartments\n",
      "('', '', '', '', '', '')\n",
      "1402 GRAND AVE SAN DIEGO 92109 apartments\n",
      "('', '', '', '', '', '')\n",
      "4080 GEORGIA ST SAN DIEGO 92103 apartments\n",
      "('', '', '', '', '', '')\n",
      "1440 MADISON AVE SAN DIEGO 92116 apartments\n",
      "('', '', '', '', '', '')\n",
      "1141 N ESCONDIDO BLVD ESCONDIDO 92026 apartments\n",
      "('', '', '', '', '', '')\n",
      "4349 49TH ST SAN DIEGO 92115 apartments\n",
      "('', '', '', '', '', '')\n",
      "4446 KANSAS ST SAN DIEGO 92116 apartments\n",
      "('', '', '', '', '', '')\n",
      "618 E 18TH ST NATIONAL CITY 91950 apartments\n",
      "('', '', '', '', '', '')\n",
      "4232 46TH ST SAN DIEGO 92115 apartments\n",
      "('', '', '', '', '', '')\n",
      "2449 E ST SAN DIEGO 92102 apartments\n",
      "('', '', '', '', '', '')\n",
      "4772 34TH ST SAN DIEGO 92116 apartments\n",
      "('', '', '', '', '', '')\n",
      "690 S LINCOLN AVE EL CAJON 92020 apartments\n",
      "('(619) 579-1980', '', '', '690 S Lincoln Ave', 'El Cajon', 'CA 92020')\n",
      "3719 VILLA TER SAN DIEGO 92104 apartments\n",
      "('', '', '', '', '', '')\n",
      "3869 47TH ST SAN DIEGO 92105 apartments\n",
      "('', '', '', '', '', '')\n",
      "3513 1ST AVE SAN DIEGO 92103 apartments\n",
      "('', '', '', '', '', '')\n",
      "360 W SAN MARCOS BLVD SAN MARCOS 92069 apartments\n",
      "('', '', '', '', '', '')\n",
      "4295 VOLTAIRE ST SAN DIEGO 92107 apartments\n",
      "('(619) 224-8779', '', '', '4295 Voltaire St #12', 'San Diego', 'CA 92107')\n",
      "160 CAMINO CORTO VISTA 92083 apartments\n",
      "('', '', '', '', '', '')\n",
      "960 COLEEN CT EL CAJON 92021 apartments\n",
      "('', '', '', '', '', '')\n",
      "1829 K AVE NATIONAL CITY 91950 apartments\n",
      "('', '', '', '', '', '')\n",
      "3145 WEBSTER AVE SAN DIEGO 92113 apartments\n",
      "('', '', '', '', '', '')\n",
      "417 CLAYDELLE AVE EL CAJON 92020 apartments\n",
      "('', '', '', '', '', '')\n",
      "2138 BALBOA AVE SAN DIEGO 92109 apartments\n",
      "('', '', '', '', '', '')\n",
      "560 COPPER DR VISTA 92083 apartments\n",
      "('', '', '', '', '', '')\n",
      "1301 MORNING VIEW DR ESCONDIDO 92026 apartments\n",
      "('(760) 735-5140', '', '', '1301 Morning View Dr', 'Escondido', 'CA 92026')\n",
      "3372 POLK AVE SAN DIEGO 92104 apartments\n",
      "('', '', '', '', '', '')\n",
      "4060 MARLBOROUGH AVE SAN DIEGO 92105 apartments\n",
      "('', '', '', '', '', '')\n",
      "1244 OLIVER AVE SAN DIEGO 92109 apartments\n",
      "('', '', '', '', '', '')\n",
      "2151 AVENIDA DE LA RIBERA LA JOLLA 92037 apartments\n",
      "('', '', '', '', '', '')\n",
      "2502 B ST SAN DIEGO 92102 apartments\n",
      "('', '', '', '', '', '')\n",
      "2052 SAN DIEGO AVE SAN DIEGO 92110 apartments\n",
      "('', '', '', '', '', '')\n",
      "1488 REED AVE SAN DIEGO 92109 apartments\n",
      "('', '', '', '', '', '')\n",
      "6778 BEADNELL WAY SAN DIEGO 92117 apartments\n",
      "('(858) 278-2149', '', '', '6778 Beadnell Way # 2', 'San Diego', 'CA 92117')\n",
      "4968 LONG BRANCH AVE SAN DIEGO 92107 apartments\n",
      "('', '', '', '', '', '')\n",
      "316 HART DR EL CAJON 92021 apartments\n",
      "('(619) 639-9502', '', '', '1237 Graves Ave', 'El Cajon', 'CA 92021')\n",
      "2059 SAN DIEGO AVE SAN DIEGO 92110 apartments\n",
      "('', '', '', '', '', '')\n",
      "1905 J AVE NATIONAL CITY 91950 apartments\n",
      "('', '', '', '', '', '')\n",
      "5012 SANTA MONICA AVE SAN DIEGO 92107 apartments\n",
      "('', '', '', '', '', '')\n",
      "734 SAPPHIRE ST SAN DIEGO 92109 apartments\n",
      "('', '', '', '', '', '')\n",
      "7670 LA JOLLA BLVD LA JOLLA 92037 apartments\n",
      "('', '', '', '', '', '')\n",
      "745 ALTURAS LN FALLBROOK 92028 apartments\n",
      "('(760) 451-1518', '', '', '745 Alturas Ln # 17', 'Fallbrook', 'CA 92028')\n",
      "1944 1ST AVE SAN DIEGO 92101 apartments\n",
      "('', '', '', '', '', '')\n",
      "815 SPORTFISHER DR OCEANSIDE 92054 apartments\n",
      "('', '', '', '', '', '')\n",
      "733 KLINE ST LA JOLLA 92037 apartments\n",
      "('(858) 459-6531', '', '', '733 Kline St', 'La Jolla', 'CA 92037')\n",
      "3940 IDAHO ST SAN DIEGO 92104 apartments\n",
      "('', '', '', '', '', '')\n",
      "4109 INGRAHAM ST SAN DIEGO 92109 apartments\n",
      "('', '', '', '', '', '')\n",
      "4960 CLAIREMONT MESA BLVD SAN DIEGO 92117 apartments\n",
      "('', '', '', '', '', '')\n",
      "6212 BEADNELL WAY SAN DIEGO 92117 apartments\n",
      "('', '', '', '', '', '')\n",
      "4474 41ST ST SAN DIEGO 92116 apartments\n",
      "('', '', '', '', '', '')\n",
      "4177 ILLINOIS ST SAN DIEGO 92104 apartments\n",
      "('', '', '', '', '', '')\n",
      "4148 VAN DYKE AVE SAN DIEGO 92105 apartments\n",
      "('', '', '', '', '', '')\n",
      "928 REED AVE SAN DIEGO 92109 apartments\n",
      "('', '', '', '', '', '')\n",
      "7033 BOULEVARD DR LA MESA 91941 apartments\n",
      "('', '', '', '', '', '')\n",
      "200 TAFT AVE EL CAJON 92020 apartments\n",
      "('', '', '', '', '', '')\n",
      "1019 AGATE ST SAN DIEGO 92109 apartments\n",
      "('', '', '', '', '', '')\n",
      "1596 CORONADO AVE SAN DIEGO 92154 apartments\n",
      "('', '', '', '', '', '')\n",
      "2065 REED AVE SAN DIEGO 92109 apartments\n",
      "('', '', '', '', '', '')\n",
      "4747 67TH ST SAN DIEGO 92115 apartments\n",
      "('', '', '', '', '', '')\n",
      "3959 HAMILTON ST SAN DIEGO 92104 apartments\n",
      "('', '', '', '', '', '')\n",
      "637 10TH ST IMPERIAL BEACH 91932 apartments\n",
      "('', '', '', '', '', '')\n",
      "6932 FULTON ST SAN DIEGO 92111 apartments\n",
      "('', '', '', '', '', '')\n",
      "4307 51ST ST SAN DIEGO 92115 apartments\n",
      "('', '', '', '', '', '')\n",
      "4022 ALBATROSS ST SAN DIEGO 92103 apartments\n",
      "('', '', '', '', '', '')\n",
      "260 W CYPRESS AVE EL CAJON 92020 apartments\n",
      "('(619) 588-1865', '', '', '260 W Cypress Ave # 1', 'El Cajon', 'CA 92020')\n",
      "2916 WORDEN ST SAN DIEGO 92110 apartments\n",
      "('', '', '', '', '', '')\n",
      "4109 WINONA AVE SAN DIEGO 92105 apartments\n",
      "('', '', '', '', '', '')\n",
      "404 I AVE NATIONAL CITY 91950 apartments\n",
      "('', '', '', '', '', '')\n",
      "2429 J ST SAN DIEGO 92102 apartments\n",
      "('', '', '', '', '', '')\n",
      "4025 WILSON AVE SAN DIEGO 92104 apartments\n",
      "('', '', '', '', '', '')\n",
      "4120 ESTRELLA AVE SAN DIEGO 92105 apartments\n",
      "('', '', '', '', '', '')\n",
      "4265 ALTADENA AVE SAN DIEGO 92115 apartments\n",
      "('', '', '', '', '', '')\n",
      "222 G ST CHULA VISTA 91910 apartments\n",
      "('', '', '', '', '', '')\n",
      "340 5TH AVE CHULA VISTA 91910 apartments\n",
      "('(619) 420-9452', '', '', '364 5th Ave', 'Chula Vista', 'CA 91910')\n",
      "1044 SAPPHIRE ST SAN DIEGO 92109 apartments\n",
      "('', '', '', '', '', '')\n",
      "7229 HAMLET AVE SAN DIEGO 92120 apartments\n",
      "('', '', '', '', '', '')\n",
      "223 S CLEMENTINE ST OCEANSIDE 92054 apartments\n",
      "('', '', '', '', '', '')\n",
      "4457 TEMECULA ST SAN DIEGO 92107 apartments\n",
      "('', '', '', '', '', '')\n",
      "3834 EDNA PL SAN DIEGO 92116 apartments\n",
      "('', '', '', '', '', '')\n",
      "4145 HIGHLAND AVE SAN DIEGO 92105 apartments\n",
      "('', '', '', '', '', '')\n",
      "902 REED AVE SAN DIEGO 92109 apartments\n",
      "('', '', '', '', '', '')\n",
      "5074 SANTA MONICA AVE SAN DIEGO 92107 apartments\n",
      "('', '', '', '', '', '')\n",
      "4479-4481 ALTADENA AVENUE nan 92115 apartments\n",
      "('', '', '', '', '', '')\n",
      "7350 LA MESITA PL LA MESA 91942 apartments\n",
      "('', '', '', '', '', '')\n",
      "4345 MCCLINTOCK ST SAN DIEGO 92105 apartments\n",
      "('', '', '', '', '', '')\n",
      "4220 ARAGON DR SAN DIEGO 92115 apartments\n",
      "('', '', '', '', '', '')\n",
      "3520 1ST AVE SAN DIEGO 92103 apartments\n",
      "('', '', '', '', '', '')\n",
      "3738 HERMAN AVE SAN DIEGO 92104 apartments\n",
      "('', '', '', '', '', '')\n",
      "4759 67TH ST SAN DIEGO 92115 apartments\n",
      "('', '', '', '', '', '')\n",
      "1225 GRAND AVE SAN DIEGO 92109 apartments\n",
      "('', '', '', '', '', '')\n",
      "3157 BANCROFT DR SPRING VALLEY 91977 apartments\n",
      "('', '', '', '', '', '')\n",
      "225 PALOMAR ST CHULA VISTA 91911 apartments\n",
      "('(619) 425-1733', '', '', '225 Palomar St #14', 'Chula Vista', 'CA 91911')\n",
      "302 S WEITZEL ST OCEANSIDE 92054 apartments\n",
      "('', '', '', '', '', '')\n",
      "3706 KING ST LA MESA 91941 apartments\n",
      "('', '', '', '', '', '')\n",
      "3752 NILE ST SAN DIEGO 92104 apartments\n",
      "('', '', '', '', '', '')\n",
      "2924 KALMIA ST SAN DIEGO 92104 apartments\n",
      "('', '', '', '', '', '')\n",
      "4370 KANSAS ST SAN DIEGO 92104 apartments\n",
      "('', '', '', '', '', '')\n",
      "4944 NARRAGANSETT AVE SAN DIEGO 92107 apartments\n",
      "('', '', '', '', '', '')\n",
      "1000 2ND ST CORONADO 92118 apartments\n",
      "('', '', '', '', '', '')\n",
      "4160 32ND ST SAN DIEGO 92104 apartments\n",
      "('', '', '', '', '', '')\n",
      "5030 LOTUS ST SAN DIEGO 92107 apartments\n",
      "('(619) 224-0759', '', '', '5030 Lotus St # 37', 'San Diego', 'CA 92107')\n",
      "1188 N CUYAMACA ST EL CAJON 92020 apartments\n",
      "('(619) 448-4880', '', '', '1100 Cuyamaca St', 'El Cajon', 'CA 92020')\n",
      "3752 33RD ST SAN DIEGO 92104 apartments\n",
      "('', '', '', '', '', '')\n",
      "5051 MARLBOROUGH DR SAN DIEGO 92116 apartments\n",
      "('', '', '', '', '', '')\n",
      "3717 N 69TH ST SAN DIEGO 92115 apartments\n",
      "('(619) 583-7512', '', '', '4333 Dawson Ave', 'San Diego', 'CA 92115')\n",
      "4057 37TH ST SAN DIEGO 92105 apartments\n",
      "('(858) 967-7330', '', '', '4057 37th St', 'San Diego', 'CA 92105')\n",
      "4074 FLORIDA ST SAN DIEGO 92104 apartments\n",
      "('', '', '', '', '', '')\n",
      "4550 LOUISIANA ST SAN DIEGO 92116 apartments\n",
      "('', '', '', '', '', '')\n",
      "4553 TEXAS ST SAN DIEGO 92116 apartments\n",
      "('', '', '', '', '', '')\n",
      "429 PALM AVE IMPERIAL BEACH 91932 apartments\n",
      "('', '', '', '', '', '')\n",
      "2166 GRAND AVE SAN DIEGO 92109 apartments\n",
      "('', '', '', '', '', '')\n",
      "39 OAKLAWN AVE CHULA VISTA 91910 apartments\n",
      "('', '', '', '', '', '')\n",
      "475 CHESTNUT AVE CARLSBAD 92008 apartments\n",
      "('', '', '', '', '', '')\n",
      "3914 CENTRE ST SAN DIEGO 92103 apartments\n",
      "('', '', '', '', '', '')\n",
      "302 AVALON DR VISTA 92084 apartments\n",
      "('(760) 292-2245', '', '', '701 Breeze Hill Rd', 'Vista', 'CA 92081')\n",
      "3509 PARK BLVD SAN DIEGO 92103 apartments\n",
      "('', '', '', '', '', '')\n",
      "4902 67TH ST SAN DIEGO 92115 apartments\n",
      "('', '', '', '', '', '')\n",
      "2216 ALBATROSS ST SAN DIEGO 92101 apartments\n",
      "('', '', '', '', '', '')\n",
      "6130 ACORN ST SAN DIEGO 92115 apartments\n",
      "('', '', '', '', '', '')\n",
      "1016 PEACH AVE EL CAJON 92021 apartments\n",
      "('', '', '', '', '', '')\n",
      "1950 6TH AVE SAN DIEGO 92101 apartments\n",
      "('', '', '', '', '', '')\n",
      "955 3RD ST ENCINITAS 92024 apartments\n",
      "('(858) 437-7202', '', '', '810 3rd St', 'Encinitas', 'CA 92024')\n",
      "1575 TANGLEWOOD LN ESCONDIDO 92029 apartments\n",
      "('(442) 777-6410', '', '', '910 Del Dios Rd', 'Escondido', 'CA 92029')\n",
      "3034 CANON ST SAN DIEGO 92106 apartments\n",
      "('', '', '', '', '', '')\n",
      "345 DEL MAR AVE CHULA VISTA 91910 apartments\n",
      "('', '', '', '', '', '')\n",
      "2814 30TH ST SAN DIEGO 92104 apartments\n",
      "('', '', '', '', '', '')\n",
      "140 4TH ST DEL MAR 92014 apartments\n",
      "('', '', '', '', '', '')\n",
      "4258 ALTADENA AVE SAN DIEGO 92115 apartments\n",
      "('', '', '', '', '', '')\n",
      "3677 PARK BLVD SAN DIEGO 92103 apartments\n",
      "('', '', '', '', '', '')\n",
      "725 OLD STAGE RD FALLBROOK 92028 apartments\n",
      "('', '', '', '', '', '')\n",
      "525 28TH ST SAN DIEGO 92102 apartments\n",
      "('', '', '', '', '', '')\n",
      "525 ORANGE AVE CORONADO 92118 apartments\n",
      "('', '', '', '', '', '')\n",
      "7038 EASTMAN ST SAN DIEGO 92111 apartments\n",
      "('', '', '', '', '', '')\n",
      "7004 EASTMAN ST SAN DIEGO 92111 apartments\n",
      "('(858) 278-3610', '', '', '6948 Eastman St', 'San Diego', 'CA 92111')\n",
      "230 S WEITZEL ST OCEANSIDE 92054 apartments\n",
      "('', '', '', '', '', '')\n",
      "1020 E 6TH ST NATIONAL CITY 91950 apartments\n",
      "('', '', '', '', '', '')\n",
      "638 12TH ST IMPERIAL BEACH 91932 apartments\n",
      "('', '', '', '', '', '')\n",
      "8115 EL PASEO GRANDE LA JOLLA 92037 apartments\n",
      "('(858) 458-0078', '', '', '8115 El Paseo Grande', 'La Jolla', 'CA 92037')\n",
      "5270 CLAIREMONT MESA BLVD SAN DIEGO 92117 apartments\n",
      "('', '', '', '', '', '')\n",
      "1747 CHALCEDONY ST SAN DIEGO 92109 apartments\n",
      "('', '', '', '', '', '')\n",
      "5090 COLLEGE AVE SAN DIEGO 92115 apartments\n",
      "('', '', '', '', '', '')\n",
      "1438 E 8TH ST NATIONAL CITY 91950 apartments\n",
      "('', '', '', '', '', '')\n",
      "3228 BERGER AVE SAN DIEGO 92123 apartments\n",
      "('', '', '', '', '', '')\n",
      "109 S HORNE ST OCEANSIDE 92054 apartments\n",
      "('', '', '', '', '', '')\n",
      "711 61ST ST SAN DIEGO 92114 apartments\n",
      "('', '', '', '', '', '')\n",
      "3744 BANCROFT ST SAN DIEGO 92104 apartments\n",
      "('', '', '', '', '', '')\n",
      "3775 50TH ST SAN DIEGO 92105 apartments\n",
      "('', '', '', '', '', '')\n",
      "3777 46TH ST SAN DIEGO 92105 apartments\n",
      "('', '', '', '', '', '')\n",
      "337 BROOKS ST OCEANSIDE 92054 apartments\n",
      "('', '', '', '', '', '')\n",
      "346 S MOLLISON AVE EL CAJON 92020 apartments\n",
      "('(619) 579-1816', '', '', '346 S Mollison Ave', 'El Cajon', 'CA 92020')\n",
      "166 S LINCOLN AVE EL CAJON 92020 apartments\n",
      "('', '', '', '', '', '')\n",
      "509 CASSIDY ST OCEANSIDE 92054 apartments\n",
      "('', '', '', '', '', '')\n",
      "4129 WARING RD OCEANSIDE 92056 apartments\n",
      "('', '', '', '', '', '')\n",
      "830 E WASHINGTON AVE ESCONDIDO 92025 apartments\n",
      "('', '', '', '', '', '')\n",
      "347 HAWTHORN ST SAN DIEGO 92101 apartments\n",
      "('', '', '', '', '', '')\n",
      "860 GRAND AVE SPRING VALLEY 91977 apartments\n",
      "('(619) 551-2214', '', '', '860 Grand Ave', 'Spring Valley', 'CA 91977')\n",
      "4366 UTAH ST SAN DIEGO 92104 apartments\n",
      "('', '', '', '', '', '')\n",
      "5137 GROVELAND DR SAN DIEGO 92114 apartments\n",
      "('', '', '', '', '', '')\n",
      "5025 CAPE MAY AVE SAN DIEGO 92107 apartments\n",
      "('', '', '', '', '', '')\n",
      "3820 8TH AVE SAN DIEGO 92103 apartments\n",
      "('', '', '', '', '', '')\n",
      "330 WEST ST OCEANSIDE 92054 apartments\n",
      "('(760) 966-0274', '', '', '330 West St #1', 'Oceanside', 'CA 92054')\n",
      "495 ASTER ST ESCONDIDO 92027 apartments\n",
      "('', '', '', '', '', '')\n",
      "4150 36TH ST SAN DIEGO 92104 apartments\n",
      "('', '', '', '', '', '')\n",
      "3786 SUNSET LN SAN YSIDRO 92173 apartments\n",
      "('', '', '', '', '', '')\n",
      "4457 48TH ST SAN DIEGO 92115 apartments\n",
      "('', '', '', '', '', '')\n",
      "5510 DREAM ST SAN DIEGO 92114 apartments\n",
      "('', '', '', '', '', '')\n",
      "3734 VILLA TER SAN DIEGO 92104 apartments\n",
      "('', '', '', '', '', '')\n",
      "4620 WILSON AVE SAN DIEGO 92116 apartments\n",
      "('', '', '', '', '', '')\n",
      "475 E ST CHULA VISTA 91910 apartments\n",
      "('', '', '', '', '', '')\n",
      "3280 REYNARD WAY SAN DIEGO 92103 apartments\n",
      "('', '', '', '', '', '')\n",
      "2120 SAIPAN DR SAN DIEGO 92139 apartments\n",
      "('', '', '', '', '', '')\n",
      "4178 KANSAS ST SAN DIEGO 92104 apartments\n",
      "('', '', '', '', '', '')\n",
      "4525 RAINIER AVE SAN DIEGO 92120 apartments\n",
      "('', '', '', '', '', '')\n",
      "201 WISCONSIN AVE OCEANSIDE 92054 apartments\n",
      "('', '', '', '', '', '')\n",
      "2934 JUNIPER ST SAN DIEGO 92104 apartments\n",
      "('', '', '', '', '', '')\n",
      "4068 44TH ST SAN DIEGO 92105 apartments\n",
      "('', '', '', '', '', '')\n",
      "4227 43RD ST SAN DIEGO 92105 apartments\n",
      "('', '', '', '', '', '')\n",
      "1755 2ND AVE SAN DIEGO 92101 apartments\n",
      "('', '', '', '', '', '')\n",
      "1665 9TH AVE SAN DIEGO 92101 apartments\n",
      "('', '', '', '', '', '')\n",
      "4625 62ND ST SAN DIEGO 92115 apartments\n",
      "('', '', '', '', '', '')\n",
      "868 G AVE CORONADO 92118 apartments\n",
      "('', '', '', '', '', '')\n",
      "771 10TH ST IMPERIAL BEACH 91932 apartments\n",
      "('', '', '', '', '', '')\n",
      "5065 W POINT LOMA BLVD SAN DIEGO 92107 apartments\n",
      "('', '', '', '', '', '')\n",
      "4104 48TH ST SAN DIEGO 92105 apartments\n",
      "('', '', '', '', '', '')\n",
      "4442 ROSEBUD LN LA MESA 91941 apartments\n",
      "('', '', '', '', '', '')\n",
      "445 W UNIVERSITY AVE SAN DIEGO 92103 apartments\n",
      "('', '', '', '', '', '')\n",
      "382 ZENITH ST CHULA VISTA 91911 apartments\n",
      "('', '', '', '', '', '')\n",
      "555 ROOSEVELT ST CHULA VISTA 91910 apartments\n",
      "('', '', '', '', '', '')\n",
      "3680 PARK BLVD SAN DIEGO 92103 apartments\n",
      "('', '', '', '', '', '')\n",
      "4119 CENTRAL AVE SAN DIEGO 92105 apartments\n",
      "('', '', '', '', '', '')\n",
      "4115 INGRAHAM ST SAN DIEGO 92109 apartments\n",
      "('', '', '', '', '', '')\n",
      "703 WINDSOR CT VISTA 92084 apartments\n",
      "('', '', '', '', '', '')\n",
      "5679 MONTEZUMA RD SAN DIEGO 92115 apartments\n",
      "('', '', '', '', '', '')\n",
      "2231 BURROUGHS ST SAN DIEGO 92111 apartments\n",
      "('', '', '', '', '', '')\n",
      "4073 ALBATROSS ST SAN DIEGO 92103 apartments\n",
      "('(855) 223-4155', '', '', '4073 Albatross St', 'San Diego', 'CA 92103')\n",
      "5188 W POINT LOMA BLVD SAN DIEGO 92107 apartments\n",
      "('', '', '', '', '', '')\n",
      "520 S MOLLISON AVE EL CAJON 92020 apartments\n",
      "('', '', '', '', '', '')\n",
      "642 OCEAN LN IMPERIAL BEACH 91932 apartments\n",
      "('', '', '', '', '', '')\n",
      "9747 RIVERVIEW AVE LAKESIDE 92040 apartments\n",
      "('', '', '', '', '', '')\n",
      "421 POTTER ST FALLBROOK 92028 apartments\n",
      "('(760) 723-2604', '', '', '421 Potter St', 'Fallbrook', 'CA 92028')\n",
      "1828 MISSOURI ST SAN DIEGO 92109 apartments\n",
      "('', '', '', '', '', '')\n",
      "3911 CENTRE ST SAN DIEGO 92103 apartments\n",
      "('', '', '', '', '', '')\n",
      "5565 HARDY AVE SAN DIEGO 92115 apartments\n",
      "('', '', '', '', '', '')\n",
      "4627 33RD ST SAN DIEGO 92116 apartments\n",
      "('', '', '', '', '', '')\n",
      "6916 FULTON ST SAN DIEGO 92111 apartments\n",
      "('', '', '', '', '', '')\n",
      "3566 L ST SAN DIEGO 92102 apartments\n",
      "('', '', '', '', '', '')\n",
      "106 E 15TH AVE ESCONDIDO 92025 apartments\n",
      "('', '', '', '', '', '')\n",
      "1415 GRAND AVE SAN DIEGO 92109 apartments\n",
      "('', '', '', '', '', '')\n",
      "650 WOODWARD ST SAN MARCOS 92069 apartments\n",
      "('(760) 235-4913', '', '', '650 Woodward St', 'San Marcos', 'CA 92069')\n",
      "4349 COLLEGE AVE SAN DIEGO 92115 apartments\n",
      "('', '', '', '', '', '')\n",
      "975 S MOLLISON AVE EL CAJON 92020 apartments\n",
      "('', '', '', '', '', '')\n",
      "370 W CHASE AVE EL CAJON 92020 apartments\n",
      "('', '', '', '', '', '')\n",
      "4452 49TH ST SAN DIEGO 92115 apartments\n",
      "('', '', '', '', '', '')\n",
      "901 10TH AVE SAN DIEGO 92101 apartments\n",
      "('', '', '', '', '', '')\n",
      "114 MADISON AVE CHULA VISTA 91910 apartments\n",
      "('', '', '', '', '', '')\n",
      "355 ORLANDO ST EL CAJON 92021 apartments\n",
      "('(619) 440-4159', '', '', '355 Orlando St # 1', 'El Cajon', 'CA 92021')\n",
      "4109 KANSAS ST SAN DIEGO 92104 apartments\n",
      "('', '', '', '', '', '')\n",
      "3704 PARK BLVD SAN DIEGO 92103 apartments\n",
      "('', '', '', '', '', '')\n",
      "212 WILLIE JAMES JONES AVE SAN DIEGO 92102 apartments\n",
      "('', '', '', '', '', '')\n",
      "206 NEVADA AVE VISTA 92084 apartments\n",
      "('', '', '', '', '', '')\n",
      "441 RAVINA ST LA JOLLA 92037 apartments\n",
      "('', '', '', '', '', '')\n",
      "4370 LOUISIANA ST SAN DIEGO 92104 apartments\n",
      "('', '', '', '', '', '')\n",
      "8767 MIRA MESA BLVD SAN DIEGO 92126 apartments\n",
      "('', '', '', '', '', '')\n",
      "743 S MAGNOLIA AVE EL CAJON 92020 apartments\n",
      "('', '', '', '', '', '')\n",
      "2833 CADIZ ST SAN DIEGO 92110 apartments\n",
      "('', '', '', '', '', '')\n",
      "998 S MOLLISON AVE EL CAJON 92020 apartments\n",
      "('', '', '', '', '', '')\n",
      "3674 NILE ST SAN DIEGO 92104 apartments\n",
      "('', '', '', '', '', '')\n",
      "3724 SUNSET LN SAN YSIDRO 92173 apartments\n",
      "('', '', '', '', '', '')\n",
      "388 ZENITH ST CHULA VISTA 91911 apartments\n",
      "('', '', '', '', '', '')\n",
      "3792 FRONT ST SAN DIEGO 92103 apartments\n",
      "('', '', '', '', '', '')\n",
      "546 SEA VALE CT CHULA VISTA 91910 apartments\n",
      "('', '', '', '', '', '')\n",
      "2805 MORENA BLVD SAN DIEGO 92117 apartments\n",
      "('', '', '', '', '', '')\n",
      "143 ELKWOOD AVE IMPERIAL BEACH 91932 apartments\n",
      "('', '', '', '', '', '')\n",
      "5542 LAKE PARK WAY LA MESA 91942 apartments\n",
      "('', '', '', '', '', '')\n",
      "580 D ST CHULA VISTA 91910 apartments\n",
      "('', '', '', '', '', '')\n",
      "4832 CORONADO AVE SAN DIEGO 92107 apartments\n",
      "('', '', '', '', '', '')\n",
      "7971 LOWRY TER LA JOLLA 92037 apartments\n",
      "('', '', '', '', '', '')\n",
      "750 WHITING CT SAN DIEGO 92109 apartments\n",
      "('', '', '', '', '', '')\n",
      "3144 MADISON ST CARLSBAD 92008 apartments\n",
      "('', '', '', '', '', '')\n",
      "4434 HAMILTON ST SAN DIEGO 92116 apartments\n",
      "('', '', '', '', '', '')\n",
      "3301 CLAIREMONT DR SAN DIEGO 92117 apartments\n",
      "('', '', '', '', '', '')\n",
      "4173 OHIO ST SAN DIEGO 92104 apartments\n",
      "('', '', '', '', '', '')\n",
      "4849 SANTA CRUZ AVE SAN DIEGO 92107 apartments\n",
      "('', '', '', '', '', '')\n",
      "2451 E VISTA WAY VISTA 92084 apartments\n",
      "('', '', '', '', '', '')\n",
      "4383 IDAHO ST SAN DIEGO 92104 apartments\n",
      "('', '', '', '', '', '')\n",
      "4265 JUNIPER ST SAN DIEGO 92105 apartments\n",
      "('', '', '', '', '', '')\n",
      "3981 HAMILTON ST SAN DIEGO 92104 apartments\n",
      "('', '', '', '', '', '')\n",
      "3602 INDIANA ST SAN DIEGO 92103 apartments\n",
      "('', '', '', '', '', '')\n",
      "10301 CAMINO RUIZ SAN DIEGO 92126 apartments\n",
      "('', '', '', '', '', '')\n",
      "3970 IDAHO ST SAN DIEGO 92104 apartments\n",
      "('', '', '', '', '', '')\n",
      "4511 OREGON ST SAN DIEGO 92116 apartments\n",
      "('', '', '', '', '', '')\n",
      "1232 DIVISION ST OCEANSIDE 92054 apartments\n",
      "('', '', '', '', '', '')\n",
      "4015 HAINES ST SAN DIEGO 92109 apartments\n",
      "('', '', '', '', '', '')\n",
      "4416 ROSEBUD LN LA MESA 91941 apartments\n",
      "('', '', '', '', '', '')\n",
      "5102 MUIR AVE SAN DIEGO 92107 apartments\n",
      "('', '', '', '', '', '')\n",
      "4530 OLNEY ST SAN DIEGO 92109 apartments\n",
      "('(858) 483-3796', '', '', '1111 Hornblend St', 'San Diego', 'CA 92109')\n",
      "3717 ADAMS AVE SAN DIEGO 92116 apartments\n",
      "('', '', '', '', '', '')\n",
      "4033 FLORIDA ST SAN DIEGO 92104 apartments\n",
      "('', '', '', '', '', '')\n",
      "4931 CORONADO AVE SAN DIEGO 92107 apartments\n",
      "('', '', '', '', '', '')\n",
      "22 ALBERTA CT NATIONAL CITY 91950 apartments\n",
      "('(619) 648-5346', '', '', '45 E 12th St', 'National City', 'CA 91950')\n",
      "456 S MOLLISON AVE EL CAJON 92020 apartments\n",
      "('', '', '', '', '', '')\n",
      "3822 ALBATROSS ST SAN DIEGO 92103 apartments\n",
      "('', '', '', '', '', '')\n",
      "3136 30TH ST SAN DIEGO 92104 apartments\n",
      "('', '', '', '', '', '')\n",
      "4436 MENLO AVE SAN DIEGO 92115 apartments\n",
      "('', '', '', '', '', '')\n",
      "417 AUTUMN DR SAN MARCOS 92069 apartments\n",
      "('(760) 571-6958', '', '', '415 Autumn Dr', 'San Marcos', 'CA 92069')\n",
      "2860 POLK AVE SAN DIEGO 92104 apartments\n",
      "('', '', '', '', '', '')\n",
      "4077 HAMILTON ST SAN DIEGO 92104 apartments\n",
      "('', '', '', '', '', '')\n",
      "4676 NOYES ST SAN DIEGO 92109 apartments\n",
      "('', '', '', '', '', '')\n",
      "2556 BROADWAY SAN DIEGO 92102 apartments\n",
      "('', '', '', '', '', '')\n",
      "2402 LINCOLN AVE SAN DIEGO 92104 apartments\n",
      "('', '', '', '', '', '')\n",
      "1155 22ND ST SAN DIEGO 92102 apartments\n",
      "('', '', '', '', '', '')\n",
      "7615 BROADWAY LEMON GROVE 91945 apartments\n",
      "('', '', '', '', '', '')\n",
      "3761 36TH ST SAN DIEGO 92104 apartments\n",
      "('', '', '', '', '', '')\n",
      "710 N QUINCE ST ESCONDIDO 92025 apartments\n",
      "('', '', '', '', '', '')\n",
      "4070 32ND ST SAN DIEGO 92104 apartments\n",
      "('', '', '', '', '', '')\n",
      "8864 MIRA MESA BLVD SAN DIEGO 92126 apartments\n",
      "('', '', '', '', '', '')\n",
      "4065 43RD ST SAN DIEGO 92105 apartments\n",
      "('', '', '', '', '', '')\n",
      "4269 WILSON AVE SAN DIEGO 92104 apartments\n",
      "('', '', '', '', '', '')\n",
      "4941 LONG BRANCH AVE SAN DIEGO 92107 apartments\n",
      "('', '', '', '', '', '')\n",
      "4530 30TH ST SAN DIEGO 92116 apartments\n",
      "('', '', '', '', '', '')\n",
      "4911 NIAGARA AVE SAN DIEGO 92107 apartments\n",
      "('', '', '', '', '', '')\n",
      "7412 CENTRAL AVE LEMON GROVE 91945 apartments\n",
      "('', '', '', '', '', '')\n",
      "3686 3RD AVE SAN DIEGO 92103 apartments\n",
      "('', '', '', '', '', '')\n",
      "820 SCRANTON ST EL CAJON 92020 apartments\n",
      "('', '', '', '', '', '')\n",
      "511 S TREMONT ST OCEANSIDE 92054 apartments\n",
      "('', '', '', '', '', '')\n",
      "0 TULIP ST ESCONDIDO 92025 apartments\n",
      "('', '', '', '', '', '')\n",
      "2009 OLIVER AVE SAN DIEGO 92109 apartments\n",
      "('', '', '', '', '', '')\n",
      "4164 WABASH AVE SAN DIEGO 92104 apartments\n",
      "('', '', '', '', '', '')\n",
      "3655 6TH AVE SAN DIEGO 92103 apartments\n",
      "('', '', '', '', '', '')\n",
      "1315 S MAPLE ST ESCONDIDO 92025 apartments\n",
      "('', '', '', '', '', '')\n",
      "4055 VAN DYKE AVE SAN DIEGO 92105 apartments\n",
      "('', '', '', '', '', '')\n",
      "2950 LA COSTA AVE CARLSBAD 92009 apartments\n",
      "('', '', '', '', '', '')\n",
      "1403 S ORANGE ST ESCONDIDO 92025 apartments\n",
      "('', '', '', '', '', '')\n",
      "4235 COPELAND AVE SAN DIEGO 92105 apartments\n",
      "('', '', '', '', '', '')\n",
      "1617 SCOTT ST SAN DIEGO 92106 apartments\n",
      "('', '', '', '', '', '')\n",
      "1125 S TREMONT ST OCEANSIDE 92054 apartments\n",
      "('', '', '', '', '', '')\n",
      "4507 UTAH ST SAN DIEGO 92116 apartments\n",
      "('', '', '', '', '', '')\n",
      "861 FELSPAR ST SAN DIEGO 92109 apartments\n",
      "('', '', '', '', '', '')\n",
      "3342 IMPERIAL AVE SAN DIEGO 92102 apartments\n",
      "('', '', '', '', '', '')\n",
      "8535 MESA RD SANTEE 92071 apartments\n",
      "('', '', '', '', '', '')\n",
      "4454 CHEROKEE AVE SAN DIEGO 92116 apartments\n",
      "('', '', '', '', '', '')\n",
      "1212 PERSIMMON AVE EL CAJON 92020 apartments\n",
      "('', '', '', '', '', '')\n",
      "372 PALA VISTA DR VISTA 92083 apartments\n",
      "('', '', '', '', '', '')\n",
      "5415 LAKE MURRAY BLVD APT 5 LA MESA 91942 apartments\n",
      "('', '', '', '', '', '')\n",
      "444 BALLANTYNE ST EL CAJON 92020 apartments\n",
      "('', '', '', '', '', '')\n",
      "7528 CUVIER ST LA JOLLA 92037 apartments\n",
      "('', '', '', '', '', '')\n",
      "5433 LAKE MURRAY BLVD UNIT 5 LA MESA 91942 apartments\n",
      "('', '', '', '', '', '')\n",
      "1301 E GRAND AVE ESCONDIDO 92027 apartments\n",
      "('', '', '', '', '', '')\n",
      "1430 HOLLY AVE IMPERIAL BEACH 91932 apartments\n",
      "('', '', '', '', '', '')\n",
      "1751 UNIVERSITY AVE SAN DIEGO 92103 apartments\n",
      "('(619) 501-1641', '', '', '1751 University Ave', 'San Diego', 'CA 92103')\n",
      "1490 HEMLOCK AVE IMPERIAL BEACH 91932 apartments\n",
      "('', '', '', '', '', '')\n",
      "5433 LAKE MURRAY BLVD UNIT 1 LA MESA 91942 apartments\n",
      "('', '', '', '', '', '')\n",
      "230 GRAPEVINE RD VISTA 92083 apartments\n",
      "('', '', '', '', '', '')\n",
      "4942 SANTA CRUZ AVE SAN DIEGO 92107 apartments\n",
      "('', '', '', '', '', '')\n",
      "2208 30TH ST SAN DIEGO 92104 apartments\n",
      "('', '', '', '', '', '')\n",
      "419 W 4TH AVE ESCONDIDO 92025 apartments\n",
      "('', '', '', '', '', '')\n",
      "5437 LAKE MURRAY BLVD UNIT 6 LA MESA 91942 apartments\n",
      "('', '', '', '', '', '')\n",
      "0 F ST CHULA VISTA 91910 apartments\n",
      "('', '', '', '', '', '')\n",
      "3766 37TH ST SAN DIEGO 92105 apartments\n",
      "('', '', '', '', '', '')\n",
      "485 N ESCONDIDO BLVD ESCONDIDO 92025 apartments\n",
      "('', '', '', '', '', '')\n",
      "2787 G ST SAN DIEGO 92102 apartments\n",
      "('', '', '', '', '', '')\n",
      "3838 35TH ST SAN DIEGO 92104 apartments\n",
      "('', '', '', '', '', '')\n",
      "821 SUTTER ST SAN DIEGO 92103 apartments\n",
      "('', '', '', '', '', '')\n",
      "4351 OLIVE ST SAN DIEGO 92105 apartments\n",
      "('', '', '', '', '', '')\n",
      "3735 VILLA TER SAN DIEGO 92104 apartments\n",
      "('', '', '', '', '', '')\n",
      "4017 TEXAS ST SAN DIEGO 92104 apartments\n",
      "('', '', '', '', '', '')\n",
      "4234 EUCLID AVE SAN DIEGO 92115 apartments\n",
      "('', '', '', '', '', '')\n",
      "218 RANCHO DEL ORO DR OCEANSIDE 92057 apartments\n",
      "('', '', '', '', '', '')\n",
      "3535 VAN DYKE AVE SAN DIEGO 92105 apartments\n",
      "('', '', '', '', '', '')\n",
      "305 BONAIR ST LA JOLLA 92037 apartments\n",
      "('', '', '', '', '', '')\n",
      "4235 36TH ST SAN DIEGO 92104 apartments\n",
      "('', '', '', '', '', '')\n",
      "7517 HERSCHEL AVE LA JOLLA 92037 apartments\n",
      "('', '', '', '', '', '')\n",
      "4280 SCHOOLRIDGE LN LA MESA 91941 apartments\n",
      "('', '', '', '', '', '')\n",
      "4873 CORONADO AVE SAN DIEGO 92107 apartments\n",
      "('', '', '', '', '', '')\n",
      "5541 LINDO PASEO SAN DIEGO 92115 apartments\n",
      "('', '', '', '', '', '')\n",
      "5011 LOTUS ST SAN DIEGO 92107 apartments\n",
      "('', '', '', '', '', '')\n",
      "4647 FLORIDA ST SAN DIEGO 92116 apartments\n",
      "('', '', '', '', '', '')\n",
      "4645 32ND ST SAN DIEGO 92116 apartments\n",
      "('', '', '', '', '', '')\n",
      "2048 3RD AVE SAN DIEGO 92101 apartments\n",
      "('', '', '', '', '', '')\n",
      "119 W 5TH AVE ESCONDIDO 92025 apartments\n",
      "('', '', '', '', '', '')\n",
      "761 11TH ST IMPERIAL BEACH 91932 apartments\n",
      "('', '', '', '', '', '')\n",
      "1211 OLIVER AVE SAN DIEGO 92109 apartments\n",
      "('', '', '', '', '', '')\n",
      "4266 36TH ST SAN DIEGO 92104 apartments\n",
      "('', '', '', '', '', '')\n",
      "355 IDAHO AVE ESCONDIDO 92025 apartments\n",
      "('', '', '', '', '', '')\n",
      "900 SHORE CREST RD CARLSBAD 92011 apartments\n",
      "('', '', '', '', '', '')\n",
      "1213 BENICIA ST SAN DIEGO 92110 apartments\n",
      "('', '', '', '', '', '')\n",
      "4144 ALABAMA ST SAN DIEGO 92104 apartments\n",
      "('', '', '', '', '', '')\n",
      "4577 ACACIA AVE LA MESA 91941 apartments\n",
      "('', '', '', '', '', '')\n",
      "3966 TEAK ST SAN DIEGO 92113 apartments\n",
      "('', '', '', '', '', '')\n",
      "705 SALEM CT SAN DIEGO 92109 apartments\n",
      "('', '', '', '', '', '')\n",
      "250 E EL NORTE PKWY ESCONDIDO 92026 apartments\n",
      "('', '', '', '', '', '')\n",
      "975 DEL DIOS RD ESCONDIDO 92029 apartments\n",
      "('', '', '', '', '', '')\n",
      "================== https://www.google.com/ saved to csv file.\n"
     ]
    }
   ],
   "source": [
    "m = 'https://www.google.com/'\n",
    "\n",
    "\n",
    "link = 'https://www.google.com/search?q=7546+PARKWAY+DR+La+Mesa+apartments&rlz=1C5CHFA_enUS891US891&ei=qdBqYq-QGuirqtsPiLqliAE&ved=0ahUKEwjviLXzpbf3AhXolWoFHQhdCREQ4dUDCA4&uact=5&oq=7546+PARKWAY+DR+La+Mesa+apartments&gs_lcp=Cgdnd3Mtd2l6EAMyAggmOgoIABBHELADEMkDOggIABCSAxCwAzoHCAAQRxCwAzoFCAAQogQ6BAghEApKBQg8EgE1SgQIQRgASgQIRhgAUJONR1ij30dgketHaAVwAXgAgAF_iAGdCZIBBDAuMTCYAQCgAQKgAQHIAQrAAQE&sclient=gws-wiz'\n",
    "driver = webdriver.Chrome(ChromeDriverManager().install())\n",
    "driver.implicitly_wait(.5)\n",
    "driver.get(link)\n",
    "driver.implicitly_wait(1)\n",
    "print(f\"================== {m} start to scrape: \")\n",
    "\n",
    "for index,row in add.iterrows():\n",
    "    strt = str(row[0])\n",
    "    citi = str(row[1])\n",
    "    zipcode = str(row[2])[0:5]\n",
    "    parcel = str(row[4])\n",
    "    addr = strt + ' ' + citi + ' ' + zipcode + ' ' + 'apartments'\n",
    "    if addr not in ori_add and int(row[3]) != 13 :#Change '!= 13' to '==15' or other conditions to find different sizes of aparments\n",
    "        print(addr)\n",
    "        items = scrape_Google2(addr)\n",
    "        print(items)\n",
    "        if len(items[0]) == 0:\n",
    "            continue\n",
    "        phone.append(items[0])\n",
    "        website.append(items[1])\n",
    "        scraped_add.append(items[2])\n",
    "        ori_add2.append(addr)\n",
    "        street_add.append(items[3])\n",
    "        city.append(items[4])\n",
    "        state.append(items[5])\n",
    "        parcelno.append(parcel)\n",
    "        \n",
    "        \n",
    "    \n",
    "driver.close()\n",
    "\n",
    "\n",
    "print(f\"================== {m} saved to csv file.\")"
   ]
  },
  {
   "cell_type": "markdown",
   "id": "6d87bf30",
   "metadata": {},
   "source": [
    "### saving to csv file\n",
    "\n",
    "The two different files are generated because I changed parameters above to get different apartments addresses."
   ]
  },
  {
   "cell_type": "code",
   "execution_count": 253,
   "id": "ea6a867b",
   "metadata": {},
   "outputs": [],
   "source": [
    "df = pd.DataFrame({\"Scraped Address\": scraped_add, \"Street\": street_add, \"City\": city, \"State\":state, \"Phone Number\": phone, \"Related Websites\": website, \"Original Excel Address\": ori_add2, \"Parcel Number\": parcelno})\n",
    "\n",
    "output_dir = Path('/Users/anqibu/Downloads')\n",
    "output_dir.mkdir(parents=True, exist_ok=True)\n",
    "output_file = \"CCEContactInfo14~16-2-Google.csv\"\n",
    "df.to_csv(output_dir / output_file)"
   ]
  },
  {
   "cell_type": "code",
   "execution_count": 174,
   "id": "ddf947f6",
   "metadata": {},
   "outputs": [],
   "source": [
    "df = pd.DataFrame({\"Scraped Address\": scraped_add, \"Street\": street_add, \"Phone Number\": phone, \"Original Excel Address\": ori_add2,})\n",
    "\n",
    "output_dir = Path('/Users/anqibu/Downloads')\n",
    "output_dir.mkdir(parents=True, exist_ok=True)\n",
    "output_file = \"CCEContactInfo15-Google.csv\"\n",
    "df.to_csv(output_dir / output_file)"
   ]
  },
  {
   "cell_type": "markdown",
   "id": "b051f050",
   "metadata": {},
   "source": [
    "Test case for google.com:"
   ]
  },
  {
   "cell_type": "code",
   "execution_count": 222,
   "id": "e2701e4d",
   "metadata": {},
   "outputs": [
    {
     "name": "stderr",
     "output_type": "stream",
     "text": [
      "\n",
      "\n",
      "====== WebDriver manager ======\n",
      "Current google-chrome version is 101.0.4951\n",
      "Get LATEST chromedriver version for 101.0.4951 google-chrome\n",
      "Driver [/Users/anqibu/.wdm/drivers/chromedriver/mac64/101.0.4951.41/chromedriver] found in cache\n"
     ]
    },
    {
     "name": "stdout",
     "output_type": "stream",
     "text": [
      "339-340 Marcos St, San Marcos, CA 92069\n",
      "(760) 744-2450\n"
     ]
    }
   ],
   "source": [
    "link = 'https://www.google.com/search?q=7546+PARKWAY+DR+La+Mesa+apartments&rlz=1C5CHFA_enUS891US891&ei=qdBqYq-QGuirqtsPiLqliAE&ved=0ahUKEwjviLXzpbf3AhXolWoFHQhdCREQ4dUDCA4&uact=5&oq=7546+PARKWAY+DR+La+Mesa+apartments&gs_lcp=Cgdnd3Mtd2l6EAMyAggmOgoIABBHELADEMkDOggIABCSAxCwAzoHCAAQRxCwAzoFCAAQogQ6BAghEApKBQg8EgE1SgQIQRgASgQIRhgAUJONR1ij30dgketHaAVwAXgAgAF_iAGdCZIBBDAuMTCYAQCgAQKgAQHIAQrAAQE&sclient=gws-wiz'\n",
    "#options=webdriver.ChromeOptions()\n",
    "#options.add_argument('start-maximized')\n",
    "#chrome_options = webdriver.ChromeOptions()\n",
    "#chrome_options.add_experimental_option('useAutomationExtension', False)\n",
    "\n",
    "driver = webdriver.Chrome(ChromeDriverManager().install())\n",
    "driver.implicitly_wait(.5)\n",
    "driver.get(link)\n",
    "\n",
    "#html = driver.page_source\n",
    "driver.implicitly_wait(1)\n",
    "#soup = BeautifulSoup(html)\n",
    "\n",
    "#i = WebDriverWait(driver, 10).until(EC.element_to_be_clickable((By.XPATH, '//*[@id=\"autocomplete-search-input-website-header\"]')))\n",
    "i = driver.find_element_by_xpath('//*[@id=\"tsf\"]/div[1]/div[1]/div[2]/div/div[3]/div[1]/span[1]')\n",
    "i.click()\n",
    "\n",
    "i2 = driver.find_element_by_xpath('//*[@id=\"tsf\"]/div[1]/div[1]/div[2]/div/div[2]/input')\n",
    "\n",
    "#i2 = i.find_element_by_xpath('/html/body/frc-root/fr-header/header/div[1]/div/fr-auto-complete/div/fr-search-query/div/button')\n",
    "#driver.execute_script(\"document.getElementsByClassName('search-input no-clear-button ng-untouched ng-pristine ng-valid')[0].innerHTML = ''\")\n",
    "#i2.click()\n",
    "#print(\"Element is visible? \" + str(i2.is_displayed()))\n",
    "#print(i2.get_attribute('class'))\n",
    "#if not i2.is_displayed():\n",
    "    #driver.close()\n",
    "\n",
    "#webdriver.ActionChains(driver).move_to_element(i).perform()\n",
    "#i.clear()\n",
    "\n",
    "\n",
    "driver.implicitly_wait(1)\n",
    "i2.send_keys('339 MARCOS ST SAN MARCOS 92069 apartments')\n",
    "#i2 = driver.find_element_by_xpath('//*[@id=\"search-icon\"]')\n",
    "#i2.click()\n",
    "#i.find_element_by_class_name('clear_button').click()\n",
    "\n",
    "#inp = i.find_element_by_tag_name('input')\n",
    "#inp.send_keys('92028')\n",
    "i2.send_keys(Keys.RETURN)\n",
    "time.sleep(3)\n",
    "#dic = driver.find_element_by_xpath('//*[@id=\"Odp5De\"]/div/div/div/div[2]/div[1]/div')\n",
    "#lst = dic.find_elements_by_class_name('VkpGBb')\n",
    "\n",
    "#apt = driver.find_element_by_xpath('//*[@id=\"_1Q1rYq6tCYm2ggfD4ZrAAQ22\"]')\n",
    "\n",
    "#print(apt)\n",
    "#info = apt.find_element_by_tag_name('h3')\n",
    "#web = apt.get_attribute('href')\n",
    "#name = info.text\n",
    "#print(web)\n",
    "#print(name)\n",
    "street = driver.find_element_by_xpath('//*[@id=\"kp-wp-tab-overview\"]/div[1]/div/div/div/div/div/div[4]/div/div/div/span[2]')\n",
    "print(street.text)\n",
    "try:\n",
    "    phone = driver.find_element_by_xpath('//*[@id=\"kp-wp-tab-overview\"]/div[1]/div/div/div/div/div/div[6]/div/div/div/span[2]/span/a/span/span')\n",
    "#driver.find_element_by_xpath('//*[@id=\"resultsColumn\"]').click()\n",
    "except:\n",
    "    phone = driver.find_element_by_xpath('//*[@id=\"kp-wp-tab-overview\"]/div[1]/div/div/div/div/div/div[7]/div/div/div/span[2]/span/a/span/span')\n",
    "print(phone.text)\n",
    "\n",
    "driver.close()"
   ]
  },
  {
   "cell_type": "code",
   "execution_count": null,
   "id": "e75fc91a",
   "metadata": {},
   "outputs": [],
   "source": []
  }
 ],
 "metadata": {
  "kernelspec": {
   "display_name": "Python 3 (ipykernel)",
   "language": "python",
   "name": "python3"
  },
  "language_info": {
   "codemirror_mode": {
    "name": "ipython",
    "version": 3
   },
   "file_extension": ".py",
   "mimetype": "text/x-python",
   "name": "python",
   "nbconvert_exporter": "python",
   "pygments_lexer": "ipython3",
   "version": "3.8.3"
  }
 },
 "nbformat": 4,
 "nbformat_minor": 5
}
